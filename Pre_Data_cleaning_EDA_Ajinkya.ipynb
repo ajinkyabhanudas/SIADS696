{
  "cells": [
    {
      "cell_type": "markdown",
      "metadata": {
        "id": "view-in-github",
        "colab_type": "text"
      },
      "source": [
        "<a href=\"https://colab.research.google.com/github/ajinkyabhanudas/SIADS696/blob/dev/Pre_Data_cleaning_EDA_Ajinkya.ipynb\" target=\"_parent\"><img src=\"https://colab.research.google.com/assets/colab-badge.svg\" alt=\"Open In Colab\"/></a>"
      ]
    },
    {
      "cell_type": "code",
      "execution_count": 6,
      "metadata": {
        "id": "pWqb-vn_hFCU",
        "outputId": "1ab9a787-b152-4888-bf01-8283b378850a",
        "colab": {
          "base_uri": "https://localhost:8080/"
        }
      },
      "outputs": [
        {
          "output_type": "stream",
          "name": "stdout",
          "text": [
            "Cloning into 'SIADS696'...\n",
            "remote: Enumerating objects: 248, done.\u001b[K\n",
            "remote: Counting objects: 100% (248/248), done.\u001b[K\n",
            "remote: Compressing objects: 100% (186/186), done.\u001b[K\n",
            "remote: Total 248 (delta 128), reused 151 (delta 56), pack-reused 0\u001b[K\n",
            "Receiving objects: 100% (248/248), 13.68 MiB | 11.27 MiB/s, done.\n",
            "Resolving deltas: 100% (128/128), done.\n"
          ]
        }
      ],
      "source": [
        "!git clone https://github.com/ajinkyabhanudas/SIADS696.git"
      ]
    },
    {
      "cell_type": "code",
      "source": [
        "import glob\n",
        "import json\n",
        "import os\n",
        "import pandas as pd"
      ],
      "metadata": {
        "id": "qe2qOLWocWZz"
      },
      "execution_count": 7,
      "outputs": []
    },
    {
      "cell_type": "code",
      "source": [
        "try:\n",
        "  os.chdir('SIADS696')\n",
        "except:\n",
        "  print(\"You're either already in the SIADS696 directory, or the path specified is accessible\")"
      ],
      "metadata": {
        "id": "ZjuCnSlVckSC"
      },
      "execution_count": 8,
      "outputs": []
    },
    {
      "cell_type": "code",
      "source": [
        "rootdir = 'data'\n",
        "for path in glob.glob(f'./{rootdir}/*/*'):\n",
        "    with open(path, \"r\") as read_file:\n",
        "      data = json.load(read_file)\n",
        "      break\n"
      ],
      "metadata": {
        "id": "uyGMJYhfgqgA"
      },
      "execution_count": 11,
      "outputs": []
    },
    {
      "cell_type": "code",
      "source": [
        "data.keys()"
      ],
      "metadata": {
        "id": "Mgm4qljTiXg1",
        "outputId": "2f49bd26-ac23-48f8-cf40-646c076406d4",
        "colab": {
          "base_uri": "https://localhost:8080/"
        }
      },
      "execution_count": 12,
      "outputs": [
        {
          "output_type": "execute_result",
          "data": {
            "text/plain": [
              "dict_keys(['UCBINFWq52ShSgUFEoynfSwg'])"
            ]
          },
          "metadata": {},
          "execution_count": 12
        }
      ]
    },
    {
      "cell_type": "code",
      "source": [
        "data[\"UCBINFWq52ShSgUFEoynfSwg\"][\"channel_statistics\"]"
      ],
      "metadata": {
        "id": "Ct-VDpzKikMq",
        "outputId": "a59d2a3a-30e0-49b9-b012-0915731ee54c",
        "colab": {
          "base_uri": "https://localhost:8080/"
        }
      },
      "execution_count": 13,
      "outputs": [
        {
          "output_type": "execute_result",
          "data": {
            "text/plain": [
              "{'viewCount': '938311055',\n",
              " 'subscriberCount': '6020000',\n",
              " 'hiddenSubscriberCount': False,\n",
              " 'videoCount': '1538'}"
            ]
          },
          "metadata": {},
          "execution_count": 13
        }
      ]
    },
    {
      "cell_type": "code",
      "source": [
        "data[\"UCBINFWq52ShSgUFEoynfSwg\"][\"video_data\"][\"9ic_rUvWHc4\"].keys()"
      ],
      "metadata": {
        "id": "kLCJeZrCm2Zb",
        "outputId": "5a6e497e-49c1-478c-cf3a-2c368ad79c61",
        "colab": {
          "base_uri": "https://localhost:8080/"
        }
      },
      "execution_count": 15,
      "outputs": [
        {
          "output_type": "execute_result",
          "data": {
            "text/plain": [
              "dict_keys(['publishedAt', 'title', 'channelId', 'description', 'thumbnails', 'channelTitle', 'tags', 'categoryId', 'liveBroadcastContent', 'localized', 'defaultAudioLanguage', 'viewCount', 'likeCount', 'favoriteCount', 'commentCount', 'duration', 'dimension', 'definition', 'caption', 'licensedContent', 'contentRating', 'projection', 'topicCategories'])"
            ]
          },
          "metadata": {},
          "execution_count": 15
        }
      ]
    },
    {
      "cell_type": "markdown",
      "source": [
        "Reasons for direct elimination of the following properties:\n",
        "- channelId, channelTitle: might be a point of data leakage that leads to overfitting.\n",
        "- thumbnails: we're not working on image data and will hence disregard these values.\n",
        "- defaultAudioLanguage: we've restricted the data to be english only.\n",
        "\n",
        "Post visual inspection elimination:\n",
        "- dimension: we have no working theory on how to leverage this property (example '2d') as a feature in our model.\n",
        "- liveBroadcastContent: we're looking for a view count independent of this state. This is because, consideration of this property would lead to an imbalance in the live videos available.\n",
        "- localized: seems to have a dictionary of details like description again.\n",
        "\n",
        "Need further review:\n",
        "- definition: we'd have to inspect to see if a video not having the possibility of \"hd\" can have a strong impact on its views. correlation might be a good point to start.\n",
        "- tags: might not be useful if, they have markers in them that indicate the channel name, it is likely to throw a model off."
      ],
      "metadata": {
        "id": "POUHjxQxrBAj"
      }
    },
    {
      "cell_type": "code",
      "source": [
        "explore_cats = [\"dimension\", \"liveBroadcastContent\", \"localized\", \"title\", \"description\", \"tags\", \"categoryId\",  \"viewCount\", \n",
        " \"likeCount\", \"favoriteCount\", \"commentCount\", \n",
        " \"duration\", \"definition\", \"caption\",\n",
        " \"licensedContent\", \"contentRating\", \"topicCategories\"]"
      ],
      "metadata": {
        "id": "VrU09RwaqIKu"
      },
      "execution_count": 17,
      "outputs": []
    },
    {
      "cell_type": "markdown",
      "source": [
        "Uncomment and run the cell below to have a view of what a particular channel's data looks like before the visual inspection based elimination."
      ],
      "metadata": {
        "id": "EkQ3DImyxsvg"
      }
    },
    {
      "cell_type": "code",
      "source": [
        "# for cat in explore_cats:\n",
        "#   print(f'{cat}***: {data[\"UCBINFWq52ShSgUFEoynfSwg\"][\"video_data\"][\"9ic_rUvWHc4\"][cat]}')"
      ],
      "metadata": {
        "id": "GgAQ85tHsMOe"
      },
      "execution_count": 28,
      "outputs": []
    },
    {
      "cell_type": "markdown",
      "source": [
        "hypothesis check: with and without subscriber:video count within the dependent data"
      ],
      "metadata": {
        "id": "kImcTICkn9ya"
      }
    },
    {
      "cell_type": "code",
      "source": [
        "tentative_cats = [\"title\", \"description\", \"categoryId\",  \"viewCount\", \n",
        " \"likeCount\", \"favoriteCount\", \"commentCount\", \n",
        " \"duration\", \"definition\",\n",
        " \"licensedContent\", \"contentRating\", \"topicCategories\"]"
      ],
      "metadata": {
        "id": "kJazVzVzm451"
      },
      "execution_count": 29,
      "outputs": []
    },
    {
      "cell_type": "code",
      "source": [],
      "metadata": {
        "id": "Ska86EBror6-"
      },
      "execution_count": null,
      "outputs": []
    }
  ],
  "metadata": {
    "colab": {
      "provenance": [],
      "authorship_tag": "ABX9TyPRFTF/FiV3WxeLGgjGDq1h",
      "include_colab_link": true
    },
    "kernelspec": {
      "display_name": "Python 3.10.4 ('dataenv')",
      "language": "python",
      "name": "python3"
    },
    "language_info": {
      "name": "python",
      "version": "3.10.4"
    },
    "vscode": {
      "interpreter": {
        "hash": "467f60c46b88ea196e8e4e51716c4f14b05141d893e1660e0038b81da854c476"
      }
    }
  },
  "nbformat": 4,
  "nbformat_minor": 0
}