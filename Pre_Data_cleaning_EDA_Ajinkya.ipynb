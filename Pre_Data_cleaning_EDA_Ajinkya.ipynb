{
  "cells": [
    {
      "cell_type": "markdown",
      "metadata": {
        "id": "view-in-github",
        "colab_type": "text"
      },
      "source": [
        "<a href=\"https://colab.research.google.com/github/ajinkyabhanudas/SIADS696/blob/dev/Pre_Data_cleaning_EDA_Ajinkya.ipynb\" target=\"_parent\"><img src=\"https://colab.research.google.com/assets/colab-badge.svg\" alt=\"Open In Colab\"/></a>"
      ]
    },
    {
      "cell_type": "markdown",
      "source": [
        "#This notebook captures thoughts on a probable choice of features based on visual inspection and prior knowledge\n",
        "\n",
        "##1\n",
        "Reasons for direct elimination of the following properties:\n",
        "- channelId, channelTitle: might be a point of data leakage that leads to overfitting.\n",
        "- thumbnails: we're not working on image data and will hence disregard these values.\n",
        "- defaultLanguage, defaultAudioLanguage: we've restricted the data to be english only.\n",
        "\n",
        "Post visual inspection elimination:\n",
        "- dimension, licensedContent: we have no working theory on how to leverage this property (example '2d') as a feature in our model and would want to avoid any spurious correlations.\n",
        "- liveBroadcastContent: we're looking for a view count independent of this state. This is because, consideration of this property would lead to an imbalance in the live videos available.\n",
        "- localized: seems to have a dictionary of details like description again.\n",
        "\n",
        "Need further review:\n",
        "- definition: we'd have to inspect to see if a video not having the possibility of \"hd\" can have a strong impact on its views. correlation might be a good point to start.\n",
        "- tags: might not be useful if, they have markers in them that indicate the channel name, it is likely to throw a model off.\n",
        "- content_rating: due to sparse availability, this feature might not add significant value with it presence\n",
        "\n",
        "\n",
        "##2\n",
        "Finally, the features that we plan on extracting can be utilised to work up 2 different approaches:\n",
        "- A 2-fold views prediction task based on the following features: \n",
        "  - title, topicCategories, duration: for first time content creators)\n",
        "  - title, topicCategories, duration, categoryId, historical aggregates of (subcriber, view, like, favorite, comment count): for users who have created content in the past. An alternative approach could also be to make use of AR(I)MA(X) models with channel specific historical video stats data and exogenous variables like publishedAt.\n",
        "\n",
        "- tags, definition, and contentRating need to be evaluated further to look for possible correlations.\n",
        "- Since users don't interact with descriptions before watching a video, in most cases, it might be worth further evaluation too.\n",
        "- total viewCount, videoCount features might need a further evaluation for its utility with aggregate calculations in regression based models.\n",
        "\n",
        "\n",
        "\n",
        "\n"
      ],
      "metadata": {
        "id": "Fa2YEr7pT6zt"
      }
    },
    {
      "cell_type": "code",
      "execution_count": 69,
      "metadata": {
        "id": "pWqb-vn_hFCU",
        "outputId": "d2dc4143-2ee7-4736-f79f-15842d987675",
        "colab": {
          "base_uri": "https://localhost:8080/"
        }
      },
      "outputs": [
        {
          "output_type": "stream",
          "name": "stdout",
          "text": [
            "Cloning into 'SIADS696'...\n",
            "remote: Enumerating objects: 266, done.\u001b[K\n",
            "remote: Counting objects: 100% (45/45), done.\u001b[K\n",
            "remote: Compressing objects: 100% (43/43), done.\u001b[K\n",
            "remote: Total 266 (delta 10), reused 2 (delta 2), pack-reused 221\u001b[K\n",
            "Receiving objects: 100% (266/266), 13.92 MiB | 15.42 MiB/s, done.\n",
            "Resolving deltas: 100% (134/134), done.\n"
          ]
        }
      ],
      "source": [
        "!git clone https://github.com/ajinkyabhanudas/SIADS696.git"
      ]
    },
    {
      "cell_type": "code",
      "source": [
        "import glob\n",
        "import json\n",
        "import os\n",
        "import pandas as pd"
      ],
      "metadata": {
        "id": "qe2qOLWocWZz"
      },
      "execution_count": 70,
      "outputs": []
    },
    {
      "cell_type": "code",
      "source": [
        "try:\n",
        "  os.chdir('SIADS696')\n",
        "except:\n",
        "  print(\"You're either already in the SIADS696 directory, or the path specified isn't accessible\")"
      ],
      "metadata": {
        "id": "ZjuCnSlVckSC"
      },
      "execution_count": 71,
      "outputs": []
    },
    {
      "cell_type": "code",
      "source": [
        "rootdir = 'data'\n",
        "for path in glob.glob(f'./{rootdir}/*/*'):\n",
        "    with open(path, \"r\") as read_file:\n",
        "      data = json.load(read_file)\n",
        "      break\n"
      ],
      "metadata": {
        "id": "uyGMJYhfgqgA"
      },
      "execution_count": 72,
      "outputs": []
    },
    {
      "cell_type": "code",
      "source": [
        "channel_id = list(data.keys())[0]"
      ],
      "metadata": {
        "id": "Mgm4qljTiXg1"
      },
      "execution_count": 73,
      "outputs": []
    },
    {
      "cell_type": "code",
      "source": [
        "data[channel_id][\"channel_statistics\"]"
      ],
      "metadata": {
        "id": "Ct-VDpzKikMq",
        "outputId": "77b8353a-cb0b-4560-cdbb-61fac074761d",
        "colab": {
          "base_uri": "https://localhost:8080/"
        }
      },
      "execution_count": 74,
      "outputs": [
        {
          "output_type": "execute_result",
          "data": {
            "text/plain": [
              "{'viewCount': '13637216111',\n",
              " 'subscriberCount': '55900000',\n",
              " 'hiddenSubscriberCount': False,\n",
              " 'videoCount': '403'}"
            ]
          },
          "metadata": {},
          "execution_count": 74
        }
      ]
    },
    {
      "cell_type": "code",
      "source": [
        "video_key = list(data[channel_id][\"video_data\"].keys())[0]\n",
        "data[channel_id][\"video_data\"][video_key].keys()"
      ],
      "metadata": {
        "id": "kLCJeZrCm2Zb",
        "outputId": "21e51be4-2c67-41bd-adb8-15f4cb4ba2ec",
        "colab": {
          "base_uri": "https://localhost:8080/"
        }
      },
      "execution_count": 75,
      "outputs": [
        {
          "output_type": "execute_result",
          "data": {
            "text/plain": [
              "dict_keys(['publishedAt', 'title', 'channelId', 'description', 'thumbnails', 'channelTitle', 'tags', 'categoryId', 'liveBroadcastContent', 'localized', 'defaultAudioLanguage', 'viewCount', 'likeCount', 'favoriteCount', 'commentCount', 'duration', 'dimension', 'definition', 'caption', 'licensedContent', 'contentRating', 'projection', 'topicCategories'])"
            ]
          },
          "metadata": {},
          "execution_count": 75
        }
      ]
    },
    {
      "cell_type": "code",
      "source": [
        "explore_cats = [\"dimension\", \"liveBroadcastContent\", \"localized\", \"title\", \"description\", \"tags\", \"categoryId\",  \"viewCount\", \n",
        " \"likeCount\", \"favoriteCount\", \"commentCount\", \n",
        " \"duration\", \"definition\", \"caption\",\n",
        " \"licensedContent\", \"contentRating\", \"topicCategories\"]"
      ],
      "metadata": {
        "id": "VrU09RwaqIKu"
      },
      "execution_count": null,
      "outputs": []
    },
    {
      "cell_type": "markdown",
      "source": [
        "Uncomment and run the cell below to have a view of what a particular channel's data looks like before the visual inspection based elimination."
      ],
      "metadata": {
        "id": "EkQ3DImyxsvg"
      }
    },
    {
      "cell_type": "code",
      "source": [
        "# for cat in explore_cats:\n",
        "#   print(f'{cat}***: {data[channel_id][\"video_data\"][video_key][cat]}')"
      ],
      "metadata": {
        "id": "GgAQ85tHsMOe"
      },
      "execution_count": 77,
      "outputs": []
    },
    {
      "cell_type": "markdown",
      "source": [
        "hypothesis check: with and without subscriber:video count within the dependent data"
      ],
      "metadata": {
        "id": "kImcTICkn9ya"
      }
    },
    {
      "cell_type": "code",
      "source": [
        "tentative_cats = [\"title\", \"description\", \"categoryId\",  \"viewCount\", \"tags\",\n",
        " \"likeCount\", \"favoriteCount\", \"commentCount\", \n",
        " \"duration\", \"definition\",\n",
        " \"licensedContent\", \"contentRating\", \"topicCategories\"]"
      ],
      "metadata": {
        "id": "kJazVzVzm451"
      },
      "execution_count": null,
      "outputs": []
    },
    {
      "cell_type": "code",
      "source": [
        "# for cat in tentative_cats:\n",
        "#   print(f'{cat}***: {data[channel_id][\"video_data\"][video_key][cat]}')"
      ],
      "metadata": {
        "id": "Ska86EBror6-"
      },
      "execution_count": null,
      "outputs": []
    },
    {
      "cell_type": "code",
      "source": [
        "[\"publishedAt\", \"title\", \"description\", \"categoryId\",  \"viewCount\", \"tags\"\n",
        " \"likeCount\", \"favoriteCount\", \"commentCount\", \n",
        " \"duration\", \"definition\",\n",
        " \"licensedContent\", \"contentRating\", \"topicCategories\"]"
      ],
      "metadata": {
        "id": "qwgLaR9P8cIi",
        "outputId": "011f6b5c-4039-4982-ee43-1d96d53a4290",
        "colab": {
          "base_uri": "https://localhost:8080/"
        }
      },
      "execution_count": null,
      "outputs": [
        {
          "output_type": "execute_result",
          "data": {
            "text/plain": [
              "['publishedAt',\n",
              " 'title',\n",
              " 'description',\n",
              " 'categoryId',\n",
              " 'viewCount',\n",
              " 'tagslikeCount',\n",
              " 'favoriteCount',\n",
              " 'commentCount',\n",
              " 'duration',\n",
              " 'definition',\n",
              " 'licensedContent',\n",
              " 'contentRating',\n",
              " 'topicCategories']"
            ]
          },
          "metadata": {},
          "execution_count": 49
        }
      ]
    },
    {
      "cell_type": "markdown",
      "source": [],
      "metadata": {
        "id": "ZeWzYTmOA4eY"
      }
    }
  ],
  "metadata": {
    "colab": {
      "provenance": [],
      "include_colab_link": true
    },
    "kernelspec": {
      "display_name": "Python 3.10.4 ('dataenv')",
      "language": "python",
      "name": "python3"
    },
    "language_info": {
      "name": "python",
      "version": "3.10.4"
    },
    "vscode": {
      "interpreter": {
        "hash": "467f60c46b88ea196e8e4e51716c4f14b05141d893e1660e0038b81da854c476"
      }
    }
  },
  "nbformat": 4,
  "nbformat_minor": 0
}