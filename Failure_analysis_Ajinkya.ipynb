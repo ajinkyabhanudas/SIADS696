{
  "nbformat": 4,
  "nbformat_minor": 0,
  "metadata": {
    "colab": {
      "provenance": [],
      "collapsed_sections": [],
      "authorship_tag": "ABX9TyO5ZZrq5crR/MtROIUSJ4MQ",
      "include_colab_link": true
    },
    "kernelspec": {
      "name": "python3",
      "display_name": "Python 3"
    },
    "language_info": {
      "name": "python"
    }
  },
  "cells": [
    {
      "cell_type": "markdown",
      "metadata": {
        "id": "view-in-github",
        "colab_type": "text"
      },
      "source": [
        "<a href=\"https://colab.research.google.com/github/ajinkyabhanudas/SIADS696/blob/dev/Failure_analysis_Ajinkya.ipynb\" target=\"_parent\"><img src=\"https://colab.research.google.com/assets/colab-badge.svg\" alt=\"Open In Colab\"/></a>"
      ]
    },
    {
      "cell_type": "markdown",
      "source": [
        "## Failure Analysis\n",
        "### The best performing model: Histogram Gradient Boosting Regression Trees\n",
        "- The primary focus of this notebook is to perform failure analysis.\n",
        "- Since our dataset was relatively small considering the diversity of the word vector feature values in the n-dimensional featue space, the best value of the quality of fit we observed was only 37% after we leveraged cross validation along with grid search.\n",
        "- That being said, Our failure analysis would be more like a success analysis to try and observe what we got right and why we think the model was able to pick that signal up."
      ],
      "metadata": {
        "id": "XrtUIEppDLLk"
      }
    },
    {
      "cell_type": "code",
      "source": [
        "!gdown 1PTaSiunxWhwkHxKf5v4G3oPbAXzvGqKN \n",
        "!gdown 1v8rbzAcb_cAw7kwShlGyEuAUw2Ja006N \n",
        "!gdown 1porOGWPwFdydbXbQQmveCPvAT1lvO8RC\n",
        "!gdown 12uI3sXRLJzEwPx05D7tZD5g7DRAcAcFs\n",
        "\n",
        "!gdown 1Nwp22QXlSRyczKxC_siWZQ10qm0WVKON"
      ],
      "metadata": {
        "colab": {
          "base_uri": "https://localhost:8080/"
        },
        "id": "MALQI--jDnOT",
        "outputId": "21e33baf-f602-40b0-ee91-6f783a8f5e59"
      },
      "execution_count": 51,
      "outputs": [
        {
          "output_type": "stream",
          "name": "stdout",
          "text": [
            "Downloading...\n",
            "From: https://drive.google.com/uc?id=1PTaSiunxWhwkHxKf5v4G3oPbAXzvGqKN\n",
            "To: /content/SIADS696/train_X.csv\n",
            "100% 39.6M/39.6M [00:00<00:00, 159MB/s]\n",
            "Downloading...\n",
            "From: https://drive.google.com/uc?id=1v8rbzAcb_cAw7kwShlGyEuAUw2Ja006N\n",
            "To: /content/SIADS696/train_y.csv\n",
            "100% 733k/733k [00:00<00:00, 122MB/s]\n",
            "Downloading...\n",
            "From: https://drive.google.com/uc?id=1porOGWPwFdydbXbQQmveCPvAT1lvO8RC\n",
            "To: /content/SIADS696/test_X.csv\n",
            "100% 9.92M/9.92M [00:00<00:00, 99.2MB/s]\n",
            "Downloading...\n",
            "From: https://drive.google.com/uc?id=12uI3sXRLJzEwPx05D7tZD5g7DRAcAcFs\n",
            "To: /content/SIADS696/test_y.csv\n",
            "100% 183k/183k [00:00<00:00, 79.0MB/s]\n",
            "Downloading...\n",
            "From: https://drive.google.com/uc?id=1Nwp22QXlSRyczKxC_siWZQ10qm0WVKON\n",
            "To: /content/SIADS696/model.sav\n",
            "100% 749k/749k [00:00<00:00, 99.1MB/s]\n"
          ]
        }
      ]
    },
    {
      "cell_type": "code",
      "source": [
        "import plotly.graph_objects as go\n",
        "from plotly.subplots import make_subplots\n",
        "import pylab as pl\n",
        "\n",
        "import datetime\n",
        "import enum\n",
        "import glob\n",
        "import json\n",
        "import os\n",
        "import re\n",
        "from itertools import groupby\n",
        "\n",
        "from gensim.models import Word2Vec\n",
        "import matplotlib.pyplot as plt\n",
        "from matplotlib import ticker\n",
        "\n",
        "import nltk\n",
        "from nltk.corpus import stopwords\n",
        "import numpy as np\n",
        "import pandas as pd\n",
        "import pickle\n",
        "\n",
        "import warnings\n",
        "warnings.simplefilter(action='ignore')"
      ],
      "metadata": {
        "id": "-ZBHACqZFZFu"
      },
      "execution_count": 1,
      "outputs": []
    },
    {
      "cell_type": "code",
      "source": [
        "from sklearn.cluster import DBSCAN\n",
        "\n",
        "from sklearn.model_selection import train_test_split\n",
        "from sklearn.preprocessing import StandardScaler, MinMaxScaler\n",
        "from sklearn.preprocessing import FunctionTransformer, PolynomialFeatures, OneHotEncoder\n",
        "from sklearn.decomposition import PCA, KernelPCA\n",
        "\n",
        "from sklearn.pipeline import Pipeline\n",
        "from sklearn.compose import ColumnTransformer"
      ],
      "metadata": {
        "id": "4o7ewPq2FpOY"
      },
      "execution_count": 2,
      "outputs": []
    },
    {
      "cell_type": "code",
      "source": [
        "from sklearn.ensemble import HistGradientBoostingRegressor\n",
        "from sklearn.metrics import r2_score\n",
        "from sklearn.inspection import permutation_importance\n",
        "import sklearn\n",
        "from sklearn import metrics\n",
        "from sklearn.model_selection import cross_val_score, cross_validate, GridSearchCV"
      ],
      "metadata": {
        "id": "C8pvb4zyGNdL"
      },
      "execution_count": 46,
      "outputs": []
    },
    {
      "cell_type": "code",
      "source": [
        "import gensim.downloader\n",
        "glove_wv = gensim.downloader.load('glove-wiki-gigaword-50')\n",
        "\n",
        "nltk.download('punkt')\n",
        "nltk.download('stopwords')"
      ],
      "metadata": {
        "colab": {
          "base_uri": "https://localhost:8080/"
        },
        "id": "vH01k3oqGPoT",
        "outputId": "5bdb7fc8-236d-4c2f-d7ee-ffc5f59f4add"
      },
      "execution_count": 4,
      "outputs": [
        {
          "output_type": "stream",
          "name": "stderr",
          "text": [
            "[nltk_data] Downloading package punkt to /root/nltk_data...\n",
            "[nltk_data]   Package punkt is already up-to-date!\n",
            "[nltk_data] Downloading package stopwords to /root/nltk_data...\n",
            "[nltk_data]   Package stopwords is already up-to-date!\n"
          ]
        },
        {
          "output_type": "execute_result",
          "data": {
            "text/plain": [
              "True"
            ]
          },
          "metadata": {},
          "execution_count": 4
        }
      ]
    },
    {
      "cell_type": "code",
      "source": [
        "train_X = pd.read_csv(\"train_X.csv\")\n",
        "train_y = pd.read_csv(\"train_y.csv\")\n",
        "\n",
        "test_X_ = pd.read_csv(\"test_X.csv\")\n",
        "test_y = pd.read_csv(\"test_y.csv\")"
      ],
      "metadata": {
        "id": "J3Z9FdV3GRZM"
      },
      "execution_count": 52,
      "outputs": []
    },
    {
      "cell_type": "code",
      "source": [
        "test_X_"
      ],
      "metadata": {
        "colab": {
          "base_uri": "https://localhost:8080/",
          "height": 483
        },
        "id": "mUOtLlrlGWb-",
        "outputId": "48d0bdb1-faf3-459f-91c3-9375c1c1fe73"
      },
      "execution_count": 7,
      "outputs": [
        {
          "output_type": "execute_result",
          "data": {
            "text/plain": [
              "      publishedDayNum  log_duration_secs  len_title   title_1   title_2  \\\n",
              "0                  55           6.448889         11 -0.067034  0.738506   \n",
              "1                 251           6.972606          7 -0.221372  0.771232   \n",
              "2                  48           5.438079          4  0.406600  0.690655   \n",
              "3                 213           6.403574          4 -0.023580  0.646470   \n",
              "4                  78           7.362645          4 -0.142713  0.801386   \n",
              "...               ...                ...        ...       ...       ...   \n",
              "9617              233           5.153292          9 -0.101717  1.059783   \n",
              "9618              180           5.365976          3 -0.252733  0.884874   \n",
              "9619               47           6.272877          4 -0.265456  0.896224   \n",
              "9620              273           5.379897          3 -0.063648  1.082242   \n",
              "9621              253           5.863631          5 -0.156889  0.945633   \n",
              "\n",
              "       title_3   title_4   title_5   title_6   title_7  ...  title_43  \\\n",
              "0     0.354534  0.585256  0.500022  0.182586  0.032060  ... -0.288240   \n",
              "1     0.380841  0.853690  0.404392  0.200614  0.332160  ... -0.147374   \n",
              "2     0.844660  0.765535 -0.488250 -0.024590  0.215335  ... -0.170345   \n",
              "3     0.802832  0.913045  0.340683 -0.067310  0.350050  ...  0.031009   \n",
              "4     0.527906  0.778926  0.332370 -0.101727  0.372164  ... -0.139873   \n",
              "...        ...       ...       ...       ...       ...  ...       ...   \n",
              "9617  0.667565  1.030287  0.435890 -0.108123  0.809597  ...  0.088013   \n",
              "9618  0.826581  0.984834  0.498031 -0.165098  0.698783  ... -0.207881   \n",
              "9619  0.619452  0.864880  0.513994 -0.257218  0.627414  ... -0.179184   \n",
              "9620  0.412049  0.797175  0.298542  0.039410  0.451043  ... -0.156935   \n",
              "9621  0.491655  0.596867  0.577144 -0.091643  0.629830  ... -0.236059   \n",
              "\n",
              "      title_44  title_45  title_46  title_47  title_48  title_49  title_50  \\\n",
              "0     0.040508 -0.351104  0.022336  0.155882 -0.418398  0.254494  1.296076   \n",
              "1    -0.202466 -0.476051 -0.034336  0.299940 -0.610114  0.220954  1.359274   \n",
              "2    -0.177065  0.053796  0.655165  0.211580 -0.266535  0.155870  1.839400   \n",
              "3    -0.097173  0.149332  0.322852  0.191959 -0.383737  0.603576  0.667638   \n",
              "4    -0.176725 -0.054009  0.051937  0.046176 -0.625320  0.324756  1.211579   \n",
              "...        ...       ...       ...       ...       ...       ...       ...   \n",
              "9617 -0.638757 -0.661797 -0.097090  0.161490 -0.651966  0.629860  1.137917   \n",
              "9618 -0.115602  0.180434  0.153174  0.103049 -0.532818  0.432853  0.835500   \n",
              "9619 -0.126249 -0.212088  0.284164  0.106127 -0.541855  0.567468  0.753146   \n",
              "9620 -0.293163 -0.423686 -0.014855  0.144395 -0.701292  0.363572  1.089745   \n",
              "9621 -0.006961 -0.274101  0.281788  0.109953 -0.614936  0.478783  1.034871   \n",
              "\n",
              "      definition  topicLabel  \n",
              "0             hd     cooking  \n",
              "1             hd     cooking  \n",
              "2             hd       music  \n",
              "3             hd     fitness  \n",
              "4             hd     history  \n",
              "...          ...         ...  \n",
              "9617          hd       music  \n",
              "9618          hd      comedy  \n",
              "9619          hd      travel  \n",
              "9620          hd      comedy  \n",
              "9621          sd     cooking  \n",
              "\n",
              "[9622 rows x 55 columns]"
            ],
            "text/html": [
              "\n",
              "  <div id=\"df-8bda3874-dbc6-4be7-b13a-85b1d542c4d0\">\n",
              "    <div class=\"colab-df-container\">\n",
              "      <div>\n",
              "<style scoped>\n",
              "    .dataframe tbody tr th:only-of-type {\n",
              "        vertical-align: middle;\n",
              "    }\n",
              "\n",
              "    .dataframe tbody tr th {\n",
              "        vertical-align: top;\n",
              "    }\n",
              "\n",
              "    .dataframe thead th {\n",
              "        text-align: right;\n",
              "    }\n",
              "</style>\n",
              "<table border=\"1\" class=\"dataframe\">\n",
              "  <thead>\n",
              "    <tr style=\"text-align: right;\">\n",
              "      <th></th>\n",
              "      <th>publishedDayNum</th>\n",
              "      <th>log_duration_secs</th>\n",
              "      <th>len_title</th>\n",
              "      <th>title_1</th>\n",
              "      <th>title_2</th>\n",
              "      <th>title_3</th>\n",
              "      <th>title_4</th>\n",
              "      <th>title_5</th>\n",
              "      <th>title_6</th>\n",
              "      <th>title_7</th>\n",
              "      <th>...</th>\n",
              "      <th>title_43</th>\n",
              "      <th>title_44</th>\n",
              "      <th>title_45</th>\n",
              "      <th>title_46</th>\n",
              "      <th>title_47</th>\n",
              "      <th>title_48</th>\n",
              "      <th>title_49</th>\n",
              "      <th>title_50</th>\n",
              "      <th>definition</th>\n",
              "      <th>topicLabel</th>\n",
              "    </tr>\n",
              "  </thead>\n",
              "  <tbody>\n",
              "    <tr>\n",
              "      <th>0</th>\n",
              "      <td>55</td>\n",
              "      <td>6.448889</td>\n",
              "      <td>11</td>\n",
              "      <td>-0.067034</td>\n",
              "      <td>0.738506</td>\n",
              "      <td>0.354534</td>\n",
              "      <td>0.585256</td>\n",
              "      <td>0.500022</td>\n",
              "      <td>0.182586</td>\n",
              "      <td>0.032060</td>\n",
              "      <td>...</td>\n",
              "      <td>-0.288240</td>\n",
              "      <td>0.040508</td>\n",
              "      <td>-0.351104</td>\n",
              "      <td>0.022336</td>\n",
              "      <td>0.155882</td>\n",
              "      <td>-0.418398</td>\n",
              "      <td>0.254494</td>\n",
              "      <td>1.296076</td>\n",
              "      <td>hd</td>\n",
              "      <td>cooking</td>\n",
              "    </tr>\n",
              "    <tr>\n",
              "      <th>1</th>\n",
              "      <td>251</td>\n",
              "      <td>6.972606</td>\n",
              "      <td>7</td>\n",
              "      <td>-0.221372</td>\n",
              "      <td>0.771232</td>\n",
              "      <td>0.380841</td>\n",
              "      <td>0.853690</td>\n",
              "      <td>0.404392</td>\n",
              "      <td>0.200614</td>\n",
              "      <td>0.332160</td>\n",
              "      <td>...</td>\n",
              "      <td>-0.147374</td>\n",
              "      <td>-0.202466</td>\n",
              "      <td>-0.476051</td>\n",
              "      <td>-0.034336</td>\n",
              "      <td>0.299940</td>\n",
              "      <td>-0.610114</td>\n",
              "      <td>0.220954</td>\n",
              "      <td>1.359274</td>\n",
              "      <td>hd</td>\n",
              "      <td>cooking</td>\n",
              "    </tr>\n",
              "    <tr>\n",
              "      <th>2</th>\n",
              "      <td>48</td>\n",
              "      <td>5.438079</td>\n",
              "      <td>4</td>\n",
              "      <td>0.406600</td>\n",
              "      <td>0.690655</td>\n",
              "      <td>0.844660</td>\n",
              "      <td>0.765535</td>\n",
              "      <td>-0.488250</td>\n",
              "      <td>-0.024590</td>\n",
              "      <td>0.215335</td>\n",
              "      <td>...</td>\n",
              "      <td>-0.170345</td>\n",
              "      <td>-0.177065</td>\n",
              "      <td>0.053796</td>\n",
              "      <td>0.655165</td>\n",
              "      <td>0.211580</td>\n",
              "      <td>-0.266535</td>\n",
              "      <td>0.155870</td>\n",
              "      <td>1.839400</td>\n",
              "      <td>hd</td>\n",
              "      <td>music</td>\n",
              "    </tr>\n",
              "    <tr>\n",
              "      <th>3</th>\n",
              "      <td>213</td>\n",
              "      <td>6.403574</td>\n",
              "      <td>4</td>\n",
              "      <td>-0.023580</td>\n",
              "      <td>0.646470</td>\n",
              "      <td>0.802832</td>\n",
              "      <td>0.913045</td>\n",
              "      <td>0.340683</td>\n",
              "      <td>-0.067310</td>\n",
              "      <td>0.350050</td>\n",
              "      <td>...</td>\n",
              "      <td>0.031009</td>\n",
              "      <td>-0.097173</td>\n",
              "      <td>0.149332</td>\n",
              "      <td>0.322852</td>\n",
              "      <td>0.191959</td>\n",
              "      <td>-0.383737</td>\n",
              "      <td>0.603576</td>\n",
              "      <td>0.667638</td>\n",
              "      <td>hd</td>\n",
              "      <td>fitness</td>\n",
              "    </tr>\n",
              "    <tr>\n",
              "      <th>4</th>\n",
              "      <td>78</td>\n",
              "      <td>7.362645</td>\n",
              "      <td>4</td>\n",
              "      <td>-0.142713</td>\n",
              "      <td>0.801386</td>\n",
              "      <td>0.527906</td>\n",
              "      <td>0.778926</td>\n",
              "      <td>0.332370</td>\n",
              "      <td>-0.101727</td>\n",
              "      <td>0.372164</td>\n",
              "      <td>...</td>\n",
              "      <td>-0.139873</td>\n",
              "      <td>-0.176725</td>\n",
              "      <td>-0.054009</td>\n",
              "      <td>0.051937</td>\n",
              "      <td>0.046176</td>\n",
              "      <td>-0.625320</td>\n",
              "      <td>0.324756</td>\n",
              "      <td>1.211579</td>\n",
              "      <td>hd</td>\n",
              "      <td>history</td>\n",
              "    </tr>\n",
              "    <tr>\n",
              "      <th>...</th>\n",
              "      <td>...</td>\n",
              "      <td>...</td>\n",
              "      <td>...</td>\n",
              "      <td>...</td>\n",
              "      <td>...</td>\n",
              "      <td>...</td>\n",
              "      <td>...</td>\n",
              "      <td>...</td>\n",
              "      <td>...</td>\n",
              "      <td>...</td>\n",
              "      <td>...</td>\n",
              "      <td>...</td>\n",
              "      <td>...</td>\n",
              "      <td>...</td>\n",
              "      <td>...</td>\n",
              "      <td>...</td>\n",
              "      <td>...</td>\n",
              "      <td>...</td>\n",
              "      <td>...</td>\n",
              "      <td>...</td>\n",
              "      <td>...</td>\n",
              "    </tr>\n",
              "    <tr>\n",
              "      <th>9617</th>\n",
              "      <td>233</td>\n",
              "      <td>5.153292</td>\n",
              "      <td>9</td>\n",
              "      <td>-0.101717</td>\n",
              "      <td>1.059783</td>\n",
              "      <td>0.667565</td>\n",
              "      <td>1.030287</td>\n",
              "      <td>0.435890</td>\n",
              "      <td>-0.108123</td>\n",
              "      <td>0.809597</td>\n",
              "      <td>...</td>\n",
              "      <td>0.088013</td>\n",
              "      <td>-0.638757</td>\n",
              "      <td>-0.661797</td>\n",
              "      <td>-0.097090</td>\n",
              "      <td>0.161490</td>\n",
              "      <td>-0.651966</td>\n",
              "      <td>0.629860</td>\n",
              "      <td>1.137917</td>\n",
              "      <td>hd</td>\n",
              "      <td>music</td>\n",
              "    </tr>\n",
              "    <tr>\n",
              "      <th>9618</th>\n",
              "      <td>180</td>\n",
              "      <td>5.365976</td>\n",
              "      <td>3</td>\n",
              "      <td>-0.252733</td>\n",
              "      <td>0.884874</td>\n",
              "      <td>0.826581</td>\n",
              "      <td>0.984834</td>\n",
              "      <td>0.498031</td>\n",
              "      <td>-0.165098</td>\n",
              "      <td>0.698783</td>\n",
              "      <td>...</td>\n",
              "      <td>-0.207881</td>\n",
              "      <td>-0.115602</td>\n",
              "      <td>0.180434</td>\n",
              "      <td>0.153174</td>\n",
              "      <td>0.103049</td>\n",
              "      <td>-0.532818</td>\n",
              "      <td>0.432853</td>\n",
              "      <td>0.835500</td>\n",
              "      <td>hd</td>\n",
              "      <td>comedy</td>\n",
              "    </tr>\n",
              "    <tr>\n",
              "      <th>9619</th>\n",
              "      <td>47</td>\n",
              "      <td>6.272877</td>\n",
              "      <td>4</td>\n",
              "      <td>-0.265456</td>\n",
              "      <td>0.896224</td>\n",
              "      <td>0.619452</td>\n",
              "      <td>0.864880</td>\n",
              "      <td>0.513994</td>\n",
              "      <td>-0.257218</td>\n",
              "      <td>0.627414</td>\n",
              "      <td>...</td>\n",
              "      <td>-0.179184</td>\n",
              "      <td>-0.126249</td>\n",
              "      <td>-0.212088</td>\n",
              "      <td>0.284164</td>\n",
              "      <td>0.106127</td>\n",
              "      <td>-0.541855</td>\n",
              "      <td>0.567468</td>\n",
              "      <td>0.753146</td>\n",
              "      <td>hd</td>\n",
              "      <td>travel</td>\n",
              "    </tr>\n",
              "    <tr>\n",
              "      <th>9620</th>\n",
              "      <td>273</td>\n",
              "      <td>5.379897</td>\n",
              "      <td>3</td>\n",
              "      <td>-0.063648</td>\n",
              "      <td>1.082242</td>\n",
              "      <td>0.412049</td>\n",
              "      <td>0.797175</td>\n",
              "      <td>0.298542</td>\n",
              "      <td>0.039410</td>\n",
              "      <td>0.451043</td>\n",
              "      <td>...</td>\n",
              "      <td>-0.156935</td>\n",
              "      <td>-0.293163</td>\n",
              "      <td>-0.423686</td>\n",
              "      <td>-0.014855</td>\n",
              "      <td>0.144395</td>\n",
              "      <td>-0.701292</td>\n",
              "      <td>0.363572</td>\n",
              "      <td>1.089745</td>\n",
              "      <td>hd</td>\n",
              "      <td>comedy</td>\n",
              "    </tr>\n",
              "    <tr>\n",
              "      <th>9621</th>\n",
              "      <td>253</td>\n",
              "      <td>5.863631</td>\n",
              "      <td>5</td>\n",
              "      <td>-0.156889</td>\n",
              "      <td>0.945633</td>\n",
              "      <td>0.491655</td>\n",
              "      <td>0.596867</td>\n",
              "      <td>0.577144</td>\n",
              "      <td>-0.091643</td>\n",
              "      <td>0.629830</td>\n",
              "      <td>...</td>\n",
              "      <td>-0.236059</td>\n",
              "      <td>-0.006961</td>\n",
              "      <td>-0.274101</td>\n",
              "      <td>0.281788</td>\n",
              "      <td>0.109953</td>\n",
              "      <td>-0.614936</td>\n",
              "      <td>0.478783</td>\n",
              "      <td>1.034871</td>\n",
              "      <td>sd</td>\n",
              "      <td>cooking</td>\n",
              "    </tr>\n",
              "  </tbody>\n",
              "</table>\n",
              "<p>9622 rows × 55 columns</p>\n",
              "</div>\n",
              "      <button class=\"colab-df-convert\" onclick=\"convertToInteractive('df-8bda3874-dbc6-4be7-b13a-85b1d542c4d0')\"\n",
              "              title=\"Convert this dataframe to an interactive table.\"\n",
              "              style=\"display:none;\">\n",
              "        \n",
              "  <svg xmlns=\"http://www.w3.org/2000/svg\" height=\"24px\"viewBox=\"0 0 24 24\"\n",
              "       width=\"24px\">\n",
              "    <path d=\"M0 0h24v24H0V0z\" fill=\"none\"/>\n",
              "    <path d=\"M18.56 5.44l.94 2.06.94-2.06 2.06-.94-2.06-.94-.94-2.06-.94 2.06-2.06.94zm-11 1L8.5 8.5l.94-2.06 2.06-.94-2.06-.94L8.5 2.5l-.94 2.06-2.06.94zm10 10l.94 2.06.94-2.06 2.06-.94-2.06-.94-.94-2.06-.94 2.06-2.06.94z\"/><path d=\"M17.41 7.96l-1.37-1.37c-.4-.4-.92-.59-1.43-.59-.52 0-1.04.2-1.43.59L10.3 9.45l-7.72 7.72c-.78.78-.78 2.05 0 2.83L4 21.41c.39.39.9.59 1.41.59.51 0 1.02-.2 1.41-.59l7.78-7.78 2.81-2.81c.8-.78.8-2.07 0-2.86zM5.41 20L4 18.59l7.72-7.72 1.47 1.35L5.41 20z\"/>\n",
              "  </svg>\n",
              "      </button>\n",
              "      \n",
              "  <style>\n",
              "    .colab-df-container {\n",
              "      display:flex;\n",
              "      flex-wrap:wrap;\n",
              "      gap: 12px;\n",
              "    }\n",
              "\n",
              "    .colab-df-convert {\n",
              "      background-color: #E8F0FE;\n",
              "      border: none;\n",
              "      border-radius: 50%;\n",
              "      cursor: pointer;\n",
              "      display: none;\n",
              "      fill: #1967D2;\n",
              "      height: 32px;\n",
              "      padding: 0 0 0 0;\n",
              "      width: 32px;\n",
              "    }\n",
              "\n",
              "    .colab-df-convert:hover {\n",
              "      background-color: #E2EBFA;\n",
              "      box-shadow: 0px 1px 2px rgba(60, 64, 67, 0.3), 0px 1px 3px 1px rgba(60, 64, 67, 0.15);\n",
              "      fill: #174EA6;\n",
              "    }\n",
              "\n",
              "    [theme=dark] .colab-df-convert {\n",
              "      background-color: #3B4455;\n",
              "      fill: #D2E3FC;\n",
              "    }\n",
              "\n",
              "    [theme=dark] .colab-df-convert:hover {\n",
              "      background-color: #434B5C;\n",
              "      box-shadow: 0px 1px 3px 1px rgba(0, 0, 0, 0.15);\n",
              "      filter: drop-shadow(0px 1px 2px rgba(0, 0, 0, 0.3));\n",
              "      fill: #FFFFFF;\n",
              "    }\n",
              "  </style>\n",
              "\n",
              "      <script>\n",
              "        const buttonEl =\n",
              "          document.querySelector('#df-8bda3874-dbc6-4be7-b13a-85b1d542c4d0 button.colab-df-convert');\n",
              "        buttonEl.style.display =\n",
              "          google.colab.kernel.accessAllowed ? 'block' : 'none';\n",
              "\n",
              "        async function convertToInteractive(key) {\n",
              "          const element = document.querySelector('#df-8bda3874-dbc6-4be7-b13a-85b1d542c4d0');\n",
              "          const dataTable =\n",
              "            await google.colab.kernel.invokeFunction('convertToInteractive',\n",
              "                                                     [key], {});\n",
              "          if (!dataTable) return;\n",
              "\n",
              "          const docLinkHtml = 'Like what you see? Visit the ' +\n",
              "            '<a target=\"_blank\" href=https://colab.research.google.com/notebooks/data_table.ipynb>data table notebook</a>'\n",
              "            + ' to learn more about interactive tables.';\n",
              "          element.innerHTML = '';\n",
              "          dataTable['output_type'] = 'display_data';\n",
              "          await google.colab.output.renderOutput(dataTable, element);\n",
              "          const docLink = document.createElement('div');\n",
              "          docLink.innerHTML = docLinkHtml;\n",
              "          element.appendChild(docLink);\n",
              "        }\n",
              "      </script>\n",
              "    </div>\n",
              "  </div>\n",
              "  "
            ]
          },
          "metadata": {},
          "execution_count": 7
        }
      ]
    },
    {
      "cell_type": "code",
      "source": [
        "ct = ColumnTransformer(\n",
        "    [(\"ohe\", OneHotEncoder(handle_unknown='ignore'), [\"definition\", \"topicLabel\"]),\n",
        "    (\"poly\", PolynomialFeatures(5),[\"publishedDayNum\",\t\"log_duration_secs\", \"len_title\"]),\n",
        "    ], remainder=\"passthrough\")\n",
        "\n",
        "train_X = ct.fit_transform(train_X)\n",
        "test_X = ct.transform(test_X_)\n",
        "\n",
        "mms = MinMaxScaler()\n",
        "train_X = mms.fit_transform(train_X)\n",
        "test_X = mms.transform(test_X)"
      ],
      "metadata": {
        "id": "G5sWHduGLLrl"
      },
      "execution_count": 53,
      "outputs": []
    },
    {
      "cell_type": "code",
      "source": [
        "hgbr = HistGradientBoostingRegressor(l2_regularization=0.2,\n",
        "                              max_depth=10,\n",
        "                              max_leaf_nodes=50,\n",
        "                              n_iter_no_change=15)"
      ],
      "metadata": {
        "id": "2YvXVnztHwYD"
      },
      "execution_count": 10,
      "outputs": []
    },
    {
      "cell_type": "code",
      "source": [
        "hgbr.fit(train_X, train_y)"
      ],
      "metadata": {
        "colab": {
          "base_uri": "https://localhost:8080/"
        },
        "id": "SqYIVnHeJCz0",
        "outputId": "c9e0f900-d0b3-4143-ba06-55d2af1b4083"
      },
      "execution_count": 11,
      "outputs": [
        {
          "output_type": "execute_result",
          "data": {
            "text/plain": [
              "HistGradientBoostingRegressor(l2_regularization=0.2, max_depth=10,\n",
              "                              max_leaf_nodes=50, n_iter_no_change=15)"
            ]
          },
          "metadata": {},
          "execution_count": 11
        }
      ]
    },
    {
      "cell_type": "code",
      "source": [
        "r2_score(test_y, hgbr.predict(test_X))"
      ],
      "metadata": {
        "colab": {
          "base_uri": "https://localhost:8080/"
        },
        "id": "qzze8InnLgbe",
        "outputId": "dcd25d90-49f5-4080-f6f1-3fc0fa9f9ed0"
      },
      "execution_count": 31,
      "outputs": [
        {
          "output_type": "execute_result",
          "data": {
            "text/plain": [
              "0.18405768565587954"
            ]
          },
          "metadata": {},
          "execution_count": 31
        }
      ]
    },
    {
      "cell_type": "markdown",
      "source": [
        "Now, let's take a look at a very sample of the test data and look at a scatter plot of the closeness between the true and predicted values."
      ],
      "metadata": {
        "id": "oZYzmVgRYGwr"
      }
    },
    {
      "cell_type": "code",
      "source": [
        "sample = np.random.permutation(test_X)[:60]"
      ],
      "metadata": {
        "id": "1BPRMV4rOjs-"
      },
      "execution_count": 91,
      "outputs": []
    },
    {
      "cell_type": "code",
      "source": [
        "res_df = pd.DataFrame({'data_point#':list(np.arange(sample.shape[0])), 'true':list(test_y.values[:sample.shape[0]][:,0]), 'prediction':list(hgbr.predict(sample)[:sample.shape[0]])})"
      ],
      "metadata": {
        "id": "E6oHkbYZPqr6"
      },
      "execution_count": 92,
      "outputs": []
    },
    {
      "cell_type": "code",
      "source": [
        "trace1 = go.Scatter(\n",
        "    x=res_df[\"data_point#\"],\n",
        "    y=res_df['prediction'],\n",
        "    name='prediction',\n",
        "    mode='markers',\n",
        ")\n",
        "trace2 = go.Scatter(\n",
        "    x=res_df[\"data_point#\"],\n",
        "    y=res_df['true'],\n",
        "    name='true',\n",
        "    mode='markers',\n",
        "\n",
        ")\n",
        "\n",
        "fig = make_subplots(specs=[[{\"secondary_y\": False}]])\n",
        "fig.add_trace(trace1)\n",
        "fig.add_trace(trace2,secondary_y=False)\n",
        "fig['layout'].update(height = 600, width = 1300, title = \"True vs predicted values closeness\",xaxis=dict(\n",
        "      tickangle=-55\n",
        "    ))\n",
        "fig"
      ],
      "metadata": {
        "colab": {
          "base_uri": "https://localhost:8080/",
          "height": 617
        },
        "id": "cKx_C37ENQFj",
        "outputId": "9d6a3e6c-38f0-4759-d212-c2531b2f256e"
      },
      "execution_count": 95,
      "outputs": [
        {
          "output_type": "display_data",
          "data": {
            "text/html": [
              "<html>\n",
              "<head><meta charset=\"utf-8\" /></head>\n",
              "<body>\n",
              "    <div>            <script src=\"https://cdnjs.cloudflare.com/ajax/libs/mathjax/2.7.5/MathJax.js?config=TeX-AMS-MML_SVG\"></script><script type=\"text/javascript\">if (window.MathJax) {MathJax.Hub.Config({SVG: {font: \"STIX-Web\"}});}</script>                <script type=\"text/javascript\">window.PlotlyConfig = {MathJaxConfig: 'local'};</script>\n",
              "        <script src=\"https://cdn.plot.ly/plotly-2.8.3.min.js\"></script>                <div id=\"022c1c99-a068-438d-a390-3e0449082f10\" class=\"plotly-graph-div\" style=\"height:600px; width:1300px;\"></div>            <script type=\"text/javascript\">                                    window.PLOTLYENV=window.PLOTLYENV || {};                                    if (document.getElementById(\"022c1c99-a068-438d-a390-3e0449082f10\")) {                    Plotly.newPlot(                        \"022c1c99-a068-438d-a390-3e0449082f10\",                        [{\"mode\":\"markers\",\"name\":\"prediction\",\"x\":[0,1,2,3,4,5,6,7,8,9,10,11,12,13,14,15,16,17,18,19,20,21,22,23,24,25,26,27,28,29,30,31,32,33,34,35,36,37,38,39,40,41,42,43,44,45,46,47,48,49,50,51,52,53,54,55,56,57,58,59],\"y\":[4.229348280668847,1.8079785150551873,3.074635733702808,1.8488272240788375,1.1029280241323016,1.6704287159133953,2.6183976627493255,1.0861867004413237,1.4812516983282804,9.209675257332924,1.738439620084963,1.248493768877483,1.6571779386726282,1.2181237496760828,0.2322577901732785,1.8142999609174362,1.174051638628638,0.6348299546577665,1.0301581185441684,2.454666010478435,0.6442189155448788,2.126955052208419,2.04765916494147,0.8063991806554508,1.0273637317078967,1.5272676079314078,2.276821728776142,2.3381986502426324,2.5717053178571527,1.7637508792557912,0.9673108782674428,1.4511978549980586,1.434131981895914,2.0331381695794875,0.5405203857078709,1.5086964525354456,4.231173828258687,0.13987183355220453,1.1968337750309617,0.20935401025791778,1.8346891809802355,1.4940073545817094,1.3525399810146883,3.11137146909963,3.595178370552671,0.8362799881162482,1.403681913451446,0.9336691022338705,0.6642053832382482,0.5782844011343461,3.1459915379181513,3.074394749637692,1.2737998396909518,1.4441558723009484,1.3394015417084872,1.1683300294960508,1.4211674860139174,1.4709413252269727,1.9098233457989966,1.2921324604249536],\"type\":\"scatter\"},{\"mode\":\"markers\",\"name\":\"true\",\"x\":[0,1,2,3,4,5,6,7,8,9,10,11,12,13,14,15,16,17,18,19,20,21,22,23,24,25,26,27,28,29,30,31,32,33,34,35,36,37,38,39,40,41,42,43,44,45,46,47,48,49,50,51,52,53,54,55,56,57,58,59],\"y\":[2.066867734937901,4.337237340580915,0.2305629081051471,2.084635559735059,2.7442883930792563,0.0192755205726593,0.2943238458342477,2.4826018626722064,0.203932072833619,0.0409006783683374,11.52602232138269,1.577688604884621,0.3390587328367422,2.191496012204058,0.7764555771470386,0.1758380860904564,0.2280146323079051,0.16727315316858,0.1130562068035464,6.975005688650129,0.4249063189985675,0.6130952776413092,2.445548775907572,1.7669578879506211,2.448655947771453,6.061799750824881,0.049082475812344,4.198527373492792,0.166049097328586,1.9199452320691728,0.2170390048189991,4.928806134666185,0.0795304303606986,5.323660021411784,0.1786461503905826,0.2771529049358434,1.766917205397092,0.1363186618184711,1.0636160163287387,0.4355592460389274,0.0487240436828038,1.094587161553741,0.3621832839597932,0.07721576895727,1.7895023078987062,6.6888281955929845,0.0499433936139308,7.778102018196818,0.4669524580030597,0.5652093506392439,3.615690203859432,4.329822355712029,0.3490145198565439,0.0865495243109864,4.915391884443761,0.8316242669190889,0.1223803856638421,2.208858600297833,4.639259736573849,0.784711578032083],\"type\":\"scatter\",\"xaxis\":\"x\",\"yaxis\":\"y\"}],                        {\"template\":{\"data\":{\"bar\":[{\"error_x\":{\"color\":\"#2a3f5f\"},\"error_y\":{\"color\":\"#2a3f5f\"},\"marker\":{\"line\":{\"color\":\"#E5ECF6\",\"width\":0.5},\"pattern\":{\"fillmode\":\"overlay\",\"size\":10,\"solidity\":0.2}},\"type\":\"bar\"}],\"barpolar\":[{\"marker\":{\"line\":{\"color\":\"#E5ECF6\",\"width\":0.5},\"pattern\":{\"fillmode\":\"overlay\",\"size\":10,\"solidity\":0.2}},\"type\":\"barpolar\"}],\"carpet\":[{\"aaxis\":{\"endlinecolor\":\"#2a3f5f\",\"gridcolor\":\"white\",\"linecolor\":\"white\",\"minorgridcolor\":\"white\",\"startlinecolor\":\"#2a3f5f\"},\"baxis\":{\"endlinecolor\":\"#2a3f5f\",\"gridcolor\":\"white\",\"linecolor\":\"white\",\"minorgridcolor\":\"white\",\"startlinecolor\":\"#2a3f5f\"},\"type\":\"carpet\"}],\"choropleth\":[{\"colorbar\":{\"outlinewidth\":0,\"ticks\":\"\"},\"type\":\"choropleth\"}],\"contour\":[{\"colorbar\":{\"outlinewidth\":0,\"ticks\":\"\"},\"colorscale\":[[0.0,\"#0d0887\"],[0.1111111111111111,\"#46039f\"],[0.2222222222222222,\"#7201a8\"],[0.3333333333333333,\"#9c179e\"],[0.4444444444444444,\"#bd3786\"],[0.5555555555555556,\"#d8576b\"],[0.6666666666666666,\"#ed7953\"],[0.7777777777777778,\"#fb9f3a\"],[0.8888888888888888,\"#fdca26\"],[1.0,\"#f0f921\"]],\"type\":\"contour\"}],\"contourcarpet\":[{\"colorbar\":{\"outlinewidth\":0,\"ticks\":\"\"},\"type\":\"contourcarpet\"}],\"heatmap\":[{\"colorbar\":{\"outlinewidth\":0,\"ticks\":\"\"},\"colorscale\":[[0.0,\"#0d0887\"],[0.1111111111111111,\"#46039f\"],[0.2222222222222222,\"#7201a8\"],[0.3333333333333333,\"#9c179e\"],[0.4444444444444444,\"#bd3786\"],[0.5555555555555556,\"#d8576b\"],[0.6666666666666666,\"#ed7953\"],[0.7777777777777778,\"#fb9f3a\"],[0.8888888888888888,\"#fdca26\"],[1.0,\"#f0f921\"]],\"type\":\"heatmap\"}],\"heatmapgl\":[{\"colorbar\":{\"outlinewidth\":0,\"ticks\":\"\"},\"colorscale\":[[0.0,\"#0d0887\"],[0.1111111111111111,\"#46039f\"],[0.2222222222222222,\"#7201a8\"],[0.3333333333333333,\"#9c179e\"],[0.4444444444444444,\"#bd3786\"],[0.5555555555555556,\"#d8576b\"],[0.6666666666666666,\"#ed7953\"],[0.7777777777777778,\"#fb9f3a\"],[0.8888888888888888,\"#fdca26\"],[1.0,\"#f0f921\"]],\"type\":\"heatmapgl\"}],\"histogram\":[{\"marker\":{\"pattern\":{\"fillmode\":\"overlay\",\"size\":10,\"solidity\":0.2}},\"type\":\"histogram\"}],\"histogram2d\":[{\"colorbar\":{\"outlinewidth\":0,\"ticks\":\"\"},\"colorscale\":[[0.0,\"#0d0887\"],[0.1111111111111111,\"#46039f\"],[0.2222222222222222,\"#7201a8\"],[0.3333333333333333,\"#9c179e\"],[0.4444444444444444,\"#bd3786\"],[0.5555555555555556,\"#d8576b\"],[0.6666666666666666,\"#ed7953\"],[0.7777777777777778,\"#fb9f3a\"],[0.8888888888888888,\"#fdca26\"],[1.0,\"#f0f921\"]],\"type\":\"histogram2d\"}],\"histogram2dcontour\":[{\"colorbar\":{\"outlinewidth\":0,\"ticks\":\"\"},\"colorscale\":[[0.0,\"#0d0887\"],[0.1111111111111111,\"#46039f\"],[0.2222222222222222,\"#7201a8\"],[0.3333333333333333,\"#9c179e\"],[0.4444444444444444,\"#bd3786\"],[0.5555555555555556,\"#d8576b\"],[0.6666666666666666,\"#ed7953\"],[0.7777777777777778,\"#fb9f3a\"],[0.8888888888888888,\"#fdca26\"],[1.0,\"#f0f921\"]],\"type\":\"histogram2dcontour\"}],\"mesh3d\":[{\"colorbar\":{\"outlinewidth\":0,\"ticks\":\"\"},\"type\":\"mesh3d\"}],\"parcoords\":[{\"line\":{\"colorbar\":{\"outlinewidth\":0,\"ticks\":\"\"}},\"type\":\"parcoords\"}],\"pie\":[{\"automargin\":true,\"type\":\"pie\"}],\"scatter\":[{\"marker\":{\"colorbar\":{\"outlinewidth\":0,\"ticks\":\"\"}},\"type\":\"scatter\"}],\"scatter3d\":[{\"line\":{\"colorbar\":{\"outlinewidth\":0,\"ticks\":\"\"}},\"marker\":{\"colorbar\":{\"outlinewidth\":0,\"ticks\":\"\"}},\"type\":\"scatter3d\"}],\"scattercarpet\":[{\"marker\":{\"colorbar\":{\"outlinewidth\":0,\"ticks\":\"\"}},\"type\":\"scattercarpet\"}],\"scattergeo\":[{\"marker\":{\"colorbar\":{\"outlinewidth\":0,\"ticks\":\"\"}},\"type\":\"scattergeo\"}],\"scattergl\":[{\"marker\":{\"colorbar\":{\"outlinewidth\":0,\"ticks\":\"\"}},\"type\":\"scattergl\"}],\"scattermapbox\":[{\"marker\":{\"colorbar\":{\"outlinewidth\":0,\"ticks\":\"\"}},\"type\":\"scattermapbox\"}],\"scatterpolar\":[{\"marker\":{\"colorbar\":{\"outlinewidth\":0,\"ticks\":\"\"}},\"type\":\"scatterpolar\"}],\"scatterpolargl\":[{\"marker\":{\"colorbar\":{\"outlinewidth\":0,\"ticks\":\"\"}},\"type\":\"scatterpolargl\"}],\"scatterternary\":[{\"marker\":{\"colorbar\":{\"outlinewidth\":0,\"ticks\":\"\"}},\"type\":\"scatterternary\"}],\"surface\":[{\"colorbar\":{\"outlinewidth\":0,\"ticks\":\"\"},\"colorscale\":[[0.0,\"#0d0887\"],[0.1111111111111111,\"#46039f\"],[0.2222222222222222,\"#7201a8\"],[0.3333333333333333,\"#9c179e\"],[0.4444444444444444,\"#bd3786\"],[0.5555555555555556,\"#d8576b\"],[0.6666666666666666,\"#ed7953\"],[0.7777777777777778,\"#fb9f3a\"],[0.8888888888888888,\"#fdca26\"],[1.0,\"#f0f921\"]],\"type\":\"surface\"}],\"table\":[{\"cells\":{\"fill\":{\"color\":\"#EBF0F8\"},\"line\":{\"color\":\"white\"}},\"header\":{\"fill\":{\"color\":\"#C8D4E3\"},\"line\":{\"color\":\"white\"}},\"type\":\"table\"}]},\"layout\":{\"annotationdefaults\":{\"arrowcolor\":\"#2a3f5f\",\"arrowhead\":0,\"arrowwidth\":1},\"autotypenumbers\":\"strict\",\"coloraxis\":{\"colorbar\":{\"outlinewidth\":0,\"ticks\":\"\"}},\"colorscale\":{\"diverging\":[[0,\"#8e0152\"],[0.1,\"#c51b7d\"],[0.2,\"#de77ae\"],[0.3,\"#f1b6da\"],[0.4,\"#fde0ef\"],[0.5,\"#f7f7f7\"],[0.6,\"#e6f5d0\"],[0.7,\"#b8e186\"],[0.8,\"#7fbc41\"],[0.9,\"#4d9221\"],[1,\"#276419\"]],\"sequential\":[[0.0,\"#0d0887\"],[0.1111111111111111,\"#46039f\"],[0.2222222222222222,\"#7201a8\"],[0.3333333333333333,\"#9c179e\"],[0.4444444444444444,\"#bd3786\"],[0.5555555555555556,\"#d8576b\"],[0.6666666666666666,\"#ed7953\"],[0.7777777777777778,\"#fb9f3a\"],[0.8888888888888888,\"#fdca26\"],[1.0,\"#f0f921\"]],\"sequentialminus\":[[0.0,\"#0d0887\"],[0.1111111111111111,\"#46039f\"],[0.2222222222222222,\"#7201a8\"],[0.3333333333333333,\"#9c179e\"],[0.4444444444444444,\"#bd3786\"],[0.5555555555555556,\"#d8576b\"],[0.6666666666666666,\"#ed7953\"],[0.7777777777777778,\"#fb9f3a\"],[0.8888888888888888,\"#fdca26\"],[1.0,\"#f0f921\"]]},\"colorway\":[\"#636efa\",\"#EF553B\",\"#00cc96\",\"#ab63fa\",\"#FFA15A\",\"#19d3f3\",\"#FF6692\",\"#B6E880\",\"#FF97FF\",\"#FECB52\"],\"font\":{\"color\":\"#2a3f5f\"},\"geo\":{\"bgcolor\":\"white\",\"lakecolor\":\"white\",\"landcolor\":\"#E5ECF6\",\"showlakes\":true,\"showland\":true,\"subunitcolor\":\"white\"},\"hoverlabel\":{\"align\":\"left\"},\"hovermode\":\"closest\",\"mapbox\":{\"style\":\"light\"},\"paper_bgcolor\":\"white\",\"plot_bgcolor\":\"#E5ECF6\",\"polar\":{\"angularaxis\":{\"gridcolor\":\"white\",\"linecolor\":\"white\",\"ticks\":\"\"},\"bgcolor\":\"#E5ECF6\",\"radialaxis\":{\"gridcolor\":\"white\",\"linecolor\":\"white\",\"ticks\":\"\"}},\"scene\":{\"xaxis\":{\"backgroundcolor\":\"#E5ECF6\",\"gridcolor\":\"white\",\"gridwidth\":2,\"linecolor\":\"white\",\"showbackground\":true,\"ticks\":\"\",\"zerolinecolor\":\"white\"},\"yaxis\":{\"backgroundcolor\":\"#E5ECF6\",\"gridcolor\":\"white\",\"gridwidth\":2,\"linecolor\":\"white\",\"showbackground\":true,\"ticks\":\"\",\"zerolinecolor\":\"white\"},\"zaxis\":{\"backgroundcolor\":\"#E5ECF6\",\"gridcolor\":\"white\",\"gridwidth\":2,\"linecolor\":\"white\",\"showbackground\":true,\"ticks\":\"\",\"zerolinecolor\":\"white\"}},\"shapedefaults\":{\"line\":{\"color\":\"#2a3f5f\"}},\"ternary\":{\"aaxis\":{\"gridcolor\":\"white\",\"linecolor\":\"white\",\"ticks\":\"\"},\"baxis\":{\"gridcolor\":\"white\",\"linecolor\":\"white\",\"ticks\":\"\"},\"bgcolor\":\"#E5ECF6\",\"caxis\":{\"gridcolor\":\"white\",\"linecolor\":\"white\",\"ticks\":\"\"}},\"title\":{\"x\":0.05},\"xaxis\":{\"automargin\":true,\"gridcolor\":\"white\",\"linecolor\":\"white\",\"ticks\":\"\",\"title\":{\"standoff\":15},\"zerolinecolor\":\"white\",\"zerolinewidth\":2},\"yaxis\":{\"automargin\":true,\"gridcolor\":\"white\",\"linecolor\":\"white\",\"ticks\":\"\",\"title\":{\"standoff\":15},\"zerolinecolor\":\"white\",\"zerolinewidth\":2}}},\"xaxis\":{\"anchor\":\"y\",\"domain\":[0.0,1.0],\"tickangle\":-55},\"yaxis\":{\"anchor\":\"x\",\"domain\":[0.0,1.0]},\"height\":600,\"width\":1300,\"title\":{\"text\":\"True vs predicted values closeness\"}},                        {\"responsive\": true}                    ).then(function(){\n",
              "                            \n",
              "var gd = document.getElementById('022c1c99-a068-438d-a390-3e0449082f10');\n",
              "var x = new MutationObserver(function (mutations, observer) {{\n",
              "        var display = window.getComputedStyle(gd).display;\n",
              "        if (!display || display === 'none') {{\n",
              "            console.log([gd, 'removed!']);\n",
              "            Plotly.purge(gd);\n",
              "            observer.disconnect();\n",
              "        }}\n",
              "}});\n",
              "\n",
              "// Listen for the removal of the full notebook cells\n",
              "var notebookContainer = gd.closest('#notebook-container');\n",
              "if (notebookContainer) {{\n",
              "    x.observe(notebookContainer, {childList: true});\n",
              "}}\n",
              "\n",
              "// Listen for the clearing of the current output cell\n",
              "var outputEl = gd.closest('.output');\n",
              "if (outputEl) {{\n",
              "    x.observe(outputEl, {childList: true});\n",
              "}}\n",
              "\n",
              "                        })                };                            </script>        </div>\n",
              "</body>\n",
              "</html>"
            ]
          },
          "metadata": {}
        }
      ]
    },
    {
      "cell_type": "code",
      "source": [
        "res_df.true.mean(), res_df.prediction.mean()"
      ],
      "metadata": {
        "colab": {
          "base_uri": "https://localhost:8080/"
        },
        "id": "nAFfh0AcNQIk",
        "outputId": "9bce0156-bc38-48be-a913-f0637252ca26"
      },
      "execution_count": 97,
      "outputs": [
        {
          "output_type": "execute_result",
          "data": {
            "text/plain": [
              "(1.898014998065459, 1.7586461849156592)"
            ]
          },
          "metadata": {},
          "execution_count": 97
        }
      ]
    },
    {
      "cell_type": "markdown",
      "source": [
        "To get a higher degree of clarity on what's really happening, let's do some groupings on our dataset."
      ],
      "metadata": {
        "id": "R9Fxh-0wZGz0"
      }
    },
    {
      "cell_type": "code",
      "source": [
        "res_df['topicLabel']=test_X_['topicLabel']"
      ],
      "metadata": {
        "id": "rSAqvaWyZUT4"
      },
      "execution_count": 101,
      "outputs": []
    },
    {
      "cell_type": "code",
      "source": [
        "res_df['diff'] = abs(res_df['true']-res_df['prediction'])"
      ],
      "metadata": {
        "id": "32A-JLk5ZUW_"
      },
      "execution_count": 102,
      "outputs": []
    },
    {
      "cell_type": "code",
      "source": [
        "res_df.groupby('topicLabel')['diff'].agg('median').sort_values(ascending=False).plot(kind='bar')\n",
        "plt.title(\"median mean absolute errors across topics/categories\");"
      ],
      "metadata": {
        "colab": {
          "base_uri": "https://localhost:8080/",
          "height": 344
        },
        "id": "96_xwobLZUaA",
        "outputId": "14966996-3c4d-4bdb-a7d8-78ed3695580c"
      },
      "execution_count": 117,
      "outputs": [
        {
          "output_type": "display_data",
          "data": {
            "text/plain": [
              "<Figure size 432x288 with 1 Axes>"
            ],
            "image/png": "[encoded data removed]"
          },
          "metadata": {
            "needs_background": "light"
          }
        }
      ]
    },
    {
      "cell_type": "code",
      "source": [
        "w2v_cols = ['title_'+str(i) for i in range(1, 51)]"
      ],
      "metadata": {
        "id": "PHvfUoyg0bp_"
      },
      "execution_count": 167,
      "outputs": []
    },
    {
      "cell_type": "code",
      "source": [
        "test_X_[[w2v_cols[0]]+['topicLabel']].groupby('topicLabel').describe()"
      ],
      "metadata": {
        "colab": {
          "base_uri": "https://localhost:8080/",
          "height": 421
        },
        "id": "jNV8ZabP0Dqd",
        "outputId": "d136b54f-035c-47e6-b94f-475bae87df7f"
      },
      "execution_count": 166,
      "outputs": [
        {
          "output_type": "execute_result",
          "data": {
            "text/plain": [
              "            title_1                                                    \\\n",
              "              count      mean       std       min       25%       50%   \n",
              "topicLabel                                                              \n",
              "comedy       1007.0 -0.074306  0.164462 -0.557610 -0.186585 -0.094475   \n",
              "cooking      1362.0 -0.070959  0.143145 -0.814060 -0.173812 -0.078839   \n",
              "educational   990.0 -0.094075  0.128383 -0.493080 -0.186577 -0.103703   \n",
              "fitness       926.0 -0.075305  0.152959 -0.557610 -0.159351 -0.087642   \n",
              "history       768.0 -0.084423  0.129932 -0.943200 -0.155760 -0.094431   \n",
              "music         692.0 -0.061454  0.154300 -0.462925 -0.158041 -0.082358   \n",
              "news         1231.0 -0.096490  0.158808 -0.814060 -0.190977 -0.097350   \n",
              "science       826.0 -0.087806  0.152203 -0.596605 -0.179610 -0.104834   \n",
              "travel        846.0 -0.078890  0.146748 -0.661423 -0.179081 -0.081783   \n",
              "yoga          974.0 -0.070618  0.129975 -0.493080 -0.150420 -0.082588   \n",
              "\n",
              "                                 \n",
              "                  75%       max  \n",
              "topicLabel                       \n",
              "comedy       0.014036  0.738330  \n",
              "cooking      0.026794  0.379943  \n",
              "educational -0.000613  0.441440  \n",
              "fitness      0.003899  0.526690  \n",
              "history     -0.016019  0.379943  \n",
              "music        0.015937  0.406600  \n",
              "news         0.004080  0.632510  \n",
              "science     -0.000032  0.441440  \n",
              "travel       0.012652  0.330722  \n",
              "yoga        -0.016540  0.370893  "
            ],
            "text/html": [
              "\n",
              "  <div id=\"df-1db2073c-93ed-4a65-bcb8-e7d0ed68b2a5\">\n",
              "    <div class=\"colab-df-container\">\n",
              "      <div>\n",
              "<style scoped>\n",
              "    .dataframe tbody tr th:only-of-type {\n",
              "        vertical-align: middle;\n",
              "    }\n",
              "\n",
              "    .dataframe tbody tr th {\n",
              "        vertical-align: top;\n",
              "    }\n",
              "\n",
              "    .dataframe thead tr th {\n",
              "        text-align: left;\n",
              "    }\n",
              "\n",
              "    .dataframe thead tr:last-of-type th {\n",
              "        text-align: right;\n",
              "    }\n",
              "</style>\n",
              "<table border=\"1\" class=\"dataframe\">\n",
              "  <thead>\n",
              "    <tr>\n",
              "      <th></th>\n",
              "      <th colspan=\"8\" halign=\"left\">title_1</th>\n",
              "    </tr>\n",
              "    <tr>\n",
              "      <th></th>\n",
              "      <th>count</th>\n",
              "      <th>mean</th>\n",
              "      <th>std</th>\n",
              "      <th>min</th>\n",
              "      <th>25%</th>\n",
              "      <th>50%</th>\n",
              "      <th>75%</th>\n",
              "      <th>max</th>\n",
              "    </tr>\n",
              "    <tr>\n",
              "      <th>topicLabel</th>\n",
              "      <th></th>\n",
              "      <th></th>\n",
              "      <th></th>\n",
              "      <th></th>\n",
              "      <th></th>\n",
              "      <th></th>\n",
              "      <th></th>\n",
              "      <th></th>\n",
              "    </tr>\n",
              "  </thead>\n",
              "  <tbody>\n",
              "    <tr>\n",
              "      <th>comedy</th>\n",
              "      <td>1007.0</td>\n",
              "      <td>-0.074306</td>\n",
              "      <td>0.164462</td>\n",
              "      <td>-0.557610</td>\n",
              "      <td>-0.186585</td>\n",
              "      <td>-0.094475</td>\n",
              "      <td>0.014036</td>\n",
              "      <td>0.738330</td>\n",
              "    </tr>\n",
              "    <tr>\n",
              "      <th>cooking</th>\n",
              "      <td>1362.0</td>\n",
              "      <td>-0.070959</td>\n",
              "      <td>0.143145</td>\n",
              "      <td>-0.814060</td>\n",
              "      <td>-0.173812</td>\n",
              "      <td>-0.078839</td>\n",
              "      <td>0.026794</td>\n",
              "      <td>0.379943</td>\n",
              "    </tr>\n",
              "    <tr>\n",
              "      <th>educational</th>\n",
              "      <td>990.0</td>\n",
              "      <td>-0.094075</td>\n",
              "      <td>0.128383</td>\n",
              "      <td>-0.493080</td>\n",
              "      <td>-0.186577</td>\n",
              "      <td>-0.103703</td>\n",
              "      <td>-0.000613</td>\n",
              "      <td>0.441440</td>\n",
              "    </tr>\n",
              "    <tr>\n",
              "      <th>fitness</th>\n",
              "      <td>926.0</td>\n",
              "      <td>-0.075305</td>\n",
              "      <td>0.152959</td>\n",
              "      <td>-0.557610</td>\n",
              "      <td>-0.159351</td>\n",
              "      <td>-0.087642</td>\n",
              "      <td>0.003899</td>\n",
              "      <td>0.526690</td>\n",
              "    </tr>\n",
              "    <tr>\n",
              "      <th>history</th>\n",
              "      <td>768.0</td>\n",
              "      <td>-0.084423</td>\n",
              "      <td>0.129932</td>\n",
              "      <td>-0.943200</td>\n",
              "      <td>-0.155760</td>\n",
              "      <td>-0.094431</td>\n",
              "      <td>-0.016019</td>\n",
              "      <td>0.379943</td>\n",
              "    </tr>\n",
              "    <tr>\n",
              "      <th>music</th>\n",
              "      <td>692.0</td>\n",
              "      <td>-0.061454</td>\n",
              "      <td>0.154300</td>\n",
              "      <td>-0.462925</td>\n",
              "      <td>-0.158041</td>\n",
              "      <td>-0.082358</td>\n",
              "      <td>0.015937</td>\n",
              "      <td>0.406600</td>\n",
              "    </tr>\n",
              "    <tr>\n",
              "      <th>news</th>\n",
              "      <td>1231.0</td>\n",
              "      <td>-0.096490</td>\n",
              "      <td>0.158808</td>\n",
              "      <td>-0.814060</td>\n",
              "      <td>-0.190977</td>\n",
              "      <td>-0.097350</td>\n",
              "      <td>0.004080</td>\n",
              "      <td>0.632510</td>\n",
              "    </tr>\n",
              "    <tr>\n",
              "      <th>science</th>\n",
              "      <td>826.0</td>\n",
              "      <td>-0.087806</td>\n",
              "      <td>0.152203</td>\n",
              "      <td>-0.596605</td>\n",
              "      <td>-0.179610</td>\n",
              "      <td>-0.104834</td>\n",
              "      <td>-0.000032</td>\n",
              "      <td>0.441440</td>\n",
              "    </tr>\n",
              "    <tr>\n",
              "      <th>travel</th>\n",
              "      <td>846.0</td>\n",
              "      <td>-0.078890</td>\n",
              "      <td>0.146748</td>\n",
              "      <td>-0.661423</td>\n",
              "      <td>-0.179081</td>\n",
              "      <td>-0.081783</td>\n",
              "      <td>0.012652</td>\n",
              "      <td>0.330722</td>\n",
              "    </tr>\n",
              "    <tr>\n",
              "      <th>yoga</th>\n",
              "      <td>974.0</td>\n",
              "      <td>-0.070618</td>\n",
              "      <td>0.129975</td>\n",
              "      <td>-0.493080</td>\n",
              "      <td>-0.150420</td>\n",
              "      <td>-0.082588</td>\n",
              "      <td>-0.016540</td>\n",
              "      <td>0.370893</td>\n",
              "    </tr>\n",
              "  </tbody>\n",
              "</table>\n",
              "</div>\n",
              "      <button class=\"colab-df-convert\" onclick=\"convertToInteractive('df-1db2073c-93ed-4a65-bcb8-e7d0ed68b2a5')\"\n",
              "              title=\"Convert this dataframe to an interactive table.\"\n",
              "              style=\"display:none;\">\n",
              "        \n",
              "  <svg xmlns=\"http://www.w3.org/2000/svg\" height=\"24px\"viewBox=\"0 0 24 24\"\n",
              "       width=\"24px\">\n",
              "    <path d=\"M0 0h24v24H0V0z\" fill=\"none\"/>\n",
              "    <path d=\"M18.56 5.44l.94 2.06.94-2.06 2.06-.94-2.06-.94-.94-2.06-.94 2.06-2.06.94zm-11 1L8.5 8.5l.94-2.06 2.06-.94-2.06-.94L8.5 2.5l-.94 2.06-2.06.94zm10 10l.94 2.06.94-2.06 2.06-.94-2.06-.94-.94-2.06-.94 2.06-2.06.94z\"/><path d=\"M17.41 7.96l-1.37-1.37c-.4-.4-.92-.59-1.43-.59-.52 0-1.04.2-1.43.59L10.3 9.45l-7.72 7.72c-.78.78-.78 2.05 0 2.83L4 21.41c.39.39.9.59 1.41.59.51 0 1.02-.2 1.41-.59l7.78-7.78 2.81-2.81c.8-.78.8-2.07 0-2.86zM5.41 20L4 18.59l7.72-7.72 1.47 1.35L5.41 20z\"/>\n",
              "  </svg>\n",
              "      </button>\n",
              "      \n",
              "  <style>\n",
              "    .colab-df-container {\n",
              "      display:flex;\n",
              "      flex-wrap:wrap;\n",
              "      gap: 12px;\n",
              "    }\n",
              "\n",
              "    .colab-df-convert {\n",
              "      background-color: #E8F0FE;\n",
              "      border: none;\n",
              "      border-radius: 50%;\n",
              "      cursor: pointer;\n",
              "      display: none;\n",
              "      fill: #1967D2;\n",
              "      height: 32px;\n",
              "      padding: 0 0 0 0;\n",
              "      width: 32px;\n",
              "    }\n",
              "\n",
              "    .colab-df-convert:hover {\n",
              "      background-color: #E2EBFA;\n",
              "      box-shadow: 0px 1px 2px rgba(60, 64, 67, 0.3), 0px 1px 3px 1px rgba(60, 64, 67, 0.15);\n",
              "      fill: #174EA6;\n",
              "    }\n",
              "\n",
              "    [theme=dark] .colab-df-convert {\n",
              "      background-color: #3B4455;\n",
              "      fill: #D2E3FC;\n",
              "    }\n",
              "\n",
              "    [theme=dark] .colab-df-convert:hover {\n",
              "      background-color: #434B5C;\n",
              "      box-shadow: 0px 1px 3px 1px rgba(0, 0, 0, 0.15);\n",
              "      filter: drop-shadow(0px 1px 2px rgba(0, 0, 0, 0.3));\n",
              "      fill: #FFFFFF;\n",
              "    }\n",
              "  </style>\n",
              "\n",
              "      <script>\n",
              "        const buttonEl =\n",
              "          document.querySelector('#df-1db2073c-93ed-4a65-bcb8-e7d0ed68b2a5 button.colab-df-convert');\n",
              "        buttonEl.style.display =\n",
              "          google.colab.kernel.accessAllowed ? 'block' : 'none';\n",
              "\n",
              "        async function convertToInteractive(key) {\n",
              "          const element = document.querySelector('#df-1db2073c-93ed-4a65-bcb8-e7d0ed68b2a5');\n",
              "          const dataTable =\n",
              "            await google.colab.kernel.invokeFunction('convertToInteractive',\n",
              "                                                     [key], {});\n",
              "          if (!dataTable) return;\n",
              "\n",
              "          const docLinkHtml = 'Like what you see? Visit the ' +\n",
              "            '<a target=\"_blank\" href=https://colab.research.google.com/notebooks/data_table.ipynb>data table notebook</a>'\n",
              "            + ' to learn more about interactive tables.';\n",
              "          element.innerHTML = '';\n",
              "          dataTable['output_type'] = 'display_data';\n",
              "          await google.colab.output.renderOutput(dataTable, element);\n",
              "          const docLink = document.createElement('div');\n",
              "          docLink.innerHTML = docLinkHtml;\n",
              "          element.appendChild(docLink);\n",
              "        }\n",
              "      </script>\n",
              "    </div>\n",
              "  </div>\n",
              "  "
            ]
          },
          "metadata": {},
          "execution_count": 166
        }
      ]
    },
    {
      "cell_type": "code",
      "source": [
        "pca = KernelPCA(n_components=1, kernel='poly', degree=5)\n",
        "pca.fit(test_X_[w2v_cols])"
      ],
      "metadata": {
        "colab": {
          "base_uri": "https://localhost:8080/"
        },
        "id": "jL9UKRNA6d-b",
        "outputId": "172c0ae9-621b-41b3-9bf1-473689cb981b"
      },
      "execution_count": 225,
      "outputs": [
        {
          "output_type": "execute_result",
          "data": {
            "text/plain": [
              "KernelPCA(degree=5, kernel='poly', n_components=1)"
            ]
          },
          "metadata": {},
          "execution_count": 225
        }
      ]
    },
    {
      "cell_type": "code",
      "source": [
        "x = pca.transform(test_X_[test_X_.topicLabel=='cooking'][w2v_cols])[:,0]\n",
        "y = pca.transform(test_X_[test_X_.topicLabel=='cooking'][w2v_cols])[:,1]"
      ],
      "metadata": {
        "id": "08Waxpdo71V7"
      },
      "execution_count": 205,
      "outputs": []
    },
    {
      "cell_type": "code",
      "source": [
        "plt.scatter(x, y);"
      ],
      "metadata": {
        "colab": {
          "base_uri": "https://localhost:8080/",
          "height": 265
        },
        "id": "W_ZXkjPr7C2l",
        "outputId": "6bf1ee11-5512-413f-f605-24f68a96660c"
      },
      "execution_count": 206,
      "outputs": [
        {
          "output_type": "display_data",
          "data": {
            "text/plain": [
              "<Figure size 432x288 with 1 Axes>"
            ],
            "image/png": "[encoded data removed]"
          },
          "metadata": {
            "needs_background": "light"
          }
        }
      ]
    },
    {
      "cell_type": "code",
      "source": [
        "x = pca.transform(test_X_[test_X_.topicLabel=='fitness'][w2v_cols])[:,0]\n",
        "y = pca.transform(test_X_[test_X_.topicLabel=='fitness'][w2v_cols])[:,1]"
      ],
      "metadata": {
        "id": "-FroWLlc7C7I"
      },
      "execution_count": 209,
      "outputs": []
    },
    {
      "cell_type": "code",
      "source": [
        "plt.scatter(x, y);"
      ],
      "metadata": {
        "colab": {
          "base_uri": "https://localhost:8080/",
          "height": 265
        },
        "id": "onSFF8G47C95",
        "outputId": "ff420f27-f894-48fa-85fe-4f7a23e642a3"
      },
      "execution_count": 210,
      "outputs": [
        {
          "output_type": "display_data",
          "data": {
            "text/plain": [
              "<Figure size 432x288 with 1 Axes>"
            ],
            "image/png": "[encoded data removed]"
          },
          "metadata": {
            "needs_background": "light"
          }
        }
      ]
    },
    {
      "cell_type": "markdown",
      "source": [
        "mean across labels With PC=1"
      ],
      "metadata": {
        "id": "ae4HwWGv-7Ba"
      }
    },
    {
      "cell_type": "code",
      "source": [
        "pd.DataFrame(pca.transform(test_X_[test_X_.topicLabel=='cooking'][w2v_cols])).describe().loc['mean']"
      ],
      "metadata": {
        "colab": {
          "base_uri": "https://localhost:8080/"
        },
        "id": "TcE-9gwt-SBO",
        "outputId": "54bb318d-f20b-438b-85d7-6f2b37bf2784"
      },
      "execution_count": 226,
      "outputs": [
        {
          "output_type": "execute_result",
          "data": {
            "text/plain": [
              "0    0.017089\n",
              "Name: mean, dtype: float64"
            ]
          },
          "metadata": {},
          "execution_count": 226
        }
      ]
    },
    {
      "cell_type": "code",
      "source": [
        "pd.DataFrame(pca.transform(test_X_[test_X_.topicLabel=='news'][w2v_cols])).describe().loc['mean']"
      ],
      "metadata": {
        "colab": {
          "base_uri": "https://localhost:8080/"
        },
        "id": "g2HjzAoQ-Y8N",
        "outputId": "5cb73eee-38a4-4f85-d32f-76360ba05f2a"
      },
      "execution_count": 227,
      "outputs": [
        {
          "output_type": "execute_result",
          "data": {
            "text/plain": [
              "0    0.030301\n",
              "Name: mean, dtype: float64"
            ]
          },
          "metadata": {},
          "execution_count": 227
        }
      ]
    },
    {
      "cell_type": "code",
      "source": [
        "pd.DataFrame(pca.transform(test_X_[test_X_.topicLabel=='music'][w2v_cols])).describe().loc['mean']"
      ],
      "metadata": {
        "colab": {
          "base_uri": "https://localhost:8080/"
        },
        "id": "XCC9cAHI_IjL",
        "outputId": "a01598ed-092b-42af-f64f-23b21383157e"
      },
      "execution_count": 230,
      "outputs": [
        {
          "output_type": "execute_result",
          "data": {
            "text/plain": [
              "0   -0.038058\n",
              "Name: mean, dtype: float64"
            ]
          },
          "metadata": {},
          "execution_count": 230
        }
      ]
    },
    {
      "cell_type": "code",
      "source": [
        "pd.DataFrame(pca.transform(test_X_[test_X_.topicLabel=='yoga'][w2v_cols])).describe().loc['mean']"
      ],
      "metadata": {
        "colab": {
          "base_uri": "https://localhost:8080/"
        },
        "id": "OHaEcBVX_KHK",
        "outputId": "0c0fbf5f-ac9e-4a76-c472-456ae7db6710"
      },
      "execution_count": 231,
      "outputs": [
        {
          "output_type": "execute_result",
          "data": {
            "text/plain": [
              "0    0.026005\n",
              "Name: mean, dtype: float64"
            ]
          },
          "metadata": {},
          "execution_count": 231
        }
      ]
    },
    {
      "cell_type": "code",
      "source": [
        "pd.DataFrame(pca.transform(test_X_[test_X_.topicLabel=='educational'][w2v_cols])).describe().loc['mean']"
      ],
      "metadata": {
        "colab": {
          "base_uri": "https://localhost:8080/"
        },
        "id": "SyBqITcf_Qgg",
        "outputId": "e3cdf3a0-ee1d-42e1-8b0f-d968350969e1"
      },
      "execution_count": 232,
      "outputs": [
        {
          "output_type": "execute_result",
          "data": {
            "text/plain": [
              "0   -0.001695\n",
              "Name: mean, dtype: float64"
            ]
          },
          "metadata": {},
          "execution_count": 232
        }
      ]
    },
    {
      "cell_type": "code",
      "source": [
        "pd.DataFrame(pca.transform(test_X_[test_X_.topicLabel=='travel'][w2v_cols])).describe().loc['mean']"
      ],
      "metadata": {
        "colab": {
          "base_uri": "https://localhost:8080/"
        },
        "id": "UHGK_7Dc_Qjb",
        "outputId": "d2cb0e20-519e-4e3d-d94f-f0185d0ac2e4"
      },
      "execution_count": 233,
      "outputs": [
        {
          "output_type": "execute_result",
          "data": {
            "text/plain": [
              "0    0.035405\n",
              "Name: mean, dtype: float64"
            ]
          },
          "metadata": {},
          "execution_count": 233
        }
      ]
    },
    {
      "cell_type": "code",
      "source": [
        "pd.DataFrame(pca.transform(test_X_[test_X_.topicLabel=='science'][w2v_cols])).describe().loc['mean']"
      ],
      "metadata": {
        "colab": {
          "base_uri": "https://localhost:8080/"
        },
        "id": "6RwVIs8V_Q89",
        "outputId": "c3939907-2992-4069-881f-d70b0305b296"
      },
      "execution_count": 234,
      "outputs": [
        {
          "output_type": "execute_result",
          "data": {
            "text/plain": [
              "0   -0.027958\n",
              "Name: mean, dtype: float64"
            ]
          },
          "metadata": {},
          "execution_count": 234
        }
      ]
    },
    {
      "cell_type": "code",
      "source": [
        "pd.DataFrame(pca.transform(test_X_[test_X_.topicLabel=='fitness'][w2v_cols])).describe().loc['mean']"
      ],
      "metadata": {
        "colab": {
          "base_uri": "https://localhost:8080/"
        },
        "id": "SeFDYGHc-SLi",
        "outputId": "619f9fb7-d514-4de0-e38d-225f1ec6fe72"
      },
      "execution_count": 228,
      "outputs": [
        {
          "output_type": "execute_result",
          "data": {
            "text/plain": [
              "0   -0.035737\n",
              "Name: mean, dtype: float64"
            ]
          },
          "metadata": {},
          "execution_count": 228
        }
      ]
    },
    {
      "cell_type": "code",
      "source": [
        "pd.DataFrame(pca.transform(test_X_[test_X_.topicLabel=='history'][w2v_cols])).describe().loc['mean']"
      ],
      "metadata": {
        "colab": {
          "base_uri": "https://localhost:8080/"
        },
        "id": "tiNOK1Sv-Wtf",
        "outputId": "d0f2a589-0f96-43ab-cc78-8cfd6129fed9"
      },
      "execution_count": 229,
      "outputs": [
        {
          "output_type": "execute_result",
          "data": {
            "text/plain": [
              "0    0.004801\n",
              "Name: mean, dtype: float64"
            ]
          },
          "metadata": {},
          "execution_count": 229
        }
      ]
    },
    {
      "cell_type": "markdown",
      "source": [
        "The above chart tells us that, across topics/categories, the model's performance is best for categories on the right(lower error is better) and worst on the left(higher error is worse)"
      ],
      "metadata": {
        "id": "AYxcWdkGbZdt"
      }
    },
    {
      "cell_type": "markdown",
      "source": [
        "In addition, We could also make a claim that selection of one of the categories amongst cooking, news, music would most likely throw the model farther away from the true value."
      ],
      "metadata": {
        "id": "i5HyWQdYcJbe"
      }
    },
    {
      "cell_type": "markdown",
      "source": [
        "We'll try and validate the above claim with 3 values that visually show a large difference between the true an dpredicted value"
      ],
      "metadata": {
        "id": "3hEf4pfkeO9M"
      }
    },
    {
      "cell_type": "code",
      "source": [
        "static_sample = test_X[:60]"
      ],
      "metadata": {
        "id": "c3g3-HlCaaGh"
      },
      "execution_count": 118,
      "outputs": []
    },
    {
      "cell_type": "code",
      "source": [
        "static_res_df = pd.DataFrame({'data_point#':list(np.arange(static_sample.shape[0])), 'true':list(test_y.values[:static_sample.shape[0]][:,0]), 'prediction':list(hgbr.predict(static_sample)[:static_sample.shape[0]])})"
      ],
      "metadata": {
        "id": "7bgayKezejs6"
      },
      "execution_count": 119,
      "outputs": []
    },
    {
      "cell_type": "code",
      "source": [
        "trace1 = go.Scatter(\n",
        "    x=static_res_df[\"data_point#\"],\n",
        "    y=static_res_df['prediction'],\n",
        "    name='prediction',\n",
        "    mode='markers',\n",
        ")\n",
        "trace2 = go.Scatter(\n",
        "    x=static_res_df[\"data_point#\"],\n",
        "    y=static_res_df['true'],\n",
        "    name='true',\n",
        "    mode='markers',\n",
        "\n",
        ")\n",
        "\n",
        "fig = make_subplots(specs=[[{\"secondary_y\": False}]])\n",
        "fig.add_trace(trace1)\n",
        "fig.add_trace(trace2,secondary_y=False)\n",
        "fig['layout'].update(height = 600, width = 1300, title = \"True vs predicted values closeness\",xaxis=dict(\n",
        "      tickangle=-55\n",
        "    ))\n",
        "fig"
      ],
      "metadata": {
        "colab": {
          "base_uri": "https://localhost:8080/",
          "height": 617
        },
        "id": "HCQ_am4FesHx",
        "outputId": "17d497f3-d222-40a6-844d-8574fd2bec1c"
      },
      "execution_count": 120,
      "outputs": [
        {
          "output_type": "display_data",
          "data": {
            "text/html": [
              "<html>\n",
              "<head><meta charset=\"utf-8\" /></head>\n",
              "<body>\n",
              "    <div>            <script src=\"https://cdnjs.cloudflare.com/ajax/libs/mathjax/2.7.5/MathJax.js?config=TeX-AMS-MML_SVG\"></script><script type=\"text/javascript\">if (window.MathJax) {MathJax.Hub.Config({SVG: {font: \"STIX-Web\"}});}</script>                <script type=\"text/javascript\">window.PlotlyConfig = {MathJaxConfig: 'local'};</script>\n",
              "        <script src=\"https://cdn.plot.ly/plotly-2.8.3.min.js\"></script>                <div id=\"d301d959-66c4-4306-ac35-bf7160c45fdc\" class=\"plotly-graph-div\" style=\"height:600px; width:1300px;\"></div>            <script type=\"text/javascript\">                                    window.PLOTLYENV=window.PLOTLYENV || {};                                    if (document.getElementById(\"d301d959-66c4-4306-ac35-bf7160c45fdc\")) {                    Plotly.newPlot(                        \"d301d959-66c4-4306-ac35-bf7160c45fdc\",                        [{\"mode\":\"markers\",\"name\":\"prediction\",\"x\":[0,1,2,3,4,5,6,7,8,9,10,11,12,13,14,15,16,17,18,19,20,21,22,23,24,25,26,27,28,29,30,31,32,33,34,35,36,37,38,39,40,41,42,43,44,45,46,47,48,49,50,51,52,53,54,55,56,57,58,59],\"y\":[1.763556144668019,3.282687382726396,3.1767237189549338,1.3013735298935067,1.7404104349465426,3.749452286636219,3.1131618106720365,1.1658957527786693,1.4031341940721636,0.9086122023576909,6.356736207457791,1.515577869105392,1.7115364464793428,2.108805411901485,1.7829240266233874,1.7064190071643668,1.8513393251921895,1.1666338581275892,0.9675622930681068,2.4463249460905985,1.0690049672182986,1.3095833061936966,1.4967937499849577,1.8520806229740094,2.2384604189956443,3.465292625536682,0.534790007202251,1.0353939078685594,-0.05570859246536744,2.954472596539639,1.2924029368368244,0.8949126811308171,0.8206071805767021,1.943852044364623,2.1577192126470974,2.1923967069529624,2.0091463900585214,1.1316239770024277,1.1145883439572852,1.0087963282773986,0.9861714363976694,0.3248616479866394,1.4382237801788191,2.1818361633321732,1.435551116130532,5.388699033046528,1.6021622705430585,2.276821728776142,1.182716290119208,2.3146598645383043,1.327712668382366,1.135357470098098,1.9848460772355518,3.1234700690099597,1.5611783140126112,1.396165600079711,0.7472646728940237,2.9428098939237466,1.3280177758621676,2.373195379902903],\"type\":\"scatter\"},{\"mode\":\"markers\",\"name\":\"true\",\"x\":[0,1,2,3,4,5,6,7,8,9,10,11,12,13,14,15,16,17,18,19,20,21,22,23,24,25,26,27,28,29,30,31,32,33,34,35,36,37,38,39,40,41,42,43,44,45,46,47,48,49,50,51,52,53,54,55,56,57,58,59],\"y\":[2.066867734937901,4.337237340580915,0.2305629081051471,2.084635559735059,2.7442883930792563,0.0192755205726593,0.2943238458342477,2.4826018626722064,0.203932072833619,0.0409006783683374,11.52602232138269,1.577688604884621,0.3390587328367422,2.191496012204058,0.7764555771470386,0.1758380860904564,0.2280146323079051,0.16727315316858,0.1130562068035464,6.975005688650129,0.4249063189985675,0.6130952776413092,2.445548775907572,1.7669578879506211,2.448655947771453,6.061799750824881,0.049082475812344,4.198527373492792,0.166049097328586,1.9199452320691728,0.2170390048189991,4.928806134666185,0.0795304303606986,5.323660021411784,0.1786461503905826,0.2771529049358434,1.766917205397092,0.1363186618184711,1.0636160163287387,0.4355592460389274,0.0487240436828038,1.094587161553741,0.3621832839597932,0.07721576895727,1.7895023078987062,6.6888281955929845,0.0499433936139308,7.778102018196818,0.4669524580030597,0.5652093506392439,3.615690203859432,4.329822355712029,0.3490145198565439,0.0865495243109864,4.915391884443761,0.8316242669190889,0.1223803856638421,2.208858600297833,4.639259736573849,0.784711578032083],\"type\":\"scatter\",\"xaxis\":\"x\",\"yaxis\":\"y\"}],                        {\"template\":{\"data\":{\"bar\":[{\"error_x\":{\"color\":\"#2a3f5f\"},\"error_y\":{\"color\":\"#2a3f5f\"},\"marker\":{\"line\":{\"color\":\"#E5ECF6\",\"width\":0.5},\"pattern\":{\"fillmode\":\"overlay\",\"size\":10,\"solidity\":0.2}},\"type\":\"bar\"}],\"barpolar\":[{\"marker\":{\"line\":{\"color\":\"#E5ECF6\",\"width\":0.5},\"pattern\":{\"fillmode\":\"overlay\",\"size\":10,\"solidity\":0.2}},\"type\":\"barpolar\"}],\"carpet\":[{\"aaxis\":{\"endlinecolor\":\"#2a3f5f\",\"gridcolor\":\"white\",\"linecolor\":\"white\",\"minorgridcolor\":\"white\",\"startlinecolor\":\"#2a3f5f\"},\"baxis\":{\"endlinecolor\":\"#2a3f5f\",\"gridcolor\":\"white\",\"linecolor\":\"white\",\"minorgridcolor\":\"white\",\"startlinecolor\":\"#2a3f5f\"},\"type\":\"carpet\"}],\"choropleth\":[{\"colorbar\":{\"outlinewidth\":0,\"ticks\":\"\"},\"type\":\"choropleth\"}],\"contour\":[{\"colorbar\":{\"outlinewidth\":0,\"ticks\":\"\"},\"colorscale\":[[0.0,\"#0d0887\"],[0.1111111111111111,\"#46039f\"],[0.2222222222222222,\"#7201a8\"],[0.3333333333333333,\"#9c179e\"],[0.4444444444444444,\"#bd3786\"],[0.5555555555555556,\"#d8576b\"],[0.6666666666666666,\"#ed7953\"],[0.7777777777777778,\"#fb9f3a\"],[0.8888888888888888,\"#fdca26\"],[1.0,\"#f0f921\"]],\"type\":\"contour\"}],\"contourcarpet\":[{\"colorbar\":{\"outlinewidth\":0,\"ticks\":\"\"},\"type\":\"contourcarpet\"}],\"heatmap\":[{\"colorbar\":{\"outlinewidth\":0,\"ticks\":\"\"},\"colorscale\":[[0.0,\"#0d0887\"],[0.1111111111111111,\"#46039f\"],[0.2222222222222222,\"#7201a8\"],[0.3333333333333333,\"#9c179e\"],[0.4444444444444444,\"#bd3786\"],[0.5555555555555556,\"#d8576b\"],[0.6666666666666666,\"#ed7953\"],[0.7777777777777778,\"#fb9f3a\"],[0.8888888888888888,\"#fdca26\"],[1.0,\"#f0f921\"]],\"type\":\"heatmap\"}],\"heatmapgl\":[{\"colorbar\":{\"outlinewidth\":0,\"ticks\":\"\"},\"colorscale\":[[0.0,\"#0d0887\"],[0.1111111111111111,\"#46039f\"],[0.2222222222222222,\"#7201a8\"],[0.3333333333333333,\"#9c179e\"],[0.4444444444444444,\"#bd3786\"],[0.5555555555555556,\"#d8576b\"],[0.6666666666666666,\"#ed7953\"],[0.7777777777777778,\"#fb9f3a\"],[0.8888888888888888,\"#fdca26\"],[1.0,\"#f0f921\"]],\"type\":\"heatmapgl\"}],\"histogram\":[{\"marker\":{\"pattern\":{\"fillmode\":\"overlay\",\"size\":10,\"solidity\":0.2}},\"type\":\"histogram\"}],\"histogram2d\":[{\"colorbar\":{\"outlinewidth\":0,\"ticks\":\"\"},\"colorscale\":[[0.0,\"#0d0887\"],[0.1111111111111111,\"#46039f\"],[0.2222222222222222,\"#7201a8\"],[0.3333333333333333,\"#9c179e\"],[0.4444444444444444,\"#bd3786\"],[0.5555555555555556,\"#d8576b\"],[0.6666666666666666,\"#ed7953\"],[0.7777777777777778,\"#fb9f3a\"],[0.8888888888888888,\"#fdca26\"],[1.0,\"#f0f921\"]],\"type\":\"histogram2d\"}],\"histogram2dcontour\":[{\"colorbar\":{\"outlinewidth\":0,\"ticks\":\"\"},\"colorscale\":[[0.0,\"#0d0887\"],[0.1111111111111111,\"#46039f\"],[0.2222222222222222,\"#7201a8\"],[0.3333333333333333,\"#9c179e\"],[0.4444444444444444,\"#bd3786\"],[0.5555555555555556,\"#d8576b\"],[0.6666666666666666,\"#ed7953\"],[0.7777777777777778,\"#fb9f3a\"],[0.8888888888888888,\"#fdca26\"],[1.0,\"#f0f921\"]],\"type\":\"histogram2dcontour\"}],\"mesh3d\":[{\"colorbar\":{\"outlinewidth\":0,\"ticks\":\"\"},\"type\":\"mesh3d\"}],\"parcoords\":[{\"line\":{\"colorbar\":{\"outlinewidth\":0,\"ticks\":\"\"}},\"type\":\"parcoords\"}],\"pie\":[{\"automargin\":true,\"type\":\"pie\"}],\"scatter\":[{\"marker\":{\"colorbar\":{\"outlinewidth\":0,\"ticks\":\"\"}},\"type\":\"scatter\"}],\"scatter3d\":[{\"line\":{\"colorbar\":{\"outlinewidth\":0,\"ticks\":\"\"}},\"marker\":{\"colorbar\":{\"outlinewidth\":0,\"ticks\":\"\"}},\"type\":\"scatter3d\"}],\"scattercarpet\":[{\"marker\":{\"colorbar\":{\"outlinewidth\":0,\"ticks\":\"\"}},\"type\":\"scattercarpet\"}],\"scattergeo\":[{\"marker\":{\"colorbar\":{\"outlinewidth\":0,\"ticks\":\"\"}},\"type\":\"scattergeo\"}],\"scattergl\":[{\"marker\":{\"colorbar\":{\"outlinewidth\":0,\"ticks\":\"\"}},\"type\":\"scattergl\"}],\"scattermapbox\":[{\"marker\":{\"colorbar\":{\"outlinewidth\":0,\"ticks\":\"\"}},\"type\":\"scattermapbox\"}],\"scatterpolar\":[{\"marker\":{\"colorbar\":{\"outlinewidth\":0,\"ticks\":\"\"}},\"type\":\"scatterpolar\"}],\"scatterpolargl\":[{\"marker\":{\"colorbar\":{\"outlinewidth\":0,\"ticks\":\"\"}},\"type\":\"scatterpolargl\"}],\"scatterternary\":[{\"marker\":{\"colorbar\":{\"outlinewidth\":0,\"ticks\":\"\"}},\"type\":\"scatterternary\"}],\"surface\":[{\"colorbar\":{\"outlinewidth\":0,\"ticks\":\"\"},\"colorscale\":[[0.0,\"#0d0887\"],[0.1111111111111111,\"#46039f\"],[0.2222222222222222,\"#7201a8\"],[0.3333333333333333,\"#9c179e\"],[0.4444444444444444,\"#bd3786\"],[0.5555555555555556,\"#d8576b\"],[0.6666666666666666,\"#ed7953\"],[0.7777777777777778,\"#fb9f3a\"],[0.8888888888888888,\"#fdca26\"],[1.0,\"#f0f921\"]],\"type\":\"surface\"}],\"table\":[{\"cells\":{\"fill\":{\"color\":\"#EBF0F8\"},\"line\":{\"color\":\"white\"}},\"header\":{\"fill\":{\"color\":\"#C8D4E3\"},\"line\":{\"color\":\"white\"}},\"type\":\"table\"}]},\"layout\":{\"annotationdefaults\":{\"arrowcolor\":\"#2a3f5f\",\"arrowhead\":0,\"arrowwidth\":1},\"autotypenumbers\":\"strict\",\"coloraxis\":{\"colorbar\":{\"outlinewidth\":0,\"ticks\":\"\"}},\"colorscale\":{\"diverging\":[[0,\"#8e0152\"],[0.1,\"#c51b7d\"],[0.2,\"#de77ae\"],[0.3,\"#f1b6da\"],[0.4,\"#fde0ef\"],[0.5,\"#f7f7f7\"],[0.6,\"#e6f5d0\"],[0.7,\"#b8e186\"],[0.8,\"#7fbc41\"],[0.9,\"#4d9221\"],[1,\"#276419\"]],\"sequential\":[[0.0,\"#0d0887\"],[0.1111111111111111,\"#46039f\"],[0.2222222222222222,\"#7201a8\"],[0.3333333333333333,\"#9c179e\"],[0.4444444444444444,\"#bd3786\"],[0.5555555555555556,\"#d8576b\"],[0.6666666666666666,\"#ed7953\"],[0.7777777777777778,\"#fb9f3a\"],[0.8888888888888888,\"#fdca26\"],[1.0,\"#f0f921\"]],\"sequentialminus\":[[0.0,\"#0d0887\"],[0.1111111111111111,\"#46039f\"],[0.2222222222222222,\"#7201a8\"],[0.3333333333333333,\"#9c179e\"],[0.4444444444444444,\"#bd3786\"],[0.5555555555555556,\"#d8576b\"],[0.6666666666666666,\"#ed7953\"],[0.7777777777777778,\"#fb9f3a\"],[0.8888888888888888,\"#fdca26\"],[1.0,\"#f0f921\"]]},\"colorway\":[\"#636efa\",\"#EF553B\",\"#00cc96\",\"#ab63fa\",\"#FFA15A\",\"#19d3f3\",\"#FF6692\",\"#B6E880\",\"#FF97FF\",\"#FECB52\"],\"font\":{\"color\":\"#2a3f5f\"},\"geo\":{\"bgcolor\":\"white\",\"lakecolor\":\"white\",\"landcolor\":\"#E5ECF6\",\"showlakes\":true,\"showland\":true,\"subunitcolor\":\"white\"},\"hoverlabel\":{\"align\":\"left\"},\"hovermode\":\"closest\",\"mapbox\":{\"style\":\"light\"},\"paper_bgcolor\":\"white\",\"plot_bgcolor\":\"#E5ECF6\",\"polar\":{\"angularaxis\":{\"gridcolor\":\"white\",\"linecolor\":\"white\",\"ticks\":\"\"},\"bgcolor\":\"#E5ECF6\",\"radialaxis\":{\"gridcolor\":\"white\",\"linecolor\":\"white\",\"ticks\":\"\"}},\"scene\":{\"xaxis\":{\"backgroundcolor\":\"#E5ECF6\",\"gridcolor\":\"white\",\"gridwidth\":2,\"linecolor\":\"white\",\"showbackground\":true,\"ticks\":\"\",\"zerolinecolor\":\"white\"},\"yaxis\":{\"backgroundcolor\":\"#E5ECF6\",\"gridcolor\":\"white\",\"gridwidth\":2,\"linecolor\":\"white\",\"showbackground\":true,\"ticks\":\"\",\"zerolinecolor\":\"white\"},\"zaxis\":{\"backgroundcolor\":\"#E5ECF6\",\"gridcolor\":\"white\",\"gridwidth\":2,\"linecolor\":\"white\",\"showbackground\":true,\"ticks\":\"\",\"zerolinecolor\":\"white\"}},\"shapedefaults\":{\"line\":{\"color\":\"#2a3f5f\"}},\"ternary\":{\"aaxis\":{\"gridcolor\":\"white\",\"linecolor\":\"white\",\"ticks\":\"\"},\"baxis\":{\"gridcolor\":\"white\",\"linecolor\":\"white\",\"ticks\":\"\"},\"bgcolor\":\"#E5ECF6\",\"caxis\":{\"gridcolor\":\"white\",\"linecolor\":\"white\",\"ticks\":\"\"}},\"title\":{\"x\":0.05},\"xaxis\":{\"automargin\":true,\"gridcolor\":\"white\",\"linecolor\":\"white\",\"ticks\":\"\",\"title\":{\"standoff\":15},\"zerolinecolor\":\"white\",\"zerolinewidth\":2},\"yaxis\":{\"automargin\":true,\"gridcolor\":\"white\",\"linecolor\":\"white\",\"ticks\":\"\",\"title\":{\"standoff\":15},\"zerolinecolor\":\"white\",\"zerolinewidth\":2}}},\"xaxis\":{\"anchor\":\"y\",\"domain\":[0.0,1.0],\"tickangle\":-55},\"yaxis\":{\"anchor\":\"x\",\"domain\":[0.0,1.0]},\"height\":600,\"width\":1300,\"title\":{\"text\":\"True vs predicted values closeness\"}},                        {\"responsive\": true}                    ).then(function(){\n",
              "                            \n",
              "var gd = document.getElementById('d301d959-66c4-4306-ac35-bf7160c45fdc');\n",
              "var x = new MutationObserver(function (mutations, observer) {{\n",
              "        var display = window.getComputedStyle(gd).display;\n",
              "        if (!display || display === 'none') {{\n",
              "            console.log([gd, 'removed!']);\n",
              "            Plotly.purge(gd);\n",
              "            observer.disconnect();\n",
              "        }}\n",
              "}});\n",
              "\n",
              "// Listen for the removal of the full notebook cells\n",
              "var notebookContainer = gd.closest('#notebook-container');\n",
              "if (notebookContainer) {{\n",
              "    x.observe(notebookContainer, {childList: true});\n",
              "}}\n",
              "\n",
              "// Listen for the clearing of the current output cell\n",
              "var outputEl = gd.closest('.output');\n",
              "if (outputEl) {{\n",
              "    x.observe(outputEl, {childList: true});\n",
              "}}\n",
              "\n",
              "                        })                };                            </script>        </div>\n",
              "</body>\n",
              "</html>"
            ]
          },
          "metadata": {}
        }
      ]
    },
    {
      "cell_type": "markdown",
      "source": [
        "- From the above, Let's examine point #s 10, 19, 47 for the large errors and,\n",
        "point #s 11, 23, 38 for their significantly small errors.\n",
        "- (remember our hypothesis based on the above chart, points 10, 19, 47 are more likely to belong to groups on the left hand side of the barplot observed in the previous chart and points, 11, 23, 38 are more likely to belong to groups on the right)"
      ],
      "metadata": {
        "id": "e_WElikce0-5"
      }
    },
    {
      "cell_type": "code",
      "source": [
        "test_X_.iloc[10].topicLabel, test_X_.iloc[19].topicLabel, test_X_.iloc[31].topicLabel"
      ],
      "metadata": {
        "colab": {
          "base_uri": "https://localhost:8080/"
        },
        "id": "kbtjhijof2YI",
        "outputId": "0aaae63c-fece-4d1f-fdaf-c58a64d5fa47"
      },
      "execution_count": 127,
      "outputs": [
        {
          "output_type": "execute_result",
          "data": {
            "text/plain": [
              "('cooking', 'cooking', 'news')"
            ]
          },
          "metadata": {},
          "execution_count": 127
        }
      ]
    },
    {
      "cell_type": "code",
      "source": [
        "test_X_.iloc[11].topicLabel, test_X_.iloc[13].topicLabel, test_X_.iloc[38].topicLabel"
      ],
      "metadata": {
        "colab": {
          "base_uri": "https://localhost:8080/"
        },
        "id": "j2UV5E4ngMN-",
        "outputId": "c3eb5f83-c0ae-42a2-fc47-cc00a7756c34"
      },
      "execution_count": 134,
      "outputs": [
        {
          "output_type": "execute_result",
          "data": {
            "text/plain": [
              "('fitness', 'cooking', 'comedy')"
            ]
          },
          "metadata": {},
          "execution_count": 134
        }
      ]
    },
    {
      "cell_type": "markdown",
      "source": [
        "- Our hypothesis does hold true in essence, as, the categoriesto the right seem to have predictions that are way off as compared to the ones on the left.\n",
        "- An important observation to make note of is the ability of the cooking class to be really precise in some cases (like that of point #13). That brings us to the idea that it is likely that there could be more than just the underlying topicLabels that are responsible for throwing the prediction off.\n",
        "- For the above reasons, let's take a closer look at the observations in the cooking category"
      ],
      "metadata": {
        "id": "kuJ7Qe3Lg6mL"
      }
    },
    {
      "cell_type": "code",
      "source": [
        "test_X_[test_X_.topicLabel=='cooking'][['publishedDayNum', 'log_duration_secs', 'len_title']].hist()\n",
        "pl.suptitle(\"Distributions for highest error category\");"
      ],
      "metadata": {
        "colab": {
          "base_uri": "https://localhost:8080/",
          "height": 294
        },
        "id": "Y0RRPqR7gQRu",
        "outputId": "f9fa97e2-fbb0-41d6-d43f-ae475bc4db9d"
      },
      "execution_count": 154,
      "outputs": [
        {
          "output_type": "display_data",
          "data": {
            "text/plain": [
              "<Figure size 432x288 with 4 Axes>"
            ],
            "image/png": "[encoded data removed]"
          },
          "metadata": {
            "needs_background": "light"
          }
        }
      ]
    },
    {
      "cell_type": "code",
      "source": [
        "test_X_[test_X_.topicLabel=='fitness'][['publishedDayNum', 'log_duration_secs', 'len_title']].hist()\n",
        "pl.suptitle(\"Distributions for lowest error category\");"
      ],
      "metadata": {
        "colab": {
          "base_uri": "https://localhost:8080/",
          "height": 294
        },
        "id": "o01wW8euk9o7",
        "outputId": "32f993bb-1114-4ee2-a8d5-3e14776a3f3a"
      },
      "execution_count": 152,
      "outputs": [
        {
          "output_type": "display_data",
          "data": {
            "text/plain": [
              "<Figure size 432x288 with 4 Axes>"
            ],
            "image/png": "[encoded data removed]"
          },
          "metadata": {
            "needs_background": "light"
          }
        }
      ]
    },
    {
      "cell_type": "markdown",
      "source": [
        "- A view into the distribution of these features, it is clear that there isn't an apparent difference that stands out amongst the best, worst performing topics/categories.\n",
        "- Coupling this with the understanding that the definition contributed close to nothing <1% in the permutation importance stage, we are only left with the word vector representations as a possible explanation to the underlying problem.\n",
        "\n",
        "Let's understand how the word vector representation could be the case.\n",
        "\n",
        "- We incrementally, increased the complexity of the way we chose to do our title feature representation based on observed gains in performance. [count_vec->TFIDF->Word2Vec].\n",
        "- While we note that the title, and the meta data available to us, don't really make an intuitive sense for these features being the at the core of the prediction of the title quality score.\n",
        "There is a fundamental failure that prohibits the model from learning further without overfitting the training data:\n",
        "  - The pre-trained word2vec model\n",
        "  - It is easy to observe this from the analysis we carried out upto this point. i.e. we eliminated the possible involvement of other features as explained above.\n",
        "  - The note we made above (from the bar chart) of the labels on the left, like `cooking` being markers of possibilities of high error predictions sheds light on what the shortcomings of the pretrained model could be. i.e. under the topic `cooking` the titles are more likely to use words that don't strictly obey the language construct and hence use words in a different meaning than they would generally be used in. (The pretrained model we used is that of a smaller generic wikipedia representation). linearity shoudn't be a problem because w2v models are very good at capturing high dimensional feature space info in a relatively smaller dimension space.\n",
        "  - Categories like `fitness`, `history` tend to have words that are similar across variations e.g. \"abs and core workout\", \"strengthen your core muscles\", etc while categories like music seem to use similar words in a totally different context.\n",
        "    1. To address the above failure, we'd have to pick a larger pretrained model that is ideally specific to the categories/topics.\n",
        "    2. Another approach could be that of increasing the data from ~5.5k per topic/category to atleast 55k per category and then training a custom w2v model.\n",
        "    3. To address varaiations, the bar chart we obtained could be a good point of start to obtain additional data based inversely proportional to the error rates, implying that we would as a result, be able to help the model justify variations instead of the model trying to overfit what now, would look like noise.\n",
        "\n",
        "As things currently stand, the model would fail if the data that is fairly recent (newer `news`/`music`(song names)) and was not a part of the tranining of the pretrained model.\n",
        "Since this accounts for ~53% of the model's explainability, this adjustment would definitely help mitigate the kind of failures we observed."
      ],
      "metadata": {
        "id": "qbFPzmJ6pEnV"
      }
    },
    {
      "cell_type": "code",
      "source": [],
      "metadata": {
        "id": "r00tx0O6lC9k"
      },
      "execution_count": null,
      "outputs": []
    },
    {
      "cell_type": "markdown",
      "source": [
        "Some word:vector scope analysis"
      ],
      "metadata": {
        "id": "5M2x7v5BS821"
      }
    },
    {
      "cell_type": "code",
      "source": [
        "!git clone https://github.com/ajinkyabhanudas/SIADS696.git\n",
        "!pip install gensim==4.1.2"
      ],
      "metadata": {
        "id": "PLFFHv6US_qM"
      },
      "execution_count": 12,
      "outputs": []
    },
    {
      "cell_type": "code",
      "source": [],
      "metadata": {
        "id": "_a4_SqcTTHY3"
      },
      "execution_count": null,
      "outputs": []
    },
    {
      "cell_type": "code",
      "source": [
        "try:\n",
        "  os.chdir('SIADS696')\n",
        "except:\n",
        "  print(\"You're either already in the SIADS696 directory, or the path specified isn't accessible\")"
      ],
      "metadata": {
        "id": "W1mjIAImTqlr"
      },
      "execution_count": 13,
      "outputs": []
    },
    {
      "cell_type": "code",
      "source": [
        "rootdir = 'data'\n",
        "feature_list = ['publishedAt', 'title', 'channelId', 'description',\n",
        "                'channelTitle', 'tags', 'categoryId', 'viewCount', \n",
        "                'likeCount', 'favoriteCount', 'commentCount', 'duration',\n",
        "                'definition', 'contentRating', 'topicCategories', 'topicLabel']\n",
        "\n",
        "ov_dict_list = []\n",
        "ov_temp_dict = {}\n",
        "\n",
        "dict_list = []\n",
        "temp_dict = {}\n",
        "\n",
        "for path in glob.glob(f'./{rootdir}/*/*'):\n",
        "  try:\n",
        "    with open(path, \"r\") as read_file:\n",
        "      data = json.load(read_file)\n",
        "    for channel_id in data.keys():\n",
        "      ov_temp_dict = data[channel_id][\"channel_statistics\"]\n",
        "      channel_name = list(data[channel_id][\"video_data\"].keys())[0]\n",
        "      ov_temp_dict[\"channelName\"] = data[channel_id][\"video_data\"][channel_name][\"channelTitle\"]\n",
        "      ov_dict_list.append(ov_temp_dict)\n",
        "      \n",
        "      for video_info in data[channel_id][\"video_data\"].values():\n",
        "        temp_dict = video_info\n",
        "        temp_dict[\"topicLabel\"] = path.split('/')[2]\n",
        "        dict_list.append(temp_dict)       \n",
        "  except:\n",
        "    pass\n",
        "\n",
        "overall_stats_raw_df = pd.DataFrame(ov_dict_list)\n",
        "overall_stats_raw_df.drop(\"hiddenSubscriberCount\", axis=1, inplace=True)\n",
        "\n",
        "raw_df = pd.DataFrame(dict_list)\n",
        "raw_df = raw_df[feature_list]"
      ],
      "metadata": {
        "id": "l1fWrV0pTqpq"
      },
      "execution_count": 322,
      "outputs": []
    },
    {
      "cell_type": "code",
      "source": [
        "def duration_split(duration):\n",
        "    try:\n",
        "      for _, v in groupby(duration, str.isalpha):\n",
        "        yield ''.join(v)\n",
        "    except:\n",
        "      yield np.nan\n",
        "    \n",
        "### Miles code fix included here   \n",
        "def duration_2_secs(duration, duration_split=duration_split):\n",
        "  temp = 0\n",
        "  for i, val in enumerate(duration_split(duration)):\n",
        "    \n",
        "    if len(str(duration)) <= 8:\n",
        "      if i==1 and not val.isalpha():\n",
        "        temp += float(val)*60\n",
        "      \n",
        "      if i==3 and not val.isalpha():\n",
        "        temp += float(val)\n",
        "    else:\n",
        "      if i==1 and not val.isalpha():\n",
        "        temp += float(val)*60*60\n",
        "      \n",
        "      if i==3 and not val.isalpha():\n",
        "        temp += float(val)*60\n",
        "      \n",
        "      if i==5 and not val.isalpha():\n",
        "        temp += float(val)\n",
        "\n",
        "  return(temp)\n",
        "\n",
        "\n",
        "# duration_2_secs(\"PT51M12S\")"
      ],
      "metadata": {
        "id": "upCVFCRyUR6M"
      },
      "execution_count": 20,
      "outputs": []
    },
    {
      "cell_type": "code",
      "source": [
        "def topic_extract(links_list):\n",
        "  \n",
        "  topics_list = []  \n",
        "  try:\n",
        "    for link in links_list:\n",
        "      topics_list.append(link.split(\"/\")[-1].lower())\n",
        "    \n",
        "    return(topics_list)\n",
        "  except:\n",
        "    pass"
      ],
      "metadata": {
        "id": "3qNaffC-USBO"
      },
      "execution_count": 21,
      "outputs": []
    },
    {
      "cell_type": "code",
      "source": [
        "def text_prep(val):\n",
        "  '''the goal is to replace the hypertexts in the \n",
        "  in any field to redundant names as vectorizing\n",
        "  them could be misleading and also leak data'''\n",
        "\n",
        "  val = str(val).lower()\n",
        "  process_desc = re.sub(r'http[s]*:.*\\w', 'url', val)\n",
        "  process_desc = re.sub('[^a-zA-Z]', ' ', process_desc)\n",
        "  process_desc = re.sub(r'\\s+', ' ', process_desc)\n",
        "\n",
        "  process_desc = nltk.sent_tokenize(process_desc)\n",
        "  if not process_desc:\n",
        "    process_desc = [nltk.word_tokenize(word) for word in process_desc]\n",
        "  else:\n",
        "    process_desc = [nltk.word_tokenize(word) for word in process_desc][0]\n",
        "    \n",
        "  \n",
        "  word_list = [word for word in process_desc if word not in stopwords.words('english')]\n",
        "\n",
        "\n",
        "  return word_list"
      ],
      "metadata": {
        "id": "f2f_WhXWUSEo"
      },
      "execution_count": 22,
      "outputs": []
    },
    {
      "cell_type": "code",
      "source": [
        "def gen_word_vec(df_text_list, wordvec):\n",
        "    word_vector = []\n",
        "    for token in df_text_list:\n",
        "        token_considered = [t for t in token if t.isalpha]\n",
        "        token_vocab = [i for i in token_considered if i in wordvec.key_to_index]\n",
        "        if len(token_vocab) > 0:\n",
        "            word_vector.append(np.mean(wordvec[token_vocab], axis=0))\n",
        "        else:\n",
        "            word_vector.append(np.zeros(wordvec.vector_size))\n",
        "    word_vector = np.array(word_vector)\n",
        "    try:\n",
        "      return word_vector[0]\n",
        "    except:\n",
        "      return np.zeros(50)"
      ],
      "metadata": {
        "id": "Rcit7nG4VBvA"
      },
      "execution_count": 83,
      "outputs": []
    },
    {
      "cell_type": "code",
      "source": [
        "def word_vec_cnt(df_text_list, wordvec):\n",
        "    token_vocab = []\n",
        "    for token in df_text_list:\n",
        "        token_considered = [t for t in token if t.isalpha]\n",
        "        token_vocab = [1 if i in wordvec.key_to_index else 0 for i in token_considered]\n",
        "    \n",
        "    return token_vocab"
      ],
      "metadata": {
        "id": "g9ygKSl9tf00"
      },
      "execution_count": 101,
      "outputs": []
    },
    {
      "cell_type": "code",
      "source": [
        "def miss_word(df_text_list, wordvec):\n",
        "    token_vocab = []\n",
        "    for token in df_text_list:\n",
        "      \n",
        "      token_considered = [t for t in token if t.isalpha]\n",
        "      token_vocab = [1 for i in token_considered if i not in wordvec.key_to_index]\n",
        "    try:\n",
        "      res = len(token_vocab)/len(token_considered)\n",
        "    except:\n",
        "      res=1\n",
        "    return res "
      ],
      "metadata": {
        "id": "viMyACCnyqVw"
      },
      "execution_count": 156,
      "outputs": []
    },
    {
      "cell_type": "code",
      "source": [
        "def outlier_thresh(df, up=True):\n",
        "  q1, q3 = np.percentile(df,[25,75])\n",
        "  iqr = q3-q1\n",
        "  if up:\n",
        "    res = q3+1.5*iqr\n",
        "  else:\n",
        "    res = q1-1.5*iqr\n",
        "  return(res)"
      ],
      "metadata": {
        "id": "mnwjrcNWVils"
      },
      "execution_count": 24,
      "outputs": []
    },
    {
      "cell_type": "code",
      "source": [
        "def create_train_dataset(df, featureset=None, d=5):\n",
        "    df[\"publishedAt\"] = pd.to_datetime(df.publishedAt)\n",
        "    df['publishedDayNum'] = df.publishedAt.apply(lambda x: x.timetuple().tm_yday)\n",
        "    df['duration_secs'] = df.duration.astype(int)\n",
        "    df['topicLabel'] = df.topicLabel.str.lower()\n",
        "    df['title'] = df.title.apply(text_prep)\n",
        "    df['len_title'] = df.title.apply(lambda x: len(x))\n",
        "    df['log_duration_secs'] = np.log(df.duration_secs + 1)\n",
        "    df.loc[df['topicLabel'] == 'fitness_workout', 'topicLabel'] = 'fitness'\n",
        "\n",
        "    df['vec_title'] = df.title.apply(gen_word_vec, wordvec=glove_wv)\n",
        "    titles = df.vec_title.apply(pd.Series).rename(columns={i - 1: \"title_\" + str(i) for i in range(1, 51)})\n",
        "\n",
        "    train_X = pd.concat(\n",
        "        [df[['publishedDayNum', 'log_duration_secs', 'len_title']], titles, df.definition, df.topicLabel],\n",
        "        axis=1)\n",
        "    return train_X"
      ],
      "metadata": {
        "id": "5mo-SBrbjNCK"
      },
      "execution_count": 41,
      "outputs": []
    },
    {
      "cell_type": "code",
      "source": [
        "def title_check(df):\n",
        "  \n",
        "  df[\"publishedAt\"] = pd.to_datetime(df.publishedAt)\n",
        "  df['publishedDayDelta'] = (datetime.datetime.now() - df.publishedAt.dt.tz_localize(None)).dt.days\n",
        "  df['publishedDayNum'] = df.publishedAt.apply(lambda x: x.timetuple().tm_yday)\n",
        "  df[\"viewCount\"] = df.viewCount.astype(float)\n",
        "  df[\"avg_viewCount\"] = df[\"viewCount\"]/df['publishedDayDelta']\n",
        "  df['topicLabel'] = df.topicLabel.str.lower()\n",
        "  df['score'] = df[\"avg_viewCount\"]/df.topicLabel.map(dict(df.groupby('topicLabel').avg_viewCount.agg('median')))\n",
        "  if df['duration'].dtype == 'O':\n",
        "    df['duration_secs'] = df.duration.apply(duration_2_secs)\n",
        "  else:\n",
        "     df['duration_secs'] = df.duration.astype(int)\n",
        "  df['topicLabel'] = df.topicLabel.str.lower()\n",
        "  df['title_unchanged'] = df.title.str.lower()\n",
        "  df['title'] = df.title.apply(text_prep)\n",
        "  df['len_title'] = df.title.apply(lambda x: len(x))\n",
        "  df['log_duration_secs'] = np.log(df.duration_secs+1)\n",
        "  df.loc[df['topicLabel'] == 'fitness_workout', 'topicLabel'] = 'fitness'\n",
        "\n",
        "  df['vec_title'] = df.title.apply(gen_word_vec, wordvec=glove_wv)\n",
        "  titles = df.vec_title.apply(pd.Series).rename(columns={i-1:\"title_\"+str(i) for i in range(1,51)})\n",
        "  high = dict(df.dropna().groupby('topicLabel').score.apply(outlier_thresh, up=True))\n",
        "  low = dict(df.dropna().groupby('topicLabel').score.apply(outlier_thresh, up=False))\n",
        "  df['high'] = df.topicLabel.map(high)\n",
        "  df['low'] = df.topicLabel.map(low)\n",
        "  df = df[df.score<=df.high]\n",
        "  df = df[df.score>=df.low]\n",
        "  \n",
        "\n",
        "  df['vec_title'] = df.title.apply(gen_word_vec, wordvec=glove_wv)\n",
        "\n",
        "  titles = df.vec_title.apply(pd.Series).rename(columns={i-1:\"title_\"+str(i) for i in range(1,51)})\n",
        "\n",
        "  train_X = pd.concat([df[['publishedDayNum', 'log_duration_secs', 'len_title']], titles, df.title_unchanged, df.title, df.definition, df.topicLabel, df.score], axis=1)\n",
        "\n",
        "  return train_X"
      ],
      "metadata": {
        "id": "uSuB6skNUbc6"
      },
      "execution_count": 31,
      "outputs": []
    },
    {
      "cell_type": "code",
      "source": [],
      "metadata": {
        "id": "Iphxk-Dlkxf7"
      },
      "execution_count": null,
      "outputs": []
    },
    {
      "cell_type": "code",
      "source": [
        "cooking_df = raw_df[raw_df.topicLabel=='Cooking']"
      ],
      "metadata": {
        "id": "ONAM34NJTqr8"
      },
      "execution_count": 230,
      "outputs": []
    },
    {
      "cell_type": "code",
      "source": [
        "cooking_titles_df = title_check(cooking_df)"
      ],
      "metadata": {
        "id": "jduM_IJgTqya"
      },
      "execution_count": 231,
      "outputs": []
    },
    {
      "cell_type": "code",
      "source": [
        "df = cooking_titles_df.drop(['title_unchanged', 'title'], axis=1)"
      ],
      "metadata": {
        "id": "eE6R5KSgTq1L"
      },
      "execution_count": 232,
      "outputs": []
    },
    {
      "cell_type": "code",
      "source": [
        "df_X = df.drop('score', axis=1)\n",
        "df_y = df['score']"
      ],
      "metadata": {
        "id": "OU3QOoxpYUwz"
      },
      "execution_count": 233,
      "outputs": []
    },
    {
      "cell_type": "code",
      "source": [
        "# val_df = df_X.sample(20)"
      ],
      "metadata": {
        "id": "h6EDN61ldpE-"
      },
      "execution_count": 61,
      "outputs": []
    },
    {
      "cell_type": "code",
      "source": [],
      "metadata": {
        "id": "MeCNigreJPbt"
      },
      "execution_count": 242,
      "outputs": []
    },
    {
      "cell_type": "code",
      "source": [
        "pred_df = ct.transform(val_df)\n",
        "pred_df = mms.transform(pred_df)\n"
      ],
      "metadata": {
        "id": "U5J8t-W-iEAh"
      },
      "execution_count": 234,
      "outputs": []
    },
    {
      "cell_type": "code",
      "source": [
        "temp_df = val_df.reset_index().reset_index()\n",
        "temp_df['index'] = temp_df['index'].astype(str)"
      ],
      "metadata": {
        "id": "krd8pwY_mIVQ"
      },
      "execution_count": 66,
      "outputs": []
    },
    {
      "cell_type": "code",
      "source": [
        "static_res_df = pd.DataFrame({'data_point_index':temp_df['index'], 'true':list(df_y[val_df.index]), 'prediction':list(hgbr.predict(pred_df))})"
      ],
      "metadata": {
        "id": "uTFNLyGXiE4O"
      },
      "execution_count": 70,
      "outputs": []
    },
    {
      "cell_type": "code",
      "source": [
        "trace1 = go.Scatter(\n",
        "    x=static_res_df[\"data_point_index\"],\n",
        "    y=static_res_df['prediction'],\n",
        "    name='prediction',\n",
        "    mode='markers',\n",
        ")\n",
        "trace2 = go.Scatter(\n",
        "    x=static_res_df[\"data_point_index\"],\n",
        "    y=static_res_df['true'],\n",
        "    name='true',\n",
        "    mode='markers',\n",
        "\n",
        ")\n",
        "\n",
        "fig = make_subplots(specs=[[{\"secondary_y\": False}]])\n",
        "fig.add_trace(trace1)\n",
        "fig.add_trace(trace2,secondary_y=False)\n",
        "fig['layout'].update(height = 600, width = 1300, title = \"True vs predicted values closeness for the 'cooking' category\",xaxis=dict(\n",
        "      tickangle=-55\n",
        "    ))\n",
        "fig"
      ],
      "metadata": {
        "colab": {
          "base_uri": "https://localhost:8080/",
          "height": 617
        },
        "id": "2g2NBpgcoe1T",
        "outputId": "480a8d74-9221-444d-e81a-d76276833360"
      },
      "execution_count": 73,
      "outputs": [
        {
          "output_type": "display_data",
          "data": {
            "text/html": [
              "<html>\n",
              "<head><meta charset=\"utf-8\" /></head>\n",
              "<body>\n",
              "    <div>            <script src=\"https://cdnjs.cloudflare.com/ajax/libs/mathjax/2.7.5/MathJax.js?config=TeX-AMS-MML_SVG\"></script><script type=\"text/javascript\">if (window.MathJax) {MathJax.Hub.Config({SVG: {font: \"STIX-Web\"}});}</script>                <script type=\"text/javascript\">window.PlotlyConfig = {MathJaxConfig: 'local'};</script>\n",
              "        <script src=\"https://cdn.plot.ly/plotly-2.8.3.min.js\"></script>                <div id=\"9915f6eb-2463-4796-bc03-7332e45ef950\" class=\"plotly-graph-div\" style=\"height:600px; width:1300px;\"></div>            <script type=\"text/javascript\">                                    window.PLOTLYENV=window.PLOTLYENV || {};                                    if (document.getElementById(\"9915f6eb-2463-4796-bc03-7332e45ef950\")) {                    Plotly.newPlot(                        \"9915f6eb-2463-4796-bc03-7332e45ef950\",                        [{\"mode\":\"markers\",\"name\":\"prediction\",\"x\":[\"48447\",\"44253\",\"48037\",\"47947\",\"46820\",\"50681\",\"45919\",\"44023\",\"50607\",\"44933\",\"43991\",\"50251\",\"47203\",\"48902\",\"48935\",\"46774\",\"47984\",\"43456\",\"50769\",\"49030\"],\"y\":[0.9533810051079671,3.103029319236492,2.371623029930076,1.5541929611842717,0.921106224543468,1.5839972858303963,1.6978410584107964,2.0785001821876024,1.4812503729236952,1.53090756016942,2.287047124916039,2.6382880477547452,0.6415276090723061,1.5340672354182214,0.7755881596394224,1.222118692227131,0.6938979820311957,7.935210080530859,1.0139461619859131,1.3015247797823137],\"type\":\"scatter\"},{\"mode\":\"markers\",\"name\":\"true\",\"x\":[\"48447\",\"44253\",\"48037\",\"47947\",\"46820\",\"50681\",\"45919\",\"44023\",\"50607\",\"44933\",\"43991\",\"50251\",\"47203\",\"48902\",\"48935\",\"46774\",\"47984\",\"43456\",\"50769\",\"49030\"],\"y\":[0.4047879207720519,1.5322728647612636,3.992515771157743,0.578268470512849,0.06419987900112509,0.3204398245504997,7.480003909914022,8.221191248671868,2.888153007170256,1.567800241699206,2.2156592319815416,5.497128440281314,0.19578814800749847,0.45624136302535573,0.20009298531842107,0.04895960808362467,0.21586640322259254,8.684327986198863,0.3582246888776124,0.27662563027376674],\"type\":\"scatter\",\"xaxis\":\"x\",\"yaxis\":\"y\"}],                        {\"template\":{\"data\":{\"bar\":[{\"error_x\":{\"color\":\"#2a3f5f\"},\"error_y\":{\"color\":\"#2a3f5f\"},\"marker\":{\"line\":{\"color\":\"#E5ECF6\",\"width\":0.5},\"pattern\":{\"fillmode\":\"overlay\",\"size\":10,\"solidity\":0.2}},\"type\":\"bar\"}],\"barpolar\":[{\"marker\":{\"line\":{\"color\":\"#E5ECF6\",\"width\":0.5},\"pattern\":{\"fillmode\":\"overlay\",\"size\":10,\"solidity\":0.2}},\"type\":\"barpolar\"}],\"carpet\":[{\"aaxis\":{\"endlinecolor\":\"#2a3f5f\",\"gridcolor\":\"white\",\"linecolor\":\"white\",\"minorgridcolor\":\"white\",\"startlinecolor\":\"#2a3f5f\"},\"baxis\":{\"endlinecolor\":\"#2a3f5f\",\"gridcolor\":\"white\",\"linecolor\":\"white\",\"minorgridcolor\":\"white\",\"startlinecolor\":\"#2a3f5f\"},\"type\":\"carpet\"}],\"choropleth\":[{\"colorbar\":{\"outlinewidth\":0,\"ticks\":\"\"},\"type\":\"choropleth\"}],\"contour\":[{\"colorbar\":{\"outlinewidth\":0,\"ticks\":\"\"},\"colorscale\":[[0.0,\"#0d0887\"],[0.1111111111111111,\"#46039f\"],[0.2222222222222222,\"#7201a8\"],[0.3333333333333333,\"#9c179e\"],[0.4444444444444444,\"#bd3786\"],[0.5555555555555556,\"#d8576b\"],[0.6666666666666666,\"#ed7953\"],[0.7777777777777778,\"#fb9f3a\"],[0.8888888888888888,\"#fdca26\"],[1.0,\"#f0f921\"]],\"type\":\"contour\"}],\"contourcarpet\":[{\"colorbar\":{\"outlinewidth\":0,\"ticks\":\"\"},\"type\":\"contourcarpet\"}],\"heatmap\":[{\"colorbar\":{\"outlinewidth\":0,\"ticks\":\"\"},\"colorscale\":[[0.0,\"#0d0887\"],[0.1111111111111111,\"#46039f\"],[0.2222222222222222,\"#7201a8\"],[0.3333333333333333,\"#9c179e\"],[0.4444444444444444,\"#bd3786\"],[0.5555555555555556,\"#d8576b\"],[0.6666666666666666,\"#ed7953\"],[0.7777777777777778,\"#fb9f3a\"],[0.8888888888888888,\"#fdca26\"],[1.0,\"#f0f921\"]],\"type\":\"heatmap\"}],\"heatmapgl\":[{\"colorbar\":{\"outlinewidth\":0,\"ticks\":\"\"},\"colorscale\":[[0.0,\"#0d0887\"],[0.1111111111111111,\"#46039f\"],[0.2222222222222222,\"#7201a8\"],[0.3333333333333333,\"#9c179e\"],[0.4444444444444444,\"#bd3786\"],[0.5555555555555556,\"#d8576b\"],[0.6666666666666666,\"#ed7953\"],[0.7777777777777778,\"#fb9f3a\"],[0.8888888888888888,\"#fdca26\"],[1.0,\"#f0f921\"]],\"type\":\"heatmapgl\"}],\"histogram\":[{\"marker\":{\"pattern\":{\"fillmode\":\"overlay\",\"size\":10,\"solidity\":0.2}},\"type\":\"histogram\"}],\"histogram2d\":[{\"colorbar\":{\"outlinewidth\":0,\"ticks\":\"\"},\"colorscale\":[[0.0,\"#0d0887\"],[0.1111111111111111,\"#46039f\"],[0.2222222222222222,\"#7201a8\"],[0.3333333333333333,\"#9c179e\"],[0.4444444444444444,\"#bd3786\"],[0.5555555555555556,\"#d8576b\"],[0.6666666666666666,\"#ed7953\"],[0.7777777777777778,\"#fb9f3a\"],[0.8888888888888888,\"#fdca26\"],[1.0,\"#f0f921\"]],\"type\":\"histogram2d\"}],\"histogram2dcontour\":[{\"colorbar\":{\"outlinewidth\":0,\"ticks\":\"\"},\"colorscale\":[[0.0,\"#0d0887\"],[0.1111111111111111,\"#46039f\"],[0.2222222222222222,\"#7201a8\"],[0.3333333333333333,\"#9c179e\"],[0.4444444444444444,\"#bd3786\"],[0.5555555555555556,\"#d8576b\"],[0.6666666666666666,\"#ed7953\"],[0.7777777777777778,\"#fb9f3a\"],[0.8888888888888888,\"#fdca26\"],[1.0,\"#f0f921\"]],\"type\":\"histogram2dcontour\"}],\"mesh3d\":[{\"colorbar\":{\"outlinewidth\":0,\"ticks\":\"\"},\"type\":\"mesh3d\"}],\"parcoords\":[{\"line\":{\"colorbar\":{\"outlinewidth\":0,\"ticks\":\"\"}},\"type\":\"parcoords\"}],\"pie\":[{\"automargin\":true,\"type\":\"pie\"}],\"scatter\":[{\"marker\":{\"colorbar\":{\"outlinewidth\":0,\"ticks\":\"\"}},\"type\":\"scatter\"}],\"scatter3d\":[{\"line\":{\"colorbar\":{\"outlinewidth\":0,\"ticks\":\"\"}},\"marker\":{\"colorbar\":{\"outlinewidth\":0,\"ticks\":\"\"}},\"type\":\"scatter3d\"}],\"scattercarpet\":[{\"marker\":{\"colorbar\":{\"outlinewidth\":0,\"ticks\":\"\"}},\"type\":\"scattercarpet\"}],\"scattergeo\":[{\"marker\":{\"colorbar\":{\"outlinewidth\":0,\"ticks\":\"\"}},\"type\":\"scattergeo\"}],\"scattergl\":[{\"marker\":{\"colorbar\":{\"outlinewidth\":0,\"ticks\":\"\"}},\"type\":\"scattergl\"}],\"scattermapbox\":[{\"marker\":{\"colorbar\":{\"outlinewidth\":0,\"ticks\":\"\"}},\"type\":\"scattermapbox\"}],\"scatterpolar\":[{\"marker\":{\"colorbar\":{\"outlinewidth\":0,\"ticks\":\"\"}},\"type\":\"scatterpolar\"}],\"scatterpolargl\":[{\"marker\":{\"colorbar\":{\"outlinewidth\":0,\"ticks\":\"\"}},\"type\":\"scatterpolargl\"}],\"scatterternary\":[{\"marker\":{\"colorbar\":{\"outlinewidth\":0,\"ticks\":\"\"}},\"type\":\"scatterternary\"}],\"surface\":[{\"colorbar\":{\"outlinewidth\":0,\"ticks\":\"\"},\"colorscale\":[[0.0,\"#0d0887\"],[0.1111111111111111,\"#46039f\"],[0.2222222222222222,\"#7201a8\"],[0.3333333333333333,\"#9c179e\"],[0.4444444444444444,\"#bd3786\"],[0.5555555555555556,\"#d8576b\"],[0.6666666666666666,\"#ed7953\"],[0.7777777777777778,\"#fb9f3a\"],[0.8888888888888888,\"#fdca26\"],[1.0,\"#f0f921\"]],\"type\":\"surface\"}],\"table\":[{\"cells\":{\"fill\":{\"color\":\"#EBF0F8\"},\"line\":{\"color\":\"white\"}},\"header\":{\"fill\":{\"color\":\"#C8D4E3\"},\"line\":{\"color\":\"white\"}},\"type\":\"table\"}]},\"layout\":{\"annotationdefaults\":{\"arrowcolor\":\"#2a3f5f\",\"arrowhead\":0,\"arrowwidth\":1},\"autotypenumbers\":\"strict\",\"coloraxis\":{\"colorbar\":{\"outlinewidth\":0,\"ticks\":\"\"}},\"colorscale\":{\"diverging\":[[0,\"#8e0152\"],[0.1,\"#c51b7d\"],[0.2,\"#de77ae\"],[0.3,\"#f1b6da\"],[0.4,\"#fde0ef\"],[0.5,\"#f7f7f7\"],[0.6,\"#e6f5d0\"],[0.7,\"#b8e186\"],[0.8,\"#7fbc41\"],[0.9,\"#4d9221\"],[1,\"#276419\"]],\"sequential\":[[0.0,\"#0d0887\"],[0.1111111111111111,\"#46039f\"],[0.2222222222222222,\"#7201a8\"],[0.3333333333333333,\"#9c179e\"],[0.4444444444444444,\"#bd3786\"],[0.5555555555555556,\"#d8576b\"],[0.6666666666666666,\"#ed7953\"],[0.7777777777777778,\"#fb9f3a\"],[0.8888888888888888,\"#fdca26\"],[1.0,\"#f0f921\"]],\"sequentialminus\":[[0.0,\"#0d0887\"],[0.1111111111111111,\"#46039f\"],[0.2222222222222222,\"#7201a8\"],[0.3333333333333333,\"#9c179e\"],[0.4444444444444444,\"#bd3786\"],[0.5555555555555556,\"#d8576b\"],[0.6666666666666666,\"#ed7953\"],[0.7777777777777778,\"#fb9f3a\"],[0.8888888888888888,\"#fdca26\"],[1.0,\"#f0f921\"]]},\"colorway\":[\"#636efa\",\"#EF553B\",\"#00cc96\",\"#ab63fa\",\"#FFA15A\",\"#19d3f3\",\"#FF6692\",\"#B6E880\",\"#FF97FF\",\"#FECB52\"],\"font\":{\"color\":\"#2a3f5f\"},\"geo\":{\"bgcolor\":\"white\",\"lakecolor\":\"white\",\"landcolor\":\"#E5ECF6\",\"showlakes\":true,\"showland\":true,\"subunitcolor\":\"white\"},\"hoverlabel\":{\"align\":\"left\"},\"hovermode\":\"closest\",\"mapbox\":{\"style\":\"light\"},\"paper_bgcolor\":\"white\",\"plot_bgcolor\":\"#E5ECF6\",\"polar\":{\"angularaxis\":{\"gridcolor\":\"white\",\"linecolor\":\"white\",\"ticks\":\"\"},\"bgcolor\":\"#E5ECF6\",\"radialaxis\":{\"gridcolor\":\"white\",\"linecolor\":\"white\",\"ticks\":\"\"}},\"scene\":{\"xaxis\":{\"backgroundcolor\":\"#E5ECF6\",\"gridcolor\":\"white\",\"gridwidth\":2,\"linecolor\":\"white\",\"showbackground\":true,\"ticks\":\"\",\"zerolinecolor\":\"white\"},\"yaxis\":{\"backgroundcolor\":\"#E5ECF6\",\"gridcolor\":\"white\",\"gridwidth\":2,\"linecolor\":\"white\",\"showbackground\":true,\"ticks\":\"\",\"zerolinecolor\":\"white\"},\"zaxis\":{\"backgroundcolor\":\"#E5ECF6\",\"gridcolor\":\"white\",\"gridwidth\":2,\"linecolor\":\"white\",\"showbackground\":true,\"ticks\":\"\",\"zerolinecolor\":\"white\"}},\"shapedefaults\":{\"line\":{\"color\":\"#2a3f5f\"}},\"ternary\":{\"aaxis\":{\"gridcolor\":\"white\",\"linecolor\":\"white\",\"ticks\":\"\"},\"baxis\":{\"gridcolor\":\"white\",\"linecolor\":\"white\",\"ticks\":\"\"},\"bgcolor\":\"#E5ECF6\",\"caxis\":{\"gridcolor\":\"white\",\"linecolor\":\"white\",\"ticks\":\"\"}},\"title\":{\"x\":0.05},\"xaxis\":{\"automargin\":true,\"gridcolor\":\"white\",\"linecolor\":\"white\",\"ticks\":\"\",\"title\":{\"standoff\":15},\"zerolinecolor\":\"white\",\"zerolinewidth\":2},\"yaxis\":{\"automargin\":true,\"gridcolor\":\"white\",\"linecolor\":\"white\",\"ticks\":\"\",\"title\":{\"standoff\":15},\"zerolinecolor\":\"white\",\"zerolinewidth\":2}}},\"xaxis\":{\"anchor\":\"y\",\"domain\":[0.0,1.0],\"tickangle\":-55},\"yaxis\":{\"anchor\":\"x\",\"domain\":[0.0,1.0]},\"height\":600,\"width\":1300,\"title\":{\"text\":\"True vs predicted values closeness for the 'cooking' category\"}},                        {\"responsive\": true}                    ).then(function(){\n",
              "                            \n",
              "var gd = document.getElementById('9915f6eb-2463-4796-bc03-7332e45ef950');\n",
              "var x = new MutationObserver(function (mutations, observer) {{\n",
              "        var display = window.getComputedStyle(gd).display;\n",
              "        if (!display || display === 'none') {{\n",
              "            console.log([gd, 'removed!']);\n",
              "            Plotly.purge(gd);\n",
              "            observer.disconnect();\n",
              "        }}\n",
              "}});\n",
              "\n",
              "// Listen for the removal of the full notebook cells\n",
              "var notebookContainer = gd.closest('#notebook-container');\n",
              "if (notebookContainer) {{\n",
              "    x.observe(notebookContainer, {childList: true});\n",
              "}}\n",
              "\n",
              "// Listen for the clearing of the current output cell\n",
              "var outputEl = gd.closest('.output');\n",
              "if (outputEl) {{\n",
              "    x.observe(outputEl, {childList: true});\n",
              "}}\n",
              "\n",
              "                        })                };                            </script>        </div>\n",
              "</body>\n",
              "</html>"
            ]
          },
          "metadata": {}
        }
      ]
    },
    {
      "cell_type": "code",
      "source": [],
      "metadata": {
        "id": "eVTmy-Jro7E9"
      },
      "execution_count": null,
      "outputs": []
    },
    {
      "cell_type": "markdown",
      "source": [
        "- high error prediction indices: [45919, 44023, 50251]\n",
        "- low error prediction indices: [44933, 43991]"
      ],
      "metadata": {
        "id": "dRGw7pl4pfR0"
      }
    },
    {
      "cell_type": "code",
      "source": [
        "cooking_titles_df.loc[[45919, 44023, 50251]][['title', 'title_unchanged']].style"
      ],
      "metadata": {
        "colab": {
          "base_uri": "https://localhost:8080/",
          "height": 142
        },
        "id": "lXKeXDR6p27p",
        "outputId": "bd2c6c73-fddb-437c-f3e6-828d963489fd"
      },
      "execution_count": 81,
      "outputs": [
        {
          "output_type": "execute_result",
          "data": {
            "text/plain": [
              "<pandas.io.formats.style.Styler at 0x7f3addf2af90>"
            ],
            "text/html": [
              "<style type=\"text/css\">\n",
              "</style>\n",
              "<table id=\"T_e432d_\" class=\"dataframe\">\n",
              "  <thead>\n",
              "    <tr>\n",
              "      <th class=\"blank level0\" >&nbsp;</th>\n",
              "      <th class=\"col_heading level0 col0\" >title</th>\n",
              "      <th class=\"col_heading level0 col1\" >title_unchanged</th>\n",
              "    </tr>\n",
              "  </thead>\n",
              "  <tbody>\n",
              "    <tr>\n",
              "      <th id=\"T_e432d_level0_row0\" class=\"row_heading level0 row0\" >45919</th>\n",
              "      <td id=\"T_e432d_row0_col0\" class=\"data row0 col0\" >['mongolian', 'beef', 'home', 'like', 'favorite', 'chinese', 'takeout', 'sam', 'cooking', 'guy']</td>\n",
              "      <td id=\"T_e432d_row0_col1\" class=\"data row0 col1\" >mongolian beef at home but just like your favorite chinese takeout! | sam the cooking guy</td>\n",
              "    </tr>\n",
              "    <tr>\n",
              "      <th id=\"T_e432d_level0_row1\" class=\"row_heading level0 row1\" >44023</th>\n",
              "      <td id=\"T_e432d_row1_col0\" class=\"data row1 col0\" >['easy', 'authentic', 'sushi', 'hand', 'rolls', 'home', 'temaki']</td>\n",
              "      <td id=\"T_e432d_row1_col1\" class=\"data row1 col1\" >easy authentic sushi hand rolls at home (temaki)</td>\n",
              "    </tr>\n",
              "    <tr>\n",
              "      <th id=\"T_e432d_level0_row2\" class=\"row_heading level0 row2\" >50251</th>\n",
              "      <td id=\"T_e432d_row2_col0\" class=\"data row2 col0\" >['eggs', 'benedict', 'ways', 'jamie', 'oliver']</td>\n",
              "      <td id=\"T_e432d_row2_col1\" class=\"data row2 col1\" >eggs benedict | 5 ways | jamie oliver</td>\n",
              "    </tr>\n",
              "  </tbody>\n",
              "</table>\n"
            ]
          },
          "metadata": {},
          "execution_count": 81
        }
      ]
    },
    {
      "cell_type": "markdown",
      "source": [
        "- As we had guessed with the possible problems in the cooking category, we do notice a problem that could also contribute to the variations in other categories, that is of having names, unique-words that the model is just not able to meaningfully enrich into a relevant vector. These names that we see in 2/3 of the high error predictions could be of individuals who actually garner a lot of popularity in the space and as a result increase the views just with their name in the videos.\n",
        "- Another hypothesis is that of words that are OOV (out of vocabulary). We'll try to validate it in this notebook further down."
      ],
      "metadata": {
        "id": "te93WGKLq-6W"
      }
    },
    {
      "cell_type": "code",
      "source": [
        "cooking_titles_df.loc[[44933, 43991]][['title', 'title_unchanged']].style"
      ],
      "metadata": {
        "colab": {
          "base_uri": "https://localhost:8080/",
          "height": 111
        },
        "id": "CEGVcMxdqFS1",
        "outputId": "1557172c-55e9-47f4-e692-4564afb63d2a"
      },
      "execution_count": 82,
      "outputs": [
        {
          "output_type": "execute_result",
          "data": {
            "text/plain": [
              "<pandas.io.formats.style.Styler at 0x7f3addf2a1d0>"
            ],
            "text/html": [
              "<style type=\"text/css\">\n",
              "</style>\n",
              "<table id=\"T_28eb7_\" class=\"dataframe\">\n",
              "  <thead>\n",
              "    <tr>\n",
              "      <th class=\"blank level0\" >&nbsp;</th>\n",
              "      <th class=\"col_heading level0 col0\" >title</th>\n",
              "      <th class=\"col_heading level0 col1\" >title_unchanged</th>\n",
              "    </tr>\n",
              "  </thead>\n",
              "  <tbody>\n",
              "    <tr>\n",
              "      <th id=\"T_28eb7_level0_row0\" class=\"row_heading level0 row0\" >44933</th>\n",
              "      <td id=\"T_28eb7_row0_col0\" class=\"data row0 col0\" >['epic', 'chef', 'burger', 'challenge']</td>\n",
              "      <td id=\"T_28eb7_row0_col1\" class=\"data row0 col1\" >epic chef - burger challenge</td>\n",
              "    </tr>\n",
              "    <tr>\n",
              "      <th id=\"T_28eb7_level0_row1\" class=\"row_heading level0 row1\" >43991</th>\n",
              "      <td id=\"T_28eb7_row1_col0\" class=\"data row1 col0\" >['first', 'ever', 'beef', 'stroganoff', 'soup', 'dumpling', 'sailor', 'vs']</td>\n",
              "      <td id=\"T_28eb7_row1_col1\" class=\"data row1 col1\" >the first ever: beef stroganoff soup dumpling | sailor vs.</td>\n",
              "    </tr>\n",
              "  </tbody>\n",
              "</table>\n"
            ]
          },
          "metadata": {},
          "execution_count": 82
        }
      ]
    },
    {
      "cell_type": "markdown",
      "source": [
        "On the other end, the words in predictions that came out right are simple, frequently referenced and would most likely have been a part of the training process of the w2v wikipedia model we used."
      ],
      "metadata": {
        "id": "F4FYxVgFsC9K"
      }
    },
    {
      "cell_type": "markdown",
      "source": [
        "Below is an example of a bad prediction which has also has a word that the word2vec model wasn't able to vectorise."
      ],
      "metadata": {
        "id": "yeNEVXV1xH0z"
      }
    },
    {
      "cell_type": "code",
      "source": [
        "word_vec_cnt(cooking_titles_df.loc[[44023]].title, wordvec=glove_wv)"
      ],
      "metadata": {
        "colab": {
          "base_uri": "https://localhost:8080/"
        },
        "id": "kzoSY1vjqpVR",
        "outputId": "cf2722c8-192c-4fc0-b022-8d6ddcd24ed7"
      },
      "execution_count": 97,
      "outputs": [
        {
          "output_type": "execute_result",
          "data": {
            "text/plain": [
              "[1, 1, 1, 1, 1, 1, 0]"
            ]
          },
          "metadata": {},
          "execution_count": 97
        }
      ]
    },
    {
      "cell_type": "code",
      "source": [
        "miss_word(cooking_titles_df.loc[[44023]].title, wordvec=glove_wv)"
      ],
      "metadata": {
        "colab": {
          "base_uri": "https://localhost:8080/"
        },
        "id": "A1yaY0VRzVUR",
        "outputId": "3a28dc9f-6401-4e6f-de9e-c459aec548b6"
      },
      "execution_count": 113,
      "outputs": [
        {
          "output_type": "execute_result",
          "data": {
            "text/plain": [
              "0.14285714285714285"
            ]
          },
          "metadata": {},
          "execution_count": 113
        }
      ]
    },
    {
      "cell_type": "code",
      "source": [
        "type(cooking_titles_df.loc[[44023]].title)"
      ],
      "metadata": {
        "colab": {
          "base_uri": "https://localhost:8080/"
        },
        "id": "hCJBVfUS0qVb",
        "outputId": "366d2059-b135-4d3c-9add-6ec217337adf"
      },
      "execution_count": 118,
      "outputs": [
        {
          "output_type": "execute_result",
          "data": {
            "text/plain": [
              "pandas.core.series.Series"
            ]
          },
          "metadata": {},
          "execution_count": 118
        }
      ]
    },
    {
      "cell_type": "code",
      "source": [
        "mean_val_cooking = []\n",
        "for t in list(cooking_titles_df.index):\n",
        "\n",
        "  mean_val_cooking.append(miss_word(cooking_titles_df.loc[[t]].title, wordvec=glove_wv))"
      ],
      "metadata": {
        "id": "zQYC_fqAzwuU"
      },
      "execution_count": 235,
      "outputs": []
    },
    {
      "cell_type": "code",
      "source": [
        "pred_df = ct.transform(df_X)\n",
        "pred_df = mms.transform(pred_df)\n",
        "\n",
        "preds = hgbr.predict(pred_df)"
      ],
      "metadata": {
        "id": "Y5a7FP3TEWWS"
      },
      "execution_count": 237,
      "outputs": []
    },
    {
      "cell_type": "code",
      "source": [
        "plt.scatter(mean_val_cooking, abs(df_y-preds));\n",
        "plt.title(\"(Cooking) Avg number of OOV words vs absolute error \\ntrue:prediction scores\");\n",
        "plt.xlabel(\"% avg OOV words\")\n",
        "plt.ylabel(\"abs prediction errors\");"
      ],
      "metadata": {
        "colab": {
          "base_uri": "https://localhost:8080/",
          "height": 310
        },
        "id": "8IDZXdGeASVT",
        "outputId": "eff0ba9f-413b-4801-ea92-2f090aab57a5"
      },
      "execution_count": 241,
      "outputs": [
        {
          "output_type": "display_data",
          "data": {
            "text/plain": [
              "<Figure size 432x288 with 1 Axes>"
            ],
            "image/png": "[encoded data removed]"
          },
          "metadata": {
            "needs_background": "light"
          }
        }
      ]
    },
    {
      "cell_type": "code",
      "source": [],
      "metadata": {
        "id": "a6dJzTu7ASY1"
      },
      "execution_count": null,
      "outputs": []
    },
    {
      "cell_type": "code",
      "source": [],
      "metadata": {
        "id": "fYxtjZyoASbw"
      },
      "execution_count": null,
      "outputs": []
    },
    {
      "cell_type": "code",
      "source": [],
      "metadata": {
        "id": "mR_nvZx2ASe9"
      },
      "execution_count": null,
      "outputs": []
    },
    {
      "cell_type": "markdown",
      "source": [
        "Now let's check if the chart above is similar to a sample of the entire dataset, If the chart looks similar, we could imply that OOV words don't play as profound a role that we hypothesized. Because, if that were true, we'd see predictions getting worse as the x-axis values go to one we'd see higher errors, which clearly is not the case. Hence, the OOV words don't play as much of a role."
      ],
      "metadata": {
        "id": "SgJFtIiRAS-n"
      }
    },
    {
      "cell_type": "code",
      "source": [
        "all_df = title_check(raw_df.sample(10000))"
      ],
      "metadata": {
        "id": "RHGARCGB_0yT"
      },
      "execution_count": 222,
      "outputs": []
    },
    {
      "cell_type": "code",
      "source": [
        "mean_val_all = []\n",
        "for t in list(all_df.index):\n",
        "\n",
        "  mean_val_all.append(miss_word(all_df.loc[[t]].title, wordvec=glove_wv))"
      ],
      "metadata": {
        "id": "sKzScqDbAW3M"
      },
      "execution_count": 224,
      "outputs": []
    },
    {
      "cell_type": "code",
      "source": [
        "all_df_ = all_df.drop(['title_unchanged', 'title'], axis=1)"
      ],
      "metadata": {
        "id": "MwuCQdsTCpOg"
      },
      "execution_count": 225,
      "outputs": []
    },
    {
      "cell_type": "code",
      "source": [
        "df_X = all_df_.drop('score', axis=1)\n",
        "df_y = all_df_['score']\n",
        "\n",
        "pred_df_ = ct.transform(df_X)\n",
        "pred_df_ = mms.transform(pred_df_)\n"
      ],
      "metadata": {
        "id": "soeD6ds69e58"
      },
      "execution_count": 226,
      "outputs": []
    },
    {
      "cell_type": "code",
      "source": [
        "preds = hgbr.predict(pred_df_)"
      ],
      "metadata": {
        "id": "PppqHF87-DLx"
      },
      "execution_count": 227,
      "outputs": []
    },
    {
      "cell_type": "code",
      "source": [
        "plt.scatter(mean_val_all, abs(df_y-preds));\n",
        "plt.title(\"Avg number of OOV words vs absolute error \\ntrue:prediction scores\");\n",
        "plt.xlabel(\"avg OOV words\")\n",
        "plt.ylabel(\"abs prediction errors\");"
      ],
      "metadata": {
        "colab": {
          "base_uri": "https://localhost:8080/",
          "height": 310
        },
        "id": "owG0e30L-DO1",
        "outputId": "e8df91ad-1bde-4185-bf2b-04f034d26da0"
      },
      "execution_count": 229,
      "outputs": [
        {
          "output_type": "display_data",
          "data": {
            "text/plain": [
              "<Figure size 432x288 with 1 Axes>"
            ],
            "image/png": "[encoded data removed]"
          },
          "metadata": {
            "needs_background": "light"
          }
        }
      ]
    },
    {
      "cell_type": "markdown",
      "source": [
        "The above chart is very similar to the previous chart that only contans the cooking category, which tell us that the OOV words in some cases are preventing the model from being thrown off. i.e. the word-vector representations are actually less meaningful irrespective of the topic they belongs to."
      ],
      "metadata": {
        "id": "s-liqh0-GHJ2"
      }
    },
    {
      "cell_type": "markdown",
      "source": [
        "We'll examine the following next:\n",
        "- the existence of view bias per topic i.e. we'll supply a random sequence eg. \"QASDF\" as the title name (which would have 100% oov rate and look at the views prediction across all categories)"
      ],
      "metadata": {
        "id": "B3BgbpcNIeYG"
      }
    },
    {
      "cell_type": "code",
      "source": [
        "raw_df.topicLabel.unique()"
      ],
      "metadata": {
        "colab": {
          "base_uri": "https://localhost:8080/"
        },
        "id": "3rILyUTdKuQR",
        "outputId": "3b23b128-620e-46f8-c841-9bc6a6c34681"
      },
      "execution_count": 263,
      "outputs": [
        {
          "output_type": "execute_result",
          "data": {
            "text/plain": [
              "array(['Comedy', 'Travel', 'News', 'Music', 'Fitness_workout', 'Science',\n",
              "       'Educational', 'Yoga', 'Cooking', 'History'], dtype=object)"
            ]
          },
          "metadata": {},
          "execution_count": 263
        }
      ]
    },
    {
      "cell_type": "code",
      "source": [
        "test_row = raw_df.sample(1).copy()\n",
        "test_row['title']=\"QASDF\"\n",
        "\n",
        "test_rows_df = pd.concat([test_row]*10)\n",
        "test_rows_df = test_rows_df.reset_index().drop('index', axis=1)\n",
        "test_rows_df['topicLabel'] = raw_df.topicLabel.unique()\n",
        "\n",
        "test_rows_df_ = title_check(test_rows_df)\n",
        "\n",
        "test_rows_df_ = test_rows_df_.drop(['title_unchanged', 'title'], axis=1)\n",
        "test_rows_df_ = test_rows_df_.drop('score', axis=1)\n",
        "\n",
        "pred_test_rows_df = ct.transform(test_rows_df_)\n",
        "pred_test_rows_df = mms.transform(pred_test_rows_df)\n"
      ],
      "metadata": {
        "id": "8xtp9FIdJ4D6"
      },
      "execution_count": 275,
      "outputs": []
    },
    {
      "cell_type": "code",
      "source": [
        "test_rows_df['preds'] = hgbr.predict(pred_test_rows_df)"
      ],
      "metadata": {
        "id": "rmYNlVo-Mmev"
      },
      "execution_count": 277,
      "outputs": []
    },
    {
      "cell_type": "code",
      "source": [
        "test_rows_df[['topicLabel', 'preds']].sort_values('preds')"
      ],
      "metadata": {
        "colab": {
          "base_uri": "https://localhost:8080/",
          "height": 359
        },
        "id": "jjlFRfeaMmlG",
        "outputId": "eca65292-af4b-431d-d749-ec537d37dfb5"
      },
      "execution_count": 279,
      "outputs": [
        {
          "output_type": "execute_result",
          "data": {
            "text/plain": [
              "    topicLabel     preds\n",
              "8      cooking  1.334457\n",
              "0       comedy  1.375263\n",
              "9      history  1.592360\n",
              "7         yoga  1.600623\n",
              "4      fitness  1.619039\n",
              "6  educational  1.941707\n",
              "3        music  1.977677\n",
              "2         news  2.037072\n",
              "1       travel  2.448617\n",
              "5      science  2.793945"
            ],
            "text/html": [
              "\n",
              "  <div id=\"df-54813531-0bad-499f-b956-4ffcfb28b675\">\n",
              "    <div class=\"colab-df-container\">\n",
              "      <div>\n",
              "<style scoped>\n",
              "    .dataframe tbody tr th:only-of-type {\n",
              "        vertical-align: middle;\n",
              "    }\n",
              "\n",
              "    .dataframe tbody tr th {\n",
              "        vertical-align: top;\n",
              "    }\n",
              "\n",
              "    .dataframe thead th {\n",
              "        text-align: right;\n",
              "    }\n",
              "</style>\n",
              "<table border=\"1\" class=\"dataframe\">\n",
              "  <thead>\n",
              "    <tr style=\"text-align: right;\">\n",
              "      <th></th>\n",
              "      <th>topicLabel</th>\n",
              "      <th>preds</th>\n",
              "    </tr>\n",
              "  </thead>\n",
              "  <tbody>\n",
              "    <tr>\n",
              "      <th>8</th>\n",
              "      <td>cooking</td>\n",
              "      <td>1.334457</td>\n",
              "    </tr>\n",
              "    <tr>\n",
              "      <th>0</th>\n",
              "      <td>comedy</td>\n",
              "      <td>1.375263</td>\n",
              "    </tr>\n",
              "    <tr>\n",
              "      <th>9</th>\n",
              "      <td>history</td>\n",
              "      <td>1.592360</td>\n",
              "    </tr>\n",
              "    <tr>\n",
              "      <th>7</th>\n",
              "      <td>yoga</td>\n",
              "      <td>1.600623</td>\n",
              "    </tr>\n",
              "    <tr>\n",
              "      <th>4</th>\n",
              "      <td>fitness</td>\n",
              "      <td>1.619039</td>\n",
              "    </tr>\n",
              "    <tr>\n",
              "      <th>6</th>\n",
              "      <td>educational</td>\n",
              "      <td>1.941707</td>\n",
              "    </tr>\n",
              "    <tr>\n",
              "      <th>3</th>\n",
              "      <td>music</td>\n",
              "      <td>1.977677</td>\n",
              "    </tr>\n",
              "    <tr>\n",
              "      <th>2</th>\n",
              "      <td>news</td>\n",
              "      <td>2.037072</td>\n",
              "    </tr>\n",
              "    <tr>\n",
              "      <th>1</th>\n",
              "      <td>travel</td>\n",
              "      <td>2.448617</td>\n",
              "    </tr>\n",
              "    <tr>\n",
              "      <th>5</th>\n",
              "      <td>science</td>\n",
              "      <td>2.793945</td>\n",
              "    </tr>\n",
              "  </tbody>\n",
              "</table>\n",
              "</div>\n",
              "      <button class=\"colab-df-convert\" onclick=\"convertToInteractive('df-54813531-0bad-499f-b956-4ffcfb28b675')\"\n",
              "              title=\"Convert this dataframe to an interactive table.\"\n",
              "              style=\"display:none;\">\n",
              "        \n",
              "  <svg xmlns=\"http://www.w3.org/2000/svg\" height=\"24px\"viewBox=\"0 0 24 24\"\n",
              "       width=\"24px\">\n",
              "    <path d=\"M0 0h24v24H0V0z\" fill=\"none\"/>\n",
              "    <path d=\"M18.56 5.44l.94 2.06.94-2.06 2.06-.94-2.06-.94-.94-2.06-.94 2.06-2.06.94zm-11 1L8.5 8.5l.94-2.06 2.06-.94-2.06-.94L8.5 2.5l-.94 2.06-2.06.94zm10 10l.94 2.06.94-2.06 2.06-.94-2.06-.94-.94-2.06-.94 2.06-2.06.94z\"/><path d=\"M17.41 7.96l-1.37-1.37c-.4-.4-.92-.59-1.43-.59-.52 0-1.04.2-1.43.59L10.3 9.45l-7.72 7.72c-.78.78-.78 2.05 0 2.83L4 21.41c.39.39.9.59 1.41.59.51 0 1.02-.2 1.41-.59l7.78-7.78 2.81-2.81c.8-.78.8-2.07 0-2.86zM5.41 20L4 18.59l7.72-7.72 1.47 1.35L5.41 20z\"/>\n",
              "  </svg>\n",
              "      </button>\n",
              "      \n",
              "  <style>\n",
              "    .colab-df-container {\n",
              "      display:flex;\n",
              "      flex-wrap:wrap;\n",
              "      gap: 12px;\n",
              "    }\n",
              "\n",
              "    .colab-df-convert {\n",
              "      background-color: #E8F0FE;\n",
              "      border: none;\n",
              "      border-radius: 50%;\n",
              "      cursor: pointer;\n",
              "      display: none;\n",
              "      fill: #1967D2;\n",
              "      height: 32px;\n",
              "      padding: 0 0 0 0;\n",
              "      width: 32px;\n",
              "    }\n",
              "\n",
              "    .colab-df-convert:hover {\n",
              "      background-color: #E2EBFA;\n",
              "      box-shadow: 0px 1px 2px rgba(60, 64, 67, 0.3), 0px 1px 3px 1px rgba(60, 64, 67, 0.15);\n",
              "      fill: #174EA6;\n",
              "    }\n",
              "\n",
              "    [theme=dark] .colab-df-convert {\n",
              "      background-color: #3B4455;\n",
              "      fill: #D2E3FC;\n",
              "    }\n",
              "\n",
              "    [theme=dark] .colab-df-convert:hover {\n",
              "      background-color: #434B5C;\n",
              "      box-shadow: 0px 1px 3px 1px rgba(0, 0, 0, 0.15);\n",
              "      filter: drop-shadow(0px 1px 2px rgba(0, 0, 0, 0.3));\n",
              "      fill: #FFFFFF;\n",
              "    }\n",
              "  </style>\n",
              "\n",
              "      <script>\n",
              "        const buttonEl =\n",
              "          document.querySelector('#df-54813531-0bad-499f-b956-4ffcfb28b675 button.colab-df-convert');\n",
              "        buttonEl.style.display =\n",
              "          google.colab.kernel.accessAllowed ? 'block' : 'none';\n",
              "\n",
              "        async function convertToInteractive(key) {\n",
              "          const element = document.querySelector('#df-54813531-0bad-499f-b956-4ffcfb28b675');\n",
              "          const dataTable =\n",
              "            await google.colab.kernel.invokeFunction('convertToInteractive',\n",
              "                                                     [key], {});\n",
              "          if (!dataTable) return;\n",
              "\n",
              "          const docLinkHtml = 'Like what you see? Visit the ' +\n",
              "            '<a target=\"_blank\" href=https://colab.research.google.com/notebooks/data_table.ipynb>data table notebook</a>'\n",
              "            + ' to learn more about interactive tables.';\n",
              "          element.innerHTML = '';\n",
              "          dataTable['output_type'] = 'display_data';\n",
              "          await google.colab.output.renderOutput(dataTable, element);\n",
              "          const docLink = document.createElement('div');\n",
              "          docLink.innerHTML = docLinkHtml;\n",
              "          element.appendChild(docLink);\n",
              "        }\n",
              "      </script>\n",
              "    </div>\n",
              "  </div>\n",
              "  "
            ]
          },
          "metadata": {},
          "execution_count": 279
        }
      ]
    },
    {
      "cell_type": "markdown",
      "source": [
        "The above table gives us an important insight on the effect of choosing a particular topicLabel. For example, if you type in a title with giberish, because we'd have an OOV rate of 100%, the quality score would be the highest, if the choice of the topic was science and lowest if the topic was cooking.\n",
        "This is the inherent bias our model has learnt for each topic."
      ],
      "metadata": {
        "id": "CppPHOgCOCvi"
      }
    },
    {
      "cell_type": "markdown",
      "source": [
        "This is an interesting observation. This means that cooking has the lowest bias i.e. relies more on the nature of the word vectors and also is a category that could use words in a context that the pretrained model wasn't exposed to. These along with popularity key-words like names of celebrity chefs would easily lead to high error variations in the model."
      ],
      "metadata": {
        "id": "5iAY-kbcPOSf"
      }
    },
    {
      "cell_type": "code",
      "source": [],
      "metadata": {
        "id": "ttnZ8BfQMmox"
      },
      "execution_count": null,
      "outputs": []
    },
    {
      "cell_type": "markdown",
      "source": [
        "One final failure check is the one to throw our model completely off by trying to make it give us the highest number of views with a meaningless title, which in reality wouldn't be likely to get a high number of views even if it existed.\n",
        "Let's stick to one of the scores that is high and has a relatively low prediction error in the cooking category for this example so we can compare better."
      ],
      "metadata": {
        "id": "yruo8IExP--M"
      }
    },
    {
      "cell_type": "code",
      "source": [
        "cooking_df = raw_df[raw_df.topicLabel=='Cooking']\n",
        "cooking_titles_df = title_check(cooking_df)\n",
        "\n",
        "# test_rows_df_ = title_check(test_rows_df)\n",
        "\n",
        "# test_rows_df_ = test_rows_df_.drop(['title_unchanged', 'title'], axis=1)\n",
        "# test_rows_df_ = test_rows_df_.drop('score', axis=1)\n",
        "\n",
        "# pred_test_rows_df = ct.transform(test_rows_df_)\n",
        "# pred_test_rows_df = mms.transform(pred_test_rows_df)\n"
      ],
      "metadata": {
        "id": "LZ3LyqOhMm6b"
      },
      "execution_count": 281,
      "outputs": []
    },
    {
      "cell_type": "code",
      "source": [
        "max_score = max(cooking_titles_df.score)"
      ],
      "metadata": {
        "id": "Pc6jOc77Q_qu"
      },
      "execution_count": 285,
      "outputs": []
    },
    {
      "cell_type": "code",
      "source": [
        "cooking_titles_df.loc[43456][['title_unchanged', 'title', 'score']]"
      ],
      "metadata": {
        "colab": {
          "base_uri": "https://localhost:8080/"
        },
        "id": "oQYR3texRG7y",
        "outputId": "365cb467-4d46-44ed-c4e6-cba40f1d9ebc"
      },
      "execution_count": 303,
      "outputs": [
        {
          "output_type": "execute_result",
          "data": {
            "text/plain": [
              "title_unchanged    binging with babish: together breakfast from s...\n",
              "title              [binging, babish, together, breakfast, steven,...\n",
              "score                                                       8.685785\n",
              "Name: 43456, dtype: object"
            ]
          },
          "metadata": {},
          "execution_count": 303
        }
      ]
    },
    {
      "cell_type": "code",
      "source": [
        "raw_df.loc[43456]"
      ],
      "metadata": {
        "colab": {
          "base_uri": "https://localhost:8080/"
        },
        "id": "RHn4FDCgRYap",
        "outputId": "6e65499b-7653-4973-a1ec-867284fa93c1"
      },
      "execution_count": 304,
      "outputs": [
        {
          "output_type": "execute_result",
          "data": {
            "text/plain": [
              "publishedAt                                     2021-03-23T13:00:03Z\n",
              "title              Binging with Babish: Together Breakfast from S...\n",
              "channelId                                   UCJHA_jMfCvEnv-3kRjTCQXw\n",
              "description        This video is sponsored by Thrive Market. You'...\n",
              "channelTitle                                Babish Culinary Universe\n",
              "tags               [together breakfast, steven universe, together...\n",
              "categoryId                                                        24\n",
              "viewCount                                                    1482736\n",
              "likeCount                                                      61250\n",
              "favoriteCount                                                      0\n",
              "commentCount                                                    2447\n",
              "duration                                                     PT6M36S\n",
              "definition                                                        hd\n",
              "contentRating                                                     {}\n",
              "topicCategories    [https://en.wikipedia.org/wiki/Food, https://e...\n",
              "topicLabel                                                   Cooking\n",
              "Name: 43456, dtype: object"
            ]
          },
          "metadata": {},
          "execution_count": 304
        }
      ]
    },
    {
      "cell_type": "code",
      "source": [
        "raw_copy = raw_df.copy()\n",
        "raw_copy.loc[43456]"
      ],
      "metadata": {
        "id": "6vGHZG4IVTcy"
      },
      "execution_count": null,
      "outputs": []
    },
    {
      "cell_type": "markdown",
      "source": [
        "Let's try to hack this title down"
      ],
      "metadata": {
        "id": "b6VrHkRoSjkl"
      }
    },
    {
      "cell_type": "code",
      "source": [
        "cooking_df = raw_df[raw_df.topicLabel=='Cooking']\n",
        "cooking_df.loc[43456].title= \"Binging with from Steven :SCAMMING with WORDS from Steven Universe \"\n",
        "cooking_titles_df = title_check(cooking_df)"
      ],
      "metadata": {
        "id": "T-36Qv-gYWlw"
      },
      "execution_count": 360,
      "outputs": []
    },
    {
      "cell_type": "code",
      "source": [
        "# row_df_ = cooking_titles_df.copy()\n",
        "# row_df_ = row_df_.drop(['title_unchanged', 'title'], axis=1)\n",
        "# row_df = row_df_.drop('score', axis=1)\n",
        "# row_df = row_df.loc[43456]\n",
        "# pred_row = ct.transform(pd.DataFrame(row_df).T)\n",
        "# pred_row = mms.transform(pred_row)\n",
        "# hgbr.predict(pred_row)\n",
        "###ORIGINAL PREDICTION WITHOUT ALTERING THE TITLE"
      ],
      "metadata": {
        "colab": {
          "base_uri": "https://localhost:8080/"
        },
        "id": "4KReup3MSiux",
        "outputId": "30bad866-dc59-4448-e3a0-148daeb7a909"
      },
      "execution_count": 316,
      "outputs": [
        {
          "output_type": "execute_result",
          "data": {
            "text/plain": [
              "array([7.93521008])"
            ]
          },
          "metadata": {},
          "execution_count": 316
        }
      ]
    },
    {
      "cell_type": "markdown",
      "source": [
        "At prediction time the model predicts this video to get ~8x more popularity than the median within this category. No let's use these words and construct in an attempt to construct something that wouldn't be as meaninful as the original title."
      ],
      "metadata": {
        "id": "Hpu2-W11W2BU"
      }
    },
    {
      "cell_type": "code",
      "source": [
        "raw_df.loc[43456].title"
      ],
      "metadata": {
        "colab": {
          "base_uri": "https://localhost:8080/",
          "height": 37
        },
        "id": "haIsvbEQXHb5",
        "outputId": "87254d87-b972-4f21-e146-e09791ef7836"
      },
      "execution_count": 317,
      "outputs": [
        {
          "output_type": "execute_result",
          "data": {
            "text/plain": [
              "'Binging with Babish: Together Breakfast from Steven Universe'"
            ],
            "application/vnd.google.colaboratory.intrinsic+json": {
              "type": "string"
            }
          },
          "metadata": {},
          "execution_count": 317
        }
      ]
    },
    {
      "cell_type": "code",
      "source": [
        "## with title \"Binging with from Steven :SCAMMING with WORDS from Steven Universe \"\n",
        "\n",
        "row_df_ = cooking_titles_df.copy()\n",
        "row_df_ = row_df_.drop(['title_unchanged', 'title'], axis=1)\n",
        "row_df = row_df_.drop('score', axis=1)\n",
        "row_df = row_df.loc[43456]\n",
        "pred_row = ct.transform(pd.DataFrame(row_df).T)\n",
        "pred_row = mms.transform(pred_row)\n",
        "hgbr.predict(pred_row)"
      ],
      "metadata": {
        "colab": {
          "base_uri": "https://localhost:8080/"
        },
        "id": "TaL3qerrXxq_",
        "outputId": "858689ed-c9ea-482a-f9ee-c08a1ed0ac7c"
      },
      "execution_count": 361,
      "outputs": [
        {
          "output_type": "execute_result",
          "data": {
            "text/plain": [
              "array([7.93521008])"
            ]
          },
          "metadata": {},
          "execution_count": 361
        }
      ]
    },
    {
      "cell_type": "markdown",
      "source": [
        "Finding: Through our attempt to hack the model down, we accidentally came up with a title name that our model says would have exactly the same quality score even with a completely meaningless tiltle, just by making sure we use words in an order preserving manner."
      ],
      "metadata": {
        "id": "kVrpdoB8ftNO"
      }
    },
    {
      "cell_type": "code",
      "source": [
        "cooking_df = raw_df[raw_df.topicLabel=='Cooking']\n",
        "cooking_df.loc[43456].title= \"Breakfast with Steven Universe: Binging with Babish \"\n",
        "cooking_titles_df = title_check(cooking_df)"
      ],
      "metadata": {
        "id": "lC6xcw18e3Jg"
      },
      "execution_count": 365,
      "outputs": []
    },
    {
      "cell_type": "code",
      "source": [
        "## with title \"Breakfast with Steven Universe: Binging with Babish\"\n",
        "\n",
        "row_df_ = cooking_titles_df.copy()\n",
        "row_df_ = row_df_.drop(['title_unchanged', 'title'], axis=1)\n",
        "row_df = row_df_.drop('score', axis=1)\n",
        "row_df = row_df.loc[43456]\n",
        "pred_row = ct.transform(pd.DataFrame(row_df).T)\n",
        "pred_row = mms.transform(pred_row)\n",
        "hgbr.predict(pred_row)"
      ],
      "metadata": {
        "colab": {
          "base_uri": "https://localhost:8080/"
        },
        "id": "OX7d6rIwe3Ng",
        "outputId": "f7a46f02-a9d5-4da1-8545-2d34f6387ff1"
      },
      "execution_count": 366,
      "outputs": [
        {
          "output_type": "execute_result",
          "data": {
            "text/plain": [
              "array([1.79317793])"
            ]
          },
          "metadata": {},
          "execution_count": 366
        }
      ]
    },
    {
      "cell_type": "markdown",
      "source": [
        "Finding: This implies that our model wouldn't do as well, if the grammatical construction of video titles is characteristic of a particular demographic. This if not accounted for, would definitely bias the model to treat a demographic language construct superior to another without explicitly training the model for it."
      ],
      "metadata": {
        "id": "04GsVYzYdBx6"
      }
    },
    {
      "cell_type": "markdown",
      "source": [
        "Summary: With this we can summarise that we've done a failure analysis on topic-wise variance, the role of OOV words, the bias per topic that would lead to prediction failure, and finally another situation where our model would fail given an altered language construct. we also observed situations in the general data where the w2v models vectorisation wouldn't suit the context of the underlying topic and thus would lead to a higher error prediction."
      ],
      "metadata": {
        "id": "CmqU9Bo3eDmL"
      }
    },
    {
      "cell_type": "code",
      "source": [
        "################# END OF THE FAILURE ANALYSIS NOTEBOOK ###############"
      ],
      "metadata": {
        "id": "CAXvDcRYXLLB"
      },
      "execution_count": null,
      "outputs": []
    }
  ]
}