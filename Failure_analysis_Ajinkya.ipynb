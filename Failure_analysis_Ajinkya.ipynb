{
  "nbformat": 4,
  "nbformat_minor": 0,
  "metadata": {
    "colab": {
      "provenance": [],
      "collapsed_sections": [],
      "authorship_tag": "ABX9TyOQZMXufliHZjchNeVaszzY",
      "include_colab_link": true
    },
    "kernelspec": {
      "name": "python3",
      "display_name": "Python 3"
    },
    "language_info": {
      "name": "python"
    }
  },
  "cells": [
    {
      "cell_type": "markdown",
      "metadata": {
        "id": "view-in-github",
        "colab_type": "text"
      },
      "source": [
        "<a href=\"https://colab.research.google.com/github/ajinkyabhanudas/SIADS696/blob/dev/Failure_analysis_Ajinkya.ipynb\" target=\"_parent\"><img src=\"https://colab.research.google.com/assets/colab-badge.svg\" alt=\"Open In Colab\"/></a>"
      ]
    },
    {
      "cell_type": "markdown",
      "source": [
        "## Failure Analysis\n",
        "### The best performing model: Histogram Gradient Boosting Regression Trees\n",
        "- The primary focus of this notebook is to perform failure analysis.\n",
        "- Since our dataset was relatively small considering the diversity of the word vector feature values in the n-dimensional featue space, the best value of the quality of fit we observed was only 37% after we leveraged cross validation along with grid search.\n",
        "- That being said, Our failure analysis would be more like a success analysis to try and observe what we got right and why we think the model was able to pick that signal up."
      ],
      "metadata": {
        "id": "XrtUIEppDLLk"
      }
    },
    {
      "cell_type": "code",
      "source": [
        "!gdown 1PTaSiunxWhwkHxKf5v4G3oPbAXzvGqKN \n",
        "!gdown 1v8rbzAcb_cAw7kwShlGyEuAUw2Ja006N \n",
        "!gdown 1porOGWPwFdydbXbQQmveCPvAT1lvO8RC\n",
        "!gdown 12uI3sXRLJzEwPx05D7tZD5g7DRAcAcFs\n",
        "\n",
        "!gdown 1Nwp22QXlSRyczKxC_siWZQ10qm0WVKON"
      ],
      "metadata": {
        "colab": {
          "base_uri": "https://localhost:8080/"
        },
        "id": "MALQI--jDnOT",
        "outputId": "2db99162-3242-4d60-b325-1280d461ea81"
      },
      "execution_count": 14,
      "outputs": [
        {
          "output_type": "stream",
          "name": "stdout",
          "text": [
            "Downloading...\n",
            "From: https://drive.google.com/uc?id=1PTaSiunxWhwkHxKf5v4G3oPbAXzvGqKN\n",
            "To: /content/train_X.csv\n",
            "100% 39.6M/39.6M [00:00<00:00, 129MB/s] \n",
            "Downloading...\n",
            "From: https://drive.google.com/uc?id=1v8rbzAcb_cAw7kwShlGyEuAUw2Ja006N\n",
            "To: /content/train_y.csv\n",
            "100% 733k/733k [00:00<00:00, 93.3MB/s]\n",
            "Downloading...\n",
            "From: https://drive.google.com/uc?id=1porOGWPwFdydbXbQQmveCPvAT1lvO8RC\n",
            "To: /content/test_X.csv\n",
            "100% 9.92M/9.92M [00:00<00:00, 218MB/s]\n",
            "Downloading...\n",
            "From: https://drive.google.com/uc?id=12uI3sXRLJzEwPx05D7tZD5g7DRAcAcFs\n",
            "To: /content/test_y.csv\n",
            "100% 183k/183k [00:00<00:00, 75.6MB/s]\n",
            "Downloading...\n",
            "From: https://drive.google.com/uc?id=1Nwp22QXlSRyczKxC_siWZQ10qm0WVKON\n",
            "To: /content/model.sav\n",
            "100% 749k/749k [00:00<00:00, 121MB/s]\n"
          ]
        }
      ]
    },
    {
      "cell_type": "code",
      "source": [
        "import plotly.graph_objects as go\n",
        "from plotly.subplots import make_subplots\n",
        "import pylab as pl\n",
        "\n",
        "import datetime\n",
        "import enum\n",
        "import glob\n",
        "import json\n",
        "import os\n",
        "import re\n",
        "from itertools import groupby\n",
        "\n",
        "from gensim.models import Word2Vec\n",
        "import matplotlib.pyplot as plt\n",
        "from matplotlib import ticker\n",
        "\n",
        "import nltk\n",
        "from nltk.corpus import stopwords\n",
        "import numpy as np\n",
        "import pandas as pd\n",
        "import pickle\n",
        "\n",
        "import warnings\n",
        "warnings.simplefilter(action='ignore')"
      ],
      "metadata": {
        "id": "-ZBHACqZFZFu"
      },
      "execution_count": 153,
      "outputs": []
    },
    {
      "cell_type": "code",
      "source": [
        "from sklearn.cluster import DBSCAN\n",
        "\n",
        "from sklearn.model_selection import train_test_split\n",
        "from sklearn.preprocessing import StandardScaler, MinMaxScaler\n",
        "from sklearn.preprocessing import FunctionTransformer, PolynomialFeatures, OneHotEncoder\n",
        "from sklearn.decomposition import PCA\n",
        "\n",
        "from sklearn.pipeline import Pipeline\n",
        "from sklearn.compose import ColumnTransformer"
      ],
      "metadata": {
        "id": "4o7ewPq2FpOY"
      },
      "execution_count": 7,
      "outputs": []
    },
    {
      "cell_type": "code",
      "source": [
        "from sklearn.ensemble import HistGradientBoostingRegressor\n",
        "from sklearn.metrics import r2_score\n",
        "from sklearn.inspection import permutation_importance\n",
        "\n",
        "from sklearn import metrics\n",
        "from sklearn.model_selection import cross_val_score, cross_validate, GridSearchCV"
      ],
      "metadata": {
        "id": "C8pvb4zyGNdL"
      },
      "execution_count": 8,
      "outputs": []
    },
    {
      "cell_type": "code",
      "source": [
        "import gensim.downloader\n",
        "glove_wv = gensim.downloader.load('glove-wiki-gigaword-50')\n",
        "\n",
        "nltk.download('punkt')\n",
        "nltk.download('stopwords')"
      ],
      "metadata": {
        "colab": {
          "base_uri": "https://localhost:8080/"
        },
        "id": "vH01k3oqGPoT",
        "outputId": "159f6747-7fbc-441e-e74e-4d40856e3bf4"
      },
      "execution_count": 5,
      "outputs": [
        {
          "output_type": "stream",
          "name": "stdout",
          "text": [
            "[==================================================] 100.0% 66.0/66.0MB downloaded\n"
          ]
        },
        {
          "output_type": "stream",
          "name": "stderr",
          "text": [
            "[nltk_data] Downloading package punkt to /root/nltk_data...\n",
            "[nltk_data]   Unzipping tokenizers/punkt.zip.\n",
            "[nltk_data] Downloading package stopwords to /root/nltk_data...\n",
            "[nltk_data]   Unzipping corpora/stopwords.zip.\n"
          ]
        },
        {
          "output_type": "execute_result",
          "data": {
            "text/plain": [
              "True"
            ]
          },
          "metadata": {},
          "execution_count": 5
        }
      ]
    },
    {
      "cell_type": "code",
      "source": [
        "train_X = pd.read_csv(\"train_X.csv\")\n",
        "train_y = pd.read_csv(\"train_y.csv\")\n",
        "\n",
        "test_X_ = pd.read_csv(\"test_X.csv\")\n",
        "test_y = pd.read_csv(\"test_y.csv\")"
      ],
      "metadata": {
        "id": "J3Z9FdV3GRZM"
      },
      "execution_count": 98,
      "outputs": []
    },
    {
      "cell_type": "code",
      "source": [
        "test_X_"
      ],
      "metadata": {
        "colab": {
          "base_uri": "https://localhost:8080/",
          "height": 483
        },
        "id": "mUOtLlrlGWb-",
        "outputId": "42130e8b-6803-4533-ea0e-773ad76cc3f3"
      },
      "execution_count": 99,
      "outputs": [
        {
          "output_type": "execute_result",
          "data": {
            "text/plain": [
              "      publishedDayNum  log_duration_secs  len_title   title_1   title_2  \\\n",
              "0                  55           6.448889         11 -0.067034  0.738506   \n",
              "1                 251           6.972606          7 -0.221372  0.771232   \n",
              "2                  48           5.438079          4  0.406600  0.690655   \n",
              "3                 213           6.403574          4 -0.023580  0.646470   \n",
              "4                  78           7.362645          4 -0.142713  0.801386   \n",
              "...               ...                ...        ...       ...       ...   \n",
              "9617              233           5.153292          9 -0.101717  1.059783   \n",
              "9618              180           5.365976          3 -0.252733  0.884874   \n",
              "9619               47           6.272877          4 -0.265456  0.896224   \n",
              "9620              273           5.379897          3 -0.063648  1.082242   \n",
              "9621              253           5.863631          5 -0.156889  0.945633   \n",
              "\n",
              "       title_3   title_4   title_5   title_6   title_7  ...  title_43  \\\n",
              "0     0.354534  0.585256  0.500022  0.182586  0.032060  ... -0.288240   \n",
              "1     0.380841  0.853690  0.404392  0.200614  0.332160  ... -0.147374   \n",
              "2     0.844660  0.765535 -0.488250 -0.024590  0.215335  ... -0.170345   \n",
              "3     0.802832  0.913045  0.340683 -0.067310  0.350050  ...  0.031009   \n",
              "4     0.527906  0.778926  0.332370 -0.101727  0.372164  ... -0.139873   \n",
              "...        ...       ...       ...       ...       ...  ...       ...   \n",
              "9617  0.667565  1.030287  0.435890 -0.108123  0.809597  ...  0.088013   \n",
              "9618  0.826581  0.984834  0.498031 -0.165098  0.698783  ... -0.207881   \n",
              "9619  0.619452  0.864880  0.513994 -0.257218  0.627414  ... -0.179184   \n",
              "9620  0.412049  0.797175  0.298542  0.039410  0.451043  ... -0.156935   \n",
              "9621  0.491655  0.596867  0.577144 -0.091643  0.629830  ... -0.236059   \n",
              "\n",
              "      title_44  title_45  title_46  title_47  title_48  title_49  title_50  \\\n",
              "0     0.040508 -0.351104  0.022336  0.155882 -0.418398  0.254494  1.296076   \n",
              "1    -0.202466 -0.476051 -0.034336  0.299940 -0.610114  0.220954  1.359274   \n",
              "2    -0.177065  0.053796  0.655165  0.211580 -0.266535  0.155870  1.839400   \n",
              "3    -0.097173  0.149332  0.322852  0.191959 -0.383737  0.603576  0.667638   \n",
              "4    -0.176725 -0.054009  0.051937  0.046176 -0.625320  0.324756  1.211579   \n",
              "...        ...       ...       ...       ...       ...       ...       ...   \n",
              "9617 -0.638757 -0.661797 -0.097090  0.161490 -0.651966  0.629860  1.137917   \n",
              "9618 -0.115602  0.180434  0.153174  0.103049 -0.532818  0.432853  0.835500   \n",
              "9619 -0.126249 -0.212088  0.284164  0.106127 -0.541855  0.567468  0.753146   \n",
              "9620 -0.293163 -0.423686 -0.014855  0.144395 -0.701292  0.363572  1.089745   \n",
              "9621 -0.006961 -0.274101  0.281788  0.109953 -0.614936  0.478783  1.034871   \n",
              "\n",
              "      definition  topicLabel  \n",
              "0             hd     cooking  \n",
              "1             hd     cooking  \n",
              "2             hd       music  \n",
              "3             hd     fitness  \n",
              "4             hd     history  \n",
              "...          ...         ...  \n",
              "9617          hd       music  \n",
              "9618          hd      comedy  \n",
              "9619          hd      travel  \n",
              "9620          hd      comedy  \n",
              "9621          sd     cooking  \n",
              "\n",
              "[9622 rows x 55 columns]"
            ],
            "text/html": [
              "\n",
              "  <div id=\"df-c1588820-4780-414b-b82a-8fbc4e012da8\">\n",
              "    <div class=\"colab-df-container\">\n",
              "      <div>\n",
              "<style scoped>\n",
              "    .dataframe tbody tr th:only-of-type {\n",
              "        vertical-align: middle;\n",
              "    }\n",
              "\n",
              "    .dataframe tbody tr th {\n",
              "        vertical-align: top;\n",
              "    }\n",
              "\n",
              "    .dataframe thead th {\n",
              "        text-align: right;\n",
              "    }\n",
              "</style>\n",
              "<table border=\"1\" class=\"dataframe\">\n",
              "  <thead>\n",
              "    <tr style=\"text-align: right;\">\n",
              "      <th></th>\n",
              "      <th>publishedDayNum</th>\n",
              "      <th>log_duration_secs</th>\n",
              "      <th>len_title</th>\n",
              "      <th>title_1</th>\n",
              "      <th>title_2</th>\n",
              "      <th>title_3</th>\n",
              "      <th>title_4</th>\n",
              "      <th>title_5</th>\n",
              "      <th>title_6</th>\n",
              "      <th>title_7</th>\n",
              "      <th>...</th>\n",
              "      <th>title_43</th>\n",
              "      <th>title_44</th>\n",
              "      <th>title_45</th>\n",
              "      <th>title_46</th>\n",
              "      <th>title_47</th>\n",
              "      <th>title_48</th>\n",
              "      <th>title_49</th>\n",
              "      <th>title_50</th>\n",
              "      <th>definition</th>\n",
              "      <th>topicLabel</th>\n",
              "    </tr>\n",
              "  </thead>\n",
              "  <tbody>\n",
              "    <tr>\n",
              "      <th>0</th>\n",
              "      <td>55</td>\n",
              "      <td>6.448889</td>\n",
              "      <td>11</td>\n",
              "      <td>-0.067034</td>\n",
              "      <td>0.738506</td>\n",
              "      <td>0.354534</td>\n",
              "      <td>0.585256</td>\n",
              "      <td>0.500022</td>\n",
              "      <td>0.182586</td>\n",
              "      <td>0.032060</td>\n",
              "      <td>...</td>\n",
              "      <td>-0.288240</td>\n",
              "      <td>0.040508</td>\n",
              "      <td>-0.351104</td>\n",
              "      <td>0.022336</td>\n",
              "      <td>0.155882</td>\n",
              "      <td>-0.418398</td>\n",
              "      <td>0.254494</td>\n",
              "      <td>1.296076</td>\n",
              "      <td>hd</td>\n",
              "      <td>cooking</td>\n",
              "    </tr>\n",
              "    <tr>\n",
              "      <th>1</th>\n",
              "      <td>251</td>\n",
              "      <td>6.972606</td>\n",
              "      <td>7</td>\n",
              "      <td>-0.221372</td>\n",
              "      <td>0.771232</td>\n",
              "      <td>0.380841</td>\n",
              "      <td>0.853690</td>\n",
              "      <td>0.404392</td>\n",
              "      <td>0.200614</td>\n",
              "      <td>0.332160</td>\n",
              "      <td>...</td>\n",
              "      <td>-0.147374</td>\n",
              "      <td>-0.202466</td>\n",
              "      <td>-0.476051</td>\n",
              "      <td>-0.034336</td>\n",
              "      <td>0.299940</td>\n",
              "      <td>-0.610114</td>\n",
              "      <td>0.220954</td>\n",
              "      <td>1.359274</td>\n",
              "      <td>hd</td>\n",
              "      <td>cooking</td>\n",
              "    </tr>\n",
              "    <tr>\n",
              "      <th>2</th>\n",
              "      <td>48</td>\n",
              "      <td>5.438079</td>\n",
              "      <td>4</td>\n",
              "      <td>0.406600</td>\n",
              "      <td>0.690655</td>\n",
              "      <td>0.844660</td>\n",
              "      <td>0.765535</td>\n",
              "      <td>-0.488250</td>\n",
              "      <td>-0.024590</td>\n",
              "      <td>0.215335</td>\n",
              "      <td>...</td>\n",
              "      <td>-0.170345</td>\n",
              "      <td>-0.177065</td>\n",
              "      <td>0.053796</td>\n",
              "      <td>0.655165</td>\n",
              "      <td>0.211580</td>\n",
              "      <td>-0.266535</td>\n",
              "      <td>0.155870</td>\n",
              "      <td>1.839400</td>\n",
              "      <td>hd</td>\n",
              "      <td>music</td>\n",
              "    </tr>\n",
              "    <tr>\n",
              "      <th>3</th>\n",
              "      <td>213</td>\n",
              "      <td>6.403574</td>\n",
              "      <td>4</td>\n",
              "      <td>-0.023580</td>\n",
              "      <td>0.646470</td>\n",
              "      <td>0.802832</td>\n",
              "      <td>0.913045</td>\n",
              "      <td>0.340683</td>\n",
              "      <td>-0.067310</td>\n",
              "      <td>0.350050</td>\n",
              "      <td>...</td>\n",
              "      <td>0.031009</td>\n",
              "      <td>-0.097173</td>\n",
              "      <td>0.149332</td>\n",
              "      <td>0.322852</td>\n",
              "      <td>0.191959</td>\n",
              "      <td>-0.383737</td>\n",
              "      <td>0.603576</td>\n",
              "      <td>0.667638</td>\n",
              "      <td>hd</td>\n",
              "      <td>fitness</td>\n",
              "    </tr>\n",
              "    <tr>\n",
              "      <th>4</th>\n",
              "      <td>78</td>\n",
              "      <td>7.362645</td>\n",
              "      <td>4</td>\n",
              "      <td>-0.142713</td>\n",
              "      <td>0.801386</td>\n",
              "      <td>0.527906</td>\n",
              "      <td>0.778926</td>\n",
              "      <td>0.332370</td>\n",
              "      <td>-0.101727</td>\n",
              "      <td>0.372164</td>\n",
              "      <td>...</td>\n",
              "      <td>-0.139873</td>\n",
              "      <td>-0.176725</td>\n",
              "      <td>-0.054009</td>\n",
              "      <td>0.051937</td>\n",
              "      <td>0.046176</td>\n",
              "      <td>-0.625320</td>\n",
              "      <td>0.324756</td>\n",
              "      <td>1.211579</td>\n",
              "      <td>hd</td>\n",
              "      <td>history</td>\n",
              "    </tr>\n",
              "    <tr>\n",
              "      <th>...</th>\n",
              "      <td>...</td>\n",
              "      <td>...</td>\n",
              "      <td>...</td>\n",
              "      <td>...</td>\n",
              "      <td>...</td>\n",
              "      <td>...</td>\n",
              "      <td>...</td>\n",
              "      <td>...</td>\n",
              "      <td>...</td>\n",
              "      <td>...</td>\n",
              "      <td>...</td>\n",
              "      <td>...</td>\n",
              "      <td>...</td>\n",
              "      <td>...</td>\n",
              "      <td>...</td>\n",
              "      <td>...</td>\n",
              "      <td>...</td>\n",
              "      <td>...</td>\n",
              "      <td>...</td>\n",
              "      <td>...</td>\n",
              "      <td>...</td>\n",
              "    </tr>\n",
              "    <tr>\n",
              "      <th>9617</th>\n",
              "      <td>233</td>\n",
              "      <td>5.153292</td>\n",
              "      <td>9</td>\n",
              "      <td>-0.101717</td>\n",
              "      <td>1.059783</td>\n",
              "      <td>0.667565</td>\n",
              "      <td>1.030287</td>\n",
              "      <td>0.435890</td>\n",
              "      <td>-0.108123</td>\n",
              "      <td>0.809597</td>\n",
              "      <td>...</td>\n",
              "      <td>0.088013</td>\n",
              "      <td>-0.638757</td>\n",
              "      <td>-0.661797</td>\n",
              "      <td>-0.097090</td>\n",
              "      <td>0.161490</td>\n",
              "      <td>-0.651966</td>\n",
              "      <td>0.629860</td>\n",
              "      <td>1.137917</td>\n",
              "      <td>hd</td>\n",
              "      <td>music</td>\n",
              "    </tr>\n",
              "    <tr>\n",
              "      <th>9618</th>\n",
              "      <td>180</td>\n",
              "      <td>5.365976</td>\n",
              "      <td>3</td>\n",
              "      <td>-0.252733</td>\n",
              "      <td>0.884874</td>\n",
              "      <td>0.826581</td>\n",
              "      <td>0.984834</td>\n",
              "      <td>0.498031</td>\n",
              "      <td>-0.165098</td>\n",
              "      <td>0.698783</td>\n",
              "      <td>...</td>\n",
              "      <td>-0.207881</td>\n",
              "      <td>-0.115602</td>\n",
              "      <td>0.180434</td>\n",
              "      <td>0.153174</td>\n",
              "      <td>0.103049</td>\n",
              "      <td>-0.532818</td>\n",
              "      <td>0.432853</td>\n",
              "      <td>0.835500</td>\n",
              "      <td>hd</td>\n",
              "      <td>comedy</td>\n",
              "    </tr>\n",
              "    <tr>\n",
              "      <th>9619</th>\n",
              "      <td>47</td>\n",
              "      <td>6.272877</td>\n",
              "      <td>4</td>\n",
              "      <td>-0.265456</td>\n",
              "      <td>0.896224</td>\n",
              "      <td>0.619452</td>\n",
              "      <td>0.864880</td>\n",
              "      <td>0.513994</td>\n",
              "      <td>-0.257218</td>\n",
              "      <td>0.627414</td>\n",
              "      <td>...</td>\n",
              "      <td>-0.179184</td>\n",
              "      <td>-0.126249</td>\n",
              "      <td>-0.212088</td>\n",
              "      <td>0.284164</td>\n",
              "      <td>0.106127</td>\n",
              "      <td>-0.541855</td>\n",
              "      <td>0.567468</td>\n",
              "      <td>0.753146</td>\n",
              "      <td>hd</td>\n",
              "      <td>travel</td>\n",
              "    </tr>\n",
              "    <tr>\n",
              "      <th>9620</th>\n",
              "      <td>273</td>\n",
              "      <td>5.379897</td>\n",
              "      <td>3</td>\n",
              "      <td>-0.063648</td>\n",
              "      <td>1.082242</td>\n",
              "      <td>0.412049</td>\n",
              "      <td>0.797175</td>\n",
              "      <td>0.298542</td>\n",
              "      <td>0.039410</td>\n",
              "      <td>0.451043</td>\n",
              "      <td>...</td>\n",
              "      <td>-0.156935</td>\n",
              "      <td>-0.293163</td>\n",
              "      <td>-0.423686</td>\n",
              "      <td>-0.014855</td>\n",
              "      <td>0.144395</td>\n",
              "      <td>-0.701292</td>\n",
              "      <td>0.363572</td>\n",
              "      <td>1.089745</td>\n",
              "      <td>hd</td>\n",
              "      <td>comedy</td>\n",
              "    </tr>\n",
              "    <tr>\n",
              "      <th>9621</th>\n",
              "      <td>253</td>\n",
              "      <td>5.863631</td>\n",
              "      <td>5</td>\n",
              "      <td>-0.156889</td>\n",
              "      <td>0.945633</td>\n",
              "      <td>0.491655</td>\n",
              "      <td>0.596867</td>\n",
              "      <td>0.577144</td>\n",
              "      <td>-0.091643</td>\n",
              "      <td>0.629830</td>\n",
              "      <td>...</td>\n",
              "      <td>-0.236059</td>\n",
              "      <td>-0.006961</td>\n",
              "      <td>-0.274101</td>\n",
              "      <td>0.281788</td>\n",
              "      <td>0.109953</td>\n",
              "      <td>-0.614936</td>\n",
              "      <td>0.478783</td>\n",
              "      <td>1.034871</td>\n",
              "      <td>sd</td>\n",
              "      <td>cooking</td>\n",
              "    </tr>\n",
              "  </tbody>\n",
              "</table>\n",
              "<p>9622 rows × 55 columns</p>\n",
              "</div>\n",
              "      <button class=\"colab-df-convert\" onclick=\"convertToInteractive('df-c1588820-4780-414b-b82a-8fbc4e012da8')\"\n",
              "              title=\"Convert this dataframe to an interactive table.\"\n",
              "              style=\"display:none;\">\n",
              "        \n",
              "  <svg xmlns=\"http://www.w3.org/2000/svg\" height=\"24px\"viewBox=\"0 0 24 24\"\n",
              "       width=\"24px\">\n",
              "    <path d=\"M0 0h24v24H0V0z\" fill=\"none\"/>\n",
              "    <path d=\"M18.56 5.44l.94 2.06.94-2.06 2.06-.94-2.06-.94-.94-2.06-.94 2.06-2.06.94zm-11 1L8.5 8.5l.94-2.06 2.06-.94-2.06-.94L8.5 2.5l-.94 2.06-2.06.94zm10 10l.94 2.06.94-2.06 2.06-.94-2.06-.94-.94-2.06-.94 2.06-2.06.94z\"/><path d=\"M17.41 7.96l-1.37-1.37c-.4-.4-.92-.59-1.43-.59-.52 0-1.04.2-1.43.59L10.3 9.45l-7.72 7.72c-.78.78-.78 2.05 0 2.83L4 21.41c.39.39.9.59 1.41.59.51 0 1.02-.2 1.41-.59l7.78-7.78 2.81-2.81c.8-.78.8-2.07 0-2.86zM5.41 20L4 18.59l7.72-7.72 1.47 1.35L5.41 20z\"/>\n",
              "  </svg>\n",
              "      </button>\n",
              "      \n",
              "  <style>\n",
              "    .colab-df-container {\n",
              "      display:flex;\n",
              "      flex-wrap:wrap;\n",
              "      gap: 12px;\n",
              "    }\n",
              "\n",
              "    .colab-df-convert {\n",
              "      background-color: #E8F0FE;\n",
              "      border: none;\n",
              "      border-radius: 50%;\n",
              "      cursor: pointer;\n",
              "      display: none;\n",
              "      fill: #1967D2;\n",
              "      height: 32px;\n",
              "      padding: 0 0 0 0;\n",
              "      width: 32px;\n",
              "    }\n",
              "\n",
              "    .colab-df-convert:hover {\n",
              "      background-color: #E2EBFA;\n",
              "      box-shadow: 0px 1px 2px rgba(60, 64, 67, 0.3), 0px 1px 3px 1px rgba(60, 64, 67, 0.15);\n",
              "      fill: #174EA6;\n",
              "    }\n",
              "\n",
              "    [theme=dark] .colab-df-convert {\n",
              "      background-color: #3B4455;\n",
              "      fill: #D2E3FC;\n",
              "    }\n",
              "\n",
              "    [theme=dark] .colab-df-convert:hover {\n",
              "      background-color: #434B5C;\n",
              "      box-shadow: 0px 1px 3px 1px rgba(0, 0, 0, 0.15);\n",
              "      filter: drop-shadow(0px 1px 2px rgba(0, 0, 0, 0.3));\n",
              "      fill: #FFFFFF;\n",
              "    }\n",
              "  </style>\n",
              "\n",
              "      <script>\n",
              "        const buttonEl =\n",
              "          document.querySelector('#df-c1588820-4780-414b-b82a-8fbc4e012da8 button.colab-df-convert');\n",
              "        buttonEl.style.display =\n",
              "          google.colab.kernel.accessAllowed ? 'block' : 'none';\n",
              "\n",
              "        async function convertToInteractive(key) {\n",
              "          const element = document.querySelector('#df-c1588820-4780-414b-b82a-8fbc4e012da8');\n",
              "          const dataTable =\n",
              "            await google.colab.kernel.invokeFunction('convertToInteractive',\n",
              "                                                     [key], {});\n",
              "          if (!dataTable) return;\n",
              "\n",
              "          const docLinkHtml = 'Like what you see? Visit the ' +\n",
              "            '<a target=\"_blank\" href=https://colab.research.google.com/notebooks/data_table.ipynb>data table notebook</a>'\n",
              "            + ' to learn more about interactive tables.';\n",
              "          element.innerHTML = '';\n",
              "          dataTable['output_type'] = 'display_data';\n",
              "          await google.colab.output.renderOutput(dataTable, element);\n",
              "          const docLink = document.createElement('div');\n",
              "          docLink.innerHTML = docLinkHtml;\n",
              "          element.appendChild(docLink);\n",
              "        }\n",
              "      </script>\n",
              "    </div>\n",
              "  </div>\n",
              "  "
            ]
          },
          "metadata": {},
          "execution_count": 99
        }
      ]
    },
    {
      "cell_type": "code",
      "source": [
        "ct = ColumnTransformer(\n",
        "    [(\"ohe\", OneHotEncoder(handle_unknown='ignore'), [\"definition\", \"topicLabel\"]),\n",
        "    (\"poly\", PolynomialFeatures(5),[\"publishedDayNum\",\t\"log_duration_secs\", \"len_title\"]),\n",
        "    ], remainder=\"passthrough\")\n",
        "\n",
        "train_X = ct.fit_transform(train_X)\n",
        "test_X = ct.transform(test_X_)\n",
        "\n",
        "mms = MinMaxScaler()\n",
        "train_X = mms.fit_transform(train_X)\n",
        "test_X = mms.transform(test_X_)"
      ],
      "metadata": {
        "id": "G5sWHduGLLrl"
      },
      "execution_count": 28,
      "outputs": []
    },
    {
      "cell_type": "code",
      "source": [
        "hgbr = HistGradientBoostingRegressor(l2_regularization=0.2,\n",
        "                              max_depth=10,\n",
        "                              max_leaf_nodes=50,\n",
        "                              n_iter_no_change=15)"
      ],
      "metadata": {
        "id": "2YvXVnztHwYD"
      },
      "execution_count": 29,
      "outputs": []
    },
    {
      "cell_type": "code",
      "source": [
        "hgbr.fit(train_X, train_y)"
      ],
      "metadata": {
        "colab": {
          "base_uri": "https://localhost:8080/"
        },
        "id": "SqYIVnHeJCz0",
        "outputId": "3b944ef8-69da-4c62-b9e7-681f4b2b17a7"
      },
      "execution_count": 30,
      "outputs": [
        {
          "output_type": "execute_result",
          "data": {
            "text/plain": [
              "HistGradientBoostingRegressor(l2_regularization=0.2, max_depth=10,\n",
              "                              max_leaf_nodes=50, n_iter_no_change=15)"
            ]
          },
          "metadata": {},
          "execution_count": 30
        }
      ]
    },
    {
      "cell_type": "code",
      "source": [
        "r2_score(test_y, hgbr.predict(test_X))"
      ],
      "metadata": {
        "colab": {
          "base_uri": "https://localhost:8080/"
        },
        "id": "qzze8InnLgbe",
        "outputId": "dcd25d90-49f5-4080-f6f1-3fc0fa9f9ed0"
      },
      "execution_count": 31,
      "outputs": [
        {
          "output_type": "execute_result",
          "data": {
            "text/plain": [
              "0.18405768565587954"
            ]
          },
          "metadata": {},
          "execution_count": 31
        }
      ]
    },
    {
      "cell_type": "markdown",
      "source": [
        "Now, let's take a look at a very sample of the test data and look at a scatter plot of the closeness between the true and predicted values."
      ],
      "metadata": {
        "id": "oZYzmVgRYGwr"
      }
    },
    {
      "cell_type": "code",
      "source": [
        "sample = np.random.permutation(test_X)[:60]"
      ],
      "metadata": {
        "id": "1BPRMV4rOjs-"
      },
      "execution_count": 91,
      "outputs": []
    },
    {
      "cell_type": "code",
      "source": [
        "res_df = pd.DataFrame({'data_point#':list(np.arange(sample.shape[0])), 'true':list(test_y.values[:sample.shape[0]][:,0]), 'prediction':list(hgbr.predict(sample)[:sample.shape[0]])})"
      ],
      "metadata": {
        "id": "E6oHkbYZPqr6"
      },
      "execution_count": 92,
      "outputs": []
    },
    {
      "cell_type": "code",
      "source": [
        "trace1 = go.Scatter(\n",
        "    x=res_df[\"data_point#\"],\n",
        "    y=res_df['prediction'],\n",
        "    name='prediction',\n",
        "    mode='markers',\n",
        ")\n",
        "trace2 = go.Scatter(\n",
        "    x=res_df[\"data_point#\"],\n",
        "    y=res_df['true'],\n",
        "    name='true',\n",
        "    mode='markers',\n",
        "\n",
        ")\n",
        "\n",
        "fig = make_subplots(specs=[[{\"secondary_y\": False}]])\n",
        "fig.add_trace(trace1)\n",
        "fig.add_trace(trace2,secondary_y=False)\n",
        "fig['layout'].update(height = 600, width = 1300, title = \"True vs predicted values closeness\",xaxis=dict(\n",
        "      tickangle=-55\n",
        "    ))\n",
        "fig"
      ],
      "metadata": {
        "colab": {
          "base_uri": "https://localhost:8080/",
          "height": 617
        },
        "id": "cKx_C37ENQFj",
        "outputId": "9d6a3e6c-38f0-4759-d212-c2531b2f256e"
      },
      "execution_count": 95,
      "outputs": [
        {
          "output_type": "display_data",
          "data": {
            "text/html": [
              "<html>\n",
              "<head><meta charset=\"utf-8\" /></head>\n",
              "<body>\n",
              "    <div>            <script src=\"https://cdnjs.cloudflare.com/ajax/libs/mathjax/2.7.5/MathJax.js?config=TeX-AMS-MML_SVG\"></script><script type=\"text/javascript\">if (window.MathJax) {MathJax.Hub.Config({SVG: {font: \"STIX-Web\"}});}</script>                <script type=\"text/javascript\">window.PlotlyConfig = {MathJaxConfig: 'local'};</script>\n",
              "        <script src=\"https://cdn.plot.ly/plotly-2.8.3.min.js\"></script>                <div id=\"022c1c99-a068-438d-a390-3e0449082f10\" class=\"plotly-graph-div\" style=\"height:600px; width:1300px;\"></div>            <script type=\"text/javascript\">                                    window.PLOTLYENV=window.PLOTLYENV || {};                                    if (document.getElementById(\"022c1c99-a068-438d-a390-3e0449082f10\")) {                    Plotly.newPlot(                        \"022c1c99-a068-438d-a390-3e0449082f10\",                        [{\"mode\":\"markers\",\"name\":\"prediction\",\"x\":[0,1,2,3,4,5,6,7,8,9,10,11,12,13,14,15,16,17,18,19,20,21,22,23,24,25,26,27,28,29,30,31,32,33,34,35,36,37,38,39,40,41,42,43,44,45,46,47,48,49,50,51,52,53,54,55,56,57,58,59],\"y\":[4.229348280668847,1.8079785150551873,3.074635733702808,1.8488272240788375,1.1029280241323016,1.6704287159133953,2.6183976627493255,1.0861867004413237,1.4812516983282804,9.209675257332924,1.738439620084963,1.248493768877483,1.6571779386726282,1.2181237496760828,0.2322577901732785,1.8142999609174362,1.174051638628638,0.6348299546577665,1.0301581185441684,2.454666010478435,0.6442189155448788,2.126955052208419,2.04765916494147,0.8063991806554508,1.0273637317078967,1.5272676079314078,2.276821728776142,2.3381986502426324,2.5717053178571527,1.7637508792557912,0.9673108782674428,1.4511978549980586,1.434131981895914,2.0331381695794875,0.5405203857078709,1.5086964525354456,4.231173828258687,0.13987183355220453,1.1968337750309617,0.20935401025791778,1.8346891809802355,1.4940073545817094,1.3525399810146883,3.11137146909963,3.595178370552671,0.8362799881162482,1.403681913451446,0.9336691022338705,0.6642053832382482,0.5782844011343461,3.1459915379181513,3.074394749637692,1.2737998396909518,1.4441558723009484,1.3394015417084872,1.1683300294960508,1.4211674860139174,1.4709413252269727,1.9098233457989966,1.2921324604249536],\"type\":\"scatter\"},{\"mode\":\"markers\",\"name\":\"true\",\"x\":[0,1,2,3,4,5,6,7,8,9,10,11,12,13,14,15,16,17,18,19,20,21,22,23,24,25,26,27,28,29,30,31,32,33,34,35,36,37,38,39,40,41,42,43,44,45,46,47,48,49,50,51,52,53,54,55,56,57,58,59],\"y\":[2.066867734937901,4.337237340580915,0.2305629081051471,2.084635559735059,2.7442883930792563,0.0192755205726593,0.2943238458342477,2.4826018626722064,0.203932072833619,0.0409006783683374,11.52602232138269,1.577688604884621,0.3390587328367422,2.191496012204058,0.7764555771470386,0.1758380860904564,0.2280146323079051,0.16727315316858,0.1130562068035464,6.975005688650129,0.4249063189985675,0.6130952776413092,2.445548775907572,1.7669578879506211,2.448655947771453,6.061799750824881,0.049082475812344,4.198527373492792,0.166049097328586,1.9199452320691728,0.2170390048189991,4.928806134666185,0.0795304303606986,5.323660021411784,0.1786461503905826,0.2771529049358434,1.766917205397092,0.1363186618184711,1.0636160163287387,0.4355592460389274,0.0487240436828038,1.094587161553741,0.3621832839597932,0.07721576895727,1.7895023078987062,6.6888281955929845,0.0499433936139308,7.778102018196818,0.4669524580030597,0.5652093506392439,3.615690203859432,4.329822355712029,0.3490145198565439,0.0865495243109864,4.915391884443761,0.8316242669190889,0.1223803856638421,2.208858600297833,4.639259736573849,0.784711578032083],\"type\":\"scatter\",\"xaxis\":\"x\",\"yaxis\":\"y\"}],                        {\"template\":{\"data\":{\"bar\":[{\"error_x\":{\"color\":\"#2a3f5f\"},\"error_y\":{\"color\":\"#2a3f5f\"},\"marker\":{\"line\":{\"color\":\"#E5ECF6\",\"width\":0.5},\"pattern\":{\"fillmode\":\"overlay\",\"size\":10,\"solidity\":0.2}},\"type\":\"bar\"}],\"barpolar\":[{\"marker\":{\"line\":{\"color\":\"#E5ECF6\",\"width\":0.5},\"pattern\":{\"fillmode\":\"overlay\",\"size\":10,\"solidity\":0.2}},\"type\":\"barpolar\"}],\"carpet\":[{\"aaxis\":{\"endlinecolor\":\"#2a3f5f\",\"gridcolor\":\"white\",\"linecolor\":\"white\",\"minorgridcolor\":\"white\",\"startlinecolor\":\"#2a3f5f\"},\"baxis\":{\"endlinecolor\":\"#2a3f5f\",\"gridcolor\":\"white\",\"linecolor\":\"white\",\"minorgridcolor\":\"white\",\"startlinecolor\":\"#2a3f5f\"},\"type\":\"carpet\"}],\"choropleth\":[{\"colorbar\":{\"outlinewidth\":0,\"ticks\":\"\"},\"type\":\"choropleth\"}],\"contour\":[{\"colorbar\":{\"outlinewidth\":0,\"ticks\":\"\"},\"colorscale\":[[0.0,\"#0d0887\"],[0.1111111111111111,\"#46039f\"],[0.2222222222222222,\"#7201a8\"],[0.3333333333333333,\"#9c179e\"],[0.4444444444444444,\"#bd3786\"],[0.5555555555555556,\"#d8576b\"],[0.6666666666666666,\"#ed7953\"],[0.7777777777777778,\"#fb9f3a\"],[0.8888888888888888,\"#fdca26\"],[1.0,\"#f0f921\"]],\"type\":\"contour\"}],\"contourcarpet\":[{\"colorbar\":{\"outlinewidth\":0,\"ticks\":\"\"},\"type\":\"contourcarpet\"}],\"heatmap\":[{\"colorbar\":{\"outlinewidth\":0,\"ticks\":\"\"},\"colorscale\":[[0.0,\"#0d0887\"],[0.1111111111111111,\"#46039f\"],[0.2222222222222222,\"#7201a8\"],[0.3333333333333333,\"#9c179e\"],[0.4444444444444444,\"#bd3786\"],[0.5555555555555556,\"#d8576b\"],[0.6666666666666666,\"#ed7953\"],[0.7777777777777778,\"#fb9f3a\"],[0.8888888888888888,\"#fdca26\"],[1.0,\"#f0f921\"]],\"type\":\"heatmap\"}],\"heatmapgl\":[{\"colorbar\":{\"outlinewidth\":0,\"ticks\":\"\"},\"colorscale\":[[0.0,\"#0d0887\"],[0.1111111111111111,\"#46039f\"],[0.2222222222222222,\"#7201a8\"],[0.3333333333333333,\"#9c179e\"],[0.4444444444444444,\"#bd3786\"],[0.5555555555555556,\"#d8576b\"],[0.6666666666666666,\"#ed7953\"],[0.7777777777777778,\"#fb9f3a\"],[0.8888888888888888,\"#fdca26\"],[1.0,\"#f0f921\"]],\"type\":\"heatmapgl\"}],\"histogram\":[{\"marker\":{\"pattern\":{\"fillmode\":\"overlay\",\"size\":10,\"solidity\":0.2}},\"type\":\"histogram\"}],\"histogram2d\":[{\"colorbar\":{\"outlinewidth\":0,\"ticks\":\"\"},\"colorscale\":[[0.0,\"#0d0887\"],[0.1111111111111111,\"#46039f\"],[0.2222222222222222,\"#7201a8\"],[0.3333333333333333,\"#9c179e\"],[0.4444444444444444,\"#bd3786\"],[0.5555555555555556,\"#d8576b\"],[0.6666666666666666,\"#ed7953\"],[0.7777777777777778,\"#fb9f3a\"],[0.8888888888888888,\"#fdca26\"],[1.0,\"#f0f921\"]],\"type\":\"histogram2d\"}],\"histogram2dcontour\":[{\"colorbar\":{\"outlinewidth\":0,\"ticks\":\"\"},\"colorscale\":[[0.0,\"#0d0887\"],[0.1111111111111111,\"#46039f\"],[0.2222222222222222,\"#7201a8\"],[0.3333333333333333,\"#9c179e\"],[0.4444444444444444,\"#bd3786\"],[0.5555555555555556,\"#d8576b\"],[0.6666666666666666,\"#ed7953\"],[0.7777777777777778,\"#fb9f3a\"],[0.8888888888888888,\"#fdca26\"],[1.0,\"#f0f921\"]],\"type\":\"histogram2dcontour\"}],\"mesh3d\":[{\"colorbar\":{\"outlinewidth\":0,\"ticks\":\"\"},\"type\":\"mesh3d\"}],\"parcoords\":[{\"line\":{\"colorbar\":{\"outlinewidth\":0,\"ticks\":\"\"}},\"type\":\"parcoords\"}],\"pie\":[{\"automargin\":true,\"type\":\"pie\"}],\"scatter\":[{\"marker\":{\"colorbar\":{\"outlinewidth\":0,\"ticks\":\"\"}},\"type\":\"scatter\"}],\"scatter3d\":[{\"line\":{\"colorbar\":{\"outlinewidth\":0,\"ticks\":\"\"}},\"marker\":{\"colorbar\":{\"outlinewidth\":0,\"ticks\":\"\"}},\"type\":\"scatter3d\"}],\"scattercarpet\":[{\"marker\":{\"colorbar\":{\"outlinewidth\":0,\"ticks\":\"\"}},\"type\":\"scattercarpet\"}],\"scattergeo\":[{\"marker\":{\"colorbar\":{\"outlinewidth\":0,\"ticks\":\"\"}},\"type\":\"scattergeo\"}],\"scattergl\":[{\"marker\":{\"colorbar\":{\"outlinewidth\":0,\"ticks\":\"\"}},\"type\":\"scattergl\"}],\"scattermapbox\":[{\"marker\":{\"colorbar\":{\"outlinewidth\":0,\"ticks\":\"\"}},\"type\":\"scattermapbox\"}],\"scatterpolar\":[{\"marker\":{\"colorbar\":{\"outlinewidth\":0,\"ticks\":\"\"}},\"type\":\"scatterpolar\"}],\"scatterpolargl\":[{\"marker\":{\"colorbar\":{\"outlinewidth\":0,\"ticks\":\"\"}},\"type\":\"scatterpolargl\"}],\"scatterternary\":[{\"marker\":{\"colorbar\":{\"outlinewidth\":0,\"ticks\":\"\"}},\"type\":\"scatterternary\"}],\"surface\":[{\"colorbar\":{\"outlinewidth\":0,\"ticks\":\"\"},\"colorscale\":[[0.0,\"#0d0887\"],[0.1111111111111111,\"#46039f\"],[0.2222222222222222,\"#7201a8\"],[0.3333333333333333,\"#9c179e\"],[0.4444444444444444,\"#bd3786\"],[0.5555555555555556,\"#d8576b\"],[0.6666666666666666,\"#ed7953\"],[0.7777777777777778,\"#fb9f3a\"],[0.8888888888888888,\"#fdca26\"],[1.0,\"#f0f921\"]],\"type\":\"surface\"}],\"table\":[{\"cells\":{\"fill\":{\"color\":\"#EBF0F8\"},\"line\":{\"color\":\"white\"}},\"header\":{\"fill\":{\"color\":\"#C8D4E3\"},\"line\":{\"color\":\"white\"}},\"type\":\"table\"}]},\"layout\":{\"annotationdefaults\":{\"arrowcolor\":\"#2a3f5f\",\"arrowhead\":0,\"arrowwidth\":1},\"autotypenumbers\":\"strict\",\"coloraxis\":{\"colorbar\":{\"outlinewidth\":0,\"ticks\":\"\"}},\"colorscale\":{\"diverging\":[[0,\"#8e0152\"],[0.1,\"#c51b7d\"],[0.2,\"#de77ae\"],[0.3,\"#f1b6da\"],[0.4,\"#fde0ef\"],[0.5,\"#f7f7f7\"],[0.6,\"#e6f5d0\"],[0.7,\"#b8e186\"],[0.8,\"#7fbc41\"],[0.9,\"#4d9221\"],[1,\"#276419\"]],\"sequential\":[[0.0,\"#0d0887\"],[0.1111111111111111,\"#46039f\"],[0.2222222222222222,\"#7201a8\"],[0.3333333333333333,\"#9c179e\"],[0.4444444444444444,\"#bd3786\"],[0.5555555555555556,\"#d8576b\"],[0.6666666666666666,\"#ed7953\"],[0.7777777777777778,\"#fb9f3a\"],[0.8888888888888888,\"#fdca26\"],[1.0,\"#f0f921\"]],\"sequentialminus\":[[0.0,\"#0d0887\"],[0.1111111111111111,\"#46039f\"],[0.2222222222222222,\"#7201a8\"],[0.3333333333333333,\"#9c179e\"],[0.4444444444444444,\"#bd3786\"],[0.5555555555555556,\"#d8576b\"],[0.6666666666666666,\"#ed7953\"],[0.7777777777777778,\"#fb9f3a\"],[0.8888888888888888,\"#fdca26\"],[1.0,\"#f0f921\"]]},\"colorway\":[\"#636efa\",\"#EF553B\",\"#00cc96\",\"#ab63fa\",\"#FFA15A\",\"#19d3f3\",\"#FF6692\",\"#B6E880\",\"#FF97FF\",\"#FECB52\"],\"font\":{\"color\":\"#2a3f5f\"},\"geo\":{\"bgcolor\":\"white\",\"lakecolor\":\"white\",\"landcolor\":\"#E5ECF6\",\"showlakes\":true,\"showland\":true,\"subunitcolor\":\"white\"},\"hoverlabel\":{\"align\":\"left\"},\"hovermode\":\"closest\",\"mapbox\":{\"style\":\"light\"},\"paper_bgcolor\":\"white\",\"plot_bgcolor\":\"#E5ECF6\",\"polar\":{\"angularaxis\":{\"gridcolor\":\"white\",\"linecolor\":\"white\",\"ticks\":\"\"},\"bgcolor\":\"#E5ECF6\",\"radialaxis\":{\"gridcolor\":\"white\",\"linecolor\":\"white\",\"ticks\":\"\"}},\"scene\":{\"xaxis\":{\"backgroundcolor\":\"#E5ECF6\",\"gridcolor\":\"white\",\"gridwidth\":2,\"linecolor\":\"white\",\"showbackground\":true,\"ticks\":\"\",\"zerolinecolor\":\"white\"},\"yaxis\":{\"backgroundcolor\":\"#E5ECF6\",\"gridcolor\":\"white\",\"gridwidth\":2,\"linecolor\":\"white\",\"showbackground\":true,\"ticks\":\"\",\"zerolinecolor\":\"white\"},\"zaxis\":{\"backgroundcolor\":\"#E5ECF6\",\"gridcolor\":\"white\",\"gridwidth\":2,\"linecolor\":\"white\",\"showbackground\":true,\"ticks\":\"\",\"zerolinecolor\":\"white\"}},\"shapedefaults\":{\"line\":{\"color\":\"#2a3f5f\"}},\"ternary\":{\"aaxis\":{\"gridcolor\":\"white\",\"linecolor\":\"white\",\"ticks\":\"\"},\"baxis\":{\"gridcolor\":\"white\",\"linecolor\":\"white\",\"ticks\":\"\"},\"bgcolor\":\"#E5ECF6\",\"caxis\":{\"gridcolor\":\"white\",\"linecolor\":\"white\",\"ticks\":\"\"}},\"title\":{\"x\":0.05},\"xaxis\":{\"automargin\":true,\"gridcolor\":\"white\",\"linecolor\":\"white\",\"ticks\":\"\",\"title\":{\"standoff\":15},\"zerolinecolor\":\"white\",\"zerolinewidth\":2},\"yaxis\":{\"automargin\":true,\"gridcolor\":\"white\",\"linecolor\":\"white\",\"ticks\":\"\",\"title\":{\"standoff\":15},\"zerolinecolor\":\"white\",\"zerolinewidth\":2}}},\"xaxis\":{\"anchor\":\"y\",\"domain\":[0.0,1.0],\"tickangle\":-55},\"yaxis\":{\"anchor\":\"x\",\"domain\":[0.0,1.0]},\"height\":600,\"width\":1300,\"title\":{\"text\":\"True vs predicted values closeness\"}},                        {\"responsive\": true}                    ).then(function(){\n",
              "                            \n",
              "var gd = document.getElementById('022c1c99-a068-438d-a390-3e0449082f10');\n",
              "var x = new MutationObserver(function (mutations, observer) {{\n",
              "        var display = window.getComputedStyle(gd).display;\n",
              "        if (!display || display === 'none') {{\n",
              "            console.log([gd, 'removed!']);\n",
              "            Plotly.purge(gd);\n",
              "            observer.disconnect();\n",
              "        }}\n",
              "}});\n",
              "\n",
              "// Listen for the removal of the full notebook cells\n",
              "var notebookContainer = gd.closest('#notebook-container');\n",
              "if (notebookContainer) {{\n",
              "    x.observe(notebookContainer, {childList: true});\n",
              "}}\n",
              "\n",
              "// Listen for the clearing of the current output cell\n",
              "var outputEl = gd.closest('.output');\n",
              "if (outputEl) {{\n",
              "    x.observe(outputEl, {childList: true});\n",
              "}}\n",
              "\n",
              "                        })                };                            </script>        </div>\n",
              "</body>\n",
              "</html>"
            ]
          },
          "metadata": {}
        }
      ]
    },
    {
      "cell_type": "code",
      "source": [
        "res_df.true.mean(), res_df.prediction.mean()"
      ],
      "metadata": {
        "colab": {
          "base_uri": "https://localhost:8080/"
        },
        "id": "nAFfh0AcNQIk",
        "outputId": "9bce0156-bc38-48be-a913-f0637252ca26"
      },
      "execution_count": 97,
      "outputs": [
        {
          "output_type": "execute_result",
          "data": {
            "text/plain": [
              "(1.898014998065459, 1.7586461849156592)"
            ]
          },
          "metadata": {},
          "execution_count": 97
        }
      ]
    },
    {
      "cell_type": "markdown",
      "source": [
        "To get a higher degree of clarity on what's really happening, let's do some groupings on our dataset."
      ],
      "metadata": {
        "id": "R9Fxh-0wZGz0"
      }
    },
    {
      "cell_type": "code",
      "source": [
        "res_df['topicLabel']=test_X_['topicLabel']"
      ],
      "metadata": {
        "id": "rSAqvaWyZUT4"
      },
      "execution_count": 101,
      "outputs": []
    },
    {
      "cell_type": "code",
      "source": [
        "res_df['diff'] = abs(res_df['true']-res_df['prediction'])"
      ],
      "metadata": {
        "id": "32A-JLk5ZUW_"
      },
      "execution_count": 102,
      "outputs": []
    },
    {
      "cell_type": "code",
      "source": [
        "res_df.groupby('topicLabel')['diff'].agg('median').sort_values(ascending=False).plot(kind='bar')\n",
        "plt.title(\"median mean absolute errors across topics/categories\");"
      ],
      "metadata": {
        "colab": {
          "base_uri": "https://localhost:8080/",
          "height": 344
        },
        "id": "96_xwobLZUaA",
        "outputId": "14966996-3c4d-4bdb-a7d8-78ed3695580c"
      },
      "execution_count": 117,
      "outputs": [
        {
          "output_type": "display_data",
          "data": {
            "text/plain": [
              "<Figure size 432x288 with 1 Axes>"
            ],
            "image/png": "[encoded data removed]"
          },
          "metadata": {
            "needs_background": "light"
          }
        }
      ]
    },
    {
      "cell_type": "code",
      "source": [
        "w2v_cols = ['title_'+str(i) for i in range(1, 51)]"
      ],
      "metadata": {
        "id": "PHvfUoyg0bp_"
      },
      "execution_count": 157,
      "outputs": []
    },
    {
      "cell_type": "code",
      "source": [
        "test_X_[[w2v_cols[0]]+['topicLabel']].groupby('topicLabel').describe()"
      ],
      "metadata": {
        "colab": {
          "base_uri": "https://localhost:8080/",
          "height": 421
        },
        "id": "jNV8ZabP0Dqd",
        "outputId": "d136b54f-035c-47e6-b94f-475bae87df7f"
      },
      "execution_count": 166,
      "outputs": [
        {
          "output_type": "execute_result",
          "data": {
            "text/plain": [
              "            title_1                                                    \\\n",
              "              count      mean       std       min       25%       50%   \n",
              "topicLabel                                                              \n",
              "comedy       1007.0 -0.074306  0.164462 -0.557610 -0.186585 -0.094475   \n",
              "cooking      1362.0 -0.070959  0.143145 -0.814060 -0.173812 -0.078839   \n",
              "educational   990.0 -0.094075  0.128383 -0.493080 -0.186577 -0.103703   \n",
              "fitness       926.0 -0.075305  0.152959 -0.557610 -0.159351 -0.087642   \n",
              "history       768.0 -0.084423  0.129932 -0.943200 -0.155760 -0.094431   \n",
              "music         692.0 -0.061454  0.154300 -0.462925 -0.158041 -0.082358   \n",
              "news         1231.0 -0.096490  0.158808 -0.814060 -0.190977 -0.097350   \n",
              "science       826.0 -0.087806  0.152203 -0.596605 -0.179610 -0.104834   \n",
              "travel        846.0 -0.078890  0.146748 -0.661423 -0.179081 -0.081783   \n",
              "yoga          974.0 -0.070618  0.129975 -0.493080 -0.150420 -0.082588   \n",
              "\n",
              "                                 \n",
              "                  75%       max  \n",
              "topicLabel                       \n",
              "comedy       0.014036  0.738330  \n",
              "cooking      0.026794  0.379943  \n",
              "educational -0.000613  0.441440  \n",
              "fitness      0.003899  0.526690  \n",
              "history     -0.016019  0.379943  \n",
              "music        0.015937  0.406600  \n",
              "news         0.004080  0.632510  \n",
              "science     -0.000032  0.441440  \n",
              "travel       0.012652  0.330722  \n",
              "yoga        -0.016540  0.370893  "
            ],
            "text/html": [
              "\n",
              "  <div id=\"df-1db2073c-93ed-4a65-bcb8-e7d0ed68b2a5\">\n",
              "    <div class=\"colab-df-container\">\n",
              "      <div>\n",
              "<style scoped>\n",
              "    .dataframe tbody tr th:only-of-type {\n",
              "        vertical-align: middle;\n",
              "    }\n",
              "\n",
              "    .dataframe tbody tr th {\n",
              "        vertical-align: top;\n",
              "    }\n",
              "\n",
              "    .dataframe thead tr th {\n",
              "        text-align: left;\n",
              "    }\n",
              "\n",
              "    .dataframe thead tr:last-of-type th {\n",
              "        text-align: right;\n",
              "    }\n",
              "</style>\n",
              "<table border=\"1\" class=\"dataframe\">\n",
              "  <thead>\n",
              "    <tr>\n",
              "      <th></th>\n",
              "      <th colspan=\"8\" halign=\"left\">title_1</th>\n",
              "    </tr>\n",
              "    <tr>\n",
              "      <th></th>\n",
              "      <th>count</th>\n",
              "      <th>mean</th>\n",
              "      <th>std</th>\n",
              "      <th>min</th>\n",
              "      <th>25%</th>\n",
              "      <th>50%</th>\n",
              "      <th>75%</th>\n",
              "      <th>max</th>\n",
              "    </tr>\n",
              "    <tr>\n",
              "      <th>topicLabel</th>\n",
              "      <th></th>\n",
              "      <th></th>\n",
              "      <th></th>\n",
              "      <th></th>\n",
              "      <th></th>\n",
              "      <th></th>\n",
              "      <th></th>\n",
              "      <th></th>\n",
              "    </tr>\n",
              "  </thead>\n",
              "  <tbody>\n",
              "    <tr>\n",
              "      <th>comedy</th>\n",
              "      <td>1007.0</td>\n",
              "      <td>-0.074306</td>\n",
              "      <td>0.164462</td>\n",
              "      <td>-0.557610</td>\n",
              "      <td>-0.186585</td>\n",
              "      <td>-0.094475</td>\n",
              "      <td>0.014036</td>\n",
              "      <td>0.738330</td>\n",
              "    </tr>\n",
              "    <tr>\n",
              "      <th>cooking</th>\n",
              "      <td>1362.0</td>\n",
              "      <td>-0.070959</td>\n",
              "      <td>0.143145</td>\n",
              "      <td>-0.814060</td>\n",
              "      <td>-0.173812</td>\n",
              "      <td>-0.078839</td>\n",
              "      <td>0.026794</td>\n",
              "      <td>0.379943</td>\n",
              "    </tr>\n",
              "    <tr>\n",
              "      <th>educational</th>\n",
              "      <td>990.0</td>\n",
              "      <td>-0.094075</td>\n",
              "      <td>0.128383</td>\n",
              "      <td>-0.493080</td>\n",
              "      <td>-0.186577</td>\n",
              "      <td>-0.103703</td>\n",
              "      <td>-0.000613</td>\n",
              "      <td>0.441440</td>\n",
              "    </tr>\n",
              "    <tr>\n",
              "      <th>fitness</th>\n",
              "      <td>926.0</td>\n",
              "      <td>-0.075305</td>\n",
              "      <td>0.152959</td>\n",
              "      <td>-0.557610</td>\n",
              "      <td>-0.159351</td>\n",
              "      <td>-0.087642</td>\n",
              "      <td>0.003899</td>\n",
              "      <td>0.526690</td>\n",
              "    </tr>\n",
              "    <tr>\n",
              "      <th>history</th>\n",
              "      <td>768.0</td>\n",
              "      <td>-0.084423</td>\n",
              "      <td>0.129932</td>\n",
              "      <td>-0.943200</td>\n",
              "      <td>-0.155760</td>\n",
              "      <td>-0.094431</td>\n",
              "      <td>-0.016019</td>\n",
              "      <td>0.379943</td>\n",
              "    </tr>\n",
              "    <tr>\n",
              "      <th>music</th>\n",
              "      <td>692.0</td>\n",
              "      <td>-0.061454</td>\n",
              "      <td>0.154300</td>\n",
              "      <td>-0.462925</td>\n",
              "      <td>-0.158041</td>\n",
              "      <td>-0.082358</td>\n",
              "      <td>0.015937</td>\n",
              "      <td>0.406600</td>\n",
              "    </tr>\n",
              "    <tr>\n",
              "      <th>news</th>\n",
              "      <td>1231.0</td>\n",
              "      <td>-0.096490</td>\n",
              "      <td>0.158808</td>\n",
              "      <td>-0.814060</td>\n",
              "      <td>-0.190977</td>\n",
              "      <td>-0.097350</td>\n",
              "      <td>0.004080</td>\n",
              "      <td>0.632510</td>\n",
              "    </tr>\n",
              "    <tr>\n",
              "      <th>science</th>\n",
              "      <td>826.0</td>\n",
              "      <td>-0.087806</td>\n",
              "      <td>0.152203</td>\n",
              "      <td>-0.596605</td>\n",
              "      <td>-0.179610</td>\n",
              "      <td>-0.104834</td>\n",
              "      <td>-0.000032</td>\n",
              "      <td>0.441440</td>\n",
              "    </tr>\n",
              "    <tr>\n",
              "      <th>travel</th>\n",
              "      <td>846.0</td>\n",
              "      <td>-0.078890</td>\n",
              "      <td>0.146748</td>\n",
              "      <td>-0.661423</td>\n",
              "      <td>-0.179081</td>\n",
              "      <td>-0.081783</td>\n",
              "      <td>0.012652</td>\n",
              "      <td>0.330722</td>\n",
              "    </tr>\n",
              "    <tr>\n",
              "      <th>yoga</th>\n",
              "      <td>974.0</td>\n",
              "      <td>-0.070618</td>\n",
              "      <td>0.129975</td>\n",
              "      <td>-0.493080</td>\n",
              "      <td>-0.150420</td>\n",
              "      <td>-0.082588</td>\n",
              "      <td>-0.016540</td>\n",
              "      <td>0.370893</td>\n",
              "    </tr>\n",
              "  </tbody>\n",
              "</table>\n",
              "</div>\n",
              "      <button class=\"colab-df-convert\" onclick=\"convertToInteractive('df-1db2073c-93ed-4a65-bcb8-e7d0ed68b2a5')\"\n",
              "              title=\"Convert this dataframe to an interactive table.\"\n",
              "              style=\"display:none;\">\n",
              "        \n",
              "  <svg xmlns=\"http://www.w3.org/2000/svg\" height=\"24px\"viewBox=\"0 0 24 24\"\n",
              "       width=\"24px\">\n",
              "    <path d=\"M0 0h24v24H0V0z\" fill=\"none\"/>\n",
              "    <path d=\"M18.56 5.44l.94 2.06.94-2.06 2.06-.94-2.06-.94-.94-2.06-.94 2.06-2.06.94zm-11 1L8.5 8.5l.94-2.06 2.06-.94-2.06-.94L8.5 2.5l-.94 2.06-2.06.94zm10 10l.94 2.06.94-2.06 2.06-.94-2.06-.94-.94-2.06-.94 2.06-2.06.94z\"/><path d=\"M17.41 7.96l-1.37-1.37c-.4-.4-.92-.59-1.43-.59-.52 0-1.04.2-1.43.59L10.3 9.45l-7.72 7.72c-.78.78-.78 2.05 0 2.83L4 21.41c.39.39.9.59 1.41.59.51 0 1.02-.2 1.41-.59l7.78-7.78 2.81-2.81c.8-.78.8-2.07 0-2.86zM5.41 20L4 18.59l7.72-7.72 1.47 1.35L5.41 20z\"/>\n",
              "  </svg>\n",
              "      </button>\n",
              "      \n",
              "  <style>\n",
              "    .colab-df-container {\n",
              "      display:flex;\n",
              "      flex-wrap:wrap;\n",
              "      gap: 12px;\n",
              "    }\n",
              "\n",
              "    .colab-df-convert {\n",
              "      background-color: #E8F0FE;\n",
              "      border: none;\n",
              "      border-radius: 50%;\n",
              "      cursor: pointer;\n",
              "      display: none;\n",
              "      fill: #1967D2;\n",
              "      height: 32px;\n",
              "      padding: 0 0 0 0;\n",
              "      width: 32px;\n",
              "    }\n",
              "\n",
              "    .colab-df-convert:hover {\n",
              "      background-color: #E2EBFA;\n",
              "      box-shadow: 0px 1px 2px rgba(60, 64, 67, 0.3), 0px 1px 3px 1px rgba(60, 64, 67, 0.15);\n",
              "      fill: #174EA6;\n",
              "    }\n",
              "\n",
              "    [theme=dark] .colab-df-convert {\n",
              "      background-color: #3B4455;\n",
              "      fill: #D2E3FC;\n",
              "    }\n",
              "\n",
              "    [theme=dark] .colab-df-convert:hover {\n",
              "      background-color: #434B5C;\n",
              "      box-shadow: 0px 1px 3px 1px rgba(0, 0, 0, 0.15);\n",
              "      filter: drop-shadow(0px 1px 2px rgba(0, 0, 0, 0.3));\n",
              "      fill: #FFFFFF;\n",
              "    }\n",
              "  </style>\n",
              "\n",
              "      <script>\n",
              "        const buttonEl =\n",
              "          document.querySelector('#df-1db2073c-93ed-4a65-bcb8-e7d0ed68b2a5 button.colab-df-convert');\n",
              "        buttonEl.style.display =\n",
              "          google.colab.kernel.accessAllowed ? 'block' : 'none';\n",
              "\n",
              "        async function convertToInteractive(key) {\n",
              "          const element = document.querySelector('#df-1db2073c-93ed-4a65-bcb8-e7d0ed68b2a5');\n",
              "          const dataTable =\n",
              "            await google.colab.kernel.invokeFunction('convertToInteractive',\n",
              "                                                     [key], {});\n",
              "          if (!dataTable) return;\n",
              "\n",
              "          const docLinkHtml = 'Like what you see? Visit the ' +\n",
              "            '<a target=\"_blank\" href=https://colab.research.google.com/notebooks/data_table.ipynb>data table notebook</a>'\n",
              "            + ' to learn more about interactive tables.';\n",
              "          element.innerHTML = '';\n",
              "          dataTable['output_type'] = 'display_data';\n",
              "          await google.colab.output.renderOutput(dataTable, element);\n",
              "          const docLink = document.createElement('div');\n",
              "          docLink.innerHTML = docLinkHtml;\n",
              "          element.appendChild(docLink);\n",
              "        }\n",
              "      </script>\n",
              "    </div>\n",
              "  </div>\n",
              "  "
            ]
          },
          "metadata": {},
          "execution_count": 166
        }
      ]
    },
    {
      "cell_type": "markdown",
      "source": [
        "The above chart tells us that, across topics/categories, the model's performance is best for categories on the right(lower error is better) and worst on the left(higher error is worse)"
      ],
      "metadata": {
        "id": "AYxcWdkGbZdt"
      }
    },
    {
      "cell_type": "markdown",
      "source": [
        "In addition, We could also make a claim that selection of one of the categories amongst cooking, news, music would most likely throw the model farther away from the true value."
      ],
      "metadata": {
        "id": "i5HyWQdYcJbe"
      }
    },
    {
      "cell_type": "markdown",
      "source": [
        "We'll try and validate the above claim with 3 values that visually show a large difference between the true an dpredicted value"
      ],
      "metadata": {
        "id": "3hEf4pfkeO9M"
      }
    },
    {
      "cell_type": "code",
      "source": [
        "static_sample = test_X[:60]"
      ],
      "metadata": {
        "id": "c3g3-HlCaaGh"
      },
      "execution_count": 118,
      "outputs": []
    },
    {
      "cell_type": "code",
      "source": [
        "static_res_df = pd.DataFrame({'data_point#':list(np.arange(static_sample.shape[0])), 'true':list(test_y.values[:static_sample.shape[0]][:,0]), 'prediction':list(hgbr.predict(static_sample)[:static_sample.shape[0]])})"
      ],
      "metadata": {
        "id": "7bgayKezejs6"
      },
      "execution_count": 119,
      "outputs": []
    },
    {
      "cell_type": "code",
      "source": [
        "trace1 = go.Scatter(\n",
        "    x=static_res_df[\"data_point#\"],\n",
        "    y=static_res_df['prediction'],\n",
        "    name='prediction',\n",
        "    mode='markers',\n",
        ")\n",
        "trace2 = go.Scatter(\n",
        "    x=static_res_df[\"data_point#\"],\n",
        "    y=static_res_df['true'],\n",
        "    name='true',\n",
        "    mode='markers',\n",
        "\n",
        ")\n",
        "\n",
        "fig = make_subplots(specs=[[{\"secondary_y\": False}]])\n",
        "fig.add_trace(trace1)\n",
        "fig.add_trace(trace2,secondary_y=False)\n",
        "fig['layout'].update(height = 600, width = 1300, title = \"True vs predicted values closeness\",xaxis=dict(\n",
        "      tickangle=-55\n",
        "    ))\n",
        "fig"
      ],
      "metadata": {
        "colab": {
          "base_uri": "https://localhost:8080/",
          "height": 617
        },
        "id": "HCQ_am4FesHx",
        "outputId": "17d497f3-d222-40a6-844d-8574fd2bec1c"
      },
      "execution_count": 120,
      "outputs": [
        {
          "output_type": "display_data",
          "data": {
            "text/html": [
              "<html>\n",
              "<head><meta charset=\"utf-8\" /></head>\n",
              "<body>\n",
              "    <div>            <script src=\"https://cdnjs.cloudflare.com/ajax/libs/mathjax/2.7.5/MathJax.js?config=TeX-AMS-MML_SVG\"></script><script type=\"text/javascript\">if (window.MathJax) {MathJax.Hub.Config({SVG: {font: \"STIX-Web\"}});}</script>                <script type=\"text/javascript\">window.PlotlyConfig = {MathJaxConfig: 'local'};</script>\n",
              "        <script src=\"https://cdn.plot.ly/plotly-2.8.3.min.js\"></script>                <div id=\"d301d959-66c4-4306-ac35-bf7160c45fdc\" class=\"plotly-graph-div\" style=\"height:600px; width:1300px;\"></div>            <script type=\"text/javascript\">                                    window.PLOTLYENV=window.PLOTLYENV || {};                                    if (document.getElementById(\"d301d959-66c4-4306-ac35-bf7160c45fdc\")) {                    Plotly.newPlot(                        \"d301d959-66c4-4306-ac35-bf7160c45fdc\",                        [{\"mode\":\"markers\",\"name\":\"prediction\",\"x\":[0,1,2,3,4,5,6,7,8,9,10,11,12,13,14,15,16,17,18,19,20,21,22,23,24,25,26,27,28,29,30,31,32,33,34,35,36,37,38,39,40,41,42,43,44,45,46,47,48,49,50,51,52,53,54,55,56,57,58,59],\"y\":[1.763556144668019,3.282687382726396,3.1767237189549338,1.3013735298935067,1.7404104349465426,3.749452286636219,3.1131618106720365,1.1658957527786693,1.4031341940721636,0.9086122023576909,6.356736207457791,1.515577869105392,1.7115364464793428,2.108805411901485,1.7829240266233874,1.7064190071643668,1.8513393251921895,1.1666338581275892,0.9675622930681068,2.4463249460905985,1.0690049672182986,1.3095833061936966,1.4967937499849577,1.8520806229740094,2.2384604189956443,3.465292625536682,0.534790007202251,1.0353939078685594,-0.05570859246536744,2.954472596539639,1.2924029368368244,0.8949126811308171,0.8206071805767021,1.943852044364623,2.1577192126470974,2.1923967069529624,2.0091463900585214,1.1316239770024277,1.1145883439572852,1.0087963282773986,0.9861714363976694,0.3248616479866394,1.4382237801788191,2.1818361633321732,1.435551116130532,5.388699033046528,1.6021622705430585,2.276821728776142,1.182716290119208,2.3146598645383043,1.327712668382366,1.135357470098098,1.9848460772355518,3.1234700690099597,1.5611783140126112,1.396165600079711,0.7472646728940237,2.9428098939237466,1.3280177758621676,2.373195379902903],\"type\":\"scatter\"},{\"mode\":\"markers\",\"name\":\"true\",\"x\":[0,1,2,3,4,5,6,7,8,9,10,11,12,13,14,15,16,17,18,19,20,21,22,23,24,25,26,27,28,29,30,31,32,33,34,35,36,37,38,39,40,41,42,43,44,45,46,47,48,49,50,51,52,53,54,55,56,57,58,59],\"y\":[2.066867734937901,4.337237340580915,0.2305629081051471,2.084635559735059,2.7442883930792563,0.0192755205726593,0.2943238458342477,2.4826018626722064,0.203932072833619,0.0409006783683374,11.52602232138269,1.577688604884621,0.3390587328367422,2.191496012204058,0.7764555771470386,0.1758380860904564,0.2280146323079051,0.16727315316858,0.1130562068035464,6.975005688650129,0.4249063189985675,0.6130952776413092,2.445548775907572,1.7669578879506211,2.448655947771453,6.061799750824881,0.049082475812344,4.198527373492792,0.166049097328586,1.9199452320691728,0.2170390048189991,4.928806134666185,0.0795304303606986,5.323660021411784,0.1786461503905826,0.2771529049358434,1.766917205397092,0.1363186618184711,1.0636160163287387,0.4355592460389274,0.0487240436828038,1.094587161553741,0.3621832839597932,0.07721576895727,1.7895023078987062,6.6888281955929845,0.0499433936139308,7.778102018196818,0.4669524580030597,0.5652093506392439,3.615690203859432,4.329822355712029,0.3490145198565439,0.0865495243109864,4.915391884443761,0.8316242669190889,0.1223803856638421,2.208858600297833,4.639259736573849,0.784711578032083],\"type\":\"scatter\",\"xaxis\":\"x\",\"yaxis\":\"y\"}],                        {\"template\":{\"data\":{\"bar\":[{\"error_x\":{\"color\":\"#2a3f5f\"},\"error_y\":{\"color\":\"#2a3f5f\"},\"marker\":{\"line\":{\"color\":\"#E5ECF6\",\"width\":0.5},\"pattern\":{\"fillmode\":\"overlay\",\"size\":10,\"solidity\":0.2}},\"type\":\"bar\"}],\"barpolar\":[{\"marker\":{\"line\":{\"color\":\"#E5ECF6\",\"width\":0.5},\"pattern\":{\"fillmode\":\"overlay\",\"size\":10,\"solidity\":0.2}},\"type\":\"barpolar\"}],\"carpet\":[{\"aaxis\":{\"endlinecolor\":\"#2a3f5f\",\"gridcolor\":\"white\",\"linecolor\":\"white\",\"minorgridcolor\":\"white\",\"startlinecolor\":\"#2a3f5f\"},\"baxis\":{\"endlinecolor\":\"#2a3f5f\",\"gridcolor\":\"white\",\"linecolor\":\"white\",\"minorgridcolor\":\"white\",\"startlinecolor\":\"#2a3f5f\"},\"type\":\"carpet\"}],\"choropleth\":[{\"colorbar\":{\"outlinewidth\":0,\"ticks\":\"\"},\"type\":\"choropleth\"}],\"contour\":[{\"colorbar\":{\"outlinewidth\":0,\"ticks\":\"\"},\"colorscale\":[[0.0,\"#0d0887\"],[0.1111111111111111,\"#46039f\"],[0.2222222222222222,\"#7201a8\"],[0.3333333333333333,\"#9c179e\"],[0.4444444444444444,\"#bd3786\"],[0.5555555555555556,\"#d8576b\"],[0.6666666666666666,\"#ed7953\"],[0.7777777777777778,\"#fb9f3a\"],[0.8888888888888888,\"#fdca26\"],[1.0,\"#f0f921\"]],\"type\":\"contour\"}],\"contourcarpet\":[{\"colorbar\":{\"outlinewidth\":0,\"ticks\":\"\"},\"type\":\"contourcarpet\"}],\"heatmap\":[{\"colorbar\":{\"outlinewidth\":0,\"ticks\":\"\"},\"colorscale\":[[0.0,\"#0d0887\"],[0.1111111111111111,\"#46039f\"],[0.2222222222222222,\"#7201a8\"],[0.3333333333333333,\"#9c179e\"],[0.4444444444444444,\"#bd3786\"],[0.5555555555555556,\"#d8576b\"],[0.6666666666666666,\"#ed7953\"],[0.7777777777777778,\"#fb9f3a\"],[0.8888888888888888,\"#fdca26\"],[1.0,\"#f0f921\"]],\"type\":\"heatmap\"}],\"heatmapgl\":[{\"colorbar\":{\"outlinewidth\":0,\"ticks\":\"\"},\"colorscale\":[[0.0,\"#0d0887\"],[0.1111111111111111,\"#46039f\"],[0.2222222222222222,\"#7201a8\"],[0.3333333333333333,\"#9c179e\"],[0.4444444444444444,\"#bd3786\"],[0.5555555555555556,\"#d8576b\"],[0.6666666666666666,\"#ed7953\"],[0.7777777777777778,\"#fb9f3a\"],[0.8888888888888888,\"#fdca26\"],[1.0,\"#f0f921\"]],\"type\":\"heatmapgl\"}],\"histogram\":[{\"marker\":{\"pattern\":{\"fillmode\":\"overlay\",\"size\":10,\"solidity\":0.2}},\"type\":\"histogram\"}],\"histogram2d\":[{\"colorbar\":{\"outlinewidth\":0,\"ticks\":\"\"},\"colorscale\":[[0.0,\"#0d0887\"],[0.1111111111111111,\"#46039f\"],[0.2222222222222222,\"#7201a8\"],[0.3333333333333333,\"#9c179e\"],[0.4444444444444444,\"#bd3786\"],[0.5555555555555556,\"#d8576b\"],[0.6666666666666666,\"#ed7953\"],[0.7777777777777778,\"#fb9f3a\"],[0.8888888888888888,\"#fdca26\"],[1.0,\"#f0f921\"]],\"type\":\"histogram2d\"}],\"histogram2dcontour\":[{\"colorbar\":{\"outlinewidth\":0,\"ticks\":\"\"},\"colorscale\":[[0.0,\"#0d0887\"],[0.1111111111111111,\"#46039f\"],[0.2222222222222222,\"#7201a8\"],[0.3333333333333333,\"#9c179e\"],[0.4444444444444444,\"#bd3786\"],[0.5555555555555556,\"#d8576b\"],[0.6666666666666666,\"#ed7953\"],[0.7777777777777778,\"#fb9f3a\"],[0.8888888888888888,\"#fdca26\"],[1.0,\"#f0f921\"]],\"type\":\"histogram2dcontour\"}],\"mesh3d\":[{\"colorbar\":{\"outlinewidth\":0,\"ticks\":\"\"},\"type\":\"mesh3d\"}],\"parcoords\":[{\"line\":{\"colorbar\":{\"outlinewidth\":0,\"ticks\":\"\"}},\"type\":\"parcoords\"}],\"pie\":[{\"automargin\":true,\"type\":\"pie\"}],\"scatter\":[{\"marker\":{\"colorbar\":{\"outlinewidth\":0,\"ticks\":\"\"}},\"type\":\"scatter\"}],\"scatter3d\":[{\"line\":{\"colorbar\":{\"outlinewidth\":0,\"ticks\":\"\"}},\"marker\":{\"colorbar\":{\"outlinewidth\":0,\"ticks\":\"\"}},\"type\":\"scatter3d\"}],\"scattercarpet\":[{\"marker\":{\"colorbar\":{\"outlinewidth\":0,\"ticks\":\"\"}},\"type\":\"scattercarpet\"}],\"scattergeo\":[{\"marker\":{\"colorbar\":{\"outlinewidth\":0,\"ticks\":\"\"}},\"type\":\"scattergeo\"}],\"scattergl\":[{\"marker\":{\"colorbar\":{\"outlinewidth\":0,\"ticks\":\"\"}},\"type\":\"scattergl\"}],\"scattermapbox\":[{\"marker\":{\"colorbar\":{\"outlinewidth\":0,\"ticks\":\"\"}},\"type\":\"scattermapbox\"}],\"scatterpolar\":[{\"marker\":{\"colorbar\":{\"outlinewidth\":0,\"ticks\":\"\"}},\"type\":\"scatterpolar\"}],\"scatterpolargl\":[{\"marker\":{\"colorbar\":{\"outlinewidth\":0,\"ticks\":\"\"}},\"type\":\"scatterpolargl\"}],\"scatterternary\":[{\"marker\":{\"colorbar\":{\"outlinewidth\":0,\"ticks\":\"\"}},\"type\":\"scatterternary\"}],\"surface\":[{\"colorbar\":{\"outlinewidth\":0,\"ticks\":\"\"},\"colorscale\":[[0.0,\"#0d0887\"],[0.1111111111111111,\"#46039f\"],[0.2222222222222222,\"#7201a8\"],[0.3333333333333333,\"#9c179e\"],[0.4444444444444444,\"#bd3786\"],[0.5555555555555556,\"#d8576b\"],[0.6666666666666666,\"#ed7953\"],[0.7777777777777778,\"#fb9f3a\"],[0.8888888888888888,\"#fdca26\"],[1.0,\"#f0f921\"]],\"type\":\"surface\"}],\"table\":[{\"cells\":{\"fill\":{\"color\":\"#EBF0F8\"},\"line\":{\"color\":\"white\"}},\"header\":{\"fill\":{\"color\":\"#C8D4E3\"},\"line\":{\"color\":\"white\"}},\"type\":\"table\"}]},\"layout\":{\"annotationdefaults\":{\"arrowcolor\":\"#2a3f5f\",\"arrowhead\":0,\"arrowwidth\":1},\"autotypenumbers\":\"strict\",\"coloraxis\":{\"colorbar\":{\"outlinewidth\":0,\"ticks\":\"\"}},\"colorscale\":{\"diverging\":[[0,\"#8e0152\"],[0.1,\"#c51b7d\"],[0.2,\"#de77ae\"],[0.3,\"#f1b6da\"],[0.4,\"#fde0ef\"],[0.5,\"#f7f7f7\"],[0.6,\"#e6f5d0\"],[0.7,\"#b8e186\"],[0.8,\"#7fbc41\"],[0.9,\"#4d9221\"],[1,\"#276419\"]],\"sequential\":[[0.0,\"#0d0887\"],[0.1111111111111111,\"#46039f\"],[0.2222222222222222,\"#7201a8\"],[0.3333333333333333,\"#9c179e\"],[0.4444444444444444,\"#bd3786\"],[0.5555555555555556,\"#d8576b\"],[0.6666666666666666,\"#ed7953\"],[0.7777777777777778,\"#fb9f3a\"],[0.8888888888888888,\"#fdca26\"],[1.0,\"#f0f921\"]],\"sequentialminus\":[[0.0,\"#0d0887\"],[0.1111111111111111,\"#46039f\"],[0.2222222222222222,\"#7201a8\"],[0.3333333333333333,\"#9c179e\"],[0.4444444444444444,\"#bd3786\"],[0.5555555555555556,\"#d8576b\"],[0.6666666666666666,\"#ed7953\"],[0.7777777777777778,\"#fb9f3a\"],[0.8888888888888888,\"#fdca26\"],[1.0,\"#f0f921\"]]},\"colorway\":[\"#636efa\",\"#EF553B\",\"#00cc96\",\"#ab63fa\",\"#FFA15A\",\"#19d3f3\",\"#FF6692\",\"#B6E880\",\"#FF97FF\",\"#FECB52\"],\"font\":{\"color\":\"#2a3f5f\"},\"geo\":{\"bgcolor\":\"white\",\"lakecolor\":\"white\",\"landcolor\":\"#E5ECF6\",\"showlakes\":true,\"showland\":true,\"subunitcolor\":\"white\"},\"hoverlabel\":{\"align\":\"left\"},\"hovermode\":\"closest\",\"mapbox\":{\"style\":\"light\"},\"paper_bgcolor\":\"white\",\"plot_bgcolor\":\"#E5ECF6\",\"polar\":{\"angularaxis\":{\"gridcolor\":\"white\",\"linecolor\":\"white\",\"ticks\":\"\"},\"bgcolor\":\"#E5ECF6\",\"radialaxis\":{\"gridcolor\":\"white\",\"linecolor\":\"white\",\"ticks\":\"\"}},\"scene\":{\"xaxis\":{\"backgroundcolor\":\"#E5ECF6\",\"gridcolor\":\"white\",\"gridwidth\":2,\"linecolor\":\"white\",\"showbackground\":true,\"ticks\":\"\",\"zerolinecolor\":\"white\"},\"yaxis\":{\"backgroundcolor\":\"#E5ECF6\",\"gridcolor\":\"white\",\"gridwidth\":2,\"linecolor\":\"white\",\"showbackground\":true,\"ticks\":\"\",\"zerolinecolor\":\"white\"},\"zaxis\":{\"backgroundcolor\":\"#E5ECF6\",\"gridcolor\":\"white\",\"gridwidth\":2,\"linecolor\":\"white\",\"showbackground\":true,\"ticks\":\"\",\"zerolinecolor\":\"white\"}},\"shapedefaults\":{\"line\":{\"color\":\"#2a3f5f\"}},\"ternary\":{\"aaxis\":{\"gridcolor\":\"white\",\"linecolor\":\"white\",\"ticks\":\"\"},\"baxis\":{\"gridcolor\":\"white\",\"linecolor\":\"white\",\"ticks\":\"\"},\"bgcolor\":\"#E5ECF6\",\"caxis\":{\"gridcolor\":\"white\",\"linecolor\":\"white\",\"ticks\":\"\"}},\"title\":{\"x\":0.05},\"xaxis\":{\"automargin\":true,\"gridcolor\":\"white\",\"linecolor\":\"white\",\"ticks\":\"\",\"title\":{\"standoff\":15},\"zerolinecolor\":\"white\",\"zerolinewidth\":2},\"yaxis\":{\"automargin\":true,\"gridcolor\":\"white\",\"linecolor\":\"white\",\"ticks\":\"\",\"title\":{\"standoff\":15},\"zerolinecolor\":\"white\",\"zerolinewidth\":2}}},\"xaxis\":{\"anchor\":\"y\",\"domain\":[0.0,1.0],\"tickangle\":-55},\"yaxis\":{\"anchor\":\"x\",\"domain\":[0.0,1.0]},\"height\":600,\"width\":1300,\"title\":{\"text\":\"True vs predicted values closeness\"}},                        {\"responsive\": true}                    ).then(function(){\n",
              "                            \n",
              "var gd = document.getElementById('d301d959-66c4-4306-ac35-bf7160c45fdc');\n",
              "var x = new MutationObserver(function (mutations, observer) {{\n",
              "        var display = window.getComputedStyle(gd).display;\n",
              "        if (!display || display === 'none') {{\n",
              "            console.log([gd, 'removed!']);\n",
              "            Plotly.purge(gd);\n",
              "            observer.disconnect();\n",
              "        }}\n",
              "}});\n",
              "\n",
              "// Listen for the removal of the full notebook cells\n",
              "var notebookContainer = gd.closest('#notebook-container');\n",
              "if (notebookContainer) {{\n",
              "    x.observe(notebookContainer, {childList: true});\n",
              "}}\n",
              "\n",
              "// Listen for the clearing of the current output cell\n",
              "var outputEl = gd.closest('.output');\n",
              "if (outputEl) {{\n",
              "    x.observe(outputEl, {childList: true});\n",
              "}}\n",
              "\n",
              "                        })                };                            </script>        </div>\n",
              "</body>\n",
              "</html>"
            ]
          },
          "metadata": {}
        }
      ]
    },
    {
      "cell_type": "markdown",
      "source": [
        "- From the above, Let's examine point #s 10, 19, 47 for the large errors and,\n",
        "point #s 11, 23, 38 for their significantly small errors.\n",
        "- (remember our hypothesis based on the above chart, points 10, 19, 47 are more likely to belong to groups on the left hand side of the barplot observed in the previous chart and points, 11, 23, 38 are more likely to belong to groups on the right)"
      ],
      "metadata": {
        "id": "e_WElikce0-5"
      }
    },
    {
      "cell_type": "code",
      "source": [
        "test_X_.iloc[10].topicLabel, test_X_.iloc[19].topicLabel, test_X_.iloc[31].topicLabel"
      ],
      "metadata": {
        "colab": {
          "base_uri": "https://localhost:8080/"
        },
        "id": "kbtjhijof2YI",
        "outputId": "0aaae63c-fece-4d1f-fdaf-c58a64d5fa47"
      },
      "execution_count": 127,
      "outputs": [
        {
          "output_type": "execute_result",
          "data": {
            "text/plain": [
              "('cooking', 'cooking', 'news')"
            ]
          },
          "metadata": {},
          "execution_count": 127
        }
      ]
    },
    {
      "cell_type": "code",
      "source": [
        "test_X_.iloc[11].topicLabel, test_X_.iloc[13].topicLabel, test_X_.iloc[38].topicLabel"
      ],
      "metadata": {
        "colab": {
          "base_uri": "https://localhost:8080/"
        },
        "id": "j2UV5E4ngMN-",
        "outputId": "c3eb5f83-c0ae-42a2-fc47-cc00a7756c34"
      },
      "execution_count": 134,
      "outputs": [
        {
          "output_type": "execute_result",
          "data": {
            "text/plain": [
              "('fitness', 'cooking', 'comedy')"
            ]
          },
          "metadata": {},
          "execution_count": 134
        }
      ]
    },
    {
      "cell_type": "markdown",
      "source": [
        "- Our hypothesis does hold true in essence, as, the categoriesto the right seem to have predictions that are way off as compared to the ones on the left.\n",
        "- An important observation to make note of is the ability of the cooking class to be really precise in some cases (like that of point #13). That brings us to the idea that it is likely that there could be more than just the underlying topicLabels that are responsible for throwing the prediction off.\n",
        "- For the above reasons, let's take a closer look at the observations in the cooking category"
      ],
      "metadata": {
        "id": "kuJ7Qe3Lg6mL"
      }
    },
    {
      "cell_type": "code",
      "source": [
        "test_X_[test_X_.topicLabel=='cooking'][['publishedDayNum', 'log_duration_secs', 'len_title']].hist()\n",
        "pl.suptitle(\"Distributions for highest error category\");"
      ],
      "metadata": {
        "colab": {
          "base_uri": "https://localhost:8080/",
          "height": 294
        },
        "id": "Y0RRPqR7gQRu",
        "outputId": "f9fa97e2-fbb0-41d6-d43f-ae475bc4db9d"
      },
      "execution_count": 154,
      "outputs": [
        {
          "output_type": "display_data",
          "data": {
            "text/plain": [
              "<Figure size 432x288 with 4 Axes>"
            ],
            "image/png": "[encoded data removed]"
          },
          "metadata": {
            "needs_background": "light"
          }
        }
      ]
    },
    {
      "cell_type": "code",
      "source": [
        "test_X_[test_X_.topicLabel=='fitness'][['publishedDayNum', 'log_duration_secs', 'len_title']].hist()\n",
        "pl.suptitle(\"Distributions for lowest error category\");"
      ],
      "metadata": {
        "colab": {
          "base_uri": "https://localhost:8080/",
          "height": 294
        },
        "id": "o01wW8euk9o7",
        "outputId": "32f993bb-1114-4ee2-a8d5-3e14776a3f3a"
      },
      "execution_count": 152,
      "outputs": [
        {
          "output_type": "display_data",
          "data": {
            "text/plain": [
              "<Figure size 432x288 with 4 Axes>"
            ],
            "image/png": "[encoded data removed]"
          },
          "metadata": {
            "needs_background": "light"
          }
        }
      ]
    },
    {
      "cell_type": "markdown",
      "source": [
        "- A view into the distribution of these features, it is clear that there isn't an apparent difference that stands out amongst the best, worst performing topics/categories.\n",
        "- Coupling this with the understanding that the definition contributed close to nothing <1% in the permutation importance stage, we are only left with the word vector representations as a possible explanation to the underlying problem.\n",
        "\n",
        "Let's understand how the word vector representation could be the case.\n",
        "\n",
        "- We incrementally, increased the complexity of the way we chose to do our title feature representation based on observed gains in performance. [count_vec->TFIDF->Word2Vec].\n",
        "- While we note that the title, and the meta data available to us, don't really make an intuitive sense for these features being the at the core of the prediction of the title quality score.\n",
        "There is a fundamental failure that prohibits the model from learning further without overfitting the training data:\n",
        "  - The pre-trained word2vec model\n",
        "  - It is easy to observe this from the analysis we carried out upto this point. i.e. we eliminated the possible involvement of other features as explained above.\n",
        "  - The note we made above (from the bar chart) of the labels on the left, like `cooking` being markers of possibilities of high error predictions sheds light on what the shortcomings of the pretrained model could be. i.e. under the topic `cooking` the titles are more likely to use names of newer receipes, words that don't strictly obey the language construct and hence have a lot of OOV words. (The pretrained model we used is that of a smaller generic wikipedia representation). linearity shoudn't be a problem because w2v models are very good at capturing high dimensional feature space info in a relatively smaller dimension space.\n",
        "  - Categories like `fitness`, `history` tend to have words that are similar across variations e.g. \"abs and core workout\", \"strengthen your core muscles\", etc while categories like music seem to use more uniqueness in naming.\n",
        "    1. To address the above failure, we'd have to pick a larger pretrained model that is ideally specific to the categories/topics.\n",
        "    2. Another approach could be that of increasing the data from ~5.5k per topic/category to atleast 55k per category and then training a custom w2v model.\n",
        "    3. To address varaiations, the bar chart we obtained could be a good point of start to obtain additional data based inversely proportional to the error rates, implying that we would as a result, be able to help the model justify variations instead of the model trying to overfit what now, would look like noise.\n",
        "\n",
        "As things currently stand, the model would fail if the data that is fairly recent (newer `news`/`music`(song names)) and was not a part of the tranining of the pretrained model.\n",
        "Since this accounts for ~53% of the model's explainability, this adjustment would definitely help mitigate the kind of failures we observed."
      ],
      "metadata": {
        "id": "qbFPzmJ6pEnV"
      }
    },
    {
      "cell_type": "code",
      "source": [],
      "metadata": {
        "id": "r00tx0O6lC9k"
      },
      "execution_count": null,
      "outputs": []
    }
  ]
}