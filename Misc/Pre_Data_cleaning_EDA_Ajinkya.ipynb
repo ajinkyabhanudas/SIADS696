{
 "cells": [
  {
   "cell_type": "markdown",
   "metadata": {
    "colab_type": "text",
    "id": "view-in-github",
    "pycharm": {
     "name": "#%% md\n"
    }
   },
   "source": [
    "<a href=\"https://colab.research.google.com/github/ajinkyabhanudas/SIADS696/blob/dev/Pre_Data_cleaning_EDA_Ajinkya.ipynb\" target=\"_parent\"><img src=\"https://colab.research.google.com/assets/colab-badge.svg\" alt=\"Open In Colab\"/></a>"
   ]
  },
  {
   "cell_type": "markdown",
   "metadata": {
    "id": "Fa2YEr7pT6zt",
    "pycharm": {
     "name": "#%% md\n"
    }
   },
   "source": [
    "#This notebook captures thoughts on a probable choice of features based on visual inspection and prior knowledge\n",
    "\n",
    "##1\n",
    "Reasons for direct elimination of the following properties:\n",
    "- channelId, channelTitle: might be a point of data leakage that leads to overfitting.\n",
    "- thumbnails: we're not working on image data and will hence disregard these values.\n",
    "- defaultLanguage, defaultAudioLanguage: we've restricted the data to be english only.\n",
    "\n",
    "Post visual inspection elimination:\n",
    "- dimension, licensedContent: we have no working theory on how to leverage this property (example '2d') as a feature in our model and would want to avoid any spurious correlations.\n",
    "- liveBroadcastContent: we're looking for a view count independent of this state. This is because, consideration of this property would lead to an imbalance in the live videos available.\n",
    "- localized: seems to have a dictionary of details like description again.\n",
    "\n",
    "Need further review:\n",
    "- definition: we'd have to inspect to see if a video not having the possibility of \"hd\" can have a strong impact on its views. correlation might be a good point to start.\n",
    "- tags: might not be useful if, they have markers in them that indicate the channel name, it is likely to throw a model off.\n",
    "- content_rating: due to sparse availability, this feature might not add significant value with it presence\n",
    "\n",
    "\n",
    "##2\n",
    "Finally, the features that we plan on extracting can be utilised to work up 2 different approaches:\n",
    "- A 2-fold views prediction task based on the following features: \n",
    "  - title, topicCategories, duration: for first time content creators)\n",
    "  - title, topicCategories, duration, categoryId, historical aggregates of (subcriber, view, like, favorite, comment count): for users who have created content in the past. An alternative approach could also be to make use of AR(I)MA(X) models with channel specific historical video stats data and exogenous variables like publishedAt.\n",
    "\n",
    "- tags, definition, and contentRating need to be evaluated further to look for possible correlations.\n",
    "- Since users don't interact with descriptions before watching a video, in most cases, it might be worth further evaluation too.\n",
    "- total viewCount, videoCount features might need a further evaluation for its utility with aggregate calculations in regression based models.\n",
    "\n",
    "\n",
    "\n",
    "\n"
   ]
  },
  {
   "cell_type": "code",
   "execution_count": 1,
   "metadata": {
    "colab": {
     "base_uri": "https://localhost:8080/"
    },
    "id": "pWqb-vn_hFCU",
    "outputId": "d2dc4143-2ee7-4736-f79f-15842d987675",
    "pycharm": {
     "name": "#%%\n"
    }
   },
   "outputs": [
    {
     "name": "stderr",
     "output_type": "stream",
     "text": [
      "Cloning into 'SIADS696'...\n",
      "error: invalid path 'data/Yoga/tara_stiles_:_yoga_that_feels_like_you.json'\n",
      "fatal: unable to checkout working tree\n",
      "warning: Clone succeeded, but checkout failed.\n",
      "You can inspect what was checked out with 'git status'\n",
      "and retry with 'git restore --source=HEAD :/'\n",
      "\n"
     ]
    }
   ],
   "source": [
    "!git clone https://github.com/ajinkyabhanudas/SIADS696.git"
   ]
  },
  {
   "cell_type": "code",
   "execution_count": 2,
   "metadata": {
    "id": "qe2qOLWocWZz",
    "pycharm": {
     "name": "#%%\n"
    }
   },
   "outputs": [],
   "source": [
    "import glob\n",
    "import json\n",
    "import os\n",
    "import pandas as pd"
   ]
  },
  {
   "cell_type": "code",
   "execution_count": 3,
   "metadata": {
    "id": "ZjuCnSlVckSC",
    "pycharm": {
     "name": "#%%\n"
    }
   },
   "outputs": [],
   "source": [
    "try:\n",
    "  os.chdir('SIADS696')\n",
    "except:\n",
    "  print(\"You're either already in the SIADS696 directory, or the path specified isn't accessible\")"
   ]
  },
  {
   "cell_type": "code",
   "execution_count": 4,
   "metadata": {
    "id": "uyGMJYhfgqgA",
    "pycharm": {
     "name": "#%%\n"
    }
   },
   "outputs": [],
   "source": [
    "rootdir = 'data'\n",
    "for path in glob.glob(f'./{rootdir}/*/*'):\n",
    "    with open(path, \"r\") as read_file:\n",
    "      data = json.load(read_file)\n",
    "      break\n"
   ]
  },
  {
   "cell_type": "code",
   "execution_count": 5,
   "metadata": {
    "id": "Mgm4qljTiXg1",
    "pycharm": {
     "name": "#%%\n"
    }
   },
   "outputs": [
    {
     "ename": "NameError",
     "evalue": "name 'data' is not defined",
     "output_type": "error",
     "traceback": [
      "\u001B[1;31m---------------------------------------------------------------------------\u001B[0m",
      "\u001B[1;31mNameError\u001B[0m                                 Traceback (most recent call last)",
      "\u001B[1;32mc:\\Users\\poomk\\OneDrive\\Desktop\\Youtube_Analysis\\SIADS696\\Pre_Data_cleaning_EDA_Ajinkya.ipynb Cell 7\u001B[0m in \u001B[0;36m<cell line: 1>\u001B[1;34m()\u001B[0m\n\u001B[1;32m----> <a href='vscode-notebook-cell:/c%3A/Users/poomk/OneDrive/Desktop/Youtube_Analysis/SIADS696/Pre_Data_cleaning_EDA_Ajinkya.ipynb#W6sZmlsZQ%3D%3D?line=0'>1</a>\u001B[0m channel_id \u001B[39m=\u001B[39m \u001B[39mlist\u001B[39m(data\u001B[39m.\u001B[39mkeys())[\u001B[39m0\u001B[39m]\n",
      "\u001B[1;31mNameError\u001B[0m: name 'data' is not defined"
     ]
    }
   ],
   "source": [
    "channel_id = list(data.keys())[0]"
   ]
  },
  {
   "cell_type": "code",
   "execution_count": null,
   "metadata": {
    "colab": {
     "base_uri": "https://localhost:8080/"
    },
    "id": "Ct-VDpzKikMq",
    "outputId": "77b8353a-cb0b-4560-cdbb-61fac074761d",
    "pycharm": {
     "name": "#%%\n"
    }
   },
   "outputs": [
    {
     "data": {
      "text/plain": [
       "{'viewCount': '13637216111',\n",
       " 'subscriberCount': '55900000',\n",
       " 'hiddenSubscriberCount': False,\n",
       " 'videoCount': '403'}"
      ]
     },
     "execution_count": 74,
     "metadata": {},
     "output_type": "execute_result"
    }
   ],
   "source": [
    "data[channel_id][\"channel_statistics\"]"
   ]
  },
  {
   "cell_type": "code",
   "execution_count": null,
   "metadata": {
    "colab": {
     "base_uri": "https://localhost:8080/"
    },
    "id": "kLCJeZrCm2Zb",
    "outputId": "21e51be4-2c67-41bd-adb8-15f4cb4ba2ec",
    "pycharm": {
     "name": "#%%\n"
    }
   },
   "outputs": [
    {
     "data": {
      "text/plain": [
       "dict_keys(['publishedAt', 'title', 'channelId', 'description', 'thumbnails', 'channelTitle', 'tags', 'categoryId', 'liveBroadcastContent', 'localized', 'defaultAudioLanguage', 'viewCount', 'likeCount', 'favoriteCount', 'commentCount', 'duration', 'dimension', 'definition', 'caption', 'licensedContent', 'contentRating', 'projection', 'topicCategories'])"
      ]
     },
     "execution_count": 75,
     "metadata": {},
     "output_type": "execute_result"
    }
   ],
   "source": [
    "video_key = list(data[channel_id][\"video_data\"].keys())[0]\n",
    "data[channel_id][\"video_data\"][video_key].keys()"
   ]
  },
  {
   "cell_type": "code",
   "execution_count": null,
   "metadata": {
    "id": "VrU09RwaqIKu",
    "pycharm": {
     "name": "#%%\n"
    }
   },
   "outputs": [],
   "source": [
    "explore_cats = [\"dimension\", \"liveBroadcastContent\", \"localized\", \"title\", \"description\", \"tags\", \"categoryId\",  \"viewCount\", \n",
    " \"likeCount\", \"favoriteCount\", \"commentCount\", \n",
    " \"duration\", \"definition\", \"caption\",\n",
    " \"licensedContent\", \"contentRating\", \"topicCategories\"]"
   ]
  },
  {
   "cell_type": "markdown",
   "metadata": {
    "id": "EkQ3DImyxsvg",
    "pycharm": {
     "name": "#%% md\n"
    }
   },
   "source": [
    "Uncomment and run the cell below to have a view of what a particular channel's data looks like before the visual inspection based elimination."
   ]
  },
  {
   "cell_type": "code",
   "execution_count": null,
   "metadata": {
    "id": "GgAQ85tHsMOe",
    "pycharm": {
     "name": "#%%\n"
    }
   },
   "outputs": [],
   "source": [
    "# for cat in explore_cats:\n",
    "#   print(f'{cat}***: {data[channel_id][\"video_data\"][video_key][cat]}')"
   ]
  },
  {
   "cell_type": "markdown",
   "metadata": {
    "id": "kImcTICkn9ya",
    "pycharm": {
     "name": "#%% md\n"
    }
   },
   "source": [
    "hypothesis check: with and without subscriber:video count within the dependent data"
   ]
  },
  {
   "cell_type": "code",
   "execution_count": null,
   "metadata": {
    "id": "kJazVzVzm451",
    "pycharm": {
     "name": "#%%\n"
    }
   },
   "outputs": [],
   "source": [
    "tentative_cats = [\"title\", \"description\", \"categoryId\",  \"viewCount\", \"tags\",\n",
    " \"likeCount\", \"favoriteCount\", \"commentCount\", \n",
    " \"duration\", \"definition\",\n",
    " \"licensedContent\", \"contentRating\", \"topicCategories\"]"
   ]
  },
  {
   "cell_type": "code",
   "execution_count": null,
   "metadata": {
    "id": "Ska86EBror6-",
    "pycharm": {
     "name": "#%%\n"
    }
   },
   "outputs": [],
   "source": [
    "# for cat in tentative_cats:\n",
    "#   print(f'{cat}***: {data[channel_id][\"video_data\"][video_key][cat]}')"
   ]
  },
  {
   "cell_type": "code",
   "execution_count": null,
   "metadata": {
    "colab": {
     "base_uri": "https://localhost:8080/"
    },
    "id": "qwgLaR9P8cIi",
    "outputId": "011f6b5c-4039-4982-ee43-1d96d53a4290",
    "pycharm": {
     "name": "#%%\n"
    }
   },
   "outputs": [
    {
     "data": {
      "text/plain": [
       "['publishedAt',\n",
       " 'title',\n",
       " 'description',\n",
       " 'categoryId',\n",
       " 'viewCount',\n",
       " 'tagslikeCount',\n",
       " 'favoriteCount',\n",
       " 'commentCount',\n",
       " 'duration',\n",
       " 'definition',\n",
       " 'licensedContent',\n",
       " 'contentRating',\n",
       " 'topicCategories']"
      ]
     },
     "execution_count": 49,
     "metadata": {},
     "output_type": "execute_result"
    }
   ],
   "source": [
    "[\"publishedAt\", \"title\", \"description\", \"categoryId\",  \"viewCount\", \"tags\"\n",
    " \"likeCount\", \"favoriteCount\", \"commentCount\", \n",
    " \"duration\", \"definition\",\n",
    " \"licensedContent\", \"contentRating\", \"topicCategories\"]"
   ]
  },
  {
   "cell_type": "markdown",
   "metadata": {
    "id": "ZeWzYTmOA4eY",
    "pycharm": {
     "name": "#%% md\n"
    }
   },
   "source": []
  }
 ],
 "metadata": {
  "colab": {
   "include_colab_link": true,
   "provenance": []
  },
  "kernelspec": {
   "display_name": "Python 3.10.4 ('dataenv')",
   "language": "python",
   "name": "python3"
  },
  "language_info": {
   "codemirror_mode": {
    "name": "ipython",
    "version": 3
   },
   "file_extension": ".py",
   "mimetype": "text/x-python",
   "name": "python",
   "nbconvert_exporter": "python",
   "pygments_lexer": "ipython3",
   "version": "3.10.4"
  },
  "vscode": {
   "interpreter": {
    "hash": "467f60c46b88ea196e8e4e51716c4f14b05141d893e1660e0038b81da854c476"
   }
  }
 },
 "nbformat": 4,
 "nbformat_minor": 0
}