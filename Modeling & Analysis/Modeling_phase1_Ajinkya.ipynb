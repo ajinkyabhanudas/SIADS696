{
  "cells": [
    {
      "cell_type": "markdown",
      "metadata": {
        "id": "view-in-github",
        "colab_type": "text"
      },
      "source": [
        "<a href=\"https://colab.research.google.com/github/ajinkyabhanudas/SIADS696/blob/dev/Modeling_phase1_Ajinkya.ipynb\" target=\"_parent\"><img src=\"https://colab.research.google.com/assets/colab-badge.svg\" alt=\"Open In Colab\"/></a>"
      ]
    },
    {
      "cell_type": "markdown",
      "source": [
        "# Modeling\n",
        "### (This notebook) Modeling Phase 1/2:\n",
        "The focus of this notebook is on the following:\n",
        "- Explore the potential usage of creating polynomial features for the entire/subset of the data.\n",
        "- Incrementally tuning and choosing models, families based on improvement in results.\n",
        "\n",
        "Note: This notebook would more than likely be to run out of RAM if it were run on colab and you'd need to run it part by part. Including the grid-search training (which has been commented to avoid accidental re-runs in places) the notebook would take about 10-11 hours to finish running."
      ],
      "metadata": {
        "id": "oSINfEBeGqcl"
      }
    },
    {
      "cell_type": "code",
      "source": [
        "!git clone https://github.com/ajinkyabhanudas/SIADS696.git\n",
        "!pip install gensim==4.1.2"
      ],
      "metadata": {
        "colab": {
          "base_uri": "https://localhost:8080/"
        },
        "id": "gpsdi_IWGoa1",
        "outputId": "7f08c5fa-faed-4ef5-f0c0-d38b1bbe3277"
      },
      "execution_count": 3,
      "outputs": [
        {
          "output_type": "stream",
          "name": "stdout",
          "text": [
            "Cloning into 'SIADS696'...\n",
            "remote: Enumerating objects: 584, done.\u001b[K\n",
            "remote: Counting objects: 100% (111/111), done.\u001b[K\n",
            "remote: Compressing objects: 100% (105/105), done.\u001b[K\n",
            "remote: Total 584 (delta 18), reused 23 (delta 6), pack-reused 473\u001b[K\n",
            "Receiving objects: 100% (584/584), 41.50 MiB | 15.18 MiB/s, done.\n",
            "Resolving deltas: 100% (321/321), done.\n",
            "Checking out files: 100% (164/164), done.\n",
            "Looking in indexes: https://pypi.org/simple, https://us-python.pkg.dev/colab-wheels/public/simple/\n",
            "Collecting gensim==4.1.2\n",
            "  Downloading gensim-4.1.2-cp37-cp37m-manylinux_2_12_x86_64.manylinux2010_x86_64.whl (24.1 MB)\n",
            "\u001b[K     |████████████████████████████████| 24.1 MB 62.6 MB/s \n",
            "\u001b[?25hRequirement already satisfied: smart-open>=1.8.1 in /usr/local/lib/python3.7/dist-packages (from gensim==4.1.2) (5.2.1)\n",
            "Requirement already satisfied: scipy>=0.18.1 in /usr/local/lib/python3.7/dist-packages (from gensim==4.1.2) (1.7.3)\n",
            "Requirement already satisfied: numpy>=1.17.0 in /usr/local/lib/python3.7/dist-packages (from gensim==4.1.2) (1.21.6)\n",
            "Installing collected packages: gensim\n",
            "  Attempting uninstall: gensim\n",
            "    Found existing installation: gensim 3.6.0\n",
            "    Uninstalling gensim-3.6.0:\n",
            "      Successfully uninstalled gensim-3.6.0\n",
            "Successfully installed gensim-4.1.2\n"
          ]
        }
      ]
    },
    {
      "cell_type": "code",
      "execution_count": 4,
      "metadata": {
        "id": "IBpVT21A-DSR"
      },
      "outputs": [],
      "source": [
        "import datetime\n",
        "import enum\n",
        "import glob\n",
        "import json\n",
        "import os\n",
        "import re\n",
        "from itertools import groupby\n",
        "\n",
        "from gensim.models import Word2Vec\n",
        "import matplotlib.pyplot as plt\n",
        "from matplotlib import ticker\n",
        "\n",
        "import nltk\n",
        "from nltk.corpus import stopwords\n",
        "import numpy as np\n",
        "import pandas as pd\n",
        "import pickle\n",
        "\n",
        "import warnings\n",
        "warnings.simplefilter(action='ignore')"
      ]
    },
    {
      "cell_type": "code",
      "execution_count": 5,
      "metadata": {
        "id": "9fKrFLHg7qMO"
      },
      "outputs": [],
      "source": [
        "from sklearn.manifold import TSNE, MDS\n",
        "from sklearn.cluster import DBSCAN\n",
        "\n",
        "from sklearn.model_selection import train_test_split\n",
        "from sklearn.preprocessing import StandardScaler, MinMaxScaler, MaxAbsScaler\n",
        "from sklearn.preprocessing import FunctionTransformer, PolynomialFeatures, OneHotEncoder\n",
        "from sklearn.decomposition import PCA\n",
        "\n",
        "from sklearn.pipeline import Pipeline\n",
        "from sklearn.compose import ColumnTransformer"
      ]
    },
    {
      "cell_type": "code",
      "execution_count": 6,
      "metadata": {
        "id": "KuT9uqGi8ojJ"
      },
      "outputs": [],
      "source": [
        "from sklearn.linear_model import LinearRegression, Ridge, Lasso, ElasticNet\n",
        "from sklearn.linear_model import RANSACRegressor, TheilSenRegressor, SGDRegressor\n",
        "from sklearn.dummy import DummyRegressor\n",
        "from sklearn.svm import SVR\n",
        "from sklearn.tree import DecisionTreeRegressor\n",
        "from sklearn.ensemble import RandomForestRegressor, HistGradientBoostingRegressor\n",
        "from sklearn.metrics import r2_score\n",
        "\n",
        "from sklearn import metrics\n",
        "from sklearn.model_selection import cross_val_score, cross_validate, GridSearchCV"
      ]
    },
    {
      "cell_type": "code",
      "execution_count": 7,
      "metadata": {
        "colab": {
          "base_uri": "https://localhost:8080/"
        },
        "id": "XKcPYExvKtzf",
        "outputId": "11d84dd0-43fa-4087-c830-028c883be705"
      },
      "outputs": [
        {
          "output_type": "stream",
          "name": "stdout",
          "text": [
            "[==================================================] 100.0% 66.0/66.0MB downloaded\n"
          ]
        },
        {
          "output_type": "stream",
          "name": "stderr",
          "text": [
            "[nltk_data] Downloading package punkt to /root/nltk_data...\n",
            "[nltk_data]   Unzipping tokenizers/punkt.zip.\n",
            "[nltk_data] Downloading package stopwords to /root/nltk_data...\n",
            "[nltk_data]   Unzipping corpora/stopwords.zip.\n"
          ]
        },
        {
          "output_type": "execute_result",
          "data": {
            "text/plain": [
              "True"
            ]
          },
          "metadata": {},
          "execution_count": 7
        }
      ],
      "source": [
        "import gensim.downloader\n",
        "glove_wv = gensim.downloader.load('glove-wiki-gigaword-50')\n",
        "\n",
        "nltk.download('punkt')\n",
        "nltk.download('stopwords')"
      ]
    },
    {
      "cell_type": "code",
      "execution_count": 8,
      "metadata": {
        "id": "71F4-f2CKvol"
      },
      "outputs": [],
      "source": [
        "try:\n",
        "  os.chdir('SIADS696')\n",
        "except:\n",
        "  print(\"You're either already in the SIADS696 directory, or the path specified isn't accessible\")"
      ]
    },
    {
      "cell_type": "code",
      "execution_count": 9,
      "metadata": {
        "id": "blNjasdlK3XN"
      },
      "outputs": [],
      "source": [
        "rootdir = 'data'\n",
        "feature_list = ['publishedAt', 'title', 'channelId', 'description',\n",
        "                'channelTitle', 'tags', 'categoryId', 'viewCount', \n",
        "                'likeCount', 'favoriteCount', 'commentCount', 'duration',\n",
        "                'definition', 'contentRating', 'topicCategories', 'topicLabel']\n",
        "\n",
        "ov_dict_list = []\n",
        "ov_temp_dict = {}\n",
        "\n",
        "dict_list = []\n",
        "temp_dict = {}\n",
        "\n",
        "for path in glob.glob(f'./{rootdir}/*/*'):\n",
        "  try:\n",
        "    with open(path, \"r\") as read_file:\n",
        "      data = json.load(read_file)\n",
        "    for channel_id in data.keys():\n",
        "      ov_temp_dict = data[channel_id][\"channel_statistics\"]\n",
        "      channel_name = list(data[channel_id][\"video_data\"].keys())[0]\n",
        "      ov_temp_dict[\"channelName\"] = data[channel_id][\"video_data\"][channel_name][\"channelTitle\"]\n",
        "      ov_dict_list.append(ov_temp_dict)\n",
        "      \n",
        "      for video_info in data[channel_id][\"video_data\"].values():\n",
        "        temp_dict = video_info\n",
        "        temp_dict[\"topicLabel\"] = path.split('/')[2]\n",
        "        dict_list.append(temp_dict)       \n",
        "  except:\n",
        "    pass\n",
        "\n",
        "overall_stats_raw_df = pd.DataFrame(ov_dict_list)\n",
        "overall_stats_raw_df.drop(\"hiddenSubscriberCount\", axis=1, inplace=True)\n",
        "\n",
        "raw_df = pd.DataFrame(dict_list)\n",
        "raw_df = raw_df[feature_list]"
      ]
    },
    {
      "cell_type": "code",
      "execution_count": 10,
      "metadata": {
        "id": "XP4TnO5PopZ_"
      },
      "outputs": [],
      "source": [
        "def make_poly(d=4):\n",
        "  poly = PolynomialFeatures(d)\n",
        "  trainX3 = poly.fit_transform(train_X[:,:3])\n",
        "  trainX62 = train_X[:,3:]\n",
        "\n",
        "  x_poly_train = np.concatenate((trainX62, trainX3), axis=1)\n",
        "\n",
        "  testX3 = poly.transform(test_X[:,:3])\n",
        "  testX62 = test_X[:,3:]\n",
        "\n",
        "  x_poly_test = np.concatenate((testX62, testX3), axis=1)\n",
        "\n",
        "  return(x_poly_train, x_poly_test)\n"
      ]
    },
    {
      "cell_type": "code",
      "execution_count": 11,
      "metadata": {
        "id": "wQ3QYS5uLBEZ"
      },
      "outputs": [],
      "source": [
        "def duration_split(duration):\n",
        "    try:\n",
        "      for _, v in groupby(duration, str.isalpha):\n",
        "        yield ''.join(v)\n",
        "    except:\n",
        "      yield np.nan\n",
        "    \n",
        "def duration_2_secs(duration, duration_split=duration_split):\n",
        "  temp = 0\n",
        "  for i, val in enumerate(duration_split(duration)):\n",
        "    \n",
        "    if len(str(duration)) <= 8:\n",
        "      if i==1 and not val.isalpha():\n",
        "        temp += float(val)*60\n",
        "      \n",
        "      if i==3 and not val.isalpha():\n",
        "        temp += float(val)\n",
        "    else:\n",
        "      if i==1 and not val.isalpha():\n",
        "        temp += float(val)*60*60\n",
        "      \n",
        "      if i==3 and not val.isalpha():\n",
        "        temp += float(val)*60\n",
        "      \n",
        "      if i==5 and not val.isalpha():\n",
        "        temp += float(val)\n",
        "\n",
        "  return(temp)\n"
      ]
    },
    {
      "cell_type": "code",
      "execution_count": 12,
      "metadata": {
        "id": "nKp6LbbHLB33"
      },
      "outputs": [],
      "source": [
        "def topic_extract(links_list):\n",
        "  \n",
        "  topics_list = []  \n",
        "  try:\n",
        "    for link in links_list:\n",
        "      topics_list.append(link.split(\"/\")[-1].lower())\n",
        "    \n",
        "    return(topics_list)\n",
        "  except:\n",
        "    pass"
      ]
    },
    {
      "cell_type": "code",
      "execution_count": 13,
      "metadata": {
        "id": "sSUUF2upciIo"
      },
      "outputs": [],
      "source": [
        "def outlier_thresh(df, up=True):\n",
        "  q1, q3 = np.percentile(df,[25,75])\n",
        "  iqr = q3-q1\n",
        "  if up:\n",
        "    res = q3+1.5*iqr\n",
        "  else:\n",
        "    res = q1-1.5*iqr\n",
        "  return(res)"
      ]
    },
    {
      "cell_type": "code",
      "execution_count": 14,
      "metadata": {
        "id": "fiPLOIEMdeVG"
      },
      "outputs": [],
      "source": [
        "def gen_word_vec(df_text_list, wordvec):\n",
        "    word_vector = []\n",
        "    for token in df_text_list:\n",
        "        token_considered = [t for t in token if t.isalpha]\n",
        "        token_vocab = [i for i in token_considered if i in wordvec.key_to_index]\n",
        "        if len(token_vocab) > 0:\n",
        "            word_vector.append(np.mean(wordvec[token_vocab], axis=0))\n",
        "        else:\n",
        "            word_vector.append(np.zeros(wordvec.vector_size))\n",
        "    word_vector = np.array(word_vector)\n",
        "    try:\n",
        "      return word_vector[0]\n",
        "    except:\n",
        "      return np.zeros(50)"
      ]
    },
    {
      "cell_type": "code",
      "execution_count": 15,
      "metadata": {
        "id": "j34lxXjyLDiG"
      },
      "outputs": [],
      "source": [
        "def text_prep(val):\n",
        "  '''the goal is to replace the hypertexts in the \n",
        "  in any field to redundant names as vectorizing\n",
        "  them could be misleading and also leak data'''\n",
        "\n",
        "  val = str(val).lower()\n",
        "  process_desc = re.sub(r'http[s]*:.*\\w', 'url', val)\n",
        "  process_desc = re.sub('[^a-zA-Z]', ' ', process_desc)\n",
        "  process_desc = re.sub(r'\\s+', ' ', process_desc)\n",
        "\n",
        "  process_desc = nltk.sent_tokenize(process_desc)\n",
        "  if not process_desc:\n",
        "    process_desc = [nltk.word_tokenize(word) for word in process_desc]\n",
        "  else:\n",
        "    process_desc = [nltk.word_tokenize(word) for word in process_desc][0]\n",
        "    \n",
        "  \n",
        "  word_list = [word for word in process_desc if word not in stopwords.words('english')]\n",
        "\n",
        "\n",
        "  return word_list\n"
      ]
    },
    {
      "cell_type": "code",
      "execution_count": 16,
      "metadata": {
        "id": "UECuPL7qG6gD"
      },
      "outputs": [],
      "source": [
        "def create_target(df):\n",
        "\n",
        "  df[\"publishedAt\"] = pd.to_datetime(df.publishedAt)\n",
        "  df['publishedDayDelta'] = (datetime.datetime.now() - df.publishedAt.dt.tz_localize(None)).dt.days\n",
        "  df[\"viewCount\"] = df.viewCount.astype(float)\n",
        "  df[\"avg_viewCount\"] = df[\"viewCount\"]/df['publishedDayDelta']\n",
        "  df['topicLabel'] = df.topicLabel.str.lower()\n",
        "  df['score'] = df[\"avg_viewCount\"]/df.topicLabel.map(dict(df.groupby('topicLabel').avg_viewCount.agg('median')))\n",
        "  # raw_df.dropna().groupby('topicLabel')['viewCount'].apply(outlier_thresh )\n",
        "  high = dict(df.dropna().groupby('topicLabel').score.apply(outlier_thresh, up=True))\n",
        "  low = dict(df.dropna().groupby('topicLabel').score.apply(outlier_thresh, up=False))\n",
        "  # df = \n",
        "  return high, low, df['score']"
      ]
    },
    {
      "cell_type": "code",
      "execution_count": 17,
      "metadata": {
        "id": "a2WsSMOcG7IN"
      },
      "outputs": [],
      "source": [
        "def create_train_dataset(df):\n",
        "  \n",
        "  df[\"publishedAt\"] = pd.to_datetime(df.publishedAt)\n",
        "  df['publishedDayDelta'] = (datetime.datetime.now() - df.publishedAt.dt.tz_localize(None)).dt.days\n",
        "  df['publishedDayNum'] = df.publishedAt.apply(lambda x: x.timetuple().tm_yday)\n",
        "  df[\"viewCount\"] = df.viewCount.astype(float)\n",
        "  df[\"avg_viewCount\"] = df[\"viewCount\"]/df['publishedDayDelta']\n",
        "  df['topicLabel'] = df.topicLabel.str.lower()\n",
        "  df['score'] = df[\"avg_viewCount\"]/df.topicLabel.map(dict(df.groupby('topicLabel').avg_viewCount.agg('median')))\n",
        "  if df['duration'].dtype == 'O':\n",
        "    df['duration_secs'] = df.duration.apply(duration_2_secs)\n",
        "  else:\n",
        "     df['duration_secs'] = df.duration.astype(int)\n",
        "  df['topicLabel'] = df.topicLabel.str.lower()\n",
        "  df['title'] = df.title.apply(text_prep)\n",
        "  # df['description'] = df.description.apply(text_prep)\n",
        "  df['len_title'] = df.title.apply(lambda x: len(x))\n",
        "  df['log_duration_secs'] = np.log(df.duration_secs+1)\n",
        "  df.loc[df['topicLabel'] == 'fitness_workout', 'topicLabel'] = 'fitness'\n",
        "\n",
        "  df['vec_title'] = df.title.apply(gen_word_vec, wordvec=glove_wv)\n",
        "  titles = df.vec_title.apply(pd.Series).rename(columns={i-1:\"title_\"+str(i) for i in range(1,51)})\n",
        "  # df['vec_desc'] = df.title.apply(gen_word_vec, wordvec=glove_wv)\n",
        "  # titles = df.vec_desc.apply(pd.Series).rename(columns={i-1:\"desc_\"+str(i) for i in range(1,51)})\n",
        "  high = dict(df.dropna().groupby('topicLabel').score.apply(outlier_thresh, up=True))\n",
        "  low = dict(df.dropna().groupby('topicLabel').score.apply(outlier_thresh, up=False))\n",
        "  df['high'] = df.topicLabel.map(high)\n",
        "  df['low'] = df.topicLabel.map(low)\n",
        "  df = df[df.score<=df.high]\n",
        "  df = df[df.score>=df.low]\n",
        "  \n",
        "\n",
        "  df['vec_title'] = df.title.apply(gen_word_vec, wordvec=glove_wv)\n",
        "\n",
        "# df['vec_desc'] = df.description.apply(gen_word_vec, wordvec=glove_wv)\n",
        "\n",
        "  titles = df.vec_title.apply(pd.Series).rename(columns={i-1:\"title_\"+str(i) for i in range(1,51)})\n",
        "\n",
        "  train_X = pd.concat([df[['publishedDayNum', 'log_duration_secs', 'len_title']], titles, df.definition, df.topicLabel, df.score], axis=1)\n",
        "\n",
        "  # data_df = pd.concat([df[['publishedDayNum', 'log_duration_secs', 'score', 'len_title']], titles, df.definition, df.topicLabel], axis=1)\n",
        "# desc = df.vec_desc.apply(pd.Series).rename(columns={i-1:\"desc_\"+str(i) for i in range(1,51)})\n",
        "  # poly = PolynomialFeatures(d)\n",
        "  # trainX3 = poly.fit_transform(train_X[:,:3])\n",
        "  # trainX62 = train_X[:,3:]\n",
        "\n",
        "  # x_poly_ip = np.concatenate((trainX62, trainX3), axis=1)\n",
        "  return train_X"
      ]
    },
    {
      "cell_type": "code",
      "execution_count": 18,
      "metadata": {
        "id": "wnTajXcY20Jo"
      },
      "outputs": [],
      "source": [
        "data_train, data_test = train_test_split(raw_df, test_size=0.2)"
      ]
    },
    {
      "cell_type": "code",
      "execution_count": 19,
      "metadata": {
        "id": "Ye_lcQyO3XQC"
      },
      "outputs": [],
      "source": [
        "train_data = create_train_dataset(data_train)"
      ]
    },
    {
      "cell_type": "code",
      "execution_count": 20,
      "metadata": {
        "id": "ivCyiApbEtDk"
      },
      "outputs": [],
      "source": [
        "test_data = create_train_dataset(data_test)"
      ]
    },
    {
      "cell_type": "code",
      "execution_count": 160,
      "metadata": {
        "colab": {
          "base_uri": "https://localhost:8080/"
        },
        "id": "fi0h4HAh6hFF",
        "outputId": "495ceb15-35f1-4ba6-f3d5-62ee6342f45f"
      },
      "outputs": [
        {
          "output_type": "execute_result",
          "data": {
            "text/plain": [
              "(11068, 16)"
            ]
          },
          "metadata": {},
          "execution_count": 160
        }
      ],
      "source": [
        "# data_test.shape"
      ]
    },
    {
      "cell_type": "markdown",
      "source": [
        "Let's save the train, test data splits of this notebook to avoid the possibility of a different train-test split in the next notebook which would as a result, lead to an indirect data leak."
      ],
      "metadata": {
        "id": "UxyarQJ1TRll"
      }
    },
    {
      "cell_type": "code",
      "execution_count": 21,
      "metadata": {
        "id": "gTa8ReK0Gtn2"
      },
      "outputs": [],
      "source": [
        "train_X = train_data.drop('score', axis=1)\n",
        "train_y = train_data['score']\n",
        "\n",
        "test_X = test_data.drop('score', axis=1)\n",
        "test_y = test_data['score']\n",
        "\n",
        "train_X.to_csv(\"train_X.csv\", index=False)\n",
        "train_y.to_csv(\"train_y.csv\", index=False)\n",
        "\n",
        "test_X.to_csv(\"test_X.csv\", index=False)\n",
        "test_y.to_csv(\"test_y.csv\", index=False)"
      ]
    },
    {
      "cell_type": "code",
      "execution_count": 22,
      "metadata": {
        "colab": {
          "base_uri": "https://localhost:8080/"
        },
        "id": "9Ej0VzPmGtrg",
        "outputId": "d844bdef-88df-4583-b744-71c8b30285ad"
      },
      "outputs": [
        {
          "output_type": "execute_result",
          "data": {
            "text/plain": [
              "((38435, 55), (9622, 55))"
            ]
          },
          "metadata": {},
          "execution_count": 22
        }
      ],
      "source": [
        "train_X.shape, test_X.shape"
      ]
    },
    {
      "cell_type": "code",
      "execution_count": 23,
      "metadata": {
        "id": "KVEj3rNhGtxE"
      },
      "outputs": [],
      "source": [
        "def ret_metrics(model, test_X=test_X, test_y=test_y):\n",
        "\n",
        "  pred = model.predict(test_X)\n",
        "  mae = metrics.mean_absolute_error(test_y, pred)\n",
        "  mse = metrics.mean_squared_error(test_y, pred)\n",
        "  rmse = np.sqrt(mse)\n",
        "\n",
        "  return(mae, mse, rmse)\n",
        "\n",
        "def model_train(model, parameters=None, train_X=train_X):\n",
        "  \n",
        "  if parameters:\n",
        "    model = GridSearchCV(model, parameters, cv=3)\n",
        "  \n",
        "  model.fit(train_X, train_y)\n",
        "\n",
        "  return(model)"
      ]
    },
    {
      "cell_type": "code",
      "execution_count": 23,
      "metadata": {
        "colab": {
          "base_uri": "https://localhost:8080/",
          "height": 638
        },
        "id": "fapTXUXUzadg",
        "outputId": "c0214121-acb6-4dff-f687-bff86e9ebce2"
      },
      "outputs": [
        {
          "output_type": "execute_result",
          "data": {
            "text/plain": [
              "         mae       mse      rmse\n",
              "0   1.586569  5.199131  2.280160\n",
              "1   1.576782  5.162208  2.272049\n",
              "2   1.570454  5.126746  2.264232\n",
              "3   1.569578  5.120900  2.262941\n",
              "4   1.566090  5.105434  2.259521\n",
              "5   1.563794  5.096097  2.257454\n",
              "6   1.562792  5.083780  2.254724\n",
              "7   1.559432  5.062353  2.249967\n",
              "8   1.554830  5.044128  2.245914\n",
              "9   1.553544  5.029055  2.242556\n",
              "10  1.547851  5.006888  2.237608\n",
              "11  1.546389  4.988298  2.233450\n",
              "12  1.542302  4.967784  2.228853\n",
              "13  1.540054  4.946859  2.224153\n",
              "14  1.536409  4.928560  2.220036\n",
              "15  1.574961  5.080471  2.253990\n",
              "16  1.544078  4.950448  2.224960\n",
              "17  1.538108  4.905525  2.214842\n",
              "18  1.666827  5.607979  2.368117"
            ],
            "text/html": [
              "\n",
              "  <div id=\"df-96b34e44-89fd-42ae-be5b-6d30e79caa0e\">\n",
              "    <div class=\"colab-df-container\">\n",
              "      <div>\n",
              "<style scoped>\n",
              "    .dataframe tbody tr th:only-of-type {\n",
              "        vertical-align: middle;\n",
              "    }\n",
              "\n",
              "    .dataframe tbody tr th {\n",
              "        vertical-align: top;\n",
              "    }\n",
              "\n",
              "    .dataframe thead th {\n",
              "        text-align: right;\n",
              "    }\n",
              "</style>\n",
              "<table border=\"1\" class=\"dataframe\">\n",
              "  <thead>\n",
              "    <tr style=\"text-align: right;\">\n",
              "      <th></th>\n",
              "      <th>mae</th>\n",
              "      <th>mse</th>\n",
              "      <th>rmse</th>\n",
              "    </tr>\n",
              "  </thead>\n",
              "  <tbody>\n",
              "    <tr>\n",
              "      <th>0</th>\n",
              "      <td>1.586569</td>\n",
              "      <td>5.199131</td>\n",
              "      <td>2.280160</td>\n",
              "    </tr>\n",
              "    <tr>\n",
              "      <th>1</th>\n",
              "      <td>1.576782</td>\n",
              "      <td>5.162208</td>\n",
              "      <td>2.272049</td>\n",
              "    </tr>\n",
              "    <tr>\n",
              "      <th>2</th>\n",
              "      <td>1.570454</td>\n",
              "      <td>5.126746</td>\n",
              "      <td>2.264232</td>\n",
              "    </tr>\n",
              "    <tr>\n",
              "      <th>3</th>\n",
              "      <td>1.569578</td>\n",
              "      <td>5.120900</td>\n",
              "      <td>2.262941</td>\n",
              "    </tr>\n",
              "    <tr>\n",
              "      <th>4</th>\n",
              "      <td>1.566090</td>\n",
              "      <td>5.105434</td>\n",
              "      <td>2.259521</td>\n",
              "    </tr>\n",
              "    <tr>\n",
              "      <th>5</th>\n",
              "      <td>1.563794</td>\n",
              "      <td>5.096097</td>\n",
              "      <td>2.257454</td>\n",
              "    </tr>\n",
              "    <tr>\n",
              "      <th>6</th>\n",
              "      <td>1.562792</td>\n",
              "      <td>5.083780</td>\n",
              "      <td>2.254724</td>\n",
              "    </tr>\n",
              "    <tr>\n",
              "      <th>7</th>\n",
              "      <td>1.559432</td>\n",
              "      <td>5.062353</td>\n",
              "      <td>2.249967</td>\n",
              "    </tr>\n",
              "    <tr>\n",
              "      <th>8</th>\n",
              "      <td>1.554830</td>\n",
              "      <td>5.044128</td>\n",
              "      <td>2.245914</td>\n",
              "    </tr>\n",
              "    <tr>\n",
              "      <th>9</th>\n",
              "      <td>1.553544</td>\n",
              "      <td>5.029055</td>\n",
              "      <td>2.242556</td>\n",
              "    </tr>\n",
              "    <tr>\n",
              "      <th>10</th>\n",
              "      <td>1.547851</td>\n",
              "      <td>5.006888</td>\n",
              "      <td>2.237608</td>\n",
              "    </tr>\n",
              "    <tr>\n",
              "      <th>11</th>\n",
              "      <td>1.546389</td>\n",
              "      <td>4.988298</td>\n",
              "      <td>2.233450</td>\n",
              "    </tr>\n",
              "    <tr>\n",
              "      <th>12</th>\n",
              "      <td>1.542302</td>\n",
              "      <td>4.967784</td>\n",
              "      <td>2.228853</td>\n",
              "    </tr>\n",
              "    <tr>\n",
              "      <th>13</th>\n",
              "      <td>1.540054</td>\n",
              "      <td>4.946859</td>\n",
              "      <td>2.224153</td>\n",
              "    </tr>\n",
              "    <tr>\n",
              "      <th>14</th>\n",
              "      <td>1.536409</td>\n",
              "      <td>4.928560</td>\n",
              "      <td>2.220036</td>\n",
              "    </tr>\n",
              "    <tr>\n",
              "      <th>15</th>\n",
              "      <td>1.574961</td>\n",
              "      <td>5.080471</td>\n",
              "      <td>2.253990</td>\n",
              "    </tr>\n",
              "    <tr>\n",
              "      <th>16</th>\n",
              "      <td>1.544078</td>\n",
              "      <td>4.950448</td>\n",
              "      <td>2.224960</td>\n",
              "    </tr>\n",
              "    <tr>\n",
              "      <th>17</th>\n",
              "      <td>1.538108</td>\n",
              "      <td>4.905525</td>\n",
              "      <td>2.214842</td>\n",
              "    </tr>\n",
              "    <tr>\n",
              "      <th>18</th>\n",
              "      <td>1.666827</td>\n",
              "      <td>5.607979</td>\n",
              "      <td>2.368117</td>\n",
              "    </tr>\n",
              "  </tbody>\n",
              "</table>\n",
              "</div>\n",
              "      <button class=\"colab-df-convert\" onclick=\"convertToInteractive('df-96b34e44-89fd-42ae-be5b-6d30e79caa0e')\"\n",
              "              title=\"Convert this dataframe to an interactive table.\"\n",
              "              style=\"display:none;\">\n",
              "        \n",
              "  <svg xmlns=\"http://www.w3.org/2000/svg\" height=\"24px\"viewBox=\"0 0 24 24\"\n",
              "       width=\"24px\">\n",
              "    <path d=\"M0 0h24v24H0V0z\" fill=\"none\"/>\n",
              "    <path d=\"M18.56 5.44l.94 2.06.94-2.06 2.06-.94-2.06-.94-.94-2.06-.94 2.06-2.06.94zm-11 1L8.5 8.5l.94-2.06 2.06-.94-2.06-.94L8.5 2.5l-.94 2.06-2.06.94zm10 10l.94 2.06.94-2.06 2.06-.94-2.06-.94-.94-2.06-.94 2.06-2.06.94z\"/><path d=\"M17.41 7.96l-1.37-1.37c-.4-.4-.92-.59-1.43-.59-.52 0-1.04.2-1.43.59L10.3 9.45l-7.72 7.72c-.78.78-.78 2.05 0 2.83L4 21.41c.39.39.9.59 1.41.59.51 0 1.02-.2 1.41-.59l7.78-7.78 2.81-2.81c.8-.78.8-2.07 0-2.86zM5.41 20L4 18.59l7.72-7.72 1.47 1.35L5.41 20z\"/>\n",
              "  </svg>\n",
              "      </button>\n",
              "      \n",
              "  <style>\n",
              "    .colab-df-container {\n",
              "      display:flex;\n",
              "      flex-wrap:wrap;\n",
              "      gap: 12px;\n",
              "    }\n",
              "\n",
              "    .colab-df-convert {\n",
              "      background-color: #E8F0FE;\n",
              "      border: none;\n",
              "      border-radius: 50%;\n",
              "      cursor: pointer;\n",
              "      display: none;\n",
              "      fill: #1967D2;\n",
              "      height: 32px;\n",
              "      padding: 0 0 0 0;\n",
              "      width: 32px;\n",
              "    }\n",
              "\n",
              "    .colab-df-convert:hover {\n",
              "      background-color: #E2EBFA;\n",
              "      box-shadow: 0px 1px 2px rgba(60, 64, 67, 0.3), 0px 1px 3px 1px rgba(60, 64, 67, 0.15);\n",
              "      fill: #174EA6;\n",
              "    }\n",
              "\n",
              "    [theme=dark] .colab-df-convert {\n",
              "      background-color: #3B4455;\n",
              "      fill: #D2E3FC;\n",
              "    }\n",
              "\n",
              "    [theme=dark] .colab-df-convert:hover {\n",
              "      background-color: #434B5C;\n",
              "      box-shadow: 0px 1px 3px 1px rgba(0, 0, 0, 0.15);\n",
              "      filter: drop-shadow(0px 1px 2px rgba(0, 0, 0, 0.3));\n",
              "      fill: #FFFFFF;\n",
              "    }\n",
              "  </style>\n",
              "\n",
              "      <script>\n",
              "        const buttonEl =\n",
              "          document.querySelector('#df-96b34e44-89fd-42ae-be5b-6d30e79caa0e button.colab-df-convert');\n",
              "        buttonEl.style.display =\n",
              "          google.colab.kernel.accessAllowed ? 'block' : 'none';\n",
              "\n",
              "        async function convertToInteractive(key) {\n",
              "          const element = document.querySelector('#df-96b34e44-89fd-42ae-be5b-6d30e79caa0e');\n",
              "          const dataTable =\n",
              "            await google.colab.kernel.invokeFunction('convertToInteractive',\n",
              "                                                     [key], {});\n",
              "          if (!dataTable) return;\n",
              "\n",
              "          const docLinkHtml = 'Like what you see? Visit the ' +\n",
              "            '<a target=\"_blank\" href=https://colab.research.google.com/notebooks/data_table.ipynb>data table notebook</a>'\n",
              "            + ' to learn more about interactive tables.';\n",
              "          element.innerHTML = '';\n",
              "          dataTable['output_type'] = 'display_data';\n",
              "          await google.colab.output.renderOutput(dataTable, element);\n",
              "          const docLink = document.createElement('div');\n",
              "          docLink.innerHTML = docLinkHtml;\n",
              "          element.appendChild(docLink);\n",
              "        }\n",
              "      </script>\n",
              "    </div>\n",
              "  </div>\n",
              "  "
            ]
          },
          "metadata": {},
          "execution_count": 23
        }
      ],
      "source": [
        "res_list =[]\n",
        "for i in range(1,20):\n",
        "  train_X = train_data.drop('score', axis=1)\n",
        "  train_y = train_data['score']\n",
        "\n",
        "  test_X = test_data.drop('score', axis=1)\n",
        "  test_y = test_data['score']\n",
        "\n",
        "  ct = ColumnTransformer(\n",
        "      [(\"ohe\", OneHotEncoder(handle_unknown='ignore'), [\"definition\", \"topicLabel\"]),\n",
        "      (\"poly\", PolynomialFeatures(i),[\"publishedDayNum\",\t\"log_duration_secs\", \"len_title\"]),\n",
        "      ], remainder=\"passthrough\")\n",
        "\n",
        "  train_X = ct.fit_transform(train_X)\n",
        "  test_X = ct.transform(test_X)\n",
        "\n",
        "  mms = MinMaxScaler()\n",
        "  train_X = mms.fit_transform(train_X)\n",
        "  test_X = mms.transform(test_X)\n",
        "\n",
        "  lr = model_train(LinearRegression(), None, train_X)\n",
        "\n",
        "  res_list.append(ret_metrics(lr, train_X, train_y))\n",
        "\n",
        "res_df = pd.DataFrame(res_list, columns=[\"mae\", 'mse', 'rmse'])\n",
        "res_df"
      ]
    },
    {
      "cell_type": "markdown",
      "metadata": {
        "id": "ACYtvCjxIwBk"
      },
      "source": [
        "From the above we can see that a polynomial of degree 15 is the optimal choice.\n",
        "From now on let's work with this as our final dataset."
      ]
    },
    {
      "cell_type": "code",
      "execution_count": 24,
      "metadata": {
        "id": "gHZ2EJwt9ibC"
      },
      "outputs": [],
      "source": [
        "train_X = train_data.drop('score', axis=1)\n",
        "train_y = train_data['score']\n",
        "\n",
        "test_X = test_data.drop('score', axis=1)\n",
        "test_y = test_data['score']\n",
        "\n",
        "# train_X = data_train.drop([\"score\"], axis=1) #X_res.drop(\"score\", axis=1) #data_train.drop([\"std_viewCount\", \"smote_thresh\"], axis=1) #use X_res for smote\n",
        "# train_y = data_train.score#X_res.score#data_train.std_viewCount\n",
        "\n",
        "# test_X = data_test.drop(\"score\", axis=1)\n",
        "# test_y = data_test.score\n",
        "\n",
        "ct = ColumnTransformer(\n",
        "    [(\"ohe\", OneHotEncoder(handle_unknown='ignore'), [\"definition\", \"topicLabel\"]),\n",
        "    (\"poly\", PolynomialFeatures(15),[\"publishedDayNum\",\t\"log_duration_secs\", \"len_title\"]),\n",
        "    ], remainder=\"passthrough\")\n",
        "\n",
        "train_X = ct.fit_transform(train_X)\n",
        "test_X = ct.transform(test_X)\n",
        "\n",
        "mms = StandardScaler()\n",
        "train_X = mms.fit_transform(train_X)\n",
        "test_X = mms.transform(test_X)"
      ]
    },
    {
      "cell_type": "code",
      "execution_count": null,
      "metadata": {
        "id": "3Vq9vutWkLuX"
      },
      "outputs": [],
      "source": [
        "def plot_2d(points, title):\n",
        "    fig, ax = plt.subplots(figsize=(6, 6), facecolor=\"white\", constrained_layout=True)\n",
        "    fig.suptitle(title, size=16)\n",
        "    add_2d_scatter(ax, points)\n",
        "    plt.show()\n",
        "\n",
        "\n",
        "def add_2d_scatter(ax, points, title=None):\n",
        "    x, y = points.T\n",
        "    ax.scatter(x, y, s=50, alpha=0.8)\n",
        "    ax.set_title(title)\n",
        "    ax.xaxis.set_major_formatter(ticker.NullFormatter())\n",
        "    ax.yaxis.set_major_formatter(ticker.NullFormatter())\n"
      ]
    },
    {
      "cell_type": "markdown",
      "source": [
        "Since we expect to have labels that givern high density spaces for data points, a good way to observe whether our data in lower dimensions is able to capture these for us. "
      ],
      "metadata": {
        "id": "FAFNKT3clW5_"
      }
    },
    {
      "cell_type": "code",
      "execution_count": 26,
      "metadata": {
        "id": "PsoNd9UIqEB9"
      },
      "outputs": [],
      "source": [
        "dbscan = DBSCAN(eps=0.5, min_samples=10).fit(train_X[:1000])"
      ]
    },
    {
      "cell_type": "code",
      "execution_count": null,
      "metadata": {
        "id": "bACbvWHhqok0"
      },
      "outputs": [],
      "source": [
        "core_samples_mask = np.zeros_like(dbscan.labels_, dtype=bool)\n",
        "core_samples_mask[dbscan.core_sample_indices_] = True\n",
        "labels = dbscan.labels_\n",
        "\n",
        "n_clusters_ = len(set(labels)) - (1 if -1 in labels else 0)\n",
        "n_noise_ = list(labels).count(-1)"
      ]
    },
    {
      "cell_type": "code",
      "execution_count": null,
      "metadata": {
        "colab": {
          "base_uri": "https://localhost:8080/",
          "height": 281
        },
        "id": "0_1B_oF0qEIJ",
        "outputId": "9886ecfd-cc8c-463a-e3dd-378924ad2b9f"
      },
      "outputs": [
        {
          "data": {
            "image/png": "[encoded data removed]",
            "text/plain": [
              "<Figure size 432x288 with 1 Axes>"
            ]
          },
          "metadata": {},
          "output_type": "display_data"
        }
      ],
      "source": [
        "unique_labels = set(labels)\n",
        "colors = [plt.cm.Spectral(each) for each in np.linspace(0, 1, len(unique_labels))]\n",
        "for k, col in zip(unique_labels, colors):\n",
        "    if k == -1:\n",
        "        # Black used for noise.\n",
        "        col = [0, 0, 0, 1]\n",
        "\n",
        "    class_member_mask = labels == k\n",
        "\n",
        "    xy = dbscan.transform(train_X[:1000])[class_member_mask & core_samples_mask]\n",
        "    plt.plot(\n",
        "        xy[:, 0],\n",
        "        xy[:, 1],\n",
        "        \"o\",\n",
        "        markerfacecolor=tuple(col),\n",
        "        markeredgecolor=\"k\",\n",
        "        markersize=14,\n",
        "    )\n",
        "\n",
        "    xy = dbscan.transform(train_X[:1000])[class_member_mask & ~core_samples_mask]\n",
        "    plt.plot(\n",
        "        xy[:, 0],\n",
        "        xy[:, 1],\n",
        "        \"o\",\n",
        "        markerfacecolor=tuple(col),\n",
        "        markeredgecolor=\"k\",\n",
        "        markersize=6,\n",
        "    )\n",
        "\n",
        "plt.title(\"Estimated number of clusters: %d\" % n_clusters_)\n",
        "plt.show()"
      ]
    },
    {
      "cell_type": "code",
      "execution_count": null,
      "metadata": {
        "colab": {
          "base_uri": "https://localhost:8080/",
          "height": 265
        },
        "id": "Y75VD_I8fHBO",
        "outputId": "affcfab5-c9ef-47bd-ea1c-b554d4beeb13"
      },
      "outputs": [
        {
          "data": {
            "image/png": "[encoded data removed]",
            "text/plain": [
              "<Figure size 432x288 with 1 Axes>"
            ]
          },
          "metadata": {},
          "output_type": "display_data"
        }
      ],
      "source": [
        "plt.hist(np.log(train_y+1e-8));"
      ]
    },
    {
      "cell_type": "code",
      "execution_count": 94,
      "metadata": {
        "id": "fL6h6YbOniII"
      },
      "outputs": [],
      "source": [
        "results_dict = {'model':[] ,\"r2\":[], 'mae':[], 'mse':[], 'rmse':[]}"
      ]
    },
    {
      "cell_type": "code",
      "execution_count": 30,
      "metadata": {
        "id": "KfdlAP1dmLjW"
      },
      "outputs": [],
      "source": [
        "results_dict = dict(pd.read_csv(\"model_results.csv\").drop('Unnamed: 0', axis=1))"
      ]
    },
    {
      "cell_type": "markdown",
      "metadata": {
        "id": "-AXK6lkJeV5W"
      },
      "source": [
        "### Dummy Regressor"
      ]
    },
    {
      "cell_type": "code",
      "execution_count": 95,
      "metadata": {
        "colab": {
          "base_uri": "https://localhost:8080/"
        },
        "id": "BFWzwD6WeUZ2",
        "outputId": "256b6122-3328-42cc-daab-38093815ee75"
      },
      "outputs": [
        {
          "output_type": "execute_result",
          "data": {
            "text/plain": [
              "-6.850658300106005e-05"
            ]
          },
          "metadata": {},
          "execution_count": 95
        }
      ],
      "source": [
        "dr = DummyRegressor()\n",
        "dr_mean_r2 = np.mean(cross_val_score(dr, train_X, np.log(train_y+1e-8), scoring='r2', cv=5))\n",
        "dr_mean_r2"
      ]
    },
    {
      "cell_type": "code",
      "execution_count": 96,
      "metadata": {
        "id": "LN4u9tGMecsw"
      },
      "outputs": [],
      "source": [
        "dr.fit(train_X, train_y)\n",
        "dr_pred = dr.predict(train_X)"
      ]
    },
    {
      "cell_type": "code",
      "execution_count": 97,
      "metadata": {
        "colab": {
          "base_uri": "https://localhost:8080/"
        },
        "id": "bRdecVDKgmIH",
        "outputId": "e78714e9-656d-4b7b-fa4d-556e212dba6b"
      },
      "outputs": [
        {
          "output_type": "execute_result",
          "data": {
            "text/plain": [
              "0.0"
            ]
          },
          "metadata": {},
          "execution_count": 97
        }
      ],
      "source": [
        "r2_score(train_y, dr_pred)"
      ]
    },
    {
      "cell_type": "code",
      "execution_count": 98,
      "metadata": {
        "colab": {
          "base_uri": "https://localhost:8080/",
          "height": 281
        },
        "id": "bU5EY4Riepyi",
        "outputId": "132532a3-0d12-4e18-e9a1-1b9b58235310"
      },
      "outputs": [
        {
          "output_type": "display_data",
          "data": {
            "text/plain": [
              "<Figure size 432x288 with 1 Axes>"
            ],
            "image/png": "[encoded data removed]"
          },
          "metadata": {
            "needs_background": "light"
          }
        }
      ],
      "source": [
        "plt.scatter(dr_pred-test_y,dr_pred)\n",
        "plt.title(\"Residual plot of training data in linear regression\");"
      ]
    },
    {
      "cell_type": "code",
      "execution_count": 99,
      "metadata": {
        "colab": {
          "base_uri": "https://localhost:8080/"
        },
        "id": "Tb0J9yaci0QP",
        "outputId": "766ec622-7e83-43b1-a5fc-134a4a01bef9"
      },
      "outputs": [
        {
          "output_type": "execute_result",
          "data": {
            "text/plain": [
              "(1.6237796242077158, 5.51870815281436, 2.349193085468787)"
            ]
          },
          "metadata": {},
          "execution_count": 99
        }
      ],
      "source": [
        "ret_metrics(dr, train_X, train_y)"
      ]
    },
    {
      "cell_type": "code",
      "execution_count": 100,
      "metadata": {
        "colab": {
          "base_uri": "https://localhost:8080/"
        },
        "id": "gb7VvnveoLQ0",
        "outputId": "84b2cce2-0971-4080-cb52-7b991ec0675d"
      },
      "outputs": [
        {
          "output_type": "execute_result",
          "data": {
            "text/plain": [
              "(None, None, None)"
            ]
          },
          "metadata": {},
          "execution_count": 100
        }
      ],
      "source": [
        "results_dict['model'].append(dr)\n",
        "results_dict['r2'].append(r2_score(test_y, dr_pred))\n",
        "a, s, rs = ret_metrics(dr, train_X, train_y)\n",
        "results_dict['mae'].append(a), results_dict['mse'].append(s), results_dict['rmse'].append(rs)"
      ]
    },
    {
      "cell_type": "markdown",
      "metadata": {
        "id": "RksYN1IFeNxp"
      },
      "source": [
        "### Linear Regression"
      ]
    },
    {
      "cell_type": "code",
      "execution_count": 103,
      "metadata": {
        "id": "ZZ51OJZAqEdC"
      },
      "outputs": [],
      "source": [
        "lr = LinearRegression()\n",
        "lr_mean_r2 = np.mean(cross_val_score(lr, train_X, train_y, scoring='r2', cv=5))"
      ]
    },
    {
      "cell_type": "code",
      "execution_count": 104,
      "metadata": {
        "id": "CAqkRXpWqEh7"
      },
      "outputs": [],
      "source": [
        "lr.fit(train_X, train_y)\n",
        "lr_pred = lr.predict(train_X)"
      ]
    },
    {
      "cell_type": "code",
      "execution_count": 106,
      "metadata": {
        "colab": {
          "base_uri": "https://localhost:8080/",
          "height": 281
        },
        "id": "D_FzVn7RqEmp",
        "outputId": "dbe17274-b321-4a3d-a07a-0dd52decc880"
      },
      "outputs": [
        {
          "output_type": "display_data",
          "data": {
            "text/plain": [
              "<Figure size 432x288 with 1 Axes>"
            ],
            "image/png": "[encoded data removed]"
          },
          "metadata": {
            "needs_background": "light"
          }
        }
      ],
      "source": [
        "plt.scatter(lr_pred-train_y,lr_pred)\n",
        "plt.title(\"Residual plot of training data in linear regression\");"
      ]
    },
    {
      "cell_type": "code",
      "execution_count": 107,
      "metadata": {
        "colab": {
          "base_uri": "https://localhost:8080/",
          "height": 265
        },
        "id": "9KPF4SFBqEvO",
        "outputId": "1ba423ec-9050-4ab1-f724-50a9aa6f8d55"
      },
      "outputs": [
        {
          "output_type": "display_data",
          "data": {
            "text/plain": [
              "<Figure size 432x288 with 1 Axes>"
            ],
            "image/png": "[encoded data removed]"
          },
          "metadata": {
            "needs_background": "light"
          }
        }
      ],
      "source": [
        "plt.hist(lr_pred-train_y);"
      ]
    },
    {
      "cell_type": "code",
      "execution_count": 108,
      "metadata": {
        "colab": {
          "base_uri": "https://localhost:8080/"
        },
        "id": "E3Enj6Gggxgm",
        "outputId": "1206935c-e95f-4039-f9ff-8c13fe784aad"
      },
      "outputs": [
        {
          "output_type": "execute_result",
          "data": {
            "text/plain": [
              "(0.10326430225769367,\n",
              " (1.542724177296679, 4.948822606050139, 2.224594930779565))"
            ]
          },
          "metadata": {},
          "execution_count": 108
        }
      ],
      "source": [
        "r2_score(train_y, lr_pred), ret_metrics(lr, train_X, train_y)"
      ]
    },
    {
      "cell_type": "code",
      "execution_count": 109,
      "metadata": {
        "colab": {
          "base_uri": "https://localhost:8080/"
        },
        "id": "YbLHvtYlpMgj",
        "outputId": "5721abe8-7bf2-4ac3-c671-3cf535653e22"
      },
      "outputs": [
        {
          "output_type": "execute_result",
          "data": {
            "text/plain": [
              "(None, None, None)"
            ]
          },
          "metadata": {},
          "execution_count": 109
        }
      ],
      "source": [
        "results_dict['model'].append(lr)\n",
        "results_dict['r2'].append(r2_score(test_y, lr.predict(train_X)))\n",
        "a, s, rs = ret_metrics(lr, train_X, train_y)\n",
        "results_dict['mae'].append(a), results_dict['mse'].append(s), results_dict['rmse'].append(rs)"
      ]
    },
    {
      "cell_type": "markdown",
      "metadata": {
        "id": "suHdNY6CeQur"
      },
      "source": [
        "### SGD, ElasticNet"
      ]
    },
    {
      "cell_type": "code",
      "execution_count": 109,
      "metadata": {
        "id": "aS4hoc3bqEy8"
      },
      "outputs": [],
      "source": []
    },
    {
      "cell_type": "code",
      "execution_count": 110,
      "metadata": {
        "id": "4Tn0EETUqE2X"
      },
      "outputs": [],
      "source": [
        "r = SGDRegressor()\n",
        "r_mean_r2 = np.mean(cross_val_score(r, train_X, train_y, scoring='r2', cv=5))\n"
      ]
    },
    {
      "cell_type": "code",
      "execution_count": 111,
      "metadata": {
        "id": "dJOAmxO1qE5j"
      },
      "outputs": [],
      "source": [
        "r.fit(train_X, train_y)\n",
        "r_pred = lr.predict(train_X)"
      ]
    },
    {
      "cell_type": "code",
      "execution_count": 112,
      "metadata": {
        "colab": {
          "base_uri": "https://localhost:8080/"
        },
        "id": "tuCsxG4Kg2L6",
        "outputId": "a34b555d-0b99-44da-de68-9646e28cab43"
      },
      "outputs": [
        {
          "output_type": "execute_result",
          "data": {
            "text/plain": [
              "(0.10326430225769367,\n",
              " (226918343306.83856, 6.444144957794253e+23, 802754318443.3362))"
            ]
          },
          "metadata": {},
          "execution_count": 112
        }
      ],
      "source": [
        "r2_score(train_y, r_pred), ret_metrics(r, train_X, train_y)"
      ]
    },
    {
      "cell_type": "code",
      "execution_count": 113,
      "metadata": {
        "colab": {
          "base_uri": "https://localhost:8080/"
        },
        "id": "rEtoihr5p9Sl",
        "outputId": "f541db25-41fe-48c1-c3e7-59d65bea3edd"
      },
      "outputs": [
        {
          "output_type": "execute_result",
          "data": {
            "text/plain": [
              "(None, None, None)"
            ]
          },
          "metadata": {},
          "execution_count": 113
        }
      ],
      "source": [
        "results_dict['model'].append(r)\n",
        "results_dict['r2'].append(r2_score(test_y, r.predict(train_X)))\n",
        "a, s, rs = ret_metrics(lr, train_X, train_y)\n",
        "results_dict['mae'].append(a), results_dict['mse'].append(s), results_dict['rmse'].append(rs)"
      ]
    },
    {
      "cell_type": "markdown",
      "metadata": {
        "id": "i1vGtbO5dpOf"
      },
      "source": [
        "We can see that with the usage of linear, SGD regression, the residual plot shows the presence of heteroscadasticity. Since this is one of the assumptions made by linear regression (residuals need to be homoscadastic) we can, as a result, understand the ability of the above algorithms to not perform any better."
      ]
    },
    {
      "cell_type": "code",
      "execution_count": null,
      "metadata": {
        "colab": {
          "base_uri": "https://localhost:8080/"
        },
        "id": "caOwINIrdoW8",
        "outputId": "a4522dd7-aca0-4a0c-f956-d1b2531e4e10"
      },
      "outputs": [
        {
          "data": {
            "text/plain": [
              "{'alpha': 0, 'l1_ratio': 0, 'selection': 'cyclic'}"
            ]
          },
          "execution_count": 252,
          "metadata": {},
          "output_type": "execute_result"
        }
      ],
      "source": [
        "en = ElasticNet()\n",
        "en_parameters = {'alpha':[0,1], 'selection':('cyclic', 'random'), 'l1_ratio':[0, 1, 0.2, 0.8, 0.5] } # accounts for regression with both OLS, l1, l2 regularization\n",
        "\n",
        "en = model_train(en, en_parameters)\n",
        "en.best_params_"
      ]
    },
    {
      "cell_type": "code",
      "execution_count": 114,
      "metadata": {
        "colab": {
          "base_uri": "https://localhost:8080/"
        },
        "id": "bYa6fmJGsyJH",
        "outputId": "0220281c-78db-4ec8-df08-1ed7df02ba1c"
      },
      "outputs": [
        {
          "output_type": "execute_result",
          "data": {
            "text/plain": [
              "ElasticNet(alpha=0, l1_ratio=0)"
            ]
          },
          "metadata": {},
          "execution_count": 114
        }
      ],
      "source": [
        "en = ElasticNet(alpha=0, l1_ratio=0, selection='cyclic')\n",
        "en.fit(train_X, train_y)"
      ]
    },
    {
      "cell_type": "code",
      "execution_count": 115,
      "metadata": {
        "colab": {
          "base_uri": "https://localhost:8080/"
        },
        "id": "xrPrMj15cM26",
        "outputId": "9bd130ad-772a-4797-e69e-8f8eac3a2a4d"
      },
      "outputs": [
        {
          "output_type": "execute_result",
          "data": {
            "text/plain": [
              "(1.5689967959790043, 5.125500241183651, 2.263956766633067)"
            ]
          },
          "metadata": {},
          "execution_count": 115
        }
      ],
      "source": [
        "en_pred = en.predict(train_X)\n",
        "ret_metrics(en, train_X, train_y)"
      ]
    },
    {
      "cell_type": "code",
      "execution_count": 116,
      "metadata": {
        "colab": {
          "base_uri": "https://localhost:8080/"
        },
        "id": "fw0CsrExcNCj",
        "outputId": "77cd2641-d6cf-40d0-a7b9-b2b42bf448a1"
      },
      "outputs": [
        {
          "output_type": "execute_result",
          "data": {
            "text/plain": [
              "(None, None, None)"
            ]
          },
          "metadata": {},
          "execution_count": 116
        }
      ],
      "source": [
        "results_dict['model'].append(en)\n",
        "results_dict['r2'].append(r2_score(test_y, en.predict(train_X)))\n",
        "a, s, rs = ret_metrics(en, train_X, train_y)\n",
        "results_dict['mae'].append(a), results_dict['mse'].append(s), results_dict['rmse'].append(rs)"
      ]
    },
    {
      "cell_type": "code",
      "execution_count": 118,
      "metadata": {
        "id": "qhlYHm8wcNGT"
      },
      "outputs": [],
      "source": [
        "# pd.DataFrame(results_dict)"
      ]
    },
    {
      "cell_type": "markdown",
      "metadata": {
        "id": "4oHqZsMluBgy"
      },
      "source": [
        "### Decision Trees\n",
        "- They don't make the same assumption of homoscedasticity as linear regression models make."
      ]
    },
    {
      "cell_type": "code",
      "execution_count": null,
      "metadata": {
        "colab": {
          "base_uri": "https://localhost:8080/"
        },
        "id": "NLOcp2XZcNKC",
        "outputId": "65ce5b99-6d69-43c0-959c-8bd5a2084ab8"
      },
      "outputs": [
        {
          "data": {
            "text/plain": [
              "{'criterion': 'squared_error', 'max_depth': 10}"
            ]
          },
          "execution_count": 303,
          "metadata": {},
          "output_type": "execute_result"
        }
      ],
      "source": [
        "# dtr = DecisionTreeRegressor()\n",
        "# dtr_parameters = {'criterion':[\"squared_error\", \"friedman_mse\"], 'max_depth':[None, 10, 50, 100]} # accounts for regression with both OLS, l1, l2 regularization\n",
        "\n",
        "# dtr = GridSearchCV(dtr, dtr_parameters) #defaults at cv value of 5 which we are okay with\n",
        "# dtr.fit(train_X, train_y)\n",
        "# dtr.best_params_"
      ]
    },
    {
      "cell_type": "code",
      "source": [
        "dtr = DecisionTreeRegressor(criterion='squared_error', max_depth=10)\n",
        "dtr.fit(train_X, train_y)"
      ],
      "metadata": {
        "colab": {
          "base_uri": "https://localhost:8080/"
        },
        "id": "gFwnW8cBqJUI",
        "outputId": "68e489de-01bd-40f3-a2c9-4ab5d49c5010"
      },
      "execution_count": 120,
      "outputs": [
        {
          "output_type": "execute_result",
          "data": {
            "text/plain": [
              "DecisionTreeRegressor(max_depth=10)"
            ]
          },
          "metadata": {},
          "execution_count": 120
        }
      ]
    },
    {
      "cell_type": "code",
      "execution_count": 172,
      "metadata": {
        "colab": {
          "base_uri": "https://localhost:8080/"
        },
        "id": "g6Eml06OqDNr",
        "outputId": "a7344939-75ca-45ca-fbcb-3c51d843d3ec"
      },
      "outputs": [
        {
          "output_type": "execute_result",
          "data": {
            "text/plain": [
              "0.05552611620193104"
            ]
          },
          "metadata": {},
          "execution_count": 172
        }
      ],
      "source": [
        "r2_score(train_y, dtr.predict(train_X))"
      ]
    },
    {
      "cell_type": "code",
      "execution_count": 122,
      "metadata": {
        "colab": {
          "base_uri": "https://localhost:8080/"
        },
        "id": "sTSbJztNqDS1",
        "outputId": "8aa54c47-83c0-450a-ac27-8ddb68fb0f28"
      },
      "outputs": [
        {
          "output_type": "execute_result",
          "data": {
            "text/plain": [
              "(1.3393554254283695, 3.9313973843047982, 1.9827751724047782)"
            ]
          },
          "metadata": {},
          "execution_count": 122
        }
      ],
      "source": [
        "ret_metrics(dtr, train_X, train_y)"
      ]
    },
    {
      "cell_type": "code",
      "execution_count": 123,
      "metadata": {
        "colab": {
          "base_uri": "https://localhost:8080/"
        },
        "id": "tenjFGzeyC6J",
        "outputId": "04d82c4e-7278-407b-9db8-eb5f6a2b4cfa"
      },
      "outputs": [
        {
          "output_type": "execute_result",
          "data": {
            "text/plain": [
              "(array([1.22696864, 2.17318423, 1.49204481, 1.17801691, 1.0940195 ,\n",
              "        1.8267042 , 1.0940195 , 0.54436106, 1.53477261, 1.53477261]),\n",
              " 10791    0.127819\n",
              " 37825    0.123120\n",
              " 26950    0.145305\n",
              " 27811    0.384494\n",
              " 2581     1.270952\n",
              " 23044    0.849514\n",
              " 25132    0.563838\n",
              " 40253    0.395396\n",
              " 44323    0.346705\n",
              " 21065    0.781136\n",
              " Name: score, dtype: float64)"
            ]
          },
          "metadata": {},
          "execution_count": 123
        }
      ],
      "source": [
        "dtr.predict(test_X)[:10], test_y[:10]"
      ]
    },
    {
      "cell_type": "code",
      "execution_count": 124,
      "metadata": {
        "colab": {
          "base_uri": "https://localhost:8080/"
        },
        "id": "pxsLgC3IqDW7",
        "outputId": "77e729e5-2181-40e6-e53c-1696da06003b"
      },
      "outputs": [
        {
          "output_type": "execute_result",
          "data": {
            "text/plain": [
              "(None, None, None)"
            ]
          },
          "metadata": {},
          "execution_count": 124
        }
      ],
      "source": [
        "results_dict['model'].append(dtr)\n",
        "results_dict['r2'].append(r2_score(train_y, dtr.predict(train_X)))\n",
        "a, s, rs = ret_metrics(dtr, train_X, train_y)\n",
        "results_dict['mae'].append(a), results_dict['mse'].append(s), results_dict['rmse'].append(rs)"
      ]
    },
    {
      "cell_type": "code",
      "execution_count": 126,
      "metadata": {
        "id": "Twm9Vc0EqDbw",
        "colab": {
          "base_uri": "https://localhost:8080/",
          "height": 204
        },
        "outputId": "29f2cead-670e-48f1-f30c-3744186a1982"
      },
      "outputs": [
        {
          "output_type": "execute_result",
          "data": {
            "text/plain": [
              "                                 model            r2       mae       mse  \\\n",
              "0                     DummyRegressor() -5.662137e-14  1.623780  5.518708   \n",
              "1                   LinearRegression()  1.032643e-01  1.542724  4.948823   \n",
              "2                       SGDRegressor() -1.167691e+23  1.542724  4.948823   \n",
              "3      ElasticNet(alpha=0, l1_ratio=0)  7.125004e-02  1.568997  5.125500   \n",
              "4  DecisionTreeRegressor(max_depth=10)  2.876236e-01  1.339355  3.931397   \n",
              "\n",
              "       rmse  \n",
              "0  2.349193  \n",
              "1  2.224595  \n",
              "2  2.224595  \n",
              "3  2.263957  \n",
              "4  1.982775  "
            ],
            "text/html": [
              "\n",
              "  <div id=\"df-9562a8b7-7f57-4fe7-a189-e8d2fe916d2b\">\n",
              "    <div class=\"colab-df-container\">\n",
              "      <div>\n",
              "<style scoped>\n",
              "    .dataframe tbody tr th:only-of-type {\n",
              "        vertical-align: middle;\n",
              "    }\n",
              "\n",
              "    .dataframe tbody tr th {\n",
              "        vertical-align: top;\n",
              "    }\n",
              "\n",
              "    .dataframe thead th {\n",
              "        text-align: right;\n",
              "    }\n",
              "</style>\n",
              "<table border=\"1\" class=\"dataframe\">\n",
              "  <thead>\n",
              "    <tr style=\"text-align: right;\">\n",
              "      <th></th>\n",
              "      <th>model</th>\n",
              "      <th>r2</th>\n",
              "      <th>mae</th>\n",
              "      <th>mse</th>\n",
              "      <th>rmse</th>\n",
              "    </tr>\n",
              "  </thead>\n",
              "  <tbody>\n",
              "    <tr>\n",
              "      <th>0</th>\n",
              "      <td>DummyRegressor()</td>\n",
              "      <td>-5.662137e-14</td>\n",
              "      <td>1.623780</td>\n",
              "      <td>5.518708</td>\n",
              "      <td>2.349193</td>\n",
              "    </tr>\n",
              "    <tr>\n",
              "      <th>1</th>\n",
              "      <td>LinearRegression()</td>\n",
              "      <td>1.032643e-01</td>\n",
              "      <td>1.542724</td>\n",
              "      <td>4.948823</td>\n",
              "      <td>2.224595</td>\n",
              "    </tr>\n",
              "    <tr>\n",
              "      <th>2</th>\n",
              "      <td>SGDRegressor()</td>\n",
              "      <td>-1.167691e+23</td>\n",
              "      <td>1.542724</td>\n",
              "      <td>4.948823</td>\n",
              "      <td>2.224595</td>\n",
              "    </tr>\n",
              "    <tr>\n",
              "      <th>3</th>\n",
              "      <td>ElasticNet(alpha=0, l1_ratio=0)</td>\n",
              "      <td>7.125004e-02</td>\n",
              "      <td>1.568997</td>\n",
              "      <td>5.125500</td>\n",
              "      <td>2.263957</td>\n",
              "    </tr>\n",
              "    <tr>\n",
              "      <th>4</th>\n",
              "      <td>DecisionTreeRegressor(max_depth=10)</td>\n",
              "      <td>2.876236e-01</td>\n",
              "      <td>1.339355</td>\n",
              "      <td>3.931397</td>\n",
              "      <td>1.982775</td>\n",
              "    </tr>\n",
              "  </tbody>\n",
              "</table>\n",
              "</div>\n",
              "      <button class=\"colab-df-convert\" onclick=\"convertToInteractive('df-9562a8b7-7f57-4fe7-a189-e8d2fe916d2b')\"\n",
              "              title=\"Convert this dataframe to an interactive table.\"\n",
              "              style=\"display:none;\">\n",
              "        \n",
              "  <svg xmlns=\"http://www.w3.org/2000/svg\" height=\"24px\"viewBox=\"0 0 24 24\"\n",
              "       width=\"24px\">\n",
              "    <path d=\"M0 0h24v24H0V0z\" fill=\"none\"/>\n",
              "    <path d=\"M18.56 5.44l.94 2.06.94-2.06 2.06-.94-2.06-.94-.94-2.06-.94 2.06-2.06.94zm-11 1L8.5 8.5l.94-2.06 2.06-.94-2.06-.94L8.5 2.5l-.94 2.06-2.06.94zm10 10l.94 2.06.94-2.06 2.06-.94-2.06-.94-.94-2.06-.94 2.06-2.06.94z\"/><path d=\"M17.41 7.96l-1.37-1.37c-.4-.4-.92-.59-1.43-.59-.52 0-1.04.2-1.43.59L10.3 9.45l-7.72 7.72c-.78.78-.78 2.05 0 2.83L4 21.41c.39.39.9.59 1.41.59.51 0 1.02-.2 1.41-.59l7.78-7.78 2.81-2.81c.8-.78.8-2.07 0-2.86zM5.41 20L4 18.59l7.72-7.72 1.47 1.35L5.41 20z\"/>\n",
              "  </svg>\n",
              "      </button>\n",
              "      \n",
              "  <style>\n",
              "    .colab-df-container {\n",
              "      display:flex;\n",
              "      flex-wrap:wrap;\n",
              "      gap: 12px;\n",
              "    }\n",
              "\n",
              "    .colab-df-convert {\n",
              "      background-color: #E8F0FE;\n",
              "      border: none;\n",
              "      border-radius: 50%;\n",
              "      cursor: pointer;\n",
              "      display: none;\n",
              "      fill: #1967D2;\n",
              "      height: 32px;\n",
              "      padding: 0 0 0 0;\n",
              "      width: 32px;\n",
              "    }\n",
              "\n",
              "    .colab-df-convert:hover {\n",
              "      background-color: #E2EBFA;\n",
              "      box-shadow: 0px 1px 2px rgba(60, 64, 67, 0.3), 0px 1px 3px 1px rgba(60, 64, 67, 0.15);\n",
              "      fill: #174EA6;\n",
              "    }\n",
              "\n",
              "    [theme=dark] .colab-df-convert {\n",
              "      background-color: #3B4455;\n",
              "      fill: #D2E3FC;\n",
              "    }\n",
              "\n",
              "    [theme=dark] .colab-df-convert:hover {\n",
              "      background-color: #434B5C;\n",
              "      box-shadow: 0px 1px 3px 1px rgba(0, 0, 0, 0.15);\n",
              "      filter: drop-shadow(0px 1px 2px rgba(0, 0, 0, 0.3));\n",
              "      fill: #FFFFFF;\n",
              "    }\n",
              "  </style>\n",
              "\n",
              "      <script>\n",
              "        const buttonEl =\n",
              "          document.querySelector('#df-9562a8b7-7f57-4fe7-a189-e8d2fe916d2b button.colab-df-convert');\n",
              "        buttonEl.style.display =\n",
              "          google.colab.kernel.accessAllowed ? 'block' : 'none';\n",
              "\n",
              "        async function convertToInteractive(key) {\n",
              "          const element = document.querySelector('#df-9562a8b7-7f57-4fe7-a189-e8d2fe916d2b');\n",
              "          const dataTable =\n",
              "            await google.colab.kernel.invokeFunction('convertToInteractive',\n",
              "                                                     [key], {});\n",
              "          if (!dataTable) return;\n",
              "\n",
              "          const docLinkHtml = 'Like what you see? Visit the ' +\n",
              "            '<a target=\"_blank\" href=https://colab.research.google.com/notebooks/data_table.ipynb>data table notebook</a>'\n",
              "            + ' to learn more about interactive tables.';\n",
              "          element.innerHTML = '';\n",
              "          dataTable['output_type'] = 'display_data';\n",
              "          await google.colab.output.renderOutput(dataTable, element);\n",
              "          const docLink = document.createElement('div');\n",
              "          docLink.innerHTML = docLinkHtml;\n",
              "          element.appendChild(docLink);\n",
              "        }\n",
              "      </script>\n",
              "    </div>\n",
              "  </div>\n",
              "  "
            ]
          },
          "metadata": {},
          "execution_count": 126
        }
      ],
      "source": [
        "# pd.DataFrame(results_dict)#.to_csv(\"model_results.csv\")"
      ]
    },
    {
      "cell_type": "code",
      "execution_count": 130,
      "metadata": {
        "colab": {
          "base_uri": "https://localhost:8080/"
        },
        "id": "J0tkHJ8pyvLT",
        "outputId": "2360261d-fffa-4cf0-8869-463bc7f91b1c"
      },
      "outputs": [
        {
          "output_type": "execute_result",
          "data": {
            "text/plain": [
              "array([814,   4,  12, 877,  11,  63, 845,  10,   8, 870])"
            ]
          },
          "metadata": {},
          "execution_count": 130
        }
      ],
      "source": [
        "np.argsort(-dtr.feature_importances_)[:10]"
      ]
    },
    {
      "cell_type": "code",
      "source": [
        "# results_dict"
      ],
      "metadata": {
        "id": "iq-VYD4S6WlI"
      },
      "execution_count": 244,
      "outputs": []
    },
    {
      "cell_type": "markdown",
      "metadata": {
        "id": "Ko7FvOOfAju-"
      },
      "source": [
        "### Random Forest Regressor\n",
        "- In an attempt to reduce the variance in the model.\n",
        "- We're also moving towards blackbox models because, with the degree 15 interaction terms, we've lost a lot of interpretability already.\n",
        "- We're also mindful of the parameters that showed promise for decision trees and hence we incfrementally carry the one's that did well to related models downstream."
      ]
    },
    {
      "cell_type": "markdown",
      "source": [
        "Note:\n",
        "- Grid search takes over 3hrs\n",
        "- a custom run takes ~25mins"
      ],
      "metadata": {
        "id": "DJrmiviJDoDN"
      }
    },
    {
      "cell_type": "code",
      "execution_count": null,
      "metadata": {
        "id": "68hmKXymyvN9"
      },
      "outputs": [],
      "source": []
    },
    {
      "cell_type": "code",
      "execution_count": null,
      "metadata": {
        "id": "nHUcK6vz_lw7"
      },
      "outputs": [],
      "source": [
        "# rfr = RandomForestRegressor()\n",
        "# rfr_parameters = {'criterion':[\"squared_error\"], 'max_depth':[10, 20], 'n_estimators':[10, 20, 50, 100, 120], 'oob_score':[True]} #default assumes bootsrapping so should be faster\n",
        "# rfr = GridSearchCV(rfr, rfr_parameters, cv=3) #defaults at cv value of 5 which we are okay with\n",
        "# rfr.fit(train_X, train_y)\n",
        "# rfr.best_params_"
      ]
    },
    {
      "cell_type": "code",
      "execution_count": 201,
      "metadata": {
        "colab": {
          "base_uri": "https://localhost:8080/"
        },
        "id": "_I7S9gPQn8Ne",
        "outputId": "d7ad4d52-e266-4526-9cee-0871ab39aeb8"
      },
      "outputs": [
        {
          "output_type": "execute_result",
          "data": {
            "text/plain": [
              "RandomForestRegressor(max_depth=15, n_estimators=40, oob_score=True)"
            ]
          },
          "metadata": {},
          "execution_count": 201
        }
      ],
      "source": [
        "rfr = RandomForestRegressor(criterion='squared_error', max_depth=10, n_estimators=50, oob_score=True)\n",
        "rfr.fit(train_X, train_y)"
      ]
    },
    {
      "cell_type": "code",
      "source": [
        "# ret_metrics(rfr, train_X, train_y)"
      ],
      "metadata": {
        "colab": {
          "base_uri": "https://localhost:8080/"
        },
        "id": "BYKKN1CGBWTm",
        "outputId": "4a69581a-8ff4-4b3b-d201-fcaddea12230"
      },
      "execution_count": 204,
      "outputs": [
        {
          "output_type": "execute_result",
          "data": {
            "text/plain": [
              "(1.1253375178720963, 2.574815041961635, 1.604623021759826)"
            ]
          },
          "metadata": {},
          "execution_count": 204
        }
      ]
    },
    {
      "cell_type": "code",
      "execution_count": 134,
      "metadata": {
        "id": "vxYn0PTG_l6p",
        "colab": {
          "base_uri": "https://localhost:8080/"
        },
        "outputId": "26d2c933-d5e4-4383-9b11-083e0f1e7248"
      },
      "outputs": [
        {
          "output_type": "execute_result",
          "data": {
            "text/plain": [
              "(None, None, None)"
            ]
          },
          "metadata": {},
          "execution_count": 134
        }
      ],
      "source": [
        "# results_dict['model'].append(rfr)\n",
        "# results_dict['r2'].append(r2_score(train_y, rfr.predict(train_X)))\n",
        "# a, s, rs = ret_metrics(rfr, train_X, train_y)\n",
        "# results_dict['mae'].append(a), results_dict['mse'].append(s), results_dict['rmse'].append(rs)"
      ]
    },
    {
      "cell_type": "code",
      "source": [
        "# results_dict"
      ],
      "metadata": {
        "id": "0P-xRn3-7tKM"
      },
      "execution_count": 208,
      "outputs": []
    },
    {
      "cell_type": "code",
      "execution_count": 62,
      "metadata": {
        "id": "HobdMTo5_mB4"
      },
      "outputs": [],
      "source": [
        "# pd.DataFrame(results_dict)"
      ]
    },
    {
      "cell_type": "code",
      "execution_count": 209,
      "metadata": {
        "id": "PUajBI8TDTaA"
      },
      "outputs": [],
      "source": [
        "pd.DataFrame(results_dict).to_csv(\"model_results.csv\", index=False)"
      ]
    },
    {
      "cell_type": "markdown",
      "source": [
        "Boosting Based Regressors"
      ],
      "metadata": {
        "id": "ZMBeWagj_Sqn"
      }
    },
    {
      "cell_type": "code",
      "execution_count": 83,
      "metadata": {
        "id": "W27XnTVXDTwb"
      },
      "outputs": [],
      "source": [
        "from sklearn.ensemble import GradientBoostingRegressor"
      ]
    },
    {
      "cell_type": "code",
      "source": [
        "# gbr = GradientBoostingRegressor()\n",
        "# gbr_parameters = {'learning_rate':[0.05, 0.2, 0.5], 'subsample':[0.4], 'n_estimators':[10, 50], 'criterion':['squared_error']}\n",
        "# grid_r = GridSearchCV(gbr, gbr_parameters, cv=3)\n",
        "# grid_r.fit(train_X, train_y)\n",
        "# grid_r.best_params_"
      ],
      "metadata": {
        "colab": {
          "base_uri": "https://localhost:8080/"
        },
        "id": "n1kcjdfmP-mN",
        "outputId": "05f7916d-7069-4791-ae99-a3d3b5361ed3"
      },
      "execution_count": 84,
      "outputs": [
        {
          "output_type": "execute_result",
          "data": {
            "text/plain": [
              "{'criterion': 'squared_error',\n",
              " 'learning_rate': 0.2,\n",
              " 'n_estimators': 50,\n",
              " 'subsample': 0.4}"
            ]
          },
          "metadata": {},
          "execution_count": 84
        }
      ]
    },
    {
      "cell_type": "code",
      "source": [
        "# r2_score(test_y, grid_r.predict(train_X)),ret_metrics(grid_r, train_X, train_y)"
      ],
      "metadata": {
        "id": "7j-i5s5bQoGk"
      },
      "execution_count": 183,
      "outputs": []
    },
    {
      "cell_type": "code",
      "execution_count": 210,
      "metadata": {
        "id": "TDPKi168DT1F",
        "colab": {
          "base_uri": "https://localhost:8080/"
        },
        "outputId": "182707f0-a6c4-4983-d862-ffc44aa9919a"
      },
      "outputs": [
        {
          "output_type": "execute_result",
          "data": {
            "text/plain": [
              "GradientBoostingRegressor(subsample=0.6)"
            ]
          },
          "metadata": {},
          "execution_count": 210
        }
      ],
      "source": [
        "gbr = GradientBoostingRegressor(learning_rate=0.1, n_estimators=100, subsample=0.6, criterion='squared_error')\n",
        "gbr.fit(train_X, train_y)"
      ]
    },
    {
      "cell_type": "code",
      "source": [
        "r2_score(train_y, gbr.predict(train_X))\n",
        "ret_metrics(gbr, train_X, train_y)"
      ],
      "metadata": {
        "colab": {
          "base_uri": "https://localhost:8080/"
        },
        "id": "sTrOIXZ6M7g0",
        "outputId": "c6573a8b-cb5b-439c-cfc8-68864b638d15"
      },
      "execution_count": 213,
      "outputs": [
        {
          "output_type": "execute_result",
          "data": {
            "text/plain": [
              "(1.4983474088910396, 4.767138075398757, 2.1833776758496817)"
            ]
          },
          "metadata": {},
          "execution_count": 213
        }
      ]
    },
    {
      "cell_type": "code",
      "source": [
        "results_dict['model'].append(gbr)\n",
        "results_dict['r2'].append(r2_score(test_y, gbr.predict(train_X)))\n",
        "a, s, rs = ret_metrics(gbr, train_X, train_y)\n",
        "results_dict['mae'].append(a), results_dict['mse'].append(s), results_dict['rmse'].append(rs)"
      ],
      "metadata": {
        "id": "Gzy7oBdOChDi"
      },
      "execution_count": 72,
      "outputs": []
    },
    {
      "cell_type": "code",
      "source": [
        "results_dict"
      ],
      "metadata": {
        "id": "QDTA8-pzApBm"
      },
      "execution_count": null,
      "outputs": []
    },
    {
      "cell_type": "code",
      "source": [
        "pd.DataFrame(results_dict).to_csv(\"model_results.csv\", index=False)"
      ],
      "metadata": {
        "id": "2KhvbXlIApGC"
      },
      "execution_count": 73,
      "outputs": []
    },
    {
      "cell_type": "markdown",
      "source": [
        "HistGradientBoostingRegressor (faster variant)\n",
        "\n",
        "Note:\n",
        "- Grid search takes over 1.5hrs"
      ],
      "metadata": {
        "id": "GVw_56sKefLJ"
      }
    },
    {
      "cell_type": "code",
      "source": [
        "# hgbr = HistGradientBoostingRegressor(validation_fraction=0.2, n_iter_no_change=15)\n",
        "# hgbr_parameters = {'max_iter':[80, 100, 120], 'max_leaf_nodes':[30, 50, 80, 100], 'l2_regularization':[0, 0.2], 'max_depth':[None, 10, 50]}\n",
        "# grid_r = GridSearchCV(hgbr, hgbr_parameters, cv=3)\n",
        "# grid_r.fit(train_X, train_y)\n",
        "# grid_r.best_params_"
      ],
      "metadata": {
        "colab": {
          "base_uri": "https://localhost:8080/"
        },
        "id": "A4ns5UFnenpT",
        "outputId": "78a90bfe-ac73-4fa9-e089-fc46692c6ec0"
      },
      "execution_count": 239,
      "outputs": [
        {
          "output_type": "execute_result",
          "data": {
            "text/plain": [
              "{'l2_regularization': 0.2,\n",
              " 'max_depth': 10,\n",
              " 'max_iter': 100,\n",
              " 'max_leaf_nodes': 50}"
            ]
          },
          "metadata": {},
          "execution_count": 239
        }
      ]
    },
    {
      "cell_type": "code",
      "source": [
        "hgbr = HistGradientBoostingRegressor(max_iter=100, max_leaf_nodes=50,\n",
        "                                     validation_fraction=0.2, n_iter_no_change=15,\n",
        "                                     l2_regularization=0.2, max_depth=10)\n",
        "hgbr.fit(train_X, train_y)"
      ],
      "metadata": {
        "colab": {
          "base_uri": "https://localhost:8080/"
        },
        "id": "DeoEBGriefWg",
        "outputId": "2d22a92f-1961-4f31-a1fd-21f5d3753128"
      },
      "execution_count": 245,
      "outputs": [
        {
          "output_type": "execute_result",
          "data": {
            "text/plain": [
              "HistGradientBoostingRegressor(l2_regularization=0.2, max_depth=10,\n",
              "                              max_leaf_nodes=50, n_iter_no_change=15,\n",
              "                              validation_fraction=0.2)"
            ]
          },
          "metadata": {},
          "execution_count": 245
        }
      ]
    },
    {
      "cell_type": "code",
      "source": [
        "r2_score(train_y, hgbr.predict(train_X))"
      ],
      "metadata": {
        "colab": {
          "base_uri": "https://localhost:8080/"
        },
        "id": "T5KRJ5toefao",
        "outputId": "e2a10e83-a25d-4d5a-bc01-9db0a6091c6c"
      },
      "execution_count": 246,
      "outputs": [
        {
          "output_type": "execute_result",
          "data": {
            "text/plain": [
              "0.3719669142771279"
            ]
          },
          "metadata": {},
          "execution_count": 246
        }
      ]
    },
    {
      "cell_type": "code",
      "source": [
        "ret_metrics(hgbr, train_X, train_y)"
      ],
      "metadata": {
        "colab": {
          "base_uri": "https://localhost:8080/"
        },
        "id": "meS1OEnEefe-",
        "outputId": "e14d1cd6-efd7-4c76-bd0a-9e88ab9a894a"
      },
      "execution_count": 247,
      "outputs": [
        {
          "output_type": "execute_result",
          "data": {
            "text/plain": [
              "(1.2783689507119138, 3.588058181865228, 1.8942170366315545)"
            ]
          },
          "metadata": {},
          "execution_count": 247
        }
      ]
    },
    {
      "cell_type": "code",
      "source": [
        "results_dict['model'].append(hgbr)\n",
        "results_dict['r2'].append(r2_score(train_y, hgbr.predict(train_X)))\n",
        "a, s, rs = ret_metrics(hgbr, train_X, train_y)\n",
        "results_dict['mae'].append(a), results_dict['mse'].append(s), results_dict['rmse'].append(rs)"
      ],
      "metadata": {
        "colab": {
          "base_uri": "https://localhost:8080/"
        },
        "id": "js1w5ZDcefhm",
        "outputId": "5582e58c-8019-49bd-8140-c8c889ce0bcb"
      },
      "execution_count": 248,
      "outputs": [
        {
          "output_type": "execute_result",
          "data": {
            "text/plain": [
              "(None, None, None)"
            ]
          },
          "metadata": {},
          "execution_count": 248
        }
      ]
    },
    {
      "cell_type": "code",
      "source": [
        "pd.DataFrame(results_dict).to_csv(\"model_results.csv\", index=False)"
      ],
      "metadata": {
        "id": "fxJTfQZQ7_xb"
      },
      "execution_count": 253,
      "outputs": []
    },
    {
      "cell_type": "markdown",
      "source": [
        "SVR \n",
        "\n",
        "Note: Training the model training takes over 1.5hrs for higher degree polynomials. We observed that, even for lower degrees, the improvement in the metrics was only as good as the dummy regressor."
      ],
      "metadata": {
        "id": "4sFitskcbs3A"
      }
    },
    {
      "cell_type": "code",
      "source": [
        "# svr = SVR(C=1, kernel='poly', degree=5)\n",
        "# svr.fit(train_X, train_y)"
      ],
      "metadata": {
        "id": "RaYHcQiIbvv1"
      },
      "execution_count": null,
      "outputs": []
    },
    {
      "cell_type": "code",
      "source": [
        "# r2_score(train_y, svr.predict(train_X))"
      ],
      "metadata": {
        "id": "UkwsTTHKbv08"
      },
      "execution_count": 2,
      "outputs": []
    },
    {
      "cell_type": "code",
      "source": [
        "# ret_metrics(svr, train_X, train_y)"
      ],
      "metadata": {
        "colab": {
          "base_uri": "https://localhost:8080/"
        },
        "id": "Ir-dOAwubv5g",
        "outputId": "8059a043-4a08-4d18-b90a-eab8bfaeeb4f"
      },
      "execution_count": 256,
      "outputs": [
        {
          "output_type": "execute_result",
          "data": {
            "text/plain": [
              "(1.4983474088910396, 4.767138075398757, 2.1833776758496817)"
            ]
          },
          "metadata": {},
          "execution_count": 256
        }
      ]
    },
    {
      "cell_type": "code",
      "source": [
        "# results_dict['model'].append(svr)\n",
        "# results_dict['r2'].append(r2_score(train_y, svr.predict(train_X)))\n",
        "# a, s, rs = ret_metrics(svr, train_X, train_y)\n",
        "# results_dict['mae'].append(a), results_dict['mse'].append(s), results_dict['rmse'].append(rs)"
      ],
      "metadata": {
        "id": "SRHeD-crKWT-"
      },
      "execution_count": null,
      "outputs": []
    },
    {
      "cell_type": "markdown",
      "source": [
        "**####################This notebook ends here####################**\n",
        "\n",
        "### Model Modeling Phase 2/2:\n",
        "The purpose of the next notebook will be to:\n",
        "- pick the top 3 best performing models across different families of algorithms.\n",
        "- Compare the top 3 to their own default versions to document performance improvements.\n",
        "- Identifying best/worst performing feature choices across all the chosen models."
      ],
      "metadata": {
        "id": "34mYycfUJfog"
      }
    },
    {
      "cell_type": "code",
      "source": [],
      "metadata": {
        "id": "wuj6jYFlb8V2"
      },
      "execution_count": null,
      "outputs": []
    },
    {
      "cell_type": "code",
      "source": [],
      "metadata": {
        "id": "hShuVbDxJtew"
      },
      "execution_count": null,
      "outputs": []
    },
    {
      "cell_type": "code",
      "source": [],
      "metadata": {
        "id": "uscf7xibJtjh"
      },
      "execution_count": null,
      "outputs": []
    },
    {
      "cell_type": "code",
      "source": [],
      "metadata": {
        "id": "F0fHcC2YJtn9"
      },
      "execution_count": null,
      "outputs": []
    },
    {
      "cell_type": "code",
      "source": [],
      "metadata": {
        "id": "l9mM6TvdJtsd"
      },
      "execution_count": null,
      "outputs": []
    },
    {
      "cell_type": "code",
      "source": [],
      "metadata": {
        "id": "2KBaJC9kJtvD"
      },
      "execution_count": null,
      "outputs": []
    },
    {
      "cell_type": "code",
      "source": [],
      "metadata": {
        "id": "klK_E3tOJtxw"
      },
      "execution_count": null,
      "outputs": []
    },
    {
      "cell_type": "code",
      "source": [],
      "metadata": {
        "id": "DVxl5i4vJt0M"
      },
      "execution_count": null,
      "outputs": []
    },
    {
      "cell_type": "code",
      "source": [],
      "metadata": {
        "id": "R0ZIckp-Jt5B"
      },
      "execution_count": null,
      "outputs": []
    },
    {
      "cell_type": "code",
      "source": [],
      "metadata": {
        "id": "8gWI5MJpb8nL"
      },
      "execution_count": null,
      "outputs": []
    },
    {
      "cell_type": "markdown",
      "metadata": {
        "id": "JHeuj4qDxC4F"
      },
      "source": [
        "- In the exploratory phase we saw that the variance captured by the first 10 PCA components was close to 80% which leads to the idea that the underlying data might be non-linear in nature.\n",
        "- Our goal thus becomes to make help address this if we are making use of linear models like linear regression. \n",
        "- We will make use of polynomial features for the non-word-vector fields. \n",
        "- The next step to achieve the above goal would be to find the optimal number of polynomial features that help improve model results."
      ]
    },
    {
      "cell_type": "code",
      "execution_count": null,
      "metadata": {
        "id": "hBOu9b6gyANi"
      },
      "outputs": [],
      "source": []
    },
    {
      "cell_type": "code",
      "execution_count": null,
      "metadata": {
        "id": "rSuB-kbHyAQh"
      },
      "outputs": [],
      "source": []
    },
    {
      "cell_type": "code",
      "execution_count": null,
      "metadata": {
        "id": "aMl1kOXRyATQ"
      },
      "outputs": [],
      "source": []
    },
    {
      "cell_type": "code",
      "execution_count": null,
      "metadata": {
        "id": "RSEmnbigyAYD"
      },
      "outputs": [],
      "source": []
    },
    {
      "cell_type": "code",
      "execution_count": null,
      "metadata": {
        "id": "NlLGOMgvKvrP"
      },
      "outputs": [],
      "source": [
        "# lr_pipeline = Pipeline([('create_dataset', FunctionTransformer(create_train_dataset)),\n",
        "#           ('ohe', OneHotEncoder(handle_unknown='ignore')),\n",
        "#           ('scale',MaxAbsScaler()),\n",
        "#           ('lr', LinearRegression())]) "
      ]
    },
    {
      "cell_type": "code",
      "execution_count": null,
      "metadata": {
        "id": "l4ZWbqGoKvvU"
      },
      "outputs": [],
      "source": [
        "# lr_pipeline.fit(data_train, target)"
      ]
    },
    {
      "cell_type": "code",
      "execution_count": null,
      "metadata": {
        "id": "6-PplwB7Rm3t"
      },
      "outputs": [],
      "source": [
        "# filename = 'model.sav'\n",
        "# pickle.dump(lr_pipeline, open(filename, 'wb'))"
      ]
    },
    {
      "cell_type": "markdown",
      "metadata": {
        "id": "Np0kuJYlSdEK"
      },
      "source": [
        "Streamlit code starts from here"
      ]
    },
    {
      "cell_type": "code",
      "execution_count": null,
      "metadata": {
        "id": "sIUdMFKgR8kt"
      },
      "outputs": [],
      "source": [
        "# loaded_model = pickle.load(open(filename, 'rb'))\n",
        "# loaded_model.score(data_test, test_target)"
      ]
    },
    {
      "cell_type": "code",
      "execution_count": null,
      "metadata": {
        "id": "R_BVlWA9Kv1u"
      },
      "outputs": [],
      "source": [
        "# title = \"love is in the air\"\n",
        "# duration = int(\"10000\")\n",
        "# publishedAt = datetime.datetime.now()\n",
        "# definition = \"hd\"\n",
        "# topicLabel = \"Music\""
      ]
    },
    {
      "cell_type": "code",
      "execution_count": null,
      "metadata": {
        "id": "-_rqni4HNVj8"
      },
      "outputs": [],
      "source": [
        "# featureset = [\"title\", \"duration\", \"publishedAt\", \"definition\", \"topicLabel\"]"
      ]
    },
    {
      "cell_type": "code",
      "execution_count": null,
      "metadata": {
        "id": "g_tsTtXGNVoY"
      },
      "outputs": [],
      "source": [
        "# user_ip = pd.DataFrame([[title, duration, publishedAt, definition, topicLabel]], columns=featureset)\n",
        "# user_ip"
      ]
    },
    {
      "cell_type": "code",
      "execution_count": null,
      "metadata": {
        "id": "IlUG9bsENVsU"
      },
      "outputs": [],
      "source": [
        "# loaded_model.predict(user_ip)[0]"
      ]
    },
    {
      "cell_type": "code",
      "execution_count": null,
      "metadata": {
        "id": "_CPZuvR5N5qs"
      },
      "outputs": [],
      "source": []
    },
    {
      "cell_type": "code",
      "execution_count": null,
      "metadata": {
        "id": "AS_23f8XN5ub"
      },
      "outputs": [],
      "source": []
    },
    {
      "cell_type": "code",
      "execution_count": null,
      "metadata": {
        "id": "TTB7gMhEN5yf"
      },
      "outputs": [],
      "source": []
    },
    {
      "cell_type": "code",
      "execution_count": null,
      "metadata": {
        "id": "3QBk88hSN52b"
      },
      "outputs": [],
      "source": []
    },
    {
      "cell_type": "markdown",
      "metadata": {
        "id": "KlG-mySQlRTp"
      },
      "source": [
        "user will input:\n",
        "- title (needs more than 1conversion)\n",
        "- duration_secs (needs conversion)\n",
        "- publishedAt(convert to publishedDayNum\n",
        "- len_title (use title)"
      ]
    },
    {
      "cell_type": "code",
      "execution_count": null,
      "metadata": {
        "colab": {
          "base_uri": "https://localhost:8080/"
        },
        "id": "LT6SKkOItV1C",
        "outputId": "b120594d-be69-4f63-c13c-a76a2269b49d"
      },
      "outputs": [
        {
          "data": {
            "text/plain": [
              "Index(['title', 'description', 'channelTitle', 'categoryId', 'viewCount',\n",
              "       'avg_viewCount', 'likeCount', 'commentCount', 'duration_secs',\n",
              "       'log_duration_secs', 'definition', 'topicCategories', 'publishedDayNum',\n",
              "       'publishedDayDelta', 'len_title', 'topicLabel', 'score', 'channelName',\n",
              "       'ov_viewCount', 'ov_subscriberCount', 'ov_videoCount'],\n",
              "      dtype='object')"
            ]
          },
          "execution_count": 51,
          "metadata": {},
          "output_type": "execute_result"
        }
      ],
      "source": [
        "# df.columns"
      ]
    },
    {
      "cell_type": "code",
      "source": [],
      "metadata": {
        "id": "86Wmwuv2oMLA"
      },
      "execution_count": null,
      "outputs": []
    },
    {
      "cell_type": "code",
      "execution_count": null,
      "metadata": {
        "id": "cOWg9GB-lw8a"
      },
      "outputs": [],
      "source": [
        "import pickle\n",
        "filename = 'en_model.sav'\n",
        "pickle.dump(model, open(filename, 'wb'))"
      ]
    }
  ],
  "metadata": {
    "colab": {
      "collapsed_sections": [],
      "provenance": [],
      "authorship_tag": "ABX9TyO1freK1UCLDOReZ8VO/asH",
      "include_colab_link": true
    },
    "kernelspec": {
      "display_name": "Python 3",
      "name": "python3"
    },
    "language_info": {
      "name": "python"
    }
  },
  "nbformat": 4,
  "nbformat_minor": 0
}