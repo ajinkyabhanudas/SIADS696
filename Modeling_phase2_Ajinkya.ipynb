{
  "nbformat": 4,
  "nbformat_minor": 0,
  "metadata": {
    "colab": {
      "provenance": [],
      "collapsed_sections": [],
      "authorship_tag": "ABX9TyMf/UxCnSgqGWAsY+KL4+M4",
      "include_colab_link": true
    },
    "kernelspec": {
      "name": "python3",
      "display_name": "Python 3"
    },
    "language_info": {
      "name": "python"
    }
  },
  "cells": [
    {
      "cell_type": "markdown",
      "metadata": {
        "id": "view-in-github",
        "colab_type": "text"
      },
      "source": [
        "<a href=\"https://colab.research.google.com/github/ajinkyabhanudas/SIADS696/blob/dev/Modeling_phase2_Ajinkya.ipynb\" target=\"_parent\"><img src=\"https://colab.research.google.com/assets/colab-badge.svg\" alt=\"Open In Colab\"/></a>"
      ]
    },
    {
      "cell_type": "markdown",
      "source": [
        "# Modeling\n",
        "### (This notebook) Model Modeling Phase 2/2:\n",
        "The purpose of the next notebook will be to:\n",
        "- pick the top 3 best performing models across different families of algorithms.\n",
        "- Compare the top 3 to their own default versions to document performance improvements.\n",
        "- Identifying best/worst performing feature choices across all the chosen models."
      ],
      "metadata": {
        "id": "-2jW9TkkMRqQ"
      }
    },
    {
      "cell_type": "code",
      "source": [
        "# !git clone https://github.com/ajinkyabhanudas/SIADS696.git\n",
        "!pip install gensim==4.1.2"
      ],
      "metadata": {
        "colab": {
          "base_uri": "https://localhost:8080/"
        },
        "id": "rIpixZe7MST9",
        "outputId": "9be773fd-adde-4e8d-d6ef-6475ec91ca86"
      },
      "execution_count": 1,
      "outputs": [
        {
          "output_type": "stream",
          "name": "stdout",
          "text": [
            "Looking in indexes: https://pypi.org/simple, https://us-python.pkg.dev/colab-wheels/public/simple/\n",
            "Collecting gensim==4.1.2\n",
            "  Downloading gensim-4.1.2-cp37-cp37m-manylinux_2_12_x86_64.manylinux2010_x86_64.whl (24.1 MB)\n",
            "\u001b[K     |████████████████████████████████| 24.1 MB 53.6 MB/s \n",
            "\u001b[?25hRequirement already satisfied: numpy>=1.17.0 in /usr/local/lib/python3.7/dist-packages (from gensim==4.1.2) (1.21.6)\n",
            "Requirement already satisfied: scipy>=0.18.1 in /usr/local/lib/python3.7/dist-packages (from gensim==4.1.2) (1.7.3)\n",
            "Requirement already satisfied: smart-open>=1.8.1 in /usr/local/lib/python3.7/dist-packages (from gensim==4.1.2) (5.2.1)\n",
            "Installing collected packages: gensim\n",
            "  Attempting uninstall: gensim\n",
            "    Found existing installation: gensim 3.6.0\n",
            "    Uninstalling gensim-3.6.0:\n",
            "      Successfully uninstalled gensim-3.6.0\n",
            "Successfully installed gensim-4.1.2\n"
          ]
        }
      ]
    },
    {
      "cell_type": "code",
      "source": [
        "!gdown 1PTaSiunxWhwkHxKf5v4G3oPbAXzvGqKN \n",
        "!gdown 1v8rbzAcb_cAw7kwShlGyEuAUw2Ja006N \n",
        "!gdown 1porOGWPwFdydbXbQQmveCPvAT1lvO8RC\n",
        "!gdown 12uI3sXRLJzEwPx05D7tZD5g7DRAcAcFs\n",
        "\n",
        "!gdown 1kC-qXhqYub06eleoXyt8lOMUnpjwBhVv"
      ],
      "metadata": {
        "colab": {
          "base_uri": "https://localhost:8080/"
        },
        "id": "EvmEgqflW5GA",
        "outputId": "02e975a2-0ee4-47e7-e31f-2d7537c1191a"
      },
      "execution_count": 17,
      "outputs": [
        {
          "output_type": "stream",
          "name": "stdout",
          "text": [
            "Downloading...\n",
            "From: https://drive.google.com/uc?id=1PTaSiunxWhwkHxKf5v4G3oPbAXzvGqKN\n",
            "To: /content/train_X.csv\n",
            "100% 39.6M/39.6M [00:00<00:00, 71.6MB/s]\n",
            "Downloading...\n",
            "From: https://drive.google.com/uc?id=1v8rbzAcb_cAw7kwShlGyEuAUw2Ja006N\n",
            "To: /content/train_y.csv\n",
            "100% 733k/733k [00:00<00:00, 103MB/s]\n",
            "Downloading...\n",
            "From: https://drive.google.com/uc?id=1porOGWPwFdydbXbQQmveCPvAT1lvO8RC\n",
            "To: /content/test_X.csv\n",
            "100% 9.92M/9.92M [00:00<00:00, 24.4MB/s]\n",
            "Downloading...\n",
            "From: https://drive.google.com/uc?id=12uI3sXRLJzEwPx05D7tZD5g7DRAcAcFs\n",
            "To: /content/test_y.csv\n",
            "100% 183k/183k [00:00<00:00, 73.2MB/s]\n",
            "Downloading...\n",
            "From: https://drive.google.com/uc?id=1kC-qXhqYub06eleoXyt8lOMUnpjwBhVv\n",
            "To: /content/model_results.csv\n",
            "100% 940/940 [00:00<00:00, 1.47MB/s]\n"
          ]
        }
      ]
    },
    {
      "cell_type": "code",
      "source": [
        "import datetime\n",
        "import enum\n",
        "import glob\n",
        "import json\n",
        "import os\n",
        "import re\n",
        "from itertools import groupby\n",
        "\n",
        "from gensim.models import Word2Vec\n",
        "import matplotlib.pyplot as plt\n",
        "from matplotlib import ticker\n",
        "\n",
        "import nltk\n",
        "from nltk.corpus import stopwords\n",
        "import numpy as np\n",
        "import pandas as pd\n",
        "import pickle\n",
        "\n",
        "import warnings\n",
        "warnings.simplefilter(action='ignore')"
      ],
      "metadata": {
        "id": "wU3_4QVqjeIV"
      },
      "execution_count": 9,
      "outputs": []
    },
    {
      "cell_type": "code",
      "source": [
        "from sklearn.manifold import TSNE, MDS\n",
        "from sklearn.cluster import DBSCAN\n",
        "\n",
        "from sklearn.model_selection import train_test_split\n",
        "from sklearn.preprocessing import StandardScaler, MinMaxScaler, MaxAbsScaler\n",
        "from sklearn.preprocessing import FunctionTransformer, PolynomialFeatures, OneHotEncoder\n",
        "from sklearn.decomposition import PCA\n",
        "\n",
        "from sklearn.pipeline import Pipeline\n",
        "from sklearn.compose import ColumnTransformer"
      ],
      "metadata": {
        "id": "PXDnrVcBbxi3"
      },
      "execution_count": 10,
      "outputs": []
    },
    {
      "cell_type": "code",
      "source": [
        "from sklearn.linear_model import LinearRegression, Ridge, Lasso, ElasticNet\n",
        "from sklearn.linear_model import RANSACRegressor, TheilSenRegressor, SGDRegressor\n",
        "from sklearn.dummy import DummyRegressor\n",
        "from sklearn.svm import SVR\n",
        "from sklearn.tree import DecisionTreeRegressor\n",
        "from sklearn.ensemble import RandomForestRegressor, HistGradientBoostingRegressor\n",
        "from sklearn.metrics import r2_score\n",
        "\n",
        "from sklearn import metrics\n",
        "from sklearn.model_selection import cross_val_score, cross_validate, GridSearchCV"
      ],
      "metadata": {
        "id": "EnasYW3YnGc9"
      },
      "execution_count": 11,
      "outputs": []
    },
    {
      "cell_type": "code",
      "source": [
        "from sklearn.linear_model import LinearRegression, Ridge, Lasso, ElasticNet\n",
        "from sklearn.dummy import DummyRegressor\n",
        "from sklearn.svm import SVR\n",
        "from sklearn.tree import DecisionTreeRegressor\n",
        "from sklearn.preprocessing import PolynomialFeatures\n",
        "from sklearn.inspection import permutation_importance\n",
        "\n",
        "\n",
        "from sklearn import metrics\n",
        "from sklearn.model_selection import cross_val_score\n",
        "from sklearn.model_selection import cross_validate\n",
        "from sklearn.model_selection import GridSearchCV"
      ],
      "metadata": {
        "id": "Neo8ahsDnLHS"
      },
      "execution_count": 133,
      "outputs": []
    },
    {
      "cell_type": "code",
      "source": [
        "import gensim.downloader\n",
        "glove_wv = gensim.downloader.load('glove-wiki-gigaword-50')\n",
        "\n",
        "nltk.download('punkt')\n",
        "nltk.download('stopwords')"
      ],
      "metadata": {
        "colab": {
          "base_uri": "https://localhost:8080/"
        },
        "id": "KKBI7v_PnOAW",
        "outputId": "ceb3ac73-8a2f-468a-9864-ed1429687bfd"
      },
      "execution_count": 13,
      "outputs": [
        {
          "output_type": "stream",
          "name": "stdout",
          "text": [
            "[==================================================] 100.0% 66.0/66.0MB downloaded\n"
          ]
        },
        {
          "output_type": "stream",
          "name": "stderr",
          "text": [
            "[nltk_data] Downloading package punkt to /root/nltk_data...\n",
            "[nltk_data]   Unzipping tokenizers/punkt.zip.\n",
            "[nltk_data] Downloading package stopwords to /root/nltk_data...\n",
            "[nltk_data]   Unzipping corpora/stopwords.zip.\n"
          ]
        },
        {
          "output_type": "execute_result",
          "data": {
            "text/plain": [
              "True"
            ]
          },
          "metadata": {},
          "execution_count": 13
        }
      ]
    },
    {
      "cell_type": "code",
      "source": [
        "train_X = pd.read_csv(\"train_X.csv\")\n",
        "train_y = pd.read_csv(\"train_y.csv\")\n",
        "\n",
        "test_X = pd.read_csv(\"test_X.csv\")\n",
        "test_y = pd.read_csv(\"test_y.csv\")\n",
        "\n",
        "model_results  = pd.read_csv(\"model_results.csv\")"
      ],
      "metadata": {
        "id": "NIDZESOUTpe7"
      },
      "execution_count": 40,
      "outputs": []
    },
    {
      "cell_type": "code",
      "source": [
        "def ret_metrics(model, test_X=test_X, test_y=test_y):\n",
        "\n",
        "  pred = model.predict(test_X)\n",
        "  mae = metrics.mean_absolute_error(test_y, pred)\n",
        "  mse = metrics.mean_squared_error(test_y, pred)\n",
        "  rmse = np.sqrt(mse)\n",
        "\n",
        "  return(mae, mse, rmse)\n",
        "\n",
        "def model_train(model, parameters=None, train_X=train_X):\n",
        "  \n",
        "  if parameters:\n",
        "    model = GridSearchCV(model, parameters, cv=3)\n",
        "  \n",
        "  model.fit(train_X, train_y)\n",
        "\n",
        "  return(model)"
      ],
      "metadata": {
        "id": "6C1H9UAFzzw5"
      },
      "execution_count": 59,
      "outputs": []
    },
    {
      "cell_type": "code",
      "source": [
        "model_names = ['dummy_regressor', 'linear_regressor', 'sgd_regressor',\n",
        "               'elasticnet', 'decision_tree', 'random_forest',\n",
        "               'hist_grad_boosting']\n",
        "model_names_dict = {k:v for v, k in zip(model_names, model_results.model)}"
      ],
      "metadata": {
        "id": "iN3QCDQVrJ3C"
      },
      "execution_count": 41,
      "outputs": []
    },
    {
      "cell_type": "code",
      "source": [
        "view_res_df = model_results.copy()\n",
        "view_res_df['model'] = view_res_df.model.map(model_names_dict)\n",
        "view_res_df#style.background_gradient().set_precision(4)"
      ],
      "metadata": {
        "colab": {
          "base_uri": "https://localhost:8080/",
          "height": 266
        },
        "id": "VR_4YBmMYUb5",
        "outputId": "8c0ecae1-0861-413c-e3ed-14910bf9e55c"
      },
      "execution_count": 42,
      "outputs": [
        {
          "output_type": "execute_result",
          "data": {
            "text/plain": [
              "<pandas.io.formats.style.Styler at 0x7f13af23ec10>"
            ],
            "text/html": [
              "<style type=\"text/css\">\n",
              "#T_392ea_row0_col1, #T_392ea_row0_col2, #T_392ea_row0_col3, #T_392ea_row0_col4, #T_392ea_row1_col1, #T_392ea_row3_col1, #T_392ea_row4_col1, #T_392ea_row5_col1, #T_392ea_row6_col1 {\n",
              "  background-color: #023858;\n",
              "  color: #f1f1f1;\n",
              "}\n",
              "#T_392ea_row1_col2, #T_392ea_row2_col2 {\n",
              "  background-color: #056dac;\n",
              "  color: #f1f1f1;\n",
              "}\n",
              "#T_392ea_row1_col3, #T_392ea_row2_col3 {\n",
              "  background-color: #167bb6;\n",
              "  color: #f1f1f1;\n",
              "}\n",
              "#T_392ea_row1_col4, #T_392ea_row2_col4 {\n",
              "  background-color: #0f76b3;\n",
              "  color: #f1f1f1;\n",
              "}\n",
              "#T_392ea_row2_col1, #T_392ea_row6_col2, #T_392ea_row6_col3, #T_392ea_row6_col4 {\n",
              "  background-color: #fff7fb;\n",
              "  color: #000000;\n",
              "}\n",
              "#T_392ea_row3_col2 {\n",
              "  background-color: #046096;\n",
              "  color: #f1f1f1;\n",
              "}\n",
              "#T_392ea_row3_col3 {\n",
              "  background-color: #0568a3;\n",
              "  color: #f1f1f1;\n",
              "}\n",
              "#T_392ea_row3_col4 {\n",
              "  background-color: #04649e;\n",
              "  color: #f1f1f1;\n",
              "}\n",
              "#T_392ea_row4_col2, #T_392ea_row4_col3 {\n",
              "  background-color: #e0deed;\n",
              "  color: #000000;\n",
              "}\n",
              "#T_392ea_row4_col4 {\n",
              "  background-color: #dddbec;\n",
              "  color: #000000;\n",
              "}\n",
              "#T_392ea_row5_col2 {\n",
              "  background-color: #d7d6e9;\n",
              "  color: #000000;\n",
              "}\n",
              "#T_392ea_row5_col3 {\n",
              "  background-color: #efe9f3;\n",
              "  color: #000000;\n",
              "}\n",
              "#T_392ea_row5_col4 {\n",
              "  background-color: #ede8f3;\n",
              "  color: #000000;\n",
              "}\n",
              "</style>\n",
              "<table id=\"T_392ea_\" class=\"dataframe\">\n",
              "  <thead>\n",
              "    <tr>\n",
              "      <th class=\"blank level0\" >&nbsp;</th>\n",
              "      <th class=\"col_heading level0 col0\" >model</th>\n",
              "      <th class=\"col_heading level0 col1\" >r2</th>\n",
              "      <th class=\"col_heading level0 col2\" >mae</th>\n",
              "      <th class=\"col_heading level0 col3\" >mse</th>\n",
              "      <th class=\"col_heading level0 col4\" >rmse</th>\n",
              "    </tr>\n",
              "  </thead>\n",
              "  <tbody>\n",
              "    <tr>\n",
              "      <th id=\"T_392ea_level0_row0\" class=\"row_heading level0 row0\" >0</th>\n",
              "      <td id=\"T_392ea_row0_col0\" class=\"data row0 col0\" >dummy_regressor</td>\n",
              "      <td id=\"T_392ea_row0_col1\" class=\"data row0 col1\" >-0.0000</td>\n",
              "      <td id=\"T_392ea_row0_col2\" class=\"data row0 col2\" >1.6238</td>\n",
              "      <td id=\"T_392ea_row0_col3\" class=\"data row0 col3\" >5.5187</td>\n",
              "      <td id=\"T_392ea_row0_col4\" class=\"data row0 col4\" >2.3492</td>\n",
              "    </tr>\n",
              "    <tr>\n",
              "      <th id=\"T_392ea_level0_row1\" class=\"row_heading level0 row1\" >1</th>\n",
              "      <td id=\"T_392ea_row1_col0\" class=\"data row1 col0\" >linear_regressor</td>\n",
              "      <td id=\"T_392ea_row1_col1\" class=\"data row1 col1\" >0.1033</td>\n",
              "      <td id=\"T_392ea_row1_col2\" class=\"data row1 col2\" >1.5427</td>\n",
              "      <td id=\"T_392ea_row1_col3\" class=\"data row1 col3\" >4.9488</td>\n",
              "      <td id=\"T_392ea_row1_col4\" class=\"data row1 col4\" >2.2246</td>\n",
              "    </tr>\n",
              "    <tr>\n",
              "      <th id=\"T_392ea_level0_row2\" class=\"row_heading level0 row2\" >2</th>\n",
              "      <td id=\"T_392ea_row2_col0\" class=\"data row2 col0\" >sgd_regressor</td>\n",
              "      <td id=\"T_392ea_row2_col1\" class=\"data row2 col1\" >-116769122108642481405952.0000</td>\n",
              "      <td id=\"T_392ea_row2_col2\" class=\"data row2 col2\" >1.5427</td>\n",
              "      <td id=\"T_392ea_row2_col3\" class=\"data row2 col3\" >4.9488</td>\n",
              "      <td id=\"T_392ea_row2_col4\" class=\"data row2 col4\" >2.2246</td>\n",
              "    </tr>\n",
              "    <tr>\n",
              "      <th id=\"T_392ea_level0_row3\" class=\"row_heading level0 row3\" >3</th>\n",
              "      <td id=\"T_392ea_row3_col0\" class=\"data row3 col0\" >elasticnet</td>\n",
              "      <td id=\"T_392ea_row3_col1\" class=\"data row3 col1\" >0.0713</td>\n",
              "      <td id=\"T_392ea_row3_col2\" class=\"data row3 col2\" >1.5690</td>\n",
              "      <td id=\"T_392ea_row3_col3\" class=\"data row3 col3\" >5.1255</td>\n",
              "      <td id=\"T_392ea_row3_col4\" class=\"data row3 col4\" >2.2640</td>\n",
              "    </tr>\n",
              "    <tr>\n",
              "      <th id=\"T_392ea_level0_row4\" class=\"row_heading level0 row4\" >4</th>\n",
              "      <td id=\"T_392ea_row4_col0\" class=\"data row4 col0\" >decision_tree</td>\n",
              "      <td id=\"T_392ea_row4_col1\" class=\"data row4 col1\" >0.2876</td>\n",
              "      <td id=\"T_392ea_row4_col2\" class=\"data row4 col2\" >1.3394</td>\n",
              "      <td id=\"T_392ea_row4_col3\" class=\"data row4 col3\" >3.9314</td>\n",
              "      <td id=\"T_392ea_row4_col4\" class=\"data row4 col4\" >1.9828</td>\n",
              "    </tr>\n",
              "    <tr>\n",
              "      <th id=\"T_392ea_level0_row5\" class=\"row_heading level0 row5\" >5</th>\n",
              "      <td id=\"T_392ea_row5_col0\" class=\"data row5 col0\" >random_forest</td>\n",
              "      <td id=\"T_392ea_row5_col1\" class=\"data row5 col1\" >0.3118</td>\n",
              "      <td id=\"T_392ea_row5_col2\" class=\"data row5 col2\" >1.3540</td>\n",
              "      <td id=\"T_392ea_row5_col3\" class=\"data row5 col3\" >3.7980</td>\n",
              "      <td id=\"T_392ea_row5_col4\" class=\"data row5 col4\" >1.9489</td>\n",
              "    </tr>\n",
              "    <tr>\n",
              "      <th id=\"T_392ea_level0_row6\" class=\"row_heading level0 row6\" >6</th>\n",
              "      <td id=\"T_392ea_row6_col0\" class=\"data row6 col0\" >hist_grad_boosting</td>\n",
              "      <td id=\"T_392ea_row6_col1\" class=\"data row6 col1\" >0.3720</td>\n",
              "      <td id=\"T_392ea_row6_col2\" class=\"data row6 col2\" >1.2784</td>\n",
              "      <td id=\"T_392ea_row6_col3\" class=\"data row6 col3\" >3.5881</td>\n",
              "      <td id=\"T_392ea_row6_col4\" class=\"data row6 col4\" >1.8942</td>\n",
              "    </tr>\n",
              "  </tbody>\n",
              "</table>\n"
            ]
          },
          "metadata": {},
          "execution_count": 42
        }
      ]
    },
    {
      "cell_type": "code",
      "source": [
        "model_results = model_results.sort_values(['r2', 'mae', 'rmse'], ascending=[False, True, True])"
      ],
      "metadata": {
        "id": "O2aqmJCRwHLL"
      },
      "execution_count": 49,
      "outputs": []
    },
    {
      "cell_type": "code",
      "source": [
        "model_results.iloc[1].model ##.model[:2].values"
      ],
      "metadata": {
        "colab": {
          "base_uri": "https://localhost:8080/",
          "height": 54
        },
        "id": "XCpJoJv4X46L",
        "outputId": "742215d2-bb58-4430-9d05-5ef91a68afd3"
      },
      "execution_count": 78,
      "outputs": [
        {
          "output_type": "execute_result",
          "data": {
            "text/plain": [
              "'HistGradientBoostingRegressor(l2_regularization=0.2, max_depth=10,\\n                              max_leaf_nodes=50, n_iter_no_change=15,\\n                              validation_fraction=0.2)'"
            ],
            "application/vnd.google.colaboratory.intrinsic+json": {
              "type": "string"
            }
          },
          "metadata": {},
          "execution_count": 78
        }
      ]
    },
    {
      "cell_type": "markdown",
      "source": [
        "We'll be taking our final model analysis further with these top 2 models.\n",
        "Before we get there, Even though we benchmarked the need for higher degree polynomials, let's quickly do a valdiation against their counterparts with degree 1."
      ],
      "metadata": {
        "id": "Urn5Qp9ZxBOY"
      }
    },
    {
      "cell_type": "markdown",
      "source": [
        "### Validating the need for degree 1,5,15 polynomials"
      ],
      "metadata": {
        "id": "_XOjITtpyHMV"
      }
    },
    {
      "cell_type": "code",
      "source": [
        "ct = ColumnTransformer(\n",
        "    [(\"ohe\", OneHotEncoder(handle_unknown='ignore'), [\"definition\", \"topicLabel\"]),\n",
        "    (\"poly\", PolynomialFeatures(15),[\"publishedDayNum\",\t\"log_duration_secs\", \"len_title\"]),\n",
        "    ], remainder=\"passthrough\")\n",
        "\n",
        "train_X15 = ct.fit_transform(train_X)\n",
        "test_X15 = ct.transform(test_X)\n",
        "\n",
        "mms = StandardScaler()\n",
        "train_X15 = mms.fit_transform(train_X15)\n",
        "test_X15 = mms.transform(test_X15)"
      ],
      "metadata": {
        "id": "0cUO8iEfM9wS"
      },
      "execution_count": 54,
      "outputs": []
    },
    {
      "cell_type": "code",
      "source": [
        "train_X15.shape"
      ],
      "metadata": {
        "colab": {
          "base_uri": "https://localhost:8080/"
        },
        "id": "5iHo_NtAM9y2",
        "outputId": "f6258fd3-3c55-4518-f08f-47eb9b376812"
      },
      "execution_count": 55,
      "outputs": [
        {
          "output_type": "execute_result",
          "data": {
            "text/plain": [
              "(38435, 879)"
            ]
          },
          "metadata": {},
          "execution_count": 55
        }
      ]
    },
    {
      "cell_type": "code",
      "source": [
        "ct = ColumnTransformer(\n",
        "    [(\"ohe\", OneHotEncoder(handle_unknown='ignore'), [\"definition\", \"topicLabel\"]),\n",
        "    (\"poly\", PolynomialFeatures(1),[\"publishedDayNum\",\t\"log_duration_secs\", \"len_title\"]),\n",
        "    ], remainder=\"passthrough\")\n",
        "\n",
        "train_X1 = ct.fit_transform(train_X)\n",
        "test_X1 = ct.transform(test_X)\n",
        "\n",
        "mms = StandardScaler()\n",
        "train_X1 = mms.fit_transform(train_X1)\n",
        "test_X1 = mms.transform(test_X1)"
      ],
      "metadata": {
        "id": "-i4e1vD2M91V"
      },
      "execution_count": 56,
      "outputs": []
    },
    {
      "cell_type": "code",
      "source": [
        "train_X1.shape"
      ],
      "metadata": {
        "colab": {
          "base_uri": "https://localhost:8080/"
        },
        "id": "UOwJHhKnM94F",
        "outputId": "d507e60c-9b58-4928-c89b-d3d0a1817496"
      },
      "execution_count": 57,
      "outputs": [
        {
          "output_type": "execute_result",
          "data": {
            "text/plain": [
              "(38435, 67)"
            ]
          },
          "metadata": {},
          "execution_count": 57
        }
      ]
    },
    {
      "cell_type": "code",
      "source": [
        "models = [DummyRegressor(), LinearRegression(),SGDRegressor(), ElasticNet(alpha=0, l1_ratio=0),\n",
        "          DecisionTreeRegressor(max_depth=10), RandomForestRegressor(max_depth=10, n_estimators=50, oob_score=True),\n",
        "          HistGradientBoostingRegressor(l2_regularization=0.2, max_depth=10, max_leaf_nodes=50, n_iter_no_change=15)]"
      ],
      "metadata": {
        "id": "1zQM53FE24Ag"
      },
      "execution_count": 79,
      "outputs": []
    },
    {
      "cell_type": "code",
      "source": [],
      "metadata": {
        "id": "Meu2R0ya0RH7"
      },
      "execution_count": 80,
      "outputs": []
    },
    {
      "cell_type": "code",
      "source": [
        "poly_features_mae = {'model':[], 'poly1_mae':[], 'poly15_mae':[]}\n",
        "poly_features_mse = {'model':[], 'poly1_mse':[], 'poly15_mse':[]}\n",
        "poly_features_rmse = {'model':[], 'poly1_rmse':[], 'poly15_rmse':[]}\n",
        "\n",
        "for model in models:\n",
        "  m1 = model\n",
        "  \n",
        "  m1.fit(train_X1, train_y)\n",
        "\n",
        "  poly_features_mae['model'].append(m1)\n",
        "  poly_features_mse['model'].append(m1)\n",
        "  poly_features_rmse['model'].append(m1)\n",
        "\n",
        "  a1, s1, rs1 = ret_metrics(m1, train_X1, train_y)\n",
        "\n",
        "  poly_features_mae['poly1_mae'].append(a1)\n",
        "  poly_features_mse['poly1_mse'].append(s1)\n",
        "  poly_features_rmse['poly1_rmse'].append(rs1)\n",
        "\n",
        "for model in models:\n",
        "  m15 = model\n",
        "  \n",
        "  m15.fit(train_X15, train_y)\n",
        "\n",
        "  a15, s15, rs15 = ret_metrics(m15, train_X15, train_y)\n",
        "  \n",
        "  poly_features_mae['poly15_mae'].append(a15)\n",
        "  poly_features_mse['poly15_mse'].append(s15)\n",
        "  poly_features_rmse['poly15_rmse'].append(rs15)\n",
        "\n",
        "\n"
      ],
      "metadata": {
        "id": "tl_XzuWM3tdC"
      },
      "execution_count": 83,
      "outputs": []
    },
    {
      "cell_type": "code",
      "source": [
        "pd.DataFrame(poly_features_mae).style.set_precision(4)"
      ],
      "metadata": {
        "colab": {
          "base_uri": "https://localhost:8080/",
          "height": 266
        },
        "id": "ATXBx193M-Jb",
        "outputId": "5996a319-e87d-402a-ad30-4132a268dae7"
      },
      "execution_count": 89,
      "outputs": [
        {
          "output_type": "execute_result",
          "data": {
            "text/plain": [
              "<pandas.io.formats.style.Styler at 0x7f13aba3d590>"
            ],
            "text/html": [
              "<style type=\"text/css\">\n",
              "</style>\n",
              "<table id=\"T_c8890_\" class=\"dataframe\">\n",
              "  <thead>\n",
              "    <tr>\n",
              "      <th class=\"blank level0\" >&nbsp;</th>\n",
              "      <th class=\"col_heading level0 col0\" >model</th>\n",
              "      <th class=\"col_heading level0 col1\" >poly1_mae</th>\n",
              "      <th class=\"col_heading level0 col2\" >poly15_mae</th>\n",
              "    </tr>\n",
              "  </thead>\n",
              "  <tbody>\n",
              "    <tr>\n",
              "      <th id=\"T_c8890_level0_row0\" class=\"row_heading level0 row0\" >0</th>\n",
              "      <td id=\"T_c8890_row0_col0\" class=\"data row0 col0\" >DummyRegressor()</td>\n",
              "      <td id=\"T_c8890_row0_col1\" class=\"data row0 col1\" >1.6631</td>\n",
              "      <td id=\"T_c8890_row0_col2\" class=\"data row0 col2\" >1.6631</td>\n",
              "    </tr>\n",
              "    <tr>\n",
              "      <th id=\"T_c8890_level0_row1\" class=\"row_heading level0 row1\" >1</th>\n",
              "      <td id=\"T_c8890_row1_col0\" class=\"data row1 col0\" >LinearRegression()</td>\n",
              "      <td id=\"T_c8890_row1_col1\" class=\"data row1 col1\" >1.6280</td>\n",
              "      <td id=\"T_c8890_row1_col2\" class=\"data row1 col2\" >1.5684</td>\n",
              "    </tr>\n",
              "    <tr>\n",
              "      <th id=\"T_c8890_level0_row2\" class=\"row_heading level0 row2\" >2</th>\n",
              "      <td id=\"T_c8890_row2_col0\" class=\"data row2 col0\" >SGDRegressor()</td>\n",
              "      <td id=\"T_c8890_row2_col1\" class=\"data row2 col1\" >625.5995</td>\n",
              "      <td id=\"T_c8890_row2_col2\" class=\"data row2 col2\" >139330113299.6570</td>\n",
              "    </tr>\n",
              "    <tr>\n",
              "      <th id=\"T_c8890_level0_row3\" class=\"row_heading level0 row3\" >3</th>\n",
              "      <td id=\"T_c8890_row3_col0\" class=\"data row3 col0\" >ElasticNet(alpha=0, l1_ratio=0)</td>\n",
              "      <td id=\"T_c8890_row3_col1\" class=\"data row3 col1\" >1.6261</td>\n",
              "      <td id=\"T_c8890_row3_col2\" class=\"data row3 col2\" >1.6049</td>\n",
              "    </tr>\n",
              "    <tr>\n",
              "      <th id=\"T_c8890_level0_row4\" class=\"row_heading level0 row4\" >4</th>\n",
              "      <td id=\"T_c8890_row4_col0\" class=\"data row4 col0\" >DecisionTreeRegressor(max_depth=10)</td>\n",
              "      <td id=\"T_c8890_row4_col1\" class=\"data row4 col1\" >1.4043</td>\n",
              "      <td id=\"T_c8890_row4_col2\" class=\"data row4 col2\" >1.3843</td>\n",
              "    </tr>\n",
              "    <tr>\n",
              "      <th id=\"T_c8890_level0_row5\" class=\"row_heading level0 row5\" >5</th>\n",
              "      <td id=\"T_c8890_row5_col0\" class=\"data row5 col0\" >RandomForestRegressor(max_depth=10, n_estimators=50, oob_score=True)</td>\n",
              "      <td id=\"T_c8890_row5_col1\" class=\"data row5 col1\" >1.3850</td>\n",
              "      <td id=\"T_c8890_row5_col2\" class=\"data row5 col2\" >1.3759</td>\n",
              "    </tr>\n",
              "    <tr>\n",
              "      <th id=\"T_c8890_level0_row6\" class=\"row_heading level0 row6\" >6</th>\n",
              "      <td id=\"T_c8890_row6_col0\" class=\"data row6 col0\" >HistGradientBoostingRegressor(l2_regularization=0.2, max_depth=10,\n",
              "                              max_leaf_nodes=50, n_iter_no_change=15)</td>\n",
              "      <td id=\"T_c8890_row6_col1\" class=\"data row6 col1\" >1.3131</td>\n",
              "      <td id=\"T_c8890_row6_col2\" class=\"data row6 col2\" >1.3128</td>\n",
              "    </tr>\n",
              "  </tbody>\n",
              "</table>\n"
            ]
          },
          "metadata": {},
          "execution_count": 89
        }
      ]
    },
    {
      "cell_type": "code",
      "source": [
        "pd.DataFrame(poly_features_mse).style.set_precision(4)"
      ],
      "metadata": {
        "colab": {
          "base_uri": "https://localhost:8080/",
          "height": 266
        },
        "id": "sO6thMgOM-L-",
        "outputId": "ead6de45-5ae4-42c7-a41b-063d75c67ee2"
      },
      "execution_count": 90,
      "outputs": [
        {
          "output_type": "execute_result",
          "data": {
            "text/plain": [
              "<pandas.io.formats.style.Styler at 0x7f13aba39590>"
            ],
            "text/html": [
              "<style type=\"text/css\">\n",
              "</style>\n",
              "<table id=\"T_a6108_\" class=\"dataframe\">\n",
              "  <thead>\n",
              "    <tr>\n",
              "      <th class=\"blank level0\" >&nbsp;</th>\n",
              "      <th class=\"col_heading level0 col0\" >model</th>\n",
              "      <th class=\"col_heading level0 col1\" >poly1_mse</th>\n",
              "      <th class=\"col_heading level0 col2\" >poly15_mse</th>\n",
              "    </tr>\n",
              "  </thead>\n",
              "  <tbody>\n",
              "    <tr>\n",
              "      <th id=\"T_a6108_level0_row0\" class=\"row_heading level0 row0\" >0</th>\n",
              "      <td id=\"T_a6108_row0_col0\" class=\"data row0 col0\" >DummyRegressor()</td>\n",
              "      <td id=\"T_a6108_row0_col1\" class=\"data row0 col1\" >5.8202</td>\n",
              "      <td id=\"T_a6108_row0_col2\" class=\"data row0 col2\" >5.8202</td>\n",
              "    </tr>\n",
              "    <tr>\n",
              "      <th id=\"T_a6108_level0_row1\" class=\"row_heading level0 row1\" >1</th>\n",
              "      <td id=\"T_a6108_row1_col0\" class=\"data row1 col0\" >LinearRegression()</td>\n",
              "      <td id=\"T_a6108_row1_col1\" class=\"data row1 col1\" >5.4729</td>\n",
              "      <td id=\"T_a6108_row1_col2\" class=\"data row1 col2\" >5.1826</td>\n",
              "    </tr>\n",
              "    <tr>\n",
              "      <th id=\"T_a6108_level0_row2\" class=\"row_heading level0 row2\" >2</th>\n",
              "      <td id=\"T_a6108_row2_col0\" class=\"data row2 col0\" >SGDRegressor()</td>\n",
              "      <td id=\"T_a6108_row2_col1\" class=\"data row2 col1\" >186925379.3005</td>\n",
              "      <td id=\"T_a6108_row2_col2\" class=\"data row2 col2\" >1336583073364065245986816.0000</td>\n",
              "    </tr>\n",
              "    <tr>\n",
              "      <th id=\"T_a6108_level0_row3\" class=\"row_heading level0 row3\" >3</th>\n",
              "      <td id=\"T_a6108_row3_col0\" class=\"data row3 col0\" >ElasticNet(alpha=0, l1_ratio=0)</td>\n",
              "      <td id=\"T_a6108_row3_col1\" class=\"data row3 col1\" >5.4914</td>\n",
              "      <td id=\"T_a6108_row3_col2\" class=\"data row3 col2\" >5.3884</td>\n",
              "    </tr>\n",
              "    <tr>\n",
              "      <th id=\"T_a6108_level0_row4\" class=\"row_heading level0 row4\" >4</th>\n",
              "      <td id=\"T_a6108_row4_col0\" class=\"data row4 col0\" >DecisionTreeRegressor(max_depth=10)</td>\n",
              "      <td id=\"T_a6108_row4_col1\" class=\"data row4 col1\" >4.3855</td>\n",
              "      <td id=\"T_a6108_row4_col2\" class=\"data row4 col2\" >4.2359</td>\n",
              "    </tr>\n",
              "    <tr>\n",
              "      <th id=\"T_a6108_level0_row5\" class=\"row_heading level0 row5\" >5</th>\n",
              "      <td id=\"T_a6108_row5_col0\" class=\"data row5 col0\" >RandomForestRegressor(max_depth=10, n_estimators=50, oob_score=True)</td>\n",
              "      <td id=\"T_a6108_row5_col1\" class=\"data row5 col1\" >4.0390</td>\n",
              "      <td id=\"T_a6108_row5_col2\" class=\"data row5 col2\" >3.9463</td>\n",
              "    </tr>\n",
              "    <tr>\n",
              "      <th id=\"T_a6108_level0_row6\" class=\"row_heading level0 row6\" >6</th>\n",
              "      <td id=\"T_a6108_row6_col0\" class=\"data row6 col0\" >HistGradientBoostingRegressor(l2_regularization=0.2, max_depth=10,\n",
              "                              max_leaf_nodes=50, n_iter_no_change=15)</td>\n",
              "      <td id=\"T_a6108_row6_col1\" class=\"data row6 col1\" >3.7764</td>\n",
              "      <td id=\"T_a6108_row6_col2\" class=\"data row6 col2\" >3.7232</td>\n",
              "    </tr>\n",
              "  </tbody>\n",
              "</table>\n"
            ]
          },
          "metadata": {},
          "execution_count": 90
        }
      ]
    },
    {
      "cell_type": "code",
      "source": [
        "pd.DataFrame(poly_features_rmse).style.set_precision(4)"
      ],
      "metadata": {
        "colab": {
          "base_uri": "https://localhost:8080/",
          "height": 266
        },
        "id": "71ED0rHVM-Op",
        "outputId": "0f5bfcdd-fb98-461e-d4a0-a3af07f1b76c"
      },
      "execution_count": 92,
      "outputs": [
        {
          "output_type": "execute_result",
          "data": {
            "text/plain": [
              "<pandas.io.formats.style.Styler at 0x7f13ab982dd0>"
            ],
            "text/html": [
              "<style type=\"text/css\">\n",
              "</style>\n",
              "<table id=\"T_5f436_\" class=\"dataframe\">\n",
              "  <thead>\n",
              "    <tr>\n",
              "      <th class=\"blank level0\" >&nbsp;</th>\n",
              "      <th class=\"col_heading level0 col0\" >model</th>\n",
              "      <th class=\"col_heading level0 col1\" >poly1_rmse</th>\n",
              "      <th class=\"col_heading level0 col2\" >poly15_rmse</th>\n",
              "    </tr>\n",
              "  </thead>\n",
              "  <tbody>\n",
              "    <tr>\n",
              "      <th id=\"T_5f436_level0_row0\" class=\"row_heading level0 row0\" >0</th>\n",
              "      <td id=\"T_5f436_row0_col0\" class=\"data row0 col0\" >DummyRegressor()</td>\n",
              "      <td id=\"T_5f436_row0_col1\" class=\"data row0 col1\" >2.4125</td>\n",
              "      <td id=\"T_5f436_row0_col2\" class=\"data row0 col2\" >2.4125</td>\n",
              "    </tr>\n",
              "    <tr>\n",
              "      <th id=\"T_5f436_level0_row1\" class=\"row_heading level0 row1\" >1</th>\n",
              "      <td id=\"T_5f436_row1_col0\" class=\"data row1 col0\" >LinearRegression()</td>\n",
              "      <td id=\"T_5f436_row1_col1\" class=\"data row1 col1\" >2.3394</td>\n",
              "      <td id=\"T_5f436_row1_col2\" class=\"data row1 col2\" >2.2765</td>\n",
              "    </tr>\n",
              "    <tr>\n",
              "      <th id=\"T_5f436_level0_row2\" class=\"row_heading level0 row2\" >2</th>\n",
              "      <td id=\"T_5f436_row2_col0\" class=\"data row2 col0\" >SGDRegressor()</td>\n",
              "      <td id=\"T_5f436_row2_col1\" class=\"data row2 col1\" >13672.0657</td>\n",
              "      <td id=\"T_5f436_row2_col2\" class=\"data row2 col2\" >1156106860702.7922</td>\n",
              "    </tr>\n",
              "    <tr>\n",
              "      <th id=\"T_5f436_level0_row3\" class=\"row_heading level0 row3\" >3</th>\n",
              "      <td id=\"T_5f436_row3_col0\" class=\"data row3 col0\" >ElasticNet(alpha=0, l1_ratio=0)</td>\n",
              "      <td id=\"T_5f436_row3_col1\" class=\"data row3 col1\" >2.3434</td>\n",
              "      <td id=\"T_5f436_row3_col2\" class=\"data row3 col2\" >2.3213</td>\n",
              "    </tr>\n",
              "    <tr>\n",
              "      <th id=\"T_5f436_level0_row4\" class=\"row_heading level0 row4\" >4</th>\n",
              "      <td id=\"T_5f436_row4_col0\" class=\"data row4 col0\" >DecisionTreeRegressor(max_depth=10)</td>\n",
              "      <td id=\"T_5f436_row4_col1\" class=\"data row4 col1\" >2.0942</td>\n",
              "      <td id=\"T_5f436_row4_col2\" class=\"data row4 col2\" >2.0581</td>\n",
              "    </tr>\n",
              "    <tr>\n",
              "      <th id=\"T_5f436_level0_row5\" class=\"row_heading level0 row5\" >5</th>\n",
              "      <td id=\"T_5f436_row5_col0\" class=\"data row5 col0\" >RandomForestRegressor(max_depth=10, n_estimators=50, oob_score=True)</td>\n",
              "      <td id=\"T_5f436_row5_col1\" class=\"data row5 col1\" >2.0097</td>\n",
              "      <td id=\"T_5f436_row5_col2\" class=\"data row5 col2\" >1.9865</td>\n",
              "    </tr>\n",
              "    <tr>\n",
              "      <th id=\"T_5f436_level0_row6\" class=\"row_heading level0 row6\" >6</th>\n",
              "      <td id=\"T_5f436_row6_col0\" class=\"data row6 col0\" >HistGradientBoostingRegressor(l2_regularization=0.2, max_depth=10,\n",
              "                              max_leaf_nodes=50, n_iter_no_change=15)</td>\n",
              "      <td id=\"T_5f436_row6_col1\" class=\"data row6 col1\" >1.9433</td>\n",
              "      <td id=\"T_5f436_row6_col2\" class=\"data row6 col2\" >1.9295</td>\n",
              "    </tr>\n",
              "  </tbody>\n",
              "</table>\n"
            ]
          },
          "metadata": {},
          "execution_count": 92
        }
      ]
    },
    {
      "cell_type": "markdown",
      "source": [
        "The improvements look small, but are significant considering the limited data and the performance increments observed until now.\n",
        "Following the idea of occam's razor, we'll stick to order 5 instead of 15 even though the previous notebook pointed at a degree 15, as, the results don't really improve by as much."
      ],
      "metadata": {
        "id": "GvPZhNxZ_4G_"
      }
    },
    {
      "cell_type": "code",
      "source": [],
      "metadata": {
        "id": "5zUaUEC2M-RP"
      },
      "execution_count": null,
      "outputs": []
    },
    {
      "cell_type": "code",
      "source": [],
      "metadata": {
        "id": "qjdGS5CRM-Tr"
      },
      "execution_count": null,
      "outputs": []
    },
    {
      "cell_type": "markdown",
      "source": [
        "### Top 2 model analysis"
      ],
      "metadata": {
        "id": "JW6YCqiMyOkF"
      }
    },
    {
      "cell_type": "markdown",
      "source": [
        "From the columns above, we can see that:\n",
        "- column 0-2 have['publishedDayNum'\t'log_duration_secs'\t'len_title'] (which get expanded to polynomial degrees of 15 loosing a lot of interpretability)\n",
        "- columns 3-52 ['word vector dimensions for titles']\n",
        "- columns 53-55 ['definition', 'topicLabel']\n",
        "\n",
        "After the transformations:\n",
        "- 0-57 has complex non-linear interactions of ['publishedDayNum'\t'log_duration_secs'\t'len_title']\n",
        "- columns 58-107 ['word vector dimensions for titles']\n",
        "- columns 108-119 ['definition', 'topicLabel']\n",
        "\n",
        "This will be very helpful when we try to understand which features are contributing to the importance. We don't have the exact feature names because we are using complex word vectors and also raising certain features to higher polynomial degrees including interactions between them."
      ],
      "metadata": {
        "id": "KoGZM7dWRiCw"
      }
    },
    {
      "cell_type": "code",
      "source": [
        "ct = ColumnTransformer(\n",
        "    [(\"ohe\", OneHotEncoder(handle_unknown='ignore'), [\"definition\", \"topicLabel\"]),\n",
        "    (\"poly\", PolynomialFeatures(5),[\"publishedDayNum\",\t\"log_duration_secs\", \"len_title\"]),\n",
        "    ], remainder=\"passthrough\")\n",
        "\n",
        "train_X5 = ct.fit_transform(train_X)\n",
        "test_X5 = ct.transform(test_X)\n",
        "\n",
        "mms = StandardScaler()\n",
        "train_X5 = mms.fit_transform(train_X5)\n",
        "test_X5 = mms.transform(test_X5)"
      ],
      "metadata": {
        "id": "fwlkSQRUGyBk"
      },
      "execution_count": 99,
      "outputs": []
    },
    {
      "cell_type": "code",
      "source": [
        "train_X5.shape"
      ],
      "metadata": {
        "colab": {
          "base_uri": "https://localhost:8080/"
        },
        "id": "sFiqdgfaIFiS",
        "outputId": "8657b976-4127-4e50-c2c5-15183a8ecec9"
      },
      "execution_count": 102,
      "outputs": [
        {
          "output_type": "execute_result",
          "data": {
            "text/plain": [
              "(38435, 119)"
            ]
          },
          "metadata": {},
          "execution_count": 102
        }
      ]
    },
    {
      "cell_type": "code",
      "source": [
        "hgbr = models[-1]\n",
        "rfr = models[-2]"
      ],
      "metadata": {
        "id": "7l23BbK9M-WA"
      },
      "execution_count": 103,
      "outputs": []
    },
    {
      "cell_type": "code",
      "source": [
        "hgbr.fit(train_X5, train_y)"
      ],
      "metadata": {
        "colab": {
          "base_uri": "https://localhost:8080/"
        },
        "id": "U07JIXx4M-Yq",
        "outputId": "df45302b-3b1f-4efb-974e-872387e0cddb"
      },
      "execution_count": 105,
      "outputs": [
        {
          "output_type": "execute_result",
          "data": {
            "text/plain": [
              "HistGradientBoostingRegressor(l2_regularization=0.2, max_depth=10,\n",
              "                              max_leaf_nodes=50, n_iter_no_change=15)"
            ]
          },
          "metadata": {},
          "execution_count": 105
        }
      ]
    },
    {
      "cell_type": "markdown",
      "source": [
        "Hist Gradient Boosting"
      ],
      "metadata": {
        "id": "3XZu0d_LB1eJ"
      }
    },
    {
      "cell_type": "code",
      "source": [
        "result = permutation_importance(\n",
        "    hgbr, train_X5, train_y, n_repeats=10, random_state=11, n_jobs=-1\n",
        ")"
      ],
      "metadata": {
        "id": "FGBoUObbBh85"
      },
      "execution_count": 131,
      "outputs": []
    },
    {
      "cell_type": "code",
      "source": [
        "sorted_importances_idx = result.importances_mean.argsort()[-30:]\n",
        "importances = pd.DataFrame(\n",
        "    result.importances[sorted_importances_idx].T,\n",
        "    columns=sorted_importances_idx,\n",
        ")\n",
        "ax = importances.plot.box(vert=False, whis=10, figsize=(12,12))\n",
        "ax.set_title(\"Permutation Importances (train set)\")\n",
        "ax.axvline(x=0, color=\"k\", linestyle=\"--\")\n",
        "ax.set_xlabel(\"Decrease in regression score\")\n",
        "ax.figure.tight_layout()"
      ],
      "metadata": {
        "colab": {
          "base_uri": "https://localhost:8080/",
          "height": 873
        },
        "id": "h5paO56HBh_4",
        "outputId": "67044dc7-3764-40c3-c2f7-d2db640a28e8"
      },
      "execution_count": 307,
      "outputs": [
        {
          "output_type": "display_data",
          "data": {
            "text/plain": [
              "<Figure size 864x864 with 1 Axes>"
            ],
            "image/png": "[encoded data removed]"
          },
          "metadata": {
            "needs_background": "light"
          }
        }
      ]
    },
    {
      "cell_type": "markdown",
      "source": [
        "Random Forest Regressor"
      ],
      "metadata": {
        "id": "QbRxPrpyB7Bq"
      }
    },
    {
      "cell_type": "code",
      "source": [
        "rfr.fit(train_X5, train_y)"
      ],
      "metadata": {
        "colab": {
          "base_uri": "https://localhost:8080/"
        },
        "id": "WxFQf0hvBiWJ",
        "outputId": "35b604a5-1cd0-4468-ce17-d78214daf7cd"
      },
      "execution_count": 124,
      "outputs": [
        {
          "output_type": "execute_result",
          "data": {
            "text/plain": [
              "RandomForestRegressor(max_depth=10, n_estimators=50, oob_score=True)"
            ]
          },
          "metadata": {},
          "execution_count": 124
        }
      ]
    },
    {
      "cell_type": "code",
      "source": [
        "result_rfr = permutation_importance(\n",
        "    rfr, train_X5, train_y, n_repeats=10, random_state=11, n_jobs=-1\n",
        ")"
      ],
      "metadata": {
        "id": "XX6Ehw4YLaNL"
      },
      "execution_count": 129,
      "outputs": []
    },
    {
      "cell_type": "code",
      "source": [
        "sorted_importances_idx_rfr = result_rfr.importances_mean.argsort()[-30:]\n",
        "importances_rfr = pd.DataFrame(\n",
        "    result_rfr.importances[sorted_importances_idx_rfr].T,\n",
        "    columns=sorted_importances_idx,\n",
        ")\n",
        "ax = importances_rfr.plot.box(vert=False, whis=10, figsize=(12,12))\n",
        "ax.set_title(\"Permutation Importances (train set)\")\n",
        "ax.axvline(x=0, color=\"k\", linestyle=\"--\")\n",
        "ax.set_xlabel(\"Decrease in regression score\")\n",
        "ax.figure.tight_layout()"
      ],
      "metadata": {
        "colab": {
          "base_uri": "https://localhost:8080/",
          "height": 873
        },
        "id": "zE-_zF6sLaPx",
        "outputId": "a11162e5-0fd2-4d8c-fc47-de4462217f1b"
      },
      "execution_count": 306,
      "outputs": [
        {
          "output_type": "display_data",
          "data": {
            "text/plain": [
              "<Figure size 864x864 with 1 Axes>"
            ],
            "image/png": "[encoded data removed]"
          },
          "metadata": {
            "needs_background": "light"
          }
        }
      ]
    },
    {
      "cell_type": "code",
      "source": [
        "set(result_rfr.importances_mean.argsort()[-10:])-set(result.importances_mean.argsort()[-10:])"
      ],
      "metadata": {
        "colab": {
          "base_uri": "https://localhost:8080/"
        },
        "id": "Wd9qrWyELaSO",
        "outputId": "e0536bd6-2fcb-45dc-d5ee-3c725f57c6c7"
      },
      "execution_count": 340,
      "outputs": [
        {
          "output_type": "execute_result",
          "data": {
            "text/plain": [
              "{20, 43, 63}"
            ]
          },
          "metadata": {},
          "execution_count": 340
        }
      ]
    },
    {
      "cell_type": "code",
      "source": [
        "set(result_rfr.importances_mean.argsort()[-10:]).intersection(set(result.importances_mean.argsort()[-10:]))"
      ],
      "metadata": {
        "colab": {
          "base_uri": "https://localhost:8080/"
        },
        "id": "IxGbeJN2qk-P",
        "outputId": "6722fa21-e889-4be1-a43a-f7aaea587853"
      },
      "execution_count": 341,
      "outputs": [
        {
          "output_type": "execute_result",
          "data": {
            "text/plain": [
              "{4, 8, 10, 11, 12, 15, 85}"
            ]
          },
          "metadata": {},
          "execution_count": 341
        }
      ]
    },
    {
      "cell_type": "code",
      "source": [
        "np.mean(result_rfr.importances_mean.argsort()[-50:]<57)"
      ],
      "metadata": {
        "colab": {
          "base_uri": "https://localhost:8080/"
        },
        "id": "aFdkdABSqpVB",
        "outputId": "087015eb-e1f9-40f4-de30-0db631782c56"
      },
      "execution_count": 345,
      "outputs": [
        {
          "output_type": "execute_result",
          "data": {
            "text/plain": [
              "0.32"
            ]
          },
          "metadata": {},
          "execution_count": 345
        }
      ]
    },
    {
      "cell_type": "markdown",
      "source": [
        "Now Let's see if we have a good overlap of features being important across the top performing models."
      ],
      "metadata": {
        "id": "DBa3wwFPOUXr"
      }
    },
    {
      "cell_type": "code",
      "source": [
        "common_imp_idx = set(result_rfr.importances_mean.argsort()[-50:]).intersection(set(result.importances_mean.argsort()[-50:]))\n",
        "len(common_imp_idx)"
      ],
      "metadata": {
        "colab": {
          "base_uri": "https://localhost:8080/"
        },
        "id": "R5U_bfx1LaY_",
        "outputId": "c2df2c83-ca20-46f0-db3f-027626317da6"
      },
      "execution_count": 135,
      "outputs": [
        {
          "output_type": "execute_result",
          "data": {
            "text/plain": [
              "33"
            ]
          },
          "metadata": {},
          "execution_count": 135
        }
      ]
    },
    {
      "cell_type": "code",
      "source": [
        "top50_across = set(result_rfr.importances_mean.argsort()[-50:]).union(set(result.importances_mean.argsort()[-50:]))"
      ],
      "metadata": {
        "id": "SaiTTBKrLaa9"
      },
      "execution_count": 138,
      "outputs": []
    },
    {
      "cell_type": "code",
      "source": [
        "top50_across = np.array(list(top50_across))"
      ],
      "metadata": {
        "id": "ij1cAi1CuxGu"
      },
      "execution_count": 374,
      "outputs": []
    },
    {
      "cell_type": "markdown",
      "source": [
        "Across the 50 most important variables of both the highest performing models, \n",
        "- 31% importance lies with complex non-linear interactions of ['publishedDayNum' 'log_duration_secs' 'len_title']\n",
        "- 12% with ['topicLabel']\n",
        "- 0% with ['definition']\n",
        "- 53% with ['word vector dimensions for titles']"
      ],
      "metadata": {
        "id": "62ZyysRdwh5X"
      }
    },
    {
      "cell_type": "code",
      "source": [
        "np.mean(top50_across<57), np.mean(top50_across>110), np.mean(np.where((top50_across > 108) & (top50_across < 110), True, False)), np.mean(np.where((top50_across > 56) & (top50_across < 108), True, False))"
      ],
      "metadata": {
        "colab": {
          "base_uri": "https://localhost:8080/"
        },
        "id": "DTWWVjjGrzR4",
        "outputId": "55d7d7d5-3cd9-4a34-825c-3cae796f82d8"
      },
      "execution_count": 378,
      "outputs": [
        {
          "output_type": "execute_result",
          "data": {
            "text/plain": [
              "(0.31343283582089554, 0.11940298507462686, 0.0, 0.5373134328358209)"
            ]
          },
          "metadata": {},
          "execution_count": 378
        }
      ]
    },
    {
      "cell_type": "markdown",
      "source": [
        "Since we don't have enough data to be able to model complex word relations, let's use the features that make up the top50 of our best performing models and build a regressor for each topicLabel in an attempt to improve the over performance.\n",
        "Let's also try and explore possible methods of oversampling if it has the possibility to improve predictions."
      ],
      "metadata": {
        "id": "0W8gpUuCSY6M"
      }
    },
    {
      "cell_type": "markdown",
      "source": [
        "Experimentation Section"
      ],
      "metadata": {
        "id": "iAx8Z3NkpJ5l"
      }
    },
    {
      "cell_type": "code",
      "source": [
        "pf = PolynomialFeatures(2)"
      ],
      "metadata": {
        "id": "4_nOKBqYpPUn"
      },
      "execution_count": null,
      "outputs": []
    },
    {
      "cell_type": "code",
      "source": [
        "train_X5[:,list(common_imp_idx)].shape"
      ],
      "metadata": {
        "colab": {
          "base_uri": "https://localhost:8080/"
        },
        "id": "HB1f26-VkJrh",
        "outputId": "5033c2bf-8e8d-4921-8d61-a4078ef3ec57"
      },
      "execution_count": 313,
      "outputs": [
        {
          "output_type": "execute_result",
          "data": {
            "text/plain": [
              "(38435, 33)"
            ]
          },
          "metadata": {},
          "execution_count": 313
        }
      ]
    },
    {
      "cell_type": "code",
      "source": [
        "hgbr33 = HistGradientBoostingRegressor(l2_regularization=0.2, max_depth=10,\n",
        "                              max_leaf_nodes=50, n_iter_no_change=15)\n",
        "hgbr33.fit(train_X5, train_y)"
      ],
      "metadata": {
        "colab": {
          "base_uri": "https://localhost:8080/"
        },
        "id": "4jSFUXghkJzT",
        "outputId": "62c9c52a-0a99-443d-cd67-a8080c6c40dc"
      },
      "execution_count": 332,
      "outputs": [
        {
          "output_type": "execute_result",
          "data": {
            "text/plain": [
              "HistGradientBoostingRegressor(l2_regularization=0.2, max_depth=10,\n",
              "                              max_leaf_nodes=50, n_iter_no_change=15)"
            ]
          },
          "metadata": {},
          "execution_count": 332
        }
      ]
    },
    {
      "cell_type": "code",
      "source": [
        "ret_metrics(hgbr33, train_X5[:,list(top50_across)], train_y)"
      ],
      "metadata": {
        "colab": {
          "base_uri": "https://localhost:8080/"
        },
        "id": "9J3C0oz2l-dL",
        "outputId": "add25601-9830-4050-c411-8ab4a6248b0b"
      },
      "execution_count": 331,
      "outputs": [
        {
          "output_type": "execute_result",
          "data": {
            "text/plain": [
              "(1.4362191003016036, 4.534359183921133, 2.129403480771348)"
            ]
          },
          "metadata": {},
          "execution_count": 331
        }
      ]
    },
    {
      "cell_type": "code",
      "source": [
        "ret_metrics(hgbr33, train_X5, train_y)"
      ],
      "metadata": {
        "colab": {
          "base_uri": "https://localhost:8080/"
        },
        "id": "8GgHAd0cnrm4",
        "outputId": "a6575b89-6781-480d-a170-4d255fd4409e"
      },
      "execution_count": 334,
      "outputs": [
        {
          "output_type": "execute_result",
          "data": {
            "text/plain": [
              "(1.2967162949328197, 3.6365882371830507, 1.9069840684135384)"
            ]
          },
          "metadata": {},
          "execution_count": 334
        }
      ]
    },
    {
      "cell_type": "code",
      "source": [
        "ret_metrics(hgbr33, pf.transform(train_X5[:,list(common_imp_idx)]), train_y)"
      ],
      "metadata": {
        "colab": {
          "base_uri": "https://localhost:8080/"
        },
        "id": "f7opo87ml-kD",
        "outputId": "cfa85480-fc83-42c4-99ee-e03bb1ae3f43"
      },
      "execution_count": 324,
      "outputs": [
        {
          "output_type": "execute_result",
          "data": {
            "text/plain": [
              "(1.428352769188765, 4.502482518594222, 2.12190539812552)"
            ]
          },
          "metadata": {},
          "execution_count": 324
        }
      ]
    },
    {
      "cell_type": "code",
      "source": [
        "pf.transform(test_X5[:,list(common_imp_idx)]).shape"
      ],
      "metadata": {
        "colab": {
          "base_uri": "https://localhost:8080/"
        },
        "id": "K6oQlVotl-o1",
        "outputId": "b130e1df-cab6-4ee1-bf6c-d29965e3814c"
      },
      "execution_count": 325,
      "outputs": [
        {
          "output_type": "execute_result",
          "data": {
            "text/plain": [
              "(9622, 595)"
            ]
          },
          "metadata": {},
          "execution_count": 325
        }
      ]
    },
    {
      "cell_type": "code",
      "source": [
        "from sklearn.decomposition import KernelPCA\n",
        "X_embedded = KernelPCA(n_components=5, kernel='poly', degree=5).fit_transform(topic_transform_dict_train[cat])"
      ],
      "metadata": {
        "id": "LbpgZURLXW1A"
      },
      "execution_count": 297,
      "outputs": []
    },
    {
      "cell_type": "code",
      "source": [
        "plt.scatter(X_embedded[:, 1], train_y.iloc[topic_df_dict_train[cat].index])\n"
      ],
      "metadata": {
        "id": "ugWYLjBKWhv-"
      },
      "execution_count": 240,
      "outputs": []
    },
    {
      "cell_type": "code",
      "source": [
        "data_train, data_test = train_test_split(raw_df, test_size=0.20, random_state=42)\n",
        "\n",
        "data_train = data_train.dropna()\n",
        "data_test = data_test.dropna()"
      ],
      "metadata": {
        "id": "lPCni-S-ikB8"
      },
      "execution_count": null,
      "outputs": []
    },
    {
      "cell_type": "code",
      "source": [
        "# df = create_train_dataset(data_train)\n",
        "target = create_target(data_train)\n",
        "train_X = create_train_dataset(data_train, d=4)\n",
        "target.shape"
      ],
      "metadata": {
        "id": "qeGcdNxhvNU7"
      },
      "execution_count": null,
      "outputs": []
    },
    {
      "cell_type": "code",
      "source": [
        "test_target = create_target(data_test)"
      ],
      "metadata": {
        "id": "qPkxc2v4vNX7"
      },
      "execution_count": null,
      "outputs": []
    },
    {
      "cell_type": "code",
      "source": [
        "lr_pipeline = Pipeline([('create_dataset', FunctionTransformer(create_train_dataset)),\n",
        "          ('ohe', OneHotEncoder(handle_unknown='ignore')),\n",
        "          ('scale',MaxAbsScaler()),\n",
        "          ('lr', LinearRegression())]) "
      ],
      "metadata": {
        "id": "E40jmccLvNZ3"
      },
      "execution_count": null,
      "outputs": []
    },
    {
      "cell_type": "code",
      "source": [
        "lr_pipeline.fit(data_train, target)"
      ],
      "metadata": {
        "id": "GeINGPnIvNcW"
      },
      "execution_count": null,
      "outputs": []
    },
    {
      "cell_type": "code",
      "source": [
        "filename = 'model.sav'\n",
        "pickle.dump(lr_pipeline, open(filename, 'wb'))"
      ],
      "metadata": {
        "id": "awImhXJ-vNe3"
      },
      "execution_count": null,
      "outputs": []
    },
    {
      "cell_type": "code",
      "source": [
        "loaded_model = pickle.load(open(filename, 'rb'))\n",
        "loaded_model.score(data_test, test_target)"
      ],
      "metadata": {
        "id": "uKMKMu9AvNhK"
      },
      "execution_count": null,
      "outputs": []
    },
    {
      "cell_type": "code",
      "source": [
        "title = \"love is in the air\"\n",
        "duration = int(\"10000\")\n",
        "publishedAt = datetime.datetime.now()\n",
        "definition = \"hd\"\n",
        "topicLabel = \"Music\""
      ],
      "metadata": {
        "id": "lQTff2rAvNjO"
      },
      "execution_count": null,
      "outputs": []
    },
    {
      "cell_type": "code",
      "source": [
        "featureset = [\"title\", \"duration\", \"publishedAt\", \"definition\", \"topicLabel\"]"
      ],
      "metadata": {
        "id": "S0KUOEHnvNld"
      },
      "execution_count": null,
      "outputs": []
    },
    {
      "cell_type": "code",
      "source": [
        "user_ip = pd.DataFrame([[title, duration, publishedAt, definition, topicLabel]], columns=featureset)\n",
        "user_ip"
      ],
      "metadata": {
        "id": "jgBpYB22vNnz"
      },
      "execution_count": null,
      "outputs": []
    },
    {
      "cell_type": "code",
      "source": [
        "loaded_model.predict(user_ip)[0]"
      ],
      "metadata": {
        "id": "JKg0z_xivNqA"
      },
      "execution_count": null,
      "outputs": []
    },
    {
      "cell_type": "code",
      "source": [],
      "metadata": {
        "id": "uutyoPXQvNtR"
      },
      "execution_count": null,
      "outputs": []
    },
    {
      "cell_type": "code",
      "source": [],
      "metadata": {
        "id": "9NdPkjkOWhfA"
      },
      "execution_count": null,
      "outputs": []
    },
    {
      "cell_type": "code",
      "source": [],
      "metadata": {
        "id": "ZxpSWYJcnV9m"
      },
      "execution_count": null,
      "outputs": []
    },
    {
      "cell_type": "code",
      "source": [],
      "metadata": {
        "colab": {
          "base_uri": "https://localhost:8080/",
          "height": 80
        },
        "id": "E_FA5NsVXB-Z",
        "outputId": "644ffb7e-732a-4be0-bfcf-9283c06311cc"
      },
      "execution_count": null,
      "outputs": [
        {
          "output_type": "execute_result",
          "data": {
            "text/plain": [
              "             title  duration_secs                publishedAt definition  \\\n",
              "0  The Milestone 2            120 2022-10-16 15:14:16.117063         hd   \n",
              "\n",
              "  topicLabel  \n",
              "0     Travel  "
            ],
            "text/html": [
              "\n",
              "  <div id=\"df-452661ec-72fc-49de-b809-645042516572\">\n",
              "    <div class=\"colab-df-container\">\n",
              "      <div>\n",
              "<style scoped>\n",
              "    .dataframe tbody tr th:only-of-type {\n",
              "        vertical-align: middle;\n",
              "    }\n",
              "\n",
              "    .dataframe tbody tr th {\n",
              "        vertical-align: top;\n",
              "    }\n",
              "\n",
              "    .dataframe thead th {\n",
              "        text-align: right;\n",
              "    }\n",
              "</style>\n",
              "<table border=\"1\" class=\"dataframe\">\n",
              "  <thead>\n",
              "    <tr style=\"text-align: right;\">\n",
              "      <th></th>\n",
              "      <th>title</th>\n",
              "      <th>duration_secs</th>\n",
              "      <th>publishedAt</th>\n",
              "      <th>definition</th>\n",
              "      <th>topicLabel</th>\n",
              "    </tr>\n",
              "  </thead>\n",
              "  <tbody>\n",
              "    <tr>\n",
              "      <th>0</th>\n",
              "      <td>The Milestone 2</td>\n",
              "      <td>120</td>\n",
              "      <td>2022-10-16 15:14:16.117063</td>\n",
              "      <td>hd</td>\n",
              "      <td>Travel</td>\n",
              "    </tr>\n",
              "  </tbody>\n",
              "</table>\n",
              "</div>\n",
              "      <button class=\"colab-df-convert\" onclick=\"convertToInteractive('df-452661ec-72fc-49de-b809-645042516572')\"\n",
              "              title=\"Convert this dataframe to an interactive table.\"\n",
              "              style=\"display:none;\">\n",
              "        \n",
              "  <svg xmlns=\"http://www.w3.org/2000/svg\" height=\"24px\"viewBox=\"0 0 24 24\"\n",
              "       width=\"24px\">\n",
              "    <path d=\"M0 0h24v24H0V0z\" fill=\"none\"/>\n",
              "    <path d=\"M18.56 5.44l.94 2.06.94-2.06 2.06-.94-2.06-.94-.94-2.06-.94 2.06-2.06.94zm-11 1L8.5 8.5l.94-2.06 2.06-.94-2.06-.94L8.5 2.5l-.94 2.06-2.06.94zm10 10l.94 2.06.94-2.06 2.06-.94-2.06-.94-.94-2.06-.94 2.06-2.06.94z\"/><path d=\"M17.41 7.96l-1.37-1.37c-.4-.4-.92-.59-1.43-.59-.52 0-1.04.2-1.43.59L10.3 9.45l-7.72 7.72c-.78.78-.78 2.05 0 2.83L4 21.41c.39.39.9.59 1.41.59.51 0 1.02-.2 1.41-.59l7.78-7.78 2.81-2.81c.8-.78.8-2.07 0-2.86zM5.41 20L4 18.59l7.72-7.72 1.47 1.35L5.41 20z\"/>\n",
              "  </svg>\n",
              "      </button>\n",
              "      \n",
              "  <style>\n",
              "    .colab-df-container {\n",
              "      display:flex;\n",
              "      flex-wrap:wrap;\n",
              "      gap: 12px;\n",
              "    }\n",
              "\n",
              "    .colab-df-convert {\n",
              "      background-color: #E8F0FE;\n",
              "      border: none;\n",
              "      border-radius: 50%;\n",
              "      cursor: pointer;\n",
              "      display: none;\n",
              "      fill: #1967D2;\n",
              "      height: 32px;\n",
              "      padding: 0 0 0 0;\n",
              "      width: 32px;\n",
              "    }\n",
              "\n",
              "    .colab-df-convert:hover {\n",
              "      background-color: #E2EBFA;\n",
              "      box-shadow: 0px 1px 2px rgba(60, 64, 67, 0.3), 0px 1px 3px 1px rgba(60, 64, 67, 0.15);\n",
              "      fill: #174EA6;\n",
              "    }\n",
              "\n",
              "    [theme=dark] .colab-df-convert {\n",
              "      background-color: #3B4455;\n",
              "      fill: #D2E3FC;\n",
              "    }\n",
              "\n",
              "    [theme=dark] .colab-df-convert:hover {\n",
              "      background-color: #434B5C;\n",
              "      box-shadow: 0px 1px 3px 1px rgba(0, 0, 0, 0.15);\n",
              "      filter: drop-shadow(0px 1px 2px rgba(0, 0, 0, 0.3));\n",
              "      fill: #FFFFFF;\n",
              "    }\n",
              "  </style>\n",
              "\n",
              "      <script>\n",
              "        const buttonEl =\n",
              "          document.querySelector('#df-452661ec-72fc-49de-b809-645042516572 button.colab-df-convert');\n",
              "        buttonEl.style.display =\n",
              "          google.colab.kernel.accessAllowed ? 'block' : 'none';\n",
              "\n",
              "        async function convertToInteractive(key) {\n",
              "          const element = document.querySelector('#df-452661ec-72fc-49de-b809-645042516572');\n",
              "          const dataTable =\n",
              "            await google.colab.kernel.invokeFunction('convertToInteractive',\n",
              "                                                     [key], {});\n",
              "          if (!dataTable) return;\n",
              "\n",
              "          const docLinkHtml = 'Like what you see? Visit the ' +\n",
              "            '<a target=\"_blank\" href=https://colab.research.google.com/notebooks/data_table.ipynb>data table notebook</a>'\n",
              "            + ' to learn more about interactive tables.';\n",
              "          element.innerHTML = '';\n",
              "          dataTable['output_type'] = 'display_data';\n",
              "          await google.colab.output.renderOutput(dataTable, element);\n",
              "          const docLink = document.createElement('div');\n",
              "          docLink.innerHTML = docLinkHtml;\n",
              "          element.appendChild(docLink);\n",
              "        }\n",
              "      </script>\n",
              "    </div>\n",
              "  </div>\n",
              "  "
            ]
          },
          "metadata": {},
          "execution_count": 15
        }
      ]
    },
    {
      "cell_type": "code",
      "source": [
        "create_dataset(user_ip, featureset, primary=True)"
      ],
      "metadata": {
        "id": "uhMKkYA_XVQ2"
      },
      "execution_count": null,
      "outputs": []
    }
  ]
}