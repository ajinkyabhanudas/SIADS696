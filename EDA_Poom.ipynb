{
 "cells": [
  {
   "cell_type": "markdown",
   "metadata": {},
   "source": [
    "#### Data Extraction\n",
    "extract essential information from JSON for the analysis\n",
    "\"title\",\"views\", \"likes\",\"comments\", 'duration','tag','description', 'channel', 'category', 'published'"
   ]
  },
  {
   "cell_type": "code",
   "execution_count": 1,
   "metadata": {},
   "outputs": [
    {
     "name": "stdout",
     "output_type": "stream",
     "text": [
      "Total number of channels 86\n"
     ]
    }
   ],
   "source": [
    "#extracting json to df\n",
    "import os, json\n",
    "import pandas as pd\n",
    "import numpy as np\n",
    "import glob\n",
    "from datetime import datetime\n",
    "pd.set_option('display.max_columns', None)\n",
    "\n",
    "dir = 'data'\n",
    "path = os.path.join(dir, '**/*.json')\n",
    "file_list = glob.glob(path)\n",
    "print('Total number of channels ' + str(len(file_list)))\n",
    "# print(file_list)\n",
    "dfs = list()\n",
    "\n",
    "for file in file_list:\n",
    "    with open(file, 'r') as f:\n",
    "        data = json.load(f)\n",
    "    channel_id, stats = data.popitem()\n",
    "    pchannel_stats = stats[\"channel_statistics\"]\n",
    "    video_stats = stats[\"video_data\"]\n",
    "    # sorted_vids = sorted(video_stats.items(), key=lambda item: int(item[1][\"viewCount\"]),reverse=True)\n",
    "    vids = video_stats.items()\n",
    "    stats = []\n",
    "    for vid in vids:\n",
    "        video_id = vid[0]\n",
    "        title = vid[1][\"title\"]\n",
    "        try:\n",
    "            views = vid[1][\"viewCount\"]\n",
    "            likes = vid[1][\"likeCount\"]\n",
    "            duration = vid[1]['duration']\n",
    "            tags = vid[1]['tags']\n",
    "            description = vid[1]['description']\n",
    "            comments = vid[1][\"commentCount\"]\n",
    "            channel = vid[1]['channelTitle']\n",
    "            published = vid[1]['publishedAt'].split('T')[0]\n",
    "        except:\n",
    "            pass\n",
    "        cat = os.path.dirname(file).split('\\\\')[1]\n",
    "        stats.append([title,views, published, likes, comments, duration, tags, description, channel, cat])\n",
    "    vid_df = pd.DataFrame(stats, columns=[\"title\",\"views\", 'published',\"likes\",\"comments\", 'duration','tag','description', 'channel', 'category'])\n",
    "    dfs.append(vid_df)\n",
    "df = pd.concat(dfs, ignore_index=True)\n"
   ]
  },
  {
   "cell_type": "code",
   "execution_count": 5,
   "metadata": {},
   "outputs": [
    {
     "data": {
      "text/plain": [
       "(                                                   title    views  published  \\\n",
       " 6771   Introduction to the unit circle | Trigonometry...  1596189 2012-12-10   \n",
       " 16340  Marshmello Celebrates National Marshmallow Day...   586165 2019-08-31   \n",
       " 17026  Breathe Carolina & Sunstars - DYSYLM (Official...  1438315 2018-01-05   \n",
       " 8582        Dangerous Soaps: How Animals Use Surfactants   110039 2020-08-20   \n",
       " 33331  Day 7 - Synchronize  |  BREATH - A 30 Day Yoga...  1728113 2021-01-08   \n",
       " \n",
       "        likes comments  duration  \\\n",
       " 6771    7955       41    PT9M4S   \n",
       " 16340  29455     1376   PT2M19S   \n",
       " 17026  33253      738   PT2M27S   \n",
       " 8582    6761      238   PT5M57S   \n",
       " 33331  33508     3158  PT27M37S   \n",
       " \n",
       "                                                      tag  \\\n",
       " 6771              [probability distribution, continuous]   \n",
       " 16340  [marshmello, marshmallow, happier, here with m...   \n",
       " 17026  [Spinnin', Records, Spinnin' Records, Breathe ...   \n",
       " 8582   [SciShow, science, Hank, Green, education, lea...   \n",
       " 33331  [home yoga, home yoga practice, yoga at home, ...   \n",
       " \n",
       "                                              description            channel  \\\n",
       " 6771   Exploring a non-uniform probability density fu...       Khan Academy   \n",
       " 16340  We celebrated National Marshmello Day in NYC a...         Marshmello   \n",
       " 17026  Breathe Carolina & Sunstars - DYSYLM is OUT NO...   Spinnin' Records   \n",
       " 8582   When you think of surfactants, you might think...            SciShow   \n",
       " 33331  Today’s session invites you to feel the love t...  Yoga With Adriene   \n",
       " \n",
       "           category  \n",
       " 6771   Educational  \n",
       " 16340        Music  \n",
       " 17026        Music  \n",
       " 8582   Educational  \n",
       " 33331         Yoga  ,\n",
       " (33696, 10))"
      ]
     },
     "execution_count": 5,
     "metadata": {},
     "output_type": "execute_result"
    }
   ],
   "source": [
    "df.published = pd.to_datetime(df.published, format='%Y-%m-%d')\n",
    "df.sample(5), df.shape"
   ]
  },
  {
   "cell_type": "code",
   "execution_count": 3,
   "metadata": {},
   "outputs": [],
   "source": [
    "import pandas as pd\n",
    "import gensim\n",
    "import seaborn as sns\n",
    "import matplotlib.pyplot as plt\n",
    "import numpy as np\n",
    "from nltk import word_tokenize\n",
    "from nltk.corpus import stopwords"
   ]
  },
  {
   "cell_type": "code",
   "execution_count": 4,
   "metadata": {},
   "outputs": [
    {
     "ename": "LookupError",
     "evalue": "\n**********************************************************************\n  Resource \u001b[93mstopwords\u001b[0m not found.\n  Please use the NLTK Downloader to obtain the resource:\n\n  \u001b[31m>>> import nltk\n  >>> nltk.download('stopwords')\n  \u001b[0m\n  For more information see: https://www.nltk.org/data.html\n\n  Attempted to load \u001b[93mcorpora/stopwords\u001b[0m\n\n  Searched in:\n    - 'C:\\\\Users\\\\poomk/nltk_data'\n    - 'c:\\\\Users\\\\poomk\\\\miniconda3\\\\envs\\\\dataenv\\\\nltk_data'\n    - 'c:\\\\Users\\\\poomk\\\\miniconda3\\\\envs\\\\dataenv\\\\share\\\\nltk_data'\n    - 'c:\\\\Users\\\\poomk\\\\miniconda3\\\\envs\\\\dataenv\\\\lib\\\\nltk_data'\n    - 'C:\\\\Users\\\\poomk\\\\AppData\\\\Roaming\\\\nltk_data'\n    - 'C:\\\\nltk_data'\n    - 'D:\\\\nltk_data'\n    - 'E:\\\\nltk_data'\n**********************************************************************\n",
     "output_type": "error",
     "traceback": [
      "\u001b[1;31m---------------------------------------------------------------------------\u001b[0m",
      "\u001b[1;31mLookupError\u001b[0m                               Traceback (most recent call last)",
      "File \u001b[1;32mc:\\Users\\poomk\\miniconda3\\envs\\dataenv\\lib\\site-packages\\nltk\\corpus\\util.py:84\u001b[0m, in \u001b[0;36mLazyCorpusLoader.__load\u001b[1;34m(self)\u001b[0m\n\u001b[0;32m     83\u001b[0m \u001b[39mtry\u001b[39;00m:\n\u001b[1;32m---> 84\u001b[0m     root \u001b[39m=\u001b[39m nltk\u001b[39m.\u001b[39;49mdata\u001b[39m.\u001b[39;49mfind(\u001b[39mf\u001b[39;49m\u001b[39m\"\u001b[39;49m\u001b[39m{\u001b[39;49;00m\u001b[39mself\u001b[39;49m\u001b[39m.\u001b[39;49msubdir\u001b[39m}\u001b[39;49;00m\u001b[39m/\u001b[39;49m\u001b[39m{\u001b[39;49;00mzip_name\u001b[39m}\u001b[39;49;00m\u001b[39m\"\u001b[39;49m)\n\u001b[0;32m     85\u001b[0m \u001b[39mexcept\u001b[39;00m \u001b[39mLookupError\u001b[39;00m:\n",
      "File \u001b[1;32mc:\\Users\\poomk\\miniconda3\\envs\\dataenv\\lib\\site-packages\\nltk\\data.py:583\u001b[0m, in \u001b[0;36mfind\u001b[1;34m(resource_name, paths)\u001b[0m\n\u001b[0;32m    582\u001b[0m resource_not_found \u001b[39m=\u001b[39m \u001b[39mf\u001b[39m\u001b[39m\"\u001b[39m\u001b[39m\\n\u001b[39;00m\u001b[39m{\u001b[39;00msep\u001b[39m}\u001b[39;00m\u001b[39m\\n\u001b[39;00m\u001b[39m{\u001b[39;00mmsg\u001b[39m}\u001b[39;00m\u001b[39m\\n\u001b[39;00m\u001b[39m{\u001b[39;00msep\u001b[39m}\u001b[39;00m\u001b[39m\\n\u001b[39;00m\u001b[39m\"\u001b[39m\n\u001b[1;32m--> 583\u001b[0m \u001b[39mraise\u001b[39;00m \u001b[39mLookupError\u001b[39;00m(resource_not_found)\n",
      "\u001b[1;31mLookupError\u001b[0m: \n**********************************************************************\n  Resource \u001b[93mstopwords\u001b[0m not found.\n  Please use the NLTK Downloader to obtain the resource:\n\n  \u001b[31m>>> import nltk\n  >>> nltk.download('stopwords')\n  \u001b[0m\n  For more information see: https://www.nltk.org/data.html\n\n  Attempted to load \u001b[93mcorpora/stopwords.zip/stopwords/\u001b[0m\n\n  Searched in:\n    - 'C:\\\\Users\\\\poomk/nltk_data'\n    - 'c:\\\\Users\\\\poomk\\\\miniconda3\\\\envs\\\\dataenv\\\\nltk_data'\n    - 'c:\\\\Users\\\\poomk\\\\miniconda3\\\\envs\\\\dataenv\\\\share\\\\nltk_data'\n    - 'c:\\\\Users\\\\poomk\\\\miniconda3\\\\envs\\\\dataenv\\\\lib\\\\nltk_data'\n    - 'C:\\\\Users\\\\poomk\\\\AppData\\\\Roaming\\\\nltk_data'\n    - 'C:\\\\nltk_data'\n    - 'D:\\\\nltk_data'\n    - 'E:\\\\nltk_data'\n**********************************************************************\n",
      "\nDuring handling of the above exception, another exception occurred:\n",
      "\u001b[1;31mLookupError\u001b[0m                               Traceback (most recent call last)",
      "\u001b[1;32mc:\\Users\\poomk\\OneDrive\\Desktop\\Youtube_Analysis\\SIADS696\\EDA_Poom.ipynb Cell 5\u001b[0m in \u001b[0;36m<cell line: 2>\u001b[1;34m()\u001b[0m\n\u001b[0;32m      <a href='vscode-notebook-cell:/c%3A/Users/poomk/OneDrive/Desktop/Youtube_Analysis/SIADS696/EDA_Poom.ipynb#W4sZmlsZQ%3D%3D?line=0'>1</a>\u001b[0m \u001b[39m# set of english stopwords\u001b[39;00m\n\u001b[1;32m----> <a href='vscode-notebook-cell:/c%3A/Users/poomk/OneDrive/Desktop/Youtube_Analysis/SIADS696/EDA_Poom.ipynb#W4sZmlsZQ%3D%3D?line=1'>2</a>\u001b[0m stopset \u001b[39m=\u001b[39m \u001b[39mset\u001b[39m(stopwords\u001b[39m.\u001b[39;49mwords(\u001b[39m'\u001b[39m\u001b[39menglish\u001b[39m\u001b[39m'\u001b[39m))\n\u001b[0;32m      <a href='vscode-notebook-cell:/c%3A/Users/poomk/OneDrive/Desktop/Youtube_Analysis/SIADS696/EDA_Poom.ipynb#W4sZmlsZQ%3D%3D?line=3'>4</a>\u001b[0m \u001b[39m# grab the titles\u001b[39;00m\n\u001b[0;32m      <a href='vscode-notebook-cell:/c%3A/Users/poomk/OneDrive/Desktop/Youtube_Analysis/SIADS696/EDA_Poom.ipynb#W4sZmlsZQ%3D%3D?line=4'>5</a>\u001b[0m titles \u001b[39m=\u001b[39m df\u001b[39m.\u001b[39mtitle\n",
      "File \u001b[1;32mc:\\Users\\poomk\\miniconda3\\envs\\dataenv\\lib\\site-packages\\nltk\\corpus\\util.py:121\u001b[0m, in \u001b[0;36mLazyCorpusLoader.__getattr__\u001b[1;34m(self, attr)\u001b[0m\n\u001b[0;32m    118\u001b[0m \u001b[39mif\u001b[39;00m attr \u001b[39m==\u001b[39m \u001b[39m\"\u001b[39m\u001b[39m__bases__\u001b[39m\u001b[39m\"\u001b[39m:\n\u001b[0;32m    119\u001b[0m     \u001b[39mraise\u001b[39;00m \u001b[39mAttributeError\u001b[39;00m(\u001b[39m\"\u001b[39m\u001b[39mLazyCorpusLoader object has no attribute \u001b[39m\u001b[39m'\u001b[39m\u001b[39m__bases__\u001b[39m\u001b[39m'\u001b[39m\u001b[39m\"\u001b[39m)\n\u001b[1;32m--> 121\u001b[0m \u001b[39mself\u001b[39;49m\u001b[39m.\u001b[39;49m__load()\n\u001b[0;32m    122\u001b[0m \u001b[39m# This looks circular, but its not, since __load() changes our\u001b[39;00m\n\u001b[0;32m    123\u001b[0m \u001b[39m# __class__ to something new:\u001b[39;00m\n\u001b[0;32m    124\u001b[0m \u001b[39mreturn\u001b[39;00m \u001b[39mgetattr\u001b[39m(\u001b[39mself\u001b[39m, attr)\n",
      "File \u001b[1;32mc:\\Users\\poomk\\miniconda3\\envs\\dataenv\\lib\\site-packages\\nltk\\corpus\\util.py:86\u001b[0m, in \u001b[0;36mLazyCorpusLoader.__load\u001b[1;34m(self)\u001b[0m\n\u001b[0;32m     84\u001b[0m             root \u001b[39m=\u001b[39m nltk\u001b[39m.\u001b[39mdata\u001b[39m.\u001b[39mfind(\u001b[39mf\u001b[39m\u001b[39m\"\u001b[39m\u001b[39m{\u001b[39;00m\u001b[39mself\u001b[39m\u001b[39m.\u001b[39msubdir\u001b[39m}\u001b[39;00m\u001b[39m/\u001b[39m\u001b[39m{\u001b[39;00mzip_name\u001b[39m}\u001b[39;00m\u001b[39m\"\u001b[39m)\n\u001b[0;32m     85\u001b[0m         \u001b[39mexcept\u001b[39;00m \u001b[39mLookupError\u001b[39;00m:\n\u001b[1;32m---> 86\u001b[0m             \u001b[39mraise\u001b[39;00m e\n\u001b[0;32m     88\u001b[0m \u001b[39m# Load the corpus.\u001b[39;00m\n\u001b[0;32m     89\u001b[0m corpus \u001b[39m=\u001b[39m \u001b[39mself\u001b[39m\u001b[39m.\u001b[39m__reader_cls(root, \u001b[39m*\u001b[39m\u001b[39mself\u001b[39m\u001b[39m.\u001b[39m__args, \u001b[39m*\u001b[39m\u001b[39m*\u001b[39m\u001b[39mself\u001b[39m\u001b[39m.\u001b[39m__kwargs)\n",
      "File \u001b[1;32mc:\\Users\\poomk\\miniconda3\\envs\\dataenv\\lib\\site-packages\\nltk\\corpus\\util.py:81\u001b[0m, in \u001b[0;36mLazyCorpusLoader.__load\u001b[1;34m(self)\u001b[0m\n\u001b[0;32m     79\u001b[0m \u001b[39melse\u001b[39;00m:\n\u001b[0;32m     80\u001b[0m     \u001b[39mtry\u001b[39;00m:\n\u001b[1;32m---> 81\u001b[0m         root \u001b[39m=\u001b[39m nltk\u001b[39m.\u001b[39;49mdata\u001b[39m.\u001b[39;49mfind(\u001b[39mf\u001b[39;49m\u001b[39m\"\u001b[39;49m\u001b[39m{\u001b[39;49;00m\u001b[39mself\u001b[39;49m\u001b[39m.\u001b[39;49msubdir\u001b[39m}\u001b[39;49;00m\u001b[39m/\u001b[39;49m\u001b[39m{\u001b[39;49;00m\u001b[39mself\u001b[39;49m\u001b[39m.\u001b[39;49m__name\u001b[39m}\u001b[39;49;00m\u001b[39m\"\u001b[39;49m)\n\u001b[0;32m     82\u001b[0m     \u001b[39mexcept\u001b[39;00m \u001b[39mLookupError\u001b[39;00m \u001b[39mas\u001b[39;00m e:\n\u001b[0;32m     83\u001b[0m         \u001b[39mtry\u001b[39;00m:\n",
      "File \u001b[1;32mc:\\Users\\poomk\\miniconda3\\envs\\dataenv\\lib\\site-packages\\nltk\\data.py:583\u001b[0m, in \u001b[0;36mfind\u001b[1;34m(resource_name, paths)\u001b[0m\n\u001b[0;32m    581\u001b[0m sep \u001b[39m=\u001b[39m \u001b[39m\"\u001b[39m\u001b[39m*\u001b[39m\u001b[39m\"\u001b[39m \u001b[39m*\u001b[39m \u001b[39m70\u001b[39m\n\u001b[0;32m    582\u001b[0m resource_not_found \u001b[39m=\u001b[39m \u001b[39mf\u001b[39m\u001b[39m\"\u001b[39m\u001b[39m\\n\u001b[39;00m\u001b[39m{\u001b[39;00msep\u001b[39m}\u001b[39;00m\u001b[39m\\n\u001b[39;00m\u001b[39m{\u001b[39;00mmsg\u001b[39m}\u001b[39;00m\u001b[39m\\n\u001b[39;00m\u001b[39m{\u001b[39;00msep\u001b[39m}\u001b[39;00m\u001b[39m\\n\u001b[39;00m\u001b[39m\"\u001b[39m\n\u001b[1;32m--> 583\u001b[0m \u001b[39mraise\u001b[39;00m \u001b[39mLookupError\u001b[39;00m(resource_not_found)\n",
      "\u001b[1;31mLookupError\u001b[0m: \n**********************************************************************\n  Resource \u001b[93mstopwords\u001b[0m not found.\n  Please use the NLTK Downloader to obtain the resource:\n\n  \u001b[31m>>> import nltk\n  >>> nltk.download('stopwords')\n  \u001b[0m\n  For more information see: https://www.nltk.org/data.html\n\n  Attempted to load \u001b[93mcorpora/stopwords\u001b[0m\n\n  Searched in:\n    - 'C:\\\\Users\\\\poomk/nltk_data'\n    - 'c:\\\\Users\\\\poomk\\\\miniconda3\\\\envs\\\\dataenv\\\\nltk_data'\n    - 'c:\\\\Users\\\\poomk\\\\miniconda3\\\\envs\\\\dataenv\\\\share\\\\nltk_data'\n    - 'c:\\\\Users\\\\poomk\\\\miniconda3\\\\envs\\\\dataenv\\\\lib\\\\nltk_data'\n    - 'C:\\\\Users\\\\poomk\\\\AppData\\\\Roaming\\\\nltk_data'\n    - 'C:\\\\nltk_data'\n    - 'D:\\\\nltk_data'\n    - 'E:\\\\nltk_data'\n**********************************************************************\n"
     ]
    }
   ],
   "source": [
    "# set of english stopwords\n",
    "stopset = set(stopwords.words('english'))\n",
    "\n",
    "# grab the titles\n",
    "titles = df.title\n",
    "\n",
    "# create title list of string"
   ]
  }
 ],
 "metadata": {
  "kernelspec": {
   "display_name": "Python 3.10.4 ('dataenv')",
   "language": "python",
   "name": "python3"
  },
  "language_info": {
   "codemirror_mode": {
    "name": "ipython",
    "version": 3
   },
   "file_extension": ".py",
   "mimetype": "text/x-python",
   "name": "python",
   "nbconvert_exporter": "python",
   "pygments_lexer": "ipython3",
   "version": "3.10.4"
  },
  "orig_nbformat": 4,
  "vscode": {
   "interpreter": {
    "hash": "467f60c46b88ea196e8e4e51716c4f14b05141d893e1660e0038b81da854c476"
   }
  }
 },
 "nbformat": 4,
 "nbformat_minor": 2
}
