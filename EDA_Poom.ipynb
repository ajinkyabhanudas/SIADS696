{
 "cells": [
  {
   "cell_type": "markdown",
   "metadata": {},
   "source": [
    "### Data Extraction\n",
    "extract essential information from JSON for the analysis\n",
    "\"title\",\"views\", \"likes\",\"comments\", 'duration','tag','description', 'channel', 'category', 'published'"
   ]
  },
  {
   "cell_type": "code",
   "execution_count": 13,
   "metadata": {},
   "outputs": [],
   "source": [
    "#extracting json to df\n",
    "import os, json, re\n",
    "import enum\n",
    "import pandas as pd\n",
    "import numpy as np\n",
    "import glob\n",
    "from datetime import datetime, timedelta, timezone\n",
    "from itertools import groupby\n",
    "import warnings\n",
    "\n",
    "import pandas as pd\n",
    "import gensim.downloader as api\n",
    "import numpy as np\n",
    "import nltk\n",
    "from nltk.tokenize import sent_tokenize ,word_tokenize\n",
    "from nltk.corpus import stopwords\n",
    "# import nltk; nltk.download('popular')\n",
    "\n",
    "import seaborn as sns\n",
    "import matplotlib.pyplot as plt\n",
    "# from yellowbrick.cluster import KElbowVisualizer, SilhouetteVisualizer\n",
    "\n",
    "from sklearn.decomposition import PCA\n",
    "from sklearn.preprocessing import StandardScaler\n",
    "from sklearn.manifold import MDS\n",
    "from sklearn.manifold import TSNE\n",
    "from sklearn.cluster import MiniBatchKMeans\n",
    "from sklearn.metrics import silhouette_samples, silhouette_score\n",
    "\n",
    "warnings.simplefilter(action='ignore')\n",
    "pd.set_option('display.max_columns', None)\n"
   ]
  },
  {
   "cell_type": "code",
   "execution_count": 14,
   "metadata": {},
   "outputs": [],
   "source": [
    "# dir = 'data'\n",
    "# path = os.path.join(dir, '**/*.json')\n",
    "# file_list = glob.glob(path)\n",
    "# print('Total number of channels ' + str(len(file_list)))\n",
    "# # print(file_list)\n",
    "# dfs = list()\n",
    "\n",
    "# for file in file_list:\n",
    "#     with open(file, 'r') as f:\n",
    "#         data = json.load(f)\n",
    "#     channel_id, stats = data.popitem()\n",
    "#     pchannel_stats = stats[\"channel_statistics\"]\n",
    "#     video_stats = stats[\"video_data\"]\n",
    "#     # sorted_vids = sorted(video_stats.items(), key=lambda item: int(item[1][\"viewCount\"]),reverse=True)\n",
    "#     vids = video_stats.items()\n",
    "#     stats = []\n",
    "#     for vid in vids:\n",
    "#         video_id = vid[0]\n",
    "#         title = vid[1][\"title\"]\n",
    "#         try:\n",
    "#             views = vid[1][\"viewCount\"]\n",
    "#             likes = vid[1][\"likeCount\"]\n",
    "#             duration = vid[1]['duration']\n",
    "#             tags = vid[1]['tags']\n",
    "#             description = vid[1]['description']\n",
    "#             comments = vid[1][\"commentCount\"]\n",
    "#             channel = vid[1]['channelTitle']\n",
    "#             published = vid[1]['publishedAt'].split('T')[0]\n",
    "#         except:\n",
    "#             pass\n",
    "#         cat = os.path.dirname(file).split('\\\\')[1]\n",
    "#         stats.append([title,views, published, likes, comments, duration, tags, description, channel, cat])\n",
    "#     vid_df = pd.DataFrame(stats, columns=[\"title\",\"views\", 'published',\"likes\",\"comments\", 'duration','tag','description', 'channel', 'category'])\n",
    "#     dfs.append(vid_df)\n",
    "# df = pd.concat(dfs, ignore_index=True)\n",
    "# print('Total number of videos ' + str(df.shape[0]))\n"
   ]
  },
  {
   "cell_type": "code",
   "execution_count": 15,
   "metadata": {},
   "outputs": [],
   "source": [
    "rootdir = 'data'\n",
    "feature_list = ['publishedAt', 'title', 'channelId', 'description',\n",
    "                'channelTitle', 'tags', 'categoryId', 'viewCount', \n",
    "                'likeCount', 'favoriteCount', 'commentCount', 'duration',\n",
    "                'definition', 'contentRating', 'topicCategories', 'topicLabel']\n",
    "\n",
    "ov_dict_list = []\n",
    "ov_temp_dict = {}\n",
    "\n",
    "dict_list = []\n",
    "temp_dict = {}\n",
    "\n",
    "for path in glob.glob(f'./{rootdir}/*/*'):\n",
    "  try:\n",
    "    with open(path, \"r\") as read_file:\n",
    "      data = json.load(read_file)\n",
    "    for channel_id in data.keys():\n",
    "      ov_temp_dict = data[channel_id][\"channel_statistics\"]\n",
    "      channel_name = list(data[channel_id][\"video_data\"].keys())[0]\n",
    "      ov_temp_dict[\"channelName\"] = data[channel_id][\"video_data\"][channel_name][\"channelTitle\"]\n",
    "      ov_dict_list.append(ov_temp_dict)\n",
    "      \n",
    "      for video_info in data[channel_id][\"video_data\"].values():\n",
    "        temp_dict = video_info\n",
    "        temp_dict[\"topicLabel\"] = path.split('\\\\')[1]\n",
    "        dict_list.append(temp_dict)       \n",
    "  except:\n",
    "    pass\n",
    "\n",
    "overall_stats_raw_df = pd.DataFrame(ov_dict_list)\n",
    "overall_stats_raw_df.drop(\"hiddenSubscriberCount\", axis=1, inplace=True)\n",
    "\n",
    "raw_df = pd.DataFrame(dict_list)\n",
    "raw_df = raw_df[feature_list]"
   ]
  },
  {
   "cell_type": "code",
   "execution_count": 16,
   "metadata": {},
   "outputs": [
    {
     "data": {
      "text/html": [
       "<div>\n",
       "<style scoped>\n",
       "    .dataframe tbody tr th:only-of-type {\n",
       "        vertical-align: middle;\n",
       "    }\n",
       "\n",
       "    .dataframe tbody tr th {\n",
       "        vertical-align: top;\n",
       "    }\n",
       "\n",
       "    .dataframe thead th {\n",
       "        text-align: right;\n",
       "    }\n",
       "</style>\n",
       "<table border=\"1\" class=\"dataframe\">\n",
       "  <thead>\n",
       "    <tr style=\"text-align: right;\">\n",
       "      <th></th>\n",
       "      <th>publishedAt</th>\n",
       "      <th>title</th>\n",
       "      <th>channelId</th>\n",
       "      <th>description</th>\n",
       "      <th>channelTitle</th>\n",
       "      <th>tags</th>\n",
       "      <th>categoryId</th>\n",
       "      <th>viewCount</th>\n",
       "      <th>likeCount</th>\n",
       "      <th>favoriteCount</th>\n",
       "      <th>commentCount</th>\n",
       "      <th>duration</th>\n",
       "      <th>definition</th>\n",
       "      <th>contentRating</th>\n",
       "      <th>topicCategories</th>\n",
       "      <th>topicLabel</th>\n",
       "    </tr>\n",
       "  </thead>\n",
       "  <tbody>\n",
       "    <tr>\n",
       "      <th>9182</th>\n",
       "      <td>2020-06-17T14:07:23Z</td>\n",
       "      <td>How To EASILY Cook Fish Without Messing It Up</td>\n",
       "      <td>UChBEbMKI1eCcejTtmI32UEw</td>\n",
       "      <td>Cooking fish is something that easily intimida...</td>\n",
       "      <td>Joshua Weissman</td>\n",
       "      <td>[how to cook fish, easy fish recipe, how to ma...</td>\n",
       "      <td>26</td>\n",
       "      <td>2079236</td>\n",
       "      <td>73365</td>\n",
       "      <td>0</td>\n",
       "      <td>2978</td>\n",
       "      <td>PT9M12S</td>\n",
       "      <td>hd</td>\n",
       "      <td>{}</td>\n",
       "      <td>[https://en.wikipedia.org/wiki/Food, https://e...</td>\n",
       "      <td>Cooking</td>\n",
       "    </tr>\n",
       "    <tr>\n",
       "      <th>3493</th>\n",
       "      <td>2015-10-11T00:30:02Z</td>\n",
       "      <td>DIY Starbucks Halloween Costume!</td>\n",
       "      <td>UCB0d0JLn1WcGYcwwZ87d2LA</td>\n",
       "      <td>“DIY Starbucks Halloween Costume!” LETS TRY TO...</td>\n",
       "      <td>Rclbeauty101</td>\n",
       "      <td>[DIY, Halloween, Starbucks, diy starbucks hall...</td>\n",
       "      <td>24</td>\n",
       "      <td>7034151</td>\n",
       "      <td>236340</td>\n",
       "      <td>0</td>\n",
       "      <td>24218</td>\n",
       "      <td>PT4M56S</td>\n",
       "      <td>hd</td>\n",
       "      <td>{}</td>\n",
       "      <td>[https://en.wikipedia.org/wiki/Hobby, https://...</td>\n",
       "      <td>Comedy</td>\n",
       "    </tr>\n",
       "    <tr>\n",
       "      <th>9163</th>\n",
       "      <td>2020-08-26T14:00:03Z</td>\n",
       "      <td>Ultra Bubbly Homemade Focaccia Bread (Plus An ...</td>\n",
       "      <td>UChBEbMKI1eCcejTtmI32UEw</td>\n",
       "      <td>Freshly baked focaccia is the foundation of ma...</td>\n",
       "      <td>Joshua Weissman</td>\n",
       "      <td>[joshua weissman, youtube recipes, youtube coo...</td>\n",
       "      <td>26</td>\n",
       "      <td>1440675</td>\n",
       "      <td>50026</td>\n",
       "      <td>0</td>\n",
       "      <td>2243</td>\n",
       "      <td>PT8M2S</td>\n",
       "      <td>hd</td>\n",
       "      <td>{}</td>\n",
       "      <td>[https://en.wikipedia.org/wiki/Food, https://e...</td>\n",
       "      <td>Cooking</td>\n",
       "    </tr>\n",
       "  </tbody>\n",
       "</table>\n",
       "</div>"
      ],
      "text/plain": [
       "               publishedAt                                              title  \\\n",
       "9182  2020-06-17T14:07:23Z      How To EASILY Cook Fish Without Messing It Up   \n",
       "3493  2015-10-11T00:30:02Z                   DIY Starbucks Halloween Costume!   \n",
       "9163  2020-08-26T14:00:03Z  Ultra Bubbly Homemade Focaccia Bread (Plus An ...   \n",
       "\n",
       "                     channelId  \\\n",
       "9182  UChBEbMKI1eCcejTtmI32UEw   \n",
       "3493  UCB0d0JLn1WcGYcwwZ87d2LA   \n",
       "9163  UChBEbMKI1eCcejTtmI32UEw   \n",
       "\n",
       "                                            description     channelTitle  \\\n",
       "9182  Cooking fish is something that easily intimida...  Joshua Weissman   \n",
       "3493  “DIY Starbucks Halloween Costume!” LETS TRY TO...     Rclbeauty101   \n",
       "9163  Freshly baked focaccia is the foundation of ma...  Joshua Weissman   \n",
       "\n",
       "                                                   tags categoryId viewCount  \\\n",
       "9182  [how to cook fish, easy fish recipe, how to ma...         26   2079236   \n",
       "3493  [DIY, Halloween, Starbucks, diy starbucks hall...         24   7034151   \n",
       "9163  [joshua weissman, youtube recipes, youtube coo...         26   1440675   \n",
       "\n",
       "     likeCount favoriteCount commentCount duration definition contentRating  \\\n",
       "9182     73365             0         2978  PT9M12S         hd            {}   \n",
       "3493    236340             0        24218  PT4M56S         hd            {}   \n",
       "9163     50026             0         2243   PT8M2S         hd            {}   \n",
       "\n",
       "                                        topicCategories topicLabel  \n",
       "9182  [https://en.wikipedia.org/wiki/Food, https://e...    Cooking  \n",
       "3493  [https://en.wikipedia.org/wiki/Hobby, https://...     Comedy  \n",
       "9163  [https://en.wikipedia.org/wiki/Food, https://e...    Cooking  "
      ]
     },
     "execution_count": 16,
     "metadata": {},
     "output_type": "execute_result"
    }
   ],
   "source": [
    "raw_df.sample(3)"
   ]
  },
  {
   "cell_type": "code",
   "execution_count": 17,
   "metadata": {},
   "outputs": [
    {
     "data": {
      "text/plain": [
       "(55337, 16)"
      ]
     },
     "execution_count": 17,
     "metadata": {},
     "output_type": "execute_result"
    }
   ],
   "source": [
    "raw_df.shape"
   ]
  },
  {
   "cell_type": "code",
   "execution_count": 18,
   "metadata": {},
   "outputs": [
    {
     "data": {
      "text/plain": [
       "148"
      ]
     },
     "execution_count": 18,
     "metadata": {},
     "output_type": "execute_result"
    }
   ],
   "source": [
    "len(raw_df.channelTitle.unique())"
   ]
  },
  {
   "cell_type": "code",
   "execution_count": 19,
   "metadata": {},
   "outputs": [
    {
     "data": {
      "text/plain": [
       "['https://en.wikipedia.org/wiki/Lifestyle_(sociology)']"
      ]
     },
     "execution_count": 19,
     "metadata": {},
     "output_type": "execute_result"
    }
   ],
   "source": [
    "raw_df.topicCategories[2000]"
   ]
  },
  {
   "cell_type": "markdown",
   "metadata": {},
   "source": [
    "### Data Cleaning"
   ]
  },
  {
   "cell_type": "code",
   "execution_count": 20,
   "metadata": {},
   "outputs": [],
   "source": [
    "def duration_split(duration):\n",
    "  try:\n",
    "    for _, v in groupby(duration, str.isalpha):\n",
    "      yield ''.join(v)\n",
    "  except:\n",
    "    yield np.nan\n",
    "    \n",
    "    \n",
    "def duration_2_secs(duration, duration_split=duration_split):\n",
    "  temp = 0\n",
    "  # value = (duration_split(duration))\n",
    "  for i, val in enumerate(duration_split(duration)):\n",
    "    \n",
    "    if len(str(duration)) <= 8:\n",
    "      if i==1 and not val.isalpha():\n",
    "        temp += float(val)*60\n",
    "      \n",
    "      if i==3 and not val.isalpha():\n",
    "        temp += float(val)\n",
    "    else:\n",
    "      if i==1 and not val.isalpha():\n",
    "        temp += float(val)*60*60\n",
    "      \n",
    "      if i==3 and not val.isalpha():\n",
    "        temp += float(val)*60\n",
    "      \n",
    "      if i==5 and not val.isalpha():\n",
    "        temp += float(val)\n",
    "\n",
    "  return(temp)\n",
    "\n",
    "\n",
    "# duration_2_secs(\"HR1PT51M12S\")\n"
   ]
  },
  {
   "cell_type": "code",
   "execution_count": 21,
   "metadata": {},
   "outputs": [],
   "source": [
    "def topic_extract(links_list):\n",
    "  \n",
    "  topics_list = []  \n",
    "  try:\n",
    "    for link in links_list:\n",
    "      topics_list.append(link.split(\"/\")[-1].lower())\n",
    "    \n",
    "    return(topics_list)\n",
    "  except:\n",
    "    pass"
   ]
  },
  {
   "cell_type": "code",
   "execution_count": 22,
   "metadata": {},
   "outputs": [],
   "source": [
    "def text_prep(val):\n",
    "  '''the goal is to replace the hypertexts in the \n",
    "  in any field to redundant names as vectorizing\n",
    "  them could be misleading and also leak data'''\n",
    "  val = str(val).lower()\n",
    "  process_desc = re.sub(r'http[s]*:.*\\w', 'url', val)\n",
    "  process_desc = re.sub('[^a-zA-Z]', ' ', process_desc)\n",
    "  process_desc = re.sub(r'\\s+', ' ', process_desc)\n",
    "\n",
    "  process_desc = nltk.sent_tokenize(process_desc)\n",
    "  if not process_desc:\n",
    "    process_desc = [nltk.word_tokenize(word) for word in process_desc]\n",
    "  else:\n",
    "    process_desc = [nltk.word_tokenize(word) for word in process_desc][0]\n",
    "    \n",
    "  \n",
    "  word_list = [word for word in process_desc if word not in stopwords.words('english')]\n",
    "\n",
    "\n",
    "  return word_list\n",
    "\n"
   ]
  },
  {
   "cell_type": "code",
   "execution_count": 25,
   "metadata": {},
   "outputs": [],
   "source": [
    "def create_dataset(df, featureset, primary=True):\n",
    "\n",
    "  if primary:\n",
    "    df[\"publishedAt\"] = pd.to_datetime(df.publishedAt, format='%Y-%m-%d')\n",
    "    # df['publishedDayNum'] = df.publishedAt.apply(lambda x: x.timetuple().tm_yday)\n",
    "    df['publishedDayDelta'] = (datetime.now(timezone.utc) - df['publishedAt']).apply(lambda x: x.days)\n",
    "    df[\"categoryId\"] = df.categoryId.astype(float)\n",
    "    df[\"viewCount\"] = df.viewCount.astype(float)\n",
    "    df[\"likeCount\"] = df.likeCount.astype(float)\n",
    "    df[\"favoriteCount\"] = df.favoriteCount.astype(float)\n",
    "    df[\"commentCount\"] = df.commentCount.astype(float)\n",
    "    df['duration_secs'] = df.duration.apply(lambda x: duration_2_secs(x))\n",
    "    df['topicCategories'] = df.topicCategories.apply(lambda x: topic_extract(x))\n",
    "    # df['tags'] = df.tags.apply(lambda x: topic_extract(x))\n",
    "    df['channelTitle'] = df.channelTitle.str.lower()\n",
    "    df['topicLabel'] = df.topicLabel.str.lower()\n",
    "    # df['description'] = df.description.apply(lambda x: text_prep(x))\n",
    "    # df['title'] = df.title.apply(lambda x: text_prep(x))\n",
    "    df['log_duration_secs'] = np.log(df.duration_secs+1)\n",
    "  \n",
    "  else:\n",
    "    df['ov_viewCount'] = df.viewCount.astype(float)\n",
    "    df['ov_subscriberCount'] = df.subscriberCount.astype(float)\n",
    "    df['ov_videoCount'] = df.videoCount.astype(float)\n",
    "    df['channelName'] = df.channelName.str.lower()\n",
    "\n",
    "  return df[featureset]"
   ]
  },
  {
   "cell_type": "code",
   "execution_count": 26,
   "metadata": {},
   "outputs": [],
   "source": [
    "features = [\n",
    "  'title', 'description',\n",
    "  'channelTitle', 'categoryId', 'viewCount', \n",
    "  'log_duration_secs', 'topicCategories', 'publishedDayDelta', 'topicLabel'\n",
    " ]\n",
    "\n",
    "prep_df = create_dataset(raw_df, features)"
   ]
  },
  {
   "cell_type": "code",
   "execution_count": 27,
   "metadata": {},
   "outputs": [
    {
     "data": {
      "text/plain": [
       "title                0.000000\n",
       "description          0.384914\n",
       "channelTitle         0.384914\n",
       "categoryId           0.384914\n",
       "viewCount            0.518640\n",
       "log_duration_secs    0.000000\n",
       "topicCategories      1.817952\n",
       "publishedDayDelta    0.000000\n",
       "topicLabel           0.000000\n",
       "dtype: float64"
      ]
     },
     "execution_count": 27,
     "metadata": {},
     "output_type": "execute_result"
    }
   ],
   "source": [
    "pct_na = prep_df.isna().sum()/len(prep_df)*100\n",
    "pct_na"
   ]
  },
  {
   "cell_type": "code",
   "execution_count": 28,
   "metadata": {},
   "outputs": [
    {
     "data": {
      "text/plain": [
       "98.03025100746336"
      ]
     },
     "execution_count": 28,
     "metadata": {},
     "output_type": "execute_result"
    }
   ],
   "source": [
    "pct_dropna = len(prep_df.dropna())/len(prep_df)*100\n",
    "pct_dropna"
   ]
  },
  {
   "cell_type": "code",
   "execution_count": 29,
   "metadata": {},
   "outputs": [],
   "source": [
    "prep_df = prep_df.dropna()"
   ]
  },
  {
   "cell_type": "code",
   "execution_count": 30,
   "metadata": {},
   "outputs": [
    {
     "data": {
      "text/plain": [
       "<seaborn.axisgrid.PairGrid at 0x1e90a1ebfa0>"
      ]
     },
     "execution_count": 30,
     "metadata": {},
     "output_type": "execute_result"
    },
    {
     "data": {
      "image/png": "[encoded data removed]",
      "text/plain": [
       "<Figure size 720x720 with 20 Axes>"
      ]
     },
     "metadata": {
      "needs_background": "light"
     },
     "output_type": "display_data"
    }
   ],
   "source": [
    "sns.pairplot(prep_df)"
   ]
  },
  {
   "cell_type": "code",
   "execution_count": 31,
   "metadata": {},
   "outputs": [
    {
     "data": {
      "text/plain": [
       "<AxesSubplot:>"
      ]
     },
     "execution_count": 31,
     "metadata": {},
     "output_type": "execute_result"
    },
    {
     "data": {
      "image/png": "[encoded data removed]",
      "text/plain": [
       "<Figure size 640x480 with 2 Axes>"
      ]
     },
     "metadata": {},
     "output_type": "display_data"
    }
   ],
   "source": [
    "sns.heatmap(prep_df.corr(), cmap='rocket_r', annot=True)"
   ]
  },
  {
   "cell_type": "code",
   "execution_count": 32,
   "metadata": {},
   "outputs": [
    {
     "data": {
      "text/html": [
       "<div>\n",
       "<style scoped>\n",
       "    .dataframe tbody tr th:only-of-type {\n",
       "        vertical-align: middle;\n",
       "    }\n",
       "\n",
       "    .dataframe tbody tr th {\n",
       "        vertical-align: top;\n",
       "    }\n",
       "\n",
       "    .dataframe thead th {\n",
       "        text-align: right;\n",
       "    }\n",
       "</style>\n",
       "<table border=\"1\" class=\"dataframe\">\n",
       "  <thead>\n",
       "    <tr style=\"text-align: right;\">\n",
       "      <th></th>\n",
       "      <th>title</th>\n",
       "      <th>description</th>\n",
       "      <th>channelTitle</th>\n",
       "      <th>categoryId</th>\n",
       "      <th>viewCount</th>\n",
       "      <th>log_duration_secs</th>\n",
       "      <th>topicCategories</th>\n",
       "      <th>publishedDayDelta</th>\n",
       "      <th>topicLabel</th>\n",
       "    </tr>\n",
       "  </thead>\n",
       "  <tbody>\n",
       "    <tr>\n",
       "      <th>0</th>\n",
       "      <td>BART BAKER - \"POLYDOGE\" (OFFICIAL MUSIC  VIDEO)</td>\n",
       "      <td>\"POLYDOGE\" (OFFICIAL MUSIC  VIDEO)\\nJoin us on...</td>\n",
       "      <td>bart baker</td>\n",
       "      <td>10.0</td>\n",
       "      <td>463637.0</td>\n",
       "      <td>4.595120</td>\n",
       "      <td>[hip_hop_music, music]</td>\n",
       "      <td>350</td>\n",
       "      <td>comedy</td>\n",
       "    </tr>\n",
       "    <tr>\n",
       "      <th>1</th>\n",
       "      <td>WTF HAPPENED TO ME? (WHY I DISAPEARED)</td>\n",
       "      <td>I'm back. I'm sorry. Please forgive me. I love...</td>\n",
       "      <td>bart baker</td>\n",
       "      <td>22.0</td>\n",
       "      <td>768016.0</td>\n",
       "      <td>6.100319</td>\n",
       "      <td>[lifestyle_(sociology), technology]</td>\n",
       "      <td>418</td>\n",
       "      <td>comedy</td>\n",
       "    </tr>\n",
       "    <tr>\n",
       "      <th>2</th>\n",
       "      <td>6ix9ine, Nicki Minaj, Murda Beatz - “FEFE” PARODY</td>\n",
       "      <td>6ix9ine, Nicki Minaj, Murda Beatz - \"FEFE\" PAR...</td>\n",
       "      <td>bart baker</td>\n",
       "      <td>23.0</td>\n",
       "      <td>16015064.0</td>\n",
       "      <td>5.568345</td>\n",
       "      <td>[hip_hop_music, music]</td>\n",
       "      <td>1519</td>\n",
       "      <td>comedy</td>\n",
       "    </tr>\n",
       "    <tr>\n",
       "      <th>3</th>\n",
       "      <td>DESTROYING MY GOLD YOUTUBE PLAY BUTTON</td>\n",
       "      <td>▶ DOWNLOAD SQUAD RIVALS - https://qkq5h.app.go...</td>\n",
       "      <td>bart baker</td>\n",
       "      <td>23.0</td>\n",
       "      <td>1650333.0</td>\n",
       "      <td>6.501290</td>\n",
       "      <td>[lifestyle_(sociology), technology]</td>\n",
       "      <td>1590</td>\n",
       "      <td>comedy</td>\n",
       "    </tr>\n",
       "    <tr>\n",
       "      <th>4</th>\n",
       "      <td>Childish Gambino - \"This Is America\" PARODY</td>\n",
       "      <td>\"This Is America\"</td>\n",
       "      <td>bart baker</td>\n",
       "      <td>23.0</td>\n",
       "      <td>3808210.0</td>\n",
       "      <td>4.369448</td>\n",
       "      <td>[hip_hop_music, independent_music, music]</td>\n",
       "      <td>1595</td>\n",
       "      <td>comedy</td>\n",
       "    </tr>\n",
       "  </tbody>\n",
       "</table>\n",
       "</div>"
      ],
      "text/plain": [
       "                                               title  \\\n",
       "0    BART BAKER - \"POLYDOGE\" (OFFICIAL MUSIC  VIDEO)   \n",
       "1             WTF HAPPENED TO ME? (WHY I DISAPEARED)   \n",
       "2  6ix9ine, Nicki Minaj, Murda Beatz - “FEFE” PARODY   \n",
       "3             DESTROYING MY GOLD YOUTUBE PLAY BUTTON   \n",
       "4        Childish Gambino - \"This Is America\" PARODY   \n",
       "\n",
       "                                         description channelTitle  categoryId  \\\n",
       "0  \"POLYDOGE\" (OFFICIAL MUSIC  VIDEO)\\nJoin us on...   bart baker        10.0   \n",
       "1  I'm back. I'm sorry. Please forgive me. I love...   bart baker        22.0   \n",
       "2  6ix9ine, Nicki Minaj, Murda Beatz - \"FEFE\" PAR...   bart baker        23.0   \n",
       "3  ▶ DOWNLOAD SQUAD RIVALS - https://qkq5h.app.go...   bart baker        23.0   \n",
       "4                                  \"This Is America\"   bart baker        23.0   \n",
       "\n",
       "    viewCount  log_duration_secs                            topicCategories  \\\n",
       "0    463637.0           4.595120                     [hip_hop_music, music]   \n",
       "1    768016.0           6.100319        [lifestyle_(sociology), technology]   \n",
       "2  16015064.0           5.568345                     [hip_hop_music, music]   \n",
       "3   1650333.0           6.501290        [lifestyle_(sociology), technology]   \n",
       "4   3808210.0           4.369448  [hip_hop_music, independent_music, music]   \n",
       "\n",
       "   publishedDayDelta topicLabel  \n",
       "0                350     comedy  \n",
       "1                418     comedy  \n",
       "2               1519     comedy  \n",
       "3               1590     comedy  \n",
       "4               1595     comedy  "
      ]
     },
     "execution_count": 32,
     "metadata": {},
     "output_type": "execute_result"
    }
   ],
   "source": [
    "prep_df.head()"
   ]
  },
  {
   "cell_type": "markdown",
   "metadata": {},
   "source": [
    "### Data Mining\n",
    "convert text into Word2Vec"
   ]
  },
  {
   "cell_type": "markdown",
   "metadata": {},
   "source": [
    "We use gensim pretrained model called 'glove-wiki-gigaword-50' with the model trained on wikipedia dataset"
   ]
  },
  {
   "cell_type": "code",
   "execution_count": 33,
   "metadata": {},
   "outputs": [],
   "source": [
    "# importing pretrained gensim model to convert text tokens into vector\n",
    "model_wv = api.load('glove-wiki-gigaword-50')"
   ]
  },
  {
   "cell_type": "code",
   "execution_count": 34,
   "metadata": {},
   "outputs": [],
   "source": [
    "# function to convert token to word vector with word2vec finding average vector for the document\n",
    "# tokenize function with df series as input to give a list of list result of each title\n",
    "def df_token(df_text_series):\n",
    "    # set of english stopwords\n",
    "    stopset = set(stopwords.words('english'))\n",
    "    token_item = []\n",
    "    for t in df_text_series:\n",
    "        if type(t) == list:\n",
    "            t = str(' '.join(t))\n",
    "        else:\n",
    "            pass\n",
    "        try:\n",
    "            tokens = [word for word in word_tokenize(t.lower()) if word not in stopset]\n",
    "        except:\n",
    "            tokens == None\n",
    "        token_item.append(tokens)\n",
    "    return token_item\n",
    "\n",
    "def gen_word_vec(df_text_series, wordvec):\n",
    "    word_vector = []\n",
    "    for token in df_token(df_text_series):\n",
    "        token_considered = [t for t in token if t.isalpha]\n",
    "        token_vocab = [i for i in token_considered if i in wordvec.key_to_index]\n",
    "        if len(token_vocab) > 0:\n",
    "            word_vector.append(np.mean(wordvec[token_vocab], axis=0))\n",
    "        else:\n",
    "            word_vector.append(np.zeros(wordvec.vector_size))\n",
    "    word_vector = np.array(word_vector)\n",
    "    return word_vector"
   ]
  },
  {
   "cell_type": "markdown",
   "metadata": {},
   "source": [
    "features to work with"
   ]
  },
  {
   "cell_type": "code",
   "execution_count": 35,
   "metadata": {},
   "outputs": [],
   "source": [
    "title_word_vec = gen_word_vec(prep_df.title, model_wv)\n",
    "# tag_word_vec = gen_word_vec(prep_df.tags, model_wv)\n",
    "desc_word_vec = gen_word_vec(prep_df.description, model_wv)\n",
    "topic_word_vec = gen_word_vec(prep_df.topicCategories, model_wv)\n",
    "label_word_vec = gen_word_vec(prep_df.topicLabel, model_wv)"
   ]
  },
  {
   "cell_type": "code",
   "execution_count": 36,
   "metadata": {},
   "outputs": [
    {
     "data": {
      "text/plain": [
       "(54247, 50)"
      ]
     },
     "execution_count": 36,
     "metadata": {},
     "output_type": "execute_result"
    }
   ],
   "source": [
    "# with multiple features we\n",
    "title_word_vec.shape"
   ]
  },
  {
   "cell_type": "markdown",
   "metadata": {},
   "source": [
    "extracting cosine similarity"
   ]
  },
  {
   "cell_type": "code",
   "execution_count": 37,
   "metadata": {},
   "outputs": [],
   "source": [
    "# from numpy.linalg import norm\n",
    "\n",
    "# A = title_word_vec\n",
    "# B = title_word_vec.T\n",
    "# avg_cosine = []\n",
    "# cosine = np.dot(A,B)/(norm(A)*norm(B))\n",
    "# for i in range(A.shape[0]):\n",
    "#     avg_cosine.append(np.mean(cosine[i]))"
   ]
  },
  {
   "cell_type": "code",
   "execution_count": 38,
   "metadata": {},
   "outputs": [],
   "source": [
    "# np.array(avg_cosine).shape"
   ]
  },
  {
   "cell_type": "code",
   "execution_count": 39,
   "metadata": {},
   "outputs": [],
   "source": [
    "import dask.array as da\n",
    "from sklearn.metrics.pairwise import cosine_similarity\n",
    "A = title_word_vec\n",
    "vectors = da.from_array(A, 10000)\n",
    "cosine = cosine_similarity(vectors)\n",
    "avg_cosine_dask = []\n",
    "for i in range(A.shape[0]):\n",
    "    avg_cosine_dask.append(np.mean(cosine[i]))"
   ]
  },
  {
   "cell_type": "markdown",
   "metadata": {},
   "source": [
    "Reduce dimensionality using PCA"
   ]
  },
  {
   "cell_type": "code",
   "execution_count": null,
   "metadata": {},
   "outputs": [],
   "source": [
    "# initiate PCA with 1 components\n",
    "pca = PCA(n_components=1)\n",
    "title_pc = pca.fit_transform(title_word_vec)\n",
    "# tag_pc = pca.fit_transform(tag_word_vec)\n",
    "desc_pc = pca.fit_transform(desc_word_vec)\n",
    "topic_pc = pca.fit_transform(topic_word_vec)\n",
    "label_pc = pca.fit_transform(label_word_vec)"
   ]
  },
  {
   "cell_type": "code",
   "execution_count": null,
   "metadata": {},
   "outputs": [],
   "source": [
    "#copy prep_df to be worked with\n",
    "vec_df = prep_df.copy()\n",
    "#replace df with each vector PCs\n",
    "vec_df['titleVec'] = title_pc\n",
    "vec_df['label'] = label_pc\n",
    "vec_df['description'] = desc_pc\n",
    "vec_df['topicCategories'] = topic_pc\n",
    "vec_df['avgTitleCosine'] =avg_cosine_dask"
   ]
  },
  {
   "cell_type": "code",
   "execution_count": null,
   "metadata": {},
   "outputs": [],
   "source": [
    "vec_df.sample(3)"
   ]
  },
  {
   "cell_type": "code",
   "execution_count": null,
   "metadata": {},
   "outputs": [],
   "source": [
    "vec_df.iloc[40, 0]"
   ]
  },
  {
   "cell_type": "code",
   "execution_count": null,
   "metadata": {},
   "outputs": [],
   "source": [
    "view_vec = vec_df.drop(columns=['channelTitle', 'title'])"
   ]
  },
  {
   "cell_type": "code",
   "execution_count": null,
   "metadata": {},
   "outputs": [],
   "source": [
    "view_vec.sample(3)"
   ]
  },
  {
   "cell_type": "code",
   "execution_count": null,
   "metadata": {},
   "outputs": [],
   "source": [
    "norm_view_vec = vec_df.copy()\n",
    "norm_view_vec['averageView'] = norm_view_vec.viewCount/norm_view_vec.publishedDayDelta\n",
    "norm_view_vec['normalizedScore'] = norm_view_vec.groupby('topicLabel').averageView.apply(lambda x: x/x.median())\n",
    "norm_view_vec.drop(['channelTitle', 'viewCount', 'averageView' , 'title'], axis=1, inplace=True)"
   ]
  },
  {
   "cell_type": "code",
   "execution_count": null,
   "metadata": {},
   "outputs": [],
   "source": [
    "norm_view_vec.sample(3)"
   ]
  },
  {
   "cell_type": "markdown",
   "metadata": {},
   "source": [
    "### Unsupervised Machine Learning"
   ]
  },
  {
   "cell_type": "code",
   "execution_count": null,
   "metadata": {},
   "outputs": [],
   "source": [
    "# scale the df to be fitted with PCA\n",
    "scaler = StandardScaler()\n",
    "scale_view_vec = scaler.fit_transform(view_vec)\n",
    "scale_norm_view_vec = scaler.fit_transform(norm_view_vec)"
   ]
  },
  {
   "cell_type": "code",
   "execution_count": null,
   "metadata": {},
   "outputs": [],
   "source": [
    "scale_norm_view_df = pd.DataFrame(scale_norm_view_vec, columns=norm_view_vec.columns)"
   ]
  },
  {
   "cell_type": "code",
   "execution_count": null,
   "metadata": {},
   "outputs": [],
   "source": [
    "sns.pairplot(scale_norm_view_df, height=1.5)"
   ]
  },
  {
   "cell_type": "code",
   "execution_count": null,
   "metadata": {},
   "outputs": [],
   "source": [
    "fig, ax = plt.subplots(figsize=(12,12))\n",
    "sns.heatmap(ax=ax, data=scale_norm_view_df.corr(), cmap='coolwarm_r', annot=True)"
   ]
  },
  {
   "cell_type": "code",
   "execution_count": null,
   "metadata": {},
   "outputs": [],
   "source": [
    "# create biplot source from https://sukhbinder.wordpress.com/2015/08/05/biplot-with-python/ + unsupervise learning class\n",
    "def biplot(score, coeff, maxdim, pcax=1, pcay=2, labels=None):\n",
    "    '''\n",
    "    score: pca fit_transform\n",
    "    coeff: components.transpose\n",
    "    '''\n",
    "    pca1=pcax-1\n",
    "    pca2=pcay-1\n",
    "    xs = score[:,pca1]\n",
    "    ys = score[:,pca2]\n",
    "    n = min(coeff.shape[0], maxdim)\n",
    "    scalex = 2.0/(xs.max()- xs.min())\n",
    "    scaley = 2.0/(ys.max()- ys.min())\n",
    "    text_scale_factor = 1.5\n",
    "    plt.figure(figsize=(12, 8))\n",
    "    plt.scatter(xs*scalex, ys*scaley, s=1)\n",
    "    for i in range(n):\n",
    "        plt.arrow(0, 0, coeff[i,pca1], coeff[i,pca2],color='r',alpha=0.5) \n",
    "        if labels is None:\n",
    "            plt.text(coeff[i,pca1]* text_scale_factor, coeff[i,pca2] * text_scale_factor, \"Var\"+str(i+1), color='k', ha='center', va='center')\n",
    "        else:\n",
    "            plt.text(coeff[i,pca1]* text_scale_factor, coeff[i,pca2], labels[i], color='m', ha='center', va='center')\n",
    "    plt.xlim(-1,1)\n",
    "    plt.ylim(-1,1)\n",
    "    plt.xlabel(\"PC{}\".format(pcax))\n",
    "    plt.ylabel(\"PC{}\".format(pcay))\n",
    "    plt.grid()"
   ]
  },
  {
   "cell_type": "code",
   "execution_count": null,
   "metadata": {},
   "outputs": [],
   "source": [
    "# biplot viewCount\n",
    "score_pca = PCA(n_components=2)\n",
    "score = score_pca.fit_transform(scale_view_vec)\n",
    "labels = view_vec.columns\n",
    "coeff = np.transpose(score_pca.components_)\n",
    "biplot(score,coeff, maxdim=12, labels=labels)"
   ]
  },
  {
   "cell_type": "code",
   "execution_count": null,
   "metadata": {},
   "outputs": [],
   "source": [
    "#biplot normalizedView\n",
    "score_pca = PCA(n_components=8).fit(scale_norm_view_vec)\n",
    "score = score_pca.transform(scale_norm_view_vec)\n",
    "labels = scale_norm_view_df.columns\n",
    "coeff = np.transpose(score_pca.components_)\n",
    "biplot(score,coeff, maxdim=12, labels=labels);"
   ]
  },
  {
   "cell_type": "code",
   "execution_count": null,
   "metadata": {},
   "outputs": [],
   "source": [
    "# scree plot\n",
    "PC_values = np.arange(score_pca.n_components_) + 1\n",
    "plt.figure(figsize=(6, 6))\n",
    "plt.plot(PC_values, score_pca.explained_variance_ratio_, 'o-', linewidth=2, color='blue')\n",
    "plt.title('Scree Plot')\n",
    "plt.xlabel('Principal Component')\n",
    "plt.ylabel('Variance Explained')\n",
    "plt.show()"
   ]
  },
  {
   "cell_type": "code",
   "execution_count": null,
   "metadata": {},
   "outputs": [],
   "source": [
    "# Let's explore the clustering of word embadding vector using K-Means\n",
    "# first let's find optimal number of cluster using elbow methods\n",
    "\n",
    "# # stardize the data in case the data are not normalized\n",
    "# df_clustering = df.copy()\n",
    "# X = StandardScaler().fit_transform(df_clustering.iloc[:, 1:])\n",
    "\n",
    "# workingin title word embedding\n",
    "sse=[] # sum of square error\n",
    "list_k = list(range(1, 50))\n",
    "\n",
    "X = scale_norm_view_vec\n",
    "for k in list_k:\n",
    "    km = MiniBatchKMeans(n_clusters=k, init='k-means++', max_iter=300, random_state=0, batch_size=2048)\n",
    "    km.fit(X)\n",
    "    sse.append(km.inertia_)\n",
    "\n",
    "plt.figure(figsize=(6, 6))\n",
    "plt.plot(list_k, sse, '-o')\n",
    "plt.xlabel(r'Number of clusters *k*')\n",
    "plt.ylabel('Sum of squared distance');"
   ]
  },
  {
   "cell_type": "code",
   "execution_count": null,
   "metadata": {},
   "outputs": [],
   "source": [
    "# # let's explore cluster with yellowbrick KElbowVisualizer\n",
    "# # from yellowbrick.cluster import KElbowVisualizer\n",
    "# X = scale_norm_view_vec\n",
    "# model = MiniBatchKMeans(n_clusters=k, init='k-means++', max_iter=300, random_state=0, batch_size=2048)\n",
    "# visualizer = KElbowVisualizer(model, k=(3,13))\n",
    "# visualizer.fit(X)\n",
    "# visualizer.show()"
   ]
  },
  {
   "cell_type": "code",
   "execution_count": null,
   "metadata": {},
   "outputs": [],
   "source": [
    "# # let's explore the score with silhouette score\n",
    "# visualizer_ss = KElbowVisualizer(model, metric='silhouette', k=(3,13))\n",
    "# visualizer_ss.fit(X)\n",
    "# visualizer_ss.show()"
   ]
  },
  {
   "cell_type": "code",
   "execution_count": null,
   "metadata": {},
   "outputs": [],
   "source": [
    "# # let's explore the score with calinski_harabasz score\n",
    "# visualizer_chs = KElbowVisualizer(model, metric='calinski_harabasz', k=(3,13))\n",
    "# visualizer_chs.fit(X)\n",
    "# visualizer_chs.show()"
   ]
  },
  {
   "cell_type": "markdown",
   "metadata": {},
   "source": [
    "Let's explore silhouette plot to examine different number of cluster."
   ]
  },
  {
   "cell_type": "code",
   "execution_count": null,
   "metadata": {},
   "outputs": [],
   "source": [
    "# # silhouette score plot with yellowbrick\n",
    "# model_k = MiniBatchKMeans(n_clusters=7, init='k-means++', max_iter=300, random_state=0, batch_size=2048)\n",
    "# visualizer_silhouette = SilhouetteVisualizer(model_k, colors='yellowbrick')\n",
    "# visualizer_silhouette.fit(X)\n",
    "# visualizer_silhouette.show()"
   ]
  },
  {
   "cell_type": "code",
   "execution_count": null,
   "metadata": {},
   "outputs": [],
   "source": [
    "# # use silhouette plot based on sklearn documentation page https://scikit-learn.org/stable/auto_examples/cluster/plot_kmeans_silhouette_analysis.html\n",
    "# #set the dataset to be working with\n",
    "# X = scale_norm_view_vec\n",
    "\n",
    "# for i, k in enumerate([5, 6, 7, 9, 10, 11]):\n",
    "#     fig, (ax1, ax2) = plt.subplots(1, 2)\n",
    "#     fig.set_size_inches(18, 7)\n",
    "    \n",
    "#     # Run the Kmeans algorithm\n",
    "#     kmeans = MiniBatchKMeans(n_clusters=k, init='k-means++', max_iter=300, random_state=0, batch_size=2048)\n",
    "#     labels = kmeans.fit_predict(X)\n",
    "#     # centroids = kmeans.cluster_centers_\n",
    "\n",
    "#     # Get silhouette samples\n",
    "#     silhouette_vals = silhouette_samples(X, labels)\n",
    "\n",
    "#     # Silhouette plot\n",
    "#     y_ticks = []\n",
    "#     y_lower, y_upper = 0, 0\n",
    "#     for i, cluster in enumerate(np.unique(labels)):\n",
    "#         cluster_silhouette_vals = silhouette_vals[labels == cluster]\n",
    "#         cluster_silhouette_vals.sort()\n",
    "#         y_upper += len(cluster_silhouette_vals)\n",
    "#         ax1.barh(range(y_lower, y_upper), cluster_silhouette_vals, edgecolor='none', height=1)\n",
    "#         ax1.text(-0.03, (y_lower + y_upper) / 2, str(i + 1))\n",
    "#         y_lower += len(cluster_silhouette_vals)\n",
    "\n",
    "#     # Get the average silhouette score and plot it\n",
    "#     avg_score = np.mean(silhouette_vals)\n",
    "#     ax1.axvline(avg_score, linestyle='--', linewidth=2, color='green')\n",
    "#     ax1.set_yticks([])\n",
    "#     ax1.set_xlim([-0.1, 1])\n",
    "#     ax1.set_xlabel('Silhouette coefficient values')\n",
    "#     ax1.set_ylabel('Cluster labels')\n",
    "#     ax1.set_title('Silhouette plot for the various clusters', y=1.02);\n",
    "    \n",
    "#     # Use PCA to flatten the data\n",
    "#     embedding = PCA(n_components=2)\n",
    "#     pca = pd.DataFrame(embedding.fit_transform(X), columns = ['component1','component2'])\n",
    "#     pca['labels'] = kmeans.predict(X)\n",
    "\n",
    "#     # Scatter plot of data colored with labels\n",
    "#     ax2.scatter(pca['component1'], pca['component2'], c=labels)\n",
    "#     # ax2.scatter(centroids[:, 0], centroids[:, 1], marker='*', c='r', s=250)\n",
    "#     # ax2.set_xlim([-2, 2])\n",
    "#     # ax2.set_xlim([-2, 2])\n",
    "#     ax2.set_xlabel('Component 1')\n",
    "#     ax2.set_ylabel('Component 2')\n",
    "#     ax2.set_title('Visualization of clustered data', y=1.02)\n",
    "#     ax2.set_aspect('equal')\n",
    "#     plt.tight_layout()\n",
    "#     plt.suptitle(f'Silhouette analysis using k = {k}',\n",
    "#                  fontsize=16, fontweight='semibold', y=1.05);"
   ]
  },
  {
   "cell_type": "code",
   "execution_count": null,
   "metadata": {},
   "outputs": [],
   "source": [
    "# sample data to plot with t-SNE\n",
    "norm_df = pd.DataFrame(scale_norm_view_vec)\n",
    "norm_df['title'] = vec_df.title\n",
    "cluster_X = norm_df.iloc[:,:-2]\n",
    "kmeans = MiniBatchKMeans(n_clusters=7, init='k-means++', max_iter=300, random_state=0, batch_size=2048)\n",
    "labels = kmeans.fit_predict(cluster_X)\n",
    "norm_df['label'] = labels\n",
    "# sample 800 data\n",
    "target_df = norm_df.sample(1000)\n",
    "X = target_df.iloc[:,:-3]\n",
    "labels = target_df.iloc[:,-1]\n"
   ]
  },
  {
   "cell_type": "code",
   "execution_count": null,
   "metadata": {},
   "outputs": [],
   "source": [
    "target_df"
   ]
  },
  {
   "cell_type": "code",
   "execution_count": null,
   "metadata": {},
   "outputs": [],
   "source": [
    "# pca is showing promising cluster let's try t-SNE with text adjusting\n",
    "# Initialize t-SNE\n",
    "tsne = TSNE(n_components = 2, init = 'random', random_state = 0, perplexity = 75)\n",
    "\n",
    "# flatten the data and clustering then plot the cluster with t-SNE\n",
    "tsne_df = pd.DataFrame(tsne.fit_transform(X), columns = ['component1','component2'])\n",
    "# tsne_df['labels'] = labels\n",
    "# print(tsne_df)\n",
    "fig, ax = plt.subplots(figsize = (14, 10))\n",
    "# sns.scatterplot(tsne_df['component1'], tsne_df['component2'], alpha = 0.5, hue=labels)\n",
    "ax.scatter(tsne_df['component1'], tsne_df['component2'], c=labels)\n",
    "\n",
    "# use adjustText to help position the text\n",
    "from adjustText import adjust_text\n",
    "\n",
    "texts = []\n",
    "titles_to_plot = list(np.arange(0, 1000, 50)) # plots every 40th title in first 400 titles\n",
    "\n",
    "# Append words to list\n",
    "for title in titles_to_plot:\n",
    "    texts.append(plt.text(tsne_df.iloc[title, 0], tsne_df.iloc[title, 1], target_df.title.iloc[title], fontsize = 9))\n",
    "    \n",
    "# Plot text using adjust_text\n",
    "adjust_text(texts, force_points = 0.4, force_text = 0.5, \n",
    "            expand_points = (2,1), expand_text = (1,2),\n",
    "            arrowprops = dict(arrowstyle = \"-\", color = 'black', lw = 0.5))\n",
    "\n",
    "plt.show()\n"
   ]
  },
  {
   "cell_type": "code",
   "execution_count": null,
   "metadata": {},
   "outputs": [],
   "source": [
    "# try 3-D representation with t_SNE\n",
    "from wsgiref.headers import tspecials\n",
    "from mpl_toolkits.mplot3d import Axes3D\n",
    "# to create interactive 3D plot\n",
    "%matplotlib widget\n",
    "\n",
    "# Initialize t-SNE with 3 components for 3-dimensional plot\n",
    "tsne = TSNE(n_components = 3, init = 'random', random_state = 0, perplexity = 75)\n",
    "\n",
    "# flatten the data and clustering then plot the cluster with t-SNE\n",
    "tsne_df = pd.DataFrame(tsne.fit_transform(X), columns = ['component1','component2', 'component3'])\n",
    "fig = plt.figure()\n",
    "ax = Axes3D(fig)\n",
    "ax.scatter(tsne_df['component1'], tsne_df['component2'], tsne_df['component3'], c=labels)\n",
    "\n",
    "plt.show()"
   ]
  },
  {
   "cell_type": "markdown",
   "metadata": {},
   "source": [
    "### Supervised Machine Learning"
   ]
  },
  {
   "cell_type": "code",
   "execution_count": null,
   "metadata": {},
   "outputs": [],
   "source": [
    "norm_view_vec.sample(3)"
   ]
  },
  {
   "cell_type": "code",
   "execution_count": null,
   "metadata": {},
   "outputs": [],
   "source": [
    "# try using the features to predict the normalizedView using XGboost\n",
    "import xgboost as xgb\n",
    "from sklearn.model_selection import train_test_split\n",
    "from sklearn import metrics\n",
    "from sklearn.linear_model import LinearRegression, Ridge, Lasso\n",
    "from sklearn.dummy import DummyRegressor\n",
    "from sklearn.svm import SVR\n",
    "from sklearn.tree import DecisionTreeRegressor"
   ]
  },
  {
   "cell_type": "code",
   "execution_count": null,
   "metadata": {},
   "outputs": [],
   "source": [
    "# data do not need to be scaled for XGboost since it is based on ensemble machine learning\n",
    "X, y = norm_view_vec.iloc[:, :-1], norm_view_vec.iloc[:, -1]\n",
    "  \n",
    "# Splitting\n",
    "X_train, X_test, y_train, y_test = train_test_split(X, y, \n",
    "                                test_size = 0.3, random_state = 0)\n",
    "  \n",
    "# Models Instantiation\n",
    "lr = LinearRegression(fit_intercept=False)\n",
    "llr = Lasso(alpha=0.1)\n",
    "rr = Ridge(alpha=1.0)\n",
    "dr = DummyRegressor(strategy=\"mean\")\n",
    "# svr = SVR(kernel = 'linear')\n",
    "# dtr = DecisionTreeRegressor(max_depth=10)\n",
    "xgb_r = xgb.XGBRegressor(objective ='reg:squarederror', booster='gbtree', max_depth=10,\n",
    "                  n_estimators = 40, random_state=0, learning_rate=0.08)\n",
    "# Fitting the model\n",
    "lr.fit(X_train, y_train)\n",
    "llr.fit(X_train, y_train)\n",
    "rr.fit(X_train, y_train)\n",
    "dr.fit(X_train, y_train)\n",
    "# svr.fit(X_train, y_train)\n",
    "# dtr.fit(X_train, y_train)\n",
    "xgb_r.fit(X_train, y_train)\n",
    "  \n",
    "# Predict the model\n",
    "lr_pred = lr.predict(X_test)\n",
    "llr_pred = llr.predict(X_test)\n",
    "rr_pred = rr.predict(X_test)\n",
    "dr_pred = dr.predict(X_test)\n",
    "# svr_pred = svr.predict(X_test)\n",
    "# dtr_pred = dtr.predict(X_test)\n",
    "xgb_pred = xgb_r.predict(X_test)\n",
    "\n"
   ]
  },
  {
   "cell_type": "code",
   "execution_count": null,
   "metadata": {},
   "outputs": [],
   "source": [
    "def ret_metrics(y_test, pred):\n",
    "  mae = metrics.mean_absolute_error(y_test, pred)\n",
    "  mse = metrics.mean_squared_error(y_test, pred)\n",
    "  rmse = np.sqrt(mse)\n",
    "\n",
    "  return mae, mse, rmse"
   ]
  },
  {
   "cell_type": "code",
   "execution_count": null,
   "metadata": {},
   "outputs": [],
   "source": [
    "# prediction scores\n",
    "print(f\"LR metrics for mae, mse, rmse are: {ret_metrics(y_test, lr_pred)}\")\n",
    "print(f\"LLR metrics for mae, mse, rmse are: {ret_metrics(y_test, llr_pred)}\")\n",
    "print(f\"DR metrics for mae, mse, rmse are: {ret_metrics(y_test, dr_pred)}\")\n",
    "print(f\"RR metrics for mae, mse, rmse are: {ret_metrics(y_test, rr_pred)}\")\n",
    "# print(f\"SVR metrics for mae, mse, rmse are: {ret_metrics(y_test, svr_pred)}\")\n",
    "# print(f\"DTR metrics for mae, mse, rmse are: {ret_metrics(y_test, dtr_pred)}\")\n",
    "print(f\"XGB metrics for mae, mse, rmse are: {ret_metrics(y_test, xgb_pred)}\")"
   ]
  },
  {
   "cell_type": "code",
   "execution_count": null,
   "metadata": {},
   "outputs": [],
   "source": [
    "from yellowbrick.regressor import prediction_error\n",
    "error_visualizer = prediction_error(xgb_r, X_train, y_train, X_test, y_test)\n"
   ]
  },
  {
   "cell_type": "code",
   "execution_count": null,
   "metadata": {},
   "outputs": [],
   "source": [
    "# plot features importance based on xgboost ensemble model\n",
    "from xgboost import plot_importance\n",
    "\n",
    "plot_importance(xgb_r)\n",
    "plt.show()"
   ]
  },
  {
   "cell_type": "code",
   "execution_count": null,
   "metadata": {},
   "outputs": [],
   "source": [
    "print(X_train.shape)\n",
    "print(y_train.shape)\n",
    "print(X_test.shape)\n",
    "print(y_test.shape)"
   ]
  },
  {
   "cell_type": "code",
   "execution_count": null,
   "metadata": {},
   "outputs": [],
   "source": [
    "# adjusted based on code from https://thinkingneuron.com/using-artificial-neural-networks-for-regression-in-python/\n",
    "# try neural network model for prediction\n",
    "import tensorflow as tf\n",
    "from keras.models import Sequential\n",
    "from keras.layers import Dense\n",
    "\n",
    "# create model function to be used in GridSearchCV\n",
    "def make_Ann(Optimizer_trial):\n",
    "    # using ANN to fit the regression\n",
    "    model = Sequential()\n",
    "\n",
    "    # input layer (first hidden layer)\n",
    "    model.add(Dense(units=5, input_dim=7, kernel_initializer='normal', activation='relu'))\n",
    "\n",
    "    # add second layer\n",
    "    model.add(Dense(units=5, kernel_initializer='normal', activation='relu'))\n",
    "\n",
    "    # output neuron for regression is a single fully connected node\n",
    "    model.add(Dense(1, kernel_initializer='normal'))\n",
    "\n",
    "    # compile the model\n",
    "    model.compile(loss='mean_squared_error', optimizer=Optimizer_trial)\n",
    "\n",
    "    return model"
   ]
  },
  {
   "cell_type": "code",
   "execution_count": null,
   "metadata": {},
   "outputs": [],
   "source": [
    "# ###########################################\n",
    "# from sklearn.model_selection import GridSearchCV\n",
    "# from keras.wrappers.scikit_learn import KerasRegressor\n",
    " \n",
    "# # Listing all the parameters to try\n",
    "# Parameter_Trials={'batch_size':[10,20,30,40],\n",
    "#                       'epochs':[10,20,30],\n",
    "#                     'Optimizer_trial':['adam', 'rmsprop']\n",
    "#                  }\n",
    " \n",
    "# # Creating the regression ANN model\n",
    "# RegModel=KerasRegressor(make_Ann, verbose=0)\n",
    " \n",
    "# ###########################################\n",
    "# from sklearn.metrics import make_scorer\n",
    " \n",
    "# # Defining a custom function to calculate accuracy\n",
    "# def Accuracy_Score(orig,pred):\n",
    "#     MAPE = np.mean(100 * (np.abs(orig-pred)/orig))\n",
    "#     print('#'*70,'Accuracy:', 100-MAPE)\n",
    "#     return(100-MAPE)\n",
    " \n",
    "# custom_Scoring=make_scorer(Accuracy_Score, greater_is_better=True)\n",
    " \n",
    "# #########################################\n",
    "# # Creating the Grid search space\n",
    "# # See different scoring methods by using sklearn.metrics.SCORERS.keys()\n",
    "# grid_search=GridSearchCV(estimator=RegModel, \n",
    "#                          param_grid=Parameter_Trials, \n",
    "#                          scoring=custom_Scoring, \n",
    "#                          cv=5)\n",
    " \n",
    "# #########################################\n",
    "# # Measuring how much time it took to find the best params\n",
    "# import time\n",
    "# StartTime=time.time()\n",
    " \n",
    "# # Running Grid Search for different paramenters\n",
    "# grid_search.fit(X,y, verbose=1)\n",
    " \n",
    "# EndTime=time.time()\n",
    "# print(\"########## Total Time Taken: \", round((EndTime-StartTime)/60), 'Minutes')\n",
    " \n",
    "# print('### Printing Best parameters ###')\n",
    "# grid_search.best_params_"
   ]
  },
  {
   "cell_type": "code",
   "execution_count": null,
   "metadata": {},
   "outputs": [],
   "source": [
    "# # fitting the model with best parameters\n",
    "# model = make_Ann(grid_search.best_params_['Optimizer_trial'])\n",
    "# model.fit(X_train, y_train, batch_size = grid_search.best_params_['batch_size'], epochs = grid_search.best_params_['epochs'] )"
   ]
  },
  {
   "cell_type": "code",
   "execution_count": null,
   "metadata": {},
   "outputs": [],
   "source": [
    "model = make_Ann('adam')\n",
    "model.fit(X_train, y_train, batch_size = 30, epochs = 10)"
   ]
  },
  {
   "cell_type": "code",
   "execution_count": null,
   "metadata": {},
   "outputs": [],
   "source": [
    "# make prediction on testing data\n",
    "nn_pred = model.predict(X_test)\n",
    "# prediction score\n",
    "print(f\"NN metrics for mae, mse, rmse are: {ret_metrics(y_test, nn_pred)}\")"
   ]
  },
  {
   "cell_type": "code",
   "execution_count": null,
   "metadata": {},
   "outputs": [],
   "source": []
  },
  {
   "cell_type": "code",
   "execution_count": null,
   "metadata": {},
   "outputs": [],
   "source": []
  }
 ],
 "metadata": {
  "kernelspec": {
   "display_name": "Python 3 (ipykernel)",
   "language": "python",
   "name": "python3"
  },
  "language_info": {
   "codemirror_mode": {
    "name": "ipython",
    "version": 3
   },
   "file_extension": ".py",
   "mimetype": "text/x-python",
   "name": "python",
   "nbconvert_exporter": "python",
   "pygments_lexer": "ipython3",
   "version": "3.10.4"
  },
  "vscode": {
   "interpreter": {
    "hash": "467f60c46b88ea196e8e4e51716c4f14b05141d893e1660e0038b81da854c476"
   }
  }
 },
 "nbformat": 4,
 "nbformat_minor": 2
}
