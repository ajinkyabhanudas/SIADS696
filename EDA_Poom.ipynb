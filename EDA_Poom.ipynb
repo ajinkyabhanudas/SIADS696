{
 "cells": [
  {
   "cell_type": "markdown",
   "metadata": {},
   "source": [
    "#### Data Extraction\n",
    "extract essential information from JSON for the analysis\n",
    "\"title\",\"views\", \"likes\",\"comments\", 'duration','tag','description', 'channel', 'category', 'published'"
   ]
  },
  {
   "cell_type": "code",
   "execution_count": 62,
   "metadata": {},
   "outputs": [
    {
     "name": "stdout",
     "output_type": "stream",
     "text": [
      "Total number of channels 116\n",
      "Total number of videos 44695\n"
     ]
    }
   ],
   "source": [
    "#extracting json to df\n",
    "import os, json\n",
    "import pandas as pd\n",
    "import numpy as np\n",
    "import glob\n",
    "from datetime import datetime\n",
    "pd.set_option('display.max_columns', None)\n",
    "\n",
    "dir = 'data'\n",
    "path = os.path.join(dir, '**/*.json')\n",
    "file_list = glob.glob(path)\n",
    "print('Total number of channels ' + str(len(file_list)))\n",
    "# print(file_list)\n",
    "dfs = list()\n",
    "\n",
    "for file in file_list:\n",
    "    with open(file, 'r') as f:\n",
    "        data = json.load(f)\n",
    "    channel_id, stats = data.popitem()\n",
    "    pchannel_stats = stats[\"channel_statistics\"]\n",
    "    video_stats = stats[\"video_data\"]\n",
    "    # sorted_vids = sorted(video_stats.items(), key=lambda item: int(item[1][\"viewCount\"]),reverse=True)\n",
    "    vids = video_stats.items()\n",
    "    stats = []\n",
    "    for vid in vids:\n",
    "        video_id = vid[0]\n",
    "        title = vid[1][\"title\"]\n",
    "        try:\n",
    "            views = vid[1][\"viewCount\"]\n",
    "            likes = vid[1][\"likeCount\"]\n",
    "            duration = vid[1]['duration']\n",
    "            tags = vid[1]['tags']\n",
    "            description = vid[1]['description']\n",
    "            comments = vid[1][\"commentCount\"]\n",
    "            channel = vid[1]['channelTitle']\n",
    "            published = vid[1]['publishedAt'].split('T')[0]\n",
    "        except:\n",
    "            pass\n",
    "        cat = os.path.dirname(file).split('\\\\')[1]\n",
    "        stats.append([title,views, published, likes, comments, duration, tags, description, channel, cat])\n",
    "    vid_df = pd.DataFrame(stats, columns=[\"title\",\"views\", 'published',\"likes\",\"comments\", 'duration','tag','description', 'channel', 'category'])\n",
    "    dfs.append(vid_df)\n",
    "df = pd.concat(dfs, ignore_index=True)\n",
    "print('Total number of videos ' + str(df.shape[0]))\n"
   ]
  },
  {
   "cell_type": "markdown",
   "metadata": {},
   "source": [
    "Data Cleaning"
   ]
  },
  {
   "cell_type": "code",
   "execution_count": 63,
   "metadata": {},
   "outputs": [
    {
     "name": "stdout",
     "output_type": "stream",
     "text": [
      "<class 'pandas.core.frame.DataFrame'>\n",
      "RangeIndex: 44695 entries, 0 to 44694\n",
      "Data columns (total 10 columns):\n",
      " #   Column       Non-Null Count  Dtype \n",
      "---  ------       --------------  ----- \n",
      " 0   title        44695 non-null  object\n",
      " 1   views        44695 non-null  object\n",
      " 2   published    44695 non-null  object\n",
      " 3   likes        44695 non-null  object\n",
      " 4   comments     44695 non-null  object\n",
      " 5   duration     44695 non-null  object\n",
      " 6   tag          44695 non-null  object\n",
      " 7   description  44695 non-null  object\n",
      " 8   channel      44695 non-null  object\n",
      " 9   category     44695 non-null  object\n",
      "dtypes: object(10)\n",
      "memory usage: 3.4+ MB\n"
     ]
    }
   ],
   "source": [
    "df.info()"
   ]
  },
  {
   "cell_type": "code",
   "execution_count": 64,
   "metadata": {},
   "outputs": [
    {
     "data": {
      "text/html": [
       "<div>\n",
       "<style scoped>\n",
       "    .dataframe tbody tr th:only-of-type {\n",
       "        vertical-align: middle;\n",
       "    }\n",
       "\n",
       "    .dataframe tbody tr th {\n",
       "        vertical-align: top;\n",
       "    }\n",
       "\n",
       "    .dataframe thead th {\n",
       "        text-align: right;\n",
       "    }\n",
       "</style>\n",
       "<table border=\"1\" class=\"dataframe\">\n",
       "  <thead>\n",
       "    <tr style=\"text-align: right;\">\n",
       "      <th></th>\n",
       "      <th>title</th>\n",
       "      <th>views</th>\n",
       "      <th>published</th>\n",
       "      <th>likes</th>\n",
       "      <th>comments</th>\n",
       "      <th>duration</th>\n",
       "      <th>tag</th>\n",
       "      <th>description</th>\n",
       "      <th>channel</th>\n",
       "      <th>category</th>\n",
       "    </tr>\n",
       "  </thead>\n",
       "  <tbody>\n",
       "    <tr>\n",
       "      <th>21465</th>\n",
       "      <td>Perk UP Your Boobies | Chest Workout For Women</td>\n",
       "      <td>453243</td>\n",
       "      <td>2016-06-07</td>\n",
       "      <td>9373</td>\n",
       "      <td>205</td>\n",
       "      <td>PT4M9S</td>\n",
       "      <td>[workout, free workout, free personal trainer,...</td>\n",
       "      <td>Welcome back, babes! 💜 Today I am speaking fro...</td>\n",
       "      <td>Whitney Simmons</td>\n",
       "      <td>Fitness_workout</td>\n",
       "    </tr>\n",
       "    <tr>\n",
       "      <th>1591</th>\n",
       "      <td>My Boyfriend Teaches Me Jiu Jitsu 3</td>\n",
       "      <td>4084720</td>\n",
       "      <td>2018-07-26</td>\n",
       "      <td>181656</td>\n",
       "      <td>16218</td>\n",
       "      <td>PT16M27S</td>\n",
       "      <td>[jenna, marbles, mourey, my, boyfriend, teache...</td>\n",
       "      <td>Please subscribe to my channel and my vlog cha...</td>\n",
       "      <td>JennaMarbles</td>\n",
       "      <td>Comedy</td>\n",
       "    </tr>\n",
       "    <tr>\n",
       "      <th>2795</th>\n",
       "      <td>MY NEW PERMANENT EYEBROWS</td>\n",
       "      <td>38557969</td>\n",
       "      <td>2016-11-04</td>\n",
       "      <td>1085486</td>\n",
       "      <td>42130</td>\n",
       "      <td>PT8M21S</td>\n",
       "      <td>[liza, lizza, lizzza, lizzzak, lizzzako, lizak...</td>\n",
       "      <td>Are we running today? Are you? Just do it! Lik...</td>\n",
       "      <td>Liza Koshy</td>\n",
       "      <td>Comedy</td>\n",
       "    </tr>\n",
       "    <tr>\n",
       "      <th>41505</th>\n",
       "      <td>Salute your Core - 10 minute Vinyasa yoga with...</td>\n",
       "      <td>2994</td>\n",
       "      <td>2020-04-20</td>\n",
       "      <td>107</td>\n",
       "      <td>3</td>\n",
       "      <td>PT7M26S</td>\n",
       "      <td>[yoga, Online yoga, Online yoga classes, Yoga ...</td>\n",
       "      <td>In this short core sun salutation you connect ...</td>\n",
       "      <td>EkhartYoga</td>\n",
       "      <td>Yoga</td>\n",
       "    </tr>\n",
       "    <tr>\n",
       "      <th>7445</th>\n",
       "      <td>NYC Melted Cheese feat. Burnie Burns RTX, Ian ...</td>\n",
       "      <td>220879</td>\n",
       "      <td>2017-05-09</td>\n",
       "      <td>5369</td>\n",
       "      <td>358</td>\n",
       "      <td>PT6M55S</td>\n",
       "      <td>[raclette, food, food porn, cheese, cheesy, ch...</td>\n",
       "      <td>NYC Melted Cheese feat. Burnie Burns RTX, Ian ...</td>\n",
       "      <td>Epic Meal Time</td>\n",
       "      <td>Cooking</td>\n",
       "    </tr>\n",
       "  </tbody>\n",
       "</table>\n",
       "</div>"
      ],
      "text/plain": [
       "                                                   title     views  published  \\\n",
       "21465     Perk UP Your Boobies | Chest Workout For Women    453243 2016-06-07   \n",
       "1591                 My Boyfriend Teaches Me Jiu Jitsu 3   4084720 2018-07-26   \n",
       "2795                           MY NEW PERMANENT EYEBROWS  38557969 2016-11-04   \n",
       "41505  Salute your Core - 10 minute Vinyasa yoga with...      2994 2020-04-20   \n",
       "7445   NYC Melted Cheese feat. Burnie Burns RTX, Ian ...    220879 2017-05-09   \n",
       "\n",
       "         likes comments  duration  \\\n",
       "21465     9373      205    PT4M9S   \n",
       "1591    181656    16218  PT16M27S   \n",
       "2795   1085486    42130   PT8M21S   \n",
       "41505      107        3   PT7M26S   \n",
       "7445      5369      358   PT6M55S   \n",
       "\n",
       "                                                     tag  \\\n",
       "21465  [workout, free workout, free personal trainer,...   \n",
       "1591   [jenna, marbles, mourey, my, boyfriend, teache...   \n",
       "2795   [liza, lizza, lizzza, lizzzak, lizzzako, lizak...   \n",
       "41505  [yoga, Online yoga, Online yoga classes, Yoga ...   \n",
       "7445   [raclette, food, food porn, cheese, cheesy, ch...   \n",
       "\n",
       "                                             description          channel  \\\n",
       "21465  Welcome back, babes! 💜 Today I am speaking fro...  Whitney Simmons   \n",
       "1591   Please subscribe to my channel and my vlog cha...     JennaMarbles   \n",
       "2795   Are we running today? Are you? Just do it! Lik...       Liza Koshy   \n",
       "41505  In this short core sun salutation you connect ...       EkhartYoga   \n",
       "7445   NYC Melted Cheese feat. Burnie Burns RTX, Ian ...   Epic Meal Time   \n",
       "\n",
       "              category  \n",
       "21465  Fitness_workout  \n",
       "1591            Comedy  \n",
       "2795            Comedy  \n",
       "41505             Yoga  \n",
       "7445           Cooking  "
      ]
     },
     "execution_count": 64,
     "metadata": {},
     "output_type": "execute_result"
    }
   ],
   "source": [
    "# convert published date into datetime\n",
    "df.published = pd.to_datetime(df.published, format='%Y-%m-%d')\n",
    "\n",
    "# convert duration into minute with regex\n",
    "\n",
    "df.sample(5)"
   ]
  },
  {
   "cell_type": "markdown",
   "metadata": {},
   "source": [
    "convert text into Word2Vec"
   ]
  },
  {
   "cell_type": "code",
   "execution_count": 65,
   "metadata": {},
   "outputs": [],
   "source": [
    "import pandas as pd\n",
    "import gensim.downloader as api\n",
    "import numpy as np\n",
    "import nltk\n",
    "from nltk.tokenize import word_tokenize\n",
    "from nltk.corpus import stopwords\n",
    "# import nltk; nltk.download('popular')"
   ]
  },
  {
   "cell_type": "markdown",
   "metadata": {},
   "source": [
    "We use gensim pretrained model called 'glove-wiki-gigaword-50' with the model trained on wikipedia dataset"
   ]
  },
  {
   "cell_type": "code",
   "execution_count": 66,
   "metadata": {},
   "outputs": [],
   "source": [
    "# importing pretrained gensim model to convert text tokens into vector\n",
    "model_wv = api.load('glove-wiki-gigaword-50')"
   ]
  },
  {
   "cell_type": "code",
   "execution_count": 67,
   "metadata": {},
   "outputs": [],
   "source": [
    "# function to convert token to word vector with word2vec finding average vector for the document\n",
    "# tokenize function with df series as input to give a list of list result of each title\n",
    "def df_token(df_text_series):\n",
    "    # set of english stopwords\n",
    "    stopset = set(stopwords.words('english'))\n",
    "    token_item = []\n",
    "    for t in df_text_series:\n",
    "        if type(t) == list:\n",
    "            t = ' '.join(t)\n",
    "        else:\n",
    "            pass\n",
    "        tokens = [word for word in word_tokenize(t.lower()) if word not in stopset]\n",
    "        token_item.append(tokens)\n",
    "    return token_item\n",
    "\n",
    "def gen_word_vec(df_text_series, wordvec):\n",
    "    word_vector = []\n",
    "    for token in df_token(df_text_series):\n",
    "        token_considered = [t for t in token if t.isalpha]\n",
    "        token_vocab = [i for i in token_considered if i in wordvec.key_to_index]\n",
    "        if len(token_vocab) > 0:\n",
    "            word_vector.append(np.mean(wordvec[token_vocab], axis=0))\n",
    "        else:\n",
    "            word_vector.append(np.zeros(wordvec.vector_size))\n",
    "    word_vector = np.array(word_vector)\n",
    "    return word_vector"
   ]
  },
  {
   "cell_type": "markdown",
   "metadata": {},
   "source": [
    "features to work with"
   ]
  },
  {
   "cell_type": "code",
   "execution_count": 68,
   "metadata": {},
   "outputs": [],
   "source": [
    "title_word_vec = gen_word_vec(df.title, model_wv)\n",
    "tag_word_vec = gen_word_vec(df.tag, model_wv)\n",
    "desc_word_vec = gen_word_vec(df.description, model_wv)\n"
   ]
  },
  {
   "cell_type": "code",
   "execution_count": 69,
   "metadata": {},
   "outputs": [],
   "source": [
    "# with multiple features"
   ]
  },
  {
   "cell_type": "markdown",
   "metadata": {},
   "source": [
    "Reduce dimensionality using PCA"
   ]
  },
  {
   "cell_type": "code",
   "execution_count": null,
   "metadata": {},
   "outputs": [],
   "source": [
    "from sklearn.decomposition import PCA\n",
    "import matplotlib.pyplot as plt\n",
    "\n",
    "# set data to be fitted\n",
    "X = title_word_vec\n",
    "# initiate PCA with 2 components\n",
    "pca = PCA(n_components=2)\n",
    "X_new = pca.fit_transform(X)\n",
    "\n"
   ]
  },
  {
   "cell_type": "code",
   "execution_count": 1,
   "metadata": {},
   "outputs": [],
   "source": [
    "# create biplot source from https://sukhbinder.wordpress.com/2015/08/05/biplot-with-python/\n",
    "def biplot(score,coeff,pcax,pcay,labels=None):\n",
    "    '''\n",
    "    score: projected data from PCA \n",
    "    coeff: the eigenvectors (PCs)\n",
    "    \n",
    "    '''\n",
    "    pca1=pcax-1\n",
    "    pca2=pcay-1\n",
    "    xs = score[:,pca1]\n",
    "    ys = score[:,pca2]\n",
    "    n=score.shape[1]\n",
    "    scalex = 1.0/(xs.max()- xs.min())\n",
    "    scaley = 1.0/(ys.max()- ys.min())\n",
    "    plt.scatter(xs*scalex,ys*scaley)\n",
    "    for i in range(n):\n",
    "        plt.arrow(0, 0, coeff[i,pca1], coeff[i,pca2],color='r',alpha=0.5)\n",
    "        if labels is None:\n",
    "            plt.text(coeff[i,pca1]* 1.15, coeff[i,pca2] * 1.15, \"Var\"+str(i+1), color='g', ha='center', va='center')\n",
    "        else:\n",
    "            plt.text(coeff[i,pca1]* 1.15, coeff[i,pca2] * 1.15, labels[i], color='g', ha='center', va='center')\n",
    "    plt.xlim(-1,1)\n",
    "    plt.ylim(-1,1)\n",
    "    plt.xlabel(\"PC{}\".format(pcax))\n",
    "    plt.ylabel(\"PC{}\".format(pcay))\n",
    "    plt.grid()"
   ]
  },
  {
   "cell_type": "code",
   "execution_count": 70,
   "metadata": {},
   "outputs": [
    {
     "data": {
      "image/png": "[encoded data removed]",
      "text/plain": [
       "<Figure size 432x432 with 1 Axes>"
      ]
     },
     "metadata": {
      "needs_background": "light"
     },
     "output_type": "display_data"
    }
   ],
   "source": [
    "# Let's explore the clustering of word embadding vector using K-Means\n",
    "# first let's find optimal number of cluster using elbow methods\n",
    "import seaborn as sns\n",
    "from sklearn.manifold import MDS\n",
    "from sklearn.cluster import MiniBatchKMeans\n",
    "from sklearn.metrics import silhouette_samples, silhouette_score\n",
    "# # stardize the data in case the data are not normalized\n",
    "# df_clustering = df.copy()\n",
    "# X = StandardScaler().fit_transform(df_clustering.iloc[:, 1:])\n",
    "\n",
    "\n",
    "# workingin title word embedding\n",
    "sse=[] # sum of square error\n",
    "list_k = list(range(1, 100))\n",
    "\n",
    "for k in list_k:\n",
    "    km = MiniBatchKMeans(n_clusters=k, init='k-means++', max_iter=300, random_state=0, batch_size=2048)\n",
    "    km.fit(title_word_vec)\n",
    "    sse.append(km.inertia_)\n",
    "\n",
    "plt.figure(figsize=(6, 6))\n",
    "plt.plot(list_k, sse, '-o')\n",
    "plt.xlabel(r'Number of clusters *k*')\n",
    "plt.ylabel('Sum of squared distance');"
   ]
  },
  {
   "cell_type": "markdown",
   "metadata": {},
   "source": [
    "From the title word embedding we see no clear clustering based on the elbow method, we will try to see if the tag will produce similar results"
   ]
  },
  {
   "cell_type": "code",
   "execution_count": 71,
   "metadata": {},
   "outputs": [
    {
     "data": {
      "image/png": "[encoded data removed]",
      "text/plain": [
       "<Figure size 432x432 with 1 Axes>"
      ]
     },
     "metadata": {
      "needs_background": "light"
     },
     "output_type": "display_data"
    }
   ],
   "source": [
    "sse=[] # sum of square error\n",
    "list_k = list(range(1, 100))\n",
    "\n",
    "for k in list_k:\n",
    "    km = MiniBatchKMeans(n_clusters=k, init='k-means++', max_iter=300, random_state=0, batch_size=2048)\n",
    "    km.fit(tag_word_vec)\n",
    "    sse.append(km.inertia_)\n",
    "\n",
    "plt.figure(figsize=(6, 6))\n",
    "plt.plot(list_k, sse, '-o')\n",
    "plt.xlabel(r'Number of clusters *k*')\n",
    "plt.ylabel('Sum of squared distance');"
   ]
  },
  {
   "cell_type": "markdown",
   "metadata": {},
   "source": [
    "We still see similar shape of sum of square error for different number of cluster on tag word embedding. Let's explore silhouette plot to examine different number of cluster."
   ]
  },
  {
   "cell_type": "code",
   "execution_count": 72,
   "metadata": {},
   "outputs": [],
   "source": [
    "# use silhouette plot based on sklearn documentation page https://scikit-learn.org/stable/auto_examples/cluster/plot_kmeans_silhouette_analysis.html\n",
    "#set the dataset to be working with\n",
    "X = title_word_vec\n",
    "\n",
    "for i, k in enumerate([2, 3, 4, 5, 6]):\n",
    "    fig, (ax1, ax2) = plt.subplots(1, 2)\n",
    "    fig.set_size_inches(18, 7)\n",
    "    \n",
    "    # Run the Kmeans algorithm\n",
    "    kmeans = MiniBatchKMeans(n_clusters=k, init='k-means++', max_iter=300, random_state=0, batch_size=2048)\n",
    "    labels = kmeans.fit_predict(X)\n",
    "    # centroids = kmeans.cluster_centers_\n",
    "\n",
    "    # Get silhouette samples\n",
    "    silhouette_vals = silhouette_samples(X, labels)\n",
    "\n",
    "    # Silhouette plot\n",
    "    y_ticks = []\n",
    "    y_lower, y_upper = 0, 0\n",
    "    for i, cluster in enumerate(np.unique(labels)):\n",
    "        cluster_silhouette_vals = silhouette_vals[labels == cluster]\n",
    "        cluster_silhouette_vals.sort()\n",
    "        y_upper += len(cluster_silhouette_vals)\n",
    "        ax1.barh(range(y_lower, y_upper), cluster_silhouette_vals, edgecolor='none', height=1)\n",
    "        ax1.text(-0.03, (y_lower + y_upper) / 2, str(i + 1))\n",
    "        y_lower += len(cluster_silhouette_vals)\n",
    "\n",
    "    # Get the average silhouette score and plot it\n",
    "    avg_score = np.mean(silhouette_vals)\n",
    "    ax1.axvline(avg_score, linestyle='--', linewidth=2, color='green')\n",
    "    ax1.set_yticks([])\n",
    "    ax1.set_xlim([-0.1, 1])\n",
    "    ax1.set_xlabel('Silhouette coefficient values')\n",
    "    ax1.set_ylabel('Cluster labels')\n",
    "    ax1.set_title('Silhouette plot for the various clusters', y=1.02);\n",
    "    \n",
    "    # Use MDS to flatten the data\n",
    "    embedding = MDS(n_components=2)\n",
    "    mds = pd.DataFrame(embedding.fit_transform(X), columns = ['component1','component2'])\n",
    "    mds['labels'] = kmeans.predict(X)\n",
    "\n",
    "    # Scatter plot of data colored with labels\n",
    "    ax2.scatter(mds['component1'], mds['component2'], c=labels)\n",
    "    # ax2.scatter(centroids[:, 0], centroids[:, 1], marker='*', c='r', s=250)\n",
    "    # ax2.set_xlim([-2, 2])\n",
    "    # ax2.set_xlim([-2, 2])\n",
    "    ax2.set_xlabel('Component 1')\n",
    "    ax2.set_ylabel('Component 2')\n",
    "    ax2.set_title('Visualization of clustered data', y=1.02)\n",
    "    ax2.set_aspect('equal')\n",
    "    plt.tight_layout()\n",
    "    plt.suptitle(f'Silhouette analysis using k = {k}',\n",
    "                 fontsize=16, fontweight='semibold', y=1.05);"
   ]
  }
 ],
 "metadata": {
  "kernelspec": {
   "display_name": "Python 3.10.4 ('dataenv')",
   "language": "python",
   "name": "python3"
  },
  "language_info": {
   "codemirror_mode": {
    "name": "ipython",
    "version": 3
   },
   "file_extension": ".py",
   "mimetype": "text/x-python",
   "name": "python",
   "nbconvert_exporter": "python",
   "pygments_lexer": "ipython3",
   "version": "3.10.4"
  },
  "orig_nbformat": 4,
  "vscode": {
   "interpreter": {
    "hash": "467f60c46b88ea196e8e4e51716c4f14b05141d893e1660e0038b81da854c476"
   }
  }
 },
 "nbformat": 4,
 "nbformat_minor": 2
}
