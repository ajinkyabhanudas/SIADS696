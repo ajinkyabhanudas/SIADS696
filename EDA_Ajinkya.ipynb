{
  "cells": [
    {
      "cell_type": "markdown",
      "metadata": {
        "id": "view-in-github",
        "colab_type": "text"
      },
      "source": [
        "<a href=\"https://colab.research.google.com/github/ajinkyabhanudas/SIADS696/blob/dev/EDA_Ajinkya.ipynb\" target=\"_parent\"><img src=\"https://colab.research.google.com/assets/colab-badge.svg\" alt=\"Open In Colab\"/></a>"
      ]
    },
    {
      "cell_type": "markdown",
      "source": [
        "#This notebook works on the first step of the train pipeline: data loading \n",
        "- The idea is to use the contents of this notebook as a makefile target so it can be the first step to run as we keep populating our datastore.\n",
        "\n",
        "\n",
        "\n",
        "\n",
        "\n",
        "\n"
      ],
      "metadata": {
        "id": "Fa2YEr7pT6zt",
        "pycharm": {
          "name": "#%% md\n"
        }
      }
    },
    {
      "cell_type": "code",
      "execution_count": 1,
      "metadata": {
        "id": "pWqb-vn_hFCU",
        "pycharm": {
          "name": "#%%\n"
        },
        "colab": {
          "base_uri": "https://localhost:8080/"
        },
        "outputId": "dcc08fdc-b785-4539-d964-c566a8e1502d"
      },
      "outputs": [
        {
          "output_type": "stream",
          "name": "stdout",
          "text": [
            "Cloning into 'SIADS696'...\n",
            "remote: Enumerating objects: 578, done.\u001b[K\n",
            "remote: Counting objects: 100% (105/105), done.\u001b[K\n",
            "remote: Compressing objects: 100% (99/99), done.\u001b[K\n",
            "remote: Total 578 (delta 14), reused 25 (delta 6), pack-reused 473\u001b[K\n",
            "Receiving objects: 100% (578/578), 41.31 MiB | 14.58 MiB/s, done.\n",
            "Resolving deltas: 100% (317/317), done.\n",
            "Checking out files: 100% (164/164), done.\n",
            "Looking in indexes: https://pypi.org/simple, https://us-python.pkg.dev/colab-wheels/public/simple/\n",
            "Collecting gensim==4.1.2\n",
            "  Downloading gensim-4.1.2-cp37-cp37m-manylinux_2_12_x86_64.manylinux2010_x86_64.whl (24.1 MB)\n",
            "\u001b[K     |████████████████████████████████| 24.1 MB 15.6 MB/s \n",
            "\u001b[?25hRequirement already satisfied: numpy>=1.17.0 in /usr/local/lib/python3.7/dist-packages (from gensim==4.1.2) (1.21.6)\n",
            "Requirement already satisfied: smart-open>=1.8.1 in /usr/local/lib/python3.7/dist-packages (from gensim==4.1.2) (5.2.1)\n",
            "Requirement already satisfied: scipy>=0.18.1 in /usr/local/lib/python3.7/dist-packages (from gensim==4.1.2) (1.7.3)\n",
            "Installing collected packages: gensim\n",
            "  Attempting uninstall: gensim\n",
            "    Found existing installation: gensim 3.6.0\n",
            "    Uninstalling gensim-3.6.0:\n",
            "      Successfully uninstalled gensim-3.6.0\n",
            "Successfully installed gensim-4.1.2\n"
          ]
        }
      ],
      "source": [
        "!git clone https://github.com/ajinkyabhanudas/SIADS696.git\n",
        "!pip install gensim==4.1.2"
      ]
    },
    {
      "cell_type": "code",
      "source": [
        "import datetime\n",
        "import enum\n",
        "import glob\n",
        "import json\n",
        "import os\n",
        "import re\n",
        "from itertools import groupby\n",
        "\n",
        "from gensim.models import Word2Vec\n",
        "import matplotlib.pyplot as plt\n",
        "import nltk\n",
        "from nltk.corpus import stopwords\n",
        "import numpy as np\n",
        "import pandas as pd\n",
        "\n",
        "import warnings\n",
        "warnings.simplefilter(action='ignore')"
      ],
      "metadata": {
        "id": "qe2qOLWocWZz",
        "pycharm": {
          "name": "#%%\n"
        }
      },
      "execution_count": 2,
      "outputs": []
    },
    {
      "cell_type": "code",
      "source": [
        "import gensim.downloader\n",
        "glove_wv = gensim.downloader.load('glove-wiki-gigaword-50')\n",
        "nltk.download('punkt')\n",
        "nltk.download('stopwords')"
      ],
      "metadata": {
        "colab": {
          "base_uri": "https://localhost:8080/"
        },
        "id": "cY7AW03EX3a2",
        "outputId": "2e115090-94da-4a53-b1e5-7088f0d02d93",
        "pycharm": {
          "name": "#%%\n"
        }
      },
      "execution_count": 3,
      "outputs": [
        {
          "output_type": "stream",
          "name": "stdout",
          "text": [
            "[==================================================] 100.0% 66.0/66.0MB downloaded\n"
          ]
        },
        {
          "output_type": "stream",
          "name": "stderr",
          "text": [
            "[nltk_data] Downloading package punkt to /root/nltk_data...\n",
            "[nltk_data]   Unzipping tokenizers/punkt.zip.\n",
            "[nltk_data] Downloading package stopwords to /root/nltk_data...\n",
            "[nltk_data]   Unzipping corpora/stopwords.zip.\n"
          ]
        },
        {
          "output_type": "execute_result",
          "data": {
            "text/plain": [
              "True"
            ]
          },
          "metadata": {},
          "execution_count": 3
        }
      ]
    },
    {
      "cell_type": "code",
      "source": [
        "try:\n",
        "  os.chdir('SIADS696')\n",
        "except:\n",
        "  print(\"You're either already in the SIADS696 directory, or the path specified isn't accessible\")"
      ],
      "metadata": {
        "id": "ZjuCnSlVckSC",
        "pycharm": {
          "name": "#%%\n"
        }
      },
      "execution_count": 4,
      "outputs": []
    },
    {
      "cell_type": "markdown",
      "source": [
        "### We'll extract our dataset in two parts:\n",
        "- first extract the overall stats data per channel and store it along with the channel name instead of the id for available channels. (`overall_stats_raw_df`)\n",
        "- And second, extract the per-video data into another dataframe. (`raw_df`)"
      ],
      "metadata": {
        "id": "s72nxVxjlZGi",
        "pycharm": {
          "name": "#%% md\n"
        }
      }
    },
    {
      "cell_type": "code",
      "source": [
        "rootdir = 'data'\n",
        "feature_list = ['publishedAt', 'title', 'channelId', 'description',\n",
        "                'channelTitle', 'tags', 'categoryId', 'viewCount', \n",
        "                'likeCount', 'favoriteCount', 'commentCount', 'duration',\n",
        "                'definition', 'contentRating', 'topicCategories', 'topicLabel']\n",
        "\n",
        "ov_dict_list = []\n",
        "ov_temp_dict = {}\n",
        "\n",
        "dict_list = []\n",
        "temp_dict = {}\n",
        "\n",
        "for path in glob.glob(f'./{rootdir}/*/*'):\n",
        "  try:\n",
        "    with open(path, \"r\") as read_file:\n",
        "      data = json.load(read_file)\n",
        "    for channel_id in data.keys():\n",
        "      ov_temp_dict = data[channel_id][\"channel_statistics\"]\n",
        "      channel_name = list(data[channel_id][\"video_data\"].keys())[0]\n",
        "      ov_temp_dict[\"channelName\"] = data[channel_id][\"video_data\"][channel_name][\"channelTitle\"]\n",
        "      ov_dict_list.append(ov_temp_dict)\n",
        "      \n",
        "      for video_info in data[channel_id][\"video_data\"].values():\n",
        "        temp_dict = video_info\n",
        "        temp_dict[\"topicLabel\"] = path.split('/')[2]\n",
        "        dict_list.append(temp_dict)       \n",
        "  except:\n",
        "    pass\n",
        "\n",
        "overall_stats_raw_df = pd.DataFrame(ov_dict_list)\n",
        "overall_stats_raw_df.drop(\"hiddenSubscriberCount\", axis=1, inplace=True)\n",
        "\n",
        "raw_df = pd.DataFrame(dict_list)\n",
        "raw_df = raw_df[feature_list]"
      ],
      "metadata": {
        "id": "KSTlEX8FBNQ0",
        "pycharm": {
          "name": "#%%\n"
        }
      },
      "execution_count": 5,
      "outputs": []
    },
    {
      "cell_type": "markdown",
      "source": [
        "### Next, let's do a quick check on the data and take a quick look at the data in both the dfs"
      ],
      "metadata": {
        "id": "wx8sIaskERjq",
        "pycharm": {
          "name": "#%% md\n"
        }
      }
    },
    {
      "cell_type": "code",
      "source": [
        "raw_df.info()\n",
        "raw_df.sample(5)"
      ],
      "metadata": {
        "id": "l4WxiXQRC1aY",
        "outputId": "433e1421-8d18-4df4-8120-195951078053",
        "colab": {
          "base_uri": "https://localhost:8080/",
          "height": 999
        },
        "pycharm": {
          "name": "#%%\n"
        }
      },
      "execution_count": 6,
      "outputs": [
        {
          "output_type": "stream",
          "name": "stdout",
          "text": [
            "<class 'pandas.core.frame.DataFrame'>\n",
            "RangeIndex: 55337 entries, 0 to 55336\n",
            "Data columns (total 16 columns):\n",
            " #   Column           Non-Null Count  Dtype \n",
            "---  ------           --------------  ----- \n",
            " 0   publishedAt      55337 non-null  object\n",
            " 1   title            55337 non-null  object\n",
            " 2   channelId        55124 non-null  object\n",
            " 3   description      55124 non-null  object\n",
            " 4   channelTitle     55124 non-null  object\n",
            " 5   tags             51972 non-null  object\n",
            " 6   categoryId       55124 non-null  object\n",
            " 7   viewCount        55050 non-null  object\n",
            " 8   likeCount        54589 non-null  object\n",
            " 9   favoriteCount    55121 non-null  object\n",
            " 10  commentCount     54549 non-null  object\n",
            " 11  duration         55125 non-null  object\n",
            " 12  definition       55125 non-null  object\n",
            " 13  contentRating    55125 non-null  object\n",
            " 14  topicCategories  54331 non-null  object\n",
            " 15  topicLabel       55337 non-null  object\n",
            "dtypes: object(16)\n",
            "memory usage: 6.8+ MB\n"
          ]
        },
        {
          "output_type": "execute_result",
          "data": {
            "text/plain": [
              "                publishedAt  \\\n",
              "20431  2016-12-04T00:38:12Z   \n",
              "3044   2017-08-01T13:00:02Z   \n",
              "44522  2017-01-18T17:34:54Z   \n",
              "5366   2019-11-13T17:00:03Z   \n",
              "27561  2020-01-24T11:26:06Z   \n",
              "\n",
              "                                                   title  \\\n",
              "20431  Get You A Girl That Can Do Both (ft. Gina Rodr...   \n",
              "3044     Binging with Babish: Zelda - Breath of the Wild   \n",
              "44522  Make Up Tutorial: Daytime smokey purple eyesha...   \n",
              "5366   Claire & Brad Make the Perfect Thanksgiving Pi...   \n",
              "27561  Why is Italy swinging to the far right? - BBC ...   \n",
              "\n",
              "                      channelId  \\\n",
              "20431  UCfm4y4rHF5HGrSr-qbvOwOg   \n",
              "3044   UCJHA_jMfCvEnv-3kRjTCQXw   \n",
              "44522  UCI9s9nFu2m3K2CvhO2QVfTg   \n",
              "5366   UCbpMy0Fg74eXXkvxJrtEn3w   \n",
              "27561  UC16niRr50-MSBwiO3YDb3RA   \n",
              "\n",
              "                                             description  \\\n",
              "20431  WATCH THE BLOOPERS: http://bit.ly/2g5VYVZ\\nWAT...   \n",
              "3044   Pre-order my first cookbook, Eat What You Watc...   \n",
              "44522  Products used: \\nEyelid primer: http://amzn.to...   \n",
              "5366   Claire Saffitz and Brad Leone know that after ...   \n",
              "27561  Italy’s far right leader, Matteo Salvini, is h...   \n",
              "\n",
              "                   channelTitle  \\\n",
              "20431               Lilly Singh   \n",
              "3044   Babish Culinary Universe   \n",
              "44522           Candace Cabrera   \n",
              "5366                Bon Appétit   \n",
              "27561                  BBC News   \n",
              "\n",
              "                                                    tags categoryId viewCount  \\\n",
              "20431  [iisuperwomanii, iisuperwomenii, superwoman, s...         23   6966646   \n",
              "3044   [baked apples recipe, zelda baked apples, zeld...         24   6130486   \n",
              "44522                [yoga, yoga channel, yogabycandace]         24      3049   \n",
              "5366   [pecan pie, pie, pies, pumpkin pie, thanksgivi...         26   4745435   \n",
              "27561                              [bbc, bbc news, news]         25    185426   \n",
              "\n",
              "      likeCount favoriteCount commentCount  duration definition contentRating  \\\n",
              "20431    334053             0         8572   PT6M23S         hd            {}   \n",
              "3044     143756             0         7363   PT7M39S         hd            {}   \n",
              "44522        79             0           21   PT4M44S         hd            {}   \n",
              "5366      85948             0         6123  PT46M17S         hd            {}   \n",
              "27561      2344             0         2088   PT8M39S         hd            {}   \n",
              "\n",
              "                                         topicCategories topicLabel  \n",
              "20431  [https://en.wikipedia.org/wiki/Entertainment, ...     Comedy  \n",
              "3044   [https://en.wikipedia.org/wiki/Food, https://e...    Cooking  \n",
              "44522  [https://en.wikipedia.org/wiki/Lifestyle_(soci...       Yoga  \n",
              "5366   [https://en.wikipedia.org/wiki/Food, https://e...    Cooking  \n",
              "27561  [https://en.wikipedia.org/wiki/Politics, https...       News  "
            ],
            "text/html": [
              "\n",
              "  <div id=\"df-097b2e65-8b76-4903-b671-637573f2b1e8\">\n",
              "    <div class=\"colab-df-container\">\n",
              "      <div>\n",
              "<style scoped>\n",
              "    .dataframe tbody tr th:only-of-type {\n",
              "        vertical-align: middle;\n",
              "    }\n",
              "\n",
              "    .dataframe tbody tr th {\n",
              "        vertical-align: top;\n",
              "    }\n",
              "\n",
              "    .dataframe thead th {\n",
              "        text-align: right;\n",
              "    }\n",
              "</style>\n",
              "<table border=\"1\" class=\"dataframe\">\n",
              "  <thead>\n",
              "    <tr style=\"text-align: right;\">\n",
              "      <th></th>\n",
              "      <th>publishedAt</th>\n",
              "      <th>title</th>\n",
              "      <th>channelId</th>\n",
              "      <th>description</th>\n",
              "      <th>channelTitle</th>\n",
              "      <th>tags</th>\n",
              "      <th>categoryId</th>\n",
              "      <th>viewCount</th>\n",
              "      <th>likeCount</th>\n",
              "      <th>favoriteCount</th>\n",
              "      <th>commentCount</th>\n",
              "      <th>duration</th>\n",
              "      <th>definition</th>\n",
              "      <th>contentRating</th>\n",
              "      <th>topicCategories</th>\n",
              "      <th>topicLabel</th>\n",
              "    </tr>\n",
              "  </thead>\n",
              "  <tbody>\n",
              "    <tr>\n",
              "      <th>20431</th>\n",
              "      <td>2016-12-04T00:38:12Z</td>\n",
              "      <td>Get You A Girl That Can Do Both (ft. Gina Rodr...</td>\n",
              "      <td>UCfm4y4rHF5HGrSr-qbvOwOg</td>\n",
              "      <td>WATCH THE BLOOPERS: http://bit.ly/2g5VYVZ\\nWAT...</td>\n",
              "      <td>Lilly Singh</td>\n",
              "      <td>[iisuperwomanii, iisuperwomenii, superwoman, s...</td>\n",
              "      <td>23</td>\n",
              "      <td>6966646</td>\n",
              "      <td>334053</td>\n",
              "      <td>0</td>\n",
              "      <td>8572</td>\n",
              "      <td>PT6M23S</td>\n",
              "      <td>hd</td>\n",
              "      <td>{}</td>\n",
              "      <td>[https://en.wikipedia.org/wiki/Entertainment, ...</td>\n",
              "      <td>Comedy</td>\n",
              "    </tr>\n",
              "    <tr>\n",
              "      <th>3044</th>\n",
              "      <td>2017-08-01T13:00:02Z</td>\n",
              "      <td>Binging with Babish: Zelda - Breath of the Wild</td>\n",
              "      <td>UCJHA_jMfCvEnv-3kRjTCQXw</td>\n",
              "      <td>Pre-order my first cookbook, Eat What You Watc...</td>\n",
              "      <td>Babish Culinary Universe</td>\n",
              "      <td>[baked apples recipe, zelda baked apples, zeld...</td>\n",
              "      <td>24</td>\n",
              "      <td>6130486</td>\n",
              "      <td>143756</td>\n",
              "      <td>0</td>\n",
              "      <td>7363</td>\n",
              "      <td>PT7M39S</td>\n",
              "      <td>hd</td>\n",
              "      <td>{}</td>\n",
              "      <td>[https://en.wikipedia.org/wiki/Food, https://e...</td>\n",
              "      <td>Cooking</td>\n",
              "    </tr>\n",
              "    <tr>\n",
              "      <th>44522</th>\n",
              "      <td>2017-01-18T17:34:54Z</td>\n",
              "      <td>Make Up Tutorial: Daytime smokey purple eyesha...</td>\n",
              "      <td>UCI9s9nFu2m3K2CvhO2QVfTg</td>\n",
              "      <td>Products used: \\nEyelid primer: http://amzn.to...</td>\n",
              "      <td>Candace Cabrera</td>\n",
              "      <td>[yoga, yoga channel, yogabycandace]</td>\n",
              "      <td>24</td>\n",
              "      <td>3049</td>\n",
              "      <td>79</td>\n",
              "      <td>0</td>\n",
              "      <td>21</td>\n",
              "      <td>PT4M44S</td>\n",
              "      <td>hd</td>\n",
              "      <td>{}</td>\n",
              "      <td>[https://en.wikipedia.org/wiki/Lifestyle_(soci...</td>\n",
              "      <td>Yoga</td>\n",
              "    </tr>\n",
              "    <tr>\n",
              "      <th>5366</th>\n",
              "      <td>2019-11-13T17:00:03Z</td>\n",
              "      <td>Claire &amp; Brad Make the Perfect Thanksgiving Pi...</td>\n",
              "      <td>UCbpMy0Fg74eXXkvxJrtEn3w</td>\n",
              "      <td>Claire Saffitz and Brad Leone know that after ...</td>\n",
              "      <td>Bon Appétit</td>\n",
              "      <td>[pecan pie, pie, pies, pumpkin pie, thanksgivi...</td>\n",
              "      <td>26</td>\n",
              "      <td>4745435</td>\n",
              "      <td>85948</td>\n",
              "      <td>0</td>\n",
              "      <td>6123</td>\n",
              "      <td>PT46M17S</td>\n",
              "      <td>hd</td>\n",
              "      <td>{}</td>\n",
              "      <td>[https://en.wikipedia.org/wiki/Food, https://e...</td>\n",
              "      <td>Cooking</td>\n",
              "    </tr>\n",
              "    <tr>\n",
              "      <th>27561</th>\n",
              "      <td>2020-01-24T11:26:06Z</td>\n",
              "      <td>Why is Italy swinging to the far right? - BBC ...</td>\n",
              "      <td>UC16niRr50-MSBwiO3YDb3RA</td>\n",
              "      <td>Italy’s far right leader, Matteo Salvini, is h...</td>\n",
              "      <td>BBC News</td>\n",
              "      <td>[bbc, bbc news, news]</td>\n",
              "      <td>25</td>\n",
              "      <td>185426</td>\n",
              "      <td>2344</td>\n",
              "      <td>0</td>\n",
              "      <td>2088</td>\n",
              "      <td>PT8M39S</td>\n",
              "      <td>hd</td>\n",
              "      <td>{}</td>\n",
              "      <td>[https://en.wikipedia.org/wiki/Politics, https...</td>\n",
              "      <td>News</td>\n",
              "    </tr>\n",
              "  </tbody>\n",
              "</table>\n",
              "</div>\n",
              "      <button class=\"colab-df-convert\" onclick=\"convertToInteractive('df-097b2e65-8b76-4903-b671-637573f2b1e8')\"\n",
              "              title=\"Convert this dataframe to an interactive table.\"\n",
              "              style=\"display:none;\">\n",
              "        \n",
              "  <svg xmlns=\"http://www.w3.org/2000/svg\" height=\"24px\"viewBox=\"0 0 24 24\"\n",
              "       width=\"24px\">\n",
              "    <path d=\"M0 0h24v24H0V0z\" fill=\"none\"/>\n",
              "    <path d=\"M18.56 5.44l.94 2.06.94-2.06 2.06-.94-2.06-.94-.94-2.06-.94 2.06-2.06.94zm-11 1L8.5 8.5l.94-2.06 2.06-.94-2.06-.94L8.5 2.5l-.94 2.06-2.06.94zm10 10l.94 2.06.94-2.06 2.06-.94-2.06-.94-.94-2.06-.94 2.06-2.06.94z\"/><path d=\"M17.41 7.96l-1.37-1.37c-.4-.4-.92-.59-1.43-.59-.52 0-1.04.2-1.43.59L10.3 9.45l-7.72 7.72c-.78.78-.78 2.05 0 2.83L4 21.41c.39.39.9.59 1.41.59.51 0 1.02-.2 1.41-.59l7.78-7.78 2.81-2.81c.8-.78.8-2.07 0-2.86zM5.41 20L4 18.59l7.72-7.72 1.47 1.35L5.41 20z\"/>\n",
              "  </svg>\n",
              "      </button>\n",
              "      \n",
              "  <style>\n",
              "    .colab-df-container {\n",
              "      display:flex;\n",
              "      flex-wrap:wrap;\n",
              "      gap: 12px;\n",
              "    }\n",
              "\n",
              "    .colab-df-convert {\n",
              "      background-color: #E8F0FE;\n",
              "      border: none;\n",
              "      border-radius: 50%;\n",
              "      cursor: pointer;\n",
              "      display: none;\n",
              "      fill: #1967D2;\n",
              "      height: 32px;\n",
              "      padding: 0 0 0 0;\n",
              "      width: 32px;\n",
              "    }\n",
              "\n",
              "    .colab-df-convert:hover {\n",
              "      background-color: #E2EBFA;\n",
              "      box-shadow: 0px 1px 2px rgba(60, 64, 67, 0.3), 0px 1px 3px 1px rgba(60, 64, 67, 0.15);\n",
              "      fill: #174EA6;\n",
              "    }\n",
              "\n",
              "    [theme=dark] .colab-df-convert {\n",
              "      background-color: #3B4455;\n",
              "      fill: #D2E3FC;\n",
              "    }\n",
              "\n",
              "    [theme=dark] .colab-df-convert:hover {\n",
              "      background-color: #434B5C;\n",
              "      box-shadow: 0px 1px 3px 1px rgba(0, 0, 0, 0.15);\n",
              "      filter: drop-shadow(0px 1px 2px rgba(0, 0, 0, 0.3));\n",
              "      fill: #FFFFFF;\n",
              "    }\n",
              "  </style>\n",
              "\n",
              "      <script>\n",
              "        const buttonEl =\n",
              "          document.querySelector('#df-097b2e65-8b76-4903-b671-637573f2b1e8 button.colab-df-convert');\n",
              "        buttonEl.style.display =\n",
              "          google.colab.kernel.accessAllowed ? 'block' : 'none';\n",
              "\n",
              "        async function convertToInteractive(key) {\n",
              "          const element = document.querySelector('#df-097b2e65-8b76-4903-b671-637573f2b1e8');\n",
              "          const dataTable =\n",
              "            await google.colab.kernel.invokeFunction('convertToInteractive',\n",
              "                                                     [key], {});\n",
              "          if (!dataTable) return;\n",
              "\n",
              "          const docLinkHtml = 'Like what you see? Visit the ' +\n",
              "            '<a target=\"_blank\" href=https://colab.research.google.com/notebooks/data_table.ipynb>data table notebook</a>'\n",
              "            + ' to learn more about interactive tables.';\n",
              "          element.innerHTML = '';\n",
              "          dataTable['output_type'] = 'display_data';\n",
              "          await google.colab.output.renderOutput(dataTable, element);\n",
              "          const docLink = document.createElement('div');\n",
              "          docLink.innerHTML = docLinkHtml;\n",
              "          element.appendChild(docLink);\n",
              "        }\n",
              "      </script>\n",
              "    </div>\n",
              "  </div>\n",
              "  "
            ]
          },
          "metadata": {},
          "execution_count": 6
        }
      ]
    },
    {
      "cell_type": "code",
      "source": [
        "overall_stats_raw_df.info()\n",
        "overall_stats_raw_df.sample(5)"
      ],
      "metadata": {
        "id": "bT47uyotFG8o",
        "outputId": "6972d483-3d35-4b87-fc8f-e7b9264fb5db",
        "colab": {
          "base_uri": "https://localhost:8080/",
          "height": 391
        },
        "pycharm": {
          "name": "#%%\n"
        }
      },
      "execution_count": 7,
      "outputs": [
        {
          "output_type": "stream",
          "name": "stdout",
          "text": [
            "<class 'pandas.core.frame.DataFrame'>\n",
            "RangeIndex: 149 entries, 0 to 148\n",
            "Data columns (total 4 columns):\n",
            " #   Column           Non-Null Count  Dtype \n",
            "---  ------           --------------  ----- \n",
            " 0   viewCount        149 non-null    object\n",
            " 1   subscriberCount  149 non-null    object\n",
            " 2   videoCount       149 non-null    object\n",
            " 3   channelName      149 non-null    object\n",
            "dtypes: object(4)\n",
            "memory usage: 4.8+ KB\n"
          ]
        },
        {
          "output_type": "execute_result",
          "data": {
            "text/plain": [
              "       viewCount subscriberCount videoCount  \\\n",
              "11     514689466         3410000       1572   \n",
              "107  24185621112        53500000        140   \n",
              "13    1656635427         6110000       1360   \n",
              "132     33502127          325000        731   \n",
              "104    506269055         5530000        267   \n",
              "\n",
              "                                channelName  \n",
              "11                      SAM THE COOKING GUY  \n",
              "107                             EminemMusic  \n",
              "13                              Bon Appétit  \n",
              "132  Tara Stiles : Yoga that Feels Like You  \n",
              "104                           minutephysics  "
            ],
            "text/html": [
              "\n",
              "  <div id=\"df-7d9e2285-919a-486b-af95-e838423c593e\">\n",
              "    <div class=\"colab-df-container\">\n",
              "      <div>\n",
              "<style scoped>\n",
              "    .dataframe tbody tr th:only-of-type {\n",
              "        vertical-align: middle;\n",
              "    }\n",
              "\n",
              "    .dataframe tbody tr th {\n",
              "        vertical-align: top;\n",
              "    }\n",
              "\n",
              "    .dataframe thead th {\n",
              "        text-align: right;\n",
              "    }\n",
              "</style>\n",
              "<table border=\"1\" class=\"dataframe\">\n",
              "  <thead>\n",
              "    <tr style=\"text-align: right;\">\n",
              "      <th></th>\n",
              "      <th>viewCount</th>\n",
              "      <th>subscriberCount</th>\n",
              "      <th>videoCount</th>\n",
              "      <th>channelName</th>\n",
              "    </tr>\n",
              "  </thead>\n",
              "  <tbody>\n",
              "    <tr>\n",
              "      <th>11</th>\n",
              "      <td>514689466</td>\n",
              "      <td>3410000</td>\n",
              "      <td>1572</td>\n",
              "      <td>SAM THE COOKING GUY</td>\n",
              "    </tr>\n",
              "    <tr>\n",
              "      <th>107</th>\n",
              "      <td>24185621112</td>\n",
              "      <td>53500000</td>\n",
              "      <td>140</td>\n",
              "      <td>EminemMusic</td>\n",
              "    </tr>\n",
              "    <tr>\n",
              "      <th>13</th>\n",
              "      <td>1656635427</td>\n",
              "      <td>6110000</td>\n",
              "      <td>1360</td>\n",
              "      <td>Bon Appétit</td>\n",
              "    </tr>\n",
              "    <tr>\n",
              "      <th>132</th>\n",
              "      <td>33502127</td>\n",
              "      <td>325000</td>\n",
              "      <td>731</td>\n",
              "      <td>Tara Stiles : Yoga that Feels Like You</td>\n",
              "    </tr>\n",
              "    <tr>\n",
              "      <th>104</th>\n",
              "      <td>506269055</td>\n",
              "      <td>5530000</td>\n",
              "      <td>267</td>\n",
              "      <td>minutephysics</td>\n",
              "    </tr>\n",
              "  </tbody>\n",
              "</table>\n",
              "</div>\n",
              "      <button class=\"colab-df-convert\" onclick=\"convertToInteractive('df-7d9e2285-919a-486b-af95-e838423c593e')\"\n",
              "              title=\"Convert this dataframe to an interactive table.\"\n",
              "              style=\"display:none;\">\n",
              "        \n",
              "  <svg xmlns=\"http://www.w3.org/2000/svg\" height=\"24px\"viewBox=\"0 0 24 24\"\n",
              "       width=\"24px\">\n",
              "    <path d=\"M0 0h24v24H0V0z\" fill=\"none\"/>\n",
              "    <path d=\"M18.56 5.44l.94 2.06.94-2.06 2.06-.94-2.06-.94-.94-2.06-.94 2.06-2.06.94zm-11 1L8.5 8.5l.94-2.06 2.06-.94-2.06-.94L8.5 2.5l-.94 2.06-2.06.94zm10 10l.94 2.06.94-2.06 2.06-.94-2.06-.94-.94-2.06-.94 2.06-2.06.94z\"/><path d=\"M17.41 7.96l-1.37-1.37c-.4-.4-.92-.59-1.43-.59-.52 0-1.04.2-1.43.59L10.3 9.45l-7.72 7.72c-.78.78-.78 2.05 0 2.83L4 21.41c.39.39.9.59 1.41.59.51 0 1.02-.2 1.41-.59l7.78-7.78 2.81-2.81c.8-.78.8-2.07 0-2.86zM5.41 20L4 18.59l7.72-7.72 1.47 1.35L5.41 20z\"/>\n",
              "  </svg>\n",
              "      </button>\n",
              "      \n",
              "  <style>\n",
              "    .colab-df-container {\n",
              "      display:flex;\n",
              "      flex-wrap:wrap;\n",
              "      gap: 12px;\n",
              "    }\n",
              "\n",
              "    .colab-df-convert {\n",
              "      background-color: #E8F0FE;\n",
              "      border: none;\n",
              "      border-radius: 50%;\n",
              "      cursor: pointer;\n",
              "      display: none;\n",
              "      fill: #1967D2;\n",
              "      height: 32px;\n",
              "      padding: 0 0 0 0;\n",
              "      width: 32px;\n",
              "    }\n",
              "\n",
              "    .colab-df-convert:hover {\n",
              "      background-color: #E2EBFA;\n",
              "      box-shadow: 0px 1px 2px rgba(60, 64, 67, 0.3), 0px 1px 3px 1px rgba(60, 64, 67, 0.15);\n",
              "      fill: #174EA6;\n",
              "    }\n",
              "\n",
              "    [theme=dark] .colab-df-convert {\n",
              "      background-color: #3B4455;\n",
              "      fill: #D2E3FC;\n",
              "    }\n",
              "\n",
              "    [theme=dark] .colab-df-convert:hover {\n",
              "      background-color: #434B5C;\n",
              "      box-shadow: 0px 1px 3px 1px rgba(0, 0, 0, 0.15);\n",
              "      filter: drop-shadow(0px 1px 2px rgba(0, 0, 0, 0.3));\n",
              "      fill: #FFFFFF;\n",
              "    }\n",
              "  </style>\n",
              "\n",
              "      <script>\n",
              "        const buttonEl =\n",
              "          document.querySelector('#df-7d9e2285-919a-486b-af95-e838423c593e button.colab-df-convert');\n",
              "        buttonEl.style.display =\n",
              "          google.colab.kernel.accessAllowed ? 'block' : 'none';\n",
              "\n",
              "        async function convertToInteractive(key) {\n",
              "          const element = document.querySelector('#df-7d9e2285-919a-486b-af95-e838423c593e');\n",
              "          const dataTable =\n",
              "            await google.colab.kernel.invokeFunction('convertToInteractive',\n",
              "                                                     [key], {});\n",
              "          if (!dataTable) return;\n",
              "\n",
              "          const docLinkHtml = 'Like what you see? Visit the ' +\n",
              "            '<a target=\"_blank\" href=https://colab.research.google.com/notebooks/data_table.ipynb>data table notebook</a>'\n",
              "            + ' to learn more about interactive tables.';\n",
              "          element.innerHTML = '';\n",
              "          dataTable['output_type'] = 'display_data';\n",
              "          await google.colab.output.renderOutput(dataTable, element);\n",
              "          const docLink = document.createElement('div');\n",
              "          docLink.innerHTML = docLinkHtml;\n",
              "          element.appendChild(docLink);\n",
              "        }\n",
              "      </script>\n",
              "    </div>\n",
              "  </div>\n",
              "  "
            ]
          },
          "metadata": {},
          "execution_count": 7
        }
      ]
    },
    {
      "cell_type": "markdown",
      "source": [
        "### Let's examine our datatypes and convert them appropriately"
      ],
      "metadata": {
        "id": "ZeWzYTmOA4eY",
        "pycharm": {
          "name": "#%% md\n"
        }
      }
    },
    {
      "cell_type": "code",
      "source": [
        "raw_df.info()"
      ],
      "metadata": {
        "id": "NB0XlyRB1dHI",
        "outputId": "cfb106b1-d824-46aa-a8b3-fc5eea841520",
        "colab": {
          "base_uri": "https://localhost:8080/"
        },
        "pycharm": {
          "name": "#%%\n"
        }
      },
      "execution_count": 8,
      "outputs": [
        {
          "output_type": "stream",
          "name": "stdout",
          "text": [
            "<class 'pandas.core.frame.DataFrame'>\n",
            "RangeIndex: 55337 entries, 0 to 55336\n",
            "Data columns (total 16 columns):\n",
            " #   Column           Non-Null Count  Dtype \n",
            "---  ------           --------------  ----- \n",
            " 0   publishedAt      55337 non-null  object\n",
            " 1   title            55337 non-null  object\n",
            " 2   channelId        55124 non-null  object\n",
            " 3   description      55124 non-null  object\n",
            " 4   channelTitle     55124 non-null  object\n",
            " 5   tags             51972 non-null  object\n",
            " 6   categoryId       55124 non-null  object\n",
            " 7   viewCount        55050 non-null  object\n",
            " 8   likeCount        54589 non-null  object\n",
            " 9   favoriteCount    55121 non-null  object\n",
            " 10  commentCount     54549 non-null  object\n",
            " 11  duration         55125 non-null  object\n",
            " 12  definition       55125 non-null  object\n",
            " 13  contentRating    55125 non-null  object\n",
            " 14  topicCategories  54331 non-null  object\n",
            " 15  topicLabel       55337 non-null  object\n",
            "dtypes: object(16)\n",
            "memory usage: 6.8+ MB\n"
          ]
        }
      ]
    },
    {
      "cell_type": "code",
      "source": [
        "raw_df.loc[0].publishedAt"
      ],
      "metadata": {
        "colab": {
          "base_uri": "https://localhost:8080/",
          "height": 37
        },
        "id": "H8jPmw20BiOJ",
        "outputId": "23195ad7-8c6d-43d3-d8a8-db8200512449"
      },
      "execution_count": 9,
      "outputs": [
        {
          "output_type": "execute_result",
          "data": {
            "text/plain": [
              "'2022-09-29T16:00:30Z'"
            ],
            "application/vnd.google.colaboratory.intrinsic+json": {
              "type": "string"
            }
          },
          "metadata": {},
          "execution_count": 9
        }
      ]
    },
    {
      "cell_type": "code",
      "source": [
        "def duration_split(duration):\n",
        "    try:\n",
        "      for _, v in groupby(duration, str.isalpha):\n",
        "        yield ''.join(v)\n",
        "    except:\n",
        "      yield np.nan\n",
        "    \n",
        "### Miles code fix included here   \n",
        "def duration_2_secs(duration, duration_split=duration_split):\n",
        "  temp = 0\n",
        "  for i, val in enumerate(duration_split(duration)):\n",
        "    \n",
        "    if len(str(duration)) <= 8:\n",
        "      if i==1 and not val.isalpha():\n",
        "        temp += float(val)*60\n",
        "      \n",
        "      if i==3 and not val.isalpha():\n",
        "        temp += float(val)\n",
        "    else:\n",
        "      if i==1 and not val.isalpha():\n",
        "        temp += float(val)*60*60\n",
        "      \n",
        "      if i==3 and not val.isalpha():\n",
        "        temp += float(val)*60\n",
        "      \n",
        "      if i==5 and not val.isalpha():\n",
        "        temp += float(val)\n",
        "\n",
        "  return(temp)\n",
        "\n",
        "\n",
        "# duration_2_secs(\"PT51M12S\")"
      ],
      "metadata": {
        "id": "IpgdK3Vs53Yo",
        "pycharm": {
          "name": "#%%\n"
        }
      },
      "execution_count": 10,
      "outputs": []
    },
    {
      "cell_type": "code",
      "source": [
        "def topic_extract(links_list):\n",
        "  \n",
        "  topics_list = []  \n",
        "  try:\n",
        "    for link in links_list:\n",
        "      topics_list.append(link.split(\"/\")[-1].lower())\n",
        "    \n",
        "    return(topics_list)\n",
        "  except:\n",
        "    pass"
      ],
      "metadata": {
        "id": "7GyZH6WgHzw7",
        "pycharm": {
          "name": "#%%\n"
        }
      },
      "execution_count": 11,
      "outputs": []
    },
    {
      "cell_type": "code",
      "source": [
        "def text_prep(val):\n",
        "  '''the goal is to replace the hypertexts in the \n",
        "  in any field to redundant names as vectorizing\n",
        "  them could be misleading and also leak data'''\n",
        "\n",
        "  val = str(val).lower()\n",
        "  process_desc = re.sub(r'http[s]*:.*\\w', 'url', val)\n",
        "  process_desc = re.sub('[^a-zA-Z]', ' ', process_desc)\n",
        "  process_desc = re.sub(r'\\s+', ' ', process_desc)\n",
        "\n",
        "  process_desc = nltk.sent_tokenize(process_desc)\n",
        "  if not process_desc:\n",
        "    process_desc = [nltk.word_tokenize(word) for word in process_desc]\n",
        "  else:\n",
        "    process_desc = [nltk.word_tokenize(word) for word in process_desc][0]\n",
        "    \n",
        "  \n",
        "  word_list = [word for word in process_desc if word not in stopwords.words('english')]\n",
        "\n",
        "\n",
        "  return word_list\n",
        "\n"
      ],
      "metadata": {
        "id": "iQqQ2cTCTV25",
        "pycharm": {
          "name": "#%%\n"
        }
      },
      "execution_count": 12,
      "outputs": []
    },
    {
      "cell_type": "code",
      "source": [
        "text_prep(\"i if happening\")"
      ],
      "metadata": {
        "id": "tlnQIsjxffa6",
        "outputId": "cf022060-048e-43f6-c095-c8ba421ad3ea",
        "colab": {
          "base_uri": "https://localhost:8080/"
        },
        "pycharm": {
          "name": "#%%\n"
        }
      },
      "execution_count": 13,
      "outputs": [
        {
          "output_type": "execute_result",
          "data": {
            "text/plain": [
              "['happening']"
            ]
          },
          "metadata": {},
          "execution_count": 13
        }
      ]
    },
    {
      "cell_type": "code",
      "source": [
        "raw_df.groupby('topicLabel').viewCount.agg('median').plot(kind='bar');"
      ],
      "metadata": {
        "colab": {
          "base_uri": "https://localhost:8080/",
          "height": 360
        },
        "id": "E9bhb-G9E4dG",
        "outputId": "32cf9268-cf21-40c4-a006-a00b4d5a1dac"
      },
      "execution_count": 14,
      "outputs": [
        {
          "output_type": "display_data",
          "data": {
            "text/plain": [
              "<Figure size 432x288 with 1 Axes>"
            ],
            "image/png": "[encoded data removed]"
          },
          "metadata": {
            "needs_background": "light"
          }
        }
      ]
    },
    {
      "cell_type": "code",
      "source": [
        "# raw_df.topicLabel.map(dict(raw_df.groupby('topicLabel').avg_viewCount.agg('median')))"
      ],
      "metadata": {
        "id": "i0ja2A7LJsJf"
      },
      "execution_count": 20,
      "outputs": []
    },
    {
      "cell_type": "code",
      "source": [
        "def cat_stats(df):\n",
        "  df[\"publishedAt\"] = pd.to_datetime(df.publishedAt)\n",
        "  df['publishedDayNum'] = df.publishedAt.apply(lambda x: x.timetuple().tm_yday)\n",
        "  df['publishedDayDelta'] = (datetime.datetime.now() - df.publishedAt.dt.tz_localize(None)).dt.days\n",
        "  df[\"viewCount\"] = df.viewCount.astype(float)\n",
        "  df[\"avg_viewCount\"] = df[\"viewCount\"]/df['publishedDayDelta']\n",
        "  df['topicLabel'] = df.topicLabel.str.lower()\n",
        "  df.loc[df['topicLabel'] == 'fitness_workout', 'topicLabel'] = 'fitness'\n",
        "  \n",
        "  return(df.groupby('topicLabel').avg_viewCount.describe())\n"
      ],
      "metadata": {
        "id": "OJWSDS_NjowM"
      },
      "execution_count": 16,
      "outputs": []
    },
    {
      "cell_type": "code",
      "source": [
        "cat_stats(raw_df).to_csv(\"cat_stats.csv\")"
      ],
      "metadata": {
        "id": "1BaSMaffkJyk"
      },
      "execution_count": 17,
      "outputs": []
    },
    {
      "cell_type": "markdown",
      "source": [],
      "metadata": {
        "id": "XXY0g0pKjQ9g"
      }
    },
    {
      "cell_type": "code",
      "source": [
        "pd.read_csv(\"cat_stats.csv\")"
      ],
      "metadata": {
        "id": "GlnVDmVWlJhQ",
        "outputId": "880e1335-3490-4bba-bc66-ef85e20f3490",
        "colab": {
          "base_uri": "https://localhost:8080/",
          "height": 359
        }
      },
      "execution_count": 18,
      "outputs": [
        {
          "output_type": "execute_result",
          "data": {
            "text/plain": [
              "    topicLabel   count          mean           std       min         25%  \\\n",
              "0       comedy  5250.0   5158.141607  15023.181771  3.530101  890.347845   \n",
              "1      cooking  7739.0   1388.643498   3038.321217  0.000000   87.131708   \n",
              "2  educational  5814.0   1710.482542   5858.477005  0.250000   82.919504   \n",
              "3      fitness  5198.0   2134.939709  12200.864518  0.000000   81.551046   \n",
              "4      history  4298.0   1602.625523   5546.350701  0.000000  186.283314   \n",
              "5        music  3896.0  11475.101057  83503.859409  0.000000  210.793819   \n",
              "6         news  7118.0   2681.271035   6152.525870  0.271375  226.206641   \n",
              "7      science  4762.0   1569.977198   5594.275281  0.148346   34.740486   \n",
              "8       travel  5104.0   1001.487402   5040.451632  0.020423   19.545631   \n",
              "9         yoga  5871.0   1334.392760  11237.957903  0.173938    9.320986   \n",
              "\n",
              "           50%          75%           max  \n",
              "0  2220.680111  4992.800875  5.270915e+05  \n",
              "1   296.538682  1310.562570  7.691557e+04  \n",
              "2   333.481508  1143.565415  1.427337e+05  \n",
              "3   268.833403   806.432501  4.901129e+05  \n",
              "4   580.799614  1478.433662  2.205059e+05  \n",
              "5   664.605028  3505.614135  2.783838e+06  \n",
              "6   753.705213  2447.572570  1.087819e+05  \n",
              "7   169.225989   841.033147  1.153705e+05  \n",
              "8    93.251200   542.391722  2.913744e+05  \n",
              "9    41.434116   314.308906  4.931410e+05  "
            ],
            "text/html": [
              "\n",
              "  <div id=\"df-15233ed4-85b4-4147-ba75-9b46d6d37dd2\">\n",
              "    <div class=\"colab-df-container\">\n",
              "      <div>\n",
              "<style scoped>\n",
              "    .dataframe tbody tr th:only-of-type {\n",
              "        vertical-align: middle;\n",
              "    }\n",
              "\n",
              "    .dataframe tbody tr th {\n",
              "        vertical-align: top;\n",
              "    }\n",
              "\n",
              "    .dataframe thead th {\n",
              "        text-align: right;\n",
              "    }\n",
              "</style>\n",
              "<table border=\"1\" class=\"dataframe\">\n",
              "  <thead>\n",
              "    <tr style=\"text-align: right;\">\n",
              "      <th></th>\n",
              "      <th>topicLabel</th>\n",
              "      <th>count</th>\n",
              "      <th>mean</th>\n",
              "      <th>std</th>\n",
              "      <th>min</th>\n",
              "      <th>25%</th>\n",
              "      <th>50%</th>\n",
              "      <th>75%</th>\n",
              "      <th>max</th>\n",
              "    </tr>\n",
              "  </thead>\n",
              "  <tbody>\n",
              "    <tr>\n",
              "      <th>0</th>\n",
              "      <td>comedy</td>\n",
              "      <td>5250.0</td>\n",
              "      <td>5158.141607</td>\n",
              "      <td>15023.181771</td>\n",
              "      <td>3.530101</td>\n",
              "      <td>890.347845</td>\n",
              "      <td>2220.680111</td>\n",
              "      <td>4992.800875</td>\n",
              "      <td>5.270915e+05</td>\n",
              "    </tr>\n",
              "    <tr>\n",
              "      <th>1</th>\n",
              "      <td>cooking</td>\n",
              "      <td>7739.0</td>\n",
              "      <td>1388.643498</td>\n",
              "      <td>3038.321217</td>\n",
              "      <td>0.000000</td>\n",
              "      <td>87.131708</td>\n",
              "      <td>296.538682</td>\n",
              "      <td>1310.562570</td>\n",
              "      <td>7.691557e+04</td>\n",
              "    </tr>\n",
              "    <tr>\n",
              "      <th>2</th>\n",
              "      <td>educational</td>\n",
              "      <td>5814.0</td>\n",
              "      <td>1710.482542</td>\n",
              "      <td>5858.477005</td>\n",
              "      <td>0.250000</td>\n",
              "      <td>82.919504</td>\n",
              "      <td>333.481508</td>\n",
              "      <td>1143.565415</td>\n",
              "      <td>1.427337e+05</td>\n",
              "    </tr>\n",
              "    <tr>\n",
              "      <th>3</th>\n",
              "      <td>fitness</td>\n",
              "      <td>5198.0</td>\n",
              "      <td>2134.939709</td>\n",
              "      <td>12200.864518</td>\n",
              "      <td>0.000000</td>\n",
              "      <td>81.551046</td>\n",
              "      <td>268.833403</td>\n",
              "      <td>806.432501</td>\n",
              "      <td>4.901129e+05</td>\n",
              "    </tr>\n",
              "    <tr>\n",
              "      <th>4</th>\n",
              "      <td>history</td>\n",
              "      <td>4298.0</td>\n",
              "      <td>1602.625523</td>\n",
              "      <td>5546.350701</td>\n",
              "      <td>0.000000</td>\n",
              "      <td>186.283314</td>\n",
              "      <td>580.799614</td>\n",
              "      <td>1478.433662</td>\n",
              "      <td>2.205059e+05</td>\n",
              "    </tr>\n",
              "    <tr>\n",
              "      <th>5</th>\n",
              "      <td>music</td>\n",
              "      <td>3896.0</td>\n",
              "      <td>11475.101057</td>\n",
              "      <td>83503.859409</td>\n",
              "      <td>0.000000</td>\n",
              "      <td>210.793819</td>\n",
              "      <td>664.605028</td>\n",
              "      <td>3505.614135</td>\n",
              "      <td>2.783838e+06</td>\n",
              "    </tr>\n",
              "    <tr>\n",
              "      <th>6</th>\n",
              "      <td>news</td>\n",
              "      <td>7118.0</td>\n",
              "      <td>2681.271035</td>\n",
              "      <td>6152.525870</td>\n",
              "      <td>0.271375</td>\n",
              "      <td>226.206641</td>\n",
              "      <td>753.705213</td>\n",
              "      <td>2447.572570</td>\n",
              "      <td>1.087819e+05</td>\n",
              "    </tr>\n",
              "    <tr>\n",
              "      <th>7</th>\n",
              "      <td>science</td>\n",
              "      <td>4762.0</td>\n",
              "      <td>1569.977198</td>\n",
              "      <td>5594.275281</td>\n",
              "      <td>0.148346</td>\n",
              "      <td>34.740486</td>\n",
              "      <td>169.225989</td>\n",
              "      <td>841.033147</td>\n",
              "      <td>1.153705e+05</td>\n",
              "    </tr>\n",
              "    <tr>\n",
              "      <th>8</th>\n",
              "      <td>travel</td>\n",
              "      <td>5104.0</td>\n",
              "      <td>1001.487402</td>\n",
              "      <td>5040.451632</td>\n",
              "      <td>0.020423</td>\n",
              "      <td>19.545631</td>\n",
              "      <td>93.251200</td>\n",
              "      <td>542.391722</td>\n",
              "      <td>2.913744e+05</td>\n",
              "    </tr>\n",
              "    <tr>\n",
              "      <th>9</th>\n",
              "      <td>yoga</td>\n",
              "      <td>5871.0</td>\n",
              "      <td>1334.392760</td>\n",
              "      <td>11237.957903</td>\n",
              "      <td>0.173938</td>\n",
              "      <td>9.320986</td>\n",
              "      <td>41.434116</td>\n",
              "      <td>314.308906</td>\n",
              "      <td>4.931410e+05</td>\n",
              "    </tr>\n",
              "  </tbody>\n",
              "</table>\n",
              "</div>\n",
              "      <button class=\"colab-df-convert\" onclick=\"convertToInteractive('df-15233ed4-85b4-4147-ba75-9b46d6d37dd2')\"\n",
              "              title=\"Convert this dataframe to an interactive table.\"\n",
              "              style=\"display:none;\">\n",
              "        \n",
              "  <svg xmlns=\"http://www.w3.org/2000/svg\" height=\"24px\"viewBox=\"0 0 24 24\"\n",
              "       width=\"24px\">\n",
              "    <path d=\"M0 0h24v24H0V0z\" fill=\"none\"/>\n",
              "    <path d=\"M18.56 5.44l.94 2.06.94-2.06 2.06-.94-2.06-.94-.94-2.06-.94 2.06-2.06.94zm-11 1L8.5 8.5l.94-2.06 2.06-.94-2.06-.94L8.5 2.5l-.94 2.06-2.06.94zm10 10l.94 2.06.94-2.06 2.06-.94-2.06-.94-.94-2.06-.94 2.06-2.06.94z\"/><path d=\"M17.41 7.96l-1.37-1.37c-.4-.4-.92-.59-1.43-.59-.52 0-1.04.2-1.43.59L10.3 9.45l-7.72 7.72c-.78.78-.78 2.05 0 2.83L4 21.41c.39.39.9.59 1.41.59.51 0 1.02-.2 1.41-.59l7.78-7.78 2.81-2.81c.8-.78.8-2.07 0-2.86zM5.41 20L4 18.59l7.72-7.72 1.47 1.35L5.41 20z\"/>\n",
              "  </svg>\n",
              "      </button>\n",
              "      \n",
              "  <style>\n",
              "    .colab-df-container {\n",
              "      display:flex;\n",
              "      flex-wrap:wrap;\n",
              "      gap: 12px;\n",
              "    }\n",
              "\n",
              "    .colab-df-convert {\n",
              "      background-color: #E8F0FE;\n",
              "      border: none;\n",
              "      border-radius: 50%;\n",
              "      cursor: pointer;\n",
              "      display: none;\n",
              "      fill: #1967D2;\n",
              "      height: 32px;\n",
              "      padding: 0 0 0 0;\n",
              "      width: 32px;\n",
              "    }\n",
              "\n",
              "    .colab-df-convert:hover {\n",
              "      background-color: #E2EBFA;\n",
              "      box-shadow: 0px 1px 2px rgba(60, 64, 67, 0.3), 0px 1px 3px 1px rgba(60, 64, 67, 0.15);\n",
              "      fill: #174EA6;\n",
              "    }\n",
              "\n",
              "    [theme=dark] .colab-df-convert {\n",
              "      background-color: #3B4455;\n",
              "      fill: #D2E3FC;\n",
              "    }\n",
              "\n",
              "    [theme=dark] .colab-df-convert:hover {\n",
              "      background-color: #434B5C;\n",
              "      box-shadow: 0px 1px 3px 1px rgba(0, 0, 0, 0.15);\n",
              "      filter: drop-shadow(0px 1px 2px rgba(0, 0, 0, 0.3));\n",
              "      fill: #FFFFFF;\n",
              "    }\n",
              "  </style>\n",
              "\n",
              "      <script>\n",
              "        const buttonEl =\n",
              "          document.querySelector('#df-15233ed4-85b4-4147-ba75-9b46d6d37dd2 button.colab-df-convert');\n",
              "        buttonEl.style.display =\n",
              "          google.colab.kernel.accessAllowed ? 'block' : 'none';\n",
              "\n",
              "        async function convertToInteractive(key) {\n",
              "          const element = document.querySelector('#df-15233ed4-85b4-4147-ba75-9b46d6d37dd2');\n",
              "          const dataTable =\n",
              "            await google.colab.kernel.invokeFunction('convertToInteractive',\n",
              "                                                     [key], {});\n",
              "          if (!dataTable) return;\n",
              "\n",
              "          const docLinkHtml = 'Like what you see? Visit the ' +\n",
              "            '<a target=\"_blank\" href=https://colab.research.google.com/notebooks/data_table.ipynb>data table notebook</a>'\n",
              "            + ' to learn more about interactive tables.';\n",
              "          element.innerHTML = '';\n",
              "          dataTable['output_type'] = 'display_data';\n",
              "          await google.colab.output.renderOutput(dataTable, element);\n",
              "          const docLink = document.createElement('div');\n",
              "          docLink.innerHTML = docLinkHtml;\n",
              "          element.appendChild(docLink);\n",
              "        }\n",
              "      </script>\n",
              "    </div>\n",
              "  </div>\n",
              "  "
            ]
          },
          "metadata": {},
          "execution_count": 18
        }
      ]
    },
    {
      "cell_type": "code",
      "source": [],
      "metadata": {
        "id": "ROZYCJxWlH17"
      },
      "execution_count": 18,
      "outputs": []
    },
    {
      "cell_type": "code",
      "source": [
        "def create_dataset(df, featureset, primary=True):\n",
        "\n",
        "  if primary:\n",
        "    df[\"publishedAt\"] = pd.to_datetime(df.publishedAt)\n",
        "    df['publishedDayNum'] = df.publishedAt.apply(lambda x: x.timetuple().tm_yday)\n",
        "    df['publishedDayDelta'] = (datetime.datetime.now() - df.publishedAt.dt.tz_localize(None)).dt.days\n",
        "    df[\"categoryId\"] = df.categoryId.astype(float)\n",
        "    df[\"viewCount\"] = df.viewCount.astype(float)\n",
        "    df[\"avg_viewCount\"] = df[\"viewCount\"]/df['publishedDayDelta']\n",
        "    df[\"likeCount\"] = df.likeCount.astype(float)\n",
        "    df[\"favoriteCount\"] = df.favoriteCount.astype(float)\n",
        "    df[\"commentCount\"] = df.commentCount.astype(float)\n",
        "    df['duration_secs'] = df.duration.apply(duration_2_secs)\n",
        "    df['topicCategories'] = df.topicCategories.apply(topic_extract)\n",
        "    df['primary_cat'] = df.topicCategories.apply(topic_extract)\n",
        "    df['tags'] = df.tags.apply(topic_extract)\n",
        "    df['channelTitle'] = df.channelTitle.str.lower()\n",
        "    df['topicLabel'] = df.topicLabel.str.lower()\n",
        "    # df['description'] = df.description.apply(text_prep)\n",
        "    df['title'] = df.title.apply(text_prep)\n",
        "    df['len_title'] = df.title.apply(lambda x: len(x))\n",
        "    df['log_duration_secs'] = np.log(df.duration_secs+1)\n",
        "    df.loc[df['topicLabel'] == 'fitness_workout', 'topicLabel'] = 'fitness'\n",
        "    df['score'] = df[\"avg_viewCount\"]/df.topicLabel.map(dict(df.groupby('topicLabel').avg_viewCount.agg('median')))\n",
        "  \n",
        "  else:\n",
        "    df['ov_viewCount'] = df.viewCount.astype(float)\n",
        "    df['ov_subscriberCount'] = df.subscriberCount.astype(float)\n",
        "    df['ov_videoCount'] = df.videoCount.astype(float)\n",
        "    df['channelName'] = df.channelName.str.lower()\n",
        "\n",
        "  return df[featureset]"
      ],
      "metadata": {
        "id": "p0OW3SZK1hOg",
        "pycharm": {
          "name": "#%%\n"
        }
      },
      "execution_count": 19,
      "outputs": []
    },
    {
      "cell_type": "markdown",
      "source": [
        "- It's best to drop tags because, in many cases, the tags tend to contain the channel names, which could as we speculated earlier, lead to data leaks.\n",
        "- We'll also drop channelId because it is visually unintuitve and we can encode the channelNames with simple Id's if we needed to.\n",
        "- since we don't have data in the order of millions, we'd abstract out the publishing data to a new variable of `publishedDayNum` that contains the day of the year the video was published.\n",
        "- on examining `contentRating` values, the dataset in non-null but majorly contains empty dictionaries, which makes it misleading. As a result, we'll drop this feature too.\n",
        "- on examining `favoriteCount` values, the dataset in non-null but majorly contains a value of `0`, which makes it misleading. As a result, we'll drop it.\n",
        "\n",
        "- dropped columns list [`tags`, `channelId`, `contentRating`] and [`publishedAt`] after deriving the `publishedDayNum` column from it."
      ],
      "metadata": {
        "id": "6DM_MqBeWuTB",
        "pycharm": {
          "name": "#%% md\n"
        }
      }
    },
    {
      "cell_type": "code",
      "source": [
        "features = ['title', 'channelTitle',\n",
        " 'categoryId', 'viewCount', 'avg_viewCount', 'likeCount',\n",
        " 'commentCount', 'duration_secs', 'log_duration_secs',\n",
        " 'definition', 'topicCategories', 'publishedDayNum',\n",
        " 'publishedDayDelta', 'len_title', 'topicLabel', 'score']\n",
        "\n",
        "preproc1_df = create_dataset(raw_df, features)"
      ],
      "metadata": {
        "id": "1x1H_CF7Zbph",
        "pycharm": {
          "name": "#%%\n"
        }
      },
      "execution_count": 17,
      "outputs": []
    },
    {
      "cell_type": "code",
      "source": [
        "preproc1_df.sample(5)"
      ],
      "metadata": {
        "id": "TQtMyEfFZbsh",
        "pycharm": {
          "name": "#%%\n"
        },
        "outputId": "7e563e76-955d-42e3-a07c-da60253d151c",
        "colab": {
          "base_uri": "https://localhost:8080/",
          "height": 540
        }
      },
      "execution_count": 18,
      "outputs": [
        {
          "output_type": "execute_result",
          "data": {
            "text/plain": [
              "                                                   title  \\\n",
              "11661                             [things, north, korea]   \n",
              "6631   [live, april, finding, resilience, together, l...   \n",
              "42674           [battlestorm, stalingrad, e, chaos, eve]   \n",
              "25175                   [unbeetable, olympic, advantage]   \n",
              "6718             [egyptian, sun, prayers, salute, earth]   \n",
              "\n",
              "                                             description channelTitle  \\\n",
              "11661  [subscribe, daily, travel, videos, url, join, ...  drew binsky   \n",
              "6631   [today, ekhartyoga, class, lisa, petersen, fir...   ekhartyoga   \n",
              "42674  [eve, great, attack, stalingrad, city, hoth, s...   tikhistory   \n",
              "25175  [click, tweet, url, always, told, eat, vegetab...  asapscience   \n",
              "6718   [class, goes, two, flowing, yoga, sequences, e...   ekhartyoga   \n",
              "\n",
              "       categoryId  viewCount  avg_viewCount  likeCount  commentCount  \\\n",
              "11661        19.0  9671822.0    9740.002014   153977.0       10825.0   \n",
              "6631         26.0     4082.0       4.545657      118.0          17.0   \n",
              "42674        27.0   154308.0     167.362256     3708.0         400.0   \n",
              "25175        28.0   423904.0     113.708155     3071.0         328.0   \n",
              "6718         17.0     9928.0       6.267677      257.0          10.0   \n",
              "\n",
              "       duration_secs  log_duration_secs definition  \\\n",
              "11661          216.0           5.379897         hd   \n",
              "6631          2142.0           7.669962         hd   \n",
              "42674         2003.0           7.602900         hd   \n",
              "25175          110.0           4.709530         hd   \n",
              "6718           955.0           6.862758         hd   \n",
              "\n",
              "                                 topicCategories  publishedDayNum  \\\n",
              "11661                         [society, tourism]               26   \n",
              "6631                     [lifestyle_(sociology)]              121   \n",
              "42674  [strategy_video_game, video_game_culture]               97   \n",
              "25175                                [knowledge]              213   \n",
              "6718                     [lifestyle_(sociology)]              165   \n",
              "\n",
              "       publishedDayDelta  len_title topicLabel       score  \n",
              "11661                993          3     travel  104.138687  \n",
              "6631                 898          9       yoga    0.109352  \n",
              "42674                922          5    history    0.286558  \n",
              "25175               3728          3    science    0.660630  \n",
              "6718                1584          5       yoga    0.150778  "
            ],
            "text/html": [
              "\n",
              "  <div id=\"df-ba6307e6-0f7d-47ed-b98a-68c927482b7b\">\n",
              "    <div class=\"colab-df-container\">\n",
              "      <div>\n",
              "<style scoped>\n",
              "    .dataframe tbody tr th:only-of-type {\n",
              "        vertical-align: middle;\n",
              "    }\n",
              "\n",
              "    .dataframe tbody tr th {\n",
              "        vertical-align: top;\n",
              "    }\n",
              "\n",
              "    .dataframe thead th {\n",
              "        text-align: right;\n",
              "    }\n",
              "</style>\n",
              "<table border=\"1\" class=\"dataframe\">\n",
              "  <thead>\n",
              "    <tr style=\"text-align: right;\">\n",
              "      <th></th>\n",
              "      <th>title</th>\n",
              "      <th>description</th>\n",
              "      <th>channelTitle</th>\n",
              "      <th>categoryId</th>\n",
              "      <th>viewCount</th>\n",
              "      <th>avg_viewCount</th>\n",
              "      <th>likeCount</th>\n",
              "      <th>commentCount</th>\n",
              "      <th>duration_secs</th>\n",
              "      <th>log_duration_secs</th>\n",
              "      <th>definition</th>\n",
              "      <th>topicCategories</th>\n",
              "      <th>publishedDayNum</th>\n",
              "      <th>publishedDayDelta</th>\n",
              "      <th>len_title</th>\n",
              "      <th>topicLabel</th>\n",
              "      <th>score</th>\n",
              "    </tr>\n",
              "  </thead>\n",
              "  <tbody>\n",
              "    <tr>\n",
              "      <th>11661</th>\n",
              "      <td>[things, north, korea]</td>\n",
              "      <td>[subscribe, daily, travel, videos, url, join, ...</td>\n",
              "      <td>drew binsky</td>\n",
              "      <td>19.0</td>\n",
              "      <td>9671822.0</td>\n",
              "      <td>9740.002014</td>\n",
              "      <td>153977.0</td>\n",
              "      <td>10825.0</td>\n",
              "      <td>216.0</td>\n",
              "      <td>5.379897</td>\n",
              "      <td>hd</td>\n",
              "      <td>[society, tourism]</td>\n",
              "      <td>26</td>\n",
              "      <td>993</td>\n",
              "      <td>3</td>\n",
              "      <td>travel</td>\n",
              "      <td>104.138687</td>\n",
              "    </tr>\n",
              "    <tr>\n",
              "      <th>6631</th>\n",
              "      <td>[live, april, finding, resilience, together, l...</td>\n",
              "      <td>[today, ekhartyoga, class, lisa, petersen, fir...</td>\n",
              "      <td>ekhartyoga</td>\n",
              "      <td>26.0</td>\n",
              "      <td>4082.0</td>\n",
              "      <td>4.545657</td>\n",
              "      <td>118.0</td>\n",
              "      <td>17.0</td>\n",
              "      <td>2142.0</td>\n",
              "      <td>7.669962</td>\n",
              "      <td>hd</td>\n",
              "      <td>[lifestyle_(sociology)]</td>\n",
              "      <td>121</td>\n",
              "      <td>898</td>\n",
              "      <td>9</td>\n",
              "      <td>yoga</td>\n",
              "      <td>0.109352</td>\n",
              "    </tr>\n",
              "    <tr>\n",
              "      <th>42674</th>\n",
              "      <td>[battlestorm, stalingrad, e, chaos, eve]</td>\n",
              "      <td>[eve, great, attack, stalingrad, city, hoth, s...</td>\n",
              "      <td>tikhistory</td>\n",
              "      <td>27.0</td>\n",
              "      <td>154308.0</td>\n",
              "      <td>167.362256</td>\n",
              "      <td>3708.0</td>\n",
              "      <td>400.0</td>\n",
              "      <td>2003.0</td>\n",
              "      <td>7.602900</td>\n",
              "      <td>hd</td>\n",
              "      <td>[strategy_video_game, video_game_culture]</td>\n",
              "      <td>97</td>\n",
              "      <td>922</td>\n",
              "      <td>5</td>\n",
              "      <td>history</td>\n",
              "      <td>0.286558</td>\n",
              "    </tr>\n",
              "    <tr>\n",
              "      <th>25175</th>\n",
              "      <td>[unbeetable, olympic, advantage]</td>\n",
              "      <td>[click, tweet, url, always, told, eat, vegetab...</td>\n",
              "      <td>asapscience</td>\n",
              "      <td>28.0</td>\n",
              "      <td>423904.0</td>\n",
              "      <td>113.708155</td>\n",
              "      <td>3071.0</td>\n",
              "      <td>328.0</td>\n",
              "      <td>110.0</td>\n",
              "      <td>4.709530</td>\n",
              "      <td>hd</td>\n",
              "      <td>[knowledge]</td>\n",
              "      <td>213</td>\n",
              "      <td>3728</td>\n",
              "      <td>3</td>\n",
              "      <td>science</td>\n",
              "      <td>0.660630</td>\n",
              "    </tr>\n",
              "    <tr>\n",
              "      <th>6718</th>\n",
              "      <td>[egyptian, sun, prayers, salute, earth]</td>\n",
              "      <td>[class, goes, two, flowing, yoga, sequences, e...</td>\n",
              "      <td>ekhartyoga</td>\n",
              "      <td>17.0</td>\n",
              "      <td>9928.0</td>\n",
              "      <td>6.267677</td>\n",
              "      <td>257.0</td>\n",
              "      <td>10.0</td>\n",
              "      <td>955.0</td>\n",
              "      <td>6.862758</td>\n",
              "      <td>hd</td>\n",
              "      <td>[lifestyle_(sociology)]</td>\n",
              "      <td>165</td>\n",
              "      <td>1584</td>\n",
              "      <td>5</td>\n",
              "      <td>yoga</td>\n",
              "      <td>0.150778</td>\n",
              "    </tr>\n",
              "  </tbody>\n",
              "</table>\n",
              "</div>\n",
              "      <button class=\"colab-df-convert\" onclick=\"convertToInteractive('df-ba6307e6-0f7d-47ed-b98a-68c927482b7b')\"\n",
              "              title=\"Convert this dataframe to an interactive table.\"\n",
              "              style=\"display:none;\">\n",
              "        \n",
              "  <svg xmlns=\"http://www.w3.org/2000/svg\" height=\"24px\"viewBox=\"0 0 24 24\"\n",
              "       width=\"24px\">\n",
              "    <path d=\"M0 0h24v24H0V0z\" fill=\"none\"/>\n",
              "    <path d=\"M18.56 5.44l.94 2.06.94-2.06 2.06-.94-2.06-.94-.94-2.06-.94 2.06-2.06.94zm-11 1L8.5 8.5l.94-2.06 2.06-.94-2.06-.94L8.5 2.5l-.94 2.06-2.06.94zm10 10l.94 2.06.94-2.06 2.06-.94-2.06-.94-.94-2.06-.94 2.06-2.06.94z\"/><path d=\"M17.41 7.96l-1.37-1.37c-.4-.4-.92-.59-1.43-.59-.52 0-1.04.2-1.43.59L10.3 9.45l-7.72 7.72c-.78.78-.78 2.05 0 2.83L4 21.41c.39.39.9.59 1.41.59.51 0 1.02-.2 1.41-.59l7.78-7.78 2.81-2.81c.8-.78.8-2.07 0-2.86zM5.41 20L4 18.59l7.72-7.72 1.47 1.35L5.41 20z\"/>\n",
              "  </svg>\n",
              "      </button>\n",
              "      \n",
              "  <style>\n",
              "    .colab-df-container {\n",
              "      display:flex;\n",
              "      flex-wrap:wrap;\n",
              "      gap: 12px;\n",
              "    }\n",
              "\n",
              "    .colab-df-convert {\n",
              "      background-color: #E8F0FE;\n",
              "      border: none;\n",
              "      border-radius: 50%;\n",
              "      cursor: pointer;\n",
              "      display: none;\n",
              "      fill: #1967D2;\n",
              "      height: 32px;\n",
              "      padding: 0 0 0 0;\n",
              "      width: 32px;\n",
              "    }\n",
              "\n",
              "    .colab-df-convert:hover {\n",
              "      background-color: #E2EBFA;\n",
              "      box-shadow: 0px 1px 2px rgba(60, 64, 67, 0.3), 0px 1px 3px 1px rgba(60, 64, 67, 0.15);\n",
              "      fill: #174EA6;\n",
              "    }\n",
              "\n",
              "    [theme=dark] .colab-df-convert {\n",
              "      background-color: #3B4455;\n",
              "      fill: #D2E3FC;\n",
              "    }\n",
              "\n",
              "    [theme=dark] .colab-df-convert:hover {\n",
              "      background-color: #434B5C;\n",
              "      box-shadow: 0px 1px 3px 1px rgba(0, 0, 0, 0.15);\n",
              "      filter: drop-shadow(0px 1px 2px rgba(0, 0, 0, 0.3));\n",
              "      fill: #FFFFFF;\n",
              "    }\n",
              "  </style>\n",
              "\n",
              "      <script>\n",
              "        const buttonEl =\n",
              "          document.querySelector('#df-ba6307e6-0f7d-47ed-b98a-68c927482b7b button.colab-df-convert');\n",
              "        buttonEl.style.display =\n",
              "          google.colab.kernel.accessAllowed ? 'block' : 'none';\n",
              "\n",
              "        async function convertToInteractive(key) {\n",
              "          const element = document.querySelector('#df-ba6307e6-0f7d-47ed-b98a-68c927482b7b');\n",
              "          const dataTable =\n",
              "            await google.colab.kernel.invokeFunction('convertToInteractive',\n",
              "                                                     [key], {});\n",
              "          if (!dataTable) return;\n",
              "\n",
              "          const docLinkHtml = 'Like what you see? Visit the ' +\n",
              "            '<a target=\"_blank\" href=https://colab.research.google.com/notebooks/data_table.ipynb>data table notebook</a>'\n",
              "            + ' to learn more about interactive tables.';\n",
              "          element.innerHTML = '';\n",
              "          dataTable['output_type'] = 'display_data';\n",
              "          await google.colab.output.renderOutput(dataTable, element);\n",
              "          const docLink = document.createElement('div');\n",
              "          docLink.innerHTML = docLinkHtml;\n",
              "          element.appendChild(docLink);\n",
              "        }\n",
              "      </script>\n",
              "    </div>\n",
              "  </div>\n",
              "  "
            ]
          },
          "metadata": {},
          "execution_count": 18
        }
      ]
    },
    {
      "cell_type": "markdown",
      "source": [
        "### Let's try engineering a few more features out of our semi-processed dataset"
      ],
      "metadata": {
        "id": "oZZdRTpu9nfZ"
      }
    },
    {
      "cell_type": "markdown",
      "source": [
        "- a single primary topic to help with the intercept\n",
        "- median views calculation grouped by primary topics\n"
      ],
      "metadata": {
        "id": "w3Ez99VO-ldE"
      }
    },
    {
      "cell_type": "code",
      "source": [],
      "metadata": {
        "id": "yIb5nENz9m5i"
      },
      "execution_count": 18,
      "outputs": []
    },
    {
      "cell_type": "code",
      "source": [
        "preproc1_df.info()"
      ],
      "metadata": {
        "id": "t0IvTxgCZbvQ",
        "pycharm": {
          "name": "#%%\n"
        },
        "outputId": "fc6ca6fc-cc51-48db-c972-80b34ec6a763",
        "colab": {
          "base_uri": "https://localhost:8080/"
        }
      },
      "execution_count": 19,
      "outputs": [
        {
          "output_type": "stream",
          "name": "stdout",
          "text": [
            "<class 'pandas.core.frame.DataFrame'>\n",
            "RangeIndex: 55337 entries, 0 to 55336\n",
            "Data columns (total 17 columns):\n",
            " #   Column             Non-Null Count  Dtype  \n",
            "---  ------             --------------  -----  \n",
            " 0   title              55337 non-null  object \n",
            " 1   description        55337 non-null  object \n",
            " 2   channelTitle       55124 non-null  object \n",
            " 3   categoryId         55124 non-null  float64\n",
            " 4   viewCount          55050 non-null  float64\n",
            " 5   avg_viewCount      55050 non-null  float64\n",
            " 6   likeCount          54589 non-null  float64\n",
            " 7   commentCount       54549 non-null  float64\n",
            " 8   duration_secs      55337 non-null  float64\n",
            " 9   log_duration_secs  55337 non-null  float64\n",
            " 10  definition         55125 non-null  object \n",
            " 11  topicCategories    54331 non-null  object \n",
            " 12  publishedDayNum    55337 non-null  int64  \n",
            " 13  publishedDayDelta  55337 non-null  int64  \n",
            " 14  len_title          55337 non-null  int64  \n",
            " 15  topicLabel         55337 non-null  object \n",
            " 16  score              55050 non-null  float64\n",
            "dtypes: float64(8), int64(3), object(6)\n",
            "memory usage: 7.2+ MB\n"
          ]
        }
      ]
    },
    {
      "cell_type": "markdown",
      "source": [
        "Let's again take a look at what percentage of data is missing across all the fields."
      ],
      "metadata": {
        "id": "2UZA5KbIcLNS",
        "pycharm": {
          "name": "#%% md\n"
        }
      }
    },
    {
      "cell_type": "code",
      "source": [
        "missing_data_perc_cols = (preproc1_df.isna().sum()/len(preproc1_df))*100\n",
        "missing_data_perc_cols"
      ],
      "metadata": {
        "id": "XU9z_gY7ZbyY",
        "pycharm": {
          "name": "#%%\n"
        },
        "outputId": "7e75b3ad-3c41-4d5a-b4f2-e42a20496ff2",
        "colab": {
          "base_uri": "https://localhost:8080/"
        }
      },
      "execution_count": 20,
      "outputs": [
        {
          "output_type": "execute_result",
          "data": {
            "text/plain": [
              "title                0.000000\n",
              "description          0.000000\n",
              "channelTitle         0.384914\n",
              "categoryId           0.384914\n",
              "viewCount            0.518640\n",
              "avg_viewCount        0.518640\n",
              "likeCount            1.351718\n",
              "commentCount         1.424002\n",
              "duration_secs        0.000000\n",
              "log_duration_secs    0.000000\n",
              "definition           0.383107\n",
              "topicCategories      1.817952\n",
              "publishedDayNum      0.000000\n",
              "publishedDayDelta    0.000000\n",
              "len_title            0.000000\n",
              "topicLabel           0.000000\n",
              "score                0.518640\n",
              "dtype: float64"
            ]
          },
          "metadata": {},
          "execution_count": 20
        }
      ]
    },
    {
      "cell_type": "code",
      "source": [
        "lost_rows_perc = len(preproc1_df.dropna())/len(preproc1_df)*100\n",
        "lost_rows_perc"
      ],
      "metadata": {
        "id": "1v-cD0UedKA3",
        "pycharm": {
          "name": "#%%\n"
        },
        "outputId": "9a4cd8cc-805b-4f88-b89c-4a95d3f7035b",
        "colab": {
          "base_uri": "https://localhost:8080/"
        }
      },
      "execution_count": 21,
      "outputs": [
        {
          "output_type": "execute_result",
          "data": {
            "text/plain": [
              "96.27916222418996"
            ]
          },
          "metadata": {},
          "execution_count": 21
        }
      ]
    },
    {
      "cell_type": "markdown",
      "source": [
        "It's under 5% in across all cases, which isn't a bad thing at all and we can easily consider dropping the missing fields as we would regularly keep enriching our datastore, which would easily compensate for the missing 5% over time."
      ],
      "metadata": {
        "id": "CJzvUQV2cUnQ",
        "pycharm": {
          "name": "#%% md\n"
        }
      }
    },
    {
      "cell_type": "code",
      "source": [
        "preproc2_df = preproc1_df.dropna()"
      ],
      "metadata": {
        "id": "el2ILYIT5CuN",
        "pycharm": {
          "name": "#%%\n"
        }
      },
      "execution_count": 22,
      "outputs": []
    },
    {
      "cell_type": "code",
      "source": [
        "preproc2_df.isna().sum()"
      ],
      "metadata": {
        "id": "okxXKRxo5CxC",
        "pycharm": {
          "name": "#%%\n"
        },
        "outputId": "a2cb68b5-f4e8-4a73-af89-6e14bdba29b6",
        "colab": {
          "base_uri": "https://localhost:8080/"
        }
      },
      "execution_count": 23,
      "outputs": [
        {
          "output_type": "execute_result",
          "data": {
            "text/plain": [
              "title                0\n",
              "description          0\n",
              "channelTitle         0\n",
              "categoryId           0\n",
              "viewCount            0\n",
              "avg_viewCount        0\n",
              "likeCount            0\n",
              "commentCount         0\n",
              "duration_secs        0\n",
              "log_duration_secs    0\n",
              "definition           0\n",
              "topicCategories      0\n",
              "publishedDayNum      0\n",
              "publishedDayDelta    0\n",
              "len_title            0\n",
              "topicLabel           0\n",
              "score                0\n",
              "dtype: int64"
            ]
          },
          "metadata": {},
          "execution_count": 23
        }
      ]
    },
    {
      "cell_type": "code",
      "source": [
        "preproc2_df.drop('categoryId', axis=1).describe()"
      ],
      "metadata": {
        "id": "2J7gwINo5Czy",
        "pycharm": {
          "name": "#%%\n"
        },
        "outputId": "5501fafe-5b00-41e1-f474-26447fd3327d",
        "colab": {
          "base_uri": "https://localhost:8080/",
          "height": 297
        }
      },
      "execution_count": 24,
      "outputs": [
        {
          "output_type": "execute_result",
          "data": {
            "text/plain": [
              "          viewCount  avg_viewCount     likeCount  commentCount  duration_secs  \\\n",
              "count  5.327800e+04   5.327800e+04  5.327800e+04  5.327800e+04   53278.000000   \n",
              "mean   3.158608e+06   2.802095e+03  4.917423e+04  3.022889e+03     791.403938   \n",
              "std    4.565088e+07   2.432102e+04  2.824296e+05  1.263771e+04    1497.323859   \n",
              "min    0.000000e+00   0.000000e+00  0.000000e+00  0.000000e+00       0.000000   \n",
              "25%    8.738600e+04   7.921441e+01  1.695000e+03  1.290000e+02     238.000000   \n",
              "50%    3.206290e+05   3.770993e+02  7.418000e+03  5.265000e+02     482.000000   \n",
              "75%    1.322312e+06   1.603889e+03  2.816250e+04  1.916000e+03     865.000000   \n",
              "max    5.809870e+09   2.787846e+06  3.042521e+07  1.124865e+06   42901.000000   \n",
              "\n",
              "       log_duration_secs  publishedDayNum  publishedDayDelta     len_title  \\\n",
              "count       53278.000000     53278.000000       53278.000000  53278.000000   \n",
              "mean            6.176761       182.144131        1524.481681      6.011243   \n",
              "std             0.946581       103.481357        1151.105369      2.538819   \n",
              "min             0.000000         1.000000          14.000000      0.000000   \n",
              "25%             5.476464        93.000000         550.000000      4.000000   \n",
              "50%             6.180017       183.000000        1317.000000      6.000000   \n",
              "75%             6.763885       268.000000        2299.000000      8.000000   \n",
              "max            10.666674       366.000000        6140.000000     19.000000   \n",
              "\n",
              "              score  \n",
              "count  53278.000000  \n",
              "mean       9.561663  \n",
              "std      103.964258  \n",
              "min        0.000000  \n",
              "25%        0.281786  \n",
              "50%        1.009392  \n",
              "75%        3.745587  \n",
              "max    12466.418890  "
            ],
            "text/html": [
              "\n",
              "  <div id=\"df-847d6862-d9ca-491d-9a32-d1f2023ea373\">\n",
              "    <div class=\"colab-df-container\">\n",
              "      <div>\n",
              "<style scoped>\n",
              "    .dataframe tbody tr th:only-of-type {\n",
              "        vertical-align: middle;\n",
              "    }\n",
              "\n",
              "    .dataframe tbody tr th {\n",
              "        vertical-align: top;\n",
              "    }\n",
              "\n",
              "    .dataframe thead th {\n",
              "        text-align: right;\n",
              "    }\n",
              "</style>\n",
              "<table border=\"1\" class=\"dataframe\">\n",
              "  <thead>\n",
              "    <tr style=\"text-align: right;\">\n",
              "      <th></th>\n",
              "      <th>viewCount</th>\n",
              "      <th>avg_viewCount</th>\n",
              "      <th>likeCount</th>\n",
              "      <th>commentCount</th>\n",
              "      <th>duration_secs</th>\n",
              "      <th>log_duration_secs</th>\n",
              "      <th>publishedDayNum</th>\n",
              "      <th>publishedDayDelta</th>\n",
              "      <th>len_title</th>\n",
              "      <th>score</th>\n",
              "    </tr>\n",
              "  </thead>\n",
              "  <tbody>\n",
              "    <tr>\n",
              "      <th>count</th>\n",
              "      <td>5.327800e+04</td>\n",
              "      <td>5.327800e+04</td>\n",
              "      <td>5.327800e+04</td>\n",
              "      <td>5.327800e+04</td>\n",
              "      <td>53278.000000</td>\n",
              "      <td>53278.000000</td>\n",
              "      <td>53278.000000</td>\n",
              "      <td>53278.000000</td>\n",
              "      <td>53278.000000</td>\n",
              "      <td>53278.000000</td>\n",
              "    </tr>\n",
              "    <tr>\n",
              "      <th>mean</th>\n",
              "      <td>3.158608e+06</td>\n",
              "      <td>2.802095e+03</td>\n",
              "      <td>4.917423e+04</td>\n",
              "      <td>3.022889e+03</td>\n",
              "      <td>791.403938</td>\n",
              "      <td>6.176761</td>\n",
              "      <td>182.144131</td>\n",
              "      <td>1524.481681</td>\n",
              "      <td>6.011243</td>\n",
              "      <td>9.561663</td>\n",
              "    </tr>\n",
              "    <tr>\n",
              "      <th>std</th>\n",
              "      <td>4.565088e+07</td>\n",
              "      <td>2.432102e+04</td>\n",
              "      <td>2.824296e+05</td>\n",
              "      <td>1.263771e+04</td>\n",
              "      <td>1497.323859</td>\n",
              "      <td>0.946581</td>\n",
              "      <td>103.481357</td>\n",
              "      <td>1151.105369</td>\n",
              "      <td>2.538819</td>\n",
              "      <td>103.964258</td>\n",
              "    </tr>\n",
              "    <tr>\n",
              "      <th>min</th>\n",
              "      <td>0.000000e+00</td>\n",
              "      <td>0.000000e+00</td>\n",
              "      <td>0.000000e+00</td>\n",
              "      <td>0.000000e+00</td>\n",
              "      <td>0.000000</td>\n",
              "      <td>0.000000</td>\n",
              "      <td>1.000000</td>\n",
              "      <td>14.000000</td>\n",
              "      <td>0.000000</td>\n",
              "      <td>0.000000</td>\n",
              "    </tr>\n",
              "    <tr>\n",
              "      <th>25%</th>\n",
              "      <td>8.738600e+04</td>\n",
              "      <td>7.921441e+01</td>\n",
              "      <td>1.695000e+03</td>\n",
              "      <td>1.290000e+02</td>\n",
              "      <td>238.000000</td>\n",
              "      <td>5.476464</td>\n",
              "      <td>93.000000</td>\n",
              "      <td>550.000000</td>\n",
              "      <td>4.000000</td>\n",
              "      <td>0.281786</td>\n",
              "    </tr>\n",
              "    <tr>\n",
              "      <th>50%</th>\n",
              "      <td>3.206290e+05</td>\n",
              "      <td>3.770993e+02</td>\n",
              "      <td>7.418000e+03</td>\n",
              "      <td>5.265000e+02</td>\n",
              "      <td>482.000000</td>\n",
              "      <td>6.180017</td>\n",
              "      <td>183.000000</td>\n",
              "      <td>1317.000000</td>\n",
              "      <td>6.000000</td>\n",
              "      <td>1.009392</td>\n",
              "    </tr>\n",
              "    <tr>\n",
              "      <th>75%</th>\n",
              "      <td>1.322312e+06</td>\n",
              "      <td>1.603889e+03</td>\n",
              "      <td>2.816250e+04</td>\n",
              "      <td>1.916000e+03</td>\n",
              "      <td>865.000000</td>\n",
              "      <td>6.763885</td>\n",
              "      <td>268.000000</td>\n",
              "      <td>2299.000000</td>\n",
              "      <td>8.000000</td>\n",
              "      <td>3.745587</td>\n",
              "    </tr>\n",
              "    <tr>\n",
              "      <th>max</th>\n",
              "      <td>5.809870e+09</td>\n",
              "      <td>2.787846e+06</td>\n",
              "      <td>3.042521e+07</td>\n",
              "      <td>1.124865e+06</td>\n",
              "      <td>42901.000000</td>\n",
              "      <td>10.666674</td>\n",
              "      <td>366.000000</td>\n",
              "      <td>6140.000000</td>\n",
              "      <td>19.000000</td>\n",
              "      <td>12466.418890</td>\n",
              "    </tr>\n",
              "  </tbody>\n",
              "</table>\n",
              "</div>\n",
              "      <button class=\"colab-df-convert\" onclick=\"convertToInteractive('df-847d6862-d9ca-491d-9a32-d1f2023ea373')\"\n",
              "              title=\"Convert this dataframe to an interactive table.\"\n",
              "              style=\"display:none;\">\n",
              "        \n",
              "  <svg xmlns=\"http://www.w3.org/2000/svg\" height=\"24px\"viewBox=\"0 0 24 24\"\n",
              "       width=\"24px\">\n",
              "    <path d=\"M0 0h24v24H0V0z\" fill=\"none\"/>\n",
              "    <path d=\"M18.56 5.44l.94 2.06.94-2.06 2.06-.94-2.06-.94-.94-2.06-.94 2.06-2.06.94zm-11 1L8.5 8.5l.94-2.06 2.06-.94-2.06-.94L8.5 2.5l-.94 2.06-2.06.94zm10 10l.94 2.06.94-2.06 2.06-.94-2.06-.94-.94-2.06-.94 2.06-2.06.94z\"/><path d=\"M17.41 7.96l-1.37-1.37c-.4-.4-.92-.59-1.43-.59-.52 0-1.04.2-1.43.59L10.3 9.45l-7.72 7.72c-.78.78-.78 2.05 0 2.83L4 21.41c.39.39.9.59 1.41.59.51 0 1.02-.2 1.41-.59l7.78-7.78 2.81-2.81c.8-.78.8-2.07 0-2.86zM5.41 20L4 18.59l7.72-7.72 1.47 1.35L5.41 20z\"/>\n",
              "  </svg>\n",
              "      </button>\n",
              "      \n",
              "  <style>\n",
              "    .colab-df-container {\n",
              "      display:flex;\n",
              "      flex-wrap:wrap;\n",
              "      gap: 12px;\n",
              "    }\n",
              "\n",
              "    .colab-df-convert {\n",
              "      background-color: #E8F0FE;\n",
              "      border: none;\n",
              "      border-radius: 50%;\n",
              "      cursor: pointer;\n",
              "      display: none;\n",
              "      fill: #1967D2;\n",
              "      height: 32px;\n",
              "      padding: 0 0 0 0;\n",
              "      width: 32px;\n",
              "    }\n",
              "\n",
              "    .colab-df-convert:hover {\n",
              "      background-color: #E2EBFA;\n",
              "      box-shadow: 0px 1px 2px rgba(60, 64, 67, 0.3), 0px 1px 3px 1px rgba(60, 64, 67, 0.15);\n",
              "      fill: #174EA6;\n",
              "    }\n",
              "\n",
              "    [theme=dark] .colab-df-convert {\n",
              "      background-color: #3B4455;\n",
              "      fill: #D2E3FC;\n",
              "    }\n",
              "\n",
              "    [theme=dark] .colab-df-convert:hover {\n",
              "      background-color: #434B5C;\n",
              "      box-shadow: 0px 1px 3px 1px rgba(0, 0, 0, 0.15);\n",
              "      filter: drop-shadow(0px 1px 2px rgba(0, 0, 0, 0.3));\n",
              "      fill: #FFFFFF;\n",
              "    }\n",
              "  </style>\n",
              "\n",
              "      <script>\n",
              "        const buttonEl =\n",
              "          document.querySelector('#df-847d6862-d9ca-491d-9a32-d1f2023ea373 button.colab-df-convert');\n",
              "        buttonEl.style.display =\n",
              "          google.colab.kernel.accessAllowed ? 'block' : 'none';\n",
              "\n",
              "        async function convertToInteractive(key) {\n",
              "          const element = document.querySelector('#df-847d6862-d9ca-491d-9a32-d1f2023ea373');\n",
              "          const dataTable =\n",
              "            await google.colab.kernel.invokeFunction('convertToInteractive',\n",
              "                                                     [key], {});\n",
              "          if (!dataTable) return;\n",
              "\n",
              "          const docLinkHtml = 'Like what you see? Visit the ' +\n",
              "            '<a target=\"_blank\" href=https://colab.research.google.com/notebooks/data_table.ipynb>data table notebook</a>'\n",
              "            + ' to learn more about interactive tables.';\n",
              "          element.innerHTML = '';\n",
              "          dataTable['output_type'] = 'display_data';\n",
              "          await google.colab.output.renderOutput(dataTable, element);\n",
              "          const docLink = document.createElement('div');\n",
              "          docLink.innerHTML = docLinkHtml;\n",
              "          element.appendChild(docLink);\n",
              "        }\n",
              "      </script>\n",
              "    </div>\n",
              "  </div>\n",
              "  "
            ]
          },
          "metadata": {},
          "execution_count": 24
        }
      ]
    },
    {
      "cell_type": "code",
      "source": [
        "q1, q3 = np.percentile(preproc2_df.score,[25,75])\n",
        "iqr = q3-q1\n",
        "ul = q3+1.5*iqr"
      ],
      "metadata": {
        "id": "A63yX_NSRX_h"
      },
      "execution_count": 25,
      "outputs": []
    },
    {
      "cell_type": "code",
      "source": [
        "np.mean(preproc2_df.score>ul)"
      ],
      "metadata": {
        "id": "yFF7oHkHPi4l",
        "outputId": "7ba3c5b6-e682-44a1-e713-a965471b9d15",
        "colab": {
          "base_uri": "https://localhost:8080/"
        }
      },
      "execution_count": 26,
      "outputs": [
        {
          "output_type": "execute_result",
          "data": {
            "text/plain": [
              "0.136942077405308"
            ]
          },
          "metadata": {},
          "execution_count": 26
        }
      ]
    },
    {
      "cell_type": "code",
      "source": [
        "def outlier_thresh(df):\n",
        "  q1, q3 = np.percentile(df,[25,75])\n",
        "  iqr = q3-q1\n",
        "  \n",
        "  return(q3+1.5*iqr)"
      ],
      "metadata": {
        "id": "HpkIxWafT3ls"
      },
      "execution_count": 27,
      "outputs": []
    },
    {
      "cell_type": "code",
      "source": [
        "topic_thresh_dict = dict(preproc2_df.drop('categoryId', axis=1).groupby('topicLabel').score.apply(outlier_thresh))"
      ],
      "metadata": {
        "id": "9KXnM-NbR3Ns"
      },
      "execution_count": 28,
      "outputs": []
    },
    {
      "cell_type": "markdown",
      "source": [
        "we will now eliminate outliers that are above our thresholds to make our data more well-behaved"
      ],
      "metadata": {
        "id": "-qCo-oDCUbcW"
      }
    },
    {
      "cell_type": "code",
      "source": [
        "np.mean(preproc2_df.score>preproc2_df.topicLabel.map(topic_thresh_dict))"
      ],
      "metadata": {
        "id": "OSsi6PwhULRJ",
        "outputId": "05f7c751-cb04-4872-b27d-68239d9493c1",
        "colab": {
          "base_uri": "https://localhost:8080/"
        }
      },
      "execution_count": 29,
      "outputs": [
        {
          "output_type": "execute_result",
          "data": {
            "text/plain": [
              "0.12708810390780434"
            ]
          },
          "metadata": {},
          "execution_count": 29
        }
      ]
    },
    {
      "cell_type": "markdown",
      "source": [
        "we stand to lose, ~13% of our data. since we would keep enriching our database regularly, on average, the data lost at this step would start to become insignificant if the law of large numbers is obeyed."
      ],
      "metadata": {
        "id": "6R_ov_jkU7k2"
      }
    },
    {
      "cell_type": "code",
      "source": [
        "preproc2_df = preproc2_df[preproc2_df.score<preproc2_df.topicLabel.map(topic_thresh_dict)]"
      ],
      "metadata": {
        "id": "70DfJNJyU3t-"
      },
      "execution_count": 30,
      "outputs": []
    },
    {
      "cell_type": "code",
      "source": [
        "preproc2_df.drop('categoryId', axis=1).corr()"
      ],
      "metadata": {
        "id": "R-ye303SeWqR",
        "pycharm": {
          "name": "#%%\n"
        },
        "outputId": "7561eb70-03af-47da-97c4-cef69f2eb9a1",
        "colab": {
          "base_uri": "https://localhost:8080/",
          "height": 359
        }
      },
      "execution_count": 31,
      "outputs": [
        {
          "output_type": "execute_result",
          "data": {
            "text/plain": [
              "                   viewCount  avg_viewCount  likeCount  commentCount  \\\n",
              "viewCount           1.000000       0.749807   0.793462      0.678686   \n",
              "avg_viewCount       0.749807       1.000000   0.698382      0.548113   \n",
              "likeCount           0.793462       0.698382   1.000000      0.798754   \n",
              "commentCount        0.678686       0.548113   0.798754      1.000000   \n",
              "duration_secs      -0.064761      -0.009516  -0.055388     -0.037259   \n",
              "log_duration_secs  -0.074145      -0.023223  -0.033574     -0.010643   \n",
              "publishedDayNum     0.012103       0.030758   0.016994      0.012745   \n",
              "publishedDayDelta   0.233428      -0.124529   0.122362      0.135257   \n",
              "len_title          -0.149274      -0.067073  -0.175088     -0.166049   \n",
              "score               0.261932       0.447020   0.199307      0.136409   \n",
              "\n",
              "                   duration_secs  log_duration_secs  publishedDayNum  \\\n",
              "viewCount              -0.064761          -0.074145         0.012103   \n",
              "avg_viewCount          -0.009516          -0.023223         0.030758   \n",
              "likeCount              -0.055388          -0.033574         0.016994   \n",
              "commentCount           -0.037259          -0.010643         0.012745   \n",
              "duration_secs           1.000000           0.674693        -0.008336   \n",
              "log_duration_secs       0.674693           1.000000        -0.011394   \n",
              "publishedDayNum        -0.008336          -0.011394         1.000000   \n",
              "publishedDayDelta      -0.105854          -0.163954        -0.026025   \n",
              "len_title               0.095999           0.101223        -0.007413   \n",
              "score                   0.065550           0.140251         0.003585   \n",
              "\n",
              "                   publishedDayDelta  len_title     score  \n",
              "viewCount                   0.233428  -0.149274  0.261932  \n",
              "avg_viewCount              -0.124529  -0.067073  0.447020  \n",
              "likeCount                   0.122362  -0.175088  0.199307  \n",
              "commentCount                0.135257  -0.166049  0.136409  \n",
              "duration_secs              -0.105854   0.095999  0.065550  \n",
              "log_duration_secs          -0.163954   0.101223  0.140251  \n",
              "publishedDayNum            -0.026025  -0.007413  0.003585  \n",
              "publishedDayDelta           1.000000  -0.189122 -0.159740  \n",
              "len_title                  -0.189122   1.000000  0.064401  \n",
              "score                      -0.159740   0.064401  1.000000  "
            ],
            "text/html": [
              "\n",
              "  <div id=\"df-da62e964-8646-4f33-8e3f-f122571ddb55\">\n",
              "    <div class=\"colab-df-container\">\n",
              "      <div>\n",
              "<style scoped>\n",
              "    .dataframe tbody tr th:only-of-type {\n",
              "        vertical-align: middle;\n",
              "    }\n",
              "\n",
              "    .dataframe tbody tr th {\n",
              "        vertical-align: top;\n",
              "    }\n",
              "\n",
              "    .dataframe thead th {\n",
              "        text-align: right;\n",
              "    }\n",
              "</style>\n",
              "<table border=\"1\" class=\"dataframe\">\n",
              "  <thead>\n",
              "    <tr style=\"text-align: right;\">\n",
              "      <th></th>\n",
              "      <th>viewCount</th>\n",
              "      <th>avg_viewCount</th>\n",
              "      <th>likeCount</th>\n",
              "      <th>commentCount</th>\n",
              "      <th>duration_secs</th>\n",
              "      <th>log_duration_secs</th>\n",
              "      <th>publishedDayNum</th>\n",
              "      <th>publishedDayDelta</th>\n",
              "      <th>len_title</th>\n",
              "      <th>score</th>\n",
              "    </tr>\n",
              "  </thead>\n",
              "  <tbody>\n",
              "    <tr>\n",
              "      <th>viewCount</th>\n",
              "      <td>1.000000</td>\n",
              "      <td>0.749807</td>\n",
              "      <td>0.793462</td>\n",
              "      <td>0.678686</td>\n",
              "      <td>-0.064761</td>\n",
              "      <td>-0.074145</td>\n",
              "      <td>0.012103</td>\n",
              "      <td>0.233428</td>\n",
              "      <td>-0.149274</td>\n",
              "      <td>0.261932</td>\n",
              "    </tr>\n",
              "    <tr>\n",
              "      <th>avg_viewCount</th>\n",
              "      <td>0.749807</td>\n",
              "      <td>1.000000</td>\n",
              "      <td>0.698382</td>\n",
              "      <td>0.548113</td>\n",
              "      <td>-0.009516</td>\n",
              "      <td>-0.023223</td>\n",
              "      <td>0.030758</td>\n",
              "      <td>-0.124529</td>\n",
              "      <td>-0.067073</td>\n",
              "      <td>0.447020</td>\n",
              "    </tr>\n",
              "    <tr>\n",
              "      <th>likeCount</th>\n",
              "      <td>0.793462</td>\n",
              "      <td>0.698382</td>\n",
              "      <td>1.000000</td>\n",
              "      <td>0.798754</td>\n",
              "      <td>-0.055388</td>\n",
              "      <td>-0.033574</td>\n",
              "      <td>0.016994</td>\n",
              "      <td>0.122362</td>\n",
              "      <td>-0.175088</td>\n",
              "      <td>0.199307</td>\n",
              "    </tr>\n",
              "    <tr>\n",
              "      <th>commentCount</th>\n",
              "      <td>0.678686</td>\n",
              "      <td>0.548113</td>\n",
              "      <td>0.798754</td>\n",
              "      <td>1.000000</td>\n",
              "      <td>-0.037259</td>\n",
              "      <td>-0.010643</td>\n",
              "      <td>0.012745</td>\n",
              "      <td>0.135257</td>\n",
              "      <td>-0.166049</td>\n",
              "      <td>0.136409</td>\n",
              "    </tr>\n",
              "    <tr>\n",
              "      <th>duration_secs</th>\n",
              "      <td>-0.064761</td>\n",
              "      <td>-0.009516</td>\n",
              "      <td>-0.055388</td>\n",
              "      <td>-0.037259</td>\n",
              "      <td>1.000000</td>\n",
              "      <td>0.674693</td>\n",
              "      <td>-0.008336</td>\n",
              "      <td>-0.105854</td>\n",
              "      <td>0.095999</td>\n",
              "      <td>0.065550</td>\n",
              "    </tr>\n",
              "    <tr>\n",
              "      <th>log_duration_secs</th>\n",
              "      <td>-0.074145</td>\n",
              "      <td>-0.023223</td>\n",
              "      <td>-0.033574</td>\n",
              "      <td>-0.010643</td>\n",
              "      <td>0.674693</td>\n",
              "      <td>1.000000</td>\n",
              "      <td>-0.011394</td>\n",
              "      <td>-0.163954</td>\n",
              "      <td>0.101223</td>\n",
              "      <td>0.140251</td>\n",
              "    </tr>\n",
              "    <tr>\n",
              "      <th>publishedDayNum</th>\n",
              "      <td>0.012103</td>\n",
              "      <td>0.030758</td>\n",
              "      <td>0.016994</td>\n",
              "      <td>0.012745</td>\n",
              "      <td>-0.008336</td>\n",
              "      <td>-0.011394</td>\n",
              "      <td>1.000000</td>\n",
              "      <td>-0.026025</td>\n",
              "      <td>-0.007413</td>\n",
              "      <td>0.003585</td>\n",
              "    </tr>\n",
              "    <tr>\n",
              "      <th>publishedDayDelta</th>\n",
              "      <td>0.233428</td>\n",
              "      <td>-0.124529</td>\n",
              "      <td>0.122362</td>\n",
              "      <td>0.135257</td>\n",
              "      <td>-0.105854</td>\n",
              "      <td>-0.163954</td>\n",
              "      <td>-0.026025</td>\n",
              "      <td>1.000000</td>\n",
              "      <td>-0.189122</td>\n",
              "      <td>-0.159740</td>\n",
              "    </tr>\n",
              "    <tr>\n",
              "      <th>len_title</th>\n",
              "      <td>-0.149274</td>\n",
              "      <td>-0.067073</td>\n",
              "      <td>-0.175088</td>\n",
              "      <td>-0.166049</td>\n",
              "      <td>0.095999</td>\n",
              "      <td>0.101223</td>\n",
              "      <td>-0.007413</td>\n",
              "      <td>-0.189122</td>\n",
              "      <td>1.000000</td>\n",
              "      <td>0.064401</td>\n",
              "    </tr>\n",
              "    <tr>\n",
              "      <th>score</th>\n",
              "      <td>0.261932</td>\n",
              "      <td>0.447020</td>\n",
              "      <td>0.199307</td>\n",
              "      <td>0.136409</td>\n",
              "      <td>0.065550</td>\n",
              "      <td>0.140251</td>\n",
              "      <td>0.003585</td>\n",
              "      <td>-0.159740</td>\n",
              "      <td>0.064401</td>\n",
              "      <td>1.000000</td>\n",
              "    </tr>\n",
              "  </tbody>\n",
              "</table>\n",
              "</div>\n",
              "      <button class=\"colab-df-convert\" onclick=\"convertToInteractive('df-da62e964-8646-4f33-8e3f-f122571ddb55')\"\n",
              "              title=\"Convert this dataframe to an interactive table.\"\n",
              "              style=\"display:none;\">\n",
              "        \n",
              "  <svg xmlns=\"http://www.w3.org/2000/svg\" height=\"24px\"viewBox=\"0 0 24 24\"\n",
              "       width=\"24px\">\n",
              "    <path d=\"M0 0h24v24H0V0z\" fill=\"none\"/>\n",
              "    <path d=\"M18.56 5.44l.94 2.06.94-2.06 2.06-.94-2.06-.94-.94-2.06-.94 2.06-2.06.94zm-11 1L8.5 8.5l.94-2.06 2.06-.94-2.06-.94L8.5 2.5l-.94 2.06-2.06.94zm10 10l.94 2.06.94-2.06 2.06-.94-2.06-.94-.94-2.06-.94 2.06-2.06.94z\"/><path d=\"M17.41 7.96l-1.37-1.37c-.4-.4-.92-.59-1.43-.59-.52 0-1.04.2-1.43.59L10.3 9.45l-7.72 7.72c-.78.78-.78 2.05 0 2.83L4 21.41c.39.39.9.59 1.41.59.51 0 1.02-.2 1.41-.59l7.78-7.78 2.81-2.81c.8-.78.8-2.07 0-2.86zM5.41 20L4 18.59l7.72-7.72 1.47 1.35L5.41 20z\"/>\n",
              "  </svg>\n",
              "      </button>\n",
              "      \n",
              "  <style>\n",
              "    .colab-df-container {\n",
              "      display:flex;\n",
              "      flex-wrap:wrap;\n",
              "      gap: 12px;\n",
              "    }\n",
              "\n",
              "    .colab-df-convert {\n",
              "      background-color: #E8F0FE;\n",
              "      border: none;\n",
              "      border-radius: 50%;\n",
              "      cursor: pointer;\n",
              "      display: none;\n",
              "      fill: #1967D2;\n",
              "      height: 32px;\n",
              "      padding: 0 0 0 0;\n",
              "      width: 32px;\n",
              "    }\n",
              "\n",
              "    .colab-df-convert:hover {\n",
              "      background-color: #E2EBFA;\n",
              "      box-shadow: 0px 1px 2px rgba(60, 64, 67, 0.3), 0px 1px 3px 1px rgba(60, 64, 67, 0.15);\n",
              "      fill: #174EA6;\n",
              "    }\n",
              "\n",
              "    [theme=dark] .colab-df-convert {\n",
              "      background-color: #3B4455;\n",
              "      fill: #D2E3FC;\n",
              "    }\n",
              "\n",
              "    [theme=dark] .colab-df-convert:hover {\n",
              "      background-color: #434B5C;\n",
              "      box-shadow: 0px 1px 3px 1px rgba(0, 0, 0, 0.15);\n",
              "      filter: drop-shadow(0px 1px 2px rgba(0, 0, 0, 0.3));\n",
              "      fill: #FFFFFF;\n",
              "    }\n",
              "  </style>\n",
              "\n",
              "      <script>\n",
              "        const buttonEl =\n",
              "          document.querySelector('#df-da62e964-8646-4f33-8e3f-f122571ddb55 button.colab-df-convert');\n",
              "        buttonEl.style.display =\n",
              "          google.colab.kernel.accessAllowed ? 'block' : 'none';\n",
              "\n",
              "        async function convertToInteractive(key) {\n",
              "          const element = document.querySelector('#df-da62e964-8646-4f33-8e3f-f122571ddb55');\n",
              "          const dataTable =\n",
              "            await google.colab.kernel.invokeFunction('convertToInteractive',\n",
              "                                                     [key], {});\n",
              "          if (!dataTable) return;\n",
              "\n",
              "          const docLinkHtml = 'Like what you see? Visit the ' +\n",
              "            '<a target=\"_blank\" href=https://colab.research.google.com/notebooks/data_table.ipynb>data table notebook</a>'\n",
              "            + ' to learn more about interactive tables.';\n",
              "          element.innerHTML = '';\n",
              "          dataTable['output_type'] = 'display_data';\n",
              "          await google.colab.output.renderOutput(dataTable, element);\n",
              "          const docLink = document.createElement('div');\n",
              "          docLink.innerHTML = docLinkHtml;\n",
              "          element.appendChild(docLink);\n",
              "        }\n",
              "      </script>\n",
              "    </div>\n",
              "  </div>\n",
              "  "
            ]
          },
          "metadata": {},
          "execution_count": 31
        }
      ]
    },
    {
      "cell_type": "code",
      "source": [
        "preproc2_df.drop('categoryId', axis=1).hist(figsize=(8,8));"
      ],
      "metadata": {
        "id": "EX-poBN0kbLM",
        "pycharm": {
          "name": "#%%\n"
        },
        "outputId": "95f3d343-430d-4f77-f663-a755eda0fb85",
        "colab": {
          "base_uri": "https://localhost:8080/",
          "height": 499
        }
      },
      "execution_count": 32,
      "outputs": [
        {
          "output_type": "display_data",
          "data": {
            "text/plain": [
              "<Figure size 576x576 with 12 Axes>"
            ],
            "image/png": "[encoded data removed]"
          },
          "metadata": {
            "needs_background": "light"
          }
        }
      ]
    },
    {
      "cell_type": "markdown",
      "source": [
        "We could consider applying a transformation to the data, to help address the heavy left-skew on most numerical features."
      ],
      "metadata": {
        "id": "JWSkcP6QkhCr",
        "pycharm": {
          "name": "#%% md\n"
        }
      }
    },
    {
      "cell_type": "markdown",
      "source": [
        "Let's quickly set the same steps up for the `overall_stats_raw_df` df."
      ],
      "metadata": {
        "id": "kpFgdIRye_xq",
        "pycharm": {
          "name": "#%% md\n"
        }
      }
    },
    {
      "cell_type": "code",
      "source": [
        "overall_stats_raw_df.head()"
      ],
      "metadata": {
        "id": "H48y6gUie4ZS",
        "pycharm": {
          "name": "#%%\n"
        },
        "outputId": "7045c90d-7d24-4ebc-9df4-3ef2fca9a735",
        "colab": {
          "base_uri": "https://localhost:8080/",
          "height": 204
        }
      },
      "execution_count": 33,
      "outputs": [
        {
          "output_type": "execute_result",
          "data": {
            "text/plain": [
              "     viewCount subscriberCount videoCount   channelName\n",
              "0  25940400818        47500000        189  Taylor Swift\n",
              "1  16361943575        28700000       4705   Ultra Music\n",
              "2  24185621112        53500000        140   EminemMusic\n",
              "3  17679529109        35500000         97    Bruno Mars\n",
              "4  28214976991        52400000        256    Ed Sheeran"
            ],
            "text/html": [
              "\n",
              "  <div id=\"df-2adaf837-ea70-4d13-b5c6-94f1241ca292\">\n",
              "    <div class=\"colab-df-container\">\n",
              "      <div>\n",
              "<style scoped>\n",
              "    .dataframe tbody tr th:only-of-type {\n",
              "        vertical-align: middle;\n",
              "    }\n",
              "\n",
              "    .dataframe tbody tr th {\n",
              "        vertical-align: top;\n",
              "    }\n",
              "\n",
              "    .dataframe thead th {\n",
              "        text-align: right;\n",
              "    }\n",
              "</style>\n",
              "<table border=\"1\" class=\"dataframe\">\n",
              "  <thead>\n",
              "    <tr style=\"text-align: right;\">\n",
              "      <th></th>\n",
              "      <th>viewCount</th>\n",
              "      <th>subscriberCount</th>\n",
              "      <th>videoCount</th>\n",
              "      <th>channelName</th>\n",
              "    </tr>\n",
              "  </thead>\n",
              "  <tbody>\n",
              "    <tr>\n",
              "      <th>0</th>\n",
              "      <td>25940400818</td>\n",
              "      <td>47500000</td>\n",
              "      <td>189</td>\n",
              "      <td>Taylor Swift</td>\n",
              "    </tr>\n",
              "    <tr>\n",
              "      <th>1</th>\n",
              "      <td>16361943575</td>\n",
              "      <td>28700000</td>\n",
              "      <td>4705</td>\n",
              "      <td>Ultra Music</td>\n",
              "    </tr>\n",
              "    <tr>\n",
              "      <th>2</th>\n",
              "      <td>24185621112</td>\n",
              "      <td>53500000</td>\n",
              "      <td>140</td>\n",
              "      <td>EminemMusic</td>\n",
              "    </tr>\n",
              "    <tr>\n",
              "      <th>3</th>\n",
              "      <td>17679529109</td>\n",
              "      <td>35500000</td>\n",
              "      <td>97</td>\n",
              "      <td>Bruno Mars</td>\n",
              "    </tr>\n",
              "    <tr>\n",
              "      <th>4</th>\n",
              "      <td>28214976991</td>\n",
              "      <td>52400000</td>\n",
              "      <td>256</td>\n",
              "      <td>Ed Sheeran</td>\n",
              "    </tr>\n",
              "  </tbody>\n",
              "</table>\n",
              "</div>\n",
              "      <button class=\"colab-df-convert\" onclick=\"convertToInteractive('df-2adaf837-ea70-4d13-b5c6-94f1241ca292')\"\n",
              "              title=\"Convert this dataframe to an interactive table.\"\n",
              "              style=\"display:none;\">\n",
              "        \n",
              "  <svg xmlns=\"http://www.w3.org/2000/svg\" height=\"24px\"viewBox=\"0 0 24 24\"\n",
              "       width=\"24px\">\n",
              "    <path d=\"M0 0h24v24H0V0z\" fill=\"none\"/>\n",
              "    <path d=\"M18.56 5.44l.94 2.06.94-2.06 2.06-.94-2.06-.94-.94-2.06-.94 2.06-2.06.94zm-11 1L8.5 8.5l.94-2.06 2.06-.94-2.06-.94L8.5 2.5l-.94 2.06-2.06.94zm10 10l.94 2.06.94-2.06 2.06-.94-2.06-.94-.94-2.06-.94 2.06-2.06.94z\"/><path d=\"M17.41 7.96l-1.37-1.37c-.4-.4-.92-.59-1.43-.59-.52 0-1.04.2-1.43.59L10.3 9.45l-7.72 7.72c-.78.78-.78 2.05 0 2.83L4 21.41c.39.39.9.59 1.41.59.51 0 1.02-.2 1.41-.59l7.78-7.78 2.81-2.81c.8-.78.8-2.07 0-2.86zM5.41 20L4 18.59l7.72-7.72 1.47 1.35L5.41 20z\"/>\n",
              "  </svg>\n",
              "      </button>\n",
              "      \n",
              "  <style>\n",
              "    .colab-df-container {\n",
              "      display:flex;\n",
              "      flex-wrap:wrap;\n",
              "      gap: 12px;\n",
              "    }\n",
              "\n",
              "    .colab-df-convert {\n",
              "      background-color: #E8F0FE;\n",
              "      border: none;\n",
              "      border-radius: 50%;\n",
              "      cursor: pointer;\n",
              "      display: none;\n",
              "      fill: #1967D2;\n",
              "      height: 32px;\n",
              "      padding: 0 0 0 0;\n",
              "      width: 32px;\n",
              "    }\n",
              "\n",
              "    .colab-df-convert:hover {\n",
              "      background-color: #E2EBFA;\n",
              "      box-shadow: 0px 1px 2px rgba(60, 64, 67, 0.3), 0px 1px 3px 1px rgba(60, 64, 67, 0.15);\n",
              "      fill: #174EA6;\n",
              "    }\n",
              "\n",
              "    [theme=dark] .colab-df-convert {\n",
              "      background-color: #3B4455;\n",
              "      fill: #D2E3FC;\n",
              "    }\n",
              "\n",
              "    [theme=dark] .colab-df-convert:hover {\n",
              "      background-color: #434B5C;\n",
              "      box-shadow: 0px 1px 3px 1px rgba(0, 0, 0, 0.15);\n",
              "      filter: drop-shadow(0px 1px 2px rgba(0, 0, 0, 0.3));\n",
              "      fill: #FFFFFF;\n",
              "    }\n",
              "  </style>\n",
              "\n",
              "      <script>\n",
              "        const buttonEl =\n",
              "          document.querySelector('#df-2adaf837-ea70-4d13-b5c6-94f1241ca292 button.colab-df-convert');\n",
              "        buttonEl.style.display =\n",
              "          google.colab.kernel.accessAllowed ? 'block' : 'none';\n",
              "\n",
              "        async function convertToInteractive(key) {\n",
              "          const element = document.querySelector('#df-2adaf837-ea70-4d13-b5c6-94f1241ca292');\n",
              "          const dataTable =\n",
              "            await google.colab.kernel.invokeFunction('convertToInteractive',\n",
              "                                                     [key], {});\n",
              "          if (!dataTable) return;\n",
              "\n",
              "          const docLinkHtml = 'Like what you see? Visit the ' +\n",
              "            '<a target=\"_blank\" href=https://colab.research.google.com/notebooks/data_table.ipynb>data table notebook</a>'\n",
              "            + ' to learn more about interactive tables.';\n",
              "          element.innerHTML = '';\n",
              "          dataTable['output_type'] = 'display_data';\n",
              "          await google.colab.output.renderOutput(dataTable, element);\n",
              "          const docLink = document.createElement('div');\n",
              "          docLink.innerHTML = docLinkHtml;\n",
              "          element.appendChild(docLink);\n",
              "        }\n",
              "      </script>\n",
              "    </div>\n",
              "  </div>\n",
              "  "
            ]
          },
          "metadata": {},
          "execution_count": 33
        }
      ]
    },
    {
      "cell_type": "code",
      "source": [
        "overall_stats_raw_df.dtypes"
      ],
      "metadata": {
        "id": "DtktnMLEe4cA",
        "pycharm": {
          "name": "#%%\n"
        },
        "outputId": "dbfe6585-aabf-462a-c80e-2d71a59ec94e",
        "colab": {
          "base_uri": "https://localhost:8080/"
        }
      },
      "execution_count": 34,
      "outputs": [
        {
          "output_type": "execute_result",
          "data": {
            "text/plain": [
              "viewCount          object\n",
              "subscriberCount    object\n",
              "videoCount         object\n",
              "channelName        object\n",
              "dtype: object"
            ]
          },
          "metadata": {},
          "execution_count": 34
        }
      ]
    },
    {
      "cell_type": "code",
      "source": [
        "ov_features = ['channelName', 'ov_viewCount', 'ov_subscriberCount', 'ov_videoCount']\n",
        "ov_stats_pre_df1 = create_dataset(overall_stats_raw_df, ov_features, primary=False)"
      ],
      "metadata": {
        "id": "i3dDxWice4ef",
        "pycharm": {
          "name": "#%%\n"
        }
      },
      "execution_count": 35,
      "outputs": []
    },
    {
      "cell_type": "code",
      "source": [
        "ov_stats_pre_df1.head()"
      ],
      "metadata": {
        "id": "X6g_BYTSe4hV",
        "pycharm": {
          "name": "#%%\n"
        },
        "outputId": "93b7490b-02f6-4fb5-e8e9-573a5c31e1df",
        "colab": {
          "base_uri": "https://localhost:8080/",
          "height": 204
        }
      },
      "execution_count": 36,
      "outputs": [
        {
          "output_type": "execute_result",
          "data": {
            "text/plain": [
              "    channelName  ov_viewCount  ov_subscriberCount  ov_videoCount\n",
              "0  taylor swift  2.594040e+10          47500000.0          189.0\n",
              "1   ultra music  1.636194e+10          28700000.0         4705.0\n",
              "2   eminemmusic  2.418562e+10          53500000.0          140.0\n",
              "3    bruno mars  1.767953e+10          35500000.0           97.0\n",
              "4    ed sheeran  2.821498e+10          52400000.0          256.0"
            ],
            "text/html": [
              "\n",
              "  <div id=\"df-39abccdc-bbda-47e8-b36e-f76d6882253c\">\n",
              "    <div class=\"colab-df-container\">\n",
              "      <div>\n",
              "<style scoped>\n",
              "    .dataframe tbody tr th:only-of-type {\n",
              "        vertical-align: middle;\n",
              "    }\n",
              "\n",
              "    .dataframe tbody tr th {\n",
              "        vertical-align: top;\n",
              "    }\n",
              "\n",
              "    .dataframe thead th {\n",
              "        text-align: right;\n",
              "    }\n",
              "</style>\n",
              "<table border=\"1\" class=\"dataframe\">\n",
              "  <thead>\n",
              "    <tr style=\"text-align: right;\">\n",
              "      <th></th>\n",
              "      <th>channelName</th>\n",
              "      <th>ov_viewCount</th>\n",
              "      <th>ov_subscriberCount</th>\n",
              "      <th>ov_videoCount</th>\n",
              "    </tr>\n",
              "  </thead>\n",
              "  <tbody>\n",
              "    <tr>\n",
              "      <th>0</th>\n",
              "      <td>taylor swift</td>\n",
              "      <td>2.594040e+10</td>\n",
              "      <td>47500000.0</td>\n",
              "      <td>189.0</td>\n",
              "    </tr>\n",
              "    <tr>\n",
              "      <th>1</th>\n",
              "      <td>ultra music</td>\n",
              "      <td>1.636194e+10</td>\n",
              "      <td>28700000.0</td>\n",
              "      <td>4705.0</td>\n",
              "    </tr>\n",
              "    <tr>\n",
              "      <th>2</th>\n",
              "      <td>eminemmusic</td>\n",
              "      <td>2.418562e+10</td>\n",
              "      <td>53500000.0</td>\n",
              "      <td>140.0</td>\n",
              "    </tr>\n",
              "    <tr>\n",
              "      <th>3</th>\n",
              "      <td>bruno mars</td>\n",
              "      <td>1.767953e+10</td>\n",
              "      <td>35500000.0</td>\n",
              "      <td>97.0</td>\n",
              "    </tr>\n",
              "    <tr>\n",
              "      <th>4</th>\n",
              "      <td>ed sheeran</td>\n",
              "      <td>2.821498e+10</td>\n",
              "      <td>52400000.0</td>\n",
              "      <td>256.0</td>\n",
              "    </tr>\n",
              "  </tbody>\n",
              "</table>\n",
              "</div>\n",
              "      <button class=\"colab-df-convert\" onclick=\"convertToInteractive('df-39abccdc-bbda-47e8-b36e-f76d6882253c')\"\n",
              "              title=\"Convert this dataframe to an interactive table.\"\n",
              "              style=\"display:none;\">\n",
              "        \n",
              "  <svg xmlns=\"http://www.w3.org/2000/svg\" height=\"24px\"viewBox=\"0 0 24 24\"\n",
              "       width=\"24px\">\n",
              "    <path d=\"M0 0h24v24H0V0z\" fill=\"none\"/>\n",
              "    <path d=\"M18.56 5.44l.94 2.06.94-2.06 2.06-.94-2.06-.94-.94-2.06-.94 2.06-2.06.94zm-11 1L8.5 8.5l.94-2.06 2.06-.94-2.06-.94L8.5 2.5l-.94 2.06-2.06.94zm10 10l.94 2.06.94-2.06 2.06-.94-2.06-.94-.94-2.06-.94 2.06-2.06.94z\"/><path d=\"M17.41 7.96l-1.37-1.37c-.4-.4-.92-.59-1.43-.59-.52 0-1.04.2-1.43.59L10.3 9.45l-7.72 7.72c-.78.78-.78 2.05 0 2.83L4 21.41c.39.39.9.59 1.41.59.51 0 1.02-.2 1.41-.59l7.78-7.78 2.81-2.81c.8-.78.8-2.07 0-2.86zM5.41 20L4 18.59l7.72-7.72 1.47 1.35L5.41 20z\"/>\n",
              "  </svg>\n",
              "      </button>\n",
              "      \n",
              "  <style>\n",
              "    .colab-df-container {\n",
              "      display:flex;\n",
              "      flex-wrap:wrap;\n",
              "      gap: 12px;\n",
              "    }\n",
              "\n",
              "    .colab-df-convert {\n",
              "      background-color: #E8F0FE;\n",
              "      border: none;\n",
              "      border-radius: 50%;\n",
              "      cursor: pointer;\n",
              "      display: none;\n",
              "      fill: #1967D2;\n",
              "      height: 32px;\n",
              "      padding: 0 0 0 0;\n",
              "      width: 32px;\n",
              "    }\n",
              "\n",
              "    .colab-df-convert:hover {\n",
              "      background-color: #E2EBFA;\n",
              "      box-shadow: 0px 1px 2px rgba(60, 64, 67, 0.3), 0px 1px 3px 1px rgba(60, 64, 67, 0.15);\n",
              "      fill: #174EA6;\n",
              "    }\n",
              "\n",
              "    [theme=dark] .colab-df-convert {\n",
              "      background-color: #3B4455;\n",
              "      fill: #D2E3FC;\n",
              "    }\n",
              "\n",
              "    [theme=dark] .colab-df-convert:hover {\n",
              "      background-color: #434B5C;\n",
              "      box-shadow: 0px 1px 3px 1px rgba(0, 0, 0, 0.15);\n",
              "      filter: drop-shadow(0px 1px 2px rgba(0, 0, 0, 0.3));\n",
              "      fill: #FFFFFF;\n",
              "    }\n",
              "  </style>\n",
              "\n",
              "      <script>\n",
              "        const buttonEl =\n",
              "          document.querySelector('#df-39abccdc-bbda-47e8-b36e-f76d6882253c button.colab-df-convert');\n",
              "        buttonEl.style.display =\n",
              "          google.colab.kernel.accessAllowed ? 'block' : 'none';\n",
              "\n",
              "        async function convertToInteractive(key) {\n",
              "          const element = document.querySelector('#df-39abccdc-bbda-47e8-b36e-f76d6882253c');\n",
              "          const dataTable =\n",
              "            await google.colab.kernel.invokeFunction('convertToInteractive',\n",
              "                                                     [key], {});\n",
              "          if (!dataTable) return;\n",
              "\n",
              "          const docLinkHtml = 'Like what you see? Visit the ' +\n",
              "            '<a target=\"_blank\" href=https://colab.research.google.com/notebooks/data_table.ipynb>data table notebook</a>'\n",
              "            + ' to learn more about interactive tables.';\n",
              "          element.innerHTML = '';\n",
              "          dataTable['output_type'] = 'display_data';\n",
              "          await google.colab.output.renderOutput(dataTable, element);\n",
              "          const docLink = document.createElement('div');\n",
              "          docLink.innerHTML = docLinkHtml;\n",
              "          element.appendChild(docLink);\n",
              "        }\n",
              "      </script>\n",
              "    </div>\n",
              "  </div>\n",
              "  "
            ]
          },
          "metadata": {},
          "execution_count": 36
        }
      ]
    },
    {
      "cell_type": "code",
      "source": [
        "ov_stats_pre_df1.isna().sum()"
      ],
      "metadata": {
        "id": "FfgaWA8V45MV",
        "pycharm": {
          "name": "#%%\n"
        },
        "outputId": "2e502661-1a79-4b02-ad20-d34c6f095886",
        "colab": {
          "base_uri": "https://localhost:8080/"
        }
      },
      "execution_count": 37,
      "outputs": [
        {
          "output_type": "execute_result",
          "data": {
            "text/plain": [
              "channelName           0\n",
              "ov_viewCount          0\n",
              "ov_subscriberCount    0\n",
              "ov_videoCount         0\n",
              "dtype: int64"
            ]
          },
          "metadata": {},
          "execution_count": 37
        }
      ]
    },
    {
      "cell_type": "markdown",
      "source": [
        "With both the datasets ready and a basic relation overview amongst the features, we can now move onto the phase of text processing to make it machine interpretable."
      ],
      "metadata": {
        "id": "kWT7M_k0m45b",
        "pycharm": {
          "name": "#%% md\n"
        }
      }
    },
    {
      "cell_type": "code",
      "source": [
        "df = pd.merge(preproc2_df, ov_stats_pre_df1, how='left', left_on='channelTitle', right_on='channelName')\n",
        "df.head()"
      ],
      "metadata": {
        "id": "DQv5dVa_S1oe",
        "pycharm": {
          "name": "#%%\n"
        },
        "outputId": "22c92a43-9596-4898-a979-d3bd98a72747",
        "colab": {
          "base_uri": "https://localhost:8080/",
          "height": 671
        }
      },
      "execution_count": 38,
      "outputs": [
        {
          "output_type": "execute_result",
          "data": {
            "text/plain": [
              "                                               title  \\\n",
              "0             [well, short, film, official, trailer]   \n",
              "1  [taylor, swift, willow, moonlit, witch, versio...   \n",
              "2  [taylor, swift, willow, dancing, witch, versio...   \n",
              "3  [taylor, swift, willow, lonely, witch, version...   \n",
              "4                 [taylor, swift, willow, yule, log]   \n",
              "\n",
              "                                         description  channelTitle  \\\n",
              "0  [november, remember, pre, order, red, taylor, ...  taylor swift   \n",
              "1  [official, video, taylor, swift, performing, w...  taylor swift   \n",
              "2  [official, video, taylor, swift, performing, w...  taylor swift   \n",
              "3  [official, video, taylor, swift, performing, w...  taylor swift   \n",
              "4  [official, video, taylor, swift, performing, w...  taylor swift   \n",
              "\n",
              "   categoryId  viewCount  avg_viewCount  likeCount  commentCount  \\\n",
              "0        10.0  1643008.0    4776.186047   202969.0       13636.0   \n",
              "1        10.0   906193.0    1358.610195    33802.0        1452.0   \n",
              "2        10.0   420666.0     630.683658    26327.0        1556.0   \n",
              "3        10.0   527496.0     790.848576    22811.0        1034.0   \n",
              "4        10.0   658523.0     987.290855    47099.0        3405.0   \n",
              "\n",
              "   duration_secs  log_duration_secs  ...  \\\n",
              "0         1860.0           7.528869  ...   \n",
              "1          209.0           5.347108  ...   \n",
              "2          185.0           5.225747  ...   \n",
              "3          188.0           5.241747  ...   \n",
              "4          215.0           5.375278  ...   \n",
              "\n",
              "                         topicCategories publishedDayNum  publishedDayDelta  \\\n",
              "0                        [entertainment]             309                344   \n",
              "1  [independent_music, music, pop_music]             352                667   \n",
              "2  [independent_music, music, pop_music]             352                667   \n",
              "3  [independent_music, music, pop_music]             352                667   \n",
              "4  [independent_music, music, pop_music]             352                667   \n",
              "\n",
              "   len_title  topicLabel     score   channelName  ov_viewCount  \\\n",
              "0          5       music  7.066714  taylor swift  2.594040e+10   \n",
              "1          8       music  2.010162  taylor swift  2.594040e+10   \n",
              "2          8       music  0.933142  taylor swift  2.594040e+10   \n",
              "3          8       music  1.170118  taylor swift  2.594040e+10   \n",
              "4          5       music  1.460768  taylor swift  2.594040e+10   \n",
              "\n",
              "   ov_subscriberCount  ov_videoCount  \n",
              "0          47500000.0          189.0  \n",
              "1          47500000.0          189.0  \n",
              "2          47500000.0          189.0  \n",
              "3          47500000.0          189.0  \n",
              "4          47500000.0          189.0  \n",
              "\n",
              "[5 rows x 21 columns]"
            ],
            "text/html": [
              "\n",
              "  <div id=\"df-5fff1886-6ab8-40ad-b6f7-6152d64a819a\">\n",
              "    <div class=\"colab-df-container\">\n",
              "      <div>\n",
              "<style scoped>\n",
              "    .dataframe tbody tr th:only-of-type {\n",
              "        vertical-align: middle;\n",
              "    }\n",
              "\n",
              "    .dataframe tbody tr th {\n",
              "        vertical-align: top;\n",
              "    }\n",
              "\n",
              "    .dataframe thead th {\n",
              "        text-align: right;\n",
              "    }\n",
              "</style>\n",
              "<table border=\"1\" class=\"dataframe\">\n",
              "  <thead>\n",
              "    <tr style=\"text-align: right;\">\n",
              "      <th></th>\n",
              "      <th>title</th>\n",
              "      <th>description</th>\n",
              "      <th>channelTitle</th>\n",
              "      <th>categoryId</th>\n",
              "      <th>viewCount</th>\n",
              "      <th>avg_viewCount</th>\n",
              "      <th>likeCount</th>\n",
              "      <th>commentCount</th>\n",
              "      <th>duration_secs</th>\n",
              "      <th>log_duration_secs</th>\n",
              "      <th>...</th>\n",
              "      <th>topicCategories</th>\n",
              "      <th>publishedDayNum</th>\n",
              "      <th>publishedDayDelta</th>\n",
              "      <th>len_title</th>\n",
              "      <th>topicLabel</th>\n",
              "      <th>score</th>\n",
              "      <th>channelName</th>\n",
              "      <th>ov_viewCount</th>\n",
              "      <th>ov_subscriberCount</th>\n",
              "      <th>ov_videoCount</th>\n",
              "    </tr>\n",
              "  </thead>\n",
              "  <tbody>\n",
              "    <tr>\n",
              "      <th>0</th>\n",
              "      <td>[well, short, film, official, trailer]</td>\n",
              "      <td>[november, remember, pre, order, red, taylor, ...</td>\n",
              "      <td>taylor swift</td>\n",
              "      <td>10.0</td>\n",
              "      <td>1643008.0</td>\n",
              "      <td>4776.186047</td>\n",
              "      <td>202969.0</td>\n",
              "      <td>13636.0</td>\n",
              "      <td>1860.0</td>\n",
              "      <td>7.528869</td>\n",
              "      <td>...</td>\n",
              "      <td>[entertainment]</td>\n",
              "      <td>309</td>\n",
              "      <td>344</td>\n",
              "      <td>5</td>\n",
              "      <td>music</td>\n",
              "      <td>7.066714</td>\n",
              "      <td>taylor swift</td>\n",
              "      <td>2.594040e+10</td>\n",
              "      <td>47500000.0</td>\n",
              "      <td>189.0</td>\n",
              "    </tr>\n",
              "    <tr>\n",
              "      <th>1</th>\n",
              "      <td>[taylor, swift, willow, moonlit, witch, versio...</td>\n",
              "      <td>[official, video, taylor, swift, performing, w...</td>\n",
              "      <td>taylor swift</td>\n",
              "      <td>10.0</td>\n",
              "      <td>906193.0</td>\n",
              "      <td>1358.610195</td>\n",
              "      <td>33802.0</td>\n",
              "      <td>1452.0</td>\n",
              "      <td>209.0</td>\n",
              "      <td>5.347108</td>\n",
              "      <td>...</td>\n",
              "      <td>[independent_music, music, pop_music]</td>\n",
              "      <td>352</td>\n",
              "      <td>667</td>\n",
              "      <td>8</td>\n",
              "      <td>music</td>\n",
              "      <td>2.010162</td>\n",
              "      <td>taylor swift</td>\n",
              "      <td>2.594040e+10</td>\n",
              "      <td>47500000.0</td>\n",
              "      <td>189.0</td>\n",
              "    </tr>\n",
              "    <tr>\n",
              "      <th>2</th>\n",
              "      <td>[taylor, swift, willow, dancing, witch, versio...</td>\n",
              "      <td>[official, video, taylor, swift, performing, w...</td>\n",
              "      <td>taylor swift</td>\n",
              "      <td>10.0</td>\n",
              "      <td>420666.0</td>\n",
              "      <td>630.683658</td>\n",
              "      <td>26327.0</td>\n",
              "      <td>1556.0</td>\n",
              "      <td>185.0</td>\n",
              "      <td>5.225747</td>\n",
              "      <td>...</td>\n",
              "      <td>[independent_music, music, pop_music]</td>\n",
              "      <td>352</td>\n",
              "      <td>667</td>\n",
              "      <td>8</td>\n",
              "      <td>music</td>\n",
              "      <td>0.933142</td>\n",
              "      <td>taylor swift</td>\n",
              "      <td>2.594040e+10</td>\n",
              "      <td>47500000.0</td>\n",
              "      <td>189.0</td>\n",
              "    </tr>\n",
              "    <tr>\n",
              "      <th>3</th>\n",
              "      <td>[taylor, swift, willow, lonely, witch, version...</td>\n",
              "      <td>[official, video, taylor, swift, performing, w...</td>\n",
              "      <td>taylor swift</td>\n",
              "      <td>10.0</td>\n",
              "      <td>527496.0</td>\n",
              "      <td>790.848576</td>\n",
              "      <td>22811.0</td>\n",
              "      <td>1034.0</td>\n",
              "      <td>188.0</td>\n",
              "      <td>5.241747</td>\n",
              "      <td>...</td>\n",
              "      <td>[independent_music, music, pop_music]</td>\n",
              "      <td>352</td>\n",
              "      <td>667</td>\n",
              "      <td>8</td>\n",
              "      <td>music</td>\n",
              "      <td>1.170118</td>\n",
              "      <td>taylor swift</td>\n",
              "      <td>2.594040e+10</td>\n",
              "      <td>47500000.0</td>\n",
              "      <td>189.0</td>\n",
              "    </tr>\n",
              "    <tr>\n",
              "      <th>4</th>\n",
              "      <td>[taylor, swift, willow, yule, log]</td>\n",
              "      <td>[official, video, taylor, swift, performing, w...</td>\n",
              "      <td>taylor swift</td>\n",
              "      <td>10.0</td>\n",
              "      <td>658523.0</td>\n",
              "      <td>987.290855</td>\n",
              "      <td>47099.0</td>\n",
              "      <td>3405.0</td>\n",
              "      <td>215.0</td>\n",
              "      <td>5.375278</td>\n",
              "      <td>...</td>\n",
              "      <td>[independent_music, music, pop_music]</td>\n",
              "      <td>352</td>\n",
              "      <td>667</td>\n",
              "      <td>5</td>\n",
              "      <td>music</td>\n",
              "      <td>1.460768</td>\n",
              "      <td>taylor swift</td>\n",
              "      <td>2.594040e+10</td>\n",
              "      <td>47500000.0</td>\n",
              "      <td>189.0</td>\n",
              "    </tr>\n",
              "  </tbody>\n",
              "</table>\n",
              "<p>5 rows × 21 columns</p>\n",
              "</div>\n",
              "      <button class=\"colab-df-convert\" onclick=\"convertToInteractive('df-5fff1886-6ab8-40ad-b6f7-6152d64a819a')\"\n",
              "              title=\"Convert this dataframe to an interactive table.\"\n",
              "              style=\"display:none;\">\n",
              "        \n",
              "  <svg xmlns=\"http://www.w3.org/2000/svg\" height=\"24px\"viewBox=\"0 0 24 24\"\n",
              "       width=\"24px\">\n",
              "    <path d=\"M0 0h24v24H0V0z\" fill=\"none\"/>\n",
              "    <path d=\"M18.56 5.44l.94 2.06.94-2.06 2.06-.94-2.06-.94-.94-2.06-.94 2.06-2.06.94zm-11 1L8.5 8.5l.94-2.06 2.06-.94-2.06-.94L8.5 2.5l-.94 2.06-2.06.94zm10 10l.94 2.06.94-2.06 2.06-.94-2.06-.94-.94-2.06-.94 2.06-2.06.94z\"/><path d=\"M17.41 7.96l-1.37-1.37c-.4-.4-.92-.59-1.43-.59-.52 0-1.04.2-1.43.59L10.3 9.45l-7.72 7.72c-.78.78-.78 2.05 0 2.83L4 21.41c.39.39.9.59 1.41.59.51 0 1.02-.2 1.41-.59l7.78-7.78 2.81-2.81c.8-.78.8-2.07 0-2.86zM5.41 20L4 18.59l7.72-7.72 1.47 1.35L5.41 20z\"/>\n",
              "  </svg>\n",
              "      </button>\n",
              "      \n",
              "  <style>\n",
              "    .colab-df-container {\n",
              "      display:flex;\n",
              "      flex-wrap:wrap;\n",
              "      gap: 12px;\n",
              "    }\n",
              "\n",
              "    .colab-df-convert {\n",
              "      background-color: #E8F0FE;\n",
              "      border: none;\n",
              "      border-radius: 50%;\n",
              "      cursor: pointer;\n",
              "      display: none;\n",
              "      fill: #1967D2;\n",
              "      height: 32px;\n",
              "      padding: 0 0 0 0;\n",
              "      width: 32px;\n",
              "    }\n",
              "\n",
              "    .colab-df-convert:hover {\n",
              "      background-color: #E2EBFA;\n",
              "      box-shadow: 0px 1px 2px rgba(60, 64, 67, 0.3), 0px 1px 3px 1px rgba(60, 64, 67, 0.15);\n",
              "      fill: #174EA6;\n",
              "    }\n",
              "\n",
              "    [theme=dark] .colab-df-convert {\n",
              "      background-color: #3B4455;\n",
              "      fill: #D2E3FC;\n",
              "    }\n",
              "\n",
              "    [theme=dark] .colab-df-convert:hover {\n",
              "      background-color: #434B5C;\n",
              "      box-shadow: 0px 1px 3px 1px rgba(0, 0, 0, 0.15);\n",
              "      filter: drop-shadow(0px 1px 2px rgba(0, 0, 0, 0.3));\n",
              "      fill: #FFFFFF;\n",
              "    }\n",
              "  </style>\n",
              "\n",
              "      <script>\n",
              "        const buttonEl =\n",
              "          document.querySelector('#df-5fff1886-6ab8-40ad-b6f7-6152d64a819a button.colab-df-convert');\n",
              "        buttonEl.style.display =\n",
              "          google.colab.kernel.accessAllowed ? 'block' : 'none';\n",
              "\n",
              "        async function convertToInteractive(key) {\n",
              "          const element = document.querySelector('#df-5fff1886-6ab8-40ad-b6f7-6152d64a819a');\n",
              "          const dataTable =\n",
              "            await google.colab.kernel.invokeFunction('convertToInteractive',\n",
              "                                                     [key], {});\n",
              "          if (!dataTable) return;\n",
              "\n",
              "          const docLinkHtml = 'Like what you see? Visit the ' +\n",
              "            '<a target=\"_blank\" href=https://colab.research.google.com/notebooks/data_table.ipynb>data table notebook</a>'\n",
              "            + ' to learn more about interactive tables.';\n",
              "          element.innerHTML = '';\n",
              "          dataTable['output_type'] = 'display_data';\n",
              "          await google.colab.output.renderOutput(dataTable, element);\n",
              "          const docLink = document.createElement('div');\n",
              "          docLink.innerHTML = docLinkHtml;\n",
              "          element.appendChild(docLink);\n",
              "        }\n",
              "      </script>\n",
              "    </div>\n",
              "  </div>\n",
              "  "
            ]
          },
          "metadata": {},
          "execution_count": 38
        }
      ]
    },
    {
      "cell_type": "code",
      "source": [
        "# df.loc[df['topicLabel'] == 'fitness_workout', 'topicLabel'] = 'fitness'"
      ],
      "metadata": {
        "id": "4UiX98CuZY4q"
      },
      "execution_count": 39,
      "outputs": []
    },
    {
      "cell_type": "code",
      "source": [
        "df.columns"
      ],
      "metadata": {
        "id": "U-cr2TpheM9N",
        "outputId": "23e4ec66-d1d3-43c9-feba-2fba18958d2d",
        "colab": {
          "base_uri": "https://localhost:8080/"
        }
      },
      "execution_count": 40,
      "outputs": [
        {
          "output_type": "execute_result",
          "data": {
            "text/plain": [
              "Index(['title', 'description', 'channelTitle', 'categoryId', 'viewCount',\n",
              "       'avg_viewCount', 'likeCount', 'commentCount', 'duration_secs',\n",
              "       'log_duration_secs', 'definition', 'topicCategories', 'publishedDayNum',\n",
              "       'publishedDayDelta', 'len_title', 'topicLabel', 'score', 'channelName',\n",
              "       'ov_viewCount', 'ov_subscriberCount', 'ov_videoCount'],\n",
              "      dtype='object')"
            ]
          },
          "metadata": {},
          "execution_count": 40
        }
      ]
    },
    {
      "cell_type": "code",
      "source": [
        "# df['std_viewCount'] = df.groupby('channelTitle').viewCount.apply(lambda x: (x - x.mean()) / x.std()).values\n"
      ],
      "metadata": {
        "id": "FZnJtYcUCbXw",
        "pycharm": {
          "name": "#%%\n"
        }
      },
      "execution_count": 41,
      "outputs": []
    },
    {
      "cell_type": "code",
      "source": [
        "# unique_topics_list = set()\n",
        "# for topic_list in df.topicCategories.values:\n",
        "#   for topic in topic_list:\n",
        "#     unique_topics_list.add(topic)\n",
        "\n",
        "# unique_titles_word_list = set()\n",
        "# for topic_list in df.title.values:\n",
        "#   for topic in topic_list:\n",
        "#     unique_titles_word_list.add(topic)"
      ],
      "metadata": {
        "id": "hchCQuvhTNRD",
        "pycharm": {
          "name": "#%%\n"
        }
      },
      "execution_count": 42,
      "outputs": []
    },
    {
      "cell_type": "code",
      "source": [],
      "metadata": {
        "id": "lMjrwAOueKaj"
      },
      "execution_count": 42,
      "outputs": []
    },
    {
      "cell_type": "code",
      "source": [
        "# unique_titles_word_list"
      ],
      "metadata": {
        "id": "wdThw77_YjVE",
        "pycharm": {
          "name": "#%%\n"
        }
      },
      "execution_count": 43,
      "outputs": []
    },
    {
      "cell_type": "code",
      "source": [
        "# df = pd.read_csv('SIADS696/df.csv')"
      ],
      "metadata": {
        "id": "IQtuwdEOqd3s"
      },
      "execution_count": 44,
      "outputs": []
    },
    {
      "cell_type": "code",
      "source": [
        "basic_model_features = ['title', 'definition', 'publishedDayNum', 'log_duration_secs', 'len_title', 'topicLabel', 'score']\n",
        "basic_model_data = df[basic_model_features]\n",
        "\n",
        "basic_model_data.head()"
      ],
      "metadata": {
        "id": "ouZJO-GlaAAW",
        "pycharm": {
          "name": "#%%\n"
        },
        "outputId": "965a8dfc-7247-4e30-cf8e-9e7e2d1c74b8",
        "colab": {
          "base_uri": "https://localhost:8080/",
          "height": 204
        }
      },
      "execution_count": 45,
      "outputs": [
        {
          "output_type": "execute_result",
          "data": {
            "text/plain": [
              "                                               title definition  \\\n",
              "0             [well, short, film, official, trailer]         hd   \n",
              "1  [taylor, swift, willow, moonlit, witch, versio...         hd   \n",
              "2  [taylor, swift, willow, dancing, witch, versio...         hd   \n",
              "3  [taylor, swift, willow, lonely, witch, version...         hd   \n",
              "4                 [taylor, swift, willow, yule, log]         hd   \n",
              "\n",
              "   publishedDayNum  log_duration_secs  len_title topicLabel     score  \n",
              "0              309           7.528869          5      music  7.066714  \n",
              "1              352           5.347108          8      music  2.010162  \n",
              "2              352           5.225747          8      music  0.933142  \n",
              "3              352           5.241747          8      music  1.170118  \n",
              "4              352           5.375278          5      music  1.460768  "
            ],
            "text/html": [
              "\n",
              "  <div id=\"df-a483515d-dc1f-445c-b375-995c38b33719\">\n",
              "    <div class=\"colab-df-container\">\n",
              "      <div>\n",
              "<style scoped>\n",
              "    .dataframe tbody tr th:only-of-type {\n",
              "        vertical-align: middle;\n",
              "    }\n",
              "\n",
              "    .dataframe tbody tr th {\n",
              "        vertical-align: top;\n",
              "    }\n",
              "\n",
              "    .dataframe thead th {\n",
              "        text-align: right;\n",
              "    }\n",
              "</style>\n",
              "<table border=\"1\" class=\"dataframe\">\n",
              "  <thead>\n",
              "    <tr style=\"text-align: right;\">\n",
              "      <th></th>\n",
              "      <th>title</th>\n",
              "      <th>definition</th>\n",
              "      <th>publishedDayNum</th>\n",
              "      <th>log_duration_secs</th>\n",
              "      <th>len_title</th>\n",
              "      <th>topicLabel</th>\n",
              "      <th>score</th>\n",
              "    </tr>\n",
              "  </thead>\n",
              "  <tbody>\n",
              "    <tr>\n",
              "      <th>0</th>\n",
              "      <td>[well, short, film, official, trailer]</td>\n",
              "      <td>hd</td>\n",
              "      <td>309</td>\n",
              "      <td>7.528869</td>\n",
              "      <td>5</td>\n",
              "      <td>music</td>\n",
              "      <td>7.066714</td>\n",
              "    </tr>\n",
              "    <tr>\n",
              "      <th>1</th>\n",
              "      <td>[taylor, swift, willow, moonlit, witch, versio...</td>\n",
              "      <td>hd</td>\n",
              "      <td>352</td>\n",
              "      <td>5.347108</td>\n",
              "      <td>8</td>\n",
              "      <td>music</td>\n",
              "      <td>2.010162</td>\n",
              "    </tr>\n",
              "    <tr>\n",
              "      <th>2</th>\n",
              "      <td>[taylor, swift, willow, dancing, witch, versio...</td>\n",
              "      <td>hd</td>\n",
              "      <td>352</td>\n",
              "      <td>5.225747</td>\n",
              "      <td>8</td>\n",
              "      <td>music</td>\n",
              "      <td>0.933142</td>\n",
              "    </tr>\n",
              "    <tr>\n",
              "      <th>3</th>\n",
              "      <td>[taylor, swift, willow, lonely, witch, version...</td>\n",
              "      <td>hd</td>\n",
              "      <td>352</td>\n",
              "      <td>5.241747</td>\n",
              "      <td>8</td>\n",
              "      <td>music</td>\n",
              "      <td>1.170118</td>\n",
              "    </tr>\n",
              "    <tr>\n",
              "      <th>4</th>\n",
              "      <td>[taylor, swift, willow, yule, log]</td>\n",
              "      <td>hd</td>\n",
              "      <td>352</td>\n",
              "      <td>5.375278</td>\n",
              "      <td>5</td>\n",
              "      <td>music</td>\n",
              "      <td>1.460768</td>\n",
              "    </tr>\n",
              "  </tbody>\n",
              "</table>\n",
              "</div>\n",
              "      <button class=\"colab-df-convert\" onclick=\"convertToInteractive('df-a483515d-dc1f-445c-b375-995c38b33719')\"\n",
              "              title=\"Convert this dataframe to an interactive table.\"\n",
              "              style=\"display:none;\">\n",
              "        \n",
              "  <svg xmlns=\"http://www.w3.org/2000/svg\" height=\"24px\"viewBox=\"0 0 24 24\"\n",
              "       width=\"24px\">\n",
              "    <path d=\"M0 0h24v24H0V0z\" fill=\"none\"/>\n",
              "    <path d=\"M18.56 5.44l.94 2.06.94-2.06 2.06-.94-2.06-.94-.94-2.06-.94 2.06-2.06.94zm-11 1L8.5 8.5l.94-2.06 2.06-.94-2.06-.94L8.5 2.5l-.94 2.06-2.06.94zm10 10l.94 2.06.94-2.06 2.06-.94-2.06-.94-.94-2.06-.94 2.06-2.06.94z\"/><path d=\"M17.41 7.96l-1.37-1.37c-.4-.4-.92-.59-1.43-.59-.52 0-1.04.2-1.43.59L10.3 9.45l-7.72 7.72c-.78.78-.78 2.05 0 2.83L4 21.41c.39.39.9.59 1.41.59.51 0 1.02-.2 1.41-.59l7.78-7.78 2.81-2.81c.8-.78.8-2.07 0-2.86zM5.41 20L4 18.59l7.72-7.72 1.47 1.35L5.41 20z\"/>\n",
              "  </svg>\n",
              "      </button>\n",
              "      \n",
              "  <style>\n",
              "    .colab-df-container {\n",
              "      display:flex;\n",
              "      flex-wrap:wrap;\n",
              "      gap: 12px;\n",
              "    }\n",
              "\n",
              "    .colab-df-convert {\n",
              "      background-color: #E8F0FE;\n",
              "      border: none;\n",
              "      border-radius: 50%;\n",
              "      cursor: pointer;\n",
              "      display: none;\n",
              "      fill: #1967D2;\n",
              "      height: 32px;\n",
              "      padding: 0 0 0 0;\n",
              "      width: 32px;\n",
              "    }\n",
              "\n",
              "    .colab-df-convert:hover {\n",
              "      background-color: #E2EBFA;\n",
              "      box-shadow: 0px 1px 2px rgba(60, 64, 67, 0.3), 0px 1px 3px 1px rgba(60, 64, 67, 0.15);\n",
              "      fill: #174EA6;\n",
              "    }\n",
              "\n",
              "    [theme=dark] .colab-df-convert {\n",
              "      background-color: #3B4455;\n",
              "      fill: #D2E3FC;\n",
              "    }\n",
              "\n",
              "    [theme=dark] .colab-df-convert:hover {\n",
              "      background-color: #434B5C;\n",
              "      box-shadow: 0px 1px 3px 1px rgba(0, 0, 0, 0.15);\n",
              "      filter: drop-shadow(0px 1px 2px rgba(0, 0, 0, 0.3));\n",
              "      fill: #FFFFFF;\n",
              "    }\n",
              "  </style>\n",
              "\n",
              "      <script>\n",
              "        const buttonEl =\n",
              "          document.querySelector('#df-a483515d-dc1f-445c-b375-995c38b33719 button.colab-df-convert');\n",
              "        buttonEl.style.display =\n",
              "          google.colab.kernel.accessAllowed ? 'block' : 'none';\n",
              "\n",
              "        async function convertToInteractive(key) {\n",
              "          const element = document.querySelector('#df-a483515d-dc1f-445c-b375-995c38b33719');\n",
              "          const dataTable =\n",
              "            await google.colab.kernel.invokeFunction('convertToInteractive',\n",
              "                                                     [key], {});\n",
              "          if (!dataTable) return;\n",
              "\n",
              "          const docLinkHtml = 'Like what you see? Visit the ' +\n",
              "            '<a target=\"_blank\" href=https://colab.research.google.com/notebooks/data_table.ipynb>data table notebook</a>'\n",
              "            + ' to learn more about interactive tables.';\n",
              "          element.innerHTML = '';\n",
              "          dataTable['output_type'] = 'display_data';\n",
              "          await google.colab.output.renderOutput(dataTable, element);\n",
              "          const docLink = document.createElement('div');\n",
              "          docLink.innerHTML = docLinkHtml;\n",
              "          element.appendChild(docLink);\n",
              "        }\n",
              "      </script>\n",
              "    </div>\n",
              "  </div>\n",
              "  "
            ]
          },
          "metadata": {},
          "execution_count": 45
        }
      ]
    },
    {
      "cell_type": "code",
      "source": [],
      "metadata": {
        "id": "f4d_8Qm5Y6C1"
      },
      "execution_count": 45,
      "outputs": []
    },
    {
      "cell_type": "code",
      "source": [
        "basic_model_data.topicLabel.unique()"
      ],
      "metadata": {
        "id": "LOBqVaTRYz5F",
        "outputId": "ab250cb3-7400-4a2f-b936-b0df738914eb",
        "colab": {
          "base_uri": "https://localhost:8080/"
        }
      },
      "execution_count": 46,
      "outputs": [
        {
          "output_type": "execute_result",
          "data": {
            "text/plain": [
              "array(['music', 'yoga', 'travel', 'cooking', 'science', 'fitness',\n",
              "       'educational', 'history', 'news', 'comedy'], dtype=object)"
            ]
          },
          "metadata": {},
          "execution_count": 46
        }
      ]
    },
    {
      "cell_type": "code",
      "source": [
        "import seaborn as sns\n",
        "sns.distplot(basic_model_data.log_duration_secs+1);"
      ],
      "metadata": {
        "id": "htD-0uJkehjo",
        "pycharm": {
          "name": "#%%\n"
        },
        "outputId": "d2ec8aa7-c5f5-49fe-8002-c1f1ef0f6590",
        "colab": {
          "base_uri": "https://localhost:8080/",
          "height": 280
        }
      },
      "execution_count": 47,
      "outputs": [
        {
          "output_type": "display_data",
          "data": {
            "text/plain": [
              "<Figure size 432x288 with 1 Axes>"
            ],
            "image/png": "[encoded data removed]"
          },
          "metadata": {
            "needs_background": "light"
          }
        }
      ]
    },
    {
      "cell_type": "code",
      "source": [],
      "metadata": {
        "id": "KVbze_ikW2B4"
      },
      "execution_count": null,
      "outputs": []
    },
    {
      "cell_type": "code",
      "source": [
        "def gen_word_vec(df_text_list, model):\n",
        "    word_vector = []\n",
        "    for token in df_text_list:\n",
        "        token_considered = [t for t in token if t.isalpha]\n",
        "        token_vocab = [i for i in token_considered if i in model.index_to_key]\n",
        "        if len(token_vocab) > 0:\n",
        "            word_vector.append(np.mean(model[token_vocab], axis=0))\n",
        "        else:\n",
        "            word_vector.append(np.zeros(model.vector_size))\n",
        "    word_vector = np.array(word_vector)\n",
        "    return np.mean(word_vector, axis=0)"
      ],
      "metadata": {
        "id": "B-yfOnaJXWVx"
      },
      "execution_count": 48,
      "outputs": []
    },
    {
      "cell_type": "code",
      "source": [
        "gen_word_vec(['hello'], glove_wv)"
      ],
      "metadata": {
        "colab": {
          "base_uri": "https://localhost:8080/"
        },
        "id": "pTv7KOhBgH6D",
        "outputId": "eaed7a10-7842-4051-9eef-bc8fc0267d74"
      },
      "execution_count": 49,
      "outputs": [
        {
          "output_type": "execute_result",
          "data": {
            "text/plain": [
              "array([ 0.0083718 ,  0.92501605,  0.82671994,  0.93556607,  0.146684  ,\n",
              "       -0.168484  ,  0.505932  , -1.061296  , -0.402934  ,  0.15173168,\n",
              "        0.0078584 ,  0.623798  , -0.43779   , -0.765722  , -0.16506639,\n",
              "       -0.4667066 , -0.45821556,  0.05511599, -0.319368  , -0.19256799,\n",
              "       -0.301969  , -0.728646  ,  0.5106972 ,  0.49465004, -0.096302  ,\n",
              "       -0.1163846 , -0.18508   , -0.22964561, -0.010829  , -0.1917308 ,\n",
              "        2.22204   ,  0.0796242 ,  0.00325879,  0.736529  , -0.20064358,\n",
              "       -0.68017995,  0.4949978 , -0.772092  ,  0.3979736 ,  0.372428  ,\n",
              "        1.225998  , -0.2150822 , -0.3142818 , -0.1801152 ,  0.09256861,\n",
              "        0.34115   ,  0.20036101, -0.237222  ,  0.791966  ,  0.92229205],\n",
              "      dtype=float32)"
            ]
          },
          "metadata": {},
          "execution_count": 49
        }
      ]
    },
    {
      "cell_type": "code",
      "source": [
        "gen_word_vec([\"hello\", \"hi\"], glove_wv)"
      ],
      "metadata": {
        "colab": {
          "base_uri": "https://localhost:8080/"
        },
        "id": "_wagEnLHXWZ4",
        "outputId": "d3146ade-cd1e-402a-9708-505b09118009"
      },
      "execution_count": 50,
      "outputs": [
        {
          "output_type": "execute_result",
          "data": {
            "text/plain": [
              "array([-0.0228391 ,  0.676468  ,  0.6331542 ,  0.51612055,  0.4432595 ,\n",
              "       -0.238337  ,  0.4528435 , -0.565578  , -0.531372  ,  0.08265974,\n",
              "        0.0708867 ,  0.604414  , -0.76509506, -0.67381847,  0.0823393 ,\n",
              "       -0.0618903 , -0.17809978,  0.0735005 , -0.403335  , -0.3093915 ,\n",
              "       -0.30702198, -0.4339155 ,  0.6385611 ,  0.46106252,  0.142379  ,\n",
              "       -0.68949056, -0.499165  , -0.11757531,  0.305153  , -0.4147914 ,\n",
              "        2.466845  ,  0.24705036, -0.03796561,  0.6097295 , -0.16160129,\n",
              "       -0.68044996,  0.6111214 , -0.25899848,  0.3421388 ,  0.277349  ,\n",
              "        0.89228797, -0.2619331 , -0.2981009 ,  0.0330909 ,  0.11631081,\n",
              "        0.29878   ,  0.07689176, -0.4420785 ,  0.463128  ,  0.95529854],\n",
              "      dtype=float32)"
            ]
          },
          "metadata": {},
          "execution_count": 50
        }
      ]
    },
    {
      "cell_type": "code",
      "source": [
        "titles = basic_model_data.vec_title.apply(pd.Series).rename(columns={i-1:\"title_\"+str(i) for i in range(1,51)})\n"
      ],
      "metadata": {
        "id": "rHeAEWSAtPLi"
      },
      "execution_count": null,
      "outputs": []
    },
    {
      "cell_type": "code",
      "source": [
        "data_df = pd.concat([titles, basic_model_data[['publishedDayNum', 'log_duration_secs', 'score', 'len_title']], pd.get_dummies(basic_model_data.definition), pd.get_dummies(basic_model_data.topicLabel)], axis=1)"
      ],
      "metadata": {
        "id": "tYH9RTCwATRr",
        "pycharm": {
          "name": "#%%\n"
        }
      },
      "execution_count": null,
      "outputs": []
    },
    {
      "cell_type": "code",
      "source": [
        "data_df.to_csv(\"data_df.csv\")"
      ],
      "metadata": {
        "id": "Vjc1L3ZSEXnL"
      },
      "execution_count": null,
      "outputs": []
    },
    {
      "cell_type": "code",
      "source": [
        "data_df.head()"
      ],
      "metadata": {
        "id": "mxav80BUAfKU",
        "pycharm": {
          "name": "#%%\n"
        }
      },
      "execution_count": null,
      "outputs": []
    },
    {
      "cell_type": "markdown",
      "source": [
        "A new notebook should start here"
      ],
      "metadata": {
        "id": "IMVE1gWy-Rdn"
      }
    },
    {
      "cell_type": "code",
      "source": [
        "from sklearn.model_selection import train_test_split\n",
        "from sklearn.preprocessing import StandardScaler\n",
        "from sklearn.decomposition import PCA"
      ],
      "metadata": {
        "id": "DOL2fVOqCN1y",
        "pycharm": {
          "name": "#%%\n"
        }
      },
      "execution_count": null,
      "outputs": []
    },
    {
      "cell_type": "code",
      "source": [
        "data_train, data_test = train_test_split(data_df, test_size=0.20, random_state=42)"
      ],
      "metadata": {
        "id": "IafoRDfiB_6L",
        "pycharm": {
          "name": "#%%\n"
        }
      },
      "execution_count": null,
      "outputs": []
    },
    {
      "cell_type": "code",
      "source": [
        "# data_train[\"smote_thresh\"] = data_train.std_viewCount>=10"
      ],
      "metadata": {
        "id": "8WczqHqLRUIN"
      },
      "execution_count": null,
      "outputs": []
    },
    {
      "cell_type": "code",
      "source": [
        "# data_train.smote_thresh.value_counts()\n",
        "data_train.head()"
      ],
      "metadata": {
        "id": "KLV3X40Dg4Gl",
        "outputId": "6c73bcaa-9b11-45a8-e86c-47601cc83442",
        "colab": {
          "base_uri": "https://localhost:8080/",
          "height": 297
        }
      },
      "execution_count": null,
      "outputs": [
        {
          "output_type": "execute_result",
          "data": {
            "text/plain": [
              "        title_1   title_2   title_3   title_4   title_5   title_6   title_7  \\\n",
              "25617 -0.116116  0.805909  0.644511  0.691821  0.489663  0.041699  0.633763   \n",
              "13989 -0.167959  0.741446  0.540157  0.537544  0.586885  0.092586  0.300925   \n",
              "30199  0.003190  0.756032  0.729363  0.700835  0.360254  0.038062  0.301440   \n",
              "31524  0.032892  0.758939  0.637583  0.775430  0.361579  0.034557  0.299713   \n",
              "44694 -0.023028  0.805909  0.691913  0.735660  0.219330 -0.053332  0.394272   \n",
              "\n",
              "        title_8   title_9  title_10  ...  comedy  cooking  educational  \\\n",
              "25617 -0.654132 -0.290710 -0.026090  ...       0        0            0   \n",
              "13989 -0.726261 -0.277708  0.066455  ...       0        1            0   \n",
              "30199 -0.760162 -0.159814  0.013568  ...       0        0            1   \n",
              "31524 -0.861616 -0.192700  0.071812  ...       0        0            1   \n",
              "44694 -0.689977 -0.260224 -0.037126  ...       1        0            0   \n",
              "\n",
              "       fitness  history  music  news  science  travel  yoga  \n",
              "25617        1        0      0     0        0       0     0  \n",
              "13989        0        0      0     0        0       0     0  \n",
              "30199        0        0      0     0        0       0     0  \n",
              "31524        0        0      0     0        0       0     0  \n",
              "44694        0        0      0     0        0       0     0  \n",
              "\n",
              "[5 rows x 66 columns]"
            ],
            "text/html": [
              "\n",
              "  <div id=\"df-dbdf183e-f03c-4ac7-a8a9-428fa139ef39\">\n",
              "    <div class=\"colab-df-container\">\n",
              "      <div>\n",
              "<style scoped>\n",
              "    .dataframe tbody tr th:only-of-type {\n",
              "        vertical-align: middle;\n",
              "    }\n",
              "\n",
              "    .dataframe tbody tr th {\n",
              "        vertical-align: top;\n",
              "    }\n",
              "\n",
              "    .dataframe thead th {\n",
              "        text-align: right;\n",
              "    }\n",
              "</style>\n",
              "<table border=\"1\" class=\"dataframe\">\n",
              "  <thead>\n",
              "    <tr style=\"text-align: right;\">\n",
              "      <th></th>\n",
              "      <th>title_1</th>\n",
              "      <th>title_2</th>\n",
              "      <th>title_3</th>\n",
              "      <th>title_4</th>\n",
              "      <th>title_5</th>\n",
              "      <th>title_6</th>\n",
              "      <th>title_7</th>\n",
              "      <th>title_8</th>\n",
              "      <th>title_9</th>\n",
              "      <th>title_10</th>\n",
              "      <th>...</th>\n",
              "      <th>comedy</th>\n",
              "      <th>cooking</th>\n",
              "      <th>educational</th>\n",
              "      <th>fitness</th>\n",
              "      <th>history</th>\n",
              "      <th>music</th>\n",
              "      <th>news</th>\n",
              "      <th>science</th>\n",
              "      <th>travel</th>\n",
              "      <th>yoga</th>\n",
              "    </tr>\n",
              "  </thead>\n",
              "  <tbody>\n",
              "    <tr>\n",
              "      <th>25617</th>\n",
              "      <td>-0.116116</td>\n",
              "      <td>0.805909</td>\n",
              "      <td>0.644511</td>\n",
              "      <td>0.691821</td>\n",
              "      <td>0.489663</td>\n",
              "      <td>0.041699</td>\n",
              "      <td>0.633763</td>\n",
              "      <td>-0.654132</td>\n",
              "      <td>-0.290710</td>\n",
              "      <td>-0.026090</td>\n",
              "      <td>...</td>\n",
              "      <td>0</td>\n",
              "      <td>0</td>\n",
              "      <td>0</td>\n",
              "      <td>1</td>\n",
              "      <td>0</td>\n",
              "      <td>0</td>\n",
              "      <td>0</td>\n",
              "      <td>0</td>\n",
              "      <td>0</td>\n",
              "      <td>0</td>\n",
              "    </tr>\n",
              "    <tr>\n",
              "      <th>13989</th>\n",
              "      <td>-0.167959</td>\n",
              "      <td>0.741446</td>\n",
              "      <td>0.540157</td>\n",
              "      <td>0.537544</td>\n",
              "      <td>0.586885</td>\n",
              "      <td>0.092586</td>\n",
              "      <td>0.300925</td>\n",
              "      <td>-0.726261</td>\n",
              "      <td>-0.277708</td>\n",
              "      <td>0.066455</td>\n",
              "      <td>...</td>\n",
              "      <td>0</td>\n",
              "      <td>1</td>\n",
              "      <td>0</td>\n",
              "      <td>0</td>\n",
              "      <td>0</td>\n",
              "      <td>0</td>\n",
              "      <td>0</td>\n",
              "      <td>0</td>\n",
              "      <td>0</td>\n",
              "      <td>0</td>\n",
              "    </tr>\n",
              "    <tr>\n",
              "      <th>30199</th>\n",
              "      <td>0.003190</td>\n",
              "      <td>0.756032</td>\n",
              "      <td>0.729363</td>\n",
              "      <td>0.700835</td>\n",
              "      <td>0.360254</td>\n",
              "      <td>0.038062</td>\n",
              "      <td>0.301440</td>\n",
              "      <td>-0.760162</td>\n",
              "      <td>-0.159814</td>\n",
              "      <td>0.013568</td>\n",
              "      <td>...</td>\n",
              "      <td>0</td>\n",
              "      <td>0</td>\n",
              "      <td>1</td>\n",
              "      <td>0</td>\n",
              "      <td>0</td>\n",
              "      <td>0</td>\n",
              "      <td>0</td>\n",
              "      <td>0</td>\n",
              "      <td>0</td>\n",
              "      <td>0</td>\n",
              "    </tr>\n",
              "    <tr>\n",
              "      <th>31524</th>\n",
              "      <td>0.032892</td>\n",
              "      <td>0.758939</td>\n",
              "      <td>0.637583</td>\n",
              "      <td>0.775430</td>\n",
              "      <td>0.361579</td>\n",
              "      <td>0.034557</td>\n",
              "      <td>0.299713</td>\n",
              "      <td>-0.861616</td>\n",
              "      <td>-0.192700</td>\n",
              "      <td>0.071812</td>\n",
              "      <td>...</td>\n",
              "      <td>0</td>\n",
              "      <td>0</td>\n",
              "      <td>1</td>\n",
              "      <td>0</td>\n",
              "      <td>0</td>\n",
              "      <td>0</td>\n",
              "      <td>0</td>\n",
              "      <td>0</td>\n",
              "      <td>0</td>\n",
              "      <td>0</td>\n",
              "    </tr>\n",
              "    <tr>\n",
              "      <th>44694</th>\n",
              "      <td>-0.023028</td>\n",
              "      <td>0.805909</td>\n",
              "      <td>0.691913</td>\n",
              "      <td>0.735660</td>\n",
              "      <td>0.219330</td>\n",
              "      <td>-0.053332</td>\n",
              "      <td>0.394272</td>\n",
              "      <td>-0.689977</td>\n",
              "      <td>-0.260224</td>\n",
              "      <td>-0.037126</td>\n",
              "      <td>...</td>\n",
              "      <td>1</td>\n",
              "      <td>0</td>\n",
              "      <td>0</td>\n",
              "      <td>0</td>\n",
              "      <td>0</td>\n",
              "      <td>0</td>\n",
              "      <td>0</td>\n",
              "      <td>0</td>\n",
              "      <td>0</td>\n",
              "      <td>0</td>\n",
              "    </tr>\n",
              "  </tbody>\n",
              "</table>\n",
              "<p>5 rows × 66 columns</p>\n",
              "</div>\n",
              "      <button class=\"colab-df-convert\" onclick=\"convertToInteractive('df-dbdf183e-f03c-4ac7-a8a9-428fa139ef39')\"\n",
              "              title=\"Convert this dataframe to an interactive table.\"\n",
              "              style=\"display:none;\">\n",
              "        \n",
              "  <svg xmlns=\"http://www.w3.org/2000/svg\" height=\"24px\"viewBox=\"0 0 24 24\"\n",
              "       width=\"24px\">\n",
              "    <path d=\"M0 0h24v24H0V0z\" fill=\"none\"/>\n",
              "    <path d=\"M18.56 5.44l.94 2.06.94-2.06 2.06-.94-2.06-.94-.94-2.06-.94 2.06-2.06.94zm-11 1L8.5 8.5l.94-2.06 2.06-.94-2.06-.94L8.5 2.5l-.94 2.06-2.06.94zm10 10l.94 2.06.94-2.06 2.06-.94-2.06-.94-.94-2.06-.94 2.06-2.06.94z\"/><path d=\"M17.41 7.96l-1.37-1.37c-.4-.4-.92-.59-1.43-.59-.52 0-1.04.2-1.43.59L10.3 9.45l-7.72 7.72c-.78.78-.78 2.05 0 2.83L4 21.41c.39.39.9.59 1.41.59.51 0 1.02-.2 1.41-.59l7.78-7.78 2.81-2.81c.8-.78.8-2.07 0-2.86zM5.41 20L4 18.59l7.72-7.72 1.47 1.35L5.41 20z\"/>\n",
              "  </svg>\n",
              "      </button>\n",
              "      \n",
              "  <style>\n",
              "    .colab-df-container {\n",
              "      display:flex;\n",
              "      flex-wrap:wrap;\n",
              "      gap: 12px;\n",
              "    }\n",
              "\n",
              "    .colab-df-convert {\n",
              "      background-color: #E8F0FE;\n",
              "      border: none;\n",
              "      border-radius: 50%;\n",
              "      cursor: pointer;\n",
              "      display: none;\n",
              "      fill: #1967D2;\n",
              "      height: 32px;\n",
              "      padding: 0 0 0 0;\n",
              "      width: 32px;\n",
              "    }\n",
              "\n",
              "    .colab-df-convert:hover {\n",
              "      background-color: #E2EBFA;\n",
              "      box-shadow: 0px 1px 2px rgba(60, 64, 67, 0.3), 0px 1px 3px 1px rgba(60, 64, 67, 0.15);\n",
              "      fill: #174EA6;\n",
              "    }\n",
              "\n",
              "    [theme=dark] .colab-df-convert {\n",
              "      background-color: #3B4455;\n",
              "      fill: #D2E3FC;\n",
              "    }\n",
              "\n",
              "    [theme=dark] .colab-df-convert:hover {\n",
              "      background-color: #434B5C;\n",
              "      box-shadow: 0px 1px 3px 1px rgba(0, 0, 0, 0.15);\n",
              "      filter: drop-shadow(0px 1px 2px rgba(0, 0, 0, 0.3));\n",
              "      fill: #FFFFFF;\n",
              "    }\n",
              "  </style>\n",
              "\n",
              "      <script>\n",
              "        const buttonEl =\n",
              "          document.querySelector('#df-dbdf183e-f03c-4ac7-a8a9-428fa139ef39 button.colab-df-convert');\n",
              "        buttonEl.style.display =\n",
              "          google.colab.kernel.accessAllowed ? 'block' : 'none';\n",
              "\n",
              "        async function convertToInteractive(key) {\n",
              "          const element = document.querySelector('#df-dbdf183e-f03c-4ac7-a8a9-428fa139ef39');\n",
              "          const dataTable =\n",
              "            await google.colab.kernel.invokeFunction('convertToInteractive',\n",
              "                                                     [key], {});\n",
              "          if (!dataTable) return;\n",
              "\n",
              "          const docLinkHtml = 'Like what you see? Visit the ' +\n",
              "            '<a target=\"_blank\" href=https://colab.research.google.com/notebooks/data_table.ipynb>data table notebook</a>'\n",
              "            + ' to learn more about interactive tables.';\n",
              "          element.innerHTML = '';\n",
              "          dataTable['output_type'] = 'display_data';\n",
              "          await google.colab.output.renderOutput(dataTable, element);\n",
              "          const docLink = document.createElement('div');\n",
              "          docLink.innerHTML = docLinkHtml;\n",
              "          element.appendChild(docLink);\n",
              "        }\n",
              "      </script>\n",
              "    </div>\n",
              "  </div>\n",
              "  "
            ]
          },
          "metadata": {},
          "execution_count": 154
        }
      ]
    },
    {
      "cell_type": "code",
      "source": [
        "data_train = data_train.dropna()"
      ],
      "metadata": {
        "id": "YIgdjCBE1Lv_"
      },
      "execution_count": null,
      "outputs": []
    },
    {
      "cell_type": "code",
      "source": [
        "data_test = data_test.dropna()"
      ],
      "metadata": {
        "id": "_ilx7Lbf1UBB"
      },
      "execution_count": null,
      "outputs": []
    },
    {
      "cell_type": "code",
      "source": [
        "# from imblearn.over_sampling import SMOTE "
      ],
      "metadata": {
        "id": "1ZDvE8DXn2eh"
      },
      "execution_count": null,
      "outputs": []
    },
    {
      "cell_type": "code",
      "source": [
        "# sm = SMOTE(random_state=42)\n",
        "# X_res, y_res = sm.fit_resample(data_train.drop(\"smote_thresh\", axis=1), data_train[\"smote_thresh\"])"
      ],
      "metadata": {
        "id": "hctbL7vZn2hw"
      },
      "execution_count": null,
      "outputs": []
    },
    {
      "cell_type": "code",
      "source": [
        "# y_res.value_counts()"
      ],
      "metadata": {
        "id": "xSVdYE5-n2kk"
      },
      "execution_count": null,
      "outputs": []
    },
    {
      "cell_type": "code",
      "source": [
        "train_X = data_train.drop([\"score\"], axis=1) #X_res.drop(\"score\", axis=1) #data_train.drop([\"std_viewCount\", \"smote_thresh\"], axis=1) #use X_res for smote\n",
        "train_y = data_train.score#X_res.score#data_train.std_viewCount\n",
        "\n",
        "test_X = data_test.drop(\"score\", axis=1)\n",
        "test_y = data_test.score"
      ],
      "metadata": {
        "id": "uELPK5OiCsIq",
        "pycharm": {
          "name": "#%%\n"
        }
      },
      "execution_count": null,
      "outputs": []
    },
    {
      "cell_type": "code",
      "source": [
        "train_X.head()"
      ],
      "metadata": {
        "id": "DJDhSiOFgPhR",
        "outputId": "f0a09628-90a4-49e2-cba4-c1ff7d6ca160",
        "colab": {
          "base_uri": "https://localhost:8080/",
          "height": 297
        }
      },
      "execution_count": null,
      "outputs": [
        {
          "output_type": "execute_result",
          "data": {
            "text/plain": [
              "        title_1   title_2   title_3   title_4   title_5   title_6   title_7  \\\n",
              "25617 -0.116116  0.805909  0.644511  0.691821  0.489663  0.041699  0.633763   \n",
              "13989 -0.167959  0.741446  0.540157  0.537544  0.586885  0.092586  0.300925   \n",
              "30199  0.003190  0.756032  0.729363  0.700835  0.360254  0.038062  0.301440   \n",
              "31524  0.032892  0.758939  0.637583  0.775430  0.361579  0.034557  0.299713   \n",
              "44694 -0.023028  0.805909  0.691913  0.735660  0.219330 -0.053332  0.394272   \n",
              "\n",
              "        title_8   title_9  title_10  ...  comedy  cooking  educational  \\\n",
              "25617 -0.654132 -0.290710 -0.026090  ...       0        0            0   \n",
              "13989 -0.726261 -0.277708  0.066455  ...       0        1            0   \n",
              "30199 -0.760162 -0.159814  0.013568  ...       0        0            1   \n",
              "31524 -0.861616 -0.192700  0.071812  ...       0        0            1   \n",
              "44694 -0.689977 -0.260224 -0.037126  ...       1        0            0   \n",
              "\n",
              "       fitness  history  music  news  science  travel  yoga  \n",
              "25617        1        0      0     0        0       0     0  \n",
              "13989        0        0      0     0        0       0     0  \n",
              "30199        0        0      0     0        0       0     0  \n",
              "31524        0        0      0     0        0       0     0  \n",
              "44694        0        0      0     0        0       0     0  \n",
              "\n",
              "[5 rows x 65 columns]"
            ],
            "text/html": [
              "\n",
              "  <div id=\"df-d09eb04d-0f85-4a97-9cb0-8fa27f3d1bce\">\n",
              "    <div class=\"colab-df-container\">\n",
              "      <div>\n",
              "<style scoped>\n",
              "    .dataframe tbody tr th:only-of-type {\n",
              "        vertical-align: middle;\n",
              "    }\n",
              "\n",
              "    .dataframe tbody tr th {\n",
              "        vertical-align: top;\n",
              "    }\n",
              "\n",
              "    .dataframe thead th {\n",
              "        text-align: right;\n",
              "    }\n",
              "</style>\n",
              "<table border=\"1\" class=\"dataframe\">\n",
              "  <thead>\n",
              "    <tr style=\"text-align: right;\">\n",
              "      <th></th>\n",
              "      <th>title_1</th>\n",
              "      <th>title_2</th>\n",
              "      <th>title_3</th>\n",
              "      <th>title_4</th>\n",
              "      <th>title_5</th>\n",
              "      <th>title_6</th>\n",
              "      <th>title_7</th>\n",
              "      <th>title_8</th>\n",
              "      <th>title_9</th>\n",
              "      <th>title_10</th>\n",
              "      <th>...</th>\n",
              "      <th>comedy</th>\n",
              "      <th>cooking</th>\n",
              "      <th>educational</th>\n",
              "      <th>fitness</th>\n",
              "      <th>history</th>\n",
              "      <th>music</th>\n",
              "      <th>news</th>\n",
              "      <th>science</th>\n",
              "      <th>travel</th>\n",
              "      <th>yoga</th>\n",
              "    </tr>\n",
              "  </thead>\n",
              "  <tbody>\n",
              "    <tr>\n",
              "      <th>25617</th>\n",
              "      <td>-0.116116</td>\n",
              "      <td>0.805909</td>\n",
              "      <td>0.644511</td>\n",
              "      <td>0.691821</td>\n",
              "      <td>0.489663</td>\n",
              "      <td>0.041699</td>\n",
              "      <td>0.633763</td>\n",
              "      <td>-0.654132</td>\n",
              "      <td>-0.290710</td>\n",
              "      <td>-0.026090</td>\n",
              "      <td>...</td>\n",
              "      <td>0</td>\n",
              "      <td>0</td>\n",
              "      <td>0</td>\n",
              "      <td>1</td>\n",
              "      <td>0</td>\n",
              "      <td>0</td>\n",
              "      <td>0</td>\n",
              "      <td>0</td>\n",
              "      <td>0</td>\n",
              "      <td>0</td>\n",
              "    </tr>\n",
              "    <tr>\n",
              "      <th>13989</th>\n",
              "      <td>-0.167959</td>\n",
              "      <td>0.741446</td>\n",
              "      <td>0.540157</td>\n",
              "      <td>0.537544</td>\n",
              "      <td>0.586885</td>\n",
              "      <td>0.092586</td>\n",
              "      <td>0.300925</td>\n",
              "      <td>-0.726261</td>\n",
              "      <td>-0.277708</td>\n",
              "      <td>0.066455</td>\n",
              "      <td>...</td>\n",
              "      <td>0</td>\n",
              "      <td>1</td>\n",
              "      <td>0</td>\n",
              "      <td>0</td>\n",
              "      <td>0</td>\n",
              "      <td>0</td>\n",
              "      <td>0</td>\n",
              "      <td>0</td>\n",
              "      <td>0</td>\n",
              "      <td>0</td>\n",
              "    </tr>\n",
              "    <tr>\n",
              "      <th>30199</th>\n",
              "      <td>0.003190</td>\n",
              "      <td>0.756032</td>\n",
              "      <td>0.729363</td>\n",
              "      <td>0.700835</td>\n",
              "      <td>0.360254</td>\n",
              "      <td>0.038062</td>\n",
              "      <td>0.301440</td>\n",
              "      <td>-0.760162</td>\n",
              "      <td>-0.159814</td>\n",
              "      <td>0.013568</td>\n",
              "      <td>...</td>\n",
              "      <td>0</td>\n",
              "      <td>0</td>\n",
              "      <td>1</td>\n",
              "      <td>0</td>\n",
              "      <td>0</td>\n",
              "      <td>0</td>\n",
              "      <td>0</td>\n",
              "      <td>0</td>\n",
              "      <td>0</td>\n",
              "      <td>0</td>\n",
              "    </tr>\n",
              "    <tr>\n",
              "      <th>31524</th>\n",
              "      <td>0.032892</td>\n",
              "      <td>0.758939</td>\n",
              "      <td>0.637583</td>\n",
              "      <td>0.775430</td>\n",
              "      <td>0.361579</td>\n",
              "      <td>0.034557</td>\n",
              "      <td>0.299713</td>\n",
              "      <td>-0.861616</td>\n",
              "      <td>-0.192700</td>\n",
              "      <td>0.071812</td>\n",
              "      <td>...</td>\n",
              "      <td>0</td>\n",
              "      <td>0</td>\n",
              "      <td>1</td>\n",
              "      <td>0</td>\n",
              "      <td>0</td>\n",
              "      <td>0</td>\n",
              "      <td>0</td>\n",
              "      <td>0</td>\n",
              "      <td>0</td>\n",
              "      <td>0</td>\n",
              "    </tr>\n",
              "    <tr>\n",
              "      <th>44694</th>\n",
              "      <td>-0.023028</td>\n",
              "      <td>0.805909</td>\n",
              "      <td>0.691913</td>\n",
              "      <td>0.735660</td>\n",
              "      <td>0.219330</td>\n",
              "      <td>-0.053332</td>\n",
              "      <td>0.394272</td>\n",
              "      <td>-0.689977</td>\n",
              "      <td>-0.260224</td>\n",
              "      <td>-0.037126</td>\n",
              "      <td>...</td>\n",
              "      <td>1</td>\n",
              "      <td>0</td>\n",
              "      <td>0</td>\n",
              "      <td>0</td>\n",
              "      <td>0</td>\n",
              "      <td>0</td>\n",
              "      <td>0</td>\n",
              "      <td>0</td>\n",
              "      <td>0</td>\n",
              "      <td>0</td>\n",
              "    </tr>\n",
              "  </tbody>\n",
              "</table>\n",
              "<p>5 rows × 65 columns</p>\n",
              "</div>\n",
              "      <button class=\"colab-df-convert\" onclick=\"convertToInteractive('df-d09eb04d-0f85-4a97-9cb0-8fa27f3d1bce')\"\n",
              "              title=\"Convert this dataframe to an interactive table.\"\n",
              "              style=\"display:none;\">\n",
              "        \n",
              "  <svg xmlns=\"http://www.w3.org/2000/svg\" height=\"24px\"viewBox=\"0 0 24 24\"\n",
              "       width=\"24px\">\n",
              "    <path d=\"M0 0h24v24H0V0z\" fill=\"none\"/>\n",
              "    <path d=\"M18.56 5.44l.94 2.06.94-2.06 2.06-.94-2.06-.94-.94-2.06-.94 2.06-2.06.94zm-11 1L8.5 8.5l.94-2.06 2.06-.94-2.06-.94L8.5 2.5l-.94 2.06-2.06.94zm10 10l.94 2.06.94-2.06 2.06-.94-2.06-.94-.94-2.06-.94 2.06-2.06.94z\"/><path d=\"M17.41 7.96l-1.37-1.37c-.4-.4-.92-.59-1.43-.59-.52 0-1.04.2-1.43.59L10.3 9.45l-7.72 7.72c-.78.78-.78 2.05 0 2.83L4 21.41c.39.39.9.59 1.41.59.51 0 1.02-.2 1.41-.59l7.78-7.78 2.81-2.81c.8-.78.8-2.07 0-2.86zM5.41 20L4 18.59l7.72-7.72 1.47 1.35L5.41 20z\"/>\n",
              "  </svg>\n",
              "      </button>\n",
              "      \n",
              "  <style>\n",
              "    .colab-df-container {\n",
              "      display:flex;\n",
              "      flex-wrap:wrap;\n",
              "      gap: 12px;\n",
              "    }\n",
              "\n",
              "    .colab-df-convert {\n",
              "      background-color: #E8F0FE;\n",
              "      border: none;\n",
              "      border-radius: 50%;\n",
              "      cursor: pointer;\n",
              "      display: none;\n",
              "      fill: #1967D2;\n",
              "      height: 32px;\n",
              "      padding: 0 0 0 0;\n",
              "      width: 32px;\n",
              "    }\n",
              "\n",
              "    .colab-df-convert:hover {\n",
              "      background-color: #E2EBFA;\n",
              "      box-shadow: 0px 1px 2px rgba(60, 64, 67, 0.3), 0px 1px 3px 1px rgba(60, 64, 67, 0.15);\n",
              "      fill: #174EA6;\n",
              "    }\n",
              "\n",
              "    [theme=dark] .colab-df-convert {\n",
              "      background-color: #3B4455;\n",
              "      fill: #D2E3FC;\n",
              "    }\n",
              "\n",
              "    [theme=dark] .colab-df-convert:hover {\n",
              "      background-color: #434B5C;\n",
              "      box-shadow: 0px 1px 3px 1px rgba(0, 0, 0, 0.15);\n",
              "      filter: drop-shadow(0px 1px 2px rgba(0, 0, 0, 0.3));\n",
              "      fill: #FFFFFF;\n",
              "    }\n",
              "  </style>\n",
              "\n",
              "      <script>\n",
              "        const buttonEl =\n",
              "          document.querySelector('#df-d09eb04d-0f85-4a97-9cb0-8fa27f3d1bce button.colab-df-convert');\n",
              "        buttonEl.style.display =\n",
              "          google.colab.kernel.accessAllowed ? 'block' : 'none';\n",
              "\n",
              "        async function convertToInteractive(key) {\n",
              "          const element = document.querySelector('#df-d09eb04d-0f85-4a97-9cb0-8fa27f3d1bce');\n",
              "          const dataTable =\n",
              "            await google.colab.kernel.invokeFunction('convertToInteractive',\n",
              "                                                     [key], {});\n",
              "          if (!dataTable) return;\n",
              "\n",
              "          const docLinkHtml = 'Like what you see? Visit the ' +\n",
              "            '<a target=\"_blank\" href=https://colab.research.google.com/notebooks/data_table.ipynb>data table notebook</a>'\n",
              "            + ' to learn more about interactive tables.';\n",
              "          element.innerHTML = '';\n",
              "          dataTable['output_type'] = 'display_data';\n",
              "          await google.colab.output.renderOutput(dataTable, element);\n",
              "          const docLink = document.createElement('div');\n",
              "          docLink.innerHTML = docLinkHtml;\n",
              "          element.appendChild(docLink);\n",
              "        }\n",
              "      </script>\n",
              "    </div>\n",
              "  </div>\n",
              "  "
            ]
          },
          "metadata": {},
          "execution_count": 161
        }
      ]
    },
    {
      "cell_type": "code",
      "source": [
        "# set(X_res.columns)-set(test_X.columns)"
      ],
      "metadata": {
        "id": "8XQ7khYVwaQW"
      },
      "execution_count": null,
      "outputs": []
    },
    {
      "cell_type": "code",
      "source": [
        "# train_X"
      ],
      "metadata": {
        "id": "_6BmGj1dNvJC",
        "pycharm": {
          "name": "#%%\n"
        }
      },
      "execution_count": null,
      "outputs": []
    },
    {
      "cell_type": "code",
      "source": [
        "sc = StandardScaler()\n",
        "train_X = sc.fit_transform(train_X)\n",
        "test_X = sc.transform(test_X)\n",
        "\n"
      ],
      "metadata": {
        "id": "EslSOArDCpOJ",
        "pycharm": {
          "name": "#%%\n"
        }
      },
      "execution_count": null,
      "outputs": []
    },
    {
      "cell_type": "code",
      "source": [
        "pca = PCA(n_components=20)\n",
        "pca.fit(train_X)\n"
      ],
      "metadata": {
        "id": "yPvtZSTpOiOr",
        "outputId": "75b9115e-4e44-4ea7-e217-891a56ccb39c",
        "colab": {
          "base_uri": "https://localhost:8080/"
        },
        "pycharm": {
          "name": "#%%\n"
        }
      },
      "execution_count": null,
      "outputs": [
        {
          "output_type": "execute_result",
          "data": {
            "text/plain": [
              "PCA(n_components=20)"
            ]
          },
          "metadata": {},
          "execution_count": 165
        }
      ]
    },
    {
      "cell_type": "code",
      "source": [
        "import matplotlib.pyplot as plt\n",
        "##SCREE PLOT\n",
        "plt.plot(np.linspace(1,21,20),pca.explained_variance_ratio_);\n"
      ],
      "metadata": {
        "id": "l0Iyzg7mPZSO",
        "outputId": "ea2a9282-a658-4ee6-e17d-6ad14b39559d",
        "colab": {
          "base_uri": "https://localhost:8080/",
          "height": 265
        },
        "pycharm": {
          "name": "#%%\n"
        }
      },
      "execution_count": null,
      "outputs": [
        {
          "output_type": "display_data",
          "data": {
            "text/plain": [
              "<Figure size 432x288 with 1 Axes>"
            ],
            "image/png": "[encoded data removed]"
          },
          "metadata": {
            "needs_background": "light"
          }
        }
      ]
    },
    {
      "cell_type": "code",
      "source": [
        "pca = PCA(n_components=10) #components based on the scree plot above\n",
        "\n",
        "pca_train_X = pca.fit_transform(train_X)\n",
        "\n",
        "plt.scatter(pca_train_X[:,0], train_y);"
      ],
      "metadata": {
        "id": "mraQ_KyURvY6",
        "outputId": "d6057a27-73d8-45f0-8df5-aeffe29f65ff",
        "colab": {
          "base_uri": "https://localhost:8080/",
          "height": 265
        },
        "pycharm": {
          "name": "#%%\n"
        }
      },
      "execution_count": null,
      "outputs": [
        {
          "output_type": "display_data",
          "data": {
            "text/plain": [
              "<Figure size 432x288 with 1 Axes>"
            ],
            "image/png": "[encoded data removed]"
          },
          "metadata": {
            "needs_background": "light"
          }
        }
      ]
    },
    {
      "cell_type": "code",
      "source": [],
      "metadata": {
        "id": "a2mC9lfMevy7"
      },
      "execution_count": null,
      "outputs": []
    },
    {
      "cell_type": "markdown",
      "source": [
        "based on the first PCA, it is clear that the data is not linear and we would have to bear that in mind with the choice of our models"
      ],
      "metadata": {
        "id": "V8__-brQSZ9s",
        "pycharm": {
          "name": "#%% md\n"
        }
      }
    },
    {
      "cell_type": "code",
      "source": [
        "pca_train_X.shape, train_y.shape"
      ],
      "metadata": {
        "id": "ipasXemXSCog",
        "outputId": "66fcb86f-3f64-4501-b6d8-56781229e33e",
        "colab": {
          "base_uri": "https://localhost:8080/"
        },
        "pycharm": {
          "name": "#%%\n"
        }
      },
      "execution_count": null,
      "outputs": [
        {
          "output_type": "execute_result",
          "data": {
            "text/plain": [
              "((38133, 10), (38133,))"
            ]
          },
          "metadata": {},
          "execution_count": 168
        }
      ]
    },
    {
      "cell_type": "code",
      "source": [
        "pca = PCA(n_components=10) #components based on the scree plot above\n",
        "\n",
        "pca_train_X = pca.fit_transform(train_X)\n",
        "pca_test_X = pca.transform(test_X)\n"
      ],
      "metadata": {
        "id": "aMer3-bhOuhM",
        "pycharm": {
          "name": "#%%\n"
        }
      },
      "execution_count": null,
      "outputs": []
    },
    {
      "cell_type": "markdown",
      "source": [
        "The cells below are not the modeling phase of our project, it was primarily used as a run once, and throw away check on the data."
      ],
      "metadata": {
        "id": "qqvqSycm2V54"
      }
    },
    {
      "cell_type": "code",
      "source": [
        "from sklearn.linear_model import LinearRegression, Ridge, Lasso\n",
        "from sklearn.dummy import DummyRegressor\n",
        "from sklearn.svm import SVR\n",
        "from sklearn.tree import DecisionTreeRegressor\n",
        "from sklearn.preprocessing import PolynomialFeatures\n",
        "\n",
        "from sklearn import metrics\n",
        "from sklearn.model_selection import cross_val_score\n",
        "from sklearn.model_selection import cross_validate\n"
      ],
      "metadata": {
        "id": "rDPvtLiPDodO",
        "pycharm": {
          "name": "#%%\n"
        }
      },
      "execution_count": null,
      "outputs": []
    },
    {
      "cell_type": "code",
      "source": [
        "train_X=pca_train_X\n",
        "test_X=pca_test_X"
      ],
      "metadata": {
        "id": "pNGegwWhQvQZ",
        "pycharm": {
          "name": "#%%\n"
        }
      },
      "execution_count": null,
      "outputs": []
    },
    {
      "cell_type": "code",
      "source": [
        "# data_train.sample(frac=0.2,replace=True)"
      ],
      "metadata": {
        "id": "Bsa46UbMJUaL"
      },
      "execution_count": null,
      "outputs": []
    },
    {
      "cell_type": "code",
      "source": [
        "# poly = PolynomialFeatures(3)\n",
        "# x_poly_train = poly.fit_transform(train_X)\n",
        "# x_poly_test = poly.transform(test_X)\n",
        "\n",
        "# train_X = x_poly_train\n",
        "# test_X = x_poly_test ###uncomment 3 cells above for another test"
      ],
      "metadata": {
        "id": "aRyNs-xm3P3V"
      },
      "execution_count": null,
      "outputs": []
    },
    {
      "cell_type": "code",
      "source": [
        "lr = LinearRegression()\n",
        "llr = Lasso(alpha=0.1)\n",
        "rr = Ridge(alpha=1.0)\n",
        "dr = DummyRegressor(strategy=\"mean\")\n",
        "svr = SVR(kernel = 'linear')\n",
        "dtr = DecisionTreeRegressor(max_depth=20)\n",
        "\n",
        "lr.fit(train_X, train_y)\n",
        "llr.fit(train_X, train_y)\n",
        "rr.fit(train_X, train_y)\n",
        "dr.fit(train_X, train_y)\n",
        "# svr.fit(train_X, train_y)\n",
        "dtr.fit(train_X, train_y)"
      ],
      "metadata": {
        "id": "hgPnLd6CDp97",
        "pycharm": {
          "name": "#%%\n"
        }
      },
      "execution_count": null,
      "outputs": []
    },
    {
      "cell_type": "code",
      "source": [
        "lr.score(train_X, train_y)\n",
        "# cross_val_score(dtr, train_X, train_y, cv=5)"
      ],
      "metadata": {
        "id": "yTWMTpu5FPwV",
        "outputId": "5345afac-8026-4acf-c873-cb7e82dc3904",
        "colab": {
          "base_uri": "https://localhost:8080/"
        },
        "pycharm": {
          "name": "#%%\n"
        }
      },
      "execution_count": null,
      "outputs": [
        {
          "output_type": "execute_result",
          "data": {
            "text/plain": [
              "-0.45015632372241976"
            ]
          },
          "metadata": {},
          "execution_count": 264
        }
      ]
    },
    {
      "cell_type": "code",
      "source": [
        "lr_pred = lr.predict(test_X)\n",
        "dr_pred = dr.predict(test_X)\n",
        "rr_pred = rr.predict(test_X)\n",
        "svr_pred = svr.predict(test_X)\n",
        "dtr_pred = dtr.predict(test_X)\n",
        "llr_pred = llr.predict(test_X)\n",
        "nn_pred = model.predict(test_X)"
      ],
      "metadata": {
        "id": "optrqxHUEyKH",
        "pycharm": {
          "name": "#%%\n"
        },
        "colab": {
          "base_uri": "https://localhost:8080/"
        },
        "outputId": "34c6d04a-cd2f-4617-ba70-aa8975e0ad83"
      },
      "execution_count": null,
      "outputs": [
        {
          "output_type": "stream",
          "name": "stdout",
          "text": [
            "298/298 [==============================] - 1s 1ms/step\n"
          ]
        }
      ]
    },
    {
      "cell_type": "code",
      "source": [
        "# plt.scatter()"
      ],
      "metadata": {
        "id": "t1cW8q4t2QNS"
      },
      "execution_count": null,
      "outputs": []
    },
    {
      "cell_type": "code",
      "source": [
        "def ret_metrics(test_y, pred):\n",
        "\n",
        "  mae = metrics.mean_absolute_error(test_y, pred)\n",
        "  mse = metrics.mean_squared_error(test_y, pred)\n",
        "  rmse = np.sqrt(mse)\n",
        "\n",
        "  return(mae, mse, rmse)"
      ],
      "metadata": {
        "id": "N1OJ4OckIQ0T",
        "pycharm": {
          "name": "#%%\n"
        }
      },
      "execution_count": null,
      "outputs": []
    },
    {
      "cell_type": "code",
      "source": [
        "print(f\"LR metrics for mae, mse, rmse are: {ret_metrics(test_y, lr_pred)}\")\n",
        "print(f\"LLR metrics for mae, mse, rmse are: {ret_metrics(test_y, llr_pred)}\")\n",
        "print(f\"DR metrics for mae, mse, rmse are: {ret_metrics(test_y, dr_pred)}\")\n",
        "print(f\"RR metrics for mae, mse, rmse are: {ret_metrics(test_y, rr_pred)}\")\n",
        "# print(f\"SVR metrics for mae, mse, rmse are: {ret_metrics(test_y, svr_pred)}\")\n",
        "print(f\"DTR metrics for mae, mse, rmse are: {ret_metrics(test_y, dtr_pred)}\")\n",
        "print(f\"NN metrics for mae, mse, rmse are: {ret_metrics(test_y, nn_pred)}\")\n"
      ],
      "metadata": {
        "id": "ZDDvGnRpE5Mz",
        "outputId": "8f90b128-b05e-4e97-9667-d1045dee37d5",
        "colab": {
          "base_uri": "https://localhost:8080/"
        },
        "pycharm": {
          "name": "#%%\n"
        }
      },
      "execution_count": null,
      "outputs": [
        {
          "output_type": "stream",
          "name": "stdout",
          "text": [
            "LR metrics for mae, mse, rmse are: (1.7588553799937643, 9.381879965314749, 3.062985466063257)\n",
            "LLR metrics for mae, mse, rmse are: (1.7070496710134206, 6.345125059315302, 2.518953167352522)\n",
            "DR metrics for mae, mse, rmse are: (1.7067541313412653, 6.3547621676773645, 2.5208653608785543)\n",
            "RR metrics for mae, mse, rmse are: (1.7071913367598424, 6.345914121045821, 2.5191097874141613)\n",
            "DTR metrics for mae, mse, rmse are: (1.9157080678780172, 9.932978068829748, 3.15166274668305)\n",
            "NN metrics for mae, mse, rmse are: (1.4583262540606725, 7.358182536044981, 2.712597009517813)\n"
          ]
        }
      ]
    },
    {
      "cell_type": "code",
      "source": [
        "preds_df = pd.DataFrame({\"true\":test_y, \"lr\":lr_pred, \"dr\":dr_pred, \"rr\":rr_pred, \"svr\":-1, \"dtr\":dtr_pred, \"llr\":llr_pred, \"nn\": nn_pred[:,0]})"
      ],
      "metadata": {
        "id": "2jHy5LJXGt-z",
        "pycharm": {
          "name": "#%%\n"
        }
      },
      "execution_count": null,
      "outputs": []
    },
    {
      "cell_type": "code",
      "source": [
        "preds_df"
      ],
      "metadata": {
        "id": "A784hHYPHV_6",
        "outputId": "8d1b8400-950c-439f-8b50-b6e70face7f2",
        "colab": {
          "base_uri": "https://localhost:8080/",
          "height": 419
        },
        "pycharm": {
          "name": "#%%\n"
        }
      },
      "execution_count": null,
      "outputs": [
        {
          "output_type": "execute_result",
          "data": {
            "text/plain": [
              "           true        lr        dr        rr  svr       dtr       llr  \\\n",
              "14802  0.080764 -0.016760  1.766782  1.750022   -1  1.161643  1.750017   \n",
              "36376  0.758520 -0.018717  1.766782  1.748065   -1  1.766222  1.748382   \n",
              "25220  0.943855 -0.110610  1.766782  1.656172   -1  1.246115  1.657820   \n",
              "42510  2.302350  0.022699  1.766782  1.789481   -1  1.766222  1.788978   \n",
              "1640   0.712014  0.000132  1.766782  1.766914   -1  1.766222  1.767185   \n",
              "...         ...       ...       ...       ...  ...       ...       ...   \n",
              "34212  0.117072 -0.041265  1.766782  1.725516   -1  0.626705  1.726151   \n",
              "5273   0.203402  0.250357  1.766782  2.017139   -1  0.600409  2.012226   \n",
              "32211  4.981957 -0.010655  1.766782  1.756127   -1  1.573673  1.756324   \n",
              "32415  2.160767 -0.029369  1.766782  1.737413   -1  0.466215  1.737860   \n",
              "18501  0.732382 -0.032912  1.766782  1.733870   -1  0.509019  1.733230   \n",
              "\n",
              "             nn  \n",
              "14802  0.766650  \n",
              "36376  0.615064  \n",
              "25220  0.545203  \n",
              "42510  0.834347  \n",
              "1640   0.807090  \n",
              "...         ...  \n",
              "34212  0.579662  \n",
              "5273   0.634384  \n",
              "32211  0.726730  \n",
              "32415  0.635902  \n",
              "18501  0.970526  \n",
              "\n",
              "[9533 rows x 8 columns]"
            ],
            "text/html": [
              "\n",
              "  <div id=\"df-ec79f2e5-7a05-46f0-a501-30efa66bc16a\">\n",
              "    <div class=\"colab-df-container\">\n",
              "      <div>\n",
              "<style scoped>\n",
              "    .dataframe tbody tr th:only-of-type {\n",
              "        vertical-align: middle;\n",
              "    }\n",
              "\n",
              "    .dataframe tbody tr th {\n",
              "        vertical-align: top;\n",
              "    }\n",
              "\n",
              "    .dataframe thead th {\n",
              "        text-align: right;\n",
              "    }\n",
              "</style>\n",
              "<table border=\"1\" class=\"dataframe\">\n",
              "  <thead>\n",
              "    <tr style=\"text-align: right;\">\n",
              "      <th></th>\n",
              "      <th>true</th>\n",
              "      <th>lr</th>\n",
              "      <th>dr</th>\n",
              "      <th>rr</th>\n",
              "      <th>svr</th>\n",
              "      <th>dtr</th>\n",
              "      <th>llr</th>\n",
              "      <th>nn</th>\n",
              "    </tr>\n",
              "  </thead>\n",
              "  <tbody>\n",
              "    <tr>\n",
              "      <th>14802</th>\n",
              "      <td>0.080764</td>\n",
              "      <td>-0.016760</td>\n",
              "      <td>1.766782</td>\n",
              "      <td>1.750022</td>\n",
              "      <td>-1</td>\n",
              "      <td>1.161643</td>\n",
              "      <td>1.750017</td>\n",
              "      <td>0.766650</td>\n",
              "    </tr>\n",
              "    <tr>\n",
              "      <th>36376</th>\n",
              "      <td>0.758520</td>\n",
              "      <td>-0.018717</td>\n",
              "      <td>1.766782</td>\n",
              "      <td>1.748065</td>\n",
              "      <td>-1</td>\n",
              "      <td>1.766222</td>\n",
              "      <td>1.748382</td>\n",
              "      <td>0.615064</td>\n",
              "    </tr>\n",
              "    <tr>\n",
              "      <th>25220</th>\n",
              "      <td>0.943855</td>\n",
              "      <td>-0.110610</td>\n",
              "      <td>1.766782</td>\n",
              "      <td>1.656172</td>\n",
              "      <td>-1</td>\n",
              "      <td>1.246115</td>\n",
              "      <td>1.657820</td>\n",
              "      <td>0.545203</td>\n",
              "    </tr>\n",
              "    <tr>\n",
              "      <th>42510</th>\n",
              "      <td>2.302350</td>\n",
              "      <td>0.022699</td>\n",
              "      <td>1.766782</td>\n",
              "      <td>1.789481</td>\n",
              "      <td>-1</td>\n",
              "      <td>1.766222</td>\n",
              "      <td>1.788978</td>\n",
              "      <td>0.834347</td>\n",
              "    </tr>\n",
              "    <tr>\n",
              "      <th>1640</th>\n",
              "      <td>0.712014</td>\n",
              "      <td>0.000132</td>\n",
              "      <td>1.766782</td>\n",
              "      <td>1.766914</td>\n",
              "      <td>-1</td>\n",
              "      <td>1.766222</td>\n",
              "      <td>1.767185</td>\n",
              "      <td>0.807090</td>\n",
              "    </tr>\n",
              "    <tr>\n",
              "      <th>...</th>\n",
              "      <td>...</td>\n",
              "      <td>...</td>\n",
              "      <td>...</td>\n",
              "      <td>...</td>\n",
              "      <td>...</td>\n",
              "      <td>...</td>\n",
              "      <td>...</td>\n",
              "      <td>...</td>\n",
              "    </tr>\n",
              "    <tr>\n",
              "      <th>34212</th>\n",
              "      <td>0.117072</td>\n",
              "      <td>-0.041265</td>\n",
              "      <td>1.766782</td>\n",
              "      <td>1.725516</td>\n",
              "      <td>-1</td>\n",
              "      <td>0.626705</td>\n",
              "      <td>1.726151</td>\n",
              "      <td>0.579662</td>\n",
              "    </tr>\n",
              "    <tr>\n",
              "      <th>5273</th>\n",
              "      <td>0.203402</td>\n",
              "      <td>0.250357</td>\n",
              "      <td>1.766782</td>\n",
              "      <td>2.017139</td>\n",
              "      <td>-1</td>\n",
              "      <td>0.600409</td>\n",
              "      <td>2.012226</td>\n",
              "      <td>0.634384</td>\n",
              "    </tr>\n",
              "    <tr>\n",
              "      <th>32211</th>\n",
              "      <td>4.981957</td>\n",
              "      <td>-0.010655</td>\n",
              "      <td>1.766782</td>\n",
              "      <td>1.756127</td>\n",
              "      <td>-1</td>\n",
              "      <td>1.573673</td>\n",
              "      <td>1.756324</td>\n",
              "      <td>0.726730</td>\n",
              "    </tr>\n",
              "    <tr>\n",
              "      <th>32415</th>\n",
              "      <td>2.160767</td>\n",
              "      <td>-0.029369</td>\n",
              "      <td>1.766782</td>\n",
              "      <td>1.737413</td>\n",
              "      <td>-1</td>\n",
              "      <td>0.466215</td>\n",
              "      <td>1.737860</td>\n",
              "      <td>0.635902</td>\n",
              "    </tr>\n",
              "    <tr>\n",
              "      <th>18501</th>\n",
              "      <td>0.732382</td>\n",
              "      <td>-0.032912</td>\n",
              "      <td>1.766782</td>\n",
              "      <td>1.733870</td>\n",
              "      <td>-1</td>\n",
              "      <td>0.509019</td>\n",
              "      <td>1.733230</td>\n",
              "      <td>0.970526</td>\n",
              "    </tr>\n",
              "  </tbody>\n",
              "</table>\n",
              "<p>9533 rows × 8 columns</p>\n",
              "</div>\n",
              "      <button class=\"colab-df-convert\" onclick=\"convertToInteractive('df-ec79f2e5-7a05-46f0-a501-30efa66bc16a')\"\n",
              "              title=\"Convert this dataframe to an interactive table.\"\n",
              "              style=\"display:none;\">\n",
              "        \n",
              "  <svg xmlns=\"http://www.w3.org/2000/svg\" height=\"24px\"viewBox=\"0 0 24 24\"\n",
              "       width=\"24px\">\n",
              "    <path d=\"M0 0h24v24H0V0z\" fill=\"none\"/>\n",
              "    <path d=\"M18.56 5.44l.94 2.06.94-2.06 2.06-.94-2.06-.94-.94-2.06-.94 2.06-2.06.94zm-11 1L8.5 8.5l.94-2.06 2.06-.94-2.06-.94L8.5 2.5l-.94 2.06-2.06.94zm10 10l.94 2.06.94-2.06 2.06-.94-2.06-.94-.94-2.06-.94 2.06-2.06.94z\"/><path d=\"M17.41 7.96l-1.37-1.37c-.4-.4-.92-.59-1.43-.59-.52 0-1.04.2-1.43.59L10.3 9.45l-7.72 7.72c-.78.78-.78 2.05 0 2.83L4 21.41c.39.39.9.59 1.41.59.51 0 1.02-.2 1.41-.59l7.78-7.78 2.81-2.81c.8-.78.8-2.07 0-2.86zM5.41 20L4 18.59l7.72-7.72 1.47 1.35L5.41 20z\"/>\n",
              "  </svg>\n",
              "      </button>\n",
              "      \n",
              "  <style>\n",
              "    .colab-df-container {\n",
              "      display:flex;\n",
              "      flex-wrap:wrap;\n",
              "      gap: 12px;\n",
              "    }\n",
              "\n",
              "    .colab-df-convert {\n",
              "      background-color: #E8F0FE;\n",
              "      border: none;\n",
              "      border-radius: 50%;\n",
              "      cursor: pointer;\n",
              "      display: none;\n",
              "      fill: #1967D2;\n",
              "      height: 32px;\n",
              "      padding: 0 0 0 0;\n",
              "      width: 32px;\n",
              "    }\n",
              "\n",
              "    .colab-df-convert:hover {\n",
              "      background-color: #E2EBFA;\n",
              "      box-shadow: 0px 1px 2px rgba(60, 64, 67, 0.3), 0px 1px 3px 1px rgba(60, 64, 67, 0.15);\n",
              "      fill: #174EA6;\n",
              "    }\n",
              "\n",
              "    [theme=dark] .colab-df-convert {\n",
              "      background-color: #3B4455;\n",
              "      fill: #D2E3FC;\n",
              "    }\n",
              "\n",
              "    [theme=dark] .colab-df-convert:hover {\n",
              "      background-color: #434B5C;\n",
              "      box-shadow: 0px 1px 3px 1px rgba(0, 0, 0, 0.15);\n",
              "      filter: drop-shadow(0px 1px 2px rgba(0, 0, 0, 0.3));\n",
              "      fill: #FFFFFF;\n",
              "    }\n",
              "  </style>\n",
              "\n",
              "      <script>\n",
              "        const buttonEl =\n",
              "          document.querySelector('#df-ec79f2e5-7a05-46f0-a501-30efa66bc16a button.colab-df-convert');\n",
              "        buttonEl.style.display =\n",
              "          google.colab.kernel.accessAllowed ? 'block' : 'none';\n",
              "\n",
              "        async function convertToInteractive(key) {\n",
              "          const element = document.querySelector('#df-ec79f2e5-7a05-46f0-a501-30efa66bc16a');\n",
              "          const dataTable =\n",
              "            await google.colab.kernel.invokeFunction('convertToInteractive',\n",
              "                                                     [key], {});\n",
              "          if (!dataTable) return;\n",
              "\n",
              "          const docLinkHtml = 'Like what you see? Visit the ' +\n",
              "            '<a target=\"_blank\" href=https://colab.research.google.com/notebooks/data_table.ipynb>data table notebook</a>'\n",
              "            + ' to learn more about interactive tables.';\n",
              "          element.innerHTML = '';\n",
              "          dataTable['output_type'] = 'display_data';\n",
              "          await google.colab.output.renderOutput(dataTable, element);\n",
              "          const docLink = document.createElement('div');\n",
              "          docLink.innerHTML = docLinkHtml;\n",
              "          element.appendChild(docLink);\n",
              "        }\n",
              "      </script>\n",
              "    </div>\n",
              "  </div>\n",
              "  "
            ]
          },
          "metadata": {},
          "execution_count": 270
        }
      ]
    },
    {
      "cell_type": "code",
      "source": [
        "lists = sorted(zip(*[test_y, dr_pred]))\n",
        "sorted_x_test, sorted_y_test_pred = list(zip(*lists))\n",
        "pca_n = 1\n",
        "\n",
        "\n",
        "# plt.plot(pca_train_X[:,pca_n],train_y,'.',color=\"darkblue\", alpha=0.3,label=\"Train data\")\n",
        "plt.plot(pca_test_X[:,pca_n],test_y,'.',color='darkgreen', alpha=0.3, label=\"Test data\")\n",
        "plt.ylabel('Relative Title Quality')\n",
        "plt.xlabel('PCA componenet')\n",
        "\n",
        "plt.plot(sorted_x_test,sorted_y_test_pred,color='#FD8E70',linewidth=3, label=\"Model preds\")\n",
        "\n",
        "plt.legend()\n",
        "plt.show()"
      ],
      "metadata": {
        "id": "soIFw58rHWCp",
        "pycharm": {
          "name": "#%%\n"
        },
        "outputId": "55d52ca2-6467-413b-de36-a1059b11d1b5",
        "colab": {
          "base_uri": "https://localhost:8080/",
          "height": 279
        }
      },
      "execution_count": null,
      "outputs": [
        {
          "output_type": "display_data",
          "data": {
            "text/plain": [
              "<Figure size 432x288 with 1 Axes>"
            ],
            "image/png": "[encoded data removed]"
          },
          "metadata": {
            "needs_background": "light"
          }
        }
      ]
    },
    {
      "cell_type": "code",
      "source": [],
      "metadata": {
        "id": "_cQKF_YYHWQu",
        "pycharm": {
          "name": "#%%\n"
        }
      },
      "execution_count": null,
      "outputs": []
    }
  ],
  "metadata": {
    "colab": {
      "provenance": [],
      "include_colab_link": true
    },
    "kernelspec": {
      "display_name": "Python 3.10.4 ('dataenv')",
      "language": "python",
      "name": "python3"
    },
    "language_info": {
      "name": "python",
      "version": "3.10.4"
    },
    "vscode": {
      "interpreter": {
        "hash": "467f60c46b88ea196e8e4e51716c4f14b05141d893e1660e0038b81da854c476"
      }
    }
  },
  "nbformat": 4,
  "nbformat_minor": 0
}