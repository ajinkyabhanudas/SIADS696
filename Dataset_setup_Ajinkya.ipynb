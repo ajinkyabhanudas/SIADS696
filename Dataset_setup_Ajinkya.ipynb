{
 "cells": [
  {
   "cell_type": "markdown",
   "metadata": {
    "id": "view-in-github",
    "colab_type": "text",
    "pycharm": {
     "name": "#%% md\n"
    }
   },
   "source": [
    "<a href=\"https://colab.research.google.com/github/ajinkyabhanudas/SIADS696/blob/dev/Dataset_setup_Ajinkya.ipynb\" target=\"_parent\"><img src=\"https://colab.research.google.com/assets/colab-badge.svg\" alt=\"Open In Colab\"/></a>"
   ]
  },
  {
   "cell_type": "markdown",
   "source": [
    "#This notebook works on the first step of the train pipeline: data loading \n",
    "- The idea is to use the contents of this notebook as a makefile target so it can be the first step to run as we keep populating our datastore.\n",
    "\n",
    "\n",
    "\n",
    "\n",
    "\n",
    "\n"
   ],
   "metadata": {
    "id": "Fa2YEr7pT6zt",
    "pycharm": {
     "name": "#%% md\n"
    }
   }
  },
  {
   "cell_type": "code",
   "execution_count": 134,
   "metadata": {
    "id": "pWqb-vn_hFCU",
    "outputId": "cef04104-e5ad-49ce-ee55-704b419642ac",
    "colab": {
     "base_uri": "https://localhost:8080/"
    },
    "pycharm": {
     "name": "#%%\n"
    }
   },
   "outputs": [
    {
     "output_type": "stream",
     "name": "stdout",
     "text": [
      "Cloning into 'SIADS696'...\n",
      "remote: Enumerating objects: 411, done.\u001B[K\n",
      "remote: Counting objects: 100% (190/190), done.\u001B[K\n",
      "remote: Compressing objects: 100% (145/145), done.\u001B[K\n",
      "remote: Total 411 (delta 92), reused 96 (delta 45), pack-reused 221\u001B[K\n",
      "Receiving objects: 100% (411/411), 21.60 MiB | 18.49 MiB/s, done.\n",
      "Resolving deltas: 100% (216/216), done.\n"
     ]
    }
   ],
   "source": [
    "!git clone https://github.com/ajinkyabhanudas/SIADS696.git"
   ]
  },
  {
   "cell_type": "code",
   "source": [
    "import enum\n",
    "import glob\n",
    "import json\n",
    "import os\n",
    "import re\n",
    "from itertools import groupby\n",
    "\n",
    "from gensim.models import Word2Vec\n",
    "import nltk\n",
    "from nltk.corpus import stopwords\n",
    "import numpy as np\n",
    "import pandas as pd\n",
    "\n",
    "import warnings\n",
    "warnings.simplefilter(action='ignore')"
   ],
   "metadata": {
    "id": "qe2qOLWocWZz",
    "pycharm": {
     "name": "#%%\n"
    }
   },
   "execution_count": 303,
   "outputs": []
  },
  {
   "cell_type": "code",
   "source": [
    "nltk.download('punkt')\n",
    "nltk.download('stopwords')"
   ],
   "metadata": {
    "colab": {
     "base_uri": "https://localhost:8080/"
    },
    "id": "cY7AW03EX3a2",
    "outputId": "5a14d261-529c-4cb6-d40c-424e87ab2582",
    "pycharm": {
     "name": "#%%\n"
    }
   },
   "execution_count": 136,
   "outputs": [
    {
     "output_type": "stream",
     "name": "stderr",
     "text": [
      "[nltk_data] Downloading package punkt to /root/nltk_data...\n",
      "[nltk_data]   Package punkt is already up-to-date!\n",
      "[nltk_data] Downloading package stopwords to /root/nltk_data...\n",
      "[nltk_data]   Package stopwords is already up-to-date!\n"
     ]
    },
    {
     "output_type": "execute_result",
     "data": {
      "text/plain": [
       "True"
      ]
     },
     "metadata": {},
     "execution_count": 136
    }
   ]
  },
  {
   "cell_type": "code",
   "source": [
    "try:\n",
    "  os.chdir('SIADS696')\n",
    "except:\n",
    "  print(\"You're either already in the SIADS696 directory, or the path specified isn't accessible\")"
   ],
   "metadata": {
    "id": "ZjuCnSlVckSC",
    "pycharm": {
     "name": "#%%\n"
    }
   },
   "execution_count": 137,
   "outputs": []
  },
  {
   "cell_type": "markdown",
   "source": [
    "### We'll extract our dataset in two parts:\n",
    "- first extract the overall stats data per channel and store it along with the channel name instead of the id for available channels. (`overall_stats_raw_df`)\n",
    "- And second, extract the per-video data into another dataframe. (`raw_df`)"
   ],
   "metadata": {
    "id": "s72nxVxjlZGi",
    "pycharm": {
     "name": "#%% md\n"
    }
   }
  },
  {
   "cell_type": "code",
   "source": [
    "rootdir = 'data'\n",
    "feature_list = ['publishedAt', 'title', 'channelId', 'description',\n",
    "                'channelTitle', 'tags', 'categoryId', 'viewCount', \n",
    "                'likeCount', 'favoriteCount', 'commentCount', 'duration',\n",
    "                'definition', 'contentRating', 'topicCategories']\n",
    "\n",
    "ov_dict_list = []\n",
    "ov_temp_dict = {}\n",
    "\n",
    "dict_list = []\n",
    "temp_dict = {}\n",
    "\n",
    "for path in glob.glob(f'./{rootdir}/*/*'):\n",
    "  try:\n",
    "    with open(path, \"r\") as read_file:\n",
    "      data = json.load(read_file)\n",
    "    for channel_id in data.keys():\n",
    "      ov_temp_dict = data[channel_id][\"channel_statistics\"]\n",
    "      channel_name = list(data[channel_id][\"video_data\"].keys())[0]\n",
    "      ov_temp_dict[\"channelName\"] = data[channel_id][\"video_data\"][channel_name][\"channelTitle\"]\n",
    "      ov_dict_list.append(ov_temp_dict)\n",
    "      \n",
    "      for video_info in data[channel_id][\"video_data\"].values():\n",
    "        temp_dict = video_info\n",
    "        dict_list.append(temp_dict)       \n",
    "  except:\n",
    "    pass\n",
    "\n",
    "overall_stats_raw_df = pd.DataFrame(ov_dict_list)\n",
    "overall_stats_raw_df.drop(\"hiddenSubscriberCount\", axis=1, inplace=True)\n",
    "\n",
    "raw_df = pd.DataFrame(dict_list)\n",
    "raw_df = raw_df[feature_list]"
   ],
   "metadata": {
    "id": "KSTlEX8FBNQ0",
    "pycharm": {
     "name": "#%%\n"
    }
   },
   "execution_count": 290,
   "outputs": []
  },
  {
   "cell_type": "markdown",
   "source": [
    "### Next, let's do a quick check on the data and take a quick look at the data in both the dfs"
   ],
   "metadata": {
    "id": "wx8sIaskERjq",
    "pycharm": {
     "name": "#%% md\n"
    }
   }
  },
  {
   "cell_type": "code",
   "source": [
    "raw_df.info()\n",
    "raw_df.sample(5)"
   ],
   "metadata": {
    "id": "l4WxiXQRC1aY",
    "outputId": "769cdc46-0fba-4aa3-f943-3aad9119b760",
    "colab": {
     "base_uri": "https://localhost:8080/",
     "height": 1000
    },
    "pycharm": {
     "name": "#%%\n"
    }
   },
   "execution_count": 291,
   "outputs": [
    {
     "output_type": "stream",
     "name": "stdout",
     "text": [
      "<class 'pandas.core.frame.DataFrame'>\n",
      "RangeIndex: 33696 entries, 0 to 33695\n",
      "Data columns (total 15 columns):\n",
      " #   Column           Non-Null Count  Dtype \n",
      "---  ------           --------------  ----- \n",
      " 0   publishedAt      33696 non-null  object\n",
      " 1   title            33696 non-null  object\n",
      " 2   channelId        33677 non-null  object\n",
      " 3   description      33677 non-null  object\n",
      " 4   channelTitle     33677 non-null  object\n",
      " 5   tags             32423 non-null  object\n",
      " 6   categoryId       33677 non-null  object\n",
      " 7   viewCount        33648 non-null  object\n",
      " 8   likeCount        33200 non-null  object\n",
      " 9   favoriteCount    33676 non-null  object\n",
      " 10  commentCount     33235 non-null  object\n",
      " 11  duration         33674 non-null  object\n",
      " 12  definition       33674 non-null  object\n",
      " 13  contentRating    33674 non-null  object\n",
      " 14  topicCategories  33109 non-null  object\n",
      "dtypes: object(15)\n",
      "memory usage: 3.9+ MB\n"
     ]
    },
    {
     "output_type": "execute_result",
     "data": {
      "text/plain": [
       "                publishedAt  \\\n",
       "14818  2014-12-09T19:08:09Z   \n",
       "11029  2012-01-24T16:05:18Z   \n",
       "14257  2014-07-28T17:00:05Z   \n",
       "16210  2021-05-08T19:00:03Z   \n",
       "8981   2022-07-14T22:39:35Z   \n",
       "\n",
       "                                                   title  \\\n",
       "14818  3 Minute Yoga Flow Vinyasa Handstands Hop-ups ...   \n",
       "11029     2NE1 years old & my Slutty Frog Dog - vlog #55   \n",
       "14257                Yoga Backbends: Ustrasana with Kino   \n",
       "16210        Can You Escape Being Duct Taped To A Chair?   \n",
       "8981   How Japanese longbows are made #shorts #inside...   \n",
       "\n",
       "                      channelId  \\\n",
       "14818  UCcox27Gc-NGbb2-X9hdLaMw   \n",
       "11029  UC_ptyMRLOsS1Uj0a34a_xCA   \n",
       "14257  UCH-81uaxCwAAaSgxRtxMkxg   \n",
       "16210  UC1zZE_kJ8rQHgLTVfobLi_g   \n",
       "8981   UCHJuQZuzapBh-CuhRYxIZrg   \n",
       "\n",
       "                                             description      channelTitle  \\\n",
       "14818  3 Minute Yoga Flow Vinyasa Handstands Hop-ups ...  Fightmaster Yoga   \n",
       "11029  Hooray! I'm an old fart now!\\r\\n\\r\\nThank you ...         Chonnyday   \n",
       "14257  If you’re looking for yoga videos that will sh...          KinoYoga   \n",
       "16210  Today Nate, Calli, and Grace are taking three ...              TKOR   \n",
       "8981   ----------------------------------------------...           Insider   \n",
       "\n",
       "                                                    tags categoryId viewCount  \\\n",
       "14818  [3 minute yoga, handstands, yoga handstands, y...         26      8894   \n",
       "11029  [watch, out, for, that, ghost, lady, in, your,...         22    413643   \n",
       "14257  [Kino Yoga, #KinoYoga, Yoga, Ashtanga, Ashtang...         26     39131   \n",
       "16210  [water bottle flip challenges, water bottle fl...         27    365906   \n",
       "8981                                           [Insider]         17    338512   \n",
       "\n",
       "      likeCount favoriteCount commentCount duration definition contentRating  \\\n",
       "14818       194             0           13  PT3M23S         hd            {}   \n",
       "11029      5517             0         1081  PT3M56S         hd            {}   \n",
       "14257       486             0           29  PT4M31S         hd            {}   \n",
       "16210     12744             0         1830  PT8M19S         hd            {}   \n",
       "8981      14064             0          105    PT44S         hd            {}   \n",
       "\n",
       "                                         topicCategories  \n",
       "14818  [https://en.wikipedia.org/wiki/Lifestyle_(soci...  \n",
       "11029  [https://en.wikipedia.org/wiki/Lifestyle_(soci...  \n",
       "14257  [https://en.wikipedia.org/wiki/Lifestyle_(soci...  \n",
       "16210  [https://en.wikipedia.org/wiki/Food, https://e...  \n",
       "8981   [https://en.wikipedia.org/wiki/Hobby, https://...  "
      ],
      "text/html": [
       "\n",
       "  <div id=\"df-5a5e08d2-2077-4401-9648-99df473b70d9\">\n",
       "    <div class=\"colab-df-container\">\n",
       "      <div>\n",
       "<style scoped>\n",
       "    .dataframe tbody tr th:only-of-type {\n",
       "        vertical-align: middle;\n",
       "    }\n",
       "\n",
       "    .dataframe tbody tr th {\n",
       "        vertical-align: top;\n",
       "    }\n",
       "\n",
       "    .dataframe thead th {\n",
       "        text-align: right;\n",
       "    }\n",
       "</style>\n",
       "<table border=\"1\" class=\"dataframe\">\n",
       "  <thead>\n",
       "    <tr style=\"text-align: right;\">\n",
       "      <th></th>\n",
       "      <th>publishedAt</th>\n",
       "      <th>title</th>\n",
       "      <th>channelId</th>\n",
       "      <th>description</th>\n",
       "      <th>channelTitle</th>\n",
       "      <th>tags</th>\n",
       "      <th>categoryId</th>\n",
       "      <th>viewCount</th>\n",
       "      <th>likeCount</th>\n",
       "      <th>favoriteCount</th>\n",
       "      <th>commentCount</th>\n",
       "      <th>duration</th>\n",
       "      <th>definition</th>\n",
       "      <th>contentRating</th>\n",
       "      <th>topicCategories</th>\n",
       "    </tr>\n",
       "  </thead>\n",
       "  <tbody>\n",
       "    <tr>\n",
       "      <th>14818</th>\n",
       "      <td>2014-12-09T19:08:09Z</td>\n",
       "      <td>3 Minute Yoga Flow Vinyasa Handstands Hop-ups ...</td>\n",
       "      <td>UCcox27Gc-NGbb2-X9hdLaMw</td>\n",
       "      <td>3 Minute Yoga Flow Vinyasa Handstands Hop-ups ...</td>\n",
       "      <td>Fightmaster Yoga</td>\n",
       "      <td>[3 minute yoga, handstands, yoga handstands, y...</td>\n",
       "      <td>26</td>\n",
       "      <td>8894</td>\n",
       "      <td>194</td>\n",
       "      <td>0</td>\n",
       "      <td>13</td>\n",
       "      <td>PT3M23S</td>\n",
       "      <td>hd</td>\n",
       "      <td>{}</td>\n",
       "      <td>[https://en.wikipedia.org/wiki/Lifestyle_(soci...</td>\n",
       "    </tr>\n",
       "    <tr>\n",
       "      <th>11029</th>\n",
       "      <td>2012-01-24T16:05:18Z</td>\n",
       "      <td>2NE1 years old &amp; my Slutty Frog Dog - vlog #55</td>\n",
       "      <td>UC_ptyMRLOsS1Uj0a34a_xCA</td>\n",
       "      <td>Hooray! I'm an old fart now!\\r\\n\\r\\nThank you ...</td>\n",
       "      <td>Chonnyday</td>\n",
       "      <td>[watch, out, for, that, ghost, lady, in, your,...</td>\n",
       "      <td>22</td>\n",
       "      <td>413643</td>\n",
       "      <td>5517</td>\n",
       "      <td>0</td>\n",
       "      <td>1081</td>\n",
       "      <td>PT3M56S</td>\n",
       "      <td>hd</td>\n",
       "      <td>{}</td>\n",
       "      <td>[https://en.wikipedia.org/wiki/Lifestyle_(soci...</td>\n",
       "    </tr>\n",
       "    <tr>\n",
       "      <th>14257</th>\n",
       "      <td>2014-07-28T17:00:05Z</td>\n",
       "      <td>Yoga Backbends: Ustrasana with Kino</td>\n",
       "      <td>UCH-81uaxCwAAaSgxRtxMkxg</td>\n",
       "      <td>If you’re looking for yoga videos that will sh...</td>\n",
       "      <td>KinoYoga</td>\n",
       "      <td>[Kino Yoga, #KinoYoga, Yoga, Ashtanga, Ashtang...</td>\n",
       "      <td>26</td>\n",
       "      <td>39131</td>\n",
       "      <td>486</td>\n",
       "      <td>0</td>\n",
       "      <td>29</td>\n",
       "      <td>PT4M31S</td>\n",
       "      <td>hd</td>\n",
       "      <td>{}</td>\n",
       "      <td>[https://en.wikipedia.org/wiki/Lifestyle_(soci...</td>\n",
       "    </tr>\n",
       "    <tr>\n",
       "      <th>16210</th>\n",
       "      <td>2021-05-08T19:00:03Z</td>\n",
       "      <td>Can You Escape Being Duct Taped To A Chair?</td>\n",
       "      <td>UC1zZE_kJ8rQHgLTVfobLi_g</td>\n",
       "      <td>Today Nate, Calli, and Grace are taking three ...</td>\n",
       "      <td>TKOR</td>\n",
       "      <td>[water bottle flip challenges, water bottle fl...</td>\n",
       "      <td>27</td>\n",
       "      <td>365906</td>\n",
       "      <td>12744</td>\n",
       "      <td>0</td>\n",
       "      <td>1830</td>\n",
       "      <td>PT8M19S</td>\n",
       "      <td>hd</td>\n",
       "      <td>{}</td>\n",
       "      <td>[https://en.wikipedia.org/wiki/Food, https://e...</td>\n",
       "    </tr>\n",
       "    <tr>\n",
       "      <th>8981</th>\n",
       "      <td>2022-07-14T22:39:35Z</td>\n",
       "      <td>How Japanese longbows are made #shorts #inside...</td>\n",
       "      <td>UCHJuQZuzapBh-CuhRYxIZrg</td>\n",
       "      <td>----------------------------------------------...</td>\n",
       "      <td>Insider</td>\n",
       "      <td>[Insider]</td>\n",
       "      <td>17</td>\n",
       "      <td>338512</td>\n",
       "      <td>14064</td>\n",
       "      <td>0</td>\n",
       "      <td>105</td>\n",
       "      <td>PT44S</td>\n",
       "      <td>hd</td>\n",
       "      <td>{}</td>\n",
       "      <td>[https://en.wikipedia.org/wiki/Hobby, https://...</td>\n",
       "    </tr>\n",
       "  </tbody>\n",
       "</table>\n",
       "</div>\n",
       "      <button class=\"colab-df-convert\" onclick=\"convertToInteractive('df-5a5e08d2-2077-4401-9648-99df473b70d9')\"\n",
       "              title=\"Convert this dataframe to an interactive table.\"\n",
       "              style=\"display:none;\">\n",
       "        \n",
       "  <svg xmlns=\"http://www.w3.org/2000/svg\" height=\"24px\"viewBox=\"0 0 24 24\"\n",
       "       width=\"24px\">\n",
       "    <path d=\"M0 0h24v24H0V0z\" fill=\"none\"/>\n",
       "    <path d=\"M18.56 5.44l.94 2.06.94-2.06 2.06-.94-2.06-.94-.94-2.06-.94 2.06-2.06.94zm-11 1L8.5 8.5l.94-2.06 2.06-.94-2.06-.94L8.5 2.5l-.94 2.06-2.06.94zm10 10l.94 2.06.94-2.06 2.06-.94-2.06-.94-.94-2.06-.94 2.06-2.06.94z\"/><path d=\"M17.41 7.96l-1.37-1.37c-.4-.4-.92-.59-1.43-.59-.52 0-1.04.2-1.43.59L10.3 9.45l-7.72 7.72c-.78.78-.78 2.05 0 2.83L4 21.41c.39.39.9.59 1.41.59.51 0 1.02-.2 1.41-.59l7.78-7.78 2.81-2.81c.8-.78.8-2.07 0-2.86zM5.41 20L4 18.59l7.72-7.72 1.47 1.35L5.41 20z\"/>\n",
       "  </svg>\n",
       "      </button>\n",
       "      \n",
       "  <style>\n",
       "    .colab-df-container {\n",
       "      display:flex;\n",
       "      flex-wrap:wrap;\n",
       "      gap: 12px;\n",
       "    }\n",
       "\n",
       "    .colab-df-convert {\n",
       "      background-color: #E8F0FE;\n",
       "      border: none;\n",
       "      border-radius: 50%;\n",
       "      cursor: pointer;\n",
       "      display: none;\n",
       "      fill: #1967D2;\n",
       "      height: 32px;\n",
       "      padding: 0 0 0 0;\n",
       "      width: 32px;\n",
       "    }\n",
       "\n",
       "    .colab-df-convert:hover {\n",
       "      background-color: #E2EBFA;\n",
       "      box-shadow: 0px 1px 2px rgba(60, 64, 67, 0.3), 0px 1px 3px 1px rgba(60, 64, 67, 0.15);\n",
       "      fill: #174EA6;\n",
       "    }\n",
       "\n",
       "    [theme=dark] .colab-df-convert {\n",
       "      background-color: #3B4455;\n",
       "      fill: #D2E3FC;\n",
       "    }\n",
       "\n",
       "    [theme=dark] .colab-df-convert:hover {\n",
       "      background-color: #434B5C;\n",
       "      box-shadow: 0px 1px 3px 1px rgba(0, 0, 0, 0.15);\n",
       "      filter: drop-shadow(0px 1px 2px rgba(0, 0, 0, 0.3));\n",
       "      fill: #FFFFFF;\n",
       "    }\n",
       "  </style>\n",
       "\n",
       "      <script>\n",
       "        const buttonEl =\n",
       "          document.querySelector('#df-5a5e08d2-2077-4401-9648-99df473b70d9 button.colab-df-convert');\n",
       "        buttonEl.style.display =\n",
       "          google.colab.kernel.accessAllowed ? 'block' : 'none';\n",
       "\n",
       "        async function convertToInteractive(key) {\n",
       "          const element = document.querySelector('#df-5a5e08d2-2077-4401-9648-99df473b70d9');\n",
       "          const dataTable =\n",
       "            await google.colab.kernel.invokeFunction('convertToInteractive',\n",
       "                                                     [key], {});\n",
       "          if (!dataTable) return;\n",
       "\n",
       "          const docLinkHtml = 'Like what you see? Visit the ' +\n",
       "            '<a target=\"_blank\" href=https://colab.research.google.com/notebooks/data_table.ipynb>data table notebook</a>'\n",
       "            + ' to learn more about interactive tables.';\n",
       "          element.innerHTML = '';\n",
       "          dataTable['output_type'] = 'display_data';\n",
       "          await google.colab.output.renderOutput(dataTable, element);\n",
       "          const docLink = document.createElement('div');\n",
       "          docLink.innerHTML = docLinkHtml;\n",
       "          element.appendChild(docLink);\n",
       "        }\n",
       "      </script>\n",
       "    </div>\n",
       "  </div>\n",
       "  "
      ]
     },
     "metadata": {},
     "execution_count": 291
    }
   ]
  },
  {
   "cell_type": "code",
   "source": [
    "overall_stats_raw_df.info()\n",
    "overall_stats_raw_df.sample(5)"
   ],
   "metadata": {
    "id": "bT47uyotFG8o",
    "outputId": "d4d598b2-3e1d-4e40-f136-c3cc51fc07b7",
    "colab": {
     "base_uri": "https://localhost:8080/",
     "height": 391
    },
    "pycharm": {
     "name": "#%%\n"
    }
   },
   "execution_count": 292,
   "outputs": [
    {
     "output_type": "stream",
     "name": "stdout",
     "text": [
      "<class 'pandas.core.frame.DataFrame'>\n",
      "RangeIndex: 86 entries, 0 to 85\n",
      "Data columns (total 4 columns):\n",
      " #   Column           Non-Null Count  Dtype \n",
      "---  ------           --------------  ----- \n",
      " 0   viewCount        86 non-null     object\n",
      " 1   subscriberCount  86 non-null     object\n",
      " 2   videoCount       86 non-null     object\n",
      " 3   channelName      86 non-null     object\n",
      "dtypes: object(4)\n",
      "memory usage: 2.8+ KB\n"
     ]
    },
    {
     "output_type": "execute_result",
     "data": {
      "text/plain": [
       "     viewCount subscriberCount videoCount       channelName\n",
       "20   179617961         1150000        342         Miss Mina\n",
       "84   857630029         5720000       1778      Jamie Oliver\n",
       "31   160377209         1580000        415     SarahBethYoga\n",
       "40  3340891803        17500000       1961            TED-Ed\n",
       "83   884896291         4910000        491  How To Cook That"
      ],
      "text/html": [
       "\n",
       "  <div id=\"df-c96f1a76-f03f-4a27-bdff-7298d927ad84\">\n",
       "    <div class=\"colab-df-container\">\n",
       "      <div>\n",
       "<style scoped>\n",
       "    .dataframe tbody tr th:only-of-type {\n",
       "        vertical-align: middle;\n",
       "    }\n",
       "\n",
       "    .dataframe tbody tr th {\n",
       "        vertical-align: top;\n",
       "    }\n",
       "\n",
       "    .dataframe thead th {\n",
       "        text-align: right;\n",
       "    }\n",
       "</style>\n",
       "<table border=\"1\" class=\"dataframe\">\n",
       "  <thead>\n",
       "    <tr style=\"text-align: right;\">\n",
       "      <th></th>\n",
       "      <th>viewCount</th>\n",
       "      <th>subscriberCount</th>\n",
       "      <th>videoCount</th>\n",
       "      <th>channelName</th>\n",
       "    </tr>\n",
       "  </thead>\n",
       "  <tbody>\n",
       "    <tr>\n",
       "      <th>20</th>\n",
       "      <td>179617961</td>\n",
       "      <td>1150000</td>\n",
       "      <td>342</td>\n",
       "      <td>Miss Mina</td>\n",
       "    </tr>\n",
       "    <tr>\n",
       "      <th>84</th>\n",
       "      <td>857630029</td>\n",
       "      <td>5720000</td>\n",
       "      <td>1778</td>\n",
       "      <td>Jamie Oliver</td>\n",
       "    </tr>\n",
       "    <tr>\n",
       "      <th>31</th>\n",
       "      <td>160377209</td>\n",
       "      <td>1580000</td>\n",
       "      <td>415</td>\n",
       "      <td>SarahBethYoga</td>\n",
       "    </tr>\n",
       "    <tr>\n",
       "      <th>40</th>\n",
       "      <td>3340891803</td>\n",
       "      <td>17500000</td>\n",
       "      <td>1961</td>\n",
       "      <td>TED-Ed</td>\n",
       "    </tr>\n",
       "    <tr>\n",
       "      <th>83</th>\n",
       "      <td>884896291</td>\n",
       "      <td>4910000</td>\n",
       "      <td>491</td>\n",
       "      <td>How To Cook That</td>\n",
       "    </tr>\n",
       "  </tbody>\n",
       "</table>\n",
       "</div>\n",
       "      <button class=\"colab-df-convert\" onclick=\"convertToInteractive('df-c96f1a76-f03f-4a27-bdff-7298d927ad84')\"\n",
       "              title=\"Convert this dataframe to an interactive table.\"\n",
       "              style=\"display:none;\">\n",
       "        \n",
       "  <svg xmlns=\"http://www.w3.org/2000/svg\" height=\"24px\"viewBox=\"0 0 24 24\"\n",
       "       width=\"24px\">\n",
       "    <path d=\"M0 0h24v24H0V0z\" fill=\"none\"/>\n",
       "    <path d=\"M18.56 5.44l.94 2.06.94-2.06 2.06-.94-2.06-.94-.94-2.06-.94 2.06-2.06.94zm-11 1L8.5 8.5l.94-2.06 2.06-.94-2.06-.94L8.5 2.5l-.94 2.06-2.06.94zm10 10l.94 2.06.94-2.06 2.06-.94-2.06-.94-.94-2.06-.94 2.06-2.06.94z\"/><path d=\"M17.41 7.96l-1.37-1.37c-.4-.4-.92-.59-1.43-.59-.52 0-1.04.2-1.43.59L10.3 9.45l-7.72 7.72c-.78.78-.78 2.05 0 2.83L4 21.41c.39.39.9.59 1.41.59.51 0 1.02-.2 1.41-.59l7.78-7.78 2.81-2.81c.8-.78.8-2.07 0-2.86zM5.41 20L4 18.59l7.72-7.72 1.47 1.35L5.41 20z\"/>\n",
       "  </svg>\n",
       "      </button>\n",
       "      \n",
       "  <style>\n",
       "    .colab-df-container {\n",
       "      display:flex;\n",
       "      flex-wrap:wrap;\n",
       "      gap: 12px;\n",
       "    }\n",
       "\n",
       "    .colab-df-convert {\n",
       "      background-color: #E8F0FE;\n",
       "      border: none;\n",
       "      border-radius: 50%;\n",
       "      cursor: pointer;\n",
       "      display: none;\n",
       "      fill: #1967D2;\n",
       "      height: 32px;\n",
       "      padding: 0 0 0 0;\n",
       "      width: 32px;\n",
       "    }\n",
       "\n",
       "    .colab-df-convert:hover {\n",
       "      background-color: #E2EBFA;\n",
       "      box-shadow: 0px 1px 2px rgba(60, 64, 67, 0.3), 0px 1px 3px 1px rgba(60, 64, 67, 0.15);\n",
       "      fill: #174EA6;\n",
       "    }\n",
       "\n",
       "    [theme=dark] .colab-df-convert {\n",
       "      background-color: #3B4455;\n",
       "      fill: #D2E3FC;\n",
       "    }\n",
       "\n",
       "    [theme=dark] .colab-df-convert:hover {\n",
       "      background-color: #434B5C;\n",
       "      box-shadow: 0px 1px 3px 1px rgba(0, 0, 0, 0.15);\n",
       "      filter: drop-shadow(0px 1px 2px rgba(0, 0, 0, 0.3));\n",
       "      fill: #FFFFFF;\n",
       "    }\n",
       "  </style>\n",
       "\n",
       "      <script>\n",
       "        const buttonEl =\n",
       "          document.querySelector('#df-c96f1a76-f03f-4a27-bdff-7298d927ad84 button.colab-df-convert');\n",
       "        buttonEl.style.display =\n",
       "          google.colab.kernel.accessAllowed ? 'block' : 'none';\n",
       "\n",
       "        async function convertToInteractive(key) {\n",
       "          const element = document.querySelector('#df-c96f1a76-f03f-4a27-bdff-7298d927ad84');\n",
       "          const dataTable =\n",
       "            await google.colab.kernel.invokeFunction('convertToInteractive',\n",
       "                                                     [key], {});\n",
       "          if (!dataTable) return;\n",
       "\n",
       "          const docLinkHtml = 'Like what you see? Visit the ' +\n",
       "            '<a target=\"_blank\" href=https://colab.research.google.com/notebooks/data_table.ipynb>data table notebook</a>'\n",
       "            + ' to learn more about interactive tables.';\n",
       "          element.innerHTML = '';\n",
       "          dataTable['output_type'] = 'display_data';\n",
       "          await google.colab.output.renderOutput(dataTable, element);\n",
       "          const docLink = document.createElement('div');\n",
       "          docLink.innerHTML = docLinkHtml;\n",
       "          element.appendChild(docLink);\n",
       "        }\n",
       "      </script>\n",
       "    </div>\n",
       "  </div>\n",
       "  "
      ]
     },
     "metadata": {},
     "execution_count": 292
    }
   ]
  },
  {
   "cell_type": "markdown",
   "source": [
    "### Let's examine our datatypes and convert them appropriately"
   ],
   "metadata": {
    "id": "ZeWzYTmOA4eY",
    "pycharm": {
     "name": "#%% md\n"
    }
   }
  },
  {
   "cell_type": "code",
   "source": [
    "raw_df.info()"
   ],
   "metadata": {
    "id": "NB0XlyRB1dHI",
    "outputId": "eb2ed298-5440-4ab1-a45c-2df82053a692",
    "colab": {
     "base_uri": "https://localhost:8080/"
    },
    "pycharm": {
     "name": "#%%\n"
    }
   },
   "execution_count": 293,
   "outputs": [
    {
     "output_type": "stream",
     "name": "stdout",
     "text": [
      "<class 'pandas.core.frame.DataFrame'>\n",
      "RangeIndex: 33696 entries, 0 to 33695\n",
      "Data columns (total 15 columns):\n",
      " #   Column           Non-Null Count  Dtype \n",
      "---  ------           --------------  ----- \n",
      " 0   publishedAt      33696 non-null  object\n",
      " 1   title            33696 non-null  object\n",
      " 2   channelId        33677 non-null  object\n",
      " 3   description      33677 non-null  object\n",
      " 4   channelTitle     33677 non-null  object\n",
      " 5   tags             32423 non-null  object\n",
      " 6   categoryId       33677 non-null  object\n",
      " 7   viewCount        33648 non-null  object\n",
      " 8   likeCount        33200 non-null  object\n",
      " 9   favoriteCount    33676 non-null  object\n",
      " 10  commentCount     33235 non-null  object\n",
      " 11  duration         33674 non-null  object\n",
      " 12  definition       33674 non-null  object\n",
      " 13  contentRating    33674 non-null  object\n",
      " 14  topicCategories  33109 non-null  object\n",
      "dtypes: object(15)\n",
      "memory usage: 3.9+ MB\n"
     ]
    }
   ]
  },
  {
   "cell_type": "code",
   "source": [
    "def duration_split(duration):\n",
    "    try:\n",
    "      for _, v in groupby(duration, str.isalpha):\n",
    "        yield ''.join(v)\n",
    "    except:\n",
    "      yield np.nan\n",
    "    \n",
    "    \n",
    "def duration_2_secs(duration, duration_split=duration_split):\n",
    "  temp = 0\n",
    "  # value = (duration_split(duration))\n",
    "  for i, val in enumerate(duration_split(duration)):\n",
    "    \n",
    "    if i==1 and not val.isalpha():\n",
    "      temp += float(val)*60\n",
    "    \n",
    "    if i==3 and not val.isalpha():\n",
    "      temp += float(val)\n",
    "\n",
    "  return(temp)\n",
    "\n",
    "\n",
    "# duration_2_secs(\"PT51M12S\")"
   ],
   "metadata": {
    "id": "IpgdK3Vs53Yo",
    "pycharm": {
     "name": "#%%\n"
    }
   },
   "execution_count": 294,
   "outputs": []
  },
  {
   "cell_type": "code",
   "source": [
    "def topic_extract(links_list):\n",
    "  \n",
    "  topics_list = []  \n",
    "  try:\n",
    "    for link in links_list:\n",
    "      topics_list.append(link.split(\"/\")[-1].lower())\n",
    "    \n",
    "    return(topics_list)\n",
    "  except:\n",
    "    pass"
   ],
   "metadata": {
    "id": "7GyZH6WgHzw7",
    "pycharm": {
     "name": "#%%\n"
    }
   },
   "execution_count": 295,
   "outputs": []
  },
  {
   "cell_type": "code",
   "source": [
    "def text_prep(val):\n",
    "  '''the goal is to replace the hypertexts in the \n",
    "  in any field to redundant names as vectorizing\n",
    "  them could be misleading and also leak data'''\n",
    "\n",
    "  val = str(val).lower()\n",
    "  process_desc = re.sub(r'http[s]*:.*\\w', 'url', val)\n",
    "  process_desc = re.sub('[^a-zA-Z]', ' ', process_desc)\n",
    "  process_desc = re.sub(r'\\s+', ' ', process_desc)\n",
    "\n",
    "  process_desc = nltk.sent_tokenize(process_desc)\n",
    "  if not process_desc:\n",
    "    process_desc = [nltk.word_tokenize(word) for word in process_desc]\n",
    "  else:\n",
    "    process_desc = [nltk.word_tokenize(word) for word in process_desc][0]\n",
    "    \n",
    "  \n",
    "  word_list = [word for word in process_desc if word not in stopwords.words('english')]\n",
    "\n",
    "\n",
    "  return word_list\n",
    "\n"
   ],
   "metadata": {
    "id": "iQqQ2cTCTV25",
    "pycharm": {
     "name": "#%%\n"
    }
   },
   "execution_count": 296,
   "outputs": []
  },
  {
   "cell_type": "code",
   "source": [
    "text_prep(\"i if happening\")"
   ],
   "metadata": {
    "id": "tlnQIsjxffa6",
    "outputId": "1791d2e7-fa8b-4989-b18a-8991b5ab6448",
    "colab": {
     "base_uri": "https://localhost:8080/"
    },
    "pycharm": {
     "name": "#%%\n"
    }
   },
   "execution_count": 297,
   "outputs": [
    {
     "output_type": "execute_result",
     "data": {
      "text/plain": [
       "['happening']"
      ]
     },
     "metadata": {},
     "execution_count": 297
    }
   ]
  },
  {
   "cell_type": "code",
   "source": [
    "def create_dataset(df, featureset, primary=True):\n",
    "\n",
    "  if primary:\n",
    "    df[\"publishedAt\"] = pd.to_datetime(df.publishedAt)\n",
    "    df['publishedDayNum'] = df.publishedAt.apply(lambda x: x.timetuple().tm_yday)\n",
    "    df[\"categoryId\"] = df.categoryId.astype(float)\n",
    "    df[\"viewCount\"] = df.viewCount.astype(float)\n",
    "    df[\"likeCount\"] = df.likeCount.astype(float)\n",
    "    df[\"favoriteCount\"] = df.favoriteCount.astype(float)\n",
    "    df[\"commentCount\"] = df.commentCount.astype(float)\n",
    "    df['duration_secs'] = df.duration.apply(lambda x: duration_2_secs(x))\n",
    "    df['topicCategories'] = df.topicCategories.apply(lambda x: topic_extract(x))\n",
    "    df['tags'] = df.tags.apply(lambda x: topic_extract(x))\n",
    "    df['channelTitle'] = df.channelTitle.str.lower()\n",
    "    df['description'] = df.description.apply(lambda x: text_prep(x))\n",
    "    df['title'] = df.title.apply(lambda x: text_prep(x))\n",
    "  \n",
    "  else:\n",
    "    df['ov_viewCount'] = df.viewCount.astype(float)\n",
    "    df['ov_subscriberCount'] = df.subscriberCount.astype(float)\n",
    "    df['ov_videoCount'] = df.videoCount.astype(float)\n",
    "    df['channelName'] = df.channelName.str.lower()\n",
    "\n",
    "  return df[featureset]"
   ],
   "metadata": {
    "id": "p0OW3SZK1hOg",
    "pycharm": {
     "name": "#%%\n"
    }
   },
   "execution_count": 298,
   "outputs": []
  },
  {
   "cell_type": "markdown",
   "source": [
    "- It's best to drop tags because, in many cases, the tags tend to contain the channel names, which could as we speculated earlier, lead to data leaks.\n",
    "- We'll also drop channelId because it is visually unintuitve and we can encode the channelNames with simple Id's if we needed to.\n",
    "- since we don't have data in the order of millions, we'd abstract out the publishing data to a new variable of `publishedDayNum` that contains the day of the year the video was published.\n",
    "- on examining `contentRating` values, the dataset in non-null but majorly contains empty dictionaries, which makes it misleading. As a result, we'll drop this feature too.\n",
    "- on examining `favoriteCount` values, the dataset in non-null but majorly contains a value of `0`, which makes it misleading. As a result, we'll drop it.\n",
    "\n",
    "- dropped columns list [`tags`, `channelId`, `contentRating`] and [`publishedAt`] after deriving the `publishedDayNum` column from it."
   ],
   "metadata": {
    "id": "6DM_MqBeWuTB",
    "pycharm": {
     "name": "#%% md\n"
    }
   }
  },
  {
   "cell_type": "code",
   "source": [
    "features = ['title', 'description', 'channelTitle',\n",
    " 'categoryId', 'viewCount', 'likeCount',\n",
    " 'commentCount', 'duration_secs','definition', \n",
    " 'topicCategories', 'publishedDayNum']\n",
    "\n",
    "preproc1_df = create_dataset(raw_df, features)"
   ],
   "metadata": {
    "id": "1x1H_CF7Zbph",
    "pycharm": {
     "name": "#%%\n"
    }
   },
   "execution_count": 304,
   "outputs": []
  },
  {
   "cell_type": "code",
   "source": [
    "preproc1_df.sample(5)"
   ],
   "metadata": {
    "id": "TQtMyEfFZbsh",
    "outputId": "5f71a6df-5b52-424f-f121-09764e79c082",
    "colab": {
     "base_uri": "https://localhost:8080/",
     "height": 333
    },
    "pycharm": {
     "name": "#%%\n"
    }
   },
   "execution_count": 306,
   "outputs": [
    {
     "output_type": "execute_result",
     "data": {
      "text/plain": [
       "                                        title  \\\n",
       "31742              [made, giant, foot, b, nh]   \n",
       "17752  [people, laughed, house, went, inside]   \n",
       "10162                [rome, italy, colosseum]   \n",
       "16102             [gang, leaders, hard, time]   \n",
       "16356            [skyballs, explode, glitter]   \n",
       "\n",
       "                                             description         channelTitle  \\\n",
       "31742  [mom, gave, birth, handed, b, nh, right, away,...                tasty   \n",
       "17752  [mindwarehouse, incrediblemoments, caughtoncam...      #mind warehouse   \n",
       "10162  [built, st, c, ad, roman, empire, peaked, colo...  rick steves' europe   \n",
       "16102  [even, regular, frequent, shakedowns, miss, bi...  national geographic   \n",
       "16356  [today, taking, something, wonderful, skyballs...                 tkor   \n",
       "\n",
       "       categoryId  viewCount  likeCount  commentCount  duration_secs  \\\n",
       "31742        26.0   115688.0     4368.0         421.0          842.0   \n",
       "17752        24.0   546963.0     6025.0         125.0         1124.0   \n",
       "10162        19.0   616827.0     3178.0         170.0          102.0   \n",
       "16102        24.0   253071.0     1275.0         145.0          239.0   \n",
       "16356        27.0   516472.0    12135.0        1423.0          702.0   \n",
       "\n",
       "      definition                   topicCategories  publishedDayNum  \n",
       "31742         hd     [food, lifestyle_(sociology)]              266  \n",
       "17752         hd    [hobby, lifestyle_(sociology)]               69  \n",
       "10162         hd  [lifestyle_(sociology), tourism]              149  \n",
       "16102         hd                   [entertainment]              224  \n",
       "16356         hd    [hobby, lifestyle_(sociology)]               54  "
      ],
      "text/html": [
       "\n",
       "  <div id=\"df-995e996f-fbdb-4ad3-90cf-c6bf1f698e34\">\n",
       "    <div class=\"colab-df-container\">\n",
       "      <div>\n",
       "<style scoped>\n",
       "    .dataframe tbody tr th:only-of-type {\n",
       "        vertical-align: middle;\n",
       "    }\n",
       "\n",
       "    .dataframe tbody tr th {\n",
       "        vertical-align: top;\n",
       "    }\n",
       "\n",
       "    .dataframe thead th {\n",
       "        text-align: right;\n",
       "    }\n",
       "</style>\n",
       "<table border=\"1\" class=\"dataframe\">\n",
       "  <thead>\n",
       "    <tr style=\"text-align: right;\">\n",
       "      <th></th>\n",
       "      <th>title</th>\n",
       "      <th>description</th>\n",
       "      <th>channelTitle</th>\n",
       "      <th>categoryId</th>\n",
       "      <th>viewCount</th>\n",
       "      <th>likeCount</th>\n",
       "      <th>commentCount</th>\n",
       "      <th>duration_secs</th>\n",
       "      <th>definition</th>\n",
       "      <th>topicCategories</th>\n",
       "      <th>publishedDayNum</th>\n",
       "    </tr>\n",
       "  </thead>\n",
       "  <tbody>\n",
       "    <tr>\n",
       "      <th>31742</th>\n",
       "      <td>[made, giant, foot, b, nh]</td>\n",
       "      <td>[mom, gave, birth, handed, b, nh, right, away,...</td>\n",
       "      <td>tasty</td>\n",
       "      <td>26.0</td>\n",
       "      <td>115688.0</td>\n",
       "      <td>4368.0</td>\n",
       "      <td>421.0</td>\n",
       "      <td>842.0</td>\n",
       "      <td>hd</td>\n",
       "      <td>[food, lifestyle_(sociology)]</td>\n",
       "      <td>266</td>\n",
       "    </tr>\n",
       "    <tr>\n",
       "      <th>17752</th>\n",
       "      <td>[people, laughed, house, went, inside]</td>\n",
       "      <td>[mindwarehouse, incrediblemoments, caughtoncam...</td>\n",
       "      <td>#mind warehouse</td>\n",
       "      <td>24.0</td>\n",
       "      <td>546963.0</td>\n",
       "      <td>6025.0</td>\n",
       "      <td>125.0</td>\n",
       "      <td>1124.0</td>\n",
       "      <td>hd</td>\n",
       "      <td>[hobby, lifestyle_(sociology)]</td>\n",
       "      <td>69</td>\n",
       "    </tr>\n",
       "    <tr>\n",
       "      <th>10162</th>\n",
       "      <td>[rome, italy, colosseum]</td>\n",
       "      <td>[built, st, c, ad, roman, empire, peaked, colo...</td>\n",
       "      <td>rick steves' europe</td>\n",
       "      <td>19.0</td>\n",
       "      <td>616827.0</td>\n",
       "      <td>3178.0</td>\n",
       "      <td>170.0</td>\n",
       "      <td>102.0</td>\n",
       "      <td>hd</td>\n",
       "      <td>[lifestyle_(sociology), tourism]</td>\n",
       "      <td>149</td>\n",
       "    </tr>\n",
       "    <tr>\n",
       "      <th>16102</th>\n",
       "      <td>[gang, leaders, hard, time]</td>\n",
       "      <td>[even, regular, frequent, shakedowns, miss, bi...</td>\n",
       "      <td>national geographic</td>\n",
       "      <td>24.0</td>\n",
       "      <td>253071.0</td>\n",
       "      <td>1275.0</td>\n",
       "      <td>145.0</td>\n",
       "      <td>239.0</td>\n",
       "      <td>hd</td>\n",
       "      <td>[entertainment]</td>\n",
       "      <td>224</td>\n",
       "    </tr>\n",
       "    <tr>\n",
       "      <th>16356</th>\n",
       "      <td>[skyballs, explode, glitter]</td>\n",
       "      <td>[today, taking, something, wonderful, skyballs...</td>\n",
       "      <td>tkor</td>\n",
       "      <td>27.0</td>\n",
       "      <td>516472.0</td>\n",
       "      <td>12135.0</td>\n",
       "      <td>1423.0</td>\n",
       "      <td>702.0</td>\n",
       "      <td>hd</td>\n",
       "      <td>[hobby, lifestyle_(sociology)]</td>\n",
       "      <td>54</td>\n",
       "    </tr>\n",
       "  </tbody>\n",
       "</table>\n",
       "</div>\n",
       "      <button class=\"colab-df-convert\" onclick=\"convertToInteractive('df-995e996f-fbdb-4ad3-90cf-c6bf1f698e34')\"\n",
       "              title=\"Convert this dataframe to an interactive table.\"\n",
       "              style=\"display:none;\">\n",
       "        \n",
       "  <svg xmlns=\"http://www.w3.org/2000/svg\" height=\"24px\"viewBox=\"0 0 24 24\"\n",
       "       width=\"24px\">\n",
       "    <path d=\"M0 0h24v24H0V0z\" fill=\"none\"/>\n",
       "    <path d=\"M18.56 5.44l.94 2.06.94-2.06 2.06-.94-2.06-.94-.94-2.06-.94 2.06-2.06.94zm-11 1L8.5 8.5l.94-2.06 2.06-.94-2.06-.94L8.5 2.5l-.94 2.06-2.06.94zm10 10l.94 2.06.94-2.06 2.06-.94-2.06-.94-.94-2.06-.94 2.06-2.06.94z\"/><path d=\"M17.41 7.96l-1.37-1.37c-.4-.4-.92-.59-1.43-.59-.52 0-1.04.2-1.43.59L10.3 9.45l-7.72 7.72c-.78.78-.78 2.05 0 2.83L4 21.41c.39.39.9.59 1.41.59.51 0 1.02-.2 1.41-.59l7.78-7.78 2.81-2.81c.8-.78.8-2.07 0-2.86zM5.41 20L4 18.59l7.72-7.72 1.47 1.35L5.41 20z\"/>\n",
       "  </svg>\n",
       "      </button>\n",
       "      \n",
       "  <style>\n",
       "    .colab-df-container {\n",
       "      display:flex;\n",
       "      flex-wrap:wrap;\n",
       "      gap: 12px;\n",
       "    }\n",
       "\n",
       "    .colab-df-convert {\n",
       "      background-color: #E8F0FE;\n",
       "      border: none;\n",
       "      border-radius: 50%;\n",
       "      cursor: pointer;\n",
       "      display: none;\n",
       "      fill: #1967D2;\n",
       "      height: 32px;\n",
       "      padding: 0 0 0 0;\n",
       "      width: 32px;\n",
       "    }\n",
       "\n",
       "    .colab-df-convert:hover {\n",
       "      background-color: #E2EBFA;\n",
       "      box-shadow: 0px 1px 2px rgba(60, 64, 67, 0.3), 0px 1px 3px 1px rgba(60, 64, 67, 0.15);\n",
       "      fill: #174EA6;\n",
       "    }\n",
       "\n",
       "    [theme=dark] .colab-df-convert {\n",
       "      background-color: #3B4455;\n",
       "      fill: #D2E3FC;\n",
       "    }\n",
       "\n",
       "    [theme=dark] .colab-df-convert:hover {\n",
       "      background-color: #434B5C;\n",
       "      box-shadow: 0px 1px 3px 1px rgba(0, 0, 0, 0.15);\n",
       "      filter: drop-shadow(0px 1px 2px rgba(0, 0, 0, 0.3));\n",
       "      fill: #FFFFFF;\n",
       "    }\n",
       "  </style>\n",
       "\n",
       "      <script>\n",
       "        const buttonEl =\n",
       "          document.querySelector('#df-995e996f-fbdb-4ad3-90cf-c6bf1f698e34 button.colab-df-convert');\n",
       "        buttonEl.style.display =\n",
       "          google.colab.kernel.accessAllowed ? 'block' : 'none';\n",
       "\n",
       "        async function convertToInteractive(key) {\n",
       "          const element = document.querySelector('#df-995e996f-fbdb-4ad3-90cf-c6bf1f698e34');\n",
       "          const dataTable =\n",
       "            await google.colab.kernel.invokeFunction('convertToInteractive',\n",
       "                                                     [key], {});\n",
       "          if (!dataTable) return;\n",
       "\n",
       "          const docLinkHtml = 'Like what you see? Visit the ' +\n",
       "            '<a target=\"_blank\" href=https://colab.research.google.com/notebooks/data_table.ipynb>data table notebook</a>'\n",
       "            + ' to learn more about interactive tables.';\n",
       "          element.innerHTML = '';\n",
       "          dataTable['output_type'] = 'display_data';\n",
       "          await google.colab.output.renderOutput(dataTable, element);\n",
       "          const docLink = document.createElement('div');\n",
       "          docLink.innerHTML = docLinkHtml;\n",
       "          element.appendChild(docLink);\n",
       "        }\n",
       "      </script>\n",
       "    </div>\n",
       "  </div>\n",
       "  "
      ]
     },
     "metadata": {},
     "execution_count": 306
    }
   ]
  },
  {
   "cell_type": "code",
   "source": [
    "preproc1_df.info()"
   ],
   "metadata": {
    "id": "t0IvTxgCZbvQ",
    "outputId": "b7dfc253-3231-49fa-d05b-3361576ce6a3",
    "colab": {
     "base_uri": "https://localhost:8080/"
    },
    "pycharm": {
     "name": "#%%\n"
    }
   },
   "execution_count": 186,
   "outputs": [
    {
     "output_type": "stream",
     "name": "stdout",
     "text": [
      "<class 'pandas.core.frame.DataFrame'>\n",
      "RangeIndex: 33696 entries, 0 to 33695\n",
      "Data columns (total 11 columns):\n",
      " #   Column           Non-Null Count  Dtype  \n",
      "---  ------           --------------  -----  \n",
      " 0   title            33696 non-null  object \n",
      " 1   description      33696 non-null  object \n",
      " 2   channelTitle     33677 non-null  object \n",
      " 3   categoryId       33677 non-null  float64\n",
      " 4   viewCount        33648 non-null  float64\n",
      " 5   likeCount        33200 non-null  float64\n",
      " 6   commentCount     33235 non-null  float64\n",
      " 7   duration_secs    33696 non-null  float64\n",
      " 8   definition       33674 non-null  object \n",
      " 9   topicCategories  33109 non-null  object \n",
      " 10  publishedDayNum  33696 non-null  int64  \n",
      "dtypes: float64(5), int64(1), object(5)\n",
      "memory usage: 2.8+ MB\n"
     ]
    }
   ]
  },
  {
   "cell_type": "markdown",
   "source": [
    "Let's again take a look at what percentage of data is missing across all the fields."
   ],
   "metadata": {
    "id": "2UZA5KbIcLNS",
    "pycharm": {
     "name": "#%% md\n"
    }
   }
  },
  {
   "cell_type": "code",
   "source": [
    "missing_data_perc_cols = (preproc1_df.isna().sum()/len(preproc1_df))*100\n",
    "missing_data_perc_cols"
   ],
   "metadata": {
    "id": "XU9z_gY7ZbyY",
    "outputId": "f70d251e-f68b-45c2-bd06-2055986d7293",
    "colab": {
     "base_uri": "https://localhost:8080/"
    },
    "pycharm": {
     "name": "#%%\n"
    }
   },
   "execution_count": 307,
   "outputs": [
    {
     "output_type": "execute_result",
     "data": {
      "text/plain": [
       "title              0.000000\n",
       "description        0.000000\n",
       "channelTitle       0.056387\n",
       "categoryId         0.056387\n",
       "viewCount          0.142450\n",
       "likeCount          1.471985\n",
       "commentCount       1.368115\n",
       "duration_secs      0.000000\n",
       "definition         0.065290\n",
       "topicCategories    1.742047\n",
       "publishedDayNum    0.000000\n",
       "dtype: float64"
      ]
     },
     "metadata": {},
     "execution_count": 307
    }
   ]
  },
  {
   "cell_type": "code",
   "source": [
    "lost_rows_perc = len(preproc1_df.dropna())/len(preproc1_df)*100\n",
    "lost_rows_perc"
   ],
   "metadata": {
    "id": "1v-cD0UedKA3",
    "outputId": "0056af53-9e06-47f0-da89-86dddbddd3b1",
    "colab": {
     "base_uri": "https://localhost:8080/"
    },
    "pycharm": {
     "name": "#%%\n"
    }
   },
   "execution_count": 308,
   "outputs": [
    {
     "output_type": "execute_result",
     "data": {
      "text/plain": [
       "95.58404558404558"
      ]
     },
     "metadata": {},
     "execution_count": 308
    }
   ]
  },
  {
   "cell_type": "markdown",
   "source": [
    "It's under 5% in across all cases, which isn't a bad thing at all and we can easily consider dropping the missing fields as we would regularly keep enriching our datastore, which would easily compensate for the missing 5% over time."
   ],
   "metadata": {
    "id": "CJzvUQV2cUnQ",
    "pycharm": {
     "name": "#%% md\n"
    }
   }
  },
  {
   "cell_type": "code",
   "source": [
    "preproc2_df = preproc1_df.dropna()"
   ],
   "metadata": {
    "id": "el2ILYIT5CuN",
    "pycharm": {
     "name": "#%%\n"
    }
   },
   "execution_count": 310,
   "outputs": []
  },
  {
   "cell_type": "code",
   "source": [
    "preproc2_df.isna().sum()"
   ],
   "metadata": {
    "id": "okxXKRxo5CxC",
    "outputId": "47f3d07d-13c6-45c4-f8fd-ffb48827b16e",
    "colab": {
     "base_uri": "https://localhost:8080/"
    },
    "pycharm": {
     "name": "#%%\n"
    }
   },
   "execution_count": 311,
   "outputs": [
    {
     "output_type": "execute_result",
     "data": {
      "text/plain": [
       "title              0\n",
       "description        0\n",
       "channelTitle       0\n",
       "categoryId         0\n",
       "viewCount          0\n",
       "likeCount          0\n",
       "commentCount       0\n",
       "duration_secs      0\n",
       "definition         0\n",
       "topicCategories    0\n",
       "publishedDayNum    0\n",
       "dtype: int64"
      ]
     },
     "metadata": {},
     "execution_count": 311
    }
   ]
  },
  {
   "cell_type": "code",
   "source": [
    "preproc2_df.drop('categoryId', axis=1).describe()"
   ],
   "metadata": {
    "id": "2J7gwINo5Czy",
    "outputId": "a9c7678d-f8fa-49b3-c21c-af7608ae35d6",
    "colab": {
     "base_uri": "https://localhost:8080/",
     "height": 297
    },
    "pycharm": {
     "name": "#%%\n"
    }
   },
   "execution_count": 312,
   "outputs": [
    {
     "output_type": "execute_result",
     "data": {
      "text/plain": [
       "          viewCount     likeCount  commentCount  duration_secs  \\\n",
       "count  3.220800e+04  3.220800e+04  3.220800e+04   32208.000000   \n",
       "mean   3.677086e+06  5.400372e+04  3.259719e+03     688.996802   \n",
       "std    5.280129e+07  3.294235e+05  1.394655e+04     696.394964   \n",
       "min    0.000000e+00  0.000000e+00  0.000000e+00       0.000000   \n",
       "25%    9.927450e+04  1.721000e+03  1.260000e+02     225.000000   \n",
       "50%    3.825555e+05  7.664000e+03  5.630000e+02     451.000000   \n",
       "75%    1.537845e+06  3.001375e+04  2.144000e+03     830.000000   \n",
       "max    5.809870e+09  3.042521e+07  1.124865e+06    3597.000000   \n",
       "\n",
       "       publishedDayNum  \n",
       "count     32208.000000  \n",
       "mean        183.086562  \n",
       "std         103.826155  \n",
       "min           1.000000  \n",
       "25%          93.000000  \n",
       "50%         185.000000  \n",
       "75%         269.000000  \n",
       "max         366.000000  "
      ],
      "text/html": [
       "\n",
       "  <div id=\"df-3bae939d-3edb-4857-b784-99a5aa6e13e5\">\n",
       "    <div class=\"colab-df-container\">\n",
       "      <div>\n",
       "<style scoped>\n",
       "    .dataframe tbody tr th:only-of-type {\n",
       "        vertical-align: middle;\n",
       "    }\n",
       "\n",
       "    .dataframe tbody tr th {\n",
       "        vertical-align: top;\n",
       "    }\n",
       "\n",
       "    .dataframe thead th {\n",
       "        text-align: right;\n",
       "    }\n",
       "</style>\n",
       "<table border=\"1\" class=\"dataframe\">\n",
       "  <thead>\n",
       "    <tr style=\"text-align: right;\">\n",
       "      <th></th>\n",
       "      <th>viewCount</th>\n",
       "      <th>likeCount</th>\n",
       "      <th>commentCount</th>\n",
       "      <th>duration_secs</th>\n",
       "      <th>publishedDayNum</th>\n",
       "    </tr>\n",
       "  </thead>\n",
       "  <tbody>\n",
       "    <tr>\n",
       "      <th>count</th>\n",
       "      <td>3.220800e+04</td>\n",
       "      <td>3.220800e+04</td>\n",
       "      <td>3.220800e+04</td>\n",
       "      <td>32208.000000</td>\n",
       "      <td>32208.000000</td>\n",
       "    </tr>\n",
       "    <tr>\n",
       "      <th>mean</th>\n",
       "      <td>3.677086e+06</td>\n",
       "      <td>5.400372e+04</td>\n",
       "      <td>3.259719e+03</td>\n",
       "      <td>688.996802</td>\n",
       "      <td>183.086562</td>\n",
       "    </tr>\n",
       "    <tr>\n",
       "      <th>std</th>\n",
       "      <td>5.280129e+07</td>\n",
       "      <td>3.294235e+05</td>\n",
       "      <td>1.394655e+04</td>\n",
       "      <td>696.394964</td>\n",
       "      <td>103.826155</td>\n",
       "    </tr>\n",
       "    <tr>\n",
       "      <th>min</th>\n",
       "      <td>0.000000e+00</td>\n",
       "      <td>0.000000e+00</td>\n",
       "      <td>0.000000e+00</td>\n",
       "      <td>0.000000</td>\n",
       "      <td>1.000000</td>\n",
       "    </tr>\n",
       "    <tr>\n",
       "      <th>25%</th>\n",
       "      <td>9.927450e+04</td>\n",
       "      <td>1.721000e+03</td>\n",
       "      <td>1.260000e+02</td>\n",
       "      <td>225.000000</td>\n",
       "      <td>93.000000</td>\n",
       "    </tr>\n",
       "    <tr>\n",
       "      <th>50%</th>\n",
       "      <td>3.825555e+05</td>\n",
       "      <td>7.664000e+03</td>\n",
       "      <td>5.630000e+02</td>\n",
       "      <td>451.000000</td>\n",
       "      <td>185.000000</td>\n",
       "    </tr>\n",
       "    <tr>\n",
       "      <th>75%</th>\n",
       "      <td>1.537845e+06</td>\n",
       "      <td>3.001375e+04</td>\n",
       "      <td>2.144000e+03</td>\n",
       "      <td>830.000000</td>\n",
       "      <td>269.000000</td>\n",
       "    </tr>\n",
       "    <tr>\n",
       "      <th>max</th>\n",
       "      <td>5.809870e+09</td>\n",
       "      <td>3.042521e+07</td>\n",
       "      <td>1.124865e+06</td>\n",
       "      <td>3597.000000</td>\n",
       "      <td>366.000000</td>\n",
       "    </tr>\n",
       "  </tbody>\n",
       "</table>\n",
       "</div>\n",
       "      <button class=\"colab-df-convert\" onclick=\"convertToInteractive('df-3bae939d-3edb-4857-b784-99a5aa6e13e5')\"\n",
       "              title=\"Convert this dataframe to an interactive table.\"\n",
       "              style=\"display:none;\">\n",
       "        \n",
       "  <svg xmlns=\"http://www.w3.org/2000/svg\" height=\"24px\"viewBox=\"0 0 24 24\"\n",
       "       width=\"24px\">\n",
       "    <path d=\"M0 0h24v24H0V0z\" fill=\"none\"/>\n",
       "    <path d=\"M18.56 5.44l.94 2.06.94-2.06 2.06-.94-2.06-.94-.94-2.06-.94 2.06-2.06.94zm-11 1L8.5 8.5l.94-2.06 2.06-.94-2.06-.94L8.5 2.5l-.94 2.06-2.06.94zm10 10l.94 2.06.94-2.06 2.06-.94-2.06-.94-.94-2.06-.94 2.06-2.06.94z\"/><path d=\"M17.41 7.96l-1.37-1.37c-.4-.4-.92-.59-1.43-.59-.52 0-1.04.2-1.43.59L10.3 9.45l-7.72 7.72c-.78.78-.78 2.05 0 2.83L4 21.41c.39.39.9.59 1.41.59.51 0 1.02-.2 1.41-.59l7.78-7.78 2.81-2.81c.8-.78.8-2.07 0-2.86zM5.41 20L4 18.59l7.72-7.72 1.47 1.35L5.41 20z\"/>\n",
       "  </svg>\n",
       "      </button>\n",
       "      \n",
       "  <style>\n",
       "    .colab-df-container {\n",
       "      display:flex;\n",
       "      flex-wrap:wrap;\n",
       "      gap: 12px;\n",
       "    }\n",
       "\n",
       "    .colab-df-convert {\n",
       "      background-color: #E8F0FE;\n",
       "      border: none;\n",
       "      border-radius: 50%;\n",
       "      cursor: pointer;\n",
       "      display: none;\n",
       "      fill: #1967D2;\n",
       "      height: 32px;\n",
       "      padding: 0 0 0 0;\n",
       "      width: 32px;\n",
       "    }\n",
       "\n",
       "    .colab-df-convert:hover {\n",
       "      background-color: #E2EBFA;\n",
       "      box-shadow: 0px 1px 2px rgba(60, 64, 67, 0.3), 0px 1px 3px 1px rgba(60, 64, 67, 0.15);\n",
       "      fill: #174EA6;\n",
       "    }\n",
       "\n",
       "    [theme=dark] .colab-df-convert {\n",
       "      background-color: #3B4455;\n",
       "      fill: #D2E3FC;\n",
       "    }\n",
       "\n",
       "    [theme=dark] .colab-df-convert:hover {\n",
       "      background-color: #434B5C;\n",
       "      box-shadow: 0px 1px 3px 1px rgba(0, 0, 0, 0.15);\n",
       "      filter: drop-shadow(0px 1px 2px rgba(0, 0, 0, 0.3));\n",
       "      fill: #FFFFFF;\n",
       "    }\n",
       "  </style>\n",
       "\n",
       "      <script>\n",
       "        const buttonEl =\n",
       "          document.querySelector('#df-3bae939d-3edb-4857-b784-99a5aa6e13e5 button.colab-df-convert');\n",
       "        buttonEl.style.display =\n",
       "          google.colab.kernel.accessAllowed ? 'block' : 'none';\n",
       "\n",
       "        async function convertToInteractive(key) {\n",
       "          const element = document.querySelector('#df-3bae939d-3edb-4857-b784-99a5aa6e13e5');\n",
       "          const dataTable =\n",
       "            await google.colab.kernel.invokeFunction('convertToInteractive',\n",
       "                                                     [key], {});\n",
       "          if (!dataTable) return;\n",
       "\n",
       "          const docLinkHtml = 'Like what you see? Visit the ' +\n",
       "            '<a target=\"_blank\" href=https://colab.research.google.com/notebooks/data_table.ipynb>data table notebook</a>'\n",
       "            + ' to learn more about interactive tables.';\n",
       "          element.innerHTML = '';\n",
       "          dataTable['output_type'] = 'display_data';\n",
       "          await google.colab.output.renderOutput(dataTable, element);\n",
       "          const docLink = document.createElement('div');\n",
       "          docLink.innerHTML = docLinkHtml;\n",
       "          element.appendChild(docLink);\n",
       "        }\n",
       "      </script>\n",
       "    </div>\n",
       "  </div>\n",
       "  "
      ]
     },
     "metadata": {},
     "execution_count": 312
    }
   ]
  },
  {
   "cell_type": "code",
   "source": [
    "preproc2_df.drop('categoryId', axis=1).corr()"
   ],
   "metadata": {
    "id": "R-ye303SeWqR",
    "outputId": "4642c23e-e509-43c3-d39e-e0b80ec14eaa",
    "colab": {
     "base_uri": "https://localhost:8080/",
     "height": 204
    },
    "pycharm": {
     "name": "#%%\n"
    }
   },
   "execution_count": 313,
   "outputs": [
    {
     "output_type": "execute_result",
     "data": {
      "text/plain": [
       "                 viewCount  likeCount  commentCount  duration_secs  \\\n",
       "viewCount         1.000000   0.915600      0.732864      -0.022877   \n",
       "likeCount         0.915600   1.000000      0.863809      -0.023962   \n",
       "commentCount      0.732864   0.863809      1.000000      -0.003730   \n",
       "duration_secs    -0.022877  -0.023962     -0.003730       1.000000   \n",
       "publishedDayNum  -0.001604   0.005050      0.001925      -0.012563   \n",
       "\n",
       "                 publishedDayNum  \n",
       "viewCount              -0.001604  \n",
       "likeCount               0.005050  \n",
       "commentCount            0.001925  \n",
       "duration_secs          -0.012563  \n",
       "publishedDayNum         1.000000  "
      ],
      "text/html": [
       "\n",
       "  <div id=\"df-b47310f7-3d0f-49fa-966f-e7b7bb021ace\">\n",
       "    <div class=\"colab-df-container\">\n",
       "      <div>\n",
       "<style scoped>\n",
       "    .dataframe tbody tr th:only-of-type {\n",
       "        vertical-align: middle;\n",
       "    }\n",
       "\n",
       "    .dataframe tbody tr th {\n",
       "        vertical-align: top;\n",
       "    }\n",
       "\n",
       "    .dataframe thead th {\n",
       "        text-align: right;\n",
       "    }\n",
       "</style>\n",
       "<table border=\"1\" class=\"dataframe\">\n",
       "  <thead>\n",
       "    <tr style=\"text-align: right;\">\n",
       "      <th></th>\n",
       "      <th>viewCount</th>\n",
       "      <th>likeCount</th>\n",
       "      <th>commentCount</th>\n",
       "      <th>duration_secs</th>\n",
       "      <th>publishedDayNum</th>\n",
       "    </tr>\n",
       "  </thead>\n",
       "  <tbody>\n",
       "    <tr>\n",
       "      <th>viewCount</th>\n",
       "      <td>1.000000</td>\n",
       "      <td>0.915600</td>\n",
       "      <td>0.732864</td>\n",
       "      <td>-0.022877</td>\n",
       "      <td>-0.001604</td>\n",
       "    </tr>\n",
       "    <tr>\n",
       "      <th>likeCount</th>\n",
       "      <td>0.915600</td>\n",
       "      <td>1.000000</td>\n",
       "      <td>0.863809</td>\n",
       "      <td>-0.023962</td>\n",
       "      <td>0.005050</td>\n",
       "    </tr>\n",
       "    <tr>\n",
       "      <th>commentCount</th>\n",
       "      <td>0.732864</td>\n",
       "      <td>0.863809</td>\n",
       "      <td>1.000000</td>\n",
       "      <td>-0.003730</td>\n",
       "      <td>0.001925</td>\n",
       "    </tr>\n",
       "    <tr>\n",
       "      <th>duration_secs</th>\n",
       "      <td>-0.022877</td>\n",
       "      <td>-0.023962</td>\n",
       "      <td>-0.003730</td>\n",
       "      <td>1.000000</td>\n",
       "      <td>-0.012563</td>\n",
       "    </tr>\n",
       "    <tr>\n",
       "      <th>publishedDayNum</th>\n",
       "      <td>-0.001604</td>\n",
       "      <td>0.005050</td>\n",
       "      <td>0.001925</td>\n",
       "      <td>-0.012563</td>\n",
       "      <td>1.000000</td>\n",
       "    </tr>\n",
       "  </tbody>\n",
       "</table>\n",
       "</div>\n",
       "      <button class=\"colab-df-convert\" onclick=\"convertToInteractive('df-b47310f7-3d0f-49fa-966f-e7b7bb021ace')\"\n",
       "              title=\"Convert this dataframe to an interactive table.\"\n",
       "              style=\"display:none;\">\n",
       "        \n",
       "  <svg xmlns=\"http://www.w3.org/2000/svg\" height=\"24px\"viewBox=\"0 0 24 24\"\n",
       "       width=\"24px\">\n",
       "    <path d=\"M0 0h24v24H0V0z\" fill=\"none\"/>\n",
       "    <path d=\"M18.56 5.44l.94 2.06.94-2.06 2.06-.94-2.06-.94-.94-2.06-.94 2.06-2.06.94zm-11 1L8.5 8.5l.94-2.06 2.06-.94-2.06-.94L8.5 2.5l-.94 2.06-2.06.94zm10 10l.94 2.06.94-2.06 2.06-.94-2.06-.94-.94-2.06-.94 2.06-2.06.94z\"/><path d=\"M17.41 7.96l-1.37-1.37c-.4-.4-.92-.59-1.43-.59-.52 0-1.04.2-1.43.59L10.3 9.45l-7.72 7.72c-.78.78-.78 2.05 0 2.83L4 21.41c.39.39.9.59 1.41.59.51 0 1.02-.2 1.41-.59l7.78-7.78 2.81-2.81c.8-.78.8-2.07 0-2.86zM5.41 20L4 18.59l7.72-7.72 1.47 1.35L5.41 20z\"/>\n",
       "  </svg>\n",
       "      </button>\n",
       "      \n",
       "  <style>\n",
       "    .colab-df-container {\n",
       "      display:flex;\n",
       "      flex-wrap:wrap;\n",
       "      gap: 12px;\n",
       "    }\n",
       "\n",
       "    .colab-df-convert {\n",
       "      background-color: #E8F0FE;\n",
       "      border: none;\n",
       "      border-radius: 50%;\n",
       "      cursor: pointer;\n",
       "      display: none;\n",
       "      fill: #1967D2;\n",
       "      height: 32px;\n",
       "      padding: 0 0 0 0;\n",
       "      width: 32px;\n",
       "    }\n",
       "\n",
       "    .colab-df-convert:hover {\n",
       "      background-color: #E2EBFA;\n",
       "      box-shadow: 0px 1px 2px rgba(60, 64, 67, 0.3), 0px 1px 3px 1px rgba(60, 64, 67, 0.15);\n",
       "      fill: #174EA6;\n",
       "    }\n",
       "\n",
       "    [theme=dark] .colab-df-convert {\n",
       "      background-color: #3B4455;\n",
       "      fill: #D2E3FC;\n",
       "    }\n",
       "\n",
       "    [theme=dark] .colab-df-convert:hover {\n",
       "      background-color: #434B5C;\n",
       "      box-shadow: 0px 1px 3px 1px rgba(0, 0, 0, 0.15);\n",
       "      filter: drop-shadow(0px 1px 2px rgba(0, 0, 0, 0.3));\n",
       "      fill: #FFFFFF;\n",
       "    }\n",
       "  </style>\n",
       "\n",
       "      <script>\n",
       "        const buttonEl =\n",
       "          document.querySelector('#df-b47310f7-3d0f-49fa-966f-e7b7bb021ace button.colab-df-convert');\n",
       "        buttonEl.style.display =\n",
       "          google.colab.kernel.accessAllowed ? 'block' : 'none';\n",
       "\n",
       "        async function convertToInteractive(key) {\n",
       "          const element = document.querySelector('#df-b47310f7-3d0f-49fa-966f-e7b7bb021ace');\n",
       "          const dataTable =\n",
       "            await google.colab.kernel.invokeFunction('convertToInteractive',\n",
       "                                                     [key], {});\n",
       "          if (!dataTable) return;\n",
       "\n",
       "          const docLinkHtml = 'Like what you see? Visit the ' +\n",
       "            '<a target=\"_blank\" href=https://colab.research.google.com/notebooks/data_table.ipynb>data table notebook</a>'\n",
       "            + ' to learn more about interactive tables.';\n",
       "          element.innerHTML = '';\n",
       "          dataTable['output_type'] = 'display_data';\n",
       "          await google.colab.output.renderOutput(dataTable, element);\n",
       "          const docLink = document.createElement('div');\n",
       "          docLink.innerHTML = docLinkHtml;\n",
       "          element.appendChild(docLink);\n",
       "        }\n",
       "      </script>\n",
       "    </div>\n",
       "  </div>\n",
       "  "
      ]
     },
     "metadata": {},
     "execution_count": 313
    }
   ]
  },
  {
   "cell_type": "code",
   "source": [
    "preproc2_df.drop('categoryId', axis=1).hist(figsize=(8,8));"
   ],
   "metadata": {
    "id": "EX-poBN0kbLM",
    "outputId": "ed645568-fbe9-4941-841a-55e6541ff2fc",
    "colab": {
     "base_uri": "https://localhost:8080/",
     "height": 499
    },
    "pycharm": {
     "name": "#%%\n"
    }
   },
   "execution_count": 314,
   "outputs": [
    {
     "output_type": "display_data",
     "data": {
      "text/plain": [
       "<Figure size 576x576 with 6 Axes>"
      ],
      "image/png": "[encoded data removed]"
     },
     "metadata": {
      "needs_background": "light"
     }
    }
   ]
  },
  {
   "cell_type": "markdown",
   "source": [
    "We could consider applying a transformation to the data, to help address the heavy left-skew on most numerical features."
   ],
   "metadata": {
    "id": "JWSkcP6QkhCr",
    "pycharm": {
     "name": "#%% md\n"
    }
   }
  },
  {
   "cell_type": "markdown",
   "source": [
    "Let's quickly set the same steps up for the `overall_stats_raw_df` df."
   ],
   "metadata": {
    "id": "kpFgdIRye_xq",
    "pycharm": {
     "name": "#%% md\n"
    }
   }
  },
  {
   "cell_type": "code",
   "source": [
    "overall_stats_raw_df.head()"
   ],
   "metadata": {
    "id": "H48y6gUie4ZS",
    "outputId": "b7e27631-21fb-4108-8ec3-cd9a0716c535",
    "colab": {
     "base_uri": "https://localhost:8080/",
     "height": 204
    },
    "pycharm": {
     "name": "#%%\n"
    }
   },
   "execution_count": 315,
   "outputs": [
    {
     "output_type": "execute_result",
     "data": {
      "text/plain": [
       "   viewCount subscriberCount videoCount  \\\n",
       "0  104555954          886000         81   \n",
       "1   38446899          589000         55   \n",
       "2  555990509         2020000        447   \n",
       "3  968644695         4350000       1002   \n",
       "4   84993307          707000         76   \n",
       "\n",
       "                              channelName  \n",
       "0                        Historia Civilis  \n",
       "1                         Feature History  \n",
       "2            Overly Sarcastic Productions  \n",
       "3  Timeline - World History Documentaries  \n",
       "4                              BazBattles  "
      ],
      "text/html": [
       "\n",
       "  <div id=\"df-1fe6064f-8f92-46a9-9dd5-c45c33febcd8\">\n",
       "    <div class=\"colab-df-container\">\n",
       "      <div>\n",
       "<style scoped>\n",
       "    .dataframe tbody tr th:only-of-type {\n",
       "        vertical-align: middle;\n",
       "    }\n",
       "\n",
       "    .dataframe tbody tr th {\n",
       "        vertical-align: top;\n",
       "    }\n",
       "\n",
       "    .dataframe thead th {\n",
       "        text-align: right;\n",
       "    }\n",
       "</style>\n",
       "<table border=\"1\" class=\"dataframe\">\n",
       "  <thead>\n",
       "    <tr style=\"text-align: right;\">\n",
       "      <th></th>\n",
       "      <th>viewCount</th>\n",
       "      <th>subscriberCount</th>\n",
       "      <th>videoCount</th>\n",
       "      <th>channelName</th>\n",
       "    </tr>\n",
       "  </thead>\n",
       "  <tbody>\n",
       "    <tr>\n",
       "      <th>0</th>\n",
       "      <td>104555954</td>\n",
       "      <td>886000</td>\n",
       "      <td>81</td>\n",
       "      <td>Historia Civilis</td>\n",
       "    </tr>\n",
       "    <tr>\n",
       "      <th>1</th>\n",
       "      <td>38446899</td>\n",
       "      <td>589000</td>\n",
       "      <td>55</td>\n",
       "      <td>Feature History</td>\n",
       "    </tr>\n",
       "    <tr>\n",
       "      <th>2</th>\n",
       "      <td>555990509</td>\n",
       "      <td>2020000</td>\n",
       "      <td>447</td>\n",
       "      <td>Overly Sarcastic Productions</td>\n",
       "    </tr>\n",
       "    <tr>\n",
       "      <th>3</th>\n",
       "      <td>968644695</td>\n",
       "      <td>4350000</td>\n",
       "      <td>1002</td>\n",
       "      <td>Timeline - World History Documentaries</td>\n",
       "    </tr>\n",
       "    <tr>\n",
       "      <th>4</th>\n",
       "      <td>84993307</td>\n",
       "      <td>707000</td>\n",
       "      <td>76</td>\n",
       "      <td>BazBattles</td>\n",
       "    </tr>\n",
       "  </tbody>\n",
       "</table>\n",
       "</div>\n",
       "      <button class=\"colab-df-convert\" onclick=\"convertToInteractive('df-1fe6064f-8f92-46a9-9dd5-c45c33febcd8')\"\n",
       "              title=\"Convert this dataframe to an interactive table.\"\n",
       "              style=\"display:none;\">\n",
       "        \n",
       "  <svg xmlns=\"http://www.w3.org/2000/svg\" height=\"24px\"viewBox=\"0 0 24 24\"\n",
       "       width=\"24px\">\n",
       "    <path d=\"M0 0h24v24H0V0z\" fill=\"none\"/>\n",
       "    <path d=\"M18.56 5.44l.94 2.06.94-2.06 2.06-.94-2.06-.94-.94-2.06-.94 2.06-2.06.94zm-11 1L8.5 8.5l.94-2.06 2.06-.94-2.06-.94L8.5 2.5l-.94 2.06-2.06.94zm10 10l.94 2.06.94-2.06 2.06-.94-2.06-.94-.94-2.06-.94 2.06-2.06.94z\"/><path d=\"M17.41 7.96l-1.37-1.37c-.4-.4-.92-.59-1.43-.59-.52 0-1.04.2-1.43.59L10.3 9.45l-7.72 7.72c-.78.78-.78 2.05 0 2.83L4 21.41c.39.39.9.59 1.41.59.51 0 1.02-.2 1.41-.59l7.78-7.78 2.81-2.81c.8-.78.8-2.07 0-2.86zM5.41 20L4 18.59l7.72-7.72 1.47 1.35L5.41 20z\"/>\n",
       "  </svg>\n",
       "      </button>\n",
       "      \n",
       "  <style>\n",
       "    .colab-df-container {\n",
       "      display:flex;\n",
       "      flex-wrap:wrap;\n",
       "      gap: 12px;\n",
       "    }\n",
       "\n",
       "    .colab-df-convert {\n",
       "      background-color: #E8F0FE;\n",
       "      border: none;\n",
       "      border-radius: 50%;\n",
       "      cursor: pointer;\n",
       "      display: none;\n",
       "      fill: #1967D2;\n",
       "      height: 32px;\n",
       "      padding: 0 0 0 0;\n",
       "      width: 32px;\n",
       "    }\n",
       "\n",
       "    .colab-df-convert:hover {\n",
       "      background-color: #E2EBFA;\n",
       "      box-shadow: 0px 1px 2px rgba(60, 64, 67, 0.3), 0px 1px 3px 1px rgba(60, 64, 67, 0.15);\n",
       "      fill: #174EA6;\n",
       "    }\n",
       "\n",
       "    [theme=dark] .colab-df-convert {\n",
       "      background-color: #3B4455;\n",
       "      fill: #D2E3FC;\n",
       "    }\n",
       "\n",
       "    [theme=dark] .colab-df-convert:hover {\n",
       "      background-color: #434B5C;\n",
       "      box-shadow: 0px 1px 3px 1px rgba(0, 0, 0, 0.15);\n",
       "      filter: drop-shadow(0px 1px 2px rgba(0, 0, 0, 0.3));\n",
       "      fill: #FFFFFF;\n",
       "    }\n",
       "  </style>\n",
       "\n",
       "      <script>\n",
       "        const buttonEl =\n",
       "          document.querySelector('#df-1fe6064f-8f92-46a9-9dd5-c45c33febcd8 button.colab-df-convert');\n",
       "        buttonEl.style.display =\n",
       "          google.colab.kernel.accessAllowed ? 'block' : 'none';\n",
       "\n",
       "        async function convertToInteractive(key) {\n",
       "          const element = document.querySelector('#df-1fe6064f-8f92-46a9-9dd5-c45c33febcd8');\n",
       "          const dataTable =\n",
       "            await google.colab.kernel.invokeFunction('convertToInteractive',\n",
       "                                                     [key], {});\n",
       "          if (!dataTable) return;\n",
       "\n",
       "          const docLinkHtml = 'Like what you see? Visit the ' +\n",
       "            '<a target=\"_blank\" href=https://colab.research.google.com/notebooks/data_table.ipynb>data table notebook</a>'\n",
       "            + ' to learn more about interactive tables.';\n",
       "          element.innerHTML = '';\n",
       "          dataTable['output_type'] = 'display_data';\n",
       "          await google.colab.output.renderOutput(dataTable, element);\n",
       "          const docLink = document.createElement('div');\n",
       "          docLink.innerHTML = docLinkHtml;\n",
       "          element.appendChild(docLink);\n",
       "        }\n",
       "      </script>\n",
       "    </div>\n",
       "  </div>\n",
       "  "
      ]
     },
     "metadata": {},
     "execution_count": 315
    }
   ]
  },
  {
   "cell_type": "code",
   "source": [
    "overall_stats_raw_df.dtypes"
   ],
   "metadata": {
    "id": "DtktnMLEe4cA",
    "outputId": "a95265ee-b7fa-4e6e-9266-54f76cf06c02",
    "colab": {
     "base_uri": "https://localhost:8080/"
    },
    "pycharm": {
     "name": "#%%\n"
    }
   },
   "execution_count": 316,
   "outputs": [
    {
     "output_type": "execute_result",
     "data": {
      "text/plain": [
       "viewCount          object\n",
       "subscriberCount    object\n",
       "videoCount         object\n",
       "channelName        object\n",
       "dtype: object"
      ]
     },
     "metadata": {},
     "execution_count": 316
    }
   ]
  },
  {
   "cell_type": "code",
   "source": [
    "ov_features = ['channelName', 'ov_viewCount', 'ov_subscriberCount', 'ov_videoCount']\n",
    "ov_stats_pre_df1 = create_dataset(overall_stats_raw_df, ov_features, primary=False)"
   ],
   "metadata": {
    "id": "i3dDxWice4ef",
    "pycharm": {
     "name": "#%%\n"
    }
   },
   "execution_count": 317,
   "outputs": []
  },
  {
   "cell_type": "code",
   "source": [
    "ov_stats_pre_df1.head()"
   ],
   "metadata": {
    "id": "X6g_BYTSe4hV",
    "outputId": "ce86abf4-55fa-4e88-c5cc-d97c3103fe16",
    "colab": {
     "base_uri": "https://localhost:8080/",
     "height": 204
    },
    "pycharm": {
     "name": "#%%\n"
    }
   },
   "execution_count": 318,
   "outputs": [
    {
     "output_type": "execute_result",
     "data": {
      "text/plain": [
       "                              channelName  ov_viewCount  ov_subscriberCount  \\\n",
       "0                        historia civilis   104555954.0            886000.0   \n",
       "1                         feature history    38446899.0            589000.0   \n",
       "2            overly sarcastic productions   555990509.0           2020000.0   \n",
       "3  timeline - world history documentaries   968644695.0           4350000.0   \n",
       "4                              bazbattles    84993307.0            707000.0   \n",
       "\n",
       "   ov_videoCount  \n",
       "0           81.0  \n",
       "1           55.0  \n",
       "2          447.0  \n",
       "3         1002.0  \n",
       "4           76.0  "
      ],
      "text/html": [
       "\n",
       "  <div id=\"df-0efee984-908e-457d-a761-5741222f7a65\">\n",
       "    <div class=\"colab-df-container\">\n",
       "      <div>\n",
       "<style scoped>\n",
       "    .dataframe tbody tr th:only-of-type {\n",
       "        vertical-align: middle;\n",
       "    }\n",
       "\n",
       "    .dataframe tbody tr th {\n",
       "        vertical-align: top;\n",
       "    }\n",
       "\n",
       "    .dataframe thead th {\n",
       "        text-align: right;\n",
       "    }\n",
       "</style>\n",
       "<table border=\"1\" class=\"dataframe\">\n",
       "  <thead>\n",
       "    <tr style=\"text-align: right;\">\n",
       "      <th></th>\n",
       "      <th>channelName</th>\n",
       "      <th>ov_viewCount</th>\n",
       "      <th>ov_subscriberCount</th>\n",
       "      <th>ov_videoCount</th>\n",
       "    </tr>\n",
       "  </thead>\n",
       "  <tbody>\n",
       "    <tr>\n",
       "      <th>0</th>\n",
       "      <td>historia civilis</td>\n",
       "      <td>104555954.0</td>\n",
       "      <td>886000.0</td>\n",
       "      <td>81.0</td>\n",
       "    </tr>\n",
       "    <tr>\n",
       "      <th>1</th>\n",
       "      <td>feature history</td>\n",
       "      <td>38446899.0</td>\n",
       "      <td>589000.0</td>\n",
       "      <td>55.0</td>\n",
       "    </tr>\n",
       "    <tr>\n",
       "      <th>2</th>\n",
       "      <td>overly sarcastic productions</td>\n",
       "      <td>555990509.0</td>\n",
       "      <td>2020000.0</td>\n",
       "      <td>447.0</td>\n",
       "    </tr>\n",
       "    <tr>\n",
       "      <th>3</th>\n",
       "      <td>timeline - world history documentaries</td>\n",
       "      <td>968644695.0</td>\n",
       "      <td>4350000.0</td>\n",
       "      <td>1002.0</td>\n",
       "    </tr>\n",
       "    <tr>\n",
       "      <th>4</th>\n",
       "      <td>bazbattles</td>\n",
       "      <td>84993307.0</td>\n",
       "      <td>707000.0</td>\n",
       "      <td>76.0</td>\n",
       "    </tr>\n",
       "  </tbody>\n",
       "</table>\n",
       "</div>\n",
       "      <button class=\"colab-df-convert\" onclick=\"convertToInteractive('df-0efee984-908e-457d-a761-5741222f7a65')\"\n",
       "              title=\"Convert this dataframe to an interactive table.\"\n",
       "              style=\"display:none;\">\n",
       "        \n",
       "  <svg xmlns=\"http://www.w3.org/2000/svg\" height=\"24px\"viewBox=\"0 0 24 24\"\n",
       "       width=\"24px\">\n",
       "    <path d=\"M0 0h24v24H0V0z\" fill=\"none\"/>\n",
       "    <path d=\"M18.56 5.44l.94 2.06.94-2.06 2.06-.94-2.06-.94-.94-2.06-.94 2.06-2.06.94zm-11 1L8.5 8.5l.94-2.06 2.06-.94-2.06-.94L8.5 2.5l-.94 2.06-2.06.94zm10 10l.94 2.06.94-2.06 2.06-.94-2.06-.94-.94-2.06-.94 2.06-2.06.94z\"/><path d=\"M17.41 7.96l-1.37-1.37c-.4-.4-.92-.59-1.43-.59-.52 0-1.04.2-1.43.59L10.3 9.45l-7.72 7.72c-.78.78-.78 2.05 0 2.83L4 21.41c.39.39.9.59 1.41.59.51 0 1.02-.2 1.41-.59l7.78-7.78 2.81-2.81c.8-.78.8-2.07 0-2.86zM5.41 20L4 18.59l7.72-7.72 1.47 1.35L5.41 20z\"/>\n",
       "  </svg>\n",
       "      </button>\n",
       "      \n",
       "  <style>\n",
       "    .colab-df-container {\n",
       "      display:flex;\n",
       "      flex-wrap:wrap;\n",
       "      gap: 12px;\n",
       "    }\n",
       "\n",
       "    .colab-df-convert {\n",
       "      background-color: #E8F0FE;\n",
       "      border: none;\n",
       "      border-radius: 50%;\n",
       "      cursor: pointer;\n",
       "      display: none;\n",
       "      fill: #1967D2;\n",
       "      height: 32px;\n",
       "      padding: 0 0 0 0;\n",
       "      width: 32px;\n",
       "    }\n",
       "\n",
       "    .colab-df-convert:hover {\n",
       "      background-color: #E2EBFA;\n",
       "      box-shadow: 0px 1px 2px rgba(60, 64, 67, 0.3), 0px 1px 3px 1px rgba(60, 64, 67, 0.15);\n",
       "      fill: #174EA6;\n",
       "    }\n",
       "\n",
       "    [theme=dark] .colab-df-convert {\n",
       "      background-color: #3B4455;\n",
       "      fill: #D2E3FC;\n",
       "    }\n",
       "\n",
       "    [theme=dark] .colab-df-convert:hover {\n",
       "      background-color: #434B5C;\n",
       "      box-shadow: 0px 1px 3px 1px rgba(0, 0, 0, 0.15);\n",
       "      filter: drop-shadow(0px 1px 2px rgba(0, 0, 0, 0.3));\n",
       "      fill: #FFFFFF;\n",
       "    }\n",
       "  </style>\n",
       "\n",
       "      <script>\n",
       "        const buttonEl =\n",
       "          document.querySelector('#df-0efee984-908e-457d-a761-5741222f7a65 button.colab-df-convert');\n",
       "        buttonEl.style.display =\n",
       "          google.colab.kernel.accessAllowed ? 'block' : 'none';\n",
       "\n",
       "        async function convertToInteractive(key) {\n",
       "          const element = document.querySelector('#df-0efee984-908e-457d-a761-5741222f7a65');\n",
       "          const dataTable =\n",
       "            await google.colab.kernel.invokeFunction('convertToInteractive',\n",
       "                                                     [key], {});\n",
       "          if (!dataTable) return;\n",
       "\n",
       "          const docLinkHtml = 'Like what you see? Visit the ' +\n",
       "            '<a target=\"_blank\" href=https://colab.research.google.com/notebooks/data_table.ipynb>data table notebook</a>'\n",
       "            + ' to learn more about interactive tables.';\n",
       "          element.innerHTML = '';\n",
       "          dataTable['output_type'] = 'display_data';\n",
       "          await google.colab.output.renderOutput(dataTable, element);\n",
       "          const docLink = document.createElement('div');\n",
       "          docLink.innerHTML = docLinkHtml;\n",
       "          element.appendChild(docLink);\n",
       "        }\n",
       "      </script>\n",
       "    </div>\n",
       "  </div>\n",
       "  "
      ]
     },
     "metadata": {},
     "execution_count": 318
    }
   ]
  },
  {
   "cell_type": "code",
   "source": [
    "ov_stats_pre_df1.isna().sum()"
   ],
   "metadata": {
    "id": "FfgaWA8V45MV",
    "outputId": "db438c96-d074-47e0-883b-9ad5e2298e5d",
    "colab": {
     "base_uri": "https://localhost:8080/"
    },
    "pycharm": {
     "name": "#%%\n"
    }
   },
   "execution_count": 319,
   "outputs": [
    {
     "output_type": "execute_result",
     "data": {
      "text/plain": [
       "channelName           0\n",
       "ov_viewCount          0\n",
       "ov_subscriberCount    0\n",
       "ov_videoCount         0\n",
       "dtype: int64"
      ]
     },
     "metadata": {},
     "execution_count": 319
    }
   ]
  },
  {
   "cell_type": "markdown",
   "source": [
    "With both the datasets ready and a basic relation overview amongst the features, we can now move onto the phase of text processing to make it machine interpretable."
   ],
   "metadata": {
    "id": "kWT7M_k0m45b",
    "pycharm": {
     "name": "#%% md\n"
    }
   }
  },
  {
   "cell_type": "code",
   "source": [
    "df = pd.merge(preproc2_df, ov_stats_pre_df1, how='left', left_on='channelTitle', right_on='channelName')\n",
    "df.head()"
   ],
   "metadata": {
    "id": "DQv5dVa_S1oe",
    "outputId": "5c88c830-f522-4786-c520-81580fc446cd",
    "colab": {
     "base_uri": "https://localhost:8080/",
     "height": 540
    },
    "pycharm": {
     "name": "#%%\n"
    }
   },
   "execution_count": 320,
   "outputs": [
    {
     "output_type": "execute_result",
     "data": {
      "text/plain": [
       "                                        title  \\\n",
       "0                    [congress, vienna, part]   \n",
       "1                    [congress, vienna, part]   \n",
       "2                                     [peace]   \n",
       "3        [antony, invasion, parthia, b, c, e]   \n",
       "4  [sextus, pompeius, sicilian, war, b, c, e]   \n",
       "\n",
       "                                         description      channelTitle  \\\n",
       "0  [patreon, url, donate, url, merch, url, mailin...  historia civilis   \n",
       "1  [patreon, url, donate, url, merch, url, mailin...  historia civilis   \n",
       "2  [patreon, url, donate, url, merch, url, mailin...  historia civilis   \n",
       "3  [patreon, url, donate, url, merch, url, mailin...  historia civilis   \n",
       "4  [patreon, url, donate, url, merch, url, mailin...  historia civilis   \n",
       "\n",
       "   categoryId  viewCount  likeCount  commentCount  duration_secs definition  \\\n",
       "0        27.0   800074.0    32071.0        3556.0         3072.0         hd   \n",
       "1        27.0  1413335.0    44184.0        3961.0         2806.0         hd   \n",
       "2        27.0   694878.0    38608.0        5421.0         1159.0         hd   \n",
       "3        27.0  1044187.0    35907.0        3369.0         1824.0         hd   \n",
       "4        27.0  1290695.0    40590.0        5018.0         2292.0         hd   \n",
       "\n",
       "                    topicCategories  publishedDayNum       channelName  \\\n",
       "0                       [knowledge]               92  historia civilis   \n",
       "1                       [knowledge]               29  historia civilis   \n",
       "2  [knowledge, strategy_video_game]              199  historia civilis   \n",
       "3  [knowledge, strategy_video_game]              114  historia civilis   \n",
       "4                       [knowledge]               16  historia civilis   \n",
       "\n",
       "   ov_viewCount  ov_subscriberCount  ov_videoCount  \n",
       "0   104555954.0            886000.0           81.0  \n",
       "1   104555954.0            886000.0           81.0  \n",
       "2   104555954.0            886000.0           81.0  \n",
       "3   104555954.0            886000.0           81.0  \n",
       "4   104555954.0            886000.0           81.0  "
      ],
      "text/html": [
       "\n",
       "  <div id=\"df-45ae1253-1c7f-40c1-8776-aba105826df0\">\n",
       "    <div class=\"colab-df-container\">\n",
       "      <div>\n",
       "<style scoped>\n",
       "    .dataframe tbody tr th:only-of-type {\n",
       "        vertical-align: middle;\n",
       "    }\n",
       "\n",
       "    .dataframe tbody tr th {\n",
       "        vertical-align: top;\n",
       "    }\n",
       "\n",
       "    .dataframe thead th {\n",
       "        text-align: right;\n",
       "    }\n",
       "</style>\n",
       "<table border=\"1\" class=\"dataframe\">\n",
       "  <thead>\n",
       "    <tr style=\"text-align: right;\">\n",
       "      <th></th>\n",
       "      <th>title</th>\n",
       "      <th>description</th>\n",
       "      <th>channelTitle</th>\n",
       "      <th>categoryId</th>\n",
       "      <th>viewCount</th>\n",
       "      <th>likeCount</th>\n",
       "      <th>commentCount</th>\n",
       "      <th>duration_secs</th>\n",
       "      <th>definition</th>\n",
       "      <th>topicCategories</th>\n",
       "      <th>publishedDayNum</th>\n",
       "      <th>channelName</th>\n",
       "      <th>ov_viewCount</th>\n",
       "      <th>ov_subscriberCount</th>\n",
       "      <th>ov_videoCount</th>\n",
       "    </tr>\n",
       "  </thead>\n",
       "  <tbody>\n",
       "    <tr>\n",
       "      <th>0</th>\n",
       "      <td>[congress, vienna, part]</td>\n",
       "      <td>[patreon, url, donate, url, merch, url, mailin...</td>\n",
       "      <td>historia civilis</td>\n",
       "      <td>27.0</td>\n",
       "      <td>800074.0</td>\n",
       "      <td>32071.0</td>\n",
       "      <td>3556.0</td>\n",
       "      <td>3072.0</td>\n",
       "      <td>hd</td>\n",
       "      <td>[knowledge]</td>\n",
       "      <td>92</td>\n",
       "      <td>historia civilis</td>\n",
       "      <td>104555954.0</td>\n",
       "      <td>886000.0</td>\n",
       "      <td>81.0</td>\n",
       "    </tr>\n",
       "    <tr>\n",
       "      <th>1</th>\n",
       "      <td>[congress, vienna, part]</td>\n",
       "      <td>[patreon, url, donate, url, merch, url, mailin...</td>\n",
       "      <td>historia civilis</td>\n",
       "      <td>27.0</td>\n",
       "      <td>1413335.0</td>\n",
       "      <td>44184.0</td>\n",
       "      <td>3961.0</td>\n",
       "      <td>2806.0</td>\n",
       "      <td>hd</td>\n",
       "      <td>[knowledge]</td>\n",
       "      <td>29</td>\n",
       "      <td>historia civilis</td>\n",
       "      <td>104555954.0</td>\n",
       "      <td>886000.0</td>\n",
       "      <td>81.0</td>\n",
       "    </tr>\n",
       "    <tr>\n",
       "      <th>2</th>\n",
       "      <td>[peace]</td>\n",
       "      <td>[patreon, url, donate, url, merch, url, mailin...</td>\n",
       "      <td>historia civilis</td>\n",
       "      <td>27.0</td>\n",
       "      <td>694878.0</td>\n",
       "      <td>38608.0</td>\n",
       "      <td>5421.0</td>\n",
       "      <td>1159.0</td>\n",
       "      <td>hd</td>\n",
       "      <td>[knowledge, strategy_video_game]</td>\n",
       "      <td>199</td>\n",
       "      <td>historia civilis</td>\n",
       "      <td>104555954.0</td>\n",
       "      <td>886000.0</td>\n",
       "      <td>81.0</td>\n",
       "    </tr>\n",
       "    <tr>\n",
       "      <th>3</th>\n",
       "      <td>[antony, invasion, parthia, b, c, e]</td>\n",
       "      <td>[patreon, url, donate, url, merch, url, mailin...</td>\n",
       "      <td>historia civilis</td>\n",
       "      <td>27.0</td>\n",
       "      <td>1044187.0</td>\n",
       "      <td>35907.0</td>\n",
       "      <td>3369.0</td>\n",
       "      <td>1824.0</td>\n",
       "      <td>hd</td>\n",
       "      <td>[knowledge, strategy_video_game]</td>\n",
       "      <td>114</td>\n",
       "      <td>historia civilis</td>\n",
       "      <td>104555954.0</td>\n",
       "      <td>886000.0</td>\n",
       "      <td>81.0</td>\n",
       "    </tr>\n",
       "    <tr>\n",
       "      <th>4</th>\n",
       "      <td>[sextus, pompeius, sicilian, war, b, c, e]</td>\n",
       "      <td>[patreon, url, donate, url, merch, url, mailin...</td>\n",
       "      <td>historia civilis</td>\n",
       "      <td>27.0</td>\n",
       "      <td>1290695.0</td>\n",
       "      <td>40590.0</td>\n",
       "      <td>5018.0</td>\n",
       "      <td>2292.0</td>\n",
       "      <td>hd</td>\n",
       "      <td>[knowledge]</td>\n",
       "      <td>16</td>\n",
       "      <td>historia civilis</td>\n",
       "      <td>104555954.0</td>\n",
       "      <td>886000.0</td>\n",
       "      <td>81.0</td>\n",
       "    </tr>\n",
       "  </tbody>\n",
       "</table>\n",
       "</div>\n",
       "      <button class=\"colab-df-convert\" onclick=\"convertToInteractive('df-45ae1253-1c7f-40c1-8776-aba105826df0')\"\n",
       "              title=\"Convert this dataframe to an interactive table.\"\n",
       "              style=\"display:none;\">\n",
       "        \n",
       "  <svg xmlns=\"http://www.w3.org/2000/svg\" height=\"24px\"viewBox=\"0 0 24 24\"\n",
       "       width=\"24px\">\n",
       "    <path d=\"M0 0h24v24H0V0z\" fill=\"none\"/>\n",
       "    <path d=\"M18.56 5.44l.94 2.06.94-2.06 2.06-.94-2.06-.94-.94-2.06-.94 2.06-2.06.94zm-11 1L8.5 8.5l.94-2.06 2.06-.94-2.06-.94L8.5 2.5l-.94 2.06-2.06.94zm10 10l.94 2.06.94-2.06 2.06-.94-2.06-.94-.94-2.06-.94 2.06-2.06.94z\"/><path d=\"M17.41 7.96l-1.37-1.37c-.4-.4-.92-.59-1.43-.59-.52 0-1.04.2-1.43.59L10.3 9.45l-7.72 7.72c-.78.78-.78 2.05 0 2.83L4 21.41c.39.39.9.59 1.41.59.51 0 1.02-.2 1.41-.59l7.78-7.78 2.81-2.81c.8-.78.8-2.07 0-2.86zM5.41 20L4 18.59l7.72-7.72 1.47 1.35L5.41 20z\"/>\n",
       "  </svg>\n",
       "      </button>\n",
       "      \n",
       "  <style>\n",
       "    .colab-df-container {\n",
       "      display:flex;\n",
       "      flex-wrap:wrap;\n",
       "      gap: 12px;\n",
       "    }\n",
       "\n",
       "    .colab-df-convert {\n",
       "      background-color: #E8F0FE;\n",
       "      border: none;\n",
       "      border-radius: 50%;\n",
       "      cursor: pointer;\n",
       "      display: none;\n",
       "      fill: #1967D2;\n",
       "      height: 32px;\n",
       "      padding: 0 0 0 0;\n",
       "      width: 32px;\n",
       "    }\n",
       "\n",
       "    .colab-df-convert:hover {\n",
       "      background-color: #E2EBFA;\n",
       "      box-shadow: 0px 1px 2px rgba(60, 64, 67, 0.3), 0px 1px 3px 1px rgba(60, 64, 67, 0.15);\n",
       "      fill: #174EA6;\n",
       "    }\n",
       "\n",
       "    [theme=dark] .colab-df-convert {\n",
       "      background-color: #3B4455;\n",
       "      fill: #D2E3FC;\n",
       "    }\n",
       "\n",
       "    [theme=dark] .colab-df-convert:hover {\n",
       "      background-color: #434B5C;\n",
       "      box-shadow: 0px 1px 3px 1px rgba(0, 0, 0, 0.15);\n",
       "      filter: drop-shadow(0px 1px 2px rgba(0, 0, 0, 0.3));\n",
       "      fill: #FFFFFF;\n",
       "    }\n",
       "  </style>\n",
       "\n",
       "      <script>\n",
       "        const buttonEl =\n",
       "          document.querySelector('#df-45ae1253-1c7f-40c1-8776-aba105826df0 button.colab-df-convert');\n",
       "        buttonEl.style.display =\n",
       "          google.colab.kernel.accessAllowed ? 'block' : 'none';\n",
       "\n",
       "        async function convertToInteractive(key) {\n",
       "          const element = document.querySelector('#df-45ae1253-1c7f-40c1-8776-aba105826df0');\n",
       "          const dataTable =\n",
       "            await google.colab.kernel.invokeFunction('convertToInteractive',\n",
       "                                                     [key], {});\n",
       "          if (!dataTable) return;\n",
       "\n",
       "          const docLinkHtml = 'Like what you see? Visit the ' +\n",
       "            '<a target=\"_blank\" href=https://colab.research.google.com/notebooks/data_table.ipynb>data table notebook</a>'\n",
       "            + ' to learn more about interactive tables.';\n",
       "          element.innerHTML = '';\n",
       "          dataTable['output_type'] = 'display_data';\n",
       "          await google.colab.output.renderOutput(dataTable, element);\n",
       "          const docLink = document.createElement('div');\n",
       "          docLink.innerHTML = docLinkHtml;\n",
       "          element.appendChild(docLink);\n",
       "        }\n",
       "      </script>\n",
       "    </div>\n",
       "  </div>\n",
       "  "
      ]
     },
     "metadata": {},
     "execution_count": 320
    }
   ]
  },
  {
   "cell_type": "code",
   "source": [
    "df['std_viewCount'] = df.groupby('channelTitle').viewCount.apply(lambda x: (x - x.mean()) / x.std()).values"
   ],
   "metadata": {
    "id": "FZnJtYcUCbXw",
    "pycharm": {
     "name": "#%%\n"
    }
   },
   "execution_count": 321,
   "outputs": []
  },
  {
   "cell_type": "code",
   "source": [
    "unique_topics_list = set()\n",
    "for topic_list in df.topicCategories.values:\n",
    "  for topic in topic_list:\n",
    "    unique_topics_list.add(topic)\n",
    "\n",
    "unique_titles_word_list = set()\n",
    "for topic_list in df.title.values:\n",
    "  for topic in topic_list:\n",
    "    unique_titles_word_list.add(topic)"
   ],
   "metadata": {
    "id": "hchCQuvhTNRD",
    "pycharm": {
     "name": "#%%\n"
    }
   },
   "execution_count": 326,
   "outputs": []
  },
  {
   "cell_type": "code",
   "source": [
    "# unique_titles_word_list"
   ],
   "metadata": {
    "id": "wdThw77_YjVE",
    "pycharm": {
     "name": "#%%\n"
    }
   },
   "execution_count": 329,
   "outputs": []
  },
  {
   "cell_type": "code",
   "source": [
    "basic_model_features = ['title', 'topicCategories', 'definition', 'publishedDayNum', 'duration_secs', 'std_viewCount']\n",
    "basic_model_data = df[basic_model_features]\n",
    "\n",
    "basic_model_data.head()"
   ],
   "metadata": {
    "id": "ouZJO-GlaAAW",
    "outputId": "fe529700-5c2d-4b9f-dad1-aa00195393c4",
    "colab": {
     "base_uri": "https://localhost:8080/",
     "height": 204
    },
    "pycharm": {
     "name": "#%%\n"
    }
   },
   "execution_count": 358,
   "outputs": [
    {
     "output_type": "execute_result",
     "data": {
      "text/plain": [
       "                                        title  \\\n",
       "0                    [congress, vienna, part]   \n",
       "1                    [congress, vienna, part]   \n",
       "2                                     [peace]   \n",
       "3        [antony, invasion, parthia, b, c, e]   \n",
       "4  [sextus, pompeius, sicilian, war, b, c, e]   \n",
       "\n",
       "                    topicCategories definition  publishedDayNum  \\\n",
       "0                       [knowledge]         hd               92   \n",
       "1                       [knowledge]         hd               29   \n",
       "2  [knowledge, strategy_video_game]         hd              199   \n",
       "3  [knowledge, strategy_video_game]         hd              114   \n",
       "4                       [knowledge]         hd               16   \n",
       "\n",
       "   duration_secs  std_viewCount  \n",
       "0         3072.0      -0.587774  \n",
       "1         2806.0       0.132511  \n",
       "2         1159.0      -0.711329  \n",
       "3         1824.0      -0.301059  \n",
       "4         2292.0      -0.011532  "
      ],
      "text/html": [
       "\n",
       "  <div id=\"df-6d9e9fda-ccac-4f87-a317-e9fe952ba8dd\">\n",
       "    <div class=\"colab-df-container\">\n",
       "      <div>\n",
       "<style scoped>\n",
       "    .dataframe tbody tr th:only-of-type {\n",
       "        vertical-align: middle;\n",
       "    }\n",
       "\n",
       "    .dataframe tbody tr th {\n",
       "        vertical-align: top;\n",
       "    }\n",
       "\n",
       "    .dataframe thead th {\n",
       "        text-align: right;\n",
       "    }\n",
       "</style>\n",
       "<table border=\"1\" class=\"dataframe\">\n",
       "  <thead>\n",
       "    <tr style=\"text-align: right;\">\n",
       "      <th></th>\n",
       "      <th>title</th>\n",
       "      <th>topicCategories</th>\n",
       "      <th>definition</th>\n",
       "      <th>publishedDayNum</th>\n",
       "      <th>duration_secs</th>\n",
       "      <th>std_viewCount</th>\n",
       "    </tr>\n",
       "  </thead>\n",
       "  <tbody>\n",
       "    <tr>\n",
       "      <th>0</th>\n",
       "      <td>[congress, vienna, part]</td>\n",
       "      <td>[knowledge]</td>\n",
       "      <td>hd</td>\n",
       "      <td>92</td>\n",
       "      <td>3072.0</td>\n",
       "      <td>-0.587774</td>\n",
       "    </tr>\n",
       "    <tr>\n",
       "      <th>1</th>\n",
       "      <td>[congress, vienna, part]</td>\n",
       "      <td>[knowledge]</td>\n",
       "      <td>hd</td>\n",
       "      <td>29</td>\n",
       "      <td>2806.0</td>\n",
       "      <td>0.132511</td>\n",
       "    </tr>\n",
       "    <tr>\n",
       "      <th>2</th>\n",
       "      <td>[peace]</td>\n",
       "      <td>[knowledge, strategy_video_game]</td>\n",
       "      <td>hd</td>\n",
       "      <td>199</td>\n",
       "      <td>1159.0</td>\n",
       "      <td>-0.711329</td>\n",
       "    </tr>\n",
       "    <tr>\n",
       "      <th>3</th>\n",
       "      <td>[antony, invasion, parthia, b, c, e]</td>\n",
       "      <td>[knowledge, strategy_video_game]</td>\n",
       "      <td>hd</td>\n",
       "      <td>114</td>\n",
       "      <td>1824.0</td>\n",
       "      <td>-0.301059</td>\n",
       "    </tr>\n",
       "    <tr>\n",
       "      <th>4</th>\n",
       "      <td>[sextus, pompeius, sicilian, war, b, c, e]</td>\n",
       "      <td>[knowledge]</td>\n",
       "      <td>hd</td>\n",
       "      <td>16</td>\n",
       "      <td>2292.0</td>\n",
       "      <td>-0.011532</td>\n",
       "    </tr>\n",
       "  </tbody>\n",
       "</table>\n",
       "</div>\n",
       "      <button class=\"colab-df-convert\" onclick=\"convertToInteractive('df-6d9e9fda-ccac-4f87-a317-e9fe952ba8dd')\"\n",
       "              title=\"Convert this dataframe to an interactive table.\"\n",
       "              style=\"display:none;\">\n",
       "        \n",
       "  <svg xmlns=\"http://www.w3.org/2000/svg\" height=\"24px\"viewBox=\"0 0 24 24\"\n",
       "       width=\"24px\">\n",
       "    <path d=\"M0 0h24v24H0V0z\" fill=\"none\"/>\n",
       "    <path d=\"M18.56 5.44l.94 2.06.94-2.06 2.06-.94-2.06-.94-.94-2.06-.94 2.06-2.06.94zm-11 1L8.5 8.5l.94-2.06 2.06-.94-2.06-.94L8.5 2.5l-.94 2.06-2.06.94zm10 10l.94 2.06.94-2.06 2.06-.94-2.06-.94-.94-2.06-.94 2.06-2.06.94z\"/><path d=\"M17.41 7.96l-1.37-1.37c-.4-.4-.92-.59-1.43-.59-.52 0-1.04.2-1.43.59L10.3 9.45l-7.72 7.72c-.78.78-.78 2.05 0 2.83L4 21.41c.39.39.9.59 1.41.59.51 0 1.02-.2 1.41-.59l7.78-7.78 2.81-2.81c.8-.78.8-2.07 0-2.86zM5.41 20L4 18.59l7.72-7.72 1.47 1.35L5.41 20z\"/>\n",
       "  </svg>\n",
       "      </button>\n",
       "      \n",
       "  <style>\n",
       "    .colab-df-container {\n",
       "      display:flex;\n",
       "      flex-wrap:wrap;\n",
       "      gap: 12px;\n",
       "    }\n",
       "\n",
       "    .colab-df-convert {\n",
       "      background-color: #E8F0FE;\n",
       "      border: none;\n",
       "      border-radius: 50%;\n",
       "      cursor: pointer;\n",
       "      display: none;\n",
       "      fill: #1967D2;\n",
       "      height: 32px;\n",
       "      padding: 0 0 0 0;\n",
       "      width: 32px;\n",
       "    }\n",
       "\n",
       "    .colab-df-convert:hover {\n",
       "      background-color: #E2EBFA;\n",
       "      box-shadow: 0px 1px 2px rgba(60, 64, 67, 0.3), 0px 1px 3px 1px rgba(60, 64, 67, 0.15);\n",
       "      fill: #174EA6;\n",
       "    }\n",
       "\n",
       "    [theme=dark] .colab-df-convert {\n",
       "      background-color: #3B4455;\n",
       "      fill: #D2E3FC;\n",
       "    }\n",
       "\n",
       "    [theme=dark] .colab-df-convert:hover {\n",
       "      background-color: #434B5C;\n",
       "      box-shadow: 0px 1px 3px 1px rgba(0, 0, 0, 0.15);\n",
       "      filter: drop-shadow(0px 1px 2px rgba(0, 0, 0, 0.3));\n",
       "      fill: #FFFFFF;\n",
       "    }\n",
       "  </style>\n",
       "\n",
       "      <script>\n",
       "        const buttonEl =\n",
       "          document.querySelector('#df-6d9e9fda-ccac-4f87-a317-e9fe952ba8dd button.colab-df-convert');\n",
       "        buttonEl.style.display =\n",
       "          google.colab.kernel.accessAllowed ? 'block' : 'none';\n",
       "\n",
       "        async function convertToInteractive(key) {\n",
       "          const element = document.querySelector('#df-6d9e9fda-ccac-4f87-a317-e9fe952ba8dd');\n",
       "          const dataTable =\n",
       "            await google.colab.kernel.invokeFunction('convertToInteractive',\n",
       "                                                     [key], {});\n",
       "          if (!dataTable) return;\n",
       "\n",
       "          const docLinkHtml = 'Like what you see? Visit the ' +\n",
       "            '<a target=\"_blank\" href=https://colab.research.google.com/notebooks/data_table.ipynb>data table notebook</a>'\n",
       "            + ' to learn more about interactive tables.';\n",
       "          element.innerHTML = '';\n",
       "          dataTable['output_type'] = 'display_data';\n",
       "          await google.colab.output.renderOutput(dataTable, element);\n",
       "          const docLink = document.createElement('div');\n",
       "          docLink.innerHTML = docLinkHtml;\n",
       "          element.appendChild(docLink);\n",
       "        }\n",
       "      </script>\n",
       "    </div>\n",
       "  </div>\n",
       "  "
      ]
     },
     "metadata": {},
     "execution_count": 358
    }
   ]
  },
  {
   "cell_type": "code",
   "source": [
    "import seaborn as sns\n",
    "#b4 transform\n",
    "sns.distplot(basic_model_data.duration_secs+1);"
   ],
   "metadata": {
    "id": "htD-0uJkehjo",
    "outputId": "10e3185a-4ab9-46af-da85-39cf71a1258d",
    "colab": {
     "base_uri": "https://localhost:8080/",
     "height": 280
    },
    "pycharm": {
     "name": "#%%\n"
    }
   },
   "execution_count": 599,
   "outputs": [
    {
     "output_type": "display_data",
     "data": {
      "text/plain": [
       "<Figure size 432x288 with 1 Axes>"
      ],
      "image/png": "[encoded data removed]"
     },
     "metadata": {
      "needs_background": "light"
     }
    }
   ]
  },
  {
   "cell_type": "code",
   "source": [
    "#after transform\n",
    "sns.distplot(np.log(basic_model_data.duration_secs+1));"
   ],
   "metadata": {
    "id": "f_cfd7yuvx6q",
    "outputId": "6a791db9-d76e-47f8-d51b-985fd0765a8e",
    "colab": {
     "base_uri": "https://localhost:8080/",
     "height": 280
    },
    "pycharm": {
     "name": "#%%\n"
    }
   },
   "execution_count": 600,
   "outputs": [
    {
     "output_type": "display_data",
     "data": {
      "text/plain": [
       "<Figure size 432x288 with 1 Axes>"
      ],
      "image/png": "[encoded data removed]"
     },
     "metadata": {
      "needs_background": "light"
     }
    }
   ]
  },
  {
   "cell_type": "code",
   "source": [
    "word2vec_titles = Word2Vec(basic_model_data.title, min_count=1)\n",
    "word2vec_topics = Word2Vec(basic_model_data.topicCategories, min_count=1)"
   ],
   "metadata": {
    "id": "HtQu1FwAbXLL",
    "pycharm": {
     "name": "#%%\n"
    }
   },
   "execution_count": 334,
   "outputs": []
  },
  {
   "cell_type": "code",
   "source": [
    "# word2vec_titles.wv.vocab\n",
    "word2vec_titles.wv['artificial'].shape"
   ],
   "metadata": {
    "id": "XjCqmQ87rsHI",
    "outputId": "cec7fecf-ba71-448a-9c8d-5543bbcab369",
    "colab": {
     "base_uri": "https://localhost:8080/"
    },
    "pycharm": {
     "name": "#%%\n"
    }
   },
   "execution_count": 368,
   "outputs": [
    {
     "output_type": "execute_result",
     "data": {
      "text/plain": [
       "(100,)"
      ]
     },
     "metadata": {},
     "execution_count": 368
    }
   ]
  },
  {
   "cell_type": "code",
   "source": [
    "# word2vec_titles.most_similar('travel')"
   ],
   "metadata": {
    "id": "1mKk_Afasedj",
    "pycharm": {
     "name": "#%%\n"
    }
   },
   "execution_count": 339,
   "outputs": []
  },
  {
   "cell_type": "code",
   "source": [
    "def w2v_models(df, col_list):\n",
    "\n",
    "  model_dict = {}\n",
    "  for col in col_list:\n",
    "    model_dict[col] = Word2Vec(df[col], min_count=1)\n",
    "  \n",
    "  return model_dict"
   ],
   "metadata": {
    "id": "60W1r2aKtUal",
    "pycharm": {
     "name": "#%%\n"
    }
   },
   "execution_count": 364,
   "outputs": []
  },
  {
   "cell_type": "code",
   "source": [
    "w2v_model_dict = w2v_models(basic_model_data, ['title', 'topicCategories'])"
   ],
   "metadata": {
    "id": "FNlOQoyUyMZz",
    "pycharm": {
     "name": "#%%\n"
    }
   },
   "execution_count": 365,
   "outputs": []
  },
  {
   "cell_type": "code",
   "source": [
    "w2v_model_dict"
   ],
   "metadata": {
    "id": "snXGyKHY0twY",
    "outputId": "4025eeab-086b-45f9-8961-c9c8b75cad00",
    "colab": {
     "base_uri": "https://localhost:8080/"
    },
    "pycharm": {
     "name": "#%%\n"
    }
   },
   "execution_count": 366,
   "outputs": [
    {
     "output_type": "execute_result",
     "data": {
      "text/plain": [
       "{'title': <gensim.models.word2vec.Word2Vec at 0x7f001a951690>,\n",
       " 'topicCategories': <gensim.models.word2vec.Word2Vec at 0x7f0042190210>}"
      ]
     },
     "metadata": {},
     "execution_count": 366
    }
   ]
  },
  {
   "cell_type": "code",
   "source": [
    "def vectorise_text(df, model):\n",
    "  arr = np.zeros(100)\n",
    "  for word in df:\n",
    "    arr+=model.wv[word]\n",
    "    \n",
    "  return(np.mean(np.expand_dims(arr, axis=1), axis=1))"
   ],
   "metadata": {
    "id": "UX7fFVaz0x-g",
    "pycharm": {
     "name": "#%%\n"
    }
   },
   "execution_count": 394,
   "outputs": []
  },
  {
   "cell_type": "code",
   "source": [
    "# vectorise_text([\"science\", \"art\"], w2v_model_dict['title'])"
   ],
   "metadata": {
    "id": "QTwyrG4f342n",
    "pycharm": {
     "name": "#%%\n"
    }
   },
   "execution_count": 400,
   "outputs": []
  },
  {
   "cell_type": "code",
   "source": [
    "basic_model_data['vec_title'] = basic_model_data.title.apply(vectorise_text, model=w2v_model_dict['title'])\n",
    "basic_model_data['vec_topicCategories'] = basic_model_data.topicCategories.apply(vectorise_text, model=w2v_model_dict['topicCategories'])"
   ],
   "metadata": {
    "id": "HD164gry56tH",
    "pycharm": {
     "name": "#%%\n"
    }
   },
   "execution_count": 398,
   "outputs": []
  },
  {
   "cell_type": "code",
   "source": [
    "['title', 'topicCategories', 'definition', 'publishedDayNum', 'duration_secs', 'std_viewCount']"
   ],
   "metadata": {
    "id": "jHstv5vOACVg",
    "pycharm": {
     "name": "#%%\n"
    }
   },
   "execution_count": null,
   "outputs": []
  },
  {
   "cell_type": "code",
   "source": [
    "titles = pd.DataFrame(basic_model_data.vec_title.tolist(), index= basic_model_data.index, columns=[\"title_\"+str(i) for i in range(1,101)])\n",
    "topics = pd.DataFrame(basic_model_data.vec_topicCategories.tolist(), index= basic_model_data.index, columns=[\"topics_\"+str(i) for i in range(1,101)])\n"
   ],
   "metadata": {
    "id": "-NuUWR_P9mst",
    "pycharm": {
     "name": "#%%\n"
    }
   },
   "execution_count": 406,
   "outputs": []
  },
  {
   "cell_type": "code",
   "source": [
    "data_df = pd.concat([titles, topics, basic_model_data[['publishedDayNum', 'duration_secs', 'std_viewCount']], pd.get_dummies(basic_model_data.definition)], axis=1)"
   ],
   "metadata": {
    "id": "tYH9RTCwATRr",
    "pycharm": {
     "name": "#%%\n"
    }
   },
   "execution_count": 410,
   "outputs": []
  },
  {
   "cell_type": "code",
   "source": [
    "data_df.head()"
   ],
   "metadata": {
    "id": "mxav80BUAfKU",
    "outputId": "897bd52b-2c34-4e87-9063-c7c0dadd6d02",
    "colab": {
     "base_uri": "https://localhost:8080/",
     "height": 297
    },
    "pycharm": {
     "name": "#%%\n"
    }
   },
   "execution_count": 411,
   "outputs": [
    {
     "output_type": "execute_result",
     "data": {
      "text/plain": [
       "    title_1   title_2   title_3   title_4   title_5   title_6   title_7  \\\n",
       "0  0.921085 -0.776300  0.161458 -1.294525 -0.516865  0.318875 -1.401955   \n",
       "1  0.921085 -0.776300  0.161458 -1.294525 -0.516865  0.318875 -1.401955   \n",
       "2  0.168113 -0.172816  0.035180 -0.224995 -0.123210  0.064842 -0.249217   \n",
       "3  1.510565 -1.574027  0.362754 -2.460667 -1.121886  0.678950 -2.622660   \n",
       "4  1.993987 -1.800736  0.475171 -3.076373 -1.291186  0.770481 -3.276942   \n",
       "\n",
       "    title_8   title_9  title_10  ...  topics_96  topics_97  topics_98  \\\n",
       "0  0.658817 -0.592455 -0.534987  ...   0.010759   0.162970  -0.095601   \n",
       "1  0.658817 -0.592455 -0.534987  ...   0.010759   0.162970  -0.095601   \n",
       "2  0.122814 -0.132376 -0.086653  ...   0.052899   0.444102  -0.270265   \n",
       "3  1.207679 -1.036503 -0.812885  ...   0.052899   0.444102  -0.270265   \n",
       "4  1.506734 -1.294124 -1.051870  ...   0.010759   0.162970  -0.095601   \n",
       "\n",
       "   topics_99  topics_100  publishedDayNum  duration_secs  std_viewCount  hd  \\\n",
       "0  -0.170272   -0.138997               92         3072.0      -0.587774   1   \n",
       "1  -0.170272   -0.138997               29         2806.0       0.132511   1   \n",
       "2  -0.421385   -0.353525              199         1159.0      -0.711329   1   \n",
       "3  -0.421385   -0.353525              114         1824.0      -0.301059   1   \n",
       "4  -0.170272   -0.138997               16         2292.0      -0.011532   1   \n",
       "\n",
       "   sd  \n",
       "0   0  \n",
       "1   0  \n",
       "2   0  \n",
       "3   0  \n",
       "4   0  \n",
       "\n",
       "[5 rows x 205 columns]"
      ],
      "text/html": [
       "\n",
       "  <div id=\"df-75ba30cb-f395-4c81-8d41-d5ddf0ef5851\">\n",
       "    <div class=\"colab-df-container\">\n",
       "      <div>\n",
       "<style scoped>\n",
       "    .dataframe tbody tr th:only-of-type {\n",
       "        vertical-align: middle;\n",
       "    }\n",
       "\n",
       "    .dataframe tbody tr th {\n",
       "        vertical-align: top;\n",
       "    }\n",
       "\n",
       "    .dataframe thead th {\n",
       "        text-align: right;\n",
       "    }\n",
       "</style>\n",
       "<table border=\"1\" class=\"dataframe\">\n",
       "  <thead>\n",
       "    <tr style=\"text-align: right;\">\n",
       "      <th></th>\n",
       "      <th>title_1</th>\n",
       "      <th>title_2</th>\n",
       "      <th>title_3</th>\n",
       "      <th>title_4</th>\n",
       "      <th>title_5</th>\n",
       "      <th>title_6</th>\n",
       "      <th>title_7</th>\n",
       "      <th>title_8</th>\n",
       "      <th>title_9</th>\n",
       "      <th>title_10</th>\n",
       "      <th>...</th>\n",
       "      <th>topics_96</th>\n",
       "      <th>topics_97</th>\n",
       "      <th>topics_98</th>\n",
       "      <th>topics_99</th>\n",
       "      <th>topics_100</th>\n",
       "      <th>publishedDayNum</th>\n",
       "      <th>duration_secs</th>\n",
       "      <th>std_viewCount</th>\n",
       "      <th>hd</th>\n",
       "      <th>sd</th>\n",
       "    </tr>\n",
       "  </thead>\n",
       "  <tbody>\n",
       "    <tr>\n",
       "      <th>0</th>\n",
       "      <td>0.921085</td>\n",
       "      <td>-0.776300</td>\n",
       "      <td>0.161458</td>\n",
       "      <td>-1.294525</td>\n",
       "      <td>-0.516865</td>\n",
       "      <td>0.318875</td>\n",
       "      <td>-1.401955</td>\n",
       "      <td>0.658817</td>\n",
       "      <td>-0.592455</td>\n",
       "      <td>-0.534987</td>\n",
       "      <td>...</td>\n",
       "      <td>0.010759</td>\n",
       "      <td>0.162970</td>\n",
       "      <td>-0.095601</td>\n",
       "      <td>-0.170272</td>\n",
       "      <td>-0.138997</td>\n",
       "      <td>92</td>\n",
       "      <td>3072.0</td>\n",
       "      <td>-0.587774</td>\n",
       "      <td>1</td>\n",
       "      <td>0</td>\n",
       "    </tr>\n",
       "    <tr>\n",
       "      <th>1</th>\n",
       "      <td>0.921085</td>\n",
       "      <td>-0.776300</td>\n",
       "      <td>0.161458</td>\n",
       "      <td>-1.294525</td>\n",
       "      <td>-0.516865</td>\n",
       "      <td>0.318875</td>\n",
       "      <td>-1.401955</td>\n",
       "      <td>0.658817</td>\n",
       "      <td>-0.592455</td>\n",
       "      <td>-0.534987</td>\n",
       "      <td>...</td>\n",
       "      <td>0.010759</td>\n",
       "      <td>0.162970</td>\n",
       "      <td>-0.095601</td>\n",
       "      <td>-0.170272</td>\n",
       "      <td>-0.138997</td>\n",
       "      <td>29</td>\n",
       "      <td>2806.0</td>\n",
       "      <td>0.132511</td>\n",
       "      <td>1</td>\n",
       "      <td>0</td>\n",
       "    </tr>\n",
       "    <tr>\n",
       "      <th>2</th>\n",
       "      <td>0.168113</td>\n",
       "      <td>-0.172816</td>\n",
       "      <td>0.035180</td>\n",
       "      <td>-0.224995</td>\n",
       "      <td>-0.123210</td>\n",
       "      <td>0.064842</td>\n",
       "      <td>-0.249217</td>\n",
       "      <td>0.122814</td>\n",
       "      <td>-0.132376</td>\n",
       "      <td>-0.086653</td>\n",
       "      <td>...</td>\n",
       "      <td>0.052899</td>\n",
       "      <td>0.444102</td>\n",
       "      <td>-0.270265</td>\n",
       "      <td>-0.421385</td>\n",
       "      <td>-0.353525</td>\n",
       "      <td>199</td>\n",
       "      <td>1159.0</td>\n",
       "      <td>-0.711329</td>\n",
       "      <td>1</td>\n",
       "      <td>0</td>\n",
       "    </tr>\n",
       "    <tr>\n",
       "      <th>3</th>\n",
       "      <td>1.510565</td>\n",
       "      <td>-1.574027</td>\n",
       "      <td>0.362754</td>\n",
       "      <td>-2.460667</td>\n",
       "      <td>-1.121886</td>\n",
       "      <td>0.678950</td>\n",
       "      <td>-2.622660</td>\n",
       "      <td>1.207679</td>\n",
       "      <td>-1.036503</td>\n",
       "      <td>-0.812885</td>\n",
       "      <td>...</td>\n",
       "      <td>0.052899</td>\n",
       "      <td>0.444102</td>\n",
       "      <td>-0.270265</td>\n",
       "      <td>-0.421385</td>\n",
       "      <td>-0.353525</td>\n",
       "      <td>114</td>\n",
       "      <td>1824.0</td>\n",
       "      <td>-0.301059</td>\n",
       "      <td>1</td>\n",
       "      <td>0</td>\n",
       "    </tr>\n",
       "    <tr>\n",
       "      <th>4</th>\n",
       "      <td>1.993987</td>\n",
       "      <td>-1.800736</td>\n",
       "      <td>0.475171</td>\n",
       "      <td>-3.076373</td>\n",
       "      <td>-1.291186</td>\n",
       "      <td>0.770481</td>\n",
       "      <td>-3.276942</td>\n",
       "      <td>1.506734</td>\n",
       "      <td>-1.294124</td>\n",
       "      <td>-1.051870</td>\n",
       "      <td>...</td>\n",
       "      <td>0.010759</td>\n",
       "      <td>0.162970</td>\n",
       "      <td>-0.095601</td>\n",
       "      <td>-0.170272</td>\n",
       "      <td>-0.138997</td>\n",
       "      <td>16</td>\n",
       "      <td>2292.0</td>\n",
       "      <td>-0.011532</td>\n",
       "      <td>1</td>\n",
       "      <td>0</td>\n",
       "    </tr>\n",
       "  </tbody>\n",
       "</table>\n",
       "<p>5 rows × 205 columns</p>\n",
       "</div>\n",
       "      <button class=\"colab-df-convert\" onclick=\"convertToInteractive('df-75ba30cb-f395-4c81-8d41-d5ddf0ef5851')\"\n",
       "              title=\"Convert this dataframe to an interactive table.\"\n",
       "              style=\"display:none;\">\n",
       "        \n",
       "  <svg xmlns=\"http://www.w3.org/2000/svg\" height=\"24px\"viewBox=\"0 0 24 24\"\n",
       "       width=\"24px\">\n",
       "    <path d=\"M0 0h24v24H0V0z\" fill=\"none\"/>\n",
       "    <path d=\"M18.56 5.44l.94 2.06.94-2.06 2.06-.94-2.06-.94-.94-2.06-.94 2.06-2.06.94zm-11 1L8.5 8.5l.94-2.06 2.06-.94-2.06-.94L8.5 2.5l-.94 2.06-2.06.94zm10 10l.94 2.06.94-2.06 2.06-.94-2.06-.94-.94-2.06-.94 2.06-2.06.94z\"/><path d=\"M17.41 7.96l-1.37-1.37c-.4-.4-.92-.59-1.43-.59-.52 0-1.04.2-1.43.59L10.3 9.45l-7.72 7.72c-.78.78-.78 2.05 0 2.83L4 21.41c.39.39.9.59 1.41.59.51 0 1.02-.2 1.41-.59l7.78-7.78 2.81-2.81c.8-.78.8-2.07 0-2.86zM5.41 20L4 18.59l7.72-7.72 1.47 1.35L5.41 20z\"/>\n",
       "  </svg>\n",
       "      </button>\n",
       "      \n",
       "  <style>\n",
       "    .colab-df-container {\n",
       "      display:flex;\n",
       "      flex-wrap:wrap;\n",
       "      gap: 12px;\n",
       "    }\n",
       "\n",
       "    .colab-df-convert {\n",
       "      background-color: #E8F0FE;\n",
       "      border: none;\n",
       "      border-radius: 50%;\n",
       "      cursor: pointer;\n",
       "      display: none;\n",
       "      fill: #1967D2;\n",
       "      height: 32px;\n",
       "      padding: 0 0 0 0;\n",
       "      width: 32px;\n",
       "    }\n",
       "\n",
       "    .colab-df-convert:hover {\n",
       "      background-color: #E2EBFA;\n",
       "      box-shadow: 0px 1px 2px rgba(60, 64, 67, 0.3), 0px 1px 3px 1px rgba(60, 64, 67, 0.15);\n",
       "      fill: #174EA6;\n",
       "    }\n",
       "\n",
       "    [theme=dark] .colab-df-convert {\n",
       "      background-color: #3B4455;\n",
       "      fill: #D2E3FC;\n",
       "    }\n",
       "\n",
       "    [theme=dark] .colab-df-convert:hover {\n",
       "      background-color: #434B5C;\n",
       "      box-shadow: 0px 1px 3px 1px rgba(0, 0, 0, 0.15);\n",
       "      filter: drop-shadow(0px 1px 2px rgba(0, 0, 0, 0.3));\n",
       "      fill: #FFFFFF;\n",
       "    }\n",
       "  </style>\n",
       "\n",
       "      <script>\n",
       "        const buttonEl =\n",
       "          document.querySelector('#df-75ba30cb-f395-4c81-8d41-d5ddf0ef5851 button.colab-df-convert');\n",
       "        buttonEl.style.display =\n",
       "          google.colab.kernel.accessAllowed ? 'block' : 'none';\n",
       "\n",
       "        async function convertToInteractive(key) {\n",
       "          const element = document.querySelector('#df-75ba30cb-f395-4c81-8d41-d5ddf0ef5851');\n",
       "          const dataTable =\n",
       "            await google.colab.kernel.invokeFunction('convertToInteractive',\n",
       "                                                     [key], {});\n",
       "          if (!dataTable) return;\n",
       "\n",
       "          const docLinkHtml = 'Like what you see? Visit the ' +\n",
       "            '<a target=\"_blank\" href=https://colab.research.google.com/notebooks/data_table.ipynb>data table notebook</a>'\n",
       "            + ' to learn more about interactive tables.';\n",
       "          element.innerHTML = '';\n",
       "          dataTable['output_type'] = 'display_data';\n",
       "          await google.colab.output.renderOutput(dataTable, element);\n",
       "          const docLink = document.createElement('div');\n",
       "          docLink.innerHTML = docLinkHtml;\n",
       "          element.appendChild(docLink);\n",
       "        }\n",
       "      </script>\n",
       "    </div>\n",
       "  </div>\n",
       "  "
      ]
     },
     "metadata": {},
     "execution_count": 411
    }
   ]
  },
  {
   "cell_type": "code",
   "source": [
    "from sklearn.model_selection import train_test_split\n",
    "from sklearn.decomposition import PCA"
   ],
   "metadata": {
    "id": "DOL2fVOqCN1y",
    "pycharm": {
     "name": "#%%\n"
    }
   },
   "execution_count": 545,
   "outputs": []
  },
  {
   "cell_type": "code",
   "source": [
    "data_train, data_test = train_test_split(data_df, test_size=0.20, random_state=42)"
   ],
   "metadata": {
    "id": "IafoRDfiB_6L",
    "pycharm": {
     "name": "#%%\n"
    }
   },
   "execution_count": 415,
   "outputs": []
  },
  {
   "cell_type": "code",
   "source": [
    "train_X = data_train.drop(\"std_viewCount\", axis=1)\n",
    "train_y = data_train.std_viewCount\n",
    "\n",
    "test_X = data_test.drop(\"std_viewCount\", axis=1)\n",
    "test_y = data_test.std_viewCount"
   ],
   "metadata": {
    "id": "uELPK5OiCsIq",
    "pycharm": {
     "name": "#%%\n"
    }
   },
   "execution_count": 583,
   "outputs": []
  },
  {
   "cell_type": "code",
   "source": [
    "# train_X"
   ],
   "metadata": {
    "id": "_6BmGj1dNvJC",
    "pycharm": {
     "name": "#%%\n"
    }
   },
   "execution_count": 593,
   "outputs": []
  },
  {
   "cell_type": "code",
   "source": [
    "sc = StandardScaler()\n",
    "\n",
    "train_X = sc.fit_transform(train_X)\n",
    "test_X = sc.transform(test_X)\n"
   ],
   "metadata": {
    "id": "EslSOArDCpOJ",
    "pycharm": {
     "name": "#%%\n"
    }
   },
   "execution_count": 595,
   "outputs": []
  },
  {
   "cell_type": "code",
   "source": [
    "pca = PCA(n_components=20)\n",
    "pca.fit(train_X)\n",
    "# print(()))"
   ],
   "metadata": {
    "id": "yPvtZSTpOiOr",
    "outputId": "0908a11f-3d90-417e-bbc0-278dddfe3a28",
    "colab": {
     "base_uri": "https://localhost:8080/"
    },
    "pycharm": {
     "name": "#%%\n"
    }
   },
   "execution_count": 596,
   "outputs": [
    {
     "output_type": "execute_result",
     "data": {
      "text/plain": [
       "PCA(n_components=20)"
      ]
     },
     "metadata": {},
     "execution_count": 596
    }
   ]
  },
  {
   "cell_type": "code",
   "source": [
    "import matplotlib.pyplot as plt\n",
    "##SCREE PLOT\n",
    "plt.plot(np.linspace(1,21,20),pca.explained_variance_ratio_);"
   ],
   "metadata": {
    "id": "l0Iyzg7mPZSO",
    "outputId": "018df5e5-86d6-47d0-813c-3d062592a7d3",
    "colab": {
     "base_uri": "https://localhost:8080/",
     "height": 269
    },
    "pycharm": {
     "name": "#%%\n"
    }
   },
   "execution_count": 597,
   "outputs": [
    {
     "output_type": "display_data",
     "data": {
      "text/plain": [
       "<Figure size 432x288 with 1 Axes>"
      ],
      "image/png": "[encoded data removed]"
     },
     "metadata": {
      "needs_background": "light"
     }
    }
   ]
  },
  {
   "cell_type": "code",
   "source": [
    "pca = PCA(n_components=1) #components based on the scree plot above\n",
    "\n",
    "pca_train_X = pca.fit_transform(train_X)\n",
    "\n",
    "plt.scatter(pca_train_X, train_y);"
   ],
   "metadata": {
    "id": "mraQ_KyURvY6",
    "outputId": "55f74d1c-c4b6-4c3d-f754-25d4ae0f9782",
    "colab": {
     "base_uri": "https://localhost:8080/",
     "height": 282
    },
    "pycharm": {
     "name": "#%%\n"
    }
   },
   "execution_count": 591,
   "outputs": [
    {
     "output_type": "execute_result",
     "data": {
      "text/plain": [
       "<matplotlib.collections.PathCollection at 0x7f003eca4cd0>"
      ]
     },
     "metadata": {},
     "execution_count": 591
    },
    {
     "output_type": "display_data",
     "data": {
      "text/plain": [
       "<Figure size 432x288 with 1 Axes>"
      ],
      "image/png": "[encoded data removed]"
     },
     "metadata": {
      "needs_background": "light"
     }
    }
   ]
  },
  {
   "cell_type": "markdown",
   "source": [
    "based on the first PCA, it is clear that the data is not linear and we would have to bear that in mind with the choice of our models"
   ],
   "metadata": {
    "id": "V8__-brQSZ9s",
    "pycharm": {
     "name": "#%% md\n"
    }
   }
  },
  {
   "cell_type": "code",
   "source": [
    "pca_train_X.shape, train_y.shape"
   ],
   "metadata": {
    "id": "ipasXemXSCog",
    "outputId": "80995406-cd7b-4d0f-91ad-ad24dc8cb0c4",
    "colab": {
     "base_uri": "https://localhost:8080/"
    },
    "pycharm": {
     "name": "#%%\n"
    }
   },
   "execution_count": 590,
   "outputs": [
    {
     "output_type": "execute_result",
     "data": {
      "text/plain": [
       "((25766, 2), (25766,))"
      ]
     },
     "metadata": {},
     "execution_count": 590
    }
   ]
  },
  {
   "cell_type": "code",
   "source": [
    "pca = PCA(n_components=5) #components based on the scree plot above\n",
    "\n",
    "pca_train_X = pca.fit_transform(train_X)\n",
    "pca_test_X = pca.transform(test_X)\n"
   ],
   "metadata": {
    "id": "aMer3-bhOuhM",
    "pycharm": {
     "name": "#%%\n"
    }
   },
   "execution_count": 566,
   "outputs": []
  },
  {
   "cell_type": "code",
   "source": [
    "from sklearn.linear_model import LinearRegression, Ridge, Lasso\n",
    "from sklearn.dummy import DummyRegressor\n",
    "from sklearn.svm import SVR\n",
    "from sklearn.tree import DecisionTreeRegressor\n",
    "\n",
    "from sklearn import metrics\n",
    "from sklearn.model_selection import cross_val_score"
   ],
   "metadata": {
    "id": "rDPvtLiPDodO",
    "pycharm": {
     "name": "#%%\n"
    }
   },
   "execution_count": 567,
   "outputs": []
  },
  {
   "cell_type": "code",
   "source": [
    "# train_X=pca_train_X\n",
    "# test_X=pca_test_X"
   ],
   "metadata": {
    "id": "pNGegwWhQvQZ",
    "pycharm": {
     "name": "#%%\n"
    }
   },
   "execution_count": 598,
   "outputs": []
  },
  {
   "cell_type": "code",
   "source": [
    "lr = LinearRegression()\n",
    "llr = Lasso(alpha=0.1)\n",
    "rr = Ridge(alpha=1.0)\n",
    "dr = DummyRegressor(strategy=\"mean\")\n",
    "svr = SVR(kernel = 'linear')\n",
    "dtr = DecisionTreeRegressor()\n",
    "\n",
    "lr.fit(train_X, train_y)\n",
    "llr.fit(train_X, train_y)\n",
    "rr.fit(train_X, train_y)\n",
    "dr.fit(train_X, train_y)\n",
    "# svr.fit(train_X, train_y)\n",
    "dtr.fit(train_X, train_y)"
   ],
   "metadata": {
    "id": "hgPnLd6CDp97",
    "outputId": "1c245c18-a2b9-412a-e109-b79d27670583",
    "colab": {
     "base_uri": "https://localhost:8080/"
    },
    "pycharm": {
     "name": "#%%\n"
    }
   },
   "execution_count": 569,
   "outputs": [
    {
     "output_type": "execute_result",
     "data": {
      "text/plain": [
       "DecisionTreeRegressor()"
      ]
     },
     "metadata": {},
     "execution_count": 569
    }
   ]
  },
  {
   "cell_type": "code",
   "source": [
    "# ret_metrics(train_y, lr.predict(train_X))"
   ],
   "metadata": {
    "id": "nop9sp_GRc3G",
    "pycharm": {
     "name": "#%%\n"
    }
   },
   "execution_count": 578,
   "outputs": []
  },
  {
   "cell_type": "code",
   "source": [
    "# lr.fit(pca_train_X, train_y)\n",
    "# lr_pred = lr.predict(pca_test_X)"
   ],
   "metadata": {
    "id": "BaSLG7TvQHff",
    "pycharm": {
     "name": "#%%\n"
    }
   },
   "execution_count": 570,
   "outputs": []
  },
  {
   "cell_type": "code",
   "source": [
    "lr.score(train_X, train_y)\n",
    "# cross_val_score(dtr, train_X, train_y, cv=5)"
   ],
   "metadata": {
    "id": "yTWMTpu5FPwV",
    "outputId": "8f018004-fa77-4393-fa85-b280b24f3b5d",
    "colab": {
     "base_uri": "https://localhost:8080/"
    },
    "pycharm": {
     "name": "#%%\n"
    }
   },
   "execution_count": 571,
   "outputs": [
    {
     "output_type": "execute_result",
     "data": {
      "text/plain": [
       "0.0019887388813636386"
      ]
     },
     "metadata": {},
     "execution_count": 571
    }
   ]
  },
  {
   "cell_type": "code",
   "source": [
    "lr_pred = lr.predict(test_X)\n",
    "dr_pred = dr.predict(test_X)\n",
    "rr_pred = rr.predict(test_X)\n",
    "# svr_pred = svr.predict(test_X)\n",
    "dtr_pred = dtr.predict(test_X)\n",
    "llr_pred = llr.predict(test_X)"
   ],
   "metadata": {
    "id": "optrqxHUEyKH",
    "pycharm": {
     "name": "#%%\n"
    }
   },
   "execution_count": 572,
   "outputs": []
  },
  {
   "cell_type": "code",
   "source": [
    "def ret_metrics(test_y, pred):\n",
    "\n",
    "  mae = metrics.mean_absolute_error(test_y, pred)\n",
    "  mse = metrics.mean_squared_error(test_y, pred)\n",
    "  rmse = np.sqrt(mse)\n",
    "\n",
    "  return(mae, mse, rmse)"
   ],
   "metadata": {
    "id": "N1OJ4OckIQ0T",
    "pycharm": {
     "name": "#%%\n"
    }
   },
   "execution_count": 573,
   "outputs": []
  },
  {
   "cell_type": "code",
   "source": [
    "print(f\"LR metrics for mae, mse, rmse are: {ret_metrics(test_y, lr_pred)}\")\n",
    "print(f\"LLR metrics for mae, mse, rmse are: {ret_metrics(test_y, llr_pred)}\")\n",
    "print(f\"DR metrics for mae, mse, rmse are: {ret_metrics(test_y, dr_pred)}\")\n",
    "print(f\"RR metrics for mae, mse, rmse are: {ret_metrics(test_y, rr_pred)}\")\n",
    "# print(f\"SVR metrics for mae, mse, rmse are: {ret_metrics(test_y, svr_pred)}\")\n",
    "print(f\"DTR metrics for mae, mse, rmse are: {ret_metrics(test_y, dtr_pred)}\")\n"
   ],
   "metadata": {
    "id": "ZDDvGnRpE5Mz",
    "outputId": "3da53589-141d-4941-eb08-8f362b4f5bda",
    "colab": {
     "base_uri": "https://localhost:8080/"
    },
    "pycharm": {
     "name": "#%%\n"
    }
   },
   "execution_count": 574,
   "outputs": [
    {
     "output_type": "stream",
     "name": "stdout",
     "text": [
      "LR metrics for mae, mse, rmse are: (0.5099538079796235, 0.9578134326713134, 0.978679433048081)\n",
      "LLR metrics for mae, mse, rmse are: (0.5098982274044778, 0.9595058439210536, 0.9795436916856)\n",
      "DR metrics for mae, mse, rmse are: (0.5099735596756519, 0.9606645347419782, 0.9801349574124872)\n",
      "RR metrics for mae, mse, rmse are: (0.5099538062076332, 0.9578134342538411, 0.9786794338565826)\n",
      "DTR metrics for mae, mse, rmse are: (0.6959823537658052, 2.0410250545133404, 1.4286444814975279)\n"
     ]
    }
   ]
  },
  {
   "cell_type": "code",
   "source": [
    "preds_df = pd.DataFrame({\"true\":test_y, \"lr\":lr_pred, \"dr\":dr_pred, \"rr\":rr_pred, \"svr\":-1, \"dtr\":dtr_pred, \"llr\":llr_pred })"
   ],
   "metadata": {
    "id": "2jHy5LJXGt-z",
    "pycharm": {
     "name": "#%%\n"
    }
   },
   "execution_count": 575,
   "outputs": []
  },
  {
   "cell_type": "code",
   "source": [
    "preds_df"
   ],
   "metadata": {
    "id": "A784hHYPHV_6",
    "outputId": "63dec5cd-4446-48df-edc1-4a400cb5becb",
    "colab": {
     "base_uri": "https://localhost:8080/",
     "height": 419
    },
    "pycharm": {
     "name": "#%%\n"
    }
   },
   "execution_count": 576,
   "outputs": [
    {
     "output_type": "execute_result",
     "data": {
      "text/plain": [
       "           true        lr        dr        rr  svr       dtr       llr\n",
       "11235  0.350519 -0.022679 -0.000399 -0.022679   -1  0.074861  0.003461\n",
       "3378   0.518753 -0.005358 -0.000399 -0.005358   -1 -0.079283 -0.010436\n",
       "28754 -0.235122  0.064690 -0.000399  0.064690   -1  1.013605  0.015094\n",
       "6899   1.572193  0.005061 -0.000399  0.005061   -1 -0.951188  0.005081\n",
       "13499 -0.245946  0.027891 -0.000399  0.027891   -1 -0.264621  0.025096\n",
       "...         ...       ...       ...       ...  ...       ...       ...\n",
       "19677 -0.132264 -0.045837 -0.000399 -0.045837   -1  0.599108 -0.010218\n",
       "4785  -0.755470 -0.015007 -0.000399 -0.015007   -1 -0.949060 -0.013482\n",
       "19458 -0.187114  0.002411 -0.000399  0.002411   -1 -0.151529 -0.022517\n",
       "15381  0.793632 -0.022024 -0.000399 -0.022024   -1 -0.137815 -0.009934\n",
       "30664 -0.255406 -0.073200 -0.000399 -0.073200   -1 -0.131179 -0.021428\n",
       "\n",
       "[6442 rows x 7 columns]"
      ],
      "text/html": [
       "\n",
       "  <div id=\"df-72cf1ed1-92ce-44d3-993e-b3bd5fbcf7bb\">\n",
       "    <div class=\"colab-df-container\">\n",
       "      <div>\n",
       "<style scoped>\n",
       "    .dataframe tbody tr th:only-of-type {\n",
       "        vertical-align: middle;\n",
       "    }\n",
       "\n",
       "    .dataframe tbody tr th {\n",
       "        vertical-align: top;\n",
       "    }\n",
       "\n",
       "    .dataframe thead th {\n",
       "        text-align: right;\n",
       "    }\n",
       "</style>\n",
       "<table border=\"1\" class=\"dataframe\">\n",
       "  <thead>\n",
       "    <tr style=\"text-align: right;\">\n",
       "      <th></th>\n",
       "      <th>true</th>\n",
       "      <th>lr</th>\n",
       "      <th>dr</th>\n",
       "      <th>rr</th>\n",
       "      <th>svr</th>\n",
       "      <th>dtr</th>\n",
       "      <th>llr</th>\n",
       "    </tr>\n",
       "  </thead>\n",
       "  <tbody>\n",
       "    <tr>\n",
       "      <th>11235</th>\n",
       "      <td>0.350519</td>\n",
       "      <td>-0.022679</td>\n",
       "      <td>-0.000399</td>\n",
       "      <td>-0.022679</td>\n",
       "      <td>-1</td>\n",
       "      <td>0.074861</td>\n",
       "      <td>0.003461</td>\n",
       "    </tr>\n",
       "    <tr>\n",
       "      <th>3378</th>\n",
       "      <td>0.518753</td>\n",
       "      <td>-0.005358</td>\n",
       "      <td>-0.000399</td>\n",
       "      <td>-0.005358</td>\n",
       "      <td>-1</td>\n",
       "      <td>-0.079283</td>\n",
       "      <td>-0.010436</td>\n",
       "    </tr>\n",
       "    <tr>\n",
       "      <th>28754</th>\n",
       "      <td>-0.235122</td>\n",
       "      <td>0.064690</td>\n",
       "      <td>-0.000399</td>\n",
       "      <td>0.064690</td>\n",
       "      <td>-1</td>\n",
       "      <td>1.013605</td>\n",
       "      <td>0.015094</td>\n",
       "    </tr>\n",
       "    <tr>\n",
       "      <th>6899</th>\n",
       "      <td>1.572193</td>\n",
       "      <td>0.005061</td>\n",
       "      <td>-0.000399</td>\n",
       "      <td>0.005061</td>\n",
       "      <td>-1</td>\n",
       "      <td>-0.951188</td>\n",
       "      <td>0.005081</td>\n",
       "    </tr>\n",
       "    <tr>\n",
       "      <th>13499</th>\n",
       "      <td>-0.245946</td>\n",
       "      <td>0.027891</td>\n",
       "      <td>-0.000399</td>\n",
       "      <td>0.027891</td>\n",
       "      <td>-1</td>\n",
       "      <td>-0.264621</td>\n",
       "      <td>0.025096</td>\n",
       "    </tr>\n",
       "    <tr>\n",
       "      <th>...</th>\n",
       "      <td>...</td>\n",
       "      <td>...</td>\n",
       "      <td>...</td>\n",
       "      <td>...</td>\n",
       "      <td>...</td>\n",
       "      <td>...</td>\n",
       "      <td>...</td>\n",
       "    </tr>\n",
       "    <tr>\n",
       "      <th>19677</th>\n",
       "      <td>-0.132264</td>\n",
       "      <td>-0.045837</td>\n",
       "      <td>-0.000399</td>\n",
       "      <td>-0.045837</td>\n",
       "      <td>-1</td>\n",
       "      <td>0.599108</td>\n",
       "      <td>-0.010218</td>\n",
       "    </tr>\n",
       "    <tr>\n",
       "      <th>4785</th>\n",
       "      <td>-0.755470</td>\n",
       "      <td>-0.015007</td>\n",
       "      <td>-0.000399</td>\n",
       "      <td>-0.015007</td>\n",
       "      <td>-1</td>\n",
       "      <td>-0.949060</td>\n",
       "      <td>-0.013482</td>\n",
       "    </tr>\n",
       "    <tr>\n",
       "      <th>19458</th>\n",
       "      <td>-0.187114</td>\n",
       "      <td>0.002411</td>\n",
       "      <td>-0.000399</td>\n",
       "      <td>0.002411</td>\n",
       "      <td>-1</td>\n",
       "      <td>-0.151529</td>\n",
       "      <td>-0.022517</td>\n",
       "    </tr>\n",
       "    <tr>\n",
       "      <th>15381</th>\n",
       "      <td>0.793632</td>\n",
       "      <td>-0.022024</td>\n",
       "      <td>-0.000399</td>\n",
       "      <td>-0.022024</td>\n",
       "      <td>-1</td>\n",
       "      <td>-0.137815</td>\n",
       "      <td>-0.009934</td>\n",
       "    </tr>\n",
       "    <tr>\n",
       "      <th>30664</th>\n",
       "      <td>-0.255406</td>\n",
       "      <td>-0.073200</td>\n",
       "      <td>-0.000399</td>\n",
       "      <td>-0.073200</td>\n",
       "      <td>-1</td>\n",
       "      <td>-0.131179</td>\n",
       "      <td>-0.021428</td>\n",
       "    </tr>\n",
       "  </tbody>\n",
       "</table>\n",
       "<p>6442 rows × 7 columns</p>\n",
       "</div>\n",
       "      <button class=\"colab-df-convert\" onclick=\"convertToInteractive('df-72cf1ed1-92ce-44d3-993e-b3bd5fbcf7bb')\"\n",
       "              title=\"Convert this dataframe to an interactive table.\"\n",
       "              style=\"display:none;\">\n",
       "        \n",
       "  <svg xmlns=\"http://www.w3.org/2000/svg\" height=\"24px\"viewBox=\"0 0 24 24\"\n",
       "       width=\"24px\">\n",
       "    <path d=\"M0 0h24v24H0V0z\" fill=\"none\"/>\n",
       "    <path d=\"M18.56 5.44l.94 2.06.94-2.06 2.06-.94-2.06-.94-.94-2.06-.94 2.06-2.06.94zm-11 1L8.5 8.5l.94-2.06 2.06-.94-2.06-.94L8.5 2.5l-.94 2.06-2.06.94zm10 10l.94 2.06.94-2.06 2.06-.94-2.06-.94-.94-2.06-.94 2.06-2.06.94z\"/><path d=\"M17.41 7.96l-1.37-1.37c-.4-.4-.92-.59-1.43-.59-.52 0-1.04.2-1.43.59L10.3 9.45l-7.72 7.72c-.78.78-.78 2.05 0 2.83L4 21.41c.39.39.9.59 1.41.59.51 0 1.02-.2 1.41-.59l7.78-7.78 2.81-2.81c.8-.78.8-2.07 0-2.86zM5.41 20L4 18.59l7.72-7.72 1.47 1.35L5.41 20z\"/>\n",
       "  </svg>\n",
       "      </button>\n",
       "      \n",
       "  <style>\n",
       "    .colab-df-container {\n",
       "      display:flex;\n",
       "      flex-wrap:wrap;\n",
       "      gap: 12px;\n",
       "    }\n",
       "\n",
       "    .colab-df-convert {\n",
       "      background-color: #E8F0FE;\n",
       "      border: none;\n",
       "      border-radius: 50%;\n",
       "      cursor: pointer;\n",
       "      display: none;\n",
       "      fill: #1967D2;\n",
       "      height: 32px;\n",
       "      padding: 0 0 0 0;\n",
       "      width: 32px;\n",
       "    }\n",
       "\n",
       "    .colab-df-convert:hover {\n",
       "      background-color: #E2EBFA;\n",
       "      box-shadow: 0px 1px 2px rgba(60, 64, 67, 0.3), 0px 1px 3px 1px rgba(60, 64, 67, 0.15);\n",
       "      fill: #174EA6;\n",
       "    }\n",
       "\n",
       "    [theme=dark] .colab-df-convert {\n",
       "      background-color: #3B4455;\n",
       "      fill: #D2E3FC;\n",
       "    }\n",
       "\n",
       "    [theme=dark] .colab-df-convert:hover {\n",
       "      background-color: #434B5C;\n",
       "      box-shadow: 0px 1px 3px 1px rgba(0, 0, 0, 0.15);\n",
       "      filter: drop-shadow(0px 1px 2px rgba(0, 0, 0, 0.3));\n",
       "      fill: #FFFFFF;\n",
       "    }\n",
       "  </style>\n",
       "\n",
       "      <script>\n",
       "        const buttonEl =\n",
       "          document.querySelector('#df-72cf1ed1-92ce-44d3-993e-b3bd5fbcf7bb button.colab-df-convert');\n",
       "        buttonEl.style.display =\n",
       "          google.colab.kernel.accessAllowed ? 'block' : 'none';\n",
       "\n",
       "        async function convertToInteractive(key) {\n",
       "          const element = document.querySelector('#df-72cf1ed1-92ce-44d3-993e-b3bd5fbcf7bb');\n",
       "          const dataTable =\n",
       "            await google.colab.kernel.invokeFunction('convertToInteractive',\n",
       "                                                     [key], {});\n",
       "          if (!dataTable) return;\n",
       "\n",
       "          const docLinkHtml = 'Like what you see? Visit the ' +\n",
       "            '<a target=\"_blank\" href=https://colab.research.google.com/notebooks/data_table.ipynb>data table notebook</a>'\n",
       "            + ' to learn more about interactive tables.';\n",
       "          element.innerHTML = '';\n",
       "          dataTable['output_type'] = 'display_data';\n",
       "          await google.colab.output.renderOutput(dataTable, element);\n",
       "          const docLink = document.createElement('div');\n",
       "          docLink.innerHTML = docLinkHtml;\n",
       "          element.appendChild(docLink);\n",
       "        }\n",
       "      </script>\n",
       "    </div>\n",
       "  </div>\n",
       "  "
      ]
     },
     "metadata": {},
     "execution_count": 576
    }
   ]
  },
  {
   "cell_type": "code",
   "source": [],
   "metadata": {
    "id": "soIFw58rHWCp",
    "pycharm": {
     "name": "#%%\n"
    }
   },
   "execution_count": null,
   "outputs": []
  },
  {
   "cell_type": "code",
   "source": [],
   "metadata": {
    "id": "Ih-VBmdlHWFg",
    "pycharm": {
     "name": "#%%\n"
    }
   },
   "execution_count": null,
   "outputs": []
  },
  {
   "cell_type": "code",
   "source": [],
   "metadata": {
    "id": "hqP0BaNxHWIQ",
    "pycharm": {
     "name": "#%%\n"
    }
   },
   "execution_count": null,
   "outputs": []
  },
  {
   "cell_type": "code",
   "source": [],
   "metadata": {
    "id": "REuRl0tuHWLF",
    "pycharm": {
     "name": "#%%\n"
    }
   },
   "execution_count": null,
   "outputs": []
  },
  {
   "cell_type": "code",
   "source": [],
   "metadata": {
    "id": "o_6zacADHWN6",
    "pycharm": {
     "name": "#%%\n"
    }
   },
   "execution_count": null,
   "outputs": []
  },
  {
   "cell_type": "code",
   "source": [],
   "metadata": {
    "id": "_cQKF_YYHWQu",
    "pycharm": {
     "name": "#%%\n"
    }
   },
   "execution_count": null,
   "outputs": []
  },
  {
   "cell_type": "markdown",
   "source": [],
   "metadata": {
    "id": "uMxSEO9HB9o8",
    "pycharm": {
     "name": "#%% md\n"
    }
   }
  }
 ],
 "metadata": {
  "colab": {
   "provenance": [],
   "include_colab_link": true
  },
  "kernelspec": {
   "display_name": "Python 3.10.4 ('dataenv')",
   "language": "python",
   "name": "python3"
  },
  "language_info": {
   "name": "python",
   "version": "3.10.4"
  },
  "vscode": {
   "interpreter": {
    "hash": "467f60c46b88ea196e8e4e51716c4f14b05141d893e1660e0038b81da854c476"
   }
  }
 },
 "nbformat": 4,
 "nbformat_minor": 0
}