{
  "cells": [
    {
      "cell_type": "markdown",
      "metadata": {
        "id": "view-in-github",
        "colab_type": "text"
      },
      "source": [
        "<a href=\"https://colab.research.google.com/github/ajinkyabhanudas/SIADS696/blob/dev/Dataset_setup_Ajinkya.ipynb\" target=\"_parent\"><img src=\"https://colab.research.google.com/assets/colab-badge.svg\" alt=\"Open In Colab\"/></a>"
      ]
    },
    {
      "cell_type": "markdown",
      "source": [
        "#This notebook works on the first step of the train pipeline: data loading \n",
        "- The idea is to use the contents of this notebook as a makefile target so it can be the first step to run as we keep populating our datastore.\n",
        "\n",
        "\n",
        "\n",
        "\n",
        "\n",
        "\n"
      ],
      "metadata": {
        "id": "Fa2YEr7pT6zt",
        "pycharm": {
          "name": "#%% md\n"
        }
      }
    },
    {
      "cell_type": "code",
      "execution_count": 1,
      "metadata": {
        "id": "pWqb-vn_hFCU",
        "pycharm": {
          "name": "#%%\n"
        },
        "colab": {
          "base_uri": "https://localhost:8080/"
        },
        "outputId": "faf2da9c-7f0f-487e-8892-7e97d4054663"
      },
      "outputs": [
        {
          "output_type": "stream",
          "name": "stdout",
          "text": [
            "Looking in indexes: https://pypi.org/simple, https://us-python.pkg.dev/colab-wheels/public/simple/\n",
            "Requirement already satisfied: gensim==4.1.2 in /usr/local/lib/python3.7/dist-packages (4.1.2)\n",
            "Requirement already satisfied: smart-open>=1.8.1 in /usr/local/lib/python3.7/dist-packages (from gensim==4.1.2) (5.2.1)\n",
            "Requirement already satisfied: numpy>=1.17.0 in /usr/local/lib/python3.7/dist-packages (from gensim==4.1.2) (1.21.6)\n",
            "Requirement already satisfied: scipy>=0.18.1 in /usr/local/lib/python3.7/dist-packages (from gensim==4.1.2) (1.7.3)\n"
          ]
        }
      ],
      "source": [
        "# !git clone https://github.com/ajinkyabhanudas/SIADS696.git\n",
        "!pip install gensim==4.1.2"
      ]
    },
    {
      "cell_type": "code",
      "source": [
        "import datetime\n",
        "import enum\n",
        "import glob\n",
        "import json\n",
        "import os\n",
        "import re\n",
        "from itertools import groupby\n",
        "\n",
        "from gensim.models import Word2Vec\n",
        "import matplotlib.pyplot as plt\n",
        "import nltk\n",
        "from nltk.corpus import stopwords\n",
        "import numpy as np\n",
        "import pandas as pd\n",
        "\n",
        "import warnings\n",
        "warnings.simplefilter(action='ignore')"
      ],
      "metadata": {
        "id": "qe2qOLWocWZz",
        "pycharm": {
          "name": "#%%\n"
        }
      },
      "execution_count": 2,
      "outputs": []
    },
    {
      "cell_type": "code",
      "source": [
        "import gensim.downloader\n",
        "glove_wv = gensim.downloader.load('glove-wiki-gigaword-50')\n",
        "nltk.download('punkt')\n",
        "nltk.download('stopwords')"
      ],
      "metadata": {
        "colab": {
          "base_uri": "https://localhost:8080/"
        },
        "id": "cY7AW03EX3a2",
        "outputId": "2e42518e-31a3-4da0-b83b-7a32d0218d47",
        "pycharm": {
          "name": "#%%\n"
        }
      },
      "execution_count": 3,
      "outputs": [
        {
          "output_type": "stream",
          "name": "stderr",
          "text": [
            "[nltk_data] Downloading package punkt to /root/nltk_data...\n",
            "[nltk_data]   Package punkt is already up-to-date!\n",
            "[nltk_data] Downloading package stopwords to /root/nltk_data...\n",
            "[nltk_data]   Package stopwords is already up-to-date!\n"
          ]
        },
        {
          "output_type": "execute_result",
          "data": {
            "text/plain": [
              "True"
            ]
          },
          "metadata": {},
          "execution_count": 3
        }
      ]
    },
    {
      "cell_type": "code",
      "source": [
        "try:\n",
        "  os.chdir('SIADS696')\n",
        "except:\n",
        "  print(\"You're either already in the SIADS696 directory, or the path specified isn't accessible\")"
      ],
      "metadata": {
        "id": "ZjuCnSlVckSC",
        "pycharm": {
          "name": "#%%\n"
        }
      },
      "execution_count": 4,
      "outputs": []
    },
    {
      "cell_type": "markdown",
      "source": [
        "### We'll extract our dataset in two parts:\n",
        "- first extract the overall stats data per channel and store it along with the channel name instead of the id for available channels. (`overall_stats_raw_df`)\n",
        "- And second, extract the per-video data into another dataframe. (`raw_df`)"
      ],
      "metadata": {
        "id": "s72nxVxjlZGi",
        "pycharm": {
          "name": "#%% md\n"
        }
      }
    },
    {
      "cell_type": "code",
      "source": [
        "rootdir = 'data'\n",
        "feature_list = ['publishedAt', 'title', 'channelId', 'description',\n",
        "                'channelTitle', 'tags', 'categoryId', 'viewCount', \n",
        "                'likeCount', 'favoriteCount', 'commentCount', 'duration',\n",
        "                'definition', 'contentRating', 'topicCategories', 'topicLabel']\n",
        "\n",
        "ov_dict_list = []\n",
        "ov_temp_dict = {}\n",
        "\n",
        "dict_list = []\n",
        "temp_dict = {}\n",
        "\n",
        "for path in glob.glob(f'./{rootdir}/*/*'):\n",
        "  try:\n",
        "    with open(path, \"r\") as read_file:\n",
        "      data = json.load(read_file)\n",
        "    for channel_id in data.keys():\n",
        "      ov_temp_dict = data[channel_id][\"channel_statistics\"]\n",
        "      channel_name = list(data[channel_id][\"video_data\"].keys())[0]\n",
        "      ov_temp_dict[\"channelName\"] = data[channel_id][\"video_data\"][channel_name][\"channelTitle\"]\n",
        "      ov_dict_list.append(ov_temp_dict)\n",
        "      \n",
        "      for video_info in data[channel_id][\"video_data\"].values():\n",
        "        temp_dict = video_info\n",
        "        temp_dict[\"topicLabel\"] = path.split('/')[2]\n",
        "        dict_list.append(temp_dict)       \n",
        "  except:\n",
        "    pass\n",
        "\n",
        "overall_stats_raw_df = pd.DataFrame(ov_dict_list)\n",
        "overall_stats_raw_df.drop(\"hiddenSubscriberCount\", axis=1, inplace=True)\n",
        "\n",
        "raw_df = pd.DataFrame(dict_list)\n",
        "raw_df = raw_df[feature_list]"
      ],
      "metadata": {
        "id": "KSTlEX8FBNQ0",
        "pycharm": {
          "name": "#%%\n"
        }
      },
      "execution_count": 5,
      "outputs": []
    },
    {
      "cell_type": "markdown",
      "source": [
        "### Next, let's do a quick check on the data and take a quick look at the data in both the dfs"
      ],
      "metadata": {
        "id": "wx8sIaskERjq",
        "pycharm": {
          "name": "#%% md\n"
        }
      }
    },
    {
      "cell_type": "code",
      "source": [
        "raw_df.info()\n",
        "raw_df.sample(5)"
      ],
      "metadata": {
        "id": "l4WxiXQRC1aY",
        "outputId": "3c7115a1-43d3-4e79-dfd5-141b311c125d",
        "colab": {
          "base_uri": "https://localhost:8080/",
          "height": 982
        },
        "pycharm": {
          "name": "#%%\n"
        }
      },
      "execution_count": 6,
      "outputs": [
        {
          "output_type": "stream",
          "name": "stdout",
          "text": [
            "<class 'pandas.core.frame.DataFrame'>\n",
            "RangeIndex: 55337 entries, 0 to 55336\n",
            "Data columns (total 16 columns):\n",
            " #   Column           Non-Null Count  Dtype \n",
            "---  ------           --------------  ----- \n",
            " 0   publishedAt      55337 non-null  object\n",
            " 1   title            55337 non-null  object\n",
            " 2   channelId        55124 non-null  object\n",
            " 3   description      55124 non-null  object\n",
            " 4   channelTitle     55124 non-null  object\n",
            " 5   tags             51972 non-null  object\n",
            " 6   categoryId       55124 non-null  object\n",
            " 7   viewCount        55050 non-null  object\n",
            " 8   likeCount        54589 non-null  object\n",
            " 9   favoriteCount    55121 non-null  object\n",
            " 10  commentCount     54549 non-null  object\n",
            " 11  duration         55125 non-null  object\n",
            " 12  definition       55125 non-null  object\n",
            " 13  contentRating    55125 non-null  object\n",
            " 14  topicCategories  54331 non-null  object\n",
            " 15  topicLabel       55337 non-null  object\n",
            "dtypes: object(16)\n",
            "memory usage: 6.8+ MB\n"
          ]
        },
        {
          "output_type": "execute_result",
          "data": {
            "text/plain": [
              "                publishedAt  \\\n",
              "45647  2022-04-22T16:17:09Z   \n",
              "46844  2017-06-14T23:00:02Z   \n",
              "51132  2016-11-19T18:38:19Z   \n",
              "13229  2020-03-29T17:00:02Z   \n",
              "28332  2022-02-17T19:34:39Z   \n",
              "\n",
              "                                                   title  \\\n",
              "45647  UK, India agree to step up defence, trade coop...   \n",
              "46844                         World’s Tallest 8-Year-Old   \n",
              "51132                      10 Million Orbeez In Hot Tub!   \n",
              "13229     15 Ways To Make Your Wardrobe More Sustainable   \n",
              "28332  COMO HE RECUPERADO MI CUERPO LUEGO DE MI TERCE...   \n",
              "\n",
              "                      channelId  \\\n",
              "45647  UCNye-wNBqNL5ZzHSJj3l8Bg   \n",
              "46844  UCfwx98Wty7LhdlkxL5PZyLA   \n",
              "51132  UCB0d0JLn1WcGYcwwZ87d2LA   \n",
              "13229  UCHJuQZuzapBh-CuhRYxIZrg   \n",
              "28332  UCiH4auDlkM0tgn9ewT3B1Vw   \n",
              "\n",
              "                                             description        channelTitle  \\\n",
              "45647  India's prime minister says he has discussed t...  Al Jazeera English   \n",
              "46844  SUBSCRIBE to Barcroft TV: http://bit.ly/Oc61Hj...               truly   \n",
              "51132  “10 Million Orbeez In Hot Tub” GET THIS VIDEO ...        Rclbeauty101   \n",
              "13229  Brands like H&M and Fashion Nova remain popula...             Insider   \n",
              "28332  Hola chicos como están? Aquí les tengo mi víde...      Sascha Fitness   \n",
              "\n",
              "                                                    tags categoryId viewCount  \\\n",
              "45647  [Boris Johnson, Defence, India's prime ministe...         25     26546   \n",
              "46844  [amazing news, amazing stories, amazing story,...         25   2849755   \n",
              "51132  [10 million orbeez in hot tub, hot tub, girls,...         24  24579770   \n",
              "13229  [Insider, sustainability, eco-friendly, enviro...         26     94701   \n",
              "28332  [Postparto, Fit, Fitness, Adelgazar, Embarazo,...         26    196605   \n",
              "\n",
              "      likeCount favoriteCount commentCount  duration definition contentRating  \\\n",
              "45647       626             0          383   PT2M44S         hd            {}   \n",
              "46844     16887             0         4713    PT3M7S         hd            {}   \n",
              "51132    403215             0        26105   PT4M34S         hd            {}   \n",
              "13229      1925             0           93   PT6M23S         hd            {}   \n",
              "28332     10791             0          536  PT21M11S         hd            {}   \n",
              "\n",
              "                                         topicCategories       topicLabel  \n",
              "45647  [https://en.wikipedia.org/wiki/Politics, https...             News  \n",
              "46844            [https://en.wikipedia.org/wiki/Society]             News  \n",
              "51132  [https://en.wikipedia.org/wiki/Lifestyle_(soci...           Comedy  \n",
              "13229  [https://en.wikipedia.org/wiki/Fashion, https:...           Travel  \n",
              "28332  [https://en.wikipedia.org/wiki/Health, https:/...  Fitness_workout  "
            ],
            "text/html": [
              "\n",
              "  <div id=\"df-f6e64cee-6541-4ea5-ac2d-41b2944e0053\">\n",
              "    <div class=\"colab-df-container\">\n",
              "      <div>\n",
              "<style scoped>\n",
              "    .dataframe tbody tr th:only-of-type {\n",
              "        vertical-align: middle;\n",
              "    }\n",
              "\n",
              "    .dataframe tbody tr th {\n",
              "        vertical-align: top;\n",
              "    }\n",
              "\n",
              "    .dataframe thead th {\n",
              "        text-align: right;\n",
              "    }\n",
              "</style>\n",
              "<table border=\"1\" class=\"dataframe\">\n",
              "  <thead>\n",
              "    <tr style=\"text-align: right;\">\n",
              "      <th></th>\n",
              "      <th>publishedAt</th>\n",
              "      <th>title</th>\n",
              "      <th>channelId</th>\n",
              "      <th>description</th>\n",
              "      <th>channelTitle</th>\n",
              "      <th>tags</th>\n",
              "      <th>categoryId</th>\n",
              "      <th>viewCount</th>\n",
              "      <th>likeCount</th>\n",
              "      <th>favoriteCount</th>\n",
              "      <th>commentCount</th>\n",
              "      <th>duration</th>\n",
              "      <th>definition</th>\n",
              "      <th>contentRating</th>\n",
              "      <th>topicCategories</th>\n",
              "      <th>topicLabel</th>\n",
              "    </tr>\n",
              "  </thead>\n",
              "  <tbody>\n",
              "    <tr>\n",
              "      <th>45647</th>\n",
              "      <td>2022-04-22T16:17:09Z</td>\n",
              "      <td>UK, India agree to step up defence, trade coop...</td>\n",
              "      <td>UCNye-wNBqNL5ZzHSJj3l8Bg</td>\n",
              "      <td>India's prime minister says he has discussed t...</td>\n",
              "      <td>Al Jazeera English</td>\n",
              "      <td>[Boris Johnson, Defence, India's prime ministe...</td>\n",
              "      <td>25</td>\n",
              "      <td>26546</td>\n",
              "      <td>626</td>\n",
              "      <td>0</td>\n",
              "      <td>383</td>\n",
              "      <td>PT2M44S</td>\n",
              "      <td>hd</td>\n",
              "      <td>{}</td>\n",
              "      <td>[https://en.wikipedia.org/wiki/Politics, https...</td>\n",
              "      <td>News</td>\n",
              "    </tr>\n",
              "    <tr>\n",
              "      <th>46844</th>\n",
              "      <td>2017-06-14T23:00:02Z</td>\n",
              "      <td>World’s Tallest 8-Year-Old</td>\n",
              "      <td>UCfwx98Wty7LhdlkxL5PZyLA</td>\n",
              "      <td>SUBSCRIBE to Barcroft TV: http://bit.ly/Oc61Hj...</td>\n",
              "      <td>truly</td>\n",
              "      <td>[amazing news, amazing stories, amazing story,...</td>\n",
              "      <td>25</td>\n",
              "      <td>2849755</td>\n",
              "      <td>16887</td>\n",
              "      <td>0</td>\n",
              "      <td>4713</td>\n",
              "      <td>PT3M7S</td>\n",
              "      <td>hd</td>\n",
              "      <td>{}</td>\n",
              "      <td>[https://en.wikipedia.org/wiki/Society]</td>\n",
              "      <td>News</td>\n",
              "    </tr>\n",
              "    <tr>\n",
              "      <th>51132</th>\n",
              "      <td>2016-11-19T18:38:19Z</td>\n",
              "      <td>10 Million Orbeez In Hot Tub!</td>\n",
              "      <td>UCB0d0JLn1WcGYcwwZ87d2LA</td>\n",
              "      <td>“10 Million Orbeez In Hot Tub” GET THIS VIDEO ...</td>\n",
              "      <td>Rclbeauty101</td>\n",
              "      <td>[10 million orbeez in hot tub, hot tub, girls,...</td>\n",
              "      <td>24</td>\n",
              "      <td>24579770</td>\n",
              "      <td>403215</td>\n",
              "      <td>0</td>\n",
              "      <td>26105</td>\n",
              "      <td>PT4M34S</td>\n",
              "      <td>hd</td>\n",
              "      <td>{}</td>\n",
              "      <td>[https://en.wikipedia.org/wiki/Lifestyle_(soci...</td>\n",
              "      <td>Comedy</td>\n",
              "    </tr>\n",
              "    <tr>\n",
              "      <th>13229</th>\n",
              "      <td>2020-03-29T17:00:02Z</td>\n",
              "      <td>15 Ways To Make Your Wardrobe More Sustainable</td>\n",
              "      <td>UCHJuQZuzapBh-CuhRYxIZrg</td>\n",
              "      <td>Brands like H&amp;M and Fashion Nova remain popula...</td>\n",
              "      <td>Insider</td>\n",
              "      <td>[Insider, sustainability, eco-friendly, enviro...</td>\n",
              "      <td>26</td>\n",
              "      <td>94701</td>\n",
              "      <td>1925</td>\n",
              "      <td>0</td>\n",
              "      <td>93</td>\n",
              "      <td>PT6M23S</td>\n",
              "      <td>hd</td>\n",
              "      <td>{}</td>\n",
              "      <td>[https://en.wikipedia.org/wiki/Fashion, https:...</td>\n",
              "      <td>Travel</td>\n",
              "    </tr>\n",
              "    <tr>\n",
              "      <th>28332</th>\n",
              "      <td>2022-02-17T19:34:39Z</td>\n",
              "      <td>COMO HE RECUPERADO MI CUERPO LUEGO DE MI TERCE...</td>\n",
              "      <td>UCiH4auDlkM0tgn9ewT3B1Vw</td>\n",
              "      <td>Hola chicos como están? Aquí les tengo mi víde...</td>\n",
              "      <td>Sascha Fitness</td>\n",
              "      <td>[Postparto, Fit, Fitness, Adelgazar, Embarazo,...</td>\n",
              "      <td>26</td>\n",
              "      <td>196605</td>\n",
              "      <td>10791</td>\n",
              "      <td>0</td>\n",
              "      <td>536</td>\n",
              "      <td>PT21M11S</td>\n",
              "      <td>hd</td>\n",
              "      <td>{}</td>\n",
              "      <td>[https://en.wikipedia.org/wiki/Health, https:/...</td>\n",
              "      <td>Fitness_workout</td>\n",
              "    </tr>\n",
              "  </tbody>\n",
              "</table>\n",
              "</div>\n",
              "      <button class=\"colab-df-convert\" onclick=\"convertToInteractive('df-f6e64cee-6541-4ea5-ac2d-41b2944e0053')\"\n",
              "              title=\"Convert this dataframe to an interactive table.\"\n",
              "              style=\"display:none;\">\n",
              "        \n",
              "  <svg xmlns=\"http://www.w3.org/2000/svg\" height=\"24px\"viewBox=\"0 0 24 24\"\n",
              "       width=\"24px\">\n",
              "    <path d=\"M0 0h24v24H0V0z\" fill=\"none\"/>\n",
              "    <path d=\"M18.56 5.44l.94 2.06.94-2.06 2.06-.94-2.06-.94-.94-2.06-.94 2.06-2.06.94zm-11 1L8.5 8.5l.94-2.06 2.06-.94-2.06-.94L8.5 2.5l-.94 2.06-2.06.94zm10 10l.94 2.06.94-2.06 2.06-.94-2.06-.94-.94-2.06-.94 2.06-2.06.94z\"/><path d=\"M17.41 7.96l-1.37-1.37c-.4-.4-.92-.59-1.43-.59-.52 0-1.04.2-1.43.59L10.3 9.45l-7.72 7.72c-.78.78-.78 2.05 0 2.83L4 21.41c.39.39.9.59 1.41.59.51 0 1.02-.2 1.41-.59l7.78-7.78 2.81-2.81c.8-.78.8-2.07 0-2.86zM5.41 20L4 18.59l7.72-7.72 1.47 1.35L5.41 20z\"/>\n",
              "  </svg>\n",
              "      </button>\n",
              "      \n",
              "  <style>\n",
              "    .colab-df-container {\n",
              "      display:flex;\n",
              "      flex-wrap:wrap;\n",
              "      gap: 12px;\n",
              "    }\n",
              "\n",
              "    .colab-df-convert {\n",
              "      background-color: #E8F0FE;\n",
              "      border: none;\n",
              "      border-radius: 50%;\n",
              "      cursor: pointer;\n",
              "      display: none;\n",
              "      fill: #1967D2;\n",
              "      height: 32px;\n",
              "      padding: 0 0 0 0;\n",
              "      width: 32px;\n",
              "    }\n",
              "\n",
              "    .colab-df-convert:hover {\n",
              "      background-color: #E2EBFA;\n",
              "      box-shadow: 0px 1px 2px rgba(60, 64, 67, 0.3), 0px 1px 3px 1px rgba(60, 64, 67, 0.15);\n",
              "      fill: #174EA6;\n",
              "    }\n",
              "\n",
              "    [theme=dark] .colab-df-convert {\n",
              "      background-color: #3B4455;\n",
              "      fill: #D2E3FC;\n",
              "    }\n",
              "\n",
              "    [theme=dark] .colab-df-convert:hover {\n",
              "      background-color: #434B5C;\n",
              "      box-shadow: 0px 1px 3px 1px rgba(0, 0, 0, 0.15);\n",
              "      filter: drop-shadow(0px 1px 2px rgba(0, 0, 0, 0.3));\n",
              "      fill: #FFFFFF;\n",
              "    }\n",
              "  </style>\n",
              "\n",
              "      <script>\n",
              "        const buttonEl =\n",
              "          document.querySelector('#df-f6e64cee-6541-4ea5-ac2d-41b2944e0053 button.colab-df-convert');\n",
              "        buttonEl.style.display =\n",
              "          google.colab.kernel.accessAllowed ? 'block' : 'none';\n",
              "\n",
              "        async function convertToInteractive(key) {\n",
              "          const element = document.querySelector('#df-f6e64cee-6541-4ea5-ac2d-41b2944e0053');\n",
              "          const dataTable =\n",
              "            await google.colab.kernel.invokeFunction('convertToInteractive',\n",
              "                                                     [key], {});\n",
              "          if (!dataTable) return;\n",
              "\n",
              "          const docLinkHtml = 'Like what you see? Visit the ' +\n",
              "            '<a target=\"_blank\" href=https://colab.research.google.com/notebooks/data_table.ipynb>data table notebook</a>'\n",
              "            + ' to learn more about interactive tables.';\n",
              "          element.innerHTML = '';\n",
              "          dataTable['output_type'] = 'display_data';\n",
              "          await google.colab.output.renderOutput(dataTable, element);\n",
              "          const docLink = document.createElement('div');\n",
              "          docLink.innerHTML = docLinkHtml;\n",
              "          element.appendChild(docLink);\n",
              "        }\n",
              "      </script>\n",
              "    </div>\n",
              "  </div>\n",
              "  "
            ]
          },
          "metadata": {},
          "execution_count": 6
        }
      ]
    },
    {
      "cell_type": "code",
      "source": [
        "overall_stats_raw_df.info()\n",
        "overall_stats_raw_df.sample(5)"
      ],
      "metadata": {
        "id": "bT47uyotFG8o",
        "outputId": "feeb1db5-3f66-4780-b565-00a55d70ad28",
        "colab": {
          "base_uri": "https://localhost:8080/",
          "height": 391
        },
        "pycharm": {
          "name": "#%%\n"
        }
      },
      "execution_count": 7,
      "outputs": [
        {
          "output_type": "stream",
          "name": "stdout",
          "text": [
            "<class 'pandas.core.frame.DataFrame'>\n",
            "RangeIndex: 149 entries, 0 to 148\n",
            "Data columns (total 4 columns):\n",
            " #   Column           Non-Null Count  Dtype \n",
            "---  ------           --------------  ----- \n",
            " 0   viewCount        149 non-null    object\n",
            " 1   subscriberCount  149 non-null    object\n",
            " 2   videoCount       149 non-null    object\n",
            " 3   channelName      149 non-null    object\n",
            "dtypes: object(4)\n",
            "memory usage: 4.8+ KB\n"
          ]
        },
        {
          "output_type": "execute_result",
          "data": {
            "text/plain": [
              "      viewCount subscriberCount videoCount          channelName\n",
              "147  4275198419        19600000        566                shane\n",
              "65    506269055         5530000        267        minutephysics\n",
              "106   329707690         2140000        242  AlternateHistoryHub\n",
              "100   864127549         5650000        176             CGP Grey\n",
              "49    884896291         4910000        491     How To Cook That"
            ],
            "text/html": [
              "\n",
              "  <div id=\"df-31a06cb2-c4fb-4f3a-bbc6-4bc72c4c8f8b\">\n",
              "    <div class=\"colab-df-container\">\n",
              "      <div>\n",
              "<style scoped>\n",
              "    .dataframe tbody tr th:only-of-type {\n",
              "        vertical-align: middle;\n",
              "    }\n",
              "\n",
              "    .dataframe tbody tr th {\n",
              "        vertical-align: top;\n",
              "    }\n",
              "\n",
              "    .dataframe thead th {\n",
              "        text-align: right;\n",
              "    }\n",
              "</style>\n",
              "<table border=\"1\" class=\"dataframe\">\n",
              "  <thead>\n",
              "    <tr style=\"text-align: right;\">\n",
              "      <th></th>\n",
              "      <th>viewCount</th>\n",
              "      <th>subscriberCount</th>\n",
              "      <th>videoCount</th>\n",
              "      <th>channelName</th>\n",
              "    </tr>\n",
              "  </thead>\n",
              "  <tbody>\n",
              "    <tr>\n",
              "      <th>147</th>\n",
              "      <td>4275198419</td>\n",
              "      <td>19600000</td>\n",
              "      <td>566</td>\n",
              "      <td>shane</td>\n",
              "    </tr>\n",
              "    <tr>\n",
              "      <th>65</th>\n",
              "      <td>506269055</td>\n",
              "      <td>5530000</td>\n",
              "      <td>267</td>\n",
              "      <td>minutephysics</td>\n",
              "    </tr>\n",
              "    <tr>\n",
              "      <th>106</th>\n",
              "      <td>329707690</td>\n",
              "      <td>2140000</td>\n",
              "      <td>242</td>\n",
              "      <td>AlternateHistoryHub</td>\n",
              "    </tr>\n",
              "    <tr>\n",
              "      <th>100</th>\n",
              "      <td>864127549</td>\n",
              "      <td>5650000</td>\n",
              "      <td>176</td>\n",
              "      <td>CGP Grey</td>\n",
              "    </tr>\n",
              "    <tr>\n",
              "      <th>49</th>\n",
              "      <td>884896291</td>\n",
              "      <td>4910000</td>\n",
              "      <td>491</td>\n",
              "      <td>How To Cook That</td>\n",
              "    </tr>\n",
              "  </tbody>\n",
              "</table>\n",
              "</div>\n",
              "      <button class=\"colab-df-convert\" onclick=\"convertToInteractive('df-31a06cb2-c4fb-4f3a-bbc6-4bc72c4c8f8b')\"\n",
              "              title=\"Convert this dataframe to an interactive table.\"\n",
              "              style=\"display:none;\">\n",
              "        \n",
              "  <svg xmlns=\"http://www.w3.org/2000/svg\" height=\"24px\"viewBox=\"0 0 24 24\"\n",
              "       width=\"24px\">\n",
              "    <path d=\"M0 0h24v24H0V0z\" fill=\"none\"/>\n",
              "    <path d=\"M18.56 5.44l.94 2.06.94-2.06 2.06-.94-2.06-.94-.94-2.06-.94 2.06-2.06.94zm-11 1L8.5 8.5l.94-2.06 2.06-.94-2.06-.94L8.5 2.5l-.94 2.06-2.06.94zm10 10l.94 2.06.94-2.06 2.06-.94-2.06-.94-.94-2.06-.94 2.06-2.06.94z\"/><path d=\"M17.41 7.96l-1.37-1.37c-.4-.4-.92-.59-1.43-.59-.52 0-1.04.2-1.43.59L10.3 9.45l-7.72 7.72c-.78.78-.78 2.05 0 2.83L4 21.41c.39.39.9.59 1.41.59.51 0 1.02-.2 1.41-.59l7.78-7.78 2.81-2.81c.8-.78.8-2.07 0-2.86zM5.41 20L4 18.59l7.72-7.72 1.47 1.35L5.41 20z\"/>\n",
              "  </svg>\n",
              "      </button>\n",
              "      \n",
              "  <style>\n",
              "    .colab-df-container {\n",
              "      display:flex;\n",
              "      flex-wrap:wrap;\n",
              "      gap: 12px;\n",
              "    }\n",
              "\n",
              "    .colab-df-convert {\n",
              "      background-color: #E8F0FE;\n",
              "      border: none;\n",
              "      border-radius: 50%;\n",
              "      cursor: pointer;\n",
              "      display: none;\n",
              "      fill: #1967D2;\n",
              "      height: 32px;\n",
              "      padding: 0 0 0 0;\n",
              "      width: 32px;\n",
              "    }\n",
              "\n",
              "    .colab-df-convert:hover {\n",
              "      background-color: #E2EBFA;\n",
              "      box-shadow: 0px 1px 2px rgba(60, 64, 67, 0.3), 0px 1px 3px 1px rgba(60, 64, 67, 0.15);\n",
              "      fill: #174EA6;\n",
              "    }\n",
              "\n",
              "    [theme=dark] .colab-df-convert {\n",
              "      background-color: #3B4455;\n",
              "      fill: #D2E3FC;\n",
              "    }\n",
              "\n",
              "    [theme=dark] .colab-df-convert:hover {\n",
              "      background-color: #434B5C;\n",
              "      box-shadow: 0px 1px 3px 1px rgba(0, 0, 0, 0.15);\n",
              "      filter: drop-shadow(0px 1px 2px rgba(0, 0, 0, 0.3));\n",
              "      fill: #FFFFFF;\n",
              "    }\n",
              "  </style>\n",
              "\n",
              "      <script>\n",
              "        const buttonEl =\n",
              "          document.querySelector('#df-31a06cb2-c4fb-4f3a-bbc6-4bc72c4c8f8b button.colab-df-convert');\n",
              "        buttonEl.style.display =\n",
              "          google.colab.kernel.accessAllowed ? 'block' : 'none';\n",
              "\n",
              "        async function convertToInteractive(key) {\n",
              "          const element = document.querySelector('#df-31a06cb2-c4fb-4f3a-bbc6-4bc72c4c8f8b');\n",
              "          const dataTable =\n",
              "            await google.colab.kernel.invokeFunction('convertToInteractive',\n",
              "                                                     [key], {});\n",
              "          if (!dataTable) return;\n",
              "\n",
              "          const docLinkHtml = 'Like what you see? Visit the ' +\n",
              "            '<a target=\"_blank\" href=https://colab.research.google.com/notebooks/data_table.ipynb>data table notebook</a>'\n",
              "            + ' to learn more about interactive tables.';\n",
              "          element.innerHTML = '';\n",
              "          dataTable['output_type'] = 'display_data';\n",
              "          await google.colab.output.renderOutput(dataTable, element);\n",
              "          const docLink = document.createElement('div');\n",
              "          docLink.innerHTML = docLinkHtml;\n",
              "          element.appendChild(docLink);\n",
              "        }\n",
              "      </script>\n",
              "    </div>\n",
              "  </div>\n",
              "  "
            ]
          },
          "metadata": {},
          "execution_count": 7
        }
      ]
    },
    {
      "cell_type": "markdown",
      "source": [
        "### Let's examine our datatypes and convert them appropriately"
      ],
      "metadata": {
        "id": "ZeWzYTmOA4eY",
        "pycharm": {
          "name": "#%% md\n"
        }
      }
    },
    {
      "cell_type": "code",
      "source": [
        "raw_df.info()"
      ],
      "metadata": {
        "id": "NB0XlyRB1dHI",
        "outputId": "1c371f62-b8f2-4546-90c0-76250f25e02e",
        "colab": {
          "base_uri": "https://localhost:8080/"
        },
        "pycharm": {
          "name": "#%%\n"
        }
      },
      "execution_count": 8,
      "outputs": [
        {
          "output_type": "stream",
          "name": "stdout",
          "text": [
            "<class 'pandas.core.frame.DataFrame'>\n",
            "RangeIndex: 55337 entries, 0 to 55336\n",
            "Data columns (total 16 columns):\n",
            " #   Column           Non-Null Count  Dtype \n",
            "---  ------           --------------  ----- \n",
            " 0   publishedAt      55337 non-null  object\n",
            " 1   title            55337 non-null  object\n",
            " 2   channelId        55124 non-null  object\n",
            " 3   description      55124 non-null  object\n",
            " 4   channelTitle     55124 non-null  object\n",
            " 5   tags             51972 non-null  object\n",
            " 6   categoryId       55124 non-null  object\n",
            " 7   viewCount        55050 non-null  object\n",
            " 8   likeCount        54589 non-null  object\n",
            " 9   favoriteCount    55121 non-null  object\n",
            " 10  commentCount     54549 non-null  object\n",
            " 11  duration         55125 non-null  object\n",
            " 12  definition       55125 non-null  object\n",
            " 13  contentRating    55125 non-null  object\n",
            " 14  topicCategories  54331 non-null  object\n",
            " 15  topicLabel       55337 non-null  object\n",
            "dtypes: object(16)\n",
            "memory usage: 6.8+ MB\n"
          ]
        }
      ]
    },
    {
      "cell_type": "code",
      "source": [
        "raw_df.loc[0].publishedAt"
      ],
      "metadata": {
        "colab": {
          "base_uri": "https://localhost:8080/",
          "height": 37
        },
        "id": "H8jPmw20BiOJ",
        "outputId": "020d8cb4-f9ea-494f-da75-2280f207f4c0"
      },
      "execution_count": 9,
      "outputs": [
        {
          "output_type": "execute_result",
          "data": {
            "text/plain": [
              "'2021-11-05T12:52:19Z'"
            ],
            "application/vnd.google.colaboratory.intrinsic+json": {
              "type": "string"
            }
          },
          "metadata": {},
          "execution_count": 9
        }
      ]
    },
    {
      "cell_type": "code",
      "source": [
        "def duration_split(duration):\n",
        "    try:\n",
        "      for _, v in groupby(duration, str.isalpha):\n",
        "        yield ''.join(v)\n",
        "    except:\n",
        "      yield np.nan\n",
        "    \n",
        "### Miles code fix included here   \n",
        "def duration_2_secs(duration, duration_split=duration_split):\n",
        "  temp = 0\n",
        "  for i, val in enumerate(duration_split(duration)):\n",
        "    \n",
        "    if len(str(duration)) <= 8:\n",
        "      if i==1 and not val.isalpha():\n",
        "        temp += float(val)*60\n",
        "      \n",
        "      if i==3 and not val.isalpha():\n",
        "        temp += float(val)\n",
        "    else:\n",
        "      if i==1 and not val.isalpha():\n",
        "        temp += float(val)*60*60\n",
        "      \n",
        "      if i==3 and not val.isalpha():\n",
        "        temp += float(val)*60\n",
        "      \n",
        "      if i==5 and not val.isalpha():\n",
        "        temp += float(val)\n",
        "\n",
        "  return(temp)\n",
        "\n",
        "\n",
        "# duration_2_secs(\"PT51M12S\")"
      ],
      "metadata": {
        "id": "IpgdK3Vs53Yo",
        "pycharm": {
          "name": "#%%\n"
        }
      },
      "execution_count": 10,
      "outputs": []
    },
    {
      "cell_type": "code",
      "source": [
        "def topic_extract(links_list):\n",
        "  \n",
        "  topics_list = []  \n",
        "  try:\n",
        "    for link in links_list:\n",
        "      topics_list.append(link.split(\"/\")[-1].lower())\n",
        "    \n",
        "    return(topics_list)\n",
        "  except:\n",
        "    pass"
      ],
      "metadata": {
        "id": "7GyZH6WgHzw7",
        "pycharm": {
          "name": "#%%\n"
        }
      },
      "execution_count": 11,
      "outputs": []
    },
    {
      "cell_type": "code",
      "source": [
        "def text_prep(val):\n",
        "  '''the goal is to replace the hypertexts in the \n",
        "  in any field to redundant names as vectorizing\n",
        "  them could be misleading and also leak data'''\n",
        "\n",
        "  val = str(val).lower()\n",
        "  process_desc = re.sub(r'http[s]*:.*\\w', 'url', val)\n",
        "  process_desc = re.sub('[^a-zA-Z]', ' ', process_desc)\n",
        "  process_desc = re.sub(r'\\s+', ' ', process_desc)\n",
        "\n",
        "  process_desc = nltk.sent_tokenize(process_desc)\n",
        "  if not process_desc:\n",
        "    process_desc = [nltk.word_tokenize(word) for word in process_desc]\n",
        "  else:\n",
        "    process_desc = [nltk.word_tokenize(word) for word in process_desc][0]\n",
        "    \n",
        "  \n",
        "  word_list = [word for word in process_desc if word not in stopwords.words('english')]\n",
        "\n",
        "\n",
        "  return word_list\n",
        "\n"
      ],
      "metadata": {
        "id": "iQqQ2cTCTV25",
        "pycharm": {
          "name": "#%%\n"
        }
      },
      "execution_count": 12,
      "outputs": []
    },
    {
      "cell_type": "code",
      "source": [
        "text_prep(\"i if happening\")"
      ],
      "metadata": {
        "id": "tlnQIsjxffa6",
        "outputId": "f7f300f8-d943-4c3b-a0bb-386a271e5153",
        "colab": {
          "base_uri": "https://localhost:8080/"
        },
        "pycharm": {
          "name": "#%%\n"
        }
      },
      "execution_count": 13,
      "outputs": [
        {
          "output_type": "execute_result",
          "data": {
            "text/plain": [
              "['happening']"
            ]
          },
          "metadata": {},
          "execution_count": 13
        }
      ]
    },
    {
      "cell_type": "code",
      "source": [
        "raw_df.groupby('topicLabel').viewCount.agg('median').plot(kind='bar');"
      ],
      "metadata": {
        "colab": {
          "base_uri": "https://localhost:8080/",
          "height": 360
        },
        "id": "E9bhb-G9E4dG",
        "outputId": "ad6b4e02-0be4-4380-f7dc-fb5681e2d494"
      },
      "execution_count": 14,
      "outputs": [
        {
          "output_type": "display_data",
          "data": {
            "text/plain": [
              "<Figure size 432x288 with 1 Axes>"
            ],
            "image/png": "[encoded data removed]"
          },
          "metadata": {
            "needs_background": "light"
          }
        }
      ]
    },
    {
      "cell_type": "code",
      "source": [
        "# raw_df.topicLabel.map(dict(raw_df.groupby('topicLabel').avg_viewCount.agg('median')))"
      ],
      "metadata": {
        "id": "i0ja2A7LJsJf"
      },
      "execution_count": 15,
      "outputs": []
    },
    {
      "cell_type": "code",
      "source": [
        "def create_dataset(df, featureset, primary=True):\n",
        "\n",
        "  if primary:\n",
        "    df[\"publishedAt\"] = pd.to_datetime(df.publishedAt)\n",
        "    df['publishedDayNum'] = df.publishedAt.apply(lambda x: x.timetuple().tm_yday)\n",
        "    df['publishedDayDelta'] = (datetime.datetime.now() - df.publishedAt.dt.tz_localize(None)).dt.days\n",
        "    df[\"categoryId\"] = df.categoryId.astype(float)\n",
        "    df[\"viewCount\"] = df.viewCount.astype(float)\n",
        "    df[\"avg_viewCount\"] = df[\"viewCount\"]/df['publishedDayDelta']\n",
        "    df[\"likeCount\"] = df.likeCount.astype(float)\n",
        "    df[\"favoriteCount\"] = df.favoriteCount.astype(float)\n",
        "    df[\"commentCount\"] = df.commentCount.astype(float)\n",
        "    df['duration_secs'] = df.duration.apply(duration_2_secs)\n",
        "    df['topicCategories'] = df.topicCategories.apply(topic_extract)\n",
        "    df['primary_cat'] = df.topicCategories.apply(topic_extract)\n",
        "    df['tags'] = df.tags.apply(topic_extract)\n",
        "    df['channelTitle'] = df.channelTitle.str.lower()\n",
        "    df['topicLabel'] = df.topicLabel.str.lower()\n",
        "    df['description'] = df.description.apply(text_prep)\n",
        "    df['title'] = df.title.apply(text_prep)\n",
        "    df['len_title'] = df.title.apply(lambda x: len(x))\n",
        "    df['log_duration_secs'] = np.log(df.duration_secs+1)\n",
        "    df.loc[df['topicLabel'] == 'fitness_workout', 'topicLabel'] = 'fitness'\n",
        "    df['score'] = df[\"avg_viewCount\"]/df.topicLabel.map(dict(df.groupby('topicLabel').avg_viewCount.agg('median')))\n",
        "  \n",
        "  else:\n",
        "    df['ov_viewCount'] = df.viewCount.astype(float)\n",
        "    df['ov_subscriberCount'] = df.subscriberCount.astype(float)\n",
        "    df['ov_videoCount'] = df.videoCount.astype(float)\n",
        "    df['channelName'] = df.channelName.str.lower()\n",
        "\n",
        "  return df[featureset]"
      ],
      "metadata": {
        "id": "p0OW3SZK1hOg",
        "pycharm": {
          "name": "#%%\n"
        }
      },
      "execution_count": 16,
      "outputs": []
    },
    {
      "cell_type": "markdown",
      "source": [
        "- It's best to drop tags because, in many cases, the tags tend to contain the channel names, which could as we speculated earlier, lead to data leaks.\n",
        "- We'll also drop channelId because it is visually unintuitve and we can encode the channelNames with simple Id's if we needed to.\n",
        "- since we don't have data in the order of millions, we'd abstract out the publishing data to a new variable of `publishedDayNum` that contains the day of the year the video was published.\n",
        "- on examining `contentRating` values, the dataset in non-null but majorly contains empty dictionaries, which makes it misleading. As a result, we'll drop this feature too.\n",
        "- on examining `favoriteCount` values, the dataset in non-null but majorly contains a value of `0`, which makes it misleading. As a result, we'll drop it.\n",
        "\n",
        "- dropped columns list [`tags`, `channelId`, `contentRating`] and [`publishedAt`] after deriving the `publishedDayNum` column from it."
      ],
      "metadata": {
        "id": "6DM_MqBeWuTB",
        "pycharm": {
          "name": "#%% md\n"
        }
      }
    },
    {
      "cell_type": "code",
      "source": [
        "features = ['title', 'description', 'channelTitle',\n",
        " 'categoryId', 'viewCount', 'avg_viewCount', 'likeCount',\n",
        " 'commentCount', 'duration_secs', 'log_duration_secs',\n",
        " 'definition', 'topicCategories', 'publishedDayNum',\n",
        " 'publishedDayDelta', 'len_title', 'topicLabel', 'score']\n",
        "\n",
        "preproc1_df = create_dataset(raw_df, features)"
      ],
      "metadata": {
        "id": "1x1H_CF7Zbph",
        "pycharm": {
          "name": "#%%\n"
        }
      },
      "execution_count": null,
      "outputs": []
    },
    {
      "cell_type": "code",
      "source": [
        "preproc1_df.sample(5)"
      ],
      "metadata": {
        "id": "TQtMyEfFZbsh",
        "pycharm": {
          "name": "#%%\n"
        }
      },
      "execution_count": null,
      "outputs": []
    },
    {
      "cell_type": "markdown",
      "source": [
        "### Let's try engineering a few more features out of our semi-processed dataset"
      ],
      "metadata": {
        "id": "oZZdRTpu9nfZ"
      }
    },
    {
      "cell_type": "markdown",
      "source": [
        "- a single primary topic to help with the intercept\n",
        "- median views calculation grouped by primary topics\n"
      ],
      "metadata": {
        "id": "w3Ez99VO-ldE"
      }
    },
    {
      "cell_type": "code",
      "source": [],
      "metadata": {
        "id": "yIb5nENz9m5i"
      },
      "execution_count": null,
      "outputs": []
    },
    {
      "cell_type": "code",
      "source": [
        "preproc1_df.info()"
      ],
      "metadata": {
        "id": "t0IvTxgCZbvQ",
        "pycharm": {
          "name": "#%%\n"
        }
      },
      "execution_count": null,
      "outputs": []
    },
    {
      "cell_type": "markdown",
      "source": [
        "Let's again take a look at what percentage of data is missing across all the fields."
      ],
      "metadata": {
        "id": "2UZA5KbIcLNS",
        "pycharm": {
          "name": "#%% md\n"
        }
      }
    },
    {
      "cell_type": "code",
      "source": [
        "missing_data_perc_cols = (preproc1_df.isna().sum()/len(preproc1_df))*100\n",
        "missing_data_perc_cols"
      ],
      "metadata": {
        "id": "XU9z_gY7ZbyY",
        "pycharm": {
          "name": "#%%\n"
        }
      },
      "execution_count": null,
      "outputs": []
    },
    {
      "cell_type": "code",
      "source": [
        "lost_rows_perc = len(preproc1_df.dropna())/len(preproc1_df)*100\n",
        "lost_rows_perc"
      ],
      "metadata": {
        "id": "1v-cD0UedKA3",
        "pycharm": {
          "name": "#%%\n"
        }
      },
      "execution_count": null,
      "outputs": []
    },
    {
      "cell_type": "markdown",
      "source": [
        "It's under 5% in across all cases, which isn't a bad thing at all and we can easily consider dropping the missing fields as we would regularly keep enriching our datastore, which would easily compensate for the missing 5% over time."
      ],
      "metadata": {
        "id": "CJzvUQV2cUnQ",
        "pycharm": {
          "name": "#%% md\n"
        }
      }
    },
    {
      "cell_type": "code",
      "source": [
        "preproc2_df = preproc1_df.dropna()"
      ],
      "metadata": {
        "id": "el2ILYIT5CuN",
        "pycharm": {
          "name": "#%%\n"
        }
      },
      "execution_count": null,
      "outputs": []
    },
    {
      "cell_type": "code",
      "source": [
        "preproc2_df.isna().sum()"
      ],
      "metadata": {
        "id": "okxXKRxo5CxC",
        "pycharm": {
          "name": "#%%\n"
        }
      },
      "execution_count": null,
      "outputs": []
    },
    {
      "cell_type": "code",
      "source": [
        "preproc2_df.drop('categoryId', axis=1).describe()"
      ],
      "metadata": {
        "id": "2J7gwINo5Czy",
        "pycharm": {
          "name": "#%%\n"
        }
      },
      "execution_count": null,
      "outputs": []
    },
    {
      "cell_type": "code",
      "source": [
        "q1, q3 = np.percentile(preproc2_df.score,[25,75])\n",
        "iqr = q3-q1\n",
        "ul = q3+1.5*iqr"
      ],
      "metadata": {
        "id": "A63yX_NSRX_h"
      },
      "execution_count": null,
      "outputs": []
    },
    {
      "cell_type": "code",
      "source": [
        "np.mean(preproc2_df.score>ul)"
      ],
      "metadata": {
        "id": "yFF7oHkHPi4l"
      },
      "execution_count": null,
      "outputs": []
    },
    {
      "cell_type": "code",
      "source": [
        "def outlier_thresh(df):\n",
        "  q1, q3 = np.percentile(df,[25,75])\n",
        "  iqr = q3-q1\n",
        "  \n",
        "  return(q3+1.5*iqr)"
      ],
      "metadata": {
        "id": "HpkIxWafT3ls"
      },
      "execution_count": null,
      "outputs": []
    },
    {
      "cell_type": "code",
      "source": [
        "topic_thresh_dict = dict(preproc2_df.drop('categoryId', axis=1).groupby('topicLabel').score.apply(outlier_thresh))"
      ],
      "metadata": {
        "id": "9KXnM-NbR3Ns"
      },
      "execution_count": null,
      "outputs": []
    },
    {
      "cell_type": "markdown",
      "source": [
        "we will now eliminate outliers that are above our thresholds to make our data more well-behaved"
      ],
      "metadata": {
        "id": "-qCo-oDCUbcW"
      }
    },
    {
      "cell_type": "code",
      "source": [
        "np.mean(preproc2_df.score>preproc2_df.topicLabel.map(topic_thresh_dict))"
      ],
      "metadata": {
        "id": "OSsi6PwhULRJ"
      },
      "execution_count": null,
      "outputs": []
    },
    {
      "cell_type": "markdown",
      "source": [
        "we stand to lose, ~13% of our data. since we would keep enriching our database regularly, on average, the data lost at this step would start to become insignificant if the law of large numbers is obeyed."
      ],
      "metadata": {
        "id": "6R_ov_jkU7k2"
      }
    },
    {
      "cell_type": "code",
      "source": [
        "preproc2_df = preproc2_df[preproc2_df.score<preproc2_df.topicLabel.map(topic_thresh_dict)]"
      ],
      "metadata": {
        "id": "70DfJNJyU3t-"
      },
      "execution_count": null,
      "outputs": []
    },
    {
      "cell_type": "code",
      "source": [
        "preproc2_df.drop('categoryId', axis=1).corr()"
      ],
      "metadata": {
        "id": "R-ye303SeWqR",
        "pycharm": {
          "name": "#%%\n"
        }
      },
      "execution_count": null,
      "outputs": []
    },
    {
      "cell_type": "code",
      "source": [
        "preproc2_df.drop('categoryId', axis=1).hist(figsize=(8,8));"
      ],
      "metadata": {
        "id": "EX-poBN0kbLM",
        "pycharm": {
          "name": "#%%\n"
        }
      },
      "execution_count": null,
      "outputs": []
    },
    {
      "cell_type": "markdown",
      "source": [
        "We could consider applying a transformation to the data, to help address the heavy left-skew on most numerical features."
      ],
      "metadata": {
        "id": "JWSkcP6QkhCr",
        "pycharm": {
          "name": "#%% md\n"
        }
      }
    },
    {
      "cell_type": "markdown",
      "source": [
        "Let's quickly set the same steps up for the `overall_stats_raw_df` df."
      ],
      "metadata": {
        "id": "kpFgdIRye_xq",
        "pycharm": {
          "name": "#%% md\n"
        }
      }
    },
    {
      "cell_type": "code",
      "source": [
        "overall_stats_raw_df.head()"
      ],
      "metadata": {
        "id": "H48y6gUie4ZS",
        "pycharm": {
          "name": "#%%\n"
        }
      },
      "execution_count": null,
      "outputs": []
    },
    {
      "cell_type": "code",
      "source": [
        "overall_stats_raw_df.dtypes"
      ],
      "metadata": {
        "id": "DtktnMLEe4cA",
        "pycharm": {
          "name": "#%%\n"
        }
      },
      "execution_count": null,
      "outputs": []
    },
    {
      "cell_type": "code",
      "source": [
        "ov_features = ['channelName', 'ov_viewCount', 'ov_subscriberCount', 'ov_videoCount']\n",
        "ov_stats_pre_df1 = create_dataset(overall_stats_raw_df, ov_features, primary=False)"
      ],
      "metadata": {
        "id": "i3dDxWice4ef",
        "pycharm": {
          "name": "#%%\n"
        }
      },
      "execution_count": null,
      "outputs": []
    },
    {
      "cell_type": "code",
      "source": [
        "ov_stats_pre_df1.head()"
      ],
      "metadata": {
        "id": "X6g_BYTSe4hV",
        "pycharm": {
          "name": "#%%\n"
        }
      },
      "execution_count": null,
      "outputs": []
    },
    {
      "cell_type": "code",
      "source": [
        "ov_stats_pre_df1.isna().sum()"
      ],
      "metadata": {
        "id": "FfgaWA8V45MV",
        "pycharm": {
          "name": "#%%\n"
        }
      },
      "execution_count": null,
      "outputs": []
    },
    {
      "cell_type": "markdown",
      "source": [
        "With both the datasets ready and a basic relation overview amongst the features, we can now move onto the phase of text processing to make it machine interpretable."
      ],
      "metadata": {
        "id": "kWT7M_k0m45b",
        "pycharm": {
          "name": "#%% md\n"
        }
      }
    },
    {
      "cell_type": "code",
      "source": [
        "df = pd.merge(preproc2_df, ov_stats_pre_df1, how='left', left_on='channelTitle', right_on='channelName')\n",
        "df.head()"
      ],
      "metadata": {
        "id": "DQv5dVa_S1oe",
        "pycharm": {
          "name": "#%%\n"
        }
      },
      "execution_count": null,
      "outputs": []
    },
    {
      "cell_type": "code",
      "source": [
        "# df.loc[df['topicLabel'] == 'fitness_workout', 'topicLabel'] = 'fitness'"
      ],
      "metadata": {
        "id": "4UiX98CuZY4q"
      },
      "execution_count": null,
      "outputs": []
    },
    {
      "cell_type": "code",
      "source": [
        "df.columns"
      ],
      "metadata": {
        "id": "U-cr2TpheM9N"
      },
      "execution_count": null,
      "outputs": []
    },
    {
      "cell_type": "code",
      "source": [
        "# df['std_viewCount'] = df.groupby('channelTitle').viewCount.apply(lambda x: (x - x.mean()) / x.std()).values\n"
      ],
      "metadata": {
        "id": "FZnJtYcUCbXw",
        "pycharm": {
          "name": "#%%\n"
        }
      },
      "execution_count": 41,
      "outputs": []
    },
    {
      "cell_type": "code",
      "source": [
        "# unique_topics_list = set()\n",
        "# for topic_list in df.topicCategories.values:\n",
        "#   for topic in topic_list:\n",
        "#     unique_topics_list.add(topic)\n",
        "\n",
        "# unique_titles_word_list = set()\n",
        "# for topic_list in df.title.values:\n",
        "#   for topic in topic_list:\n",
        "#     unique_titles_word_list.add(topic)"
      ],
      "metadata": {
        "id": "hchCQuvhTNRD",
        "pycharm": {
          "name": "#%%\n"
        }
      },
      "execution_count": 42,
      "outputs": []
    },
    {
      "cell_type": "code",
      "source": [],
      "metadata": {
        "id": "lMjrwAOueKaj"
      },
      "execution_count": 42,
      "outputs": []
    },
    {
      "cell_type": "code",
      "source": [
        "# unique_titles_word_list"
      ],
      "metadata": {
        "id": "wdThw77_YjVE",
        "pycharm": {
          "name": "#%%\n"
        }
      },
      "execution_count": 43,
      "outputs": []
    },
    {
      "cell_type": "code",
      "source": [
        "# df = pd.read_csv('SIADS696/df.csv')"
      ],
      "metadata": {
        "id": "IQtuwdEOqd3s"
      },
      "execution_count": null,
      "outputs": []
    },
    {
      "cell_type": "code",
      "source": [
        "basic_model_features = ['title', 'definition', 'publishedDayNum', 'log_duration_secs', 'len_title', 'topicLabel', 'score']\n",
        "basic_model_data = df[basic_model_features]\n",
        "\n",
        "basic_model_data.head()"
      ],
      "metadata": {
        "id": "ouZJO-GlaAAW",
        "pycharm": {
          "name": "#%%\n"
        }
      },
      "execution_count": null,
      "outputs": []
    },
    {
      "cell_type": "code",
      "source": [],
      "metadata": {
        "id": "f4d_8Qm5Y6C1"
      },
      "execution_count": null,
      "outputs": []
    },
    {
      "cell_type": "code",
      "source": [
        "basic_model_data.topicLabel.unique()"
      ],
      "metadata": {
        "id": "LOBqVaTRYz5F"
      },
      "execution_count": null,
      "outputs": []
    },
    {
      "cell_type": "code",
      "source": [
        "import seaborn as sns\n",
        "sns.distplot(basic_model_data.log_duration_secs+1);"
      ],
      "metadata": {
        "id": "htD-0uJkehjo",
        "pycharm": {
          "name": "#%%\n"
        }
      },
      "execution_count": null,
      "outputs": []
    },
    {
      "cell_type": "code",
      "source": [],
      "metadata": {
        "id": "KVbze_ikW2B4"
      },
      "execution_count": null,
      "outputs": []
    },
    {
      "cell_type": "code",
      "source": [
        "def gen_word_vec(df_text_list, model):\n",
        "    word_vector = []\n",
        "    for token in df_text_list:\n",
        "        token_considered = [t for t in token if t.isalpha]\n",
        "        token_vocab = [i for i in token_considered if i in model.index_to_key]\n",
        "        if len(token_vocab) > 0:\n",
        "            word_vector.append(np.mean(model[token_vocab], axis=0))\n",
        "        else:\n",
        "            word_vector.append(np.zeros(model.vector_size))\n",
        "    word_vector = np.array(word_vector)\n",
        "    return np.mean(word_vector, axis=0)"
      ],
      "metadata": {
        "id": "B-yfOnaJXWVx"
      },
      "execution_count": null,
      "outputs": []
    },
    {
      "cell_type": "code",
      "source": [
        "gen_word_vec(['hello'], glove_wv)"
      ],
      "metadata": {
        "colab": {
          "base_uri": "https://localhost:8080/"
        },
        "id": "pTv7KOhBgH6D",
        "outputId": "4a946460-a181-4dd4-8ff3-d446961158a9"
      },
      "execution_count": 29,
      "outputs": [
        {
          "output_type": "execute_result",
          "data": {
            "text/plain": [
              "array([ 0.0083718 ,  0.92501605,  0.82671994,  0.93556607,  0.146684  ,\n",
              "       -0.168484  ,  0.505932  , -1.061296  , -0.402934  ,  0.15173168,\n",
              "        0.0078584 ,  0.623798  , -0.43779   , -0.765722  , -0.16506639,\n",
              "       -0.4667066 , -0.45821556,  0.05511599, -0.319368  , -0.19256799,\n",
              "       -0.301969  , -0.728646  ,  0.5106972 ,  0.49465004, -0.096302  ,\n",
              "       -0.1163846 , -0.18508   , -0.22964561, -0.010829  , -0.1917308 ,\n",
              "        2.22204   ,  0.0796242 ,  0.00325879,  0.736529  , -0.20064358,\n",
              "       -0.68017995,  0.4949978 , -0.772092  ,  0.3979736 ,  0.372428  ,\n",
              "        1.225998  , -0.2150822 , -0.3142818 , -0.1801152 ,  0.09256861,\n",
              "        0.34115   ,  0.20036101, -0.237222  ,  0.791966  ,  0.92229205],\n",
              "      dtype=float32)"
            ]
          },
          "metadata": {},
          "execution_count": 29
        }
      ]
    },
    {
      "cell_type": "code",
      "source": [
        "gen_word_vec([\"hello\", \"hi\"], glove_wv)"
      ],
      "metadata": {
        "colab": {
          "base_uri": "https://localhost:8080/"
        },
        "id": "_wagEnLHXWZ4",
        "outputId": "87004834-9811-458f-c3b5-a3639d202b74"
      },
      "execution_count": 34,
      "outputs": [
        {
          "output_type": "execute_result",
          "data": {
            "text/plain": [
              "array([-0.0228391 ,  0.676468  ,  0.6331542 ,  0.51612055,  0.4432595 ,\n",
              "       -0.238337  ,  0.4528435 , -0.565578  , -0.531372  ,  0.08265974,\n",
              "        0.0708867 ,  0.604414  , -0.76509506, -0.67381847,  0.0823393 ,\n",
              "       -0.0618903 , -0.17809978,  0.0735005 , -0.403335  , -0.3093915 ,\n",
              "       -0.30702198, -0.4339155 ,  0.6385611 ,  0.46106252,  0.142379  ,\n",
              "       -0.68949056, -0.499165  , -0.11757531,  0.305153  , -0.4147914 ,\n",
              "        2.466845  ,  0.24705036, -0.03796561,  0.6097295 , -0.16160129,\n",
              "       -0.68044996,  0.6111214 , -0.25899848,  0.3421388 ,  0.277349  ,\n",
              "        0.89228797, -0.2619331 , -0.2981009 ,  0.0330909 ,  0.11631081,\n",
              "        0.29878   ,  0.07689176, -0.4420785 ,  0.463128  ,  0.95529854],\n",
              "      dtype=float32)"
            ]
          },
          "metadata": {},
          "execution_count": 34
        }
      ]
    },
    {
      "cell_type": "code",
      "source": [
        "basic_model_data['vec_title'] = gen_word_vec(basic_model_data.title, glove_wv)#basic_model_data.title.apply(gen_word_vec, model=glove_wv)\n"
      ],
      "metadata": {
        "id": "O2P6yug1tXHm"
      },
      "execution_count": null,
      "outputs": []
    },
    {
      "cell_type": "code",
      "source": [
        "titles = basic_model_data.vec_title.apply(pd.Series).rename(columns={i-1:\"title_\"+str(i) for i in range(1,51)})\n"
      ],
      "metadata": {
        "id": "rHeAEWSAtPLi"
      },
      "execution_count": null,
      "outputs": []
    },
    {
      "cell_type": "code",
      "source": [
        "data_df = pd.concat([titles, basic_model_data[['publishedDayNum', 'log_duration_secs', 'score', 'len_title']], pd.get_dummies(basic_model_data.definition), pd.get_dummies(basic_model_data.topicLabel)], axis=1)"
      ],
      "metadata": {
        "id": "tYH9RTCwATRr",
        "pycharm": {
          "name": "#%%\n"
        }
      },
      "execution_count": null,
      "outputs": []
    },
    {
      "cell_type": "code",
      "source": [
        "data_df.to_csv(\"data_df.csv\")"
      ],
      "metadata": {
        "id": "Vjc1L3ZSEXnL"
      },
      "execution_count": null,
      "outputs": []
    },
    {
      "cell_type": "code",
      "source": [
        "data_df.head()"
      ],
      "metadata": {
        "id": "mxav80BUAfKU",
        "pycharm": {
          "name": "#%%\n"
        }
      },
      "execution_count": null,
      "outputs": []
    },
    {
      "cell_type": "markdown",
      "source": [
        "A new notebook should start here"
      ],
      "metadata": {
        "id": "IMVE1gWy-Rdn"
      }
    },
    {
      "cell_type": "code",
      "source": [
        "from sklearn.model_selection import train_test_split\n",
        "from sklearn.preprocessing import StandardScaler\n",
        "from sklearn.decomposition import PCA"
      ],
      "metadata": {
        "id": "DOL2fVOqCN1y",
        "pycharm": {
          "name": "#%%\n"
        }
      },
      "execution_count": null,
      "outputs": []
    },
    {
      "cell_type": "code",
      "source": [
        "data_train, data_test = train_test_split(data_df, test_size=0.20, random_state=42)"
      ],
      "metadata": {
        "id": "IafoRDfiB_6L",
        "pycharm": {
          "name": "#%%\n"
        }
      },
      "execution_count": null,
      "outputs": []
    },
    {
      "cell_type": "code",
      "source": [
        "# data_train[\"smote_thresh\"] = data_train.std_viewCount>=10"
      ],
      "metadata": {
        "id": "8WczqHqLRUIN"
      },
      "execution_count": 153,
      "outputs": []
    },
    {
      "cell_type": "code",
      "source": [
        "# data_train.smote_thresh.value_counts()\n",
        "data_train.head()"
      ],
      "metadata": {
        "id": "KLV3X40Dg4Gl",
        "outputId": "6c73bcaa-9b11-45a8-e86c-47601cc83442",
        "colab": {
          "base_uri": "https://localhost:8080/",
          "height": 297
        }
      },
      "execution_count": 154,
      "outputs": [
        {
          "output_type": "execute_result",
          "data": {
            "text/plain": [
              "        title_1   title_2   title_3   title_4   title_5   title_6   title_7  \\\n",
              "25617 -0.116116  0.805909  0.644511  0.691821  0.489663  0.041699  0.633763   \n",
              "13989 -0.167959  0.741446  0.540157  0.537544  0.586885  0.092586  0.300925   \n",
              "30199  0.003190  0.756032  0.729363  0.700835  0.360254  0.038062  0.301440   \n",
              "31524  0.032892  0.758939  0.637583  0.775430  0.361579  0.034557  0.299713   \n",
              "44694 -0.023028  0.805909  0.691913  0.735660  0.219330 -0.053332  0.394272   \n",
              "\n",
              "        title_8   title_9  title_10  ...  comedy  cooking  educational  \\\n",
              "25617 -0.654132 -0.290710 -0.026090  ...       0        0            0   \n",
              "13989 -0.726261 -0.277708  0.066455  ...       0        1            0   \n",
              "30199 -0.760162 -0.159814  0.013568  ...       0        0            1   \n",
              "31524 -0.861616 -0.192700  0.071812  ...       0        0            1   \n",
              "44694 -0.689977 -0.260224 -0.037126  ...       1        0            0   \n",
              "\n",
              "       fitness  history  music  news  science  travel  yoga  \n",
              "25617        1        0      0     0        0       0     0  \n",
              "13989        0        0      0     0        0       0     0  \n",
              "30199        0        0      0     0        0       0     0  \n",
              "31524        0        0      0     0        0       0     0  \n",
              "44694        0        0      0     0        0       0     0  \n",
              "\n",
              "[5 rows x 66 columns]"
            ],
            "text/html": [
              "\n",
              "  <div id=\"df-dbdf183e-f03c-4ac7-a8a9-428fa139ef39\">\n",
              "    <div class=\"colab-df-container\">\n",
              "      <div>\n",
              "<style scoped>\n",
              "    .dataframe tbody tr th:only-of-type {\n",
              "        vertical-align: middle;\n",
              "    }\n",
              "\n",
              "    .dataframe tbody tr th {\n",
              "        vertical-align: top;\n",
              "    }\n",
              "\n",
              "    .dataframe thead th {\n",
              "        text-align: right;\n",
              "    }\n",
              "</style>\n",
              "<table border=\"1\" class=\"dataframe\">\n",
              "  <thead>\n",
              "    <tr style=\"text-align: right;\">\n",
              "      <th></th>\n",
              "      <th>title_1</th>\n",
              "      <th>title_2</th>\n",
              "      <th>title_3</th>\n",
              "      <th>title_4</th>\n",
              "      <th>title_5</th>\n",
              "      <th>title_6</th>\n",
              "      <th>title_7</th>\n",
              "      <th>title_8</th>\n",
              "      <th>title_9</th>\n",
              "      <th>title_10</th>\n",
              "      <th>...</th>\n",
              "      <th>comedy</th>\n",
              "      <th>cooking</th>\n",
              "      <th>educational</th>\n",
              "      <th>fitness</th>\n",
              "      <th>history</th>\n",
              "      <th>music</th>\n",
              "      <th>news</th>\n",
              "      <th>science</th>\n",
              "      <th>travel</th>\n",
              "      <th>yoga</th>\n",
              "    </tr>\n",
              "  </thead>\n",
              "  <tbody>\n",
              "    <tr>\n",
              "      <th>25617</th>\n",
              "      <td>-0.116116</td>\n",
              "      <td>0.805909</td>\n",
              "      <td>0.644511</td>\n",
              "      <td>0.691821</td>\n",
              "      <td>0.489663</td>\n",
              "      <td>0.041699</td>\n",
              "      <td>0.633763</td>\n",
              "      <td>-0.654132</td>\n",
              "      <td>-0.290710</td>\n",
              "      <td>-0.026090</td>\n",
              "      <td>...</td>\n",
              "      <td>0</td>\n",
              "      <td>0</td>\n",
              "      <td>0</td>\n",
              "      <td>1</td>\n",
              "      <td>0</td>\n",
              "      <td>0</td>\n",
              "      <td>0</td>\n",
              "      <td>0</td>\n",
              "      <td>0</td>\n",
              "      <td>0</td>\n",
              "    </tr>\n",
              "    <tr>\n",
              "      <th>13989</th>\n",
              "      <td>-0.167959</td>\n",
              "      <td>0.741446</td>\n",
              "      <td>0.540157</td>\n",
              "      <td>0.537544</td>\n",
              "      <td>0.586885</td>\n",
              "      <td>0.092586</td>\n",
              "      <td>0.300925</td>\n",
              "      <td>-0.726261</td>\n",
              "      <td>-0.277708</td>\n",
              "      <td>0.066455</td>\n",
              "      <td>...</td>\n",
              "      <td>0</td>\n",
              "      <td>1</td>\n",
              "      <td>0</td>\n",
              "      <td>0</td>\n",
              "      <td>0</td>\n",
              "      <td>0</td>\n",
              "      <td>0</td>\n",
              "      <td>0</td>\n",
              "      <td>0</td>\n",
              "      <td>0</td>\n",
              "    </tr>\n",
              "    <tr>\n",
              "      <th>30199</th>\n",
              "      <td>0.003190</td>\n",
              "      <td>0.756032</td>\n",
              "      <td>0.729363</td>\n",
              "      <td>0.700835</td>\n",
              "      <td>0.360254</td>\n",
              "      <td>0.038062</td>\n",
              "      <td>0.301440</td>\n",
              "      <td>-0.760162</td>\n",
              "      <td>-0.159814</td>\n",
              "      <td>0.013568</td>\n",
              "      <td>...</td>\n",
              "      <td>0</td>\n",
              "      <td>0</td>\n",
              "      <td>1</td>\n",
              "      <td>0</td>\n",
              "      <td>0</td>\n",
              "      <td>0</td>\n",
              "      <td>0</td>\n",
              "      <td>0</td>\n",
              "      <td>0</td>\n",
              "      <td>0</td>\n",
              "    </tr>\n",
              "    <tr>\n",
              "      <th>31524</th>\n",
              "      <td>0.032892</td>\n",
              "      <td>0.758939</td>\n",
              "      <td>0.637583</td>\n",
              "      <td>0.775430</td>\n",
              "      <td>0.361579</td>\n",
              "      <td>0.034557</td>\n",
              "      <td>0.299713</td>\n",
              "      <td>-0.861616</td>\n",
              "      <td>-0.192700</td>\n",
              "      <td>0.071812</td>\n",
              "      <td>...</td>\n",
              "      <td>0</td>\n",
              "      <td>0</td>\n",
              "      <td>1</td>\n",
              "      <td>0</td>\n",
              "      <td>0</td>\n",
              "      <td>0</td>\n",
              "      <td>0</td>\n",
              "      <td>0</td>\n",
              "      <td>0</td>\n",
              "      <td>0</td>\n",
              "    </tr>\n",
              "    <tr>\n",
              "      <th>44694</th>\n",
              "      <td>-0.023028</td>\n",
              "      <td>0.805909</td>\n",
              "      <td>0.691913</td>\n",
              "      <td>0.735660</td>\n",
              "      <td>0.219330</td>\n",
              "      <td>-0.053332</td>\n",
              "      <td>0.394272</td>\n",
              "      <td>-0.689977</td>\n",
              "      <td>-0.260224</td>\n",
              "      <td>-0.037126</td>\n",
              "      <td>...</td>\n",
              "      <td>1</td>\n",
              "      <td>0</td>\n",
              "      <td>0</td>\n",
              "      <td>0</td>\n",
              "      <td>0</td>\n",
              "      <td>0</td>\n",
              "      <td>0</td>\n",
              "      <td>0</td>\n",
              "      <td>0</td>\n",
              "      <td>0</td>\n",
              "    </tr>\n",
              "  </tbody>\n",
              "</table>\n",
              "<p>5 rows × 66 columns</p>\n",
              "</div>\n",
              "      <button class=\"colab-df-convert\" onclick=\"convertToInteractive('df-dbdf183e-f03c-4ac7-a8a9-428fa139ef39')\"\n",
              "              title=\"Convert this dataframe to an interactive table.\"\n",
              "              style=\"display:none;\">\n",
              "        \n",
              "  <svg xmlns=\"http://www.w3.org/2000/svg\" height=\"24px\"viewBox=\"0 0 24 24\"\n",
              "       width=\"24px\">\n",
              "    <path d=\"M0 0h24v24H0V0z\" fill=\"none\"/>\n",
              "    <path d=\"M18.56 5.44l.94 2.06.94-2.06 2.06-.94-2.06-.94-.94-2.06-.94 2.06-2.06.94zm-11 1L8.5 8.5l.94-2.06 2.06-.94-2.06-.94L8.5 2.5l-.94 2.06-2.06.94zm10 10l.94 2.06.94-2.06 2.06-.94-2.06-.94-.94-2.06-.94 2.06-2.06.94z\"/><path d=\"M17.41 7.96l-1.37-1.37c-.4-.4-.92-.59-1.43-.59-.52 0-1.04.2-1.43.59L10.3 9.45l-7.72 7.72c-.78.78-.78 2.05 0 2.83L4 21.41c.39.39.9.59 1.41.59.51 0 1.02-.2 1.41-.59l7.78-7.78 2.81-2.81c.8-.78.8-2.07 0-2.86zM5.41 20L4 18.59l7.72-7.72 1.47 1.35L5.41 20z\"/>\n",
              "  </svg>\n",
              "      </button>\n",
              "      \n",
              "  <style>\n",
              "    .colab-df-container {\n",
              "      display:flex;\n",
              "      flex-wrap:wrap;\n",
              "      gap: 12px;\n",
              "    }\n",
              "\n",
              "    .colab-df-convert {\n",
              "      background-color: #E8F0FE;\n",
              "      border: none;\n",
              "      border-radius: 50%;\n",
              "      cursor: pointer;\n",
              "      display: none;\n",
              "      fill: #1967D2;\n",
              "      height: 32px;\n",
              "      padding: 0 0 0 0;\n",
              "      width: 32px;\n",
              "    }\n",
              "\n",
              "    .colab-df-convert:hover {\n",
              "      background-color: #E2EBFA;\n",
              "      box-shadow: 0px 1px 2px rgba(60, 64, 67, 0.3), 0px 1px 3px 1px rgba(60, 64, 67, 0.15);\n",
              "      fill: #174EA6;\n",
              "    }\n",
              "\n",
              "    [theme=dark] .colab-df-convert {\n",
              "      background-color: #3B4455;\n",
              "      fill: #D2E3FC;\n",
              "    }\n",
              "\n",
              "    [theme=dark] .colab-df-convert:hover {\n",
              "      background-color: #434B5C;\n",
              "      box-shadow: 0px 1px 3px 1px rgba(0, 0, 0, 0.15);\n",
              "      filter: drop-shadow(0px 1px 2px rgba(0, 0, 0, 0.3));\n",
              "      fill: #FFFFFF;\n",
              "    }\n",
              "  </style>\n",
              "\n",
              "      <script>\n",
              "        const buttonEl =\n",
              "          document.querySelector('#df-dbdf183e-f03c-4ac7-a8a9-428fa139ef39 button.colab-df-convert');\n",
              "        buttonEl.style.display =\n",
              "          google.colab.kernel.accessAllowed ? 'block' : 'none';\n",
              "\n",
              "        async function convertToInteractive(key) {\n",
              "          const element = document.querySelector('#df-dbdf183e-f03c-4ac7-a8a9-428fa139ef39');\n",
              "          const dataTable =\n",
              "            await google.colab.kernel.invokeFunction('convertToInteractive',\n",
              "                                                     [key], {});\n",
              "          if (!dataTable) return;\n",
              "\n",
              "          const docLinkHtml = 'Like what you see? Visit the ' +\n",
              "            '<a target=\"_blank\" href=https://colab.research.google.com/notebooks/data_table.ipynb>data table notebook</a>'\n",
              "            + ' to learn more about interactive tables.';\n",
              "          element.innerHTML = '';\n",
              "          dataTable['output_type'] = 'display_data';\n",
              "          await google.colab.output.renderOutput(dataTable, element);\n",
              "          const docLink = document.createElement('div');\n",
              "          docLink.innerHTML = docLinkHtml;\n",
              "          element.appendChild(docLink);\n",
              "        }\n",
              "      </script>\n",
              "    </div>\n",
              "  </div>\n",
              "  "
            ]
          },
          "metadata": {},
          "execution_count": 154
        }
      ]
    },
    {
      "cell_type": "code",
      "source": [
        "data_train = data_train.dropna()"
      ],
      "metadata": {
        "id": "YIgdjCBE1Lv_"
      },
      "execution_count": null,
      "outputs": []
    },
    {
      "cell_type": "code",
      "source": [
        "data_test = data_test.dropna()"
      ],
      "metadata": {
        "id": "_ilx7Lbf1UBB"
      },
      "execution_count": null,
      "outputs": []
    },
    {
      "cell_type": "code",
      "source": [
        "# from imblearn.over_sampling import SMOTE "
      ],
      "metadata": {
        "id": "1ZDvE8DXn2eh"
      },
      "execution_count": 157,
      "outputs": []
    },
    {
      "cell_type": "code",
      "source": [
        "# sm = SMOTE(random_state=42)\n",
        "# X_res, y_res = sm.fit_resample(data_train.drop(\"smote_thresh\", axis=1), data_train[\"smote_thresh\"])"
      ],
      "metadata": {
        "id": "hctbL7vZn2hw"
      },
      "execution_count": 158,
      "outputs": []
    },
    {
      "cell_type": "code",
      "source": [
        "# y_res.value_counts()"
      ],
      "metadata": {
        "id": "xSVdYE5-n2kk"
      },
      "execution_count": 159,
      "outputs": []
    },
    {
      "cell_type": "code",
      "source": [
        "train_X = data_train.drop([\"score\"], axis=1) #X_res.drop(\"score\", axis=1) #data_train.drop([\"std_viewCount\", \"smote_thresh\"], axis=1) #use X_res for smote\n",
        "train_y = data_train.score#X_res.score#data_train.std_viewCount\n",
        "\n",
        "test_X = data_test.drop(\"score\", axis=1)\n",
        "test_y = data_test.score"
      ],
      "metadata": {
        "id": "uELPK5OiCsIq",
        "pycharm": {
          "name": "#%%\n"
        }
      },
      "execution_count": 160,
      "outputs": []
    },
    {
      "cell_type": "code",
      "source": [
        "train_X.head()"
      ],
      "metadata": {
        "id": "DJDhSiOFgPhR",
        "outputId": "f0a09628-90a4-49e2-cba4-c1ff7d6ca160",
        "colab": {
          "base_uri": "https://localhost:8080/",
          "height": 297
        }
      },
      "execution_count": 161,
      "outputs": [
        {
          "output_type": "execute_result",
          "data": {
            "text/plain": [
              "        title_1   title_2   title_3   title_4   title_5   title_6   title_7  \\\n",
              "25617 -0.116116  0.805909  0.644511  0.691821  0.489663  0.041699  0.633763   \n",
              "13989 -0.167959  0.741446  0.540157  0.537544  0.586885  0.092586  0.300925   \n",
              "30199  0.003190  0.756032  0.729363  0.700835  0.360254  0.038062  0.301440   \n",
              "31524  0.032892  0.758939  0.637583  0.775430  0.361579  0.034557  0.299713   \n",
              "44694 -0.023028  0.805909  0.691913  0.735660  0.219330 -0.053332  0.394272   \n",
              "\n",
              "        title_8   title_9  title_10  ...  comedy  cooking  educational  \\\n",
              "25617 -0.654132 -0.290710 -0.026090  ...       0        0            0   \n",
              "13989 -0.726261 -0.277708  0.066455  ...       0        1            0   \n",
              "30199 -0.760162 -0.159814  0.013568  ...       0        0            1   \n",
              "31524 -0.861616 -0.192700  0.071812  ...       0        0            1   \n",
              "44694 -0.689977 -0.260224 -0.037126  ...       1        0            0   \n",
              "\n",
              "       fitness  history  music  news  science  travel  yoga  \n",
              "25617        1        0      0     0        0       0     0  \n",
              "13989        0        0      0     0        0       0     0  \n",
              "30199        0        0      0     0        0       0     0  \n",
              "31524        0        0      0     0        0       0     0  \n",
              "44694        0        0      0     0        0       0     0  \n",
              "\n",
              "[5 rows x 65 columns]"
            ],
            "text/html": [
              "\n",
              "  <div id=\"df-d09eb04d-0f85-4a97-9cb0-8fa27f3d1bce\">\n",
              "    <div class=\"colab-df-container\">\n",
              "      <div>\n",
              "<style scoped>\n",
              "    .dataframe tbody tr th:only-of-type {\n",
              "        vertical-align: middle;\n",
              "    }\n",
              "\n",
              "    .dataframe tbody tr th {\n",
              "        vertical-align: top;\n",
              "    }\n",
              "\n",
              "    .dataframe thead th {\n",
              "        text-align: right;\n",
              "    }\n",
              "</style>\n",
              "<table border=\"1\" class=\"dataframe\">\n",
              "  <thead>\n",
              "    <tr style=\"text-align: right;\">\n",
              "      <th></th>\n",
              "      <th>title_1</th>\n",
              "      <th>title_2</th>\n",
              "      <th>title_3</th>\n",
              "      <th>title_4</th>\n",
              "      <th>title_5</th>\n",
              "      <th>title_6</th>\n",
              "      <th>title_7</th>\n",
              "      <th>title_8</th>\n",
              "      <th>title_9</th>\n",
              "      <th>title_10</th>\n",
              "      <th>...</th>\n",
              "      <th>comedy</th>\n",
              "      <th>cooking</th>\n",
              "      <th>educational</th>\n",
              "      <th>fitness</th>\n",
              "      <th>history</th>\n",
              "      <th>music</th>\n",
              "      <th>news</th>\n",
              "      <th>science</th>\n",
              "      <th>travel</th>\n",
              "      <th>yoga</th>\n",
              "    </tr>\n",
              "  </thead>\n",
              "  <tbody>\n",
              "    <tr>\n",
              "      <th>25617</th>\n",
              "      <td>-0.116116</td>\n",
              "      <td>0.805909</td>\n",
              "      <td>0.644511</td>\n",
              "      <td>0.691821</td>\n",
              "      <td>0.489663</td>\n",
              "      <td>0.041699</td>\n",
              "      <td>0.633763</td>\n",
              "      <td>-0.654132</td>\n",
              "      <td>-0.290710</td>\n",
              "      <td>-0.026090</td>\n",
              "      <td>...</td>\n",
              "      <td>0</td>\n",
              "      <td>0</td>\n",
              "      <td>0</td>\n",
              "      <td>1</td>\n",
              "      <td>0</td>\n",
              "      <td>0</td>\n",
              "      <td>0</td>\n",
              "      <td>0</td>\n",
              "      <td>0</td>\n",
              "      <td>0</td>\n",
              "    </tr>\n",
              "    <tr>\n",
              "      <th>13989</th>\n",
              "      <td>-0.167959</td>\n",
              "      <td>0.741446</td>\n",
              "      <td>0.540157</td>\n",
              "      <td>0.537544</td>\n",
              "      <td>0.586885</td>\n",
              "      <td>0.092586</td>\n",
              "      <td>0.300925</td>\n",
              "      <td>-0.726261</td>\n",
              "      <td>-0.277708</td>\n",
              "      <td>0.066455</td>\n",
              "      <td>...</td>\n",
              "      <td>0</td>\n",
              "      <td>1</td>\n",
              "      <td>0</td>\n",
              "      <td>0</td>\n",
              "      <td>0</td>\n",
              "      <td>0</td>\n",
              "      <td>0</td>\n",
              "      <td>0</td>\n",
              "      <td>0</td>\n",
              "      <td>0</td>\n",
              "    </tr>\n",
              "    <tr>\n",
              "      <th>30199</th>\n",
              "      <td>0.003190</td>\n",
              "      <td>0.756032</td>\n",
              "      <td>0.729363</td>\n",
              "      <td>0.700835</td>\n",
              "      <td>0.360254</td>\n",
              "      <td>0.038062</td>\n",
              "      <td>0.301440</td>\n",
              "      <td>-0.760162</td>\n",
              "      <td>-0.159814</td>\n",
              "      <td>0.013568</td>\n",
              "      <td>...</td>\n",
              "      <td>0</td>\n",
              "      <td>0</td>\n",
              "      <td>1</td>\n",
              "      <td>0</td>\n",
              "      <td>0</td>\n",
              "      <td>0</td>\n",
              "      <td>0</td>\n",
              "      <td>0</td>\n",
              "      <td>0</td>\n",
              "      <td>0</td>\n",
              "    </tr>\n",
              "    <tr>\n",
              "      <th>31524</th>\n",
              "      <td>0.032892</td>\n",
              "      <td>0.758939</td>\n",
              "      <td>0.637583</td>\n",
              "      <td>0.775430</td>\n",
              "      <td>0.361579</td>\n",
              "      <td>0.034557</td>\n",
              "      <td>0.299713</td>\n",
              "      <td>-0.861616</td>\n",
              "      <td>-0.192700</td>\n",
              "      <td>0.071812</td>\n",
              "      <td>...</td>\n",
              "      <td>0</td>\n",
              "      <td>0</td>\n",
              "      <td>1</td>\n",
              "      <td>0</td>\n",
              "      <td>0</td>\n",
              "      <td>0</td>\n",
              "      <td>0</td>\n",
              "      <td>0</td>\n",
              "      <td>0</td>\n",
              "      <td>0</td>\n",
              "    </tr>\n",
              "    <tr>\n",
              "      <th>44694</th>\n",
              "      <td>-0.023028</td>\n",
              "      <td>0.805909</td>\n",
              "      <td>0.691913</td>\n",
              "      <td>0.735660</td>\n",
              "      <td>0.219330</td>\n",
              "      <td>-0.053332</td>\n",
              "      <td>0.394272</td>\n",
              "      <td>-0.689977</td>\n",
              "      <td>-0.260224</td>\n",
              "      <td>-0.037126</td>\n",
              "      <td>...</td>\n",
              "      <td>1</td>\n",
              "      <td>0</td>\n",
              "      <td>0</td>\n",
              "      <td>0</td>\n",
              "      <td>0</td>\n",
              "      <td>0</td>\n",
              "      <td>0</td>\n",
              "      <td>0</td>\n",
              "      <td>0</td>\n",
              "      <td>0</td>\n",
              "    </tr>\n",
              "  </tbody>\n",
              "</table>\n",
              "<p>5 rows × 65 columns</p>\n",
              "</div>\n",
              "      <button class=\"colab-df-convert\" onclick=\"convertToInteractive('df-d09eb04d-0f85-4a97-9cb0-8fa27f3d1bce')\"\n",
              "              title=\"Convert this dataframe to an interactive table.\"\n",
              "              style=\"display:none;\">\n",
              "        \n",
              "  <svg xmlns=\"http://www.w3.org/2000/svg\" height=\"24px\"viewBox=\"0 0 24 24\"\n",
              "       width=\"24px\">\n",
              "    <path d=\"M0 0h24v24H0V0z\" fill=\"none\"/>\n",
              "    <path d=\"M18.56 5.44l.94 2.06.94-2.06 2.06-.94-2.06-.94-.94-2.06-.94 2.06-2.06.94zm-11 1L8.5 8.5l.94-2.06 2.06-.94-2.06-.94L8.5 2.5l-.94 2.06-2.06.94zm10 10l.94 2.06.94-2.06 2.06-.94-2.06-.94-.94-2.06-.94 2.06-2.06.94z\"/><path d=\"M17.41 7.96l-1.37-1.37c-.4-.4-.92-.59-1.43-.59-.52 0-1.04.2-1.43.59L10.3 9.45l-7.72 7.72c-.78.78-.78 2.05 0 2.83L4 21.41c.39.39.9.59 1.41.59.51 0 1.02-.2 1.41-.59l7.78-7.78 2.81-2.81c.8-.78.8-2.07 0-2.86zM5.41 20L4 18.59l7.72-7.72 1.47 1.35L5.41 20z\"/>\n",
              "  </svg>\n",
              "      </button>\n",
              "      \n",
              "  <style>\n",
              "    .colab-df-container {\n",
              "      display:flex;\n",
              "      flex-wrap:wrap;\n",
              "      gap: 12px;\n",
              "    }\n",
              "\n",
              "    .colab-df-convert {\n",
              "      background-color: #E8F0FE;\n",
              "      border: none;\n",
              "      border-radius: 50%;\n",
              "      cursor: pointer;\n",
              "      display: none;\n",
              "      fill: #1967D2;\n",
              "      height: 32px;\n",
              "      padding: 0 0 0 0;\n",
              "      width: 32px;\n",
              "    }\n",
              "\n",
              "    .colab-df-convert:hover {\n",
              "      background-color: #E2EBFA;\n",
              "      box-shadow: 0px 1px 2px rgba(60, 64, 67, 0.3), 0px 1px 3px 1px rgba(60, 64, 67, 0.15);\n",
              "      fill: #174EA6;\n",
              "    }\n",
              "\n",
              "    [theme=dark] .colab-df-convert {\n",
              "      background-color: #3B4455;\n",
              "      fill: #D2E3FC;\n",
              "    }\n",
              "\n",
              "    [theme=dark] .colab-df-convert:hover {\n",
              "      background-color: #434B5C;\n",
              "      box-shadow: 0px 1px 3px 1px rgba(0, 0, 0, 0.15);\n",
              "      filter: drop-shadow(0px 1px 2px rgba(0, 0, 0, 0.3));\n",
              "      fill: #FFFFFF;\n",
              "    }\n",
              "  </style>\n",
              "\n",
              "      <script>\n",
              "        const buttonEl =\n",
              "          document.querySelector('#df-d09eb04d-0f85-4a97-9cb0-8fa27f3d1bce button.colab-df-convert');\n",
              "        buttonEl.style.display =\n",
              "          google.colab.kernel.accessAllowed ? 'block' : 'none';\n",
              "\n",
              "        async function convertToInteractive(key) {\n",
              "          const element = document.querySelector('#df-d09eb04d-0f85-4a97-9cb0-8fa27f3d1bce');\n",
              "          const dataTable =\n",
              "            await google.colab.kernel.invokeFunction('convertToInteractive',\n",
              "                                                     [key], {});\n",
              "          if (!dataTable) return;\n",
              "\n",
              "          const docLinkHtml = 'Like what you see? Visit the ' +\n",
              "            '<a target=\"_blank\" href=https://colab.research.google.com/notebooks/data_table.ipynb>data table notebook</a>'\n",
              "            + ' to learn more about interactive tables.';\n",
              "          element.innerHTML = '';\n",
              "          dataTable['output_type'] = 'display_data';\n",
              "          await google.colab.output.renderOutput(dataTable, element);\n",
              "          const docLink = document.createElement('div');\n",
              "          docLink.innerHTML = docLinkHtml;\n",
              "          element.appendChild(docLink);\n",
              "        }\n",
              "      </script>\n",
              "    </div>\n",
              "  </div>\n",
              "  "
            ]
          },
          "metadata": {},
          "execution_count": 161
        }
      ]
    },
    {
      "cell_type": "code",
      "source": [
        "# set(X_res.columns)-set(test_X.columns)"
      ],
      "metadata": {
        "id": "8XQ7khYVwaQW"
      },
      "execution_count": 162,
      "outputs": []
    },
    {
      "cell_type": "code",
      "source": [
        "# train_X"
      ],
      "metadata": {
        "id": "_6BmGj1dNvJC",
        "pycharm": {
          "name": "#%%\n"
        }
      },
      "execution_count": 163,
      "outputs": []
    },
    {
      "cell_type": "code",
      "source": [
        "sc = StandardScaler()\n",
        "train_X = sc.fit_transform(train_X)\n",
        "test_X = sc.transform(test_X)\n",
        "\n"
      ],
      "metadata": {
        "id": "EslSOArDCpOJ",
        "pycharm": {
          "name": "#%%\n"
        }
      },
      "execution_count": 164,
      "outputs": []
    },
    {
      "cell_type": "code",
      "source": [
        "pca = PCA(n_components=20)\n",
        "pca.fit(train_X)\n",
        "# print(()))"
      ],
      "metadata": {
        "id": "yPvtZSTpOiOr",
        "outputId": "75b9115e-4e44-4ea7-e217-891a56ccb39c",
        "colab": {
          "base_uri": "https://localhost:8080/"
        },
        "pycharm": {
          "name": "#%%\n"
        }
      },
      "execution_count": 165,
      "outputs": [
        {
          "output_type": "execute_result",
          "data": {
            "text/plain": [
              "PCA(n_components=20)"
            ]
          },
          "metadata": {},
          "execution_count": 165
        }
      ]
    },
    {
      "cell_type": "code",
      "source": [
        "import matplotlib.pyplot as plt\n",
        "##SCREE PLOT\n",
        "plt.plot(np.linspace(1,21,20),pca.explained_variance_ratio_);"
      ],
      "metadata": {
        "id": "l0Iyzg7mPZSO",
        "outputId": "ea2a9282-a658-4ee6-e17d-6ad14b39559d",
        "colab": {
          "base_uri": "https://localhost:8080/",
          "height": 265
        },
        "pycharm": {
          "name": "#%%\n"
        }
      },
      "execution_count": 166,
      "outputs": [
        {
          "output_type": "display_data",
          "data": {
            "text/plain": [
              "<Figure size 432x288 with 1 Axes>"
            ],
            "image/png": "[encoded data removed]"
          },
          "metadata": {
            "needs_background": "light"
          }
        }
      ]
    },
    {
      "cell_type": "code",
      "source": [
        "pca = PCA(n_components=10) #components based on the scree plot above\n",
        "\n",
        "pca_train_X = pca.fit_transform(train_X)\n",
        "\n",
        "plt.scatter(pca_train_X[:,0], train_y);"
      ],
      "metadata": {
        "id": "mraQ_KyURvY6",
        "outputId": "d6057a27-73d8-45f0-8df5-aeffe29f65ff",
        "colab": {
          "base_uri": "https://localhost:8080/",
          "height": 265
        },
        "pycharm": {
          "name": "#%%\n"
        }
      },
      "execution_count": 252,
      "outputs": [
        {
          "output_type": "display_data",
          "data": {
            "text/plain": [
              "<Figure size 432x288 with 1 Axes>"
            ],
            "image/png": "[encoded data removed]"
          },
          "metadata": {
            "needs_background": "light"
          }
        }
      ]
    },
    {
      "cell_type": "code",
      "source": [],
      "metadata": {
        "id": "a2mC9lfMevy7"
      },
      "execution_count": 167,
      "outputs": []
    },
    {
      "cell_type": "markdown",
      "source": [
        "based on the first PCA, it is clear that the data is not linear and we would have to bear that in mind with the choice of our models"
      ],
      "metadata": {
        "id": "V8__-brQSZ9s",
        "pycharm": {
          "name": "#%% md\n"
        }
      }
    },
    {
      "cell_type": "code",
      "source": [
        "pca_train_X.shape, train_y.shape"
      ],
      "metadata": {
        "id": "ipasXemXSCog",
        "outputId": "66fcb86f-3f64-4501-b6d8-56781229e33e",
        "colab": {
          "base_uri": "https://localhost:8080/"
        },
        "pycharm": {
          "name": "#%%\n"
        }
      },
      "execution_count": 168,
      "outputs": [
        {
          "output_type": "execute_result",
          "data": {
            "text/plain": [
              "((38133, 10), (38133,))"
            ]
          },
          "metadata": {},
          "execution_count": 168
        }
      ]
    },
    {
      "cell_type": "code",
      "source": [
        "pca = PCA(n_components=10) #components based on the scree plot above\n",
        "\n",
        "pca_train_X = pca.fit_transform(train_X)\n",
        "pca_test_X = pca.transform(test_X)\n"
      ],
      "metadata": {
        "id": "aMer3-bhOuhM",
        "pycharm": {
          "name": "#%%\n"
        }
      },
      "execution_count": 254,
      "outputs": []
    },
    {
      "cell_type": "code",
      "source": [
        "from sklearn.linear_model import LinearRegression, Ridge, Lasso\n",
        "from sklearn.dummy import DummyRegressor\n",
        "from sklearn.svm import SVR\n",
        "from sklearn.tree import DecisionTreeRegressor\n",
        "from sklearn.preprocessing import PolynomialFeatures\n",
        "\n",
        "from sklearn import metrics\n",
        "from sklearn.model_selection import cross_val_score\n",
        "from sklearn.model_selection import cross_validate\n"
      ],
      "metadata": {
        "id": "rDPvtLiPDodO",
        "pycharm": {
          "name": "#%%\n"
        }
      },
      "execution_count": 255,
      "outputs": []
    },
    {
      "cell_type": "code",
      "source": [
        "train_X=pca_train_X\n",
        "test_X=pca_test_X"
      ],
      "metadata": {
        "id": "pNGegwWhQvQZ",
        "pycharm": {
          "name": "#%%\n"
        }
      },
      "execution_count": 257,
      "outputs": []
    },
    {
      "cell_type": "code",
      "source": [
        "# data_train.sample(frac=0.2,replace=True)"
      ],
      "metadata": {
        "id": "Bsa46UbMJUaL"
      },
      "execution_count": 172,
      "outputs": []
    },
    {
      "cell_type": "code",
      "source": [
        "# poly = PolynomialFeatures(3)\n",
        "# x_poly_train = poly.fit_transform(train_X)\n",
        "# x_poly_test = poly.transform(test_X)\n",
        "\n",
        "# train_X = x_poly_train\n",
        "# test_X = x_poly_test ###uncomment 3 cells above for another test"
      ],
      "metadata": {
        "id": "aRyNs-xm3P3V"
      },
      "execution_count": 212,
      "outputs": []
    },
    {
      "cell_type": "code",
      "source": [
        "lr = LinearRegression()\n",
        "llr = Lasso(alpha=0.1)\n",
        "rr = Ridge(alpha=1.0)\n",
        "dr = DummyRegressor(strategy=\"mean\")\n",
        "svr = SVR(kernel = 'linear')\n",
        "dtr = DecisionTreeRegressor(max_depth=20)\n",
        "\n",
        "lr.fit(train_X, train_y)\n",
        "llr.fit(train_X, train_y)\n",
        "rr.fit(train_X, train_y)\n",
        "dr.fit(train_X, train_y)\n",
        "# svr.fit(train_X, train_y)\n",
        "dtr.fit(train_X, train_y)"
      ],
      "metadata": {
        "id": "hgPnLd6CDp97",
        "pycharm": {
          "name": "#%%\n"
        }
      },
      "execution_count": null,
      "outputs": []
    },
    {
      "cell_type": "code",
      "source": [
        "# from tensorflow.keras import Model\n",
        "# from tensorflow.keras import Sequential\n",
        "# from tensorflow.keras.optimizers import Adam, RMSprop\n",
        "# from tensorflow.keras.layers import Dense, Dropout\n",
        "\n",
        "# def build_sequential():\n",
        "#   model = Sequential([\n",
        "#     Dense(24, kernel_initializer='normal', activation='relu'),\n",
        "#     Dropout(0.2),\n",
        "#     Dense(48, kernel_initializer='normal', activation='relu'),\n",
        "#     Dropout(0.2),\n",
        "#     Dense(96, kernel_initializer='normal', activation='relu'),\n",
        "#     Dropout(0.2),\n",
        "#     Dense(48, kernel_initializer='normal', activation='relu'),\n",
        "#     Dropout(0.1),\n",
        "#     Dense(24, kernel_initializer='normal', activation='relu'),\n",
        "#     Dense(1, kernel_initializer='normal', activation='linear')\n",
        "#   ])\n",
        "#   return model\n",
        "# # build the model\n",
        "# model = build_sequential()"
      ],
      "metadata": {
        "id": "wtCsf3D94pHA"
      },
      "execution_count": 260,
      "outputs": []
    },
    {
      "cell_type": "code",
      "source": [
        "# model.compile(\n",
        "#     loss=\"mean_absolute_error\", \n",
        "#     optimizer=RMSprop(), \n",
        "#     metrics=[\"mean_absolute_error\"]\n",
        "# )"
      ],
      "metadata": {
        "id": "p0fAGKI55FQj"
      },
      "execution_count": 261,
      "outputs": []
    },
    {
      "cell_type": "code",
      "source": [
        "# history = model.fit(\n",
        "#     train_X, \n",
        "#     train_y,\n",
        "#     epochs=40, \n",
        "#     batch_size=128,\n",
        "#     validation_split=0.2\n",
        "# )"
      ],
      "metadata": {
        "id": "PTLAqbUv5OU1"
      },
      "execution_count": 271,
      "outputs": []
    },
    {
      "cell_type": "code",
      "source": [
        "# def plot_history(history, type_err):\n",
        "#   plt.plot(history.history[type_err])\n",
        "#   plt.plot(history.history['val_'+type_err])\n",
        "#   plt.xlabel(\"Epochs\")\n",
        "#   plt.ylabel(type_err)\n",
        "#   plt.legend([type_err, 'val_'+type_err])\n",
        "#   plt.show()\n",
        "\n",
        "# plot_history(history, 'mean_absolute_error')"
      ],
      "metadata": {
        "id": "HXgK6wIs5X2Z",
        "outputId": "e8c1f2ae-ed1a-48cb-e75e-6ee1c5cbbe92",
        "colab": {
          "base_uri": "https://localhost:8080/",
          "height": 279
        }
      },
      "execution_count": 263,
      "outputs": [
        {
          "output_type": "display_data",
          "data": {
            "text/plain": [
              "<Figure size 432x288 with 1 Axes>"
            ],
            "image/png": "[encoded data removed]"
          },
          "metadata": {
            "needs_background": "light"
          }
        }
      ]
    },
    {
      "cell_type": "code",
      "source": [
        "lr.score(train_X, train_y)\n",
        "# cross_val_score(dtr, train_X, train_y, cv=5)"
      ],
      "metadata": {
        "id": "yTWMTpu5FPwV",
        "outputId": "5345afac-8026-4acf-c873-cb7e82dc3904",
        "colab": {
          "base_uri": "https://localhost:8080/"
        },
        "pycharm": {
          "name": "#%%\n"
        }
      },
      "execution_count": 264,
      "outputs": [
        {
          "output_type": "execute_result",
          "data": {
            "text/plain": [
              "-0.45015632372241976"
            ]
          },
          "metadata": {},
          "execution_count": 264
        }
      ]
    },
    {
      "cell_type": "code",
      "source": [
        "lr_pred = lr.predict(test_X)\n",
        "dr_pred = dr.predict(test_X)\n",
        "rr_pred = rr.predict(test_X)\n",
        "svr_pred = svr.predict(test_X)\n",
        "dtr_pred = dtr.predict(test_X)\n",
        "llr_pred = llr.predict(test_X)\n",
        "nn_pred = model.predict(test_X)"
      ],
      "metadata": {
        "id": "optrqxHUEyKH",
        "pycharm": {
          "name": "#%%\n"
        },
        "colab": {
          "base_uri": "https://localhost:8080/"
        },
        "outputId": "34c6d04a-cd2f-4617-ba70-aa8975e0ad83"
      },
      "execution_count": 265,
      "outputs": [
        {
          "output_type": "stream",
          "name": "stdout",
          "text": [
            "298/298 [==============================] - 1s 1ms/step\n"
          ]
        }
      ]
    },
    {
      "cell_type": "code",
      "source": [
        "# plt.scatter()"
      ],
      "metadata": {
        "id": "t1cW8q4t2QNS"
      },
      "execution_count": 266,
      "outputs": []
    },
    {
      "cell_type": "code",
      "source": [
        "def ret_metrics(test_y, pred):\n",
        "\n",
        "  mae = metrics.mean_absolute_error(test_y, pred)\n",
        "  mse = metrics.mean_squared_error(test_y, pred)\n",
        "  rmse = np.sqrt(mse)\n",
        "\n",
        "  return(mae, mse, rmse)"
      ],
      "metadata": {
        "id": "N1OJ4OckIQ0T",
        "pycharm": {
          "name": "#%%\n"
        }
      },
      "execution_count": 267,
      "outputs": []
    },
    {
      "cell_type": "code",
      "source": [
        "print(f\"LR metrics for mae, mse, rmse are: {ret_metrics(test_y, lr_pred)}\")\n",
        "print(f\"LLR metrics for mae, mse, rmse are: {ret_metrics(test_y, llr_pred)}\")\n",
        "print(f\"DR metrics for mae, mse, rmse are: {ret_metrics(test_y, dr_pred)}\")\n",
        "print(f\"RR metrics for mae, mse, rmse are: {ret_metrics(test_y, rr_pred)}\")\n",
        "# print(f\"SVR metrics for mae, mse, rmse are: {ret_metrics(test_y, svr_pred)}\")\n",
        "print(f\"DTR metrics for mae, mse, rmse are: {ret_metrics(test_y, dtr_pred)}\")\n",
        "print(f\"NN metrics for mae, mse, rmse are: {ret_metrics(test_y, nn_pred)}\")\n"
      ],
      "metadata": {
        "id": "ZDDvGnRpE5Mz",
        "outputId": "8f90b128-b05e-4e97-9667-d1045dee37d5",
        "colab": {
          "base_uri": "https://localhost:8080/"
        },
        "pycharm": {
          "name": "#%%\n"
        }
      },
      "execution_count": 268,
      "outputs": [
        {
          "output_type": "stream",
          "name": "stdout",
          "text": [
            "LR metrics for mae, mse, rmse are: (1.7588553799937643, 9.381879965314749, 3.062985466063257)\n",
            "LLR metrics for mae, mse, rmse are: (1.7070496710134206, 6.345125059315302, 2.518953167352522)\n",
            "DR metrics for mae, mse, rmse are: (1.7067541313412653, 6.3547621676773645, 2.5208653608785543)\n",
            "RR metrics for mae, mse, rmse are: (1.7071913367598424, 6.345914121045821, 2.5191097874141613)\n",
            "DTR metrics for mae, mse, rmse are: (1.9157080678780172, 9.932978068829748, 3.15166274668305)\n",
            "NN metrics for mae, mse, rmse are: (1.4583262540606725, 7.358182536044981, 2.712597009517813)\n"
          ]
        }
      ]
    },
    {
      "cell_type": "code",
      "source": [
        "preds_df = pd.DataFrame({\"true\":test_y, \"lr\":lr_pred, \"dr\":dr_pred, \"rr\":rr_pred, \"svr\":-1, \"dtr\":dtr_pred, \"llr\":llr_pred, \"nn\": nn_pred[:,0]})"
      ],
      "metadata": {
        "id": "2jHy5LJXGt-z",
        "pycharm": {
          "name": "#%%\n"
        }
      },
      "execution_count": 269,
      "outputs": []
    },
    {
      "cell_type": "code",
      "source": [
        "preds_df"
      ],
      "metadata": {
        "id": "A784hHYPHV_6",
        "outputId": "8d1b8400-950c-439f-8b50-b6e70face7f2",
        "colab": {
          "base_uri": "https://localhost:8080/",
          "height": 419
        },
        "pycharm": {
          "name": "#%%\n"
        }
      },
      "execution_count": 270,
      "outputs": [
        {
          "output_type": "execute_result",
          "data": {
            "text/plain": [
              "           true        lr        dr        rr  svr       dtr       llr  \\\n",
              "14802  0.080764 -0.016760  1.766782  1.750022   -1  1.161643  1.750017   \n",
              "36376  0.758520 -0.018717  1.766782  1.748065   -1  1.766222  1.748382   \n",
              "25220  0.943855 -0.110610  1.766782  1.656172   -1  1.246115  1.657820   \n",
              "42510  2.302350  0.022699  1.766782  1.789481   -1  1.766222  1.788978   \n",
              "1640   0.712014  0.000132  1.766782  1.766914   -1  1.766222  1.767185   \n",
              "...         ...       ...       ...       ...  ...       ...       ...   \n",
              "34212  0.117072 -0.041265  1.766782  1.725516   -1  0.626705  1.726151   \n",
              "5273   0.203402  0.250357  1.766782  2.017139   -1  0.600409  2.012226   \n",
              "32211  4.981957 -0.010655  1.766782  1.756127   -1  1.573673  1.756324   \n",
              "32415  2.160767 -0.029369  1.766782  1.737413   -1  0.466215  1.737860   \n",
              "18501  0.732382 -0.032912  1.766782  1.733870   -1  0.509019  1.733230   \n",
              "\n",
              "             nn  \n",
              "14802  0.766650  \n",
              "36376  0.615064  \n",
              "25220  0.545203  \n",
              "42510  0.834347  \n",
              "1640   0.807090  \n",
              "...         ...  \n",
              "34212  0.579662  \n",
              "5273   0.634384  \n",
              "32211  0.726730  \n",
              "32415  0.635902  \n",
              "18501  0.970526  \n",
              "\n",
              "[9533 rows x 8 columns]"
            ],
            "text/html": [
              "\n",
              "  <div id=\"df-ec79f2e5-7a05-46f0-a501-30efa66bc16a\">\n",
              "    <div class=\"colab-df-container\">\n",
              "      <div>\n",
              "<style scoped>\n",
              "    .dataframe tbody tr th:only-of-type {\n",
              "        vertical-align: middle;\n",
              "    }\n",
              "\n",
              "    .dataframe tbody tr th {\n",
              "        vertical-align: top;\n",
              "    }\n",
              "\n",
              "    .dataframe thead th {\n",
              "        text-align: right;\n",
              "    }\n",
              "</style>\n",
              "<table border=\"1\" class=\"dataframe\">\n",
              "  <thead>\n",
              "    <tr style=\"text-align: right;\">\n",
              "      <th></th>\n",
              "      <th>true</th>\n",
              "      <th>lr</th>\n",
              "      <th>dr</th>\n",
              "      <th>rr</th>\n",
              "      <th>svr</th>\n",
              "      <th>dtr</th>\n",
              "      <th>llr</th>\n",
              "      <th>nn</th>\n",
              "    </tr>\n",
              "  </thead>\n",
              "  <tbody>\n",
              "    <tr>\n",
              "      <th>14802</th>\n",
              "      <td>0.080764</td>\n",
              "      <td>-0.016760</td>\n",
              "      <td>1.766782</td>\n",
              "      <td>1.750022</td>\n",
              "      <td>-1</td>\n",
              "      <td>1.161643</td>\n",
              "      <td>1.750017</td>\n",
              "      <td>0.766650</td>\n",
              "    </tr>\n",
              "    <tr>\n",
              "      <th>36376</th>\n",
              "      <td>0.758520</td>\n",
              "      <td>-0.018717</td>\n",
              "      <td>1.766782</td>\n",
              "      <td>1.748065</td>\n",
              "      <td>-1</td>\n",
              "      <td>1.766222</td>\n",
              "      <td>1.748382</td>\n",
              "      <td>0.615064</td>\n",
              "    </tr>\n",
              "    <tr>\n",
              "      <th>25220</th>\n",
              "      <td>0.943855</td>\n",
              "      <td>-0.110610</td>\n",
              "      <td>1.766782</td>\n",
              "      <td>1.656172</td>\n",
              "      <td>-1</td>\n",
              "      <td>1.246115</td>\n",
              "      <td>1.657820</td>\n",
              "      <td>0.545203</td>\n",
              "    </tr>\n",
              "    <tr>\n",
              "      <th>42510</th>\n",
              "      <td>2.302350</td>\n",
              "      <td>0.022699</td>\n",
              "      <td>1.766782</td>\n",
              "      <td>1.789481</td>\n",
              "      <td>-1</td>\n",
              "      <td>1.766222</td>\n",
              "      <td>1.788978</td>\n",
              "      <td>0.834347</td>\n",
              "    </tr>\n",
              "    <tr>\n",
              "      <th>1640</th>\n",
              "      <td>0.712014</td>\n",
              "      <td>0.000132</td>\n",
              "      <td>1.766782</td>\n",
              "      <td>1.766914</td>\n",
              "      <td>-1</td>\n",
              "      <td>1.766222</td>\n",
              "      <td>1.767185</td>\n",
              "      <td>0.807090</td>\n",
              "    </tr>\n",
              "    <tr>\n",
              "      <th>...</th>\n",
              "      <td>...</td>\n",
              "      <td>...</td>\n",
              "      <td>...</td>\n",
              "      <td>...</td>\n",
              "      <td>...</td>\n",
              "      <td>...</td>\n",
              "      <td>...</td>\n",
              "      <td>...</td>\n",
              "    </tr>\n",
              "    <tr>\n",
              "      <th>34212</th>\n",
              "      <td>0.117072</td>\n",
              "      <td>-0.041265</td>\n",
              "      <td>1.766782</td>\n",
              "      <td>1.725516</td>\n",
              "      <td>-1</td>\n",
              "      <td>0.626705</td>\n",
              "      <td>1.726151</td>\n",
              "      <td>0.579662</td>\n",
              "    </tr>\n",
              "    <tr>\n",
              "      <th>5273</th>\n",
              "      <td>0.203402</td>\n",
              "      <td>0.250357</td>\n",
              "      <td>1.766782</td>\n",
              "      <td>2.017139</td>\n",
              "      <td>-1</td>\n",
              "      <td>0.600409</td>\n",
              "      <td>2.012226</td>\n",
              "      <td>0.634384</td>\n",
              "    </tr>\n",
              "    <tr>\n",
              "      <th>32211</th>\n",
              "      <td>4.981957</td>\n",
              "      <td>-0.010655</td>\n",
              "      <td>1.766782</td>\n",
              "      <td>1.756127</td>\n",
              "      <td>-1</td>\n",
              "      <td>1.573673</td>\n",
              "      <td>1.756324</td>\n",
              "      <td>0.726730</td>\n",
              "    </tr>\n",
              "    <tr>\n",
              "      <th>32415</th>\n",
              "      <td>2.160767</td>\n",
              "      <td>-0.029369</td>\n",
              "      <td>1.766782</td>\n",
              "      <td>1.737413</td>\n",
              "      <td>-1</td>\n",
              "      <td>0.466215</td>\n",
              "      <td>1.737860</td>\n",
              "      <td>0.635902</td>\n",
              "    </tr>\n",
              "    <tr>\n",
              "      <th>18501</th>\n",
              "      <td>0.732382</td>\n",
              "      <td>-0.032912</td>\n",
              "      <td>1.766782</td>\n",
              "      <td>1.733870</td>\n",
              "      <td>-1</td>\n",
              "      <td>0.509019</td>\n",
              "      <td>1.733230</td>\n",
              "      <td>0.970526</td>\n",
              "    </tr>\n",
              "  </tbody>\n",
              "</table>\n",
              "<p>9533 rows × 8 columns</p>\n",
              "</div>\n",
              "      <button class=\"colab-df-convert\" onclick=\"convertToInteractive('df-ec79f2e5-7a05-46f0-a501-30efa66bc16a')\"\n",
              "              title=\"Convert this dataframe to an interactive table.\"\n",
              "              style=\"display:none;\">\n",
              "        \n",
              "  <svg xmlns=\"http://www.w3.org/2000/svg\" height=\"24px\"viewBox=\"0 0 24 24\"\n",
              "       width=\"24px\">\n",
              "    <path d=\"M0 0h24v24H0V0z\" fill=\"none\"/>\n",
              "    <path d=\"M18.56 5.44l.94 2.06.94-2.06 2.06-.94-2.06-.94-.94-2.06-.94 2.06-2.06.94zm-11 1L8.5 8.5l.94-2.06 2.06-.94-2.06-.94L8.5 2.5l-.94 2.06-2.06.94zm10 10l.94 2.06.94-2.06 2.06-.94-2.06-.94-.94-2.06-.94 2.06-2.06.94z\"/><path d=\"M17.41 7.96l-1.37-1.37c-.4-.4-.92-.59-1.43-.59-.52 0-1.04.2-1.43.59L10.3 9.45l-7.72 7.72c-.78.78-.78 2.05 0 2.83L4 21.41c.39.39.9.59 1.41.59.51 0 1.02-.2 1.41-.59l7.78-7.78 2.81-2.81c.8-.78.8-2.07 0-2.86zM5.41 20L4 18.59l7.72-7.72 1.47 1.35L5.41 20z\"/>\n",
              "  </svg>\n",
              "      </button>\n",
              "      \n",
              "  <style>\n",
              "    .colab-df-container {\n",
              "      display:flex;\n",
              "      flex-wrap:wrap;\n",
              "      gap: 12px;\n",
              "    }\n",
              "\n",
              "    .colab-df-convert {\n",
              "      background-color: #E8F0FE;\n",
              "      border: none;\n",
              "      border-radius: 50%;\n",
              "      cursor: pointer;\n",
              "      display: none;\n",
              "      fill: #1967D2;\n",
              "      height: 32px;\n",
              "      padding: 0 0 0 0;\n",
              "      width: 32px;\n",
              "    }\n",
              "\n",
              "    .colab-df-convert:hover {\n",
              "      background-color: #E2EBFA;\n",
              "      box-shadow: 0px 1px 2px rgba(60, 64, 67, 0.3), 0px 1px 3px 1px rgba(60, 64, 67, 0.15);\n",
              "      fill: #174EA6;\n",
              "    }\n",
              "\n",
              "    [theme=dark] .colab-df-convert {\n",
              "      background-color: #3B4455;\n",
              "      fill: #D2E3FC;\n",
              "    }\n",
              "\n",
              "    [theme=dark] .colab-df-convert:hover {\n",
              "      background-color: #434B5C;\n",
              "      box-shadow: 0px 1px 3px 1px rgba(0, 0, 0, 0.15);\n",
              "      filter: drop-shadow(0px 1px 2px rgba(0, 0, 0, 0.3));\n",
              "      fill: #FFFFFF;\n",
              "    }\n",
              "  </style>\n",
              "\n",
              "      <script>\n",
              "        const buttonEl =\n",
              "          document.querySelector('#df-ec79f2e5-7a05-46f0-a501-30efa66bc16a button.colab-df-convert');\n",
              "        buttonEl.style.display =\n",
              "          google.colab.kernel.accessAllowed ? 'block' : 'none';\n",
              "\n",
              "        async function convertToInteractive(key) {\n",
              "          const element = document.querySelector('#df-ec79f2e5-7a05-46f0-a501-30efa66bc16a');\n",
              "          const dataTable =\n",
              "            await google.colab.kernel.invokeFunction('convertToInteractive',\n",
              "                                                     [key], {});\n",
              "          if (!dataTable) return;\n",
              "\n",
              "          const docLinkHtml = 'Like what you see? Visit the ' +\n",
              "            '<a target=\"_blank\" href=https://colab.research.google.com/notebooks/data_table.ipynb>data table notebook</a>'\n",
              "            + ' to learn more about interactive tables.';\n",
              "          element.innerHTML = '';\n",
              "          dataTable['output_type'] = 'display_data';\n",
              "          await google.colab.output.renderOutput(dataTable, element);\n",
              "          const docLink = document.createElement('div');\n",
              "          docLink.innerHTML = docLinkHtml;\n",
              "          element.appendChild(docLink);\n",
              "        }\n",
              "      </script>\n",
              "    </div>\n",
              "  </div>\n",
              "  "
            ]
          },
          "metadata": {},
          "execution_count": 270
        }
      ]
    },
    {
      "cell_type": "code",
      "source": [
        "lists = sorted(zip(*[test_y, dr_pred]))\n",
        "sorted_x_test, sorted_y_test_pred = list(zip(*lists))\n",
        "pca_n = 1\n",
        "\n",
        "\n",
        "# plt.plot(pca_train_X[:,pca_n],train_y,'.',color=\"darkblue\", alpha=0.3,label=\"Train data\")\n",
        "plt.plot(pca_test_X[:,pca_n],test_y,'.',color='darkgreen', alpha=0.3, label=\"Test data\")\n",
        "plt.ylabel('Relative Title Quality')\n",
        "plt.xlabel('PCA componenet')\n",
        "\n",
        "plt.plot(sorted_x_test,sorted_y_test_pred,color='#FD8E70',linewidth=3, label=\"Model preds\")\n",
        "\n",
        "plt.legend()\n",
        "plt.show()"
      ],
      "metadata": {
        "id": "soIFw58rHWCp",
        "pycharm": {
          "name": "#%%\n"
        },
        "outputId": "55d52ca2-6467-413b-de36-a1059b11d1b5",
        "colab": {
          "base_uri": "https://localhost:8080/",
          "height": 279
        }
      },
      "execution_count": 251,
      "outputs": [
        {
          "output_type": "display_data",
          "data": {
            "text/plain": [
              "<Figure size 432x288 with 1 Axes>"
            ],
            "image/png": "[encoded data removed]"
          },
          "metadata": {
            "needs_background": "light"
          }
        }
      ]
    },
    {
      "cell_type": "code",
      "source": [],
      "metadata": {
        "id": "_cQKF_YYHWQu",
        "pycharm": {
          "name": "#%%\n"
        }
      },
      "execution_count": 211,
      "outputs": []
    },
    {
      "cell_type": "markdown",
      "source": [],
      "metadata": {
        "id": "uMxSEO9HB9o8",
        "pycharm": {
          "name": "#%% md\n"
        }
      }
    }
  ],
  "metadata": {
    "colab": {
      "provenance": [],
      "include_colab_link": true
    },
    "kernelspec": {
      "display_name": "Python 3.10.4 ('dataenv')",
      "language": "python",
      "name": "python3"
    },
    "language_info": {
      "name": "python",
      "version": "3.10.4"
    },
    "vscode": {
      "interpreter": {
        "hash": "467f60c46b88ea196e8e4e51716c4f14b05141d893e1660e0038b81da854c476"
      }
    }
  },
  "nbformat": 4,
  "nbformat_minor": 0
}