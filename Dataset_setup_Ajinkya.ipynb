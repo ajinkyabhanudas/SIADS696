{
  "cells": [
    {
      "cell_type": "markdown",
      "metadata": {
        "colab_type": "text",
        "id": "view-in-github"
      },
      "source": [
        "<a href=\"https://colab.research.google.com/github/ajinkyabhanudas/SIADS696/blob/dev/Dataset_setup_Ajinkya.ipynb\" target=\"_parent\"><img src=\"https://colab.research.google.com/assets/colab-badge.svg\" alt=\"Open In Colab\"/></a>"
      ]
    },
    {
      "cell_type": "markdown",
      "metadata": {
        "id": "Fa2YEr7pT6zt",
        "pycharm": {
          "name": "#%% md\n"
        }
      },
      "source": [
        "#This notebook works on the first step of the train pipeline: data loading \n",
        "- The idea is to use the contents of this notebook as a makefile target so it can be the first step to run as we keep populating our datastore.\n",
        "\n",
        "\n",
        "\n",
        "\n",
        "\n",
        "\n"
      ]
    },
    {
      "cell_type": "code",
      "execution_count": null,
      "metadata": {
        "id": "pWqb-vn_hFCU",
        "pycharm": {
          "name": "#%%\n"
        }
      },
      "outputs": [],
      "source": [
        "# !git clone https://github.com/ajinkyabhanudas/SIADS696.git"
      ]
    },
    {
      "cell_type": "code",
      "execution_count": 1,
      "metadata": {
        "id": "qe2qOLWocWZz",
        "pycharm": {
          "name": "#%%\n"
        }
      },
      "outputs": [],
      "source": [
        "import datetime\n",
        "import enum\n",
        "import glob\n",
        "import json\n",
        "import os\n",
        "import re\n",
        "from itertools import groupby\n",
        "\n",
        "from gensim.models import Word2Vec\n",
        "import nltk\n",
        "from nltk.corpus import stopwords\n",
        "import numpy as np\n",
        "import pandas as pd\n",
        "\n",
        "import warnings\n",
        "warnings.simplefilter(action='ignore')"
      ]
    },
    {
      "cell_type": "code",
      "execution_count": 2,
      "metadata": {
        "colab": {
          "base_uri": "https://localhost:8080/"
        },
        "id": "cY7AW03EX3a2",
        "outputId": "5169174a-463f-4048-b6e9-d4b46586dd3c",
        "pycharm": {
          "name": "#%%\n"
        }
      },
      "outputs": [
        {
          "name": "stderr",
          "output_type": "stream",
          "text": [
            "[nltk_data] Downloading package punkt to\n",
            "[nltk_data]     C:\\Users\\poomk\\AppData\\Roaming\\nltk_data...\n",
            "[nltk_data]   Package punkt is already up-to-date!\n",
            "[nltk_data] Downloading package stopwords to\n",
            "[nltk_data]     C:\\Users\\poomk\\AppData\\Roaming\\nltk_data...\n",
            "[nltk_data]   Package stopwords is already up-to-date!\n"
          ]
        },
        {
          "data": {
            "text/plain": [
              "True"
            ]
          },
          "execution_count": 2,
          "metadata": {},
          "output_type": "execute_result"
        }
      ],
      "source": [
        "nltk.download('punkt')\n",
        "nltk.download('stopwords')"
      ]
    },
    {
      "cell_type": "code",
      "execution_count": 3,
      "metadata": {
        "id": "ZjuCnSlVckSC",
        "pycharm": {
          "name": "#%%\n"
        }
      },
      "outputs": [
        {
          "name": "stdout",
          "output_type": "stream",
          "text": [
            "You're either already in the SIADS696 directory, or the path specified isn't accessible\n"
          ]
        }
      ],
      "source": [
        "try:\n",
        "  os.chdir('SIADS696')\n",
        "except:\n",
        "  print(\"You're either already in the SIADS696 directory, or the path specified isn't accessible\")"
      ]
    },
    {
      "cell_type": "markdown",
      "metadata": {
        "id": "s72nxVxjlZGi",
        "pycharm": {
          "name": "#%% md\n"
        }
      },
      "source": [
        "### We'll extract our dataset in two parts:\n",
        "- first extract the overall stats data per channel and store it along with the channel name instead of the id for available channels. (`overall_stats_raw_df`)\n",
        "- And second, extract the per-video data into another dataframe. (`raw_df`)"
      ]
    },
    {
      "cell_type": "code",
      "execution_count": 4,
      "metadata": {
        "id": "KSTlEX8FBNQ0",
        "pycharm": {
          "name": "#%%\n"
        }
      },
      "outputs": [],
      "source": [
        "rootdir = 'data'\n",
        "feature_list = ['publishedAt', 'title', 'channelId', 'description',\n",
        "                'channelTitle', 'tags', 'categoryId', 'viewCount', \n",
        "                'likeCount', 'favoriteCount', 'commentCount', 'duration',\n",
        "                'definition', 'contentRating', 'topicCategories']\n",
        "\n",
        "ov_dict_list = []\n",
        "ov_temp_dict = {}\n",
        "\n",
        "dict_list = []\n",
        "temp_dict = {}\n",
        "\n",
        "for path in glob.glob(f'./{rootdir}/*/*'):\n",
        "  try:\n",
        "    with open(path, \"r\") as read_file:\n",
        "      data = json.load(read_file)\n",
        "    for channel_id in data.keys():\n",
        "      ov_temp_dict = data[channel_id][\"channel_statistics\"]\n",
        "      channel_name = list(data[channel_id][\"video_data\"].keys())[0]\n",
        "      ov_temp_dict[\"channelName\"] = data[channel_id][\"video_data\"][channel_name][\"channelTitle\"]\n",
        "      ov_dict_list.append(ov_temp_dict)\n",
        "      \n",
        "      for video_info in data[channel_id][\"video_data\"].values():\n",
        "        temp_dict = video_info\n",
        "        dict_list.append(temp_dict)       \n",
        "  except:\n",
        "    pass\n",
        "\n",
        "overall_stats_raw_df = pd.DataFrame(ov_dict_list)\n",
        "overall_stats_raw_df.drop(\"hiddenSubscriberCount\", axis=1, inplace=True)\n",
        "\n",
        "raw_df = pd.DataFrame(dict_list)\n",
        "raw_df = raw_df[feature_list]"
      ]
    },
    {
      "cell_type": "markdown",
      "metadata": {
        "id": "wx8sIaskERjq",
        "pycharm": {
          "name": "#%% md\n"
        }
      },
      "source": [
        "### Next, let's do a quick check on the data and take a quick look at the data in both the dfs"
      ]
    },
    {
      "cell_type": "code",
      "execution_count": 5,
      "metadata": {
        "colab": {
          "base_uri": "https://localhost:8080/",
          "height": 1000
        },
        "id": "l4WxiXQRC1aY",
        "outputId": "05520314-ad61-4b51-ccdb-9bed665133e0",
        "pycharm": {
          "name": "#%%\n"
        }
      },
      "outputs": [
        {
          "name": "stdout",
          "output_type": "stream",
          "text": [
            "<class 'pandas.core.frame.DataFrame'>\n",
            "RangeIndex: 55337 entries, 0 to 55336\n",
            "Data columns (total 15 columns):\n",
            " #   Column           Non-Null Count  Dtype \n",
            "---  ------           --------------  ----- \n",
            " 0   publishedAt      55337 non-null  object\n",
            " 1   title            55337 non-null  object\n",
            " 2   channelId        55124 non-null  object\n",
            " 3   description      55124 non-null  object\n",
            " 4   channelTitle     55124 non-null  object\n",
            " 5   tags             51972 non-null  object\n",
            " 6   categoryId       55124 non-null  object\n",
            " 7   viewCount        55050 non-null  object\n",
            " 8   likeCount        54589 non-null  object\n",
            " 9   favoriteCount    55121 non-null  object\n",
            " 10  commentCount     54549 non-null  object\n",
            " 11  duration         55125 non-null  object\n",
            " 12  definition       55125 non-null  object\n",
            " 13  contentRating    55125 non-null  object\n",
            " 14  topicCategories  54331 non-null  object\n",
            "dtypes: object(15)\n",
            "memory usage: 6.3+ MB\n"
          ]
        },
        {
          "data": {
            "text/html": [
              "<div>\n",
              "<style scoped>\n",
              "    .dataframe tbody tr th:only-of-type {\n",
              "        vertical-align: middle;\n",
              "    }\n",
              "\n",
              "    .dataframe tbody tr th {\n",
              "        vertical-align: top;\n",
              "    }\n",
              "\n",
              "    .dataframe thead th {\n",
              "        text-align: right;\n",
              "    }\n",
              "</style>\n",
              "<table border=\"1\" class=\"dataframe\">\n",
              "  <thead>\n",
              "    <tr style=\"text-align: right;\">\n",
              "      <th></th>\n",
              "      <th>publishedAt</th>\n",
              "      <th>title</th>\n",
              "      <th>channelId</th>\n",
              "      <th>description</th>\n",
              "      <th>channelTitle</th>\n",
              "      <th>tags</th>\n",
              "      <th>categoryId</th>\n",
              "      <th>viewCount</th>\n",
              "      <th>likeCount</th>\n",
              "      <th>favoriteCount</th>\n",
              "      <th>commentCount</th>\n",
              "      <th>duration</th>\n",
              "      <th>definition</th>\n",
              "      <th>contentRating</th>\n",
              "      <th>topicCategories</th>\n",
              "    </tr>\n",
              "  </thead>\n",
              "  <tbody>\n",
              "    <tr>\n",
              "      <th>46681</th>\n",
              "      <td>2022-04-12T12:30:04Z</td>\n",
              "      <td>Best Winter Photography Locations in the Magda...</td>\n",
              "      <td>UCKCRueDLpzx1vBcQHCc4ZHA</td>\n",
              "      <td>If you're a photographer, videographer, or dro...</td>\n",
              "      <td>Going Awesome Places</td>\n",
              "      <td>[Going Awesome Places, goingawesomeplaces, ile...</td>\n",
              "      <td>19</td>\n",
              "      <td>301</td>\n",
              "      <td>14</td>\n",
              "      <td>0</td>\n",
              "      <td>1</td>\n",
              "      <td>PT8M9S</td>\n",
              "      <td>hd</td>\n",
              "      <td>{}</td>\n",
              "      <td>[https://en.wikipedia.org/wiki/Hobby, https://...</td>\n",
              "    </tr>\n",
              "    <tr>\n",
              "      <th>51854</th>\n",
              "      <td>2020-04-20T13:00:15Z</td>\n",
              "      <td>Salute your Core - 10 minute Vinyasa yoga with...</td>\n",
              "      <td>UCFYsO0t3zj0eJ_NcOlowTSA</td>\n",
              "      <td>In this short core sun salutation you connect ...</td>\n",
              "      <td>EkhartYoga</td>\n",
              "      <td>[yoga, Online yoga, Online yoga classes, Yoga ...</td>\n",
              "      <td>26</td>\n",
              "      <td>2994</td>\n",
              "      <td>107</td>\n",
              "      <td>0</td>\n",
              "      <td>3</td>\n",
              "      <td>PT7M26S</td>\n",
              "      <td>hd</td>\n",
              "      <td>{}</td>\n",
              "      <td>[https://en.wikipedia.org/wiki/Lifestyle_(soci...</td>\n",
              "    </tr>\n",
              "    <tr>\n",
              "      <th>50626</th>\n",
              "      <td>2020-09-19T14:00:07Z</td>\n",
              "      <td>50 Min Yoga for Athletes on Recovery Days | Br...</td>\n",
              "      <td>UCbfPq-uRqonJQli41muSLeQ</td>\n",
              "      <td>Welcome to this accessible yoga for beginners ...</td>\n",
              "      <td>Breathe and Flow</td>\n",
              "      <td>[yoga for beginners, breathe and flow, yoga cl...</td>\n",
              "      <td>26</td>\n",
              "      <td>75840</td>\n",
              "      <td>1749</td>\n",
              "      <td>0</td>\n",
              "      <td>88</td>\n",
              "      <td>PT48M9S</td>\n",
              "      <td>hd</td>\n",
              "      <td>{}</td>\n",
              "      <td>[https://en.wikipedia.org/wiki/Lifestyle_(soci...</td>\n",
              "    </tr>\n",
              "    <tr>\n",
              "      <th>6392</th>\n",
              "      <td>2015-12-22T23:33:02Z</td>\n",
              "      <td>Sticky Toffee Pudding</td>\n",
              "      <td>UCxD2E-bVoUbaVFL0Q3PvJTg</td>\n",
              "      <td>Sticky Toffee Pudding: a decadent holiday show...</td>\n",
              "      <td>ChefSteps</td>\n",
              "      <td>[toffee pudding, british dessert, egg, cake, d...</td>\n",
              "      <td>26</td>\n",
              "      <td>219792</td>\n",
              "      <td>3099</td>\n",
              "      <td>0</td>\n",
              "      <td>132</td>\n",
              "      <td>PT3M23S</td>\n",
              "      <td>hd</td>\n",
              "      <td>{}</td>\n",
              "      <td>[https://en.wikipedia.org/wiki/Food, https://e...</td>\n",
              "    </tr>\n",
              "    <tr>\n",
              "      <th>41846</th>\n",
              "      <td>2019-08-01T16:34:16Z</td>\n",
              "      <td>Einstein's Biggest Blunder, Explained</td>\n",
              "      <td>UCUHW94eEFW7hkUMVaZz4eDg</td>\n",
              "      <td>Thanks to Brilliant for supporting MinutePhysi...</td>\n",
              "      <td>minutephysics</td>\n",
              "      <td>[physics, minutephysics, science]</td>\n",
              "      <td>28</td>\n",
              "      <td>782490</td>\n",
              "      <td>31117</td>\n",
              "      <td>0</td>\n",
              "      <td>1346</td>\n",
              "      <td>PT6M4S</td>\n",
              "      <td>hd</td>\n",
              "      <td>{}</td>\n",
              "      <td>[https://en.wikipedia.org/wiki/Knowledge]</td>\n",
              "    </tr>\n",
              "  </tbody>\n",
              "</table>\n",
              "</div>"
            ],
            "text/plain": [
              "                publishedAt  \\\n",
              "46681  2022-04-12T12:30:04Z   \n",
              "51854  2020-04-20T13:00:15Z   \n",
              "50626  2020-09-19T14:00:07Z   \n",
              "6392   2015-12-22T23:33:02Z   \n",
              "41846  2019-08-01T16:34:16Z   \n",
              "\n",
              "                                                   title  \\\n",
              "46681  Best Winter Photography Locations in the Magda...   \n",
              "51854  Salute your Core - 10 minute Vinyasa yoga with...   \n",
              "50626  50 Min Yoga for Athletes on Recovery Days | Br...   \n",
              "6392                               Sticky Toffee Pudding   \n",
              "41846              Einstein's Biggest Blunder, Explained   \n",
              "\n",
              "                      channelId  \\\n",
              "46681  UCKCRueDLpzx1vBcQHCc4ZHA   \n",
              "51854  UCFYsO0t3zj0eJ_NcOlowTSA   \n",
              "50626  UCbfPq-uRqonJQli41muSLeQ   \n",
              "6392   UCxD2E-bVoUbaVFL0Q3PvJTg   \n",
              "41846  UCUHW94eEFW7hkUMVaZz4eDg   \n",
              "\n",
              "                                             description  \\\n",
              "46681  If you're a photographer, videographer, or dro...   \n",
              "51854  In this short core sun salutation you connect ...   \n",
              "50626  Welcome to this accessible yoga for beginners ...   \n",
              "6392   Sticky Toffee Pudding: a decadent holiday show...   \n",
              "41846  Thanks to Brilliant for supporting MinutePhysi...   \n",
              "\n",
              "               channelTitle  \\\n",
              "46681  Going Awesome Places   \n",
              "51854            EkhartYoga   \n",
              "50626      Breathe and Flow   \n",
              "6392              ChefSteps   \n",
              "41846         minutephysics   \n",
              "\n",
              "                                                    tags categoryId viewCount  \\\n",
              "46681  [Going Awesome Places, goingawesomeplaces, ile...         19       301   \n",
              "51854  [yoga, Online yoga, Online yoga classes, Yoga ...         26      2994   \n",
              "50626  [yoga for beginners, breathe and flow, yoga cl...         26     75840   \n",
              "6392   [toffee pudding, british dessert, egg, cake, d...         26    219792   \n",
              "41846                  [physics, minutephysics, science]         28    782490   \n",
              "\n",
              "      likeCount favoriteCount commentCount duration definition contentRating  \\\n",
              "46681        14             0            1   PT8M9S         hd            {}   \n",
              "51854       107             0            3  PT7M26S         hd            {}   \n",
              "50626      1749             0           88  PT48M9S         hd            {}   \n",
              "6392       3099             0          132  PT3M23S         hd            {}   \n",
              "41846     31117             0         1346   PT6M4S         hd            {}   \n",
              "\n",
              "                                         topicCategories  \n",
              "46681  [https://en.wikipedia.org/wiki/Hobby, https://...  \n",
              "51854  [https://en.wikipedia.org/wiki/Lifestyle_(soci...  \n",
              "50626  [https://en.wikipedia.org/wiki/Lifestyle_(soci...  \n",
              "6392   [https://en.wikipedia.org/wiki/Food, https://e...  \n",
              "41846          [https://en.wikipedia.org/wiki/Knowledge]  "
            ]
          },
          "execution_count": 5,
          "metadata": {},
          "output_type": "execute_result"
        }
      ],
      "source": [
        "raw_df.info()\n",
        "raw_df.sample(5)"
      ]
    },
    {
      "cell_type": "code",
      "execution_count": 6,
      "metadata": {
        "colab": {
          "base_uri": "https://localhost:8080/",
          "height": 391
        },
        "id": "bT47uyotFG8o",
        "outputId": "f60d0349-7769-4f60-cf59-ebfa2de64ebc",
        "pycharm": {
          "name": "#%%\n"
        }
      },
      "outputs": [
        {
          "name": "stdout",
          "output_type": "stream",
          "text": [
            "<class 'pandas.core.frame.DataFrame'>\n",
            "RangeIndex: 149 entries, 0 to 148\n",
            "Data columns (total 4 columns):\n",
            " #   Column           Non-Null Count  Dtype \n",
            "---  ------           --------------  ----- \n",
            " 0   viewCount        149 non-null    object\n",
            " 1   subscriberCount  149 non-null    object\n",
            " 2   videoCount       149 non-null    object\n",
            " 3   channelName      149 non-null    object\n",
            "dtypes: object(4)\n",
            "memory usage: 4.8+ KB\n"
          ]
        },
        {
          "data": {
            "text/html": [
              "<div>\n",
              "<style scoped>\n",
              "    .dataframe tbody tr th:only-of-type {\n",
              "        vertical-align: middle;\n",
              "    }\n",
              "\n",
              "    .dataframe tbody tr th {\n",
              "        vertical-align: top;\n",
              "    }\n",
              "\n",
              "    .dataframe thead th {\n",
              "        text-align: right;\n",
              "    }\n",
              "</style>\n",
              "<table border=\"1\" class=\"dataframe\">\n",
              "  <thead>\n",
              "    <tr style=\"text-align: right;\">\n",
              "      <th></th>\n",
              "      <th>viewCount</th>\n",
              "      <th>subscriberCount</th>\n",
              "      <th>videoCount</th>\n",
              "      <th>channelName</th>\n",
              "    </tr>\n",
              "  </thead>\n",
              "  <tbody>\n",
              "    <tr>\n",
              "      <th>106</th>\n",
              "      <td>349786192</td>\n",
              "      <td>2040000</td>\n",
              "      <td>480</td>\n",
              "      <td>Beyond Science</td>\n",
              "    </tr>\n",
              "    <tr>\n",
              "      <th>83</th>\n",
              "      <td>10576768366</td>\n",
              "      <td>32900000</td>\n",
              "      <td>1141</td>\n",
              "      <td>NoCopyrightSounds</td>\n",
              "    </tr>\n",
              "    <tr>\n",
              "      <th>8</th>\n",
              "      <td>2598806060</td>\n",
              "      <td>17300000</td>\n",
              "      <td>189</td>\n",
              "      <td>Liza Koshy</td>\n",
              "    </tr>\n",
              "    <tr>\n",
              "      <th>66</th>\n",
              "      <td>172904891</td>\n",
              "      <td>1430000</td>\n",
              "      <td>88</td>\n",
              "      <td>History Buffs</td>\n",
              "    </tr>\n",
              "    <tr>\n",
              "      <th>10</th>\n",
              "      <td>3898272145</td>\n",
              "      <td>14400000</td>\n",
              "      <td>464</td>\n",
              "      <td>Rclbeauty101</td>\n",
              "    </tr>\n",
              "  </tbody>\n",
              "</table>\n",
              "</div>"
            ],
            "text/plain": [
              "       viewCount subscriberCount videoCount        channelName\n",
              "106    349786192         2040000        480     Beyond Science\n",
              "83   10576768366        32900000       1141  NoCopyrightSounds\n",
              "8     2598806060        17300000        189         Liza Koshy\n",
              "66     172904891         1430000         88      History Buffs\n",
              "10    3898272145        14400000        464       Rclbeauty101"
            ]
          },
          "execution_count": 6,
          "metadata": {},
          "output_type": "execute_result"
        }
      ],
      "source": [
        "overall_stats_raw_df.info()\n",
        "overall_stats_raw_df.sample(5)"
      ]
    },
    {
      "cell_type": "markdown",
      "metadata": {
        "id": "ZeWzYTmOA4eY",
        "pycharm": {
          "name": "#%% md\n"
        }
      },
      "source": [
        "### Let's examine our datatypes and convert them appropriately"
      ]
    },
    {
      "cell_type": "code",
      "execution_count": 7,
      "metadata": {
        "colab": {
          "base_uri": "https://localhost:8080/"
        },
        "id": "NB0XlyRB1dHI",
        "outputId": "b9b7386f-e2b7-43f3-a805-1c686ff5d959",
        "pycharm": {
          "name": "#%%\n"
        }
      },
      "outputs": [
        {
          "name": "stdout",
          "output_type": "stream",
          "text": [
            "<class 'pandas.core.frame.DataFrame'>\n",
            "RangeIndex: 55337 entries, 0 to 55336\n",
            "Data columns (total 15 columns):\n",
            " #   Column           Non-Null Count  Dtype \n",
            "---  ------           --------------  ----- \n",
            " 0   publishedAt      55337 non-null  object\n",
            " 1   title            55337 non-null  object\n",
            " 2   channelId        55124 non-null  object\n",
            " 3   description      55124 non-null  object\n",
            " 4   channelTitle     55124 non-null  object\n",
            " 5   tags             51972 non-null  object\n",
            " 6   categoryId       55124 non-null  object\n",
            " 7   viewCount        55050 non-null  object\n",
            " 8   likeCount        54589 non-null  object\n",
            " 9   favoriteCount    55121 non-null  object\n",
            " 10  commentCount     54549 non-null  object\n",
            " 11  duration         55125 non-null  object\n",
            " 12  definition       55125 non-null  object\n",
            " 13  contentRating    55125 non-null  object\n",
            " 14  topicCategories  54331 non-null  object\n",
            "dtypes: object(15)\n",
            "memory usage: 6.3+ MB\n"
          ]
        }
      ],
      "source": [
        "raw_df.info()"
      ]
    },
    {
      "cell_type": "code",
      "execution_count": 8,
      "metadata": {
        "id": "IpgdK3Vs53Yo",
        "pycharm": {
          "name": "#%%\n"
        }
      },
      "outputs": [],
      "source": [
        "def duration_split(duration):\n",
        "    try:\n",
        "      for _, v in groupby(duration, str.isalpha):\n",
        "        yield ''.join(v)\n",
        "    except:\n",
        "      yield np.nan\n",
        "    \n",
        "    \n",
        "def duration_2_secs(duration, duration_split=duration_split):\n",
        "  temp = 0\n",
        "  # value = (duration_split(duration))\n",
        "  for i, val in enumerate(duration_split(duration)):\n",
        "    \n",
        "    if len(str(duration)) <= 8:\n",
        "      if i==1 and not val.isalpha():\n",
        "        temp += float(val)*60\n",
        "      \n",
        "      if i==3 and not val.isalpha():\n",
        "        temp += float(val)\n",
        "    else:\n",
        "      if i==1 and not val.isalpha():\n",
        "        temp += float(val)*60*60\n",
        "      \n",
        "      if i==3 and not val.isalpha():\n",
        "        temp += float(val)*60\n",
        "      \n",
        "      if i==5 and not val.isalpha():\n",
        "        temp += float(val)\n",
        "\n",
        "  return(temp)\n",
        "\n",
        "\n",
        "# duration_2_secs(\"HR1PT51M12S\")\n"
      ]
    },
    {
      "cell_type": "code",
      "execution_count": 9,
      "metadata": {
        "id": "7GyZH6WgHzw7",
        "pycharm": {
          "name": "#%%\n"
        }
      },
      "outputs": [],
      "source": [
        "def topic_extract(links_list):\n",
        "  \n",
        "  topics_list = []  \n",
        "  try:\n",
        "    for link in links_list:\n",
        "      topics_list.append(link.split(\"/\")[-1].lower())\n",
        "    \n",
        "    return(topics_list)\n",
        "  except:\n",
        "    pass"
      ]
    },
    {
      "cell_type": "code",
      "execution_count": 10,
      "metadata": {
        "id": "iQqQ2cTCTV25",
        "pycharm": {
          "name": "#%%\n"
        }
      },
      "outputs": [],
      "source": [
        "def text_prep(val):\n",
        "  '''the goal is to replace the hypertexts in the \n",
        "  in any field to redundant names as vectorizing\n",
        "  them could be misleading and also leak data'''\n",
        "\n",
        "  val = str(val).lower()\n",
        "  process_desc = re.sub(r'http[s]*:.*\\w', 'url', val)\n",
        "  process_desc = re.sub('[^a-zA-Z]', ' ', process_desc)\n",
        "  process_desc = re.sub(r'\\s+', ' ', process_desc)\n",
        "\n",
        "  process_desc = nltk.sent_tokenize(process_desc)\n",
        "  if not process_desc:\n",
        "    process_desc = [nltk.word_tokenize(word) for word in process_desc]\n",
        "  else:\n",
        "    process_desc = [nltk.word_tokenize(word) for word in process_desc][0]\n",
        "    \n",
        "  \n",
        "  word_list = [word for word in process_desc if word not in stopwords.words('english')]\n",
        "\n",
        "\n",
        "  return word_list\n",
        "\n"
      ]
    },
    {
      "cell_type": "code",
      "execution_count": 11,
      "metadata": {
        "colab": {
          "base_uri": "https://localhost:8080/"
        },
        "id": "tlnQIsjxffa6",
        "outputId": "7c866d14-4f9f-4a46-fda0-b6e71c8fc3d7",
        "pycharm": {
          "name": "#%%\n"
        }
      },
      "outputs": [
        {
          "data": {
            "text/plain": [
              "['happening']"
            ]
          },
          "execution_count": 11,
          "metadata": {},
          "output_type": "execute_result"
        }
      ],
      "source": [
        "text_prep(\"i if happening\")"
      ]
    },
    {
      "cell_type": "code",
      "execution_count": 12,
      "metadata": {
        "id": "p0OW3SZK1hOg",
        "pycharm": {
          "name": "#%%\n"
        }
      },
      "outputs": [],
      "source": [
        "def create_dataset(df, featureset, primary=True):\n",
        "\n",
        "  if primary:\n",
        "    df[\"publishedAt\"] = pd.to_datetime(df.publishedAt)\n",
        "    df['publishedDayNum'] = df.publishedAt.apply(lambda x: x.timetuple().tm_yday)\n",
        "    df['publishedDayDelta'] = abs(df['publishedDayNum']-datetime.datetime.now().timetuple().tm_yday)\n",
        "    df[\"categoryId\"] = df.categoryId.astype(float)\n",
        "    df[\"viewCount\"] = df.viewCount.astype(float)\n",
        "    df[\"likeCount\"] = df.likeCount.astype(float)\n",
        "    df[\"favoriteCount\"] = df.favoriteCount.astype(float)\n",
        "    df[\"commentCount\"] = df.commentCount.astype(float)\n",
        "    df['duration_secs'] = df.duration.apply(lambda x: duration_2_secs(x))\n",
        "    df['topicCategories'] = df.topicCategories.apply(lambda x: topic_extract(x))\n",
        "    df['tags'] = df.tags.apply(lambda x: topic_extract(x))\n",
        "    df['channelTitle'] = df.channelTitle.str.lower()\n",
        "    df['description'] = df.description.apply(lambda x: text_prep(x))\n",
        "    df['title'] = df.title.apply(lambda x: text_prep(x))\n",
        "    df['log_duration_secs'] = np.log(df.duration_secs+1)\n",
        "  \n",
        "  else:\n",
        "    df['ov_viewCount'] = df.viewCount.astype(float)\n",
        "    df['ov_subscriberCount'] = df.subscriberCount.astype(float)\n",
        "    df['ov_videoCount'] = df.videoCount.astype(float)\n",
        "    df['channelName'] = df.channelName.str.lower()\n",
        "\n",
        "  return df[featureset]"
      ]
    },
    {
      "cell_type": "markdown",
      "metadata": {
        "id": "6DM_MqBeWuTB",
        "pycharm": {
          "name": "#%% md\n"
        }
      },
      "source": [
        "- It's best to drop tags because, in many cases, the tags tend to contain the channel names, which could as we speculated earlier, lead to data leaks.\n",
        "- We'll also drop channelId because it is visually unintuitve and we can encode the channelNames with simple Id's if we needed to.\n",
        "- since we don't have data in the order of millions, we'd abstract out the publishing data to a new variable of `publishedDayNum` that contains the day of the year the video was published.\n",
        "- on examining `contentRating` values, the dataset in non-null but majorly contains empty dictionaries, which makes it misleading. As a result, we'll drop this feature too.\n",
        "- on examining `favoriteCount` values, the dataset in non-null but majorly contains a value of `0`, which makes it misleading. As a result, we'll drop it.\n",
        "\n",
        "- dropped columns list [`tags`, `channelId`, `contentRating`] and [`publishedAt`] after deriving the `publishedDayNum` column from it."
      ]
    },
    {
      "cell_type": "code",
      "execution_count": 13,
      "metadata": {
        "id": "1x1H_CF7Zbph",
        "pycharm": {
          "name": "#%%\n"
        }
      },
      "outputs": [
        {
          "ename": "KeyboardInterrupt",
          "evalue": "",
          "output_type": "error",
          "traceback": [
            "\u001b[1;31m---------------------------------------------------------------------------\u001b[0m",
            "\u001b[1;31mKeyboardInterrupt\u001b[0m                         Traceback (most recent call last)",
            "\u001b[1;32mc:\\Users\\poomk\\OneDrive\\Desktop\\Youtube_Analysis\\SIADS696\\Dataset_setup_Ajinkya.ipynb Cell 20\u001b[0m in \u001b[0;36m<cell line: 7>\u001b[1;34m()\u001b[0m\n\u001b[0;32m      <a href='vscode-notebook-cell:/c%3A/Users/poomk/OneDrive/Desktop/Youtube_Analysis/SIADS696/Dataset_setup_Ajinkya.ipynb#X25sZmlsZQ%3D%3D?line=0'>1</a>\u001b[0m features \u001b[39m=\u001b[39m [\u001b[39m'\u001b[39m\u001b[39mtitle\u001b[39m\u001b[39m'\u001b[39m, \u001b[39m'\u001b[39m\u001b[39mdescription\u001b[39m\u001b[39m'\u001b[39m, \u001b[39m'\u001b[39m\u001b[39mchannelTitle\u001b[39m\u001b[39m'\u001b[39m,\n\u001b[0;32m      <a href='vscode-notebook-cell:/c%3A/Users/poomk/OneDrive/Desktop/Youtube_Analysis/SIADS696/Dataset_setup_Ajinkya.ipynb#X25sZmlsZQ%3D%3D?line=1'>2</a>\u001b[0m  \u001b[39m'\u001b[39m\u001b[39mcategoryId\u001b[39m\u001b[39m'\u001b[39m, \u001b[39m'\u001b[39m\u001b[39mviewCount\u001b[39m\u001b[39m'\u001b[39m, \u001b[39m'\u001b[39m\u001b[39mlikeCount\u001b[39m\u001b[39m'\u001b[39m,\n\u001b[0;32m      <a href='vscode-notebook-cell:/c%3A/Users/poomk/OneDrive/Desktop/Youtube_Analysis/SIADS696/Dataset_setup_Ajinkya.ipynb#X25sZmlsZQ%3D%3D?line=2'>3</a>\u001b[0m  \u001b[39m'\u001b[39m\u001b[39mcommentCount\u001b[39m\u001b[39m'\u001b[39m, \u001b[39m'\u001b[39m\u001b[39mduration_secs\u001b[39m\u001b[39m'\u001b[39m, \u001b[39m'\u001b[39m\u001b[39mlog_duration_secs\u001b[39m\u001b[39m'\u001b[39m,\n\u001b[0;32m      <a href='vscode-notebook-cell:/c%3A/Users/poomk/OneDrive/Desktop/Youtube_Analysis/SIADS696/Dataset_setup_Ajinkya.ipynb#X25sZmlsZQ%3D%3D?line=3'>4</a>\u001b[0m  \u001b[39m'\u001b[39m\u001b[39mdefinition\u001b[39m\u001b[39m'\u001b[39m, \u001b[39m'\u001b[39m\u001b[39mtopicCategories\u001b[39m\u001b[39m'\u001b[39m, \u001b[39m'\u001b[39m\u001b[39mpublishedDayNum\u001b[39m\u001b[39m'\u001b[39m,\n\u001b[0;32m      <a href='vscode-notebook-cell:/c%3A/Users/poomk/OneDrive/Desktop/Youtube_Analysis/SIADS696/Dataset_setup_Ajinkya.ipynb#X25sZmlsZQ%3D%3D?line=4'>5</a>\u001b[0m  \u001b[39m'\u001b[39m\u001b[39mpublishedDayDelta\u001b[39m\u001b[39m'\u001b[39m]\n\u001b[1;32m----> <a href='vscode-notebook-cell:/c%3A/Users/poomk/OneDrive/Desktop/Youtube_Analysis/SIADS696/Dataset_setup_Ajinkya.ipynb#X25sZmlsZQ%3D%3D?line=6'>7</a>\u001b[0m preproc1_df \u001b[39m=\u001b[39m create_dataset(raw_df, features)\n",
            "\u001b[1;32mc:\\Users\\poomk\\OneDrive\\Desktop\\Youtube_Analysis\\SIADS696\\Dataset_setup_Ajinkya.ipynb Cell 20\u001b[0m in \u001b[0;36mcreate_dataset\u001b[1;34m(df, featureset, primary)\u001b[0m\n\u001b[0;32m     <a href='vscode-notebook-cell:/c%3A/Users/poomk/OneDrive/Desktop/Youtube_Analysis/SIADS696/Dataset_setup_Ajinkya.ipynb#X25sZmlsZQ%3D%3D?line=13'>14</a>\u001b[0m df[\u001b[39m'\u001b[39m\u001b[39mtags\u001b[39m\u001b[39m'\u001b[39m] \u001b[39m=\u001b[39m df\u001b[39m.\u001b[39mtags\u001b[39m.\u001b[39mapply(\u001b[39mlambda\u001b[39;00m x: topic_extract(x))\n\u001b[0;32m     <a href='vscode-notebook-cell:/c%3A/Users/poomk/OneDrive/Desktop/Youtube_Analysis/SIADS696/Dataset_setup_Ajinkya.ipynb#X25sZmlsZQ%3D%3D?line=14'>15</a>\u001b[0m df[\u001b[39m'\u001b[39m\u001b[39mchannelTitle\u001b[39m\u001b[39m'\u001b[39m] \u001b[39m=\u001b[39m df\u001b[39m.\u001b[39mchannelTitle\u001b[39m.\u001b[39mstr\u001b[39m.\u001b[39mlower()\n\u001b[1;32m---> <a href='vscode-notebook-cell:/c%3A/Users/poomk/OneDrive/Desktop/Youtube_Analysis/SIADS696/Dataset_setup_Ajinkya.ipynb#X25sZmlsZQ%3D%3D?line=15'>16</a>\u001b[0m df[\u001b[39m'\u001b[39m\u001b[39mdescription\u001b[39m\u001b[39m'\u001b[39m] \u001b[39m=\u001b[39m df\u001b[39m.\u001b[39;49mdescription\u001b[39m.\u001b[39;49mapply(\u001b[39mlambda\u001b[39;49;00m x: text_prep(x))\n\u001b[0;32m     <a href='vscode-notebook-cell:/c%3A/Users/poomk/OneDrive/Desktop/Youtube_Analysis/SIADS696/Dataset_setup_Ajinkya.ipynb#X25sZmlsZQ%3D%3D?line=16'>17</a>\u001b[0m df[\u001b[39m'\u001b[39m\u001b[39mtitle\u001b[39m\u001b[39m'\u001b[39m] \u001b[39m=\u001b[39m df\u001b[39m.\u001b[39mtitle\u001b[39m.\u001b[39mapply(\u001b[39mlambda\u001b[39;00m x: text_prep(x))\n\u001b[0;32m     <a href='vscode-notebook-cell:/c%3A/Users/poomk/OneDrive/Desktop/Youtube_Analysis/SIADS696/Dataset_setup_Ajinkya.ipynb#X25sZmlsZQ%3D%3D?line=17'>18</a>\u001b[0m df[\u001b[39m'\u001b[39m\u001b[39mlog_duration_secs\u001b[39m\u001b[39m'\u001b[39m] \u001b[39m=\u001b[39m np\u001b[39m.\u001b[39mlog(df\u001b[39m.\u001b[39mduration_secs\u001b[39m+\u001b[39m\u001b[39m1\u001b[39m)\n",
            "File \u001b[1;32mc:\\Users\\poomk\\miniconda3\\envs\\dataenv\\lib\\site-packages\\pandas\\core\\series.py:4433\u001b[0m, in \u001b[0;36mSeries.apply\u001b[1;34m(self, func, convert_dtype, args, **kwargs)\u001b[0m\n\u001b[0;32m   4323\u001b[0m \u001b[39mdef\u001b[39;00m \u001b[39mapply\u001b[39m(\n\u001b[0;32m   4324\u001b[0m     \u001b[39mself\u001b[39m,\n\u001b[0;32m   4325\u001b[0m     func: AggFuncType,\n\u001b[1;32m   (...)\u001b[0m\n\u001b[0;32m   4328\u001b[0m     \u001b[39m*\u001b[39m\u001b[39m*\u001b[39mkwargs,\n\u001b[0;32m   4329\u001b[0m ) \u001b[39m-\u001b[39m\u001b[39m>\u001b[39m DataFrame \u001b[39m|\u001b[39m Series:\n\u001b[0;32m   4330\u001b[0m     \u001b[39m\"\"\"\u001b[39;00m\n\u001b[0;32m   4331\u001b[0m \u001b[39m    Invoke function on values of Series.\u001b[39;00m\n\u001b[0;32m   4332\u001b[0m \n\u001b[1;32m   (...)\u001b[0m\n\u001b[0;32m   4431\u001b[0m \u001b[39m    dtype: float64\u001b[39;00m\n\u001b[0;32m   4432\u001b[0m \u001b[39m    \"\"\"\u001b[39;00m\n\u001b[1;32m-> 4433\u001b[0m     \u001b[39mreturn\u001b[39;00m SeriesApply(\u001b[39mself\u001b[39;49m, func, convert_dtype, args, kwargs)\u001b[39m.\u001b[39;49mapply()\n",
            "File \u001b[1;32mc:\\Users\\poomk\\miniconda3\\envs\\dataenv\\lib\\site-packages\\pandas\\core\\apply.py:1082\u001b[0m, in \u001b[0;36mSeriesApply.apply\u001b[1;34m(self)\u001b[0m\n\u001b[0;32m   1078\u001b[0m \u001b[39mif\u001b[39;00m \u001b[39misinstance\u001b[39m(\u001b[39mself\u001b[39m\u001b[39m.\u001b[39mf, \u001b[39mstr\u001b[39m):\n\u001b[0;32m   1079\u001b[0m     \u001b[39m# if we are a string, try to dispatch\u001b[39;00m\n\u001b[0;32m   1080\u001b[0m     \u001b[39mreturn\u001b[39;00m \u001b[39mself\u001b[39m\u001b[39m.\u001b[39mapply_str()\n\u001b[1;32m-> 1082\u001b[0m \u001b[39mreturn\u001b[39;00m \u001b[39mself\u001b[39;49m\u001b[39m.\u001b[39;49mapply_standard()\n",
            "File \u001b[1;32mc:\\Users\\poomk\\miniconda3\\envs\\dataenv\\lib\\site-packages\\pandas\\core\\apply.py:1137\u001b[0m, in \u001b[0;36mSeriesApply.apply_standard\u001b[1;34m(self)\u001b[0m\n\u001b[0;32m   1131\u001b[0m         values \u001b[39m=\u001b[39m obj\u001b[39m.\u001b[39mastype(\u001b[39mobject\u001b[39m)\u001b[39m.\u001b[39m_values\n\u001b[0;32m   1132\u001b[0m         \u001b[39m# error: Argument 2 to \"map_infer\" has incompatible type\u001b[39;00m\n\u001b[0;32m   1133\u001b[0m         \u001b[39m# \"Union[Callable[..., Any], str, List[Union[Callable[..., Any], str]],\u001b[39;00m\n\u001b[0;32m   1134\u001b[0m         \u001b[39m# Dict[Hashable, Union[Union[Callable[..., Any], str],\u001b[39;00m\n\u001b[0;32m   1135\u001b[0m         \u001b[39m# List[Union[Callable[..., Any], str]]]]]\"; expected\u001b[39;00m\n\u001b[0;32m   1136\u001b[0m         \u001b[39m# \"Callable[[Any], Any]\"\u001b[39;00m\n\u001b[1;32m-> 1137\u001b[0m         mapped \u001b[39m=\u001b[39m lib\u001b[39m.\u001b[39;49mmap_infer(\n\u001b[0;32m   1138\u001b[0m             values,\n\u001b[0;32m   1139\u001b[0m             f,  \u001b[39m# type: ignore[arg-type]\u001b[39;49;00m\n\u001b[0;32m   1140\u001b[0m             convert\u001b[39m=\u001b[39;49m\u001b[39mself\u001b[39;49m\u001b[39m.\u001b[39;49mconvert_dtype,\n\u001b[0;32m   1141\u001b[0m         )\n\u001b[0;32m   1143\u001b[0m \u001b[39mif\u001b[39;00m \u001b[39mlen\u001b[39m(mapped) \u001b[39mand\u001b[39;00m \u001b[39misinstance\u001b[39m(mapped[\u001b[39m0\u001b[39m], ABCSeries):\n\u001b[0;32m   1144\u001b[0m     \u001b[39m# GH#43986 Need to do list(mapped) in order to get treated as nested\u001b[39;00m\n\u001b[0;32m   1145\u001b[0m     \u001b[39m#  See also GH#25959 regarding EA support\u001b[39;00m\n\u001b[0;32m   1146\u001b[0m     \u001b[39mreturn\u001b[39;00m obj\u001b[39m.\u001b[39m_constructor_expanddim(\u001b[39mlist\u001b[39m(mapped), index\u001b[39m=\u001b[39mobj\u001b[39m.\u001b[39mindex)\n",
            "File \u001b[1;32mc:\\Users\\poomk\\miniconda3\\envs\\dataenv\\lib\\site-packages\\pandas\\_libs\\lib.pyx:2870\u001b[0m, in \u001b[0;36mpandas._libs.lib.map_infer\u001b[1;34m()\u001b[0m\n",
            "\u001b[1;32mc:\\Users\\poomk\\OneDrive\\Desktop\\Youtube_Analysis\\SIADS696\\Dataset_setup_Ajinkya.ipynb Cell 20\u001b[0m in \u001b[0;36mcreate_dataset.<locals>.<lambda>\u001b[1;34m(x)\u001b[0m\n\u001b[0;32m     <a href='vscode-notebook-cell:/c%3A/Users/poomk/OneDrive/Desktop/Youtube_Analysis/SIADS696/Dataset_setup_Ajinkya.ipynb#X25sZmlsZQ%3D%3D?line=13'>14</a>\u001b[0m df[\u001b[39m'\u001b[39m\u001b[39mtags\u001b[39m\u001b[39m'\u001b[39m] \u001b[39m=\u001b[39m df\u001b[39m.\u001b[39mtags\u001b[39m.\u001b[39mapply(\u001b[39mlambda\u001b[39;00m x: topic_extract(x))\n\u001b[0;32m     <a href='vscode-notebook-cell:/c%3A/Users/poomk/OneDrive/Desktop/Youtube_Analysis/SIADS696/Dataset_setup_Ajinkya.ipynb#X25sZmlsZQ%3D%3D?line=14'>15</a>\u001b[0m df[\u001b[39m'\u001b[39m\u001b[39mchannelTitle\u001b[39m\u001b[39m'\u001b[39m] \u001b[39m=\u001b[39m df\u001b[39m.\u001b[39mchannelTitle\u001b[39m.\u001b[39mstr\u001b[39m.\u001b[39mlower()\n\u001b[1;32m---> <a href='vscode-notebook-cell:/c%3A/Users/poomk/OneDrive/Desktop/Youtube_Analysis/SIADS696/Dataset_setup_Ajinkya.ipynb#X25sZmlsZQ%3D%3D?line=15'>16</a>\u001b[0m df[\u001b[39m'\u001b[39m\u001b[39mdescription\u001b[39m\u001b[39m'\u001b[39m] \u001b[39m=\u001b[39m df\u001b[39m.\u001b[39mdescription\u001b[39m.\u001b[39mapply(\u001b[39mlambda\u001b[39;00m x: text_prep(x))\n\u001b[0;32m     <a href='vscode-notebook-cell:/c%3A/Users/poomk/OneDrive/Desktop/Youtube_Analysis/SIADS696/Dataset_setup_Ajinkya.ipynb#X25sZmlsZQ%3D%3D?line=16'>17</a>\u001b[0m df[\u001b[39m'\u001b[39m\u001b[39mtitle\u001b[39m\u001b[39m'\u001b[39m] \u001b[39m=\u001b[39m df\u001b[39m.\u001b[39mtitle\u001b[39m.\u001b[39mapply(\u001b[39mlambda\u001b[39;00m x: text_prep(x))\n\u001b[0;32m     <a href='vscode-notebook-cell:/c%3A/Users/poomk/OneDrive/Desktop/Youtube_Analysis/SIADS696/Dataset_setup_Ajinkya.ipynb#X25sZmlsZQ%3D%3D?line=17'>18</a>\u001b[0m df[\u001b[39m'\u001b[39m\u001b[39mlog_duration_secs\u001b[39m\u001b[39m'\u001b[39m] \u001b[39m=\u001b[39m np\u001b[39m.\u001b[39mlog(df\u001b[39m.\u001b[39mduration_secs\u001b[39m+\u001b[39m\u001b[39m1\u001b[39m)\n",
            "\u001b[1;32mc:\\Users\\poomk\\OneDrive\\Desktop\\Youtube_Analysis\\SIADS696\\Dataset_setup_Ajinkya.ipynb Cell 20\u001b[0m in \u001b[0;36mtext_prep\u001b[1;34m(val)\u001b[0m\n\u001b[0;32m     <a href='vscode-notebook-cell:/c%3A/Users/poomk/OneDrive/Desktop/Youtube_Analysis/SIADS696/Dataset_setup_Ajinkya.ipynb#X25sZmlsZQ%3D%3D?line=13'>14</a>\u001b[0m \u001b[39melse\u001b[39;00m:\n\u001b[0;32m     <a href='vscode-notebook-cell:/c%3A/Users/poomk/OneDrive/Desktop/Youtube_Analysis/SIADS696/Dataset_setup_Ajinkya.ipynb#X25sZmlsZQ%3D%3D?line=14'>15</a>\u001b[0m   process_desc \u001b[39m=\u001b[39m [nltk\u001b[39m.\u001b[39mword_tokenize(word) \u001b[39mfor\u001b[39;00m word \u001b[39min\u001b[39;00m process_desc][\u001b[39m0\u001b[39m]\n\u001b[1;32m---> <a href='vscode-notebook-cell:/c%3A/Users/poomk/OneDrive/Desktop/Youtube_Analysis/SIADS696/Dataset_setup_Ajinkya.ipynb#X25sZmlsZQ%3D%3D?line=17'>18</a>\u001b[0m word_list \u001b[39m=\u001b[39m [word \u001b[39mfor\u001b[39;00m word \u001b[39min\u001b[39;00m process_desc \u001b[39mif\u001b[39;00m word \u001b[39mnot\u001b[39;00m \u001b[39min\u001b[39;00m stopwords\u001b[39m.\u001b[39mwords(\u001b[39m'\u001b[39m\u001b[39menglish\u001b[39m\u001b[39m'\u001b[39m)]\n\u001b[0;32m     <a href='vscode-notebook-cell:/c%3A/Users/poomk/OneDrive/Desktop/Youtube_Analysis/SIADS696/Dataset_setup_Ajinkya.ipynb#X25sZmlsZQ%3D%3D?line=20'>21</a>\u001b[0m \u001b[39mreturn\u001b[39;00m word_list\n",
            "\u001b[1;32mc:\\Users\\poomk\\OneDrive\\Desktop\\Youtube_Analysis\\SIADS696\\Dataset_setup_Ajinkya.ipynb Cell 20\u001b[0m in \u001b[0;36m<listcomp>\u001b[1;34m(.0)\u001b[0m\n\u001b[0;32m     <a href='vscode-notebook-cell:/c%3A/Users/poomk/OneDrive/Desktop/Youtube_Analysis/SIADS696/Dataset_setup_Ajinkya.ipynb#X25sZmlsZQ%3D%3D?line=13'>14</a>\u001b[0m \u001b[39melse\u001b[39;00m:\n\u001b[0;32m     <a href='vscode-notebook-cell:/c%3A/Users/poomk/OneDrive/Desktop/Youtube_Analysis/SIADS696/Dataset_setup_Ajinkya.ipynb#X25sZmlsZQ%3D%3D?line=14'>15</a>\u001b[0m   process_desc \u001b[39m=\u001b[39m [nltk\u001b[39m.\u001b[39mword_tokenize(word) \u001b[39mfor\u001b[39;00m word \u001b[39min\u001b[39;00m process_desc][\u001b[39m0\u001b[39m]\n\u001b[1;32m---> <a href='vscode-notebook-cell:/c%3A/Users/poomk/OneDrive/Desktop/Youtube_Analysis/SIADS696/Dataset_setup_Ajinkya.ipynb#X25sZmlsZQ%3D%3D?line=17'>18</a>\u001b[0m word_list \u001b[39m=\u001b[39m [word \u001b[39mfor\u001b[39;00m word \u001b[39min\u001b[39;00m process_desc \u001b[39mif\u001b[39;00m word \u001b[39mnot\u001b[39;00m \u001b[39min\u001b[39;00m stopwords\u001b[39m.\u001b[39;49mwords(\u001b[39m'\u001b[39;49m\u001b[39menglish\u001b[39;49m\u001b[39m'\u001b[39;49m)]\n\u001b[0;32m     <a href='vscode-notebook-cell:/c%3A/Users/poomk/OneDrive/Desktop/Youtube_Analysis/SIADS696/Dataset_setup_Ajinkya.ipynb#X25sZmlsZQ%3D%3D?line=20'>21</a>\u001b[0m \u001b[39mreturn\u001b[39;00m word_list\n",
            "File \u001b[1;32mc:\\Users\\poomk\\miniconda3\\envs\\dataenv\\lib\\site-packages\\nltk\\corpus\\reader\\wordlist.py:21\u001b[0m, in \u001b[0;36mWordListCorpusReader.words\u001b[1;34m(self, fileids, ignore_lines_startswith)\u001b[0m\n\u001b[0;32m     18\u001b[0m \u001b[39mdef\u001b[39;00m \u001b[39mwords\u001b[39m(\u001b[39mself\u001b[39m, fileids\u001b[39m=\u001b[39m\u001b[39mNone\u001b[39;00m, ignore_lines_startswith\u001b[39m=\u001b[39m\u001b[39m\"\u001b[39m\u001b[39m\\n\u001b[39;00m\u001b[39m\"\u001b[39m):\n\u001b[0;32m     19\u001b[0m     \u001b[39mreturn\u001b[39;00m [\n\u001b[0;32m     20\u001b[0m         line\n\u001b[1;32m---> 21\u001b[0m         \u001b[39mfor\u001b[39;00m line \u001b[39min\u001b[39;00m line_tokenize(\u001b[39mself\u001b[39;49m\u001b[39m.\u001b[39;49mraw(fileids))\n\u001b[0;32m     22\u001b[0m         \u001b[39mif\u001b[39;00m \u001b[39mnot\u001b[39;00m line\u001b[39m.\u001b[39mstartswith(ignore_lines_startswith)\n\u001b[0;32m     23\u001b[0m     ]\n",
            "File \u001b[1;32mc:\\Users\\poomk\\miniconda3\\envs\\dataenv\\lib\\site-packages\\nltk\\corpus\\reader\\api.py:218\u001b[0m, in \u001b[0;36mCorpusReader.raw\u001b[1;34m(self, fileids)\u001b[0m\n\u001b[0;32m    216\u001b[0m contents \u001b[39m=\u001b[39m []\n\u001b[0;32m    217\u001b[0m \u001b[39mfor\u001b[39;00m f \u001b[39min\u001b[39;00m fileids:\n\u001b[1;32m--> 218\u001b[0m     \u001b[39mwith\u001b[39;00m \u001b[39mself\u001b[39;49m\u001b[39m.\u001b[39;49mopen(f) \u001b[39mas\u001b[39;00m fp:\n\u001b[0;32m    219\u001b[0m         contents\u001b[39m.\u001b[39mappend(fp\u001b[39m.\u001b[39mread())\n\u001b[0;32m    220\u001b[0m \u001b[39mreturn\u001b[39;00m concat(contents)\n",
            "File \u001b[1;32mc:\\Users\\poomk\\miniconda3\\envs\\dataenv\\lib\\site-packages\\nltk\\corpus\\reader\\api.py:231\u001b[0m, in \u001b[0;36mCorpusReader.open\u001b[1;34m(self, file)\u001b[0m\n\u001b[0;32m    223\u001b[0m \u001b[39m\"\"\"\u001b[39;00m\n\u001b[0;32m    224\u001b[0m \u001b[39mReturn an open stream that can be used to read the given file.\u001b[39;00m\n\u001b[0;32m    225\u001b[0m \u001b[39mIf the file's encoding is not None, then the stream will\u001b[39;00m\n\u001b[1;32m   (...)\u001b[0m\n\u001b[0;32m    228\u001b[0m \u001b[39m:param file: The file identifier of the file to read.\u001b[39;00m\n\u001b[0;32m    229\u001b[0m \u001b[39m\"\"\"\u001b[39;00m\n\u001b[0;32m    230\u001b[0m encoding \u001b[39m=\u001b[39m \u001b[39mself\u001b[39m\u001b[39m.\u001b[39mencoding(file)\n\u001b[1;32m--> 231\u001b[0m stream \u001b[39m=\u001b[39m \u001b[39mself\u001b[39;49m\u001b[39m.\u001b[39;49m_root\u001b[39m.\u001b[39;49mjoin(file)\u001b[39m.\u001b[39;49mopen(encoding)\n\u001b[0;32m    232\u001b[0m \u001b[39mreturn\u001b[39;00m stream\n",
            "File \u001b[1;32mc:\\Users\\poomk\\miniconda3\\envs\\dataenv\\lib\\site-packages\\nltk\\data.py:324\u001b[0m, in \u001b[0;36mFileSystemPathPointer.open\u001b[1;34m(self, encoding)\u001b[0m\n\u001b[0;32m    323\u001b[0m \u001b[39mdef\u001b[39;00m \u001b[39mopen\u001b[39m(\u001b[39mself\u001b[39m, encoding\u001b[39m=\u001b[39m\u001b[39mNone\u001b[39;00m):\n\u001b[1;32m--> 324\u001b[0m     stream \u001b[39m=\u001b[39m \u001b[39mopen\u001b[39;49m(\u001b[39mself\u001b[39;49m\u001b[39m.\u001b[39;49m_path, \u001b[39m\"\u001b[39;49m\u001b[39mrb\u001b[39;49m\u001b[39m\"\u001b[39;49m)\n\u001b[0;32m    325\u001b[0m     \u001b[39mif\u001b[39;00m encoding \u001b[39mis\u001b[39;00m \u001b[39mnot\u001b[39;00m \u001b[39mNone\u001b[39;00m:\n\u001b[0;32m    326\u001b[0m         stream \u001b[39m=\u001b[39m SeekableUnicodeStreamReader(stream, encoding)\n",
            "\u001b[1;31mKeyboardInterrupt\u001b[0m: "
          ]
        }
      ],
      "source": [
        "features = ['title', 'description', 'channelTitle',\n",
        " 'categoryId', 'viewCount', 'likeCount',\n",
        " 'commentCount', 'duration_secs', 'log_duration_secs',\n",
        " 'definition', 'topicCategories', 'publishedDayNum',\n",
        " 'publishedDayDelta']\n",
        "\n",
        "preproc1_df = create_dataset(raw_df, features)"
      ]
    },
    {
      "cell_type": "code",
      "execution_count": null,
      "metadata": {
        "colab": {
          "base_uri": "https://localhost:8080/",
          "height": 608
        },
        "id": "TQtMyEfFZbsh",
        "outputId": "2a113035-566f-4fd2-c7a4-43c36928cc65",
        "pycharm": {
          "name": "#%%\n"
        }
      },
      "outputs": [],
      "source": [
        "preproc1_df.sample(5)"
      ]
    },
    {
      "cell_type": "code",
      "execution_count": null,
      "metadata": {
        "colab": {
          "base_uri": "https://localhost:8080/"
        },
        "id": "t0IvTxgCZbvQ",
        "outputId": "0657267c-b824-46aa-c5cc-e95d257caebd",
        "pycharm": {
          "name": "#%%\n"
        }
      },
      "outputs": [],
      "source": [
        "preproc1_df.info()"
      ]
    },
    {
      "cell_type": "markdown",
      "metadata": {
        "id": "2UZA5KbIcLNS",
        "pycharm": {
          "name": "#%% md\n"
        }
      },
      "source": [
        "Let's again take a look at what percentage of data is missing across all the fields."
      ]
    },
    {
      "cell_type": "code",
      "execution_count": null,
      "metadata": {
        "colab": {
          "base_uri": "https://localhost:8080/"
        },
        "id": "XU9z_gY7ZbyY",
        "outputId": "4d89370d-17a2-4d24-b8b9-d423f0ed134f",
        "pycharm": {
          "name": "#%%\n"
        }
      },
      "outputs": [],
      "source": [
        "missing_data_perc_cols = (preproc1_df.isna().sum()/len(preproc1_df))*100\n",
        "missing_data_perc_cols"
      ]
    },
    {
      "cell_type": "code",
      "execution_count": null,
      "metadata": {
        "colab": {
          "base_uri": "https://localhost:8080/"
        },
        "id": "1v-cD0UedKA3",
        "outputId": "1ffa088d-14e7-45f9-b80f-2fdebee62b02",
        "pycharm": {
          "name": "#%%\n"
        }
      },
      "outputs": [],
      "source": [
        "lost_rows_perc = len(preproc1_df.dropna())/len(preproc1_df)*100\n",
        "lost_rows_perc"
      ]
    },
    {
      "cell_type": "markdown",
      "metadata": {
        "id": "CJzvUQV2cUnQ",
        "pycharm": {
          "name": "#%% md\n"
        }
      },
      "source": [
        "It's under 5% in across all cases, which isn't a bad thing at all and we can easily consider dropping the missing fields as we would regularly keep enriching our datastore, which would easily compensate for the missing 5% over time."
      ]
    },
    {
      "cell_type": "code",
      "execution_count": null,
      "metadata": {
        "id": "el2ILYIT5CuN",
        "pycharm": {
          "name": "#%%\n"
        }
      },
      "outputs": [],
      "source": [
        "preproc2_df = preproc1_df.dropna()"
      ]
    },
    {
      "cell_type": "code",
      "execution_count": null,
      "metadata": {
        "colab": {
          "base_uri": "https://localhost:8080/"
        },
        "id": "okxXKRxo5CxC",
        "outputId": "c8b6bb15-7bed-4643-f3ef-51073f3b2d17",
        "pycharm": {
          "name": "#%%\n"
        }
      },
      "outputs": [],
      "source": [
        "preproc2_df.isna().sum()"
      ]
    },
    {
      "cell_type": "code",
      "execution_count": null,
      "metadata": {
        "colab": {
          "base_uri": "https://localhost:8080/",
          "height": 297
        },
        "id": "2J7gwINo5Czy",
        "outputId": "8471c227-399d-45da-f425-941befc9fc9d",
        "pycharm": {
          "name": "#%%\n"
        }
      },
      "outputs": [],
      "source": [
        "preproc2_df.drop('categoryId', axis=1).describe()"
      ]
    },
    {
      "cell_type": "code",
      "execution_count": null,
      "metadata": {
        "colab": {
          "base_uri": "https://localhost:8080/",
          "height": 266
        },
        "id": "R-ye303SeWqR",
        "outputId": "7cf7df8e-b356-490a-8923-66546439671e",
        "pycharm": {
          "name": "#%%\n"
        }
      },
      "outputs": [],
      "source": [
        "preproc2_df.drop('categoryId', axis=1).corr()"
      ]
    },
    {
      "cell_type": "code",
      "execution_count": null,
      "metadata": {
        "colab": {
          "base_uri": "https://localhost:8080/",
          "height": 499
        },
        "id": "EX-poBN0kbLM",
        "outputId": "49ba3f2b-a384-4e36-d24c-2e0c1794b987",
        "pycharm": {
          "name": "#%%\n"
        }
      },
      "outputs": [],
      "source": [
        "preproc2_df.drop('categoryId', axis=1).hist(figsize=(8,8));"
      ]
    },
    {
      "cell_type": "markdown",
      "metadata": {
        "id": "JWSkcP6QkhCr",
        "pycharm": {
          "name": "#%% md\n"
        }
      },
      "source": [
        "We could consider applying a transformation to the data, to help address the heavy left-skew on most numerical features."
      ]
    },
    {
      "cell_type": "markdown",
      "metadata": {
        "id": "kpFgdIRye_xq",
        "pycharm": {
          "name": "#%% md\n"
        }
      },
      "source": [
        "Let's quickly set the same steps up for the `overall_stats_raw_df` df."
      ]
    },
    {
      "cell_type": "code",
      "execution_count": null,
      "metadata": {
        "colab": {
          "base_uri": "https://localhost:8080/",
          "height": 204
        },
        "id": "H48y6gUie4ZS",
        "outputId": "9a300a69-702d-46d6-c7cd-2414df770179",
        "pycharm": {
          "name": "#%%\n"
        }
      },
      "outputs": [],
      "source": [
        "overall_stats_raw_df.head()"
      ]
    },
    {
      "cell_type": "code",
      "execution_count": null,
      "metadata": {
        "colab": {
          "base_uri": "https://localhost:8080/"
        },
        "id": "DtktnMLEe4cA",
        "outputId": "504b1e15-c7df-4d8d-fc2c-4125edba9ddf",
        "pycharm": {
          "name": "#%%\n"
        }
      },
      "outputs": [],
      "source": [
        "overall_stats_raw_df.dtypes"
      ]
    },
    {
      "cell_type": "code",
      "execution_count": null,
      "metadata": {
        "id": "i3dDxWice4ef",
        "pycharm": {
          "name": "#%%\n"
        }
      },
      "outputs": [],
      "source": [
        "ov_features = ['channelName', 'ov_viewCount', 'ov_subscriberCount', 'ov_videoCount']\n",
        "ov_stats_pre_df1 = create_dataset(overall_stats_raw_df, ov_features, primary=False)"
      ]
    },
    {
      "cell_type": "code",
      "execution_count": null,
      "metadata": {
        "colab": {
          "base_uri": "https://localhost:8080/",
          "height": 204
        },
        "id": "X6g_BYTSe4hV",
        "outputId": "5333b767-525a-4668-af20-71f45a471872",
        "pycharm": {
          "name": "#%%\n"
        }
      },
      "outputs": [],
      "source": [
        "ov_stats_pre_df1.head()"
      ]
    },
    {
      "cell_type": "code",
      "execution_count": null,
      "metadata": {
        "colab": {
          "base_uri": "https://localhost:8080/"
        },
        "id": "FfgaWA8V45MV",
        "outputId": "41587816-817e-4af2-b5a6-f8e9a51b1fa2",
        "pycharm": {
          "name": "#%%\n"
        }
      },
      "outputs": [],
      "source": [
        "ov_stats_pre_df1.isna().sum()"
      ]
    },
    {
      "cell_type": "markdown",
      "metadata": {
        "id": "kWT7M_k0m45b",
        "pycharm": {
          "name": "#%% md\n"
        }
      },
      "source": [
        "With both the datasets ready and a basic relation overview amongst the features, we can now move onto the phase of text processing to make it machine interpretable."
      ]
    },
    {
      "cell_type": "code",
      "execution_count": null,
      "metadata": {
        "colab": {
          "base_uri": "https://localhost:8080/",
          "height": 591
        },
        "id": "DQv5dVa_S1oe",
        "outputId": "3bf29a0f-cd11-4705-dd6b-bff45d8d59cc",
        "pycharm": {
          "name": "#%%\n"
        }
      },
      "outputs": [],
      "source": [
        "df = pd.merge(preproc2_df, ov_stats_pre_df1, how='left', left_on='channelTitle', right_on='channelName')\n",
        "df.head()"
      ]
    },
    {
      "cell_type": "code",
      "execution_count": null,
      "metadata": {
        "id": "FZnJtYcUCbXw",
        "pycharm": {
          "name": "#%%\n"
        }
      },
      "outputs": [],
      "source": [
        "df['std_viewCount'] = df.groupby('channelTitle').viewCount.apply(lambda x: (x - x.mean()) / x.std()).values\n",
        "# basic_model_data['log_duration_secs'] = np.log(basic_model_data.duration_secs+1)\n"
      ]
    },
    {
      "cell_type": "code",
      "execution_count": null,
      "metadata": {
        "id": "hchCQuvhTNRD",
        "pycharm": {
          "name": "#%%\n"
        }
      },
      "outputs": [],
      "source": [
        "unique_topics_list = set()\n",
        "for topic_list in df.topicCategories.values:\n",
        "  for topic in topic_list:\n",
        "    unique_topics_list.add(topic)\n",
        "\n",
        "unique_titles_word_list = set()\n",
        "for topic_list in df.title.values:\n",
        "  for topic in topic_list:\n",
        "    unique_titles_word_list.add(topic)"
      ]
    },
    {
      "cell_type": "code",
      "execution_count": null,
      "metadata": {
        "id": "wdThw77_YjVE",
        "pycharm": {
          "name": "#%%\n"
        }
      },
      "outputs": [],
      "source": [
        "# unique_titles_word_list"
      ]
    },
    {
      "cell_type": "code",
      "execution_count": null,
      "metadata": {
        "colab": {
          "base_uri": "https://localhost:8080/",
          "height": 204
        },
        "id": "ouZJO-GlaAAW",
        "outputId": "d972cbde-eab0-44a5-9dc1-eeb722374a58",
        "pycharm": {
          "name": "#%%\n"
        }
      },
      "outputs": [],
      "source": [
        "basic_model_features = ['title', 'topicCategories', 'definition', 'publishedDayNum', 'log_duration_secs', 'std_viewCount', 'publishedDayDelta']\n",
        "basic_model_data = df[basic_model_features]\n",
        "\n",
        "basic_model_data.head()"
      ]
    },
    {
      "cell_type": "code",
      "execution_count": null,
      "metadata": {
        "colab": {
          "base_uri": "https://localhost:8080/",
          "height": 280
        },
        "id": "htD-0uJkehjo",
        "outputId": "d4631a21-6743-4420-e62b-dc9d2f323ec8",
        "pycharm": {
          "name": "#%%\n"
        }
      },
      "outputs": [],
      "source": [
        "import seaborn as sns\n",
        "#b4 transform\n",
        "sns.distplot(basic_model_data.log_duration_secs+1);"
      ]
    },
    {
      "cell_type": "code",
      "execution_count": null,
      "metadata": {
        "id": "f_cfd7yuvx6q",
        "pycharm": {
          "name": "#%%\n"
        }
      },
      "outputs": [],
      "source": [
        "#after transform\n",
        "# sns.distplot(np.log(basic_model_data.duration_secs+1));"
      ]
    },
    {
      "cell_type": "code",
      "execution_count": null,
      "metadata": {
        "id": "wBqz64QEow4x"
      },
      "outputs": [],
      "source": [
        "# sns.distplot(basic_model_data.publishedDayDelta);"
      ]
    },
    {
      "cell_type": "code",
      "execution_count": null,
      "metadata": {
        "id": "HtQu1FwAbXLL",
        "pycharm": {
          "name": "#%%\n"
        }
      },
      "outputs": [],
      "source": [
        "word2vec_titles = Word2Vec(basic_model_data.title, min_count=1)\n",
        "word2vec_topics = Word2Vec(basic_model_data.topicCategories, min_count=1)"
      ]
    },
    {
      "cell_type": "code",
      "execution_count": null,
      "metadata": {
        "colab": {
          "base_uri": "https://localhost:8080/"
        },
        "id": "XjCqmQ87rsHI",
        "outputId": "9b27a411-4b4a-4e57-cd8f-381cc3ddf276",
        "pycharm": {
          "name": "#%%\n"
        }
      },
      "outputs": [],
      "source": [
        "# word2vec_titles.wv.vocab\n",
        "word2vec_titles.wv['artificial'].shape"
      ]
    },
    {
      "cell_type": "code",
      "execution_count": null,
      "metadata": {
        "id": "1mKk_Afasedj",
        "pycharm": {
          "name": "#%%\n"
        }
      },
      "outputs": [],
      "source": [
        "# word2vec_titles.most_similar('travel')"
      ]
    },
    {
      "cell_type": "code",
      "execution_count": null,
      "metadata": {
        "id": "60W1r2aKtUal",
        "pycharm": {
          "name": "#%%\n"
        }
      },
      "outputs": [],
      "source": [
        "def w2v_models(df, col_list):\n",
        "\n",
        "  model_dict = {}\n",
        "  for col in col_list:\n",
        "    model_dict[col] = Word2Vec(df[col], min_count=1)\n",
        "  \n",
        "  return model_dict"
      ]
    },
    {
      "cell_type": "code",
      "execution_count": null,
      "metadata": {
        "id": "FNlOQoyUyMZz",
        "pycharm": {
          "name": "#%%\n"
        }
      },
      "outputs": [],
      "source": [
        "w2v_model_dict = w2v_models(basic_model_data, ['title', 'topicCategories'])"
      ]
    },
    {
      "cell_type": "code",
      "execution_count": null,
      "metadata": {
        "colab": {
          "base_uri": "https://localhost:8080/"
        },
        "id": "snXGyKHY0twY",
        "outputId": "9d96f105-ee2b-4aa1-e519-3ca23bba50ed",
        "pycharm": {
          "name": "#%%\n"
        }
      },
      "outputs": [],
      "source": [
        "w2v_model_dict"
      ]
    },
    {
      "cell_type": "code",
      "execution_count": null,
      "metadata": {
        "id": "UX7fFVaz0x-g",
        "pycharm": {
          "name": "#%%\n"
        }
      },
      "outputs": [],
      "source": [
        "def vectorise_text(df, model):\n",
        "  arr = np.zeros(100)\n",
        "  for word in df:\n",
        "    arr+=model.wv[word]\n",
        "    \n",
        "  return(np.mean(np.expand_dims(arr, axis=1), axis=1))"
      ]
    },
    {
      "cell_type": "code",
      "execution_count": null,
      "metadata": {
        "colab": {
          "base_uri": "https://localhost:8080/"
        },
        "id": "QTwyrG4f342n",
        "outputId": "4c1df58e-25a5-477e-98f6-d77028947f3f",
        "pycharm": {
          "name": "#%%\n"
        }
      },
      "outputs": [],
      "source": [
        "# vectorise_text([\"science\", \"art\"], w2v_model_dict['title'])\n",
        "basic_model_data.columns"
      ]
    },
    {
      "cell_type": "code",
      "execution_count": null,
      "metadata": {
        "id": "HD164gry56tH",
        "pycharm": {
          "name": "#%%\n"
        }
      },
      "outputs": [],
      "source": [
        "basic_model_data['vec_title'] = basic_model_data.title.apply(vectorise_text, model=w2v_model_dict['title'])\n",
        "basic_model_data['vec_topicCategories'] = basic_model_data.topicCategories.apply(vectorise_text, model=w2v_model_dict['topicCategories'])"
      ]
    },
    {
      "cell_type": "code",
      "execution_count": null,
      "metadata": {
        "colab": {
          "base_uri": "https://localhost:8080/"
        },
        "id": "jHstv5vOACVg",
        "outputId": "8e2d16d9-aa66-4e44-8fcf-5085ed62f85d",
        "pycharm": {
          "name": "#%%\n"
        }
      },
      "outputs": [],
      "source": [
        "['title', 'topicCategories', 'definition', 'publishedDayNum', 'log_duration_secs', 'std_viewCount', 'publishedDayDelta']"
      ]
    },
    {
      "cell_type": "code",
      "execution_count": null,
      "metadata": {
        "id": "2esqtMdv1kvA"
      },
      "outputs": [],
      "source": []
    },
    {
      "cell_type": "code",
      "execution_count": null,
      "metadata": {
        "id": "-NuUWR_P9mst",
        "pycharm": {
          "name": "#%%\n"
        }
      },
      "outputs": [],
      "source": [
        "titles = pd.DataFrame(basic_model_data.vec_title.tolist(), index= basic_model_data.index, columns=[\"title_\"+str(i) for i in range(1,101)])\n",
        "topics = pd.DataFrame(basic_model_data.vec_topicCategories.tolist(), index= basic_model_data.index, columns=[\"topics_\"+str(i) for i in range(1,101)])\n"
      ]
    },
    {
      "cell_type": "code",
      "execution_count": null,
      "metadata": {
        "id": "tYH9RTCwATRr",
        "pycharm": {
          "name": "#%%\n"
        }
      },
      "outputs": [],
      "source": [
        "data_df = pd.concat([titles, topics, basic_model_data[['publishedDayNum', 'log_duration_secs', 'std_viewCount', 'publishedDayDelta']], pd.get_dummies(basic_model_data.definition)], axis=1)"
      ]
    },
    {
      "cell_type": "code",
      "execution_count": null,
      "metadata": {
        "colab": {
          "base_uri": "https://localhost:8080/",
          "height": 297
        },
        "id": "mxav80BUAfKU",
        "outputId": "22c15ef9-6cd7-4393-9855-cac5fd7face2",
        "pycharm": {
          "name": "#%%\n"
        }
      },
      "outputs": [],
      "source": [
        "data_df.head()"
      ]
    },
    {
      "cell_type": "code",
      "execution_count": null,
      "metadata": {
        "id": "DOL2fVOqCN1y",
        "pycharm": {
          "name": "#%%\n"
        }
      },
      "outputs": [],
      "source": [
        "from sklearn.model_selection import train_test_split\n",
        "from sklearn.preprocessing import StandardScaler\n",
        "from sklearn.decomposition import PCA"
      ]
    },
    {
      "cell_type": "code",
      "execution_count": null,
      "metadata": {
        "id": "IafoRDfiB_6L",
        "pycharm": {
          "name": "#%%\n"
        }
      },
      "outputs": [],
      "source": [
        "data_train, data_test = train_test_split(data_df, test_size=0.20, random_state=42)"
      ]
    },
    {
      "cell_type": "code",
      "execution_count": null,
      "metadata": {
        "id": "uELPK5OiCsIq",
        "pycharm": {
          "name": "#%%\n"
        }
      },
      "outputs": [],
      "source": [
        "train_X = data_train.drop(\"std_viewCount\", axis=1)\n",
        "train_y = data_train.std_viewCount\n",
        "\n",
        "test_X = data_test.drop(\"std_viewCount\", axis=1)\n",
        "test_y = data_test.std_viewCount"
      ]
    },
    {
      "cell_type": "code",
      "execution_count": null,
      "metadata": {
        "id": "8XQ7khYVwaQW"
      },
      "outputs": [],
      "source": []
    },
    {
      "cell_type": "code",
      "execution_count": null,
      "metadata": {
        "id": "_6BmGj1dNvJC",
        "pycharm": {
          "name": "#%%\n"
        }
      },
      "outputs": [],
      "source": [
        "# train_X"
      ]
    },
    {
      "cell_type": "code",
      "execution_count": null,
      "metadata": {
        "id": "EslSOArDCpOJ",
        "pycharm": {
          "name": "#%%\n"
        }
      },
      "outputs": [],
      "source": [
        "sc = StandardScaler()\n",
        "train_X = sc.fit_transform(train_X)\n",
        "test_X = sc.transform(test_X)\n",
        "\n"
      ]
    },
    {
      "cell_type": "code",
      "execution_count": null,
      "metadata": {
        "colab": {
          "base_uri": "https://localhost:8080/"
        },
        "id": "yPvtZSTpOiOr",
        "outputId": "f9da02d8-9e56-4ae1-a074-81fbe0c548cf",
        "pycharm": {
          "name": "#%%\n"
        }
      },
      "outputs": [],
      "source": [
        "pca = PCA(n_components=20)\n",
        "pca.fit(train_X)\n",
        "# print(()))"
      ]
    },
    {
      "cell_type": "code",
      "execution_count": null,
      "metadata": {
        "colab": {
          "base_uri": "https://localhost:8080/",
          "height": 265
        },
        "id": "l0Iyzg7mPZSO",
        "outputId": "d38ee453-023d-4831-e707-c6c7694c440c",
        "pycharm": {
          "name": "#%%\n"
        }
      },
      "outputs": [],
      "source": [
        "import matplotlib.pyplot as plt\n",
        "##SCREE PLOT\n",
        "plt.plot(np.linspace(1,21,20),pca.explained_variance_ratio_);"
      ]
    },
    {
      "cell_type": "code",
      "execution_count": null,
      "metadata": {
        "colab": {
          "base_uri": "https://localhost:8080/",
          "height": 265
        },
        "id": "mraQ_KyURvY6",
        "outputId": "b9463359-671f-4d87-c15d-72f8255bfc8a",
        "pycharm": {
          "name": "#%%\n"
        }
      },
      "outputs": [],
      "source": [
        "pca = PCA(n_components=5) #components based on the scree plot above\n",
        "\n",
        "pca_train_X = pca.fit_transform(train_X)\n",
        "\n",
        "plt.scatter(pca_train_X[:,0], train_y);"
      ]
    },
    {
      "cell_type": "markdown",
      "metadata": {
        "id": "V8__-brQSZ9s",
        "pycharm": {
          "name": "#%% md\n"
        }
      },
      "source": [
        "based on the first PCA, it is clear that the data is not linear and we would have to bear that in mind with the choice of our models"
      ]
    },
    {
      "cell_type": "code",
      "execution_count": null,
      "metadata": {
        "colab": {
          "base_uri": "https://localhost:8080/"
        },
        "id": "ipasXemXSCog",
        "outputId": "557cd98c-ebe5-48dc-9396-ad678ce4c6be",
        "pycharm": {
          "name": "#%%\n"
        }
      },
      "outputs": [],
      "source": [
        "pca_train_X.shape, train_y.shape"
      ]
    },
    {
      "cell_type": "code",
      "execution_count": null,
      "metadata": {
        "id": "aMer3-bhOuhM",
        "pycharm": {
          "name": "#%%\n"
        }
      },
      "outputs": [],
      "source": [
        "pca = PCA(n_components=5) #components based on the scree plot above\n",
        "\n",
        "pca_train_X = pca.fit_transform(train_X)\n",
        "pca_test_X = pca.transform(test_X)\n"
      ]
    },
    {
      "cell_type": "code",
      "execution_count": null,
      "metadata": {
        "id": "rDPvtLiPDodO",
        "pycharm": {
          "name": "#%%\n"
        }
      },
      "outputs": [],
      "source": [
        "from sklearn.linear_model import LinearRegression, Ridge, Lasso\n",
        "from sklearn.dummy import DummyRegressor\n",
        "from sklearn.svm import SVR\n",
        "from sklearn.tree import DecisionTreeRegressor\n",
        "from sklearn.preprocessing import PolynomialFeatures\n",
        "\n",
        "from sklearn import metrics\n",
        "from sklearn.model_selection import cross_val_score\n",
        "from sklearn.model_selection import cross_validate\n"
      ]
    },
    {
      "cell_type": "code",
      "execution_count": null,
      "metadata": {
        "id": "pNGegwWhQvQZ",
        "pycharm": {
          "name": "#%%\n"
        }
      },
      "outputs": [],
      "source": [
        "train_X=pca_train_X\n",
        "test_X=pca_test_X"
      ]
    },
    {
      "cell_type": "code",
      "execution_count": null,
      "metadata": {
        "id": "Bsa46UbMJUaL"
      },
      "outputs": [],
      "source": [
        "# data_train.sample(frac=0.2,replace=True)"
      ]
    },
    {
      "cell_type": "code",
      "execution_count": null,
      "metadata": {
        "id": "aRyNs-xm3P3V"
      },
      "outputs": [],
      "source": [
        "x_poly_train = PolynomialFeatures(3).fit_transform(train_X)\n",
        "x_poly_test = PolynomialFeatures(3).transform(test_X)\n",
        "\n",
        "train_X = x_poly_train\n",
        "test_X = x_poly_test"
      ]
    },
    {
      "cell_type": "code",
      "execution_count": null,
      "metadata": {
        "id": "hgPnLd6CDp97",
        "pycharm": {
          "name": "#%%\n"
        }
      },
      "outputs": [],
      "source": [
        "lr = LinearRegression(fit_intercept=False)\n",
        "llr = Lasso(alpha=0.1)\n",
        "rr = Ridge(alpha=1.0)\n",
        "dr = DummyRegressor(strategy=\"mean\")\n",
        "svr = SVR(kernel = 'linear')\n",
        "dtr = DecisionTreeRegressor(max_depth=2)\n",
        "\n",
        "lr.fit(train_X, train_y)\n",
        "llr.fit(train_X, train_y)\n",
        "rr.fit(train_X, train_y)\n",
        "dr.fit(train_X, train_y)\n",
        "# svr.fit(train_X, train_y)\n",
        "dtr.fit(train_X, train_y)"
      ]
    },
    {
      "cell_type": "code",
      "execution_count": null,
      "metadata": {
        "colab": {
          "base_uri": "https://localhost:8080/"
        },
        "id": "yTWMTpu5FPwV",
        "outputId": "7238db7a-35f7-4b69-e7e3-3e77558350c0",
        "pycharm": {
          "name": "#%%\n"
        }
      },
      "outputs": [],
      "source": [
        "lr.score(train_X, train_y)\n",
        "# cross_val_score(dtr, train_X, train_y, cv=5)"
      ]
    },
    {
      "cell_type": "code",
      "execution_count": null,
      "metadata": {
        "id": "optrqxHUEyKH",
        "pycharm": {
          "name": "#%%\n"
        }
      },
      "outputs": [],
      "source": [
        "lr_pred = lr.predict(test_X)\n",
        "dr_pred = dr.predict(test_X)\n",
        "rr_pred = rr.predict(test_X)\n",
        "# svr_pred = svr.predict(test_X)\n",
        "dtr_pred = dtr.predict(test_X)\n",
        "llr_pred = llr.predict(test_X)"
      ]
    },
    {
      "cell_type": "code",
      "execution_count": null,
      "metadata": {
        "id": "N1OJ4OckIQ0T",
        "pycharm": {
          "name": "#%%\n"
        }
      },
      "outputs": [],
      "source": [
        "def ret_metrics(test_y, pred):\n",
        "\n",
        "  mae = metrics.mean_absolute_error(test_y, pred)\n",
        "  mse = metrics.mean_squared_error(test_y, pred)\n",
        "  rmse = np.sqrt(mse)\n",
        "\n",
        "  return(mae, mse, rmse)"
      ]
    },
    {
      "cell_type": "code",
      "execution_count": null,
      "metadata": {
        "colab": {
          "base_uri": "https://localhost:8080/"
        },
        "id": "ZDDvGnRpE5Mz",
        "outputId": "8dc98f17-4721-4581-c9a2-5a0d26e84f38",
        "pycharm": {
          "name": "#%%\n"
        }
      },
      "outputs": [],
      "source": [
        "print(f\"LR metrics for mae, mse, rmse are: {ret_metrics(test_y, lr_pred)}\")\n",
        "print(f\"LLR metrics for mae, mse, rmse are: {ret_metrics(test_y, llr_pred)}\")\n",
        "print(f\"DR metrics for mae, mse, rmse are: {ret_metrics(test_y, dr_pred)}\")\n",
        "print(f\"RR metrics for mae, mse, rmse are: {ret_metrics(test_y, rr_pred)}\")\n",
        "# print(f\"SVR metrics for mae, mse, rmse are: {ret_metrics(test_y, svr_pred)}\")\n",
        "print(f\"DTR metrics for mae, mse, rmse are: {ret_metrics(test_y, dtr_pred)}\")\n"
      ]
    },
    {
      "cell_type": "code",
      "execution_count": null,
      "metadata": {
        "id": "2jHy5LJXGt-z",
        "pycharm": {
          "name": "#%%\n"
        }
      },
      "outputs": [],
      "source": [
        "preds_df = pd.DataFrame({\"true\":test_y, \"lr\":lr_pred, \"dr\":dr_pred, \"rr\":rr_pred, \"svr\":-1, \"dtr\":dtr_pred, \"llr\":llr_pred })"
      ]
    },
    {
      "cell_type": "code",
      "execution_count": null,
      "metadata": {
        "colab": {
          "base_uri": "https://localhost:8080/",
          "height": 419
        },
        "id": "A784hHYPHV_6",
        "outputId": "11aca888-e14f-474f-89b9-711c4d43c2af",
        "pycharm": {
          "name": "#%%\n"
        }
      },
      "outputs": [],
      "source": [
        "preds_df"
      ]
    },
    {
      "cell_type": "code",
      "execution_count": null,
      "metadata": {
        "id": "soIFw58rHWCp",
        "pycharm": {
          "name": "#%%\n"
        }
      },
      "outputs": [],
      "source": [
        "lists = sorted(zip(*[test_y, dtr_pred]))\n",
        "sorted_x_test, sorted_y_test_pred = list(zip(*lists))\n",
        "pca_n = 1\n",
        "\n",
        "plt.plot(pca_train_X[:,pca_n],train_y,'.',color=\"darkblue\", alpha=0.3,label=\"Train data\")\n",
        "plt.plot(pca_test_X[:,pca_n],test_y,'.',color='darkgreen', alpha=0.3, label=\"Test data\")\n",
        "plt.ylabel('Relative Title Quality')\n",
        "plt.xlabel('PCA componenet')\n",
        "\n",
        "plt.plot(sorted_x_test,sorted_y_test_pred,color='#FD8E70',linewidth=3, label=\"Best model\")\n",
        "\n",
        "plt.legend()\n",
        "plt.show()"
      ]
    },
    {
      "cell_type": "code",
      "execution_count": null,
      "metadata": {
        "id": "Ih-VBmdlHWFg",
        "pycharm": {
          "name": "#%%\n"
        }
      },
      "outputs": [],
      "source": []
    },
    {
      "cell_type": "code",
      "execution_count": null,
      "metadata": {
        "id": "hqP0BaNxHWIQ",
        "pycharm": {
          "name": "#%%\n"
        }
      },
      "outputs": [],
      "source": []
    },
    {
      "cell_type": "code",
      "execution_count": null,
      "metadata": {
        "id": "REuRl0tuHWLF",
        "pycharm": {
          "name": "#%%\n"
        }
      },
      "outputs": [],
      "source": []
    },
    {
      "cell_type": "code",
      "execution_count": null,
      "metadata": {
        "id": "o_6zacADHWN6",
        "pycharm": {
          "name": "#%%\n"
        }
      },
      "outputs": [],
      "source": []
    },
    {
      "cell_type": "code",
      "execution_count": null,
      "metadata": {
        "id": "_cQKF_YYHWQu",
        "pycharm": {
          "name": "#%%\n"
        }
      },
      "outputs": [],
      "source": []
    },
    {
      "cell_type": "markdown",
      "metadata": {
        "id": "uMxSEO9HB9o8",
        "pycharm": {
          "name": "#%% md\n"
        }
      },
      "source": []
    }
  ],
  "metadata": {
    "colab": {
      "include_colab_link": true,
      "provenance": []
    },
    "kernelspec": {
      "display_name": "Python 3.10.4 ('dataenv')",
      "language": "python",
      "name": "python3"
    },
    "language_info": {
      "codemirror_mode": {
        "name": "ipython",
        "version": 3
      },
      "file_extension": ".py",
      "mimetype": "text/x-python",
      "name": "python",
      "nbconvert_exporter": "python",
      "pygments_lexer": "ipython3",
      "version": "3.10.4"
    },
    "vscode": {
      "interpreter": {
        "hash": "467f60c46b88ea196e8e4e51716c4f14b05141d893e1660e0038b81da854c476"
      }
    }
  },
  "nbformat": 4,
  "nbformat_minor": 0
}
