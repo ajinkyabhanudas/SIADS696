{
  "cells": [
    {
      "cell_type": "markdown",
      "metadata": {
        "id": "view-in-github",
        "colab_type": "text"
      },
      "source": [
        "<a href=\"https://colab.research.google.com/github/ajinkyabhanudas/SIADS696/blob/dev/Dataset_setup_Ajinkya.ipynb\" target=\"_parent\"><img src=\"https://colab.research.google.com/assets/colab-badge.svg\" alt=\"Open In Colab\"/></a>"
      ]
    },
    {
      "cell_type": "markdown",
      "source": [
        "#This notebook works on the first step of the train pipeline: data loading \n",
        "- The idea is to use the contents of this notebook as a makefile target so it can be the first step to run as we keep populating our datastore.\n",
        "\n",
        "\n",
        "\n",
        "\n",
        "\n",
        "\n"
      ],
      "metadata": {
        "id": "Fa2YEr7pT6zt",
        "pycharm": {
          "name": "#%% md\n"
        }
      }
    },
    {
      "cell_type": "code",
      "execution_count": 1,
      "metadata": {
        "id": "pWqb-vn_hFCU",
        "pycharm": {
          "name": "#%%\n"
        },
        "outputId": "f95de81b-6122-4a0f-d7f7-2c34fde8245c",
        "colab": {
          "base_uri": "https://localhost:8080/"
        }
      },
      "outputs": [
        {
          "output_type": "stream",
          "name": "stdout",
          "text": [
            "Cloning into 'SIADS696'...\n",
            "remote: Enumerating objects: 534, done.\u001b[K\n",
            "remote: Counting objects: 100% (313/313), done.\u001b[K\n",
            "remote: Compressing objects: 100% (240/240), done.\u001b[K\n",
            "remote: Total 534 (delta 159), reused 171 (delta 71), pack-reused 221\u001b[K\n",
            "Receiving objects: 100% (534/534), 27.21 MiB | 6.54 MiB/s, done.\n",
            "Resolving deltas: 100% (283/283), done.\n",
            "Checking out files: 100% (164/164), done.\n"
          ]
        }
      ],
      "source": [
        "!git clone https://github.com/ajinkyabhanudas/SIADS696.git"
      ]
    },
    {
      "cell_type": "code",
      "source": [
        "import datetime\n",
        "import enum\n",
        "import glob\n",
        "import json\n",
        "import os\n",
        "import re\n",
        "from itertools import groupby\n",
        "\n",
        "from gensim.models import Word2Vec\n",
        "import nltk\n",
        "from nltk.corpus import stopwords\n",
        "import numpy as np\n",
        "import pandas as pd\n",
        "\n",
        "import warnings\n",
        "warnings.simplefilter(action='ignore')"
      ],
      "metadata": {
        "id": "qe2qOLWocWZz",
        "pycharm": {
          "name": "#%%\n"
        }
      },
      "execution_count": 2,
      "outputs": []
    },
    {
      "cell_type": "code",
      "source": [
        "nltk.download('punkt')\n",
        "nltk.download('stopwords')"
      ],
      "metadata": {
        "colab": {
          "base_uri": "https://localhost:8080/"
        },
        "id": "cY7AW03EX3a2",
        "outputId": "7a91b5a5-d2d8-499d-ec61-74b03c164414",
        "pycharm": {
          "name": "#%%\n"
        }
      },
      "execution_count": 3,
      "outputs": [
        {
          "output_type": "stream",
          "name": "stderr",
          "text": [
            "[nltk_data] Downloading package punkt to /root/nltk_data...\n",
            "[nltk_data]   Unzipping tokenizers/punkt.zip.\n",
            "[nltk_data] Downloading package stopwords to /root/nltk_data...\n",
            "[nltk_data]   Unzipping corpora/stopwords.zip.\n"
          ]
        },
        {
          "output_type": "execute_result",
          "data": {
            "text/plain": [
              "True"
            ]
          },
          "metadata": {},
          "execution_count": 3
        }
      ]
    },
    {
      "cell_type": "code",
      "source": [
        "try:\n",
        "  os.chdir('SIADS696')\n",
        "except:\n",
        "  print(\"You're either already in the SIADS696 directory, or the path specified isn't accessible\")"
      ],
      "metadata": {
        "id": "ZjuCnSlVckSC",
        "pycharm": {
          "name": "#%%\n"
        }
      },
      "execution_count": 4,
      "outputs": []
    },
    {
      "cell_type": "markdown",
      "source": [
        "### We'll extract our dataset in two parts:\n",
        "- first extract the overall stats data per channel and store it along with the channel name instead of the id for available channels. (`overall_stats_raw_df`)\n",
        "- And second, extract the per-video data into another dataframe. (`raw_df`)"
      ],
      "metadata": {
        "id": "s72nxVxjlZGi",
        "pycharm": {
          "name": "#%% md\n"
        }
      }
    },
    {
      "cell_type": "code",
      "source": [
        "rootdir = 'data'\n",
        "feature_list = ['publishedAt', 'title', 'channelId', 'description',\n",
        "                'channelTitle', 'tags', 'categoryId', 'viewCount', \n",
        "                'likeCount', 'favoriteCount', 'commentCount', 'duration',\n",
        "                'definition', 'contentRating', 'topicCategories']\n",
        "\n",
        "ov_dict_list = []\n",
        "ov_temp_dict = {}\n",
        "\n",
        "dict_list = []\n",
        "temp_dict = {}\n",
        "\n",
        "for path in glob.glob(f'./{rootdir}/*/*'):\n",
        "  try:\n",
        "    with open(path, \"r\") as read_file:\n",
        "      data = json.load(read_file)\n",
        "    for channel_id in data.keys():\n",
        "      ov_temp_dict = data[channel_id][\"channel_statistics\"]\n",
        "      channel_name = list(data[channel_id][\"video_data\"].keys())[0]\n",
        "      ov_temp_dict[\"channelName\"] = data[channel_id][\"video_data\"][channel_name][\"channelTitle\"]\n",
        "      ov_dict_list.append(ov_temp_dict)\n",
        "      \n",
        "      for video_info in data[channel_id][\"video_data\"].values():\n",
        "        temp_dict = video_info\n",
        "        dict_list.append(temp_dict)       \n",
        "  except:\n",
        "    pass\n",
        "\n",
        "overall_stats_raw_df = pd.DataFrame(ov_dict_list)\n",
        "overall_stats_raw_df.drop(\"hiddenSubscriberCount\", axis=1, inplace=True)\n",
        "\n",
        "raw_df = pd.DataFrame(dict_list)\n",
        "raw_df = raw_df[feature_list]"
      ],
      "metadata": {
        "id": "KSTlEX8FBNQ0",
        "pycharm": {
          "name": "#%%\n"
        }
      },
      "execution_count": 5,
      "outputs": []
    },
    {
      "cell_type": "markdown",
      "source": [
        "### Next, let's do a quick check on the data and take a quick look at the data in both the dfs"
      ],
      "metadata": {
        "id": "wx8sIaskERjq",
        "pycharm": {
          "name": "#%% md\n"
        }
      }
    },
    {
      "cell_type": "code",
      "source": [
        "raw_df.info()\n",
        "raw_df.sample(5)"
      ],
      "metadata": {
        "id": "l4WxiXQRC1aY",
        "outputId": "b9cc63e9-b350-44b6-f3ec-282e32350961",
        "colab": {
          "base_uri": "https://localhost:8080/",
          "height": 1000
        },
        "pycharm": {
          "name": "#%%\n"
        }
      },
      "execution_count": 6,
      "outputs": [
        {
          "output_type": "stream",
          "name": "stdout",
          "text": [
            "<class 'pandas.core.frame.DataFrame'>\n",
            "RangeIndex: 55337 entries, 0 to 55336\n",
            "Data columns (total 15 columns):\n",
            " #   Column           Non-Null Count  Dtype \n",
            "---  ------           --------------  ----- \n",
            " 0   publishedAt      55337 non-null  object\n",
            " 1   title            55337 non-null  object\n",
            " 2   channelId        55124 non-null  object\n",
            " 3   description      55124 non-null  object\n",
            " 4   channelTitle     55124 non-null  object\n",
            " 5   tags             51972 non-null  object\n",
            " 6   categoryId       55124 non-null  object\n",
            " 7   viewCount        55050 non-null  object\n",
            " 8   likeCount        54589 non-null  object\n",
            " 9   favoriteCount    55121 non-null  object\n",
            " 10  commentCount     54549 non-null  object\n",
            " 11  duration         55125 non-null  object\n",
            " 12  definition       55125 non-null  object\n",
            " 13  contentRating    55125 non-null  object\n",
            " 14  topicCategories  54331 non-null  object\n",
            "dtypes: object(15)\n",
            "memory usage: 6.3+ MB\n"
          ]
        },
        {
          "output_type": "execute_result",
          "data": {
            "text/plain": [
              "                publishedAt  \\\n",
              "45782  2013-11-05T13:06:05Z   \n",
              "52983  2018-10-02T13:00:03Z   \n",
              "13878  2020-02-26T03:30:01Z   \n",
              "34013  2021-07-29T15:00:03Z   \n",
              "50170  2014-05-09T20:29:25Z   \n",
              "\n",
              "                                                   title  \\\n",
              "45782  Call Of Duty: Ghosts X GameStop - MMLP2 Specia...   \n",
              "52983  Be Strong: An All New 13-class Yoga Journey wi...   \n",
              "13878   Trump Heaps Praise On Modi's \"Religious Freedom\"   \n",
              "34013    Iceland's secret power - Jean-Baptiste P. Koehl   \n",
              "50170  Beginners Yoga For Deep Relaxation, Sleep, Ins...   \n",
              "\n",
              "                      channelId  \\\n",
              "45782  UCfM3zsQsOnfWNUppiycmBuw   \n",
              "52983  UCH-81uaxCwAAaSgxRtxMkxg   \n",
              "13878  UC1yBKRuGpC1tSM73A0ZjYjQ   \n",
              "34013  UCsooa4yRKGN_zEE8iknghZA   \n",
              "50170  UCGb34D3ThpmjLNn-FLv2_yQ   \n",
              "\n",
              "                                             description     channelTitle  \\\n",
              "45782  REDEEM HERE  http://callofduty.eminem.com/\\n\\n...      EminemMusic   \n",
              "52983  Welcome to Be Strong! https://omstars.com/best...         KinoYoga   \n",
              "13878  There is still 1 week left to sign up and earn...  The Young Turks   \n",
              "34013  Explore how geothermal energy— the heat in the...           TED-Ed   \n",
              "50170  Beginners Yoga For Deep Relaxation, Sleep, Ins...      PsycheTruth   \n",
              "\n",
              "                                                    tags categoryId viewCount  \\\n",
              "45782                                                NaN         10   1232576   \n",
              "52983  [KinoYoga, Ashtanga, Mysore, Power, Vinyasa, S...         26     22025   \n",
              "13878  [News, Politics, TYT, Young Turks, Live, YouTu...         25     32718   \n",
              "34013  [iceland volcano, geothermal energy, geotherma...         27    419791   \n",
              "50170  [Yoga, Beginners Yoga, Yoga For Beginners, Yog...         26    769702   \n",
              "\n",
              "      likeCount favoriteCount commentCount  duration definition contentRating  \\\n",
              "45782     16338             0          845   PT1M18S         hd            {}   \n",
              "52983       571             0           44    PT1M1S         hd            {}   \n",
              "13878      1147             0          600   PT7M57S         hd            {}   \n",
              "34013     16698             0          497   PT5M21S         hd            {}   \n",
              "50170      8348             0          430  PT31M52S         hd            {}   \n",
              "\n",
              "                                         topicCategories  \n",
              "45782  [https://en.wikipedia.org/wiki/Lifestyle_(soci...  \n",
              "52983  [https://en.wikipedia.org/wiki/Hobby, https://...  \n",
              "13878  [https://en.wikipedia.org/wiki/Politics, https...  \n",
              "34013          [https://en.wikipedia.org/wiki/Knowledge]  \n",
              "50170  [https://en.wikipedia.org/wiki/Lifestyle_(soci...  "
            ],
            "text/html": [
              "\n",
              "  <div id=\"df-baaa7944-29db-404e-9935-10726b73d5df\">\n",
              "    <div class=\"colab-df-container\">\n",
              "      <div>\n",
              "<style scoped>\n",
              "    .dataframe tbody tr th:only-of-type {\n",
              "        vertical-align: middle;\n",
              "    }\n",
              "\n",
              "    .dataframe tbody tr th {\n",
              "        vertical-align: top;\n",
              "    }\n",
              "\n",
              "    .dataframe thead th {\n",
              "        text-align: right;\n",
              "    }\n",
              "</style>\n",
              "<table border=\"1\" class=\"dataframe\">\n",
              "  <thead>\n",
              "    <tr style=\"text-align: right;\">\n",
              "      <th></th>\n",
              "      <th>publishedAt</th>\n",
              "      <th>title</th>\n",
              "      <th>channelId</th>\n",
              "      <th>description</th>\n",
              "      <th>channelTitle</th>\n",
              "      <th>tags</th>\n",
              "      <th>categoryId</th>\n",
              "      <th>viewCount</th>\n",
              "      <th>likeCount</th>\n",
              "      <th>favoriteCount</th>\n",
              "      <th>commentCount</th>\n",
              "      <th>duration</th>\n",
              "      <th>definition</th>\n",
              "      <th>contentRating</th>\n",
              "      <th>topicCategories</th>\n",
              "    </tr>\n",
              "  </thead>\n",
              "  <tbody>\n",
              "    <tr>\n",
              "      <th>45782</th>\n",
              "      <td>2013-11-05T13:06:05Z</td>\n",
              "      <td>Call Of Duty: Ghosts X GameStop - MMLP2 Specia...</td>\n",
              "      <td>UCfM3zsQsOnfWNUppiycmBuw</td>\n",
              "      <td>REDEEM HERE  http://callofduty.eminem.com/\\n\\n...</td>\n",
              "      <td>EminemMusic</td>\n",
              "      <td>NaN</td>\n",
              "      <td>10</td>\n",
              "      <td>1232576</td>\n",
              "      <td>16338</td>\n",
              "      <td>0</td>\n",
              "      <td>845</td>\n",
              "      <td>PT1M18S</td>\n",
              "      <td>hd</td>\n",
              "      <td>{}</td>\n",
              "      <td>[https://en.wikipedia.org/wiki/Lifestyle_(soci...</td>\n",
              "    </tr>\n",
              "    <tr>\n",
              "      <th>52983</th>\n",
              "      <td>2018-10-02T13:00:03Z</td>\n",
              "      <td>Be Strong: An All New 13-class Yoga Journey wi...</td>\n",
              "      <td>UCH-81uaxCwAAaSgxRtxMkxg</td>\n",
              "      <td>Welcome to Be Strong! https://omstars.com/best...</td>\n",
              "      <td>KinoYoga</td>\n",
              "      <td>[KinoYoga, Ashtanga, Mysore, Power, Vinyasa, S...</td>\n",
              "      <td>26</td>\n",
              "      <td>22025</td>\n",
              "      <td>571</td>\n",
              "      <td>0</td>\n",
              "      <td>44</td>\n",
              "      <td>PT1M1S</td>\n",
              "      <td>hd</td>\n",
              "      <td>{}</td>\n",
              "      <td>[https://en.wikipedia.org/wiki/Hobby, https://...</td>\n",
              "    </tr>\n",
              "    <tr>\n",
              "      <th>13878</th>\n",
              "      <td>2020-02-26T03:30:01Z</td>\n",
              "      <td>Trump Heaps Praise On Modi's \"Religious Freedom\"</td>\n",
              "      <td>UC1yBKRuGpC1tSM73A0ZjYjQ</td>\n",
              "      <td>There is still 1 week left to sign up and earn...</td>\n",
              "      <td>The Young Turks</td>\n",
              "      <td>[News, Politics, TYT, Young Turks, Live, YouTu...</td>\n",
              "      <td>25</td>\n",
              "      <td>32718</td>\n",
              "      <td>1147</td>\n",
              "      <td>0</td>\n",
              "      <td>600</td>\n",
              "      <td>PT7M57S</td>\n",
              "      <td>hd</td>\n",
              "      <td>{}</td>\n",
              "      <td>[https://en.wikipedia.org/wiki/Politics, https...</td>\n",
              "    </tr>\n",
              "    <tr>\n",
              "      <th>34013</th>\n",
              "      <td>2021-07-29T15:00:03Z</td>\n",
              "      <td>Iceland's secret power - Jean-Baptiste P. Koehl</td>\n",
              "      <td>UCsooa4yRKGN_zEE8iknghZA</td>\n",
              "      <td>Explore how geothermal energy— the heat in the...</td>\n",
              "      <td>TED-Ed</td>\n",
              "      <td>[iceland volcano, geothermal energy, geotherma...</td>\n",
              "      <td>27</td>\n",
              "      <td>419791</td>\n",
              "      <td>16698</td>\n",
              "      <td>0</td>\n",
              "      <td>497</td>\n",
              "      <td>PT5M21S</td>\n",
              "      <td>hd</td>\n",
              "      <td>{}</td>\n",
              "      <td>[https://en.wikipedia.org/wiki/Knowledge]</td>\n",
              "    </tr>\n",
              "    <tr>\n",
              "      <th>50170</th>\n",
              "      <td>2014-05-09T20:29:25Z</td>\n",
              "      <td>Beginners Yoga For Deep Relaxation, Sleep, Ins...</td>\n",
              "      <td>UCGb34D3ThpmjLNn-FLv2_yQ</td>\n",
              "      <td>Beginners Yoga For Deep Relaxation, Sleep, Ins...</td>\n",
              "      <td>PsycheTruth</td>\n",
              "      <td>[Yoga, Beginners Yoga, Yoga For Beginners, Yog...</td>\n",
              "      <td>26</td>\n",
              "      <td>769702</td>\n",
              "      <td>8348</td>\n",
              "      <td>0</td>\n",
              "      <td>430</td>\n",
              "      <td>PT31M52S</td>\n",
              "      <td>hd</td>\n",
              "      <td>{}</td>\n",
              "      <td>[https://en.wikipedia.org/wiki/Lifestyle_(soci...</td>\n",
              "    </tr>\n",
              "  </tbody>\n",
              "</table>\n",
              "</div>\n",
              "      <button class=\"colab-df-convert\" onclick=\"convertToInteractive('df-baaa7944-29db-404e-9935-10726b73d5df')\"\n",
              "              title=\"Convert this dataframe to an interactive table.\"\n",
              "              style=\"display:none;\">\n",
              "        \n",
              "  <svg xmlns=\"http://www.w3.org/2000/svg\" height=\"24px\"viewBox=\"0 0 24 24\"\n",
              "       width=\"24px\">\n",
              "    <path d=\"M0 0h24v24H0V0z\" fill=\"none\"/>\n",
              "    <path d=\"M18.56 5.44l.94 2.06.94-2.06 2.06-.94-2.06-.94-.94-2.06-.94 2.06-2.06.94zm-11 1L8.5 8.5l.94-2.06 2.06-.94-2.06-.94L8.5 2.5l-.94 2.06-2.06.94zm10 10l.94 2.06.94-2.06 2.06-.94-2.06-.94-.94-2.06-.94 2.06-2.06.94z\"/><path d=\"M17.41 7.96l-1.37-1.37c-.4-.4-.92-.59-1.43-.59-.52 0-1.04.2-1.43.59L10.3 9.45l-7.72 7.72c-.78.78-.78 2.05 0 2.83L4 21.41c.39.39.9.59 1.41.59.51 0 1.02-.2 1.41-.59l7.78-7.78 2.81-2.81c.8-.78.8-2.07 0-2.86zM5.41 20L4 18.59l7.72-7.72 1.47 1.35L5.41 20z\"/>\n",
              "  </svg>\n",
              "      </button>\n",
              "      \n",
              "  <style>\n",
              "    .colab-df-container {\n",
              "      display:flex;\n",
              "      flex-wrap:wrap;\n",
              "      gap: 12px;\n",
              "    }\n",
              "\n",
              "    .colab-df-convert {\n",
              "      background-color: #E8F0FE;\n",
              "      border: none;\n",
              "      border-radius: 50%;\n",
              "      cursor: pointer;\n",
              "      display: none;\n",
              "      fill: #1967D2;\n",
              "      height: 32px;\n",
              "      padding: 0 0 0 0;\n",
              "      width: 32px;\n",
              "    }\n",
              "\n",
              "    .colab-df-convert:hover {\n",
              "      background-color: #E2EBFA;\n",
              "      box-shadow: 0px 1px 2px rgba(60, 64, 67, 0.3), 0px 1px 3px 1px rgba(60, 64, 67, 0.15);\n",
              "      fill: #174EA6;\n",
              "    }\n",
              "\n",
              "    [theme=dark] .colab-df-convert {\n",
              "      background-color: #3B4455;\n",
              "      fill: #D2E3FC;\n",
              "    }\n",
              "\n",
              "    [theme=dark] .colab-df-convert:hover {\n",
              "      background-color: #434B5C;\n",
              "      box-shadow: 0px 1px 3px 1px rgba(0, 0, 0, 0.15);\n",
              "      filter: drop-shadow(0px 1px 2px rgba(0, 0, 0, 0.3));\n",
              "      fill: #FFFFFF;\n",
              "    }\n",
              "  </style>\n",
              "\n",
              "      <script>\n",
              "        const buttonEl =\n",
              "          document.querySelector('#df-baaa7944-29db-404e-9935-10726b73d5df button.colab-df-convert');\n",
              "        buttonEl.style.display =\n",
              "          google.colab.kernel.accessAllowed ? 'block' : 'none';\n",
              "\n",
              "        async function convertToInteractive(key) {\n",
              "          const element = document.querySelector('#df-baaa7944-29db-404e-9935-10726b73d5df');\n",
              "          const dataTable =\n",
              "            await google.colab.kernel.invokeFunction('convertToInteractive',\n",
              "                                                     [key], {});\n",
              "          if (!dataTable) return;\n",
              "\n",
              "          const docLinkHtml = 'Like what you see? Visit the ' +\n",
              "            '<a target=\"_blank\" href=https://colab.research.google.com/notebooks/data_table.ipynb>data table notebook</a>'\n",
              "            + ' to learn more about interactive tables.';\n",
              "          element.innerHTML = '';\n",
              "          dataTable['output_type'] = 'display_data';\n",
              "          await google.colab.output.renderOutput(dataTable, element);\n",
              "          const docLink = document.createElement('div');\n",
              "          docLink.innerHTML = docLinkHtml;\n",
              "          element.appendChild(docLink);\n",
              "        }\n",
              "      </script>\n",
              "    </div>\n",
              "  </div>\n",
              "  "
            ]
          },
          "metadata": {},
          "execution_count": 6
        }
      ]
    },
    {
      "cell_type": "code",
      "source": [
        "overall_stats_raw_df.info()\n",
        "overall_stats_raw_df.sample(5)"
      ],
      "metadata": {
        "id": "bT47uyotFG8o",
        "outputId": "c85b4b74-5a04-43fe-d5c4-b49b1a7de556",
        "colab": {
          "base_uri": "https://localhost:8080/",
          "height": 391
        },
        "pycharm": {
          "name": "#%%\n"
        }
      },
      "execution_count": 7,
      "outputs": [
        {
          "output_type": "stream",
          "name": "stdout",
          "text": [
            "<class 'pandas.core.frame.DataFrame'>\n",
            "RangeIndex: 149 entries, 0 to 148\n",
            "Data columns (total 4 columns):\n",
            " #   Column           Non-Null Count  Dtype \n",
            "---  ------           --------------  ----- \n",
            " 0   viewCount        149 non-null    object\n",
            " 1   subscriberCount  149 non-null    object\n",
            " 2   videoCount       149 non-null    object\n",
            " 3   channelName      149 non-null    object\n",
            "dtypes: object(4)\n",
            "memory usage: 4.8+ KB\n"
          ]
        },
        {
          "output_type": "execute_result",
          "data": {
            "text/plain": [
              "      viewCount subscriberCount videoCount  \\\n",
              "93    968644695         4350000       1002   \n",
              "76  16275590722        30200000       8020   \n",
              "79   1631481643         7240000       3096   \n",
              "13     47351356          671000        371   \n",
              "11    887610264         6900000        441   \n",
              "\n",
              "                               channelName  \n",
              "93  Timeline - World History Documentaries  \n",
              "76  The Tonight Show Starring Jimmy Fallon  \n",
              "79                                 SciShow  \n",
              "13                  French Cooking Academy  \n",
              "11                         Joshua Weissman  "
            ],
            "text/html": [
              "\n",
              "  <div id=\"df-1fc0b777-2b88-4460-ac06-35e7035ce0b9\">\n",
              "    <div class=\"colab-df-container\">\n",
              "      <div>\n",
              "<style scoped>\n",
              "    .dataframe tbody tr th:only-of-type {\n",
              "        vertical-align: middle;\n",
              "    }\n",
              "\n",
              "    .dataframe tbody tr th {\n",
              "        vertical-align: top;\n",
              "    }\n",
              "\n",
              "    .dataframe thead th {\n",
              "        text-align: right;\n",
              "    }\n",
              "</style>\n",
              "<table border=\"1\" class=\"dataframe\">\n",
              "  <thead>\n",
              "    <tr style=\"text-align: right;\">\n",
              "      <th></th>\n",
              "      <th>viewCount</th>\n",
              "      <th>subscriberCount</th>\n",
              "      <th>videoCount</th>\n",
              "      <th>channelName</th>\n",
              "    </tr>\n",
              "  </thead>\n",
              "  <tbody>\n",
              "    <tr>\n",
              "      <th>93</th>\n",
              "      <td>968644695</td>\n",
              "      <td>4350000</td>\n",
              "      <td>1002</td>\n",
              "      <td>Timeline - World History Documentaries</td>\n",
              "    </tr>\n",
              "    <tr>\n",
              "      <th>76</th>\n",
              "      <td>16275590722</td>\n",
              "      <td>30200000</td>\n",
              "      <td>8020</td>\n",
              "      <td>The Tonight Show Starring Jimmy Fallon</td>\n",
              "    </tr>\n",
              "    <tr>\n",
              "      <th>79</th>\n",
              "      <td>1631481643</td>\n",
              "      <td>7240000</td>\n",
              "      <td>3096</td>\n",
              "      <td>SciShow</td>\n",
              "    </tr>\n",
              "    <tr>\n",
              "      <th>13</th>\n",
              "      <td>47351356</td>\n",
              "      <td>671000</td>\n",
              "      <td>371</td>\n",
              "      <td>French Cooking Academy</td>\n",
              "    </tr>\n",
              "    <tr>\n",
              "      <th>11</th>\n",
              "      <td>887610264</td>\n",
              "      <td>6900000</td>\n",
              "      <td>441</td>\n",
              "      <td>Joshua Weissman</td>\n",
              "    </tr>\n",
              "  </tbody>\n",
              "</table>\n",
              "</div>\n",
              "      <button class=\"colab-df-convert\" onclick=\"convertToInteractive('df-1fc0b777-2b88-4460-ac06-35e7035ce0b9')\"\n",
              "              title=\"Convert this dataframe to an interactive table.\"\n",
              "              style=\"display:none;\">\n",
              "        \n",
              "  <svg xmlns=\"http://www.w3.org/2000/svg\" height=\"24px\"viewBox=\"0 0 24 24\"\n",
              "       width=\"24px\">\n",
              "    <path d=\"M0 0h24v24H0V0z\" fill=\"none\"/>\n",
              "    <path d=\"M18.56 5.44l.94 2.06.94-2.06 2.06-.94-2.06-.94-.94-2.06-.94 2.06-2.06.94zm-11 1L8.5 8.5l.94-2.06 2.06-.94-2.06-.94L8.5 2.5l-.94 2.06-2.06.94zm10 10l.94 2.06.94-2.06 2.06-.94-2.06-.94-.94-2.06-.94 2.06-2.06.94z\"/><path d=\"M17.41 7.96l-1.37-1.37c-.4-.4-.92-.59-1.43-.59-.52 0-1.04.2-1.43.59L10.3 9.45l-7.72 7.72c-.78.78-.78 2.05 0 2.83L4 21.41c.39.39.9.59 1.41.59.51 0 1.02-.2 1.41-.59l7.78-7.78 2.81-2.81c.8-.78.8-2.07 0-2.86zM5.41 20L4 18.59l7.72-7.72 1.47 1.35L5.41 20z\"/>\n",
              "  </svg>\n",
              "      </button>\n",
              "      \n",
              "  <style>\n",
              "    .colab-df-container {\n",
              "      display:flex;\n",
              "      flex-wrap:wrap;\n",
              "      gap: 12px;\n",
              "    }\n",
              "\n",
              "    .colab-df-convert {\n",
              "      background-color: #E8F0FE;\n",
              "      border: none;\n",
              "      border-radius: 50%;\n",
              "      cursor: pointer;\n",
              "      display: none;\n",
              "      fill: #1967D2;\n",
              "      height: 32px;\n",
              "      padding: 0 0 0 0;\n",
              "      width: 32px;\n",
              "    }\n",
              "\n",
              "    .colab-df-convert:hover {\n",
              "      background-color: #E2EBFA;\n",
              "      box-shadow: 0px 1px 2px rgba(60, 64, 67, 0.3), 0px 1px 3px 1px rgba(60, 64, 67, 0.15);\n",
              "      fill: #174EA6;\n",
              "    }\n",
              "\n",
              "    [theme=dark] .colab-df-convert {\n",
              "      background-color: #3B4455;\n",
              "      fill: #D2E3FC;\n",
              "    }\n",
              "\n",
              "    [theme=dark] .colab-df-convert:hover {\n",
              "      background-color: #434B5C;\n",
              "      box-shadow: 0px 1px 3px 1px rgba(0, 0, 0, 0.15);\n",
              "      filter: drop-shadow(0px 1px 2px rgba(0, 0, 0, 0.3));\n",
              "      fill: #FFFFFF;\n",
              "    }\n",
              "  </style>\n",
              "\n",
              "      <script>\n",
              "        const buttonEl =\n",
              "          document.querySelector('#df-1fc0b777-2b88-4460-ac06-35e7035ce0b9 button.colab-df-convert');\n",
              "        buttonEl.style.display =\n",
              "          google.colab.kernel.accessAllowed ? 'block' : 'none';\n",
              "\n",
              "        async function convertToInteractive(key) {\n",
              "          const element = document.querySelector('#df-1fc0b777-2b88-4460-ac06-35e7035ce0b9');\n",
              "          const dataTable =\n",
              "            await google.colab.kernel.invokeFunction('convertToInteractive',\n",
              "                                                     [key], {});\n",
              "          if (!dataTable) return;\n",
              "\n",
              "          const docLinkHtml = 'Like what you see? Visit the ' +\n",
              "            '<a target=\"_blank\" href=https://colab.research.google.com/notebooks/data_table.ipynb>data table notebook</a>'\n",
              "            + ' to learn more about interactive tables.';\n",
              "          element.innerHTML = '';\n",
              "          dataTable['output_type'] = 'display_data';\n",
              "          await google.colab.output.renderOutput(dataTable, element);\n",
              "          const docLink = document.createElement('div');\n",
              "          docLink.innerHTML = docLinkHtml;\n",
              "          element.appendChild(docLink);\n",
              "        }\n",
              "      </script>\n",
              "    </div>\n",
              "  </div>\n",
              "  "
            ]
          },
          "metadata": {},
          "execution_count": 7
        }
      ]
    },
    {
      "cell_type": "markdown",
      "source": [
        "### Let's examine our datatypes and convert them appropriately"
      ],
      "metadata": {
        "id": "ZeWzYTmOA4eY",
        "pycharm": {
          "name": "#%% md\n"
        }
      }
    },
    {
      "cell_type": "code",
      "source": [
        "raw_df.info()"
      ],
      "metadata": {
        "id": "NB0XlyRB1dHI",
        "outputId": "c82f0b8c-08c3-4d4a-fa18-cd640974c2ef",
        "colab": {
          "base_uri": "https://localhost:8080/"
        },
        "pycharm": {
          "name": "#%%\n"
        }
      },
      "execution_count": 8,
      "outputs": [
        {
          "output_type": "stream",
          "name": "stdout",
          "text": [
            "<class 'pandas.core.frame.DataFrame'>\n",
            "RangeIndex: 55337 entries, 0 to 55336\n",
            "Data columns (total 15 columns):\n",
            " #   Column           Non-Null Count  Dtype \n",
            "---  ------           --------------  ----- \n",
            " 0   publishedAt      55337 non-null  object\n",
            " 1   title            55337 non-null  object\n",
            " 2   channelId        55124 non-null  object\n",
            " 3   description      55124 non-null  object\n",
            " 4   channelTitle     55124 non-null  object\n",
            " 5   tags             51972 non-null  object\n",
            " 6   categoryId       55124 non-null  object\n",
            " 7   viewCount        55050 non-null  object\n",
            " 8   likeCount        54589 non-null  object\n",
            " 9   favoriteCount    55121 non-null  object\n",
            " 10  commentCount     54549 non-null  object\n",
            " 11  duration         55125 non-null  object\n",
            " 12  definition       55125 non-null  object\n",
            " 13  contentRating    55125 non-null  object\n",
            " 14  topicCategories  54331 non-null  object\n",
            "dtypes: object(15)\n",
            "memory usage: 6.3+ MB\n"
          ]
        }
      ]
    },
    {
      "cell_type": "code",
      "source": [
        "def duration_split(duration):\n",
        "    try:\n",
        "      for _, v in groupby(duration, str.isalpha):\n",
        "        yield ''.join(v)\n",
        "    except:\n",
        "      yield np.nan\n",
        "    \n",
        "### Miles code fix included here   \n",
        "def duration_2_secs(duration, duration_split=duration_split):\n",
        "  temp = 0\n",
        "  for i, val in enumerate(duration_split(duration)):\n",
        "    \n",
        "    if len(str(duration)) <= 8:\n",
        "      if i==1 and not val.isalpha():\n",
        "        temp += float(val)*60\n",
        "      \n",
        "      if i==3 and not val.isalpha():\n",
        "        temp += float(val)\n",
        "    else:\n",
        "      if i==1 and not val.isalpha():\n",
        "        temp += float(val)*60*60\n",
        "      \n",
        "      if i==3 and not val.isalpha():\n",
        "        temp += float(val)*60\n",
        "      \n",
        "      if i==5 and not val.isalpha():\n",
        "        temp += float(val)\n",
        "\n",
        "  return(temp)\n",
        "\n",
        "\n",
        "# duration_2_secs(\"PT51M12S\")"
      ],
      "metadata": {
        "id": "IpgdK3Vs53Yo",
        "pycharm": {
          "name": "#%%\n"
        }
      },
      "execution_count": 9,
      "outputs": []
    },
    {
      "cell_type": "code",
      "source": [
        "def topic_extract(links_list):\n",
        "  \n",
        "  topics_list = []  \n",
        "  try:\n",
        "    for link in links_list:\n",
        "      topics_list.append(link.split(\"/\")[-1].lower())\n",
        "    \n",
        "    return(topics_list)\n",
        "  except:\n",
        "    pass"
      ],
      "metadata": {
        "id": "7GyZH6WgHzw7",
        "pycharm": {
          "name": "#%%\n"
        }
      },
      "execution_count": 10,
      "outputs": []
    },
    {
      "cell_type": "code",
      "source": [
        "def text_prep(val):\n",
        "  '''the goal is to replace the hypertexts in the \n",
        "  in any field to redundant names as vectorizing\n",
        "  them could be misleading and also leak data'''\n",
        "\n",
        "  val = str(val).lower()\n",
        "  process_desc = re.sub(r'http[s]*:.*\\w', 'url', val)\n",
        "  process_desc = re.sub('[^a-zA-Z]', ' ', process_desc)\n",
        "  process_desc = re.sub(r'\\s+', ' ', process_desc)\n",
        "\n",
        "  process_desc = nltk.sent_tokenize(process_desc)\n",
        "  if not process_desc:\n",
        "    process_desc = [nltk.word_tokenize(word) for word in process_desc]\n",
        "  else:\n",
        "    process_desc = [nltk.word_tokenize(word) for word in process_desc][0]\n",
        "    \n",
        "  \n",
        "  word_list = [word for word in process_desc if word not in stopwords.words('english')]\n",
        "\n",
        "\n",
        "  return word_list\n",
        "\n"
      ],
      "metadata": {
        "id": "iQqQ2cTCTV25",
        "pycharm": {
          "name": "#%%\n"
        }
      },
      "execution_count": 11,
      "outputs": []
    },
    {
      "cell_type": "code",
      "source": [
        "text_prep(\"i if happening\")"
      ],
      "metadata": {
        "id": "tlnQIsjxffa6",
        "outputId": "1f299402-9c1c-41bf-c57f-68e78ef64e64",
        "colab": {
          "base_uri": "https://localhost:8080/"
        },
        "pycharm": {
          "name": "#%%\n"
        }
      },
      "execution_count": 12,
      "outputs": [
        {
          "output_type": "execute_result",
          "data": {
            "text/plain": [
              "['happening']"
            ]
          },
          "metadata": {},
          "execution_count": 12
        }
      ]
    },
    {
      "cell_type": "code",
      "source": [
        "def create_dataset(df, featureset, primary=True):\n",
        "\n",
        "  if primary:\n",
        "    df[\"publishedAt\"] = pd.to_datetime(df.publishedAt)\n",
        "    df['publishedDayNum'] = df.publishedAt.apply(lambda x: x.timetuple().tm_yday)\n",
        "    df['publishedDayDelta'] = abs(df['publishedDayNum']-datetime.datetime.now().timetuple().tm_yday)\n",
        "    df[\"categoryId\"] = df.categoryId.astype(float)\n",
        "    df[\"viewCount\"] = df.viewCount.astype(float)\n",
        "    df[\"likeCount\"] = df.likeCount.astype(float)\n",
        "    df[\"favoriteCount\"] = df.favoriteCount.astype(float)\n",
        "    df[\"commentCount\"] = df.commentCount.astype(float)\n",
        "    df['duration_secs'] = df.duration.apply(duration_2_secs)\n",
        "    df['topicCategories'] = df.topicCategories.apply(topic_extract)\n",
        "    df['tags'] = df.tags.apply(topic_extract)\n",
        "    df['channelTitle'] = df.channelTitle.str.lower()\n",
        "    df['description'] = df.description.apply(text_prep)\n",
        "    df['title'] = df.title.apply(text_prep)\n",
        "    df['len_title'] = df.title.apply(lambda x: len(x))\n",
        "\n",
        "\n",
        "    df['log_duration_secs'] = np.log(df.duration_secs+1)\n",
        "  \n",
        "  else:\n",
        "    df['ov_viewCount'] = df.viewCount.astype(float)\n",
        "    df['ov_subscriberCount'] = df.subscriberCount.astype(float)\n",
        "    df['ov_videoCount'] = df.videoCount.astype(float)\n",
        "    df['channelName'] = df.channelName.str.lower()\n",
        "\n",
        "  return df[featureset]"
      ],
      "metadata": {
        "id": "p0OW3SZK1hOg",
        "pycharm": {
          "name": "#%%\n"
        }
      },
      "execution_count": 13,
      "outputs": []
    },
    {
      "cell_type": "markdown",
      "source": [
        "- It's best to drop tags because, in many cases, the tags tend to contain the channel names, which could as we speculated earlier, lead to data leaks.\n",
        "- We'll also drop channelId because it is visually unintuitve and we can encode the channelNames with simple Id's if we needed to.\n",
        "- since we don't have data in the order of millions, we'd abstract out the publishing data to a new variable of `publishedDayNum` that contains the day of the year the video was published.\n",
        "- on examining `contentRating` values, the dataset in non-null but majorly contains empty dictionaries, which makes it misleading. As a result, we'll drop this feature too.\n",
        "- on examining `favoriteCount` values, the dataset in non-null but majorly contains a value of `0`, which makes it misleading. As a result, we'll drop it.\n",
        "\n",
        "- dropped columns list [`tags`, `channelId`, `contentRating`] and [`publishedAt`] after deriving the `publishedDayNum` column from it."
      ],
      "metadata": {
        "id": "6DM_MqBeWuTB",
        "pycharm": {
          "name": "#%% md\n"
        }
      }
    },
    {
      "cell_type": "code",
      "source": [
        "features = ['title', 'description', 'channelTitle',\n",
        " 'categoryId', 'viewCount', 'likeCount',\n",
        " 'commentCount', 'duration_secs', 'log_duration_secs',\n",
        " 'definition', 'topicCategories', 'publishedDayNum',\n",
        " 'publishedDayDelta']\n",
        "\n",
        "preproc1_df = create_dataset(raw_df, features)"
      ],
      "metadata": {
        "id": "1x1H_CF7Zbph",
        "pycharm": {
          "name": "#%%\n"
        }
      },
      "execution_count": 14,
      "outputs": []
    },
    {
      "cell_type": "code",
      "source": [
        "preproc1_df.sample(5)"
      ],
      "metadata": {
        "id": "TQtMyEfFZbsh",
        "outputId": "768640ae-6ad6-4c4c-8d62-ac6050d6adb8",
        "colab": {
          "base_uri": "https://localhost:8080/",
          "height": 642
        },
        "pycharm": {
          "name": "#%%\n"
        }
      },
      "execution_count": 15,
      "outputs": [
        {
          "output_type": "execute_result",
          "data": {
            "text/plain": [
              "                                                   title  \\\n",
              "13504               [killer, bodyweight, workout, level]   \n",
              "30106  [relaxing, yoga, anxiety, relief, calm, mind, ...   \n",
              "32870  [intention, setting, mediation, catch, chat, t...   \n",
              "4580   [bogus, threats, british, prime, minister, res...   \n",
              "11916  [fix, hormone, imbalance, male, female, tips, ...   \n",
              "\n",
              "                                             description  \\\n",
              "13504  [minutes, killer, bodyweight, workout, burns, ...   \n",
              "30106  [release, emotional, stress, myra, shaikh, cla...   \n",
              "32870  [little, catch, chat, intention, setting, prac...   \n",
              "4580   [british, prime, minister, liz, truss, discuss...   \n",
              "11916  [video, fitness, expert, guru, mann, shared, t...   \n",
              "\n",
              "                                 channelTitle  categoryId  viewCount  \\\n",
              "13504                     jordan yeoh fitness        24.0  1554444.0   \n",
              "30106                             psychetruth        26.0    16708.0   \n",
              "32870  tara stiles : yoga that feels like you        26.0     6130.0   \n",
              "4580                                      cnn        25.0   892797.0   \n",
              "11916                       guru mann fitness        17.0   537960.0   \n",
              "\n",
              "       likeCount  commentCount  duration_secs  log_duration_secs definition  \\\n",
              "13504    26358.0        1247.0         1633.0           7.398786         hd   \n",
              "30106      549.0          23.0         2204.0           7.698483         hd   \n",
              "32870      137.0          24.0         1931.0           7.566311         hd   \n",
              "4580     10347.0        5700.0          657.0           6.489205         hd   \n",
              "11916    19072.0        1050.0          717.0           6.576470         hd   \n",
              "\n",
              "                                 topicCategories  publishedDayNum  \\\n",
              "13504  [lifestyle_(sociology), physical_fitness]              122   \n",
              "30106  [lifestyle_(sociology), physical_fitness]               41   \n",
              "32870                    [lifestyle_(sociology)]              217   \n",
              "4580                         [politics, society]              268   \n",
              "11916            [health, lifestyle_(sociology)]              272   \n",
              "\n",
              "       publishedDayDelta  \n",
              "13504                155  \n",
              "30106                236  \n",
              "32870                 60  \n",
              "4580                   9  \n",
              "11916                  5  "
            ],
            "text/html": [
              "\n",
              "  <div id=\"df-98846403-1971-4591-981f-798b60b4f564\">\n",
              "    <div class=\"colab-df-container\">\n",
              "      <div>\n",
              "<style scoped>\n",
              "    .dataframe tbody tr th:only-of-type {\n",
              "        vertical-align: middle;\n",
              "    }\n",
              "\n",
              "    .dataframe tbody tr th {\n",
              "        vertical-align: top;\n",
              "    }\n",
              "\n",
              "    .dataframe thead th {\n",
              "        text-align: right;\n",
              "    }\n",
              "</style>\n",
              "<table border=\"1\" class=\"dataframe\">\n",
              "  <thead>\n",
              "    <tr style=\"text-align: right;\">\n",
              "      <th></th>\n",
              "      <th>title</th>\n",
              "      <th>description</th>\n",
              "      <th>channelTitle</th>\n",
              "      <th>categoryId</th>\n",
              "      <th>viewCount</th>\n",
              "      <th>likeCount</th>\n",
              "      <th>commentCount</th>\n",
              "      <th>duration_secs</th>\n",
              "      <th>log_duration_secs</th>\n",
              "      <th>definition</th>\n",
              "      <th>topicCategories</th>\n",
              "      <th>publishedDayNum</th>\n",
              "      <th>publishedDayDelta</th>\n",
              "    </tr>\n",
              "  </thead>\n",
              "  <tbody>\n",
              "    <tr>\n",
              "      <th>13504</th>\n",
              "      <td>[killer, bodyweight, workout, level]</td>\n",
              "      <td>[minutes, killer, bodyweight, workout, burns, ...</td>\n",
              "      <td>jordan yeoh fitness</td>\n",
              "      <td>24.0</td>\n",
              "      <td>1554444.0</td>\n",
              "      <td>26358.0</td>\n",
              "      <td>1247.0</td>\n",
              "      <td>1633.0</td>\n",
              "      <td>7.398786</td>\n",
              "      <td>hd</td>\n",
              "      <td>[lifestyle_(sociology), physical_fitness]</td>\n",
              "      <td>122</td>\n",
              "      <td>155</td>\n",
              "    </tr>\n",
              "    <tr>\n",
              "      <th>30106</th>\n",
              "      <td>[relaxing, yoga, anxiety, relief, calm, mind, ...</td>\n",
              "      <td>[release, emotional, stress, myra, shaikh, cla...</td>\n",
              "      <td>psychetruth</td>\n",
              "      <td>26.0</td>\n",
              "      <td>16708.0</td>\n",
              "      <td>549.0</td>\n",
              "      <td>23.0</td>\n",
              "      <td>2204.0</td>\n",
              "      <td>7.698483</td>\n",
              "      <td>hd</td>\n",
              "      <td>[lifestyle_(sociology), physical_fitness]</td>\n",
              "      <td>41</td>\n",
              "      <td>236</td>\n",
              "    </tr>\n",
              "    <tr>\n",
              "      <th>32870</th>\n",
              "      <td>[intention, setting, mediation, catch, chat, t...</td>\n",
              "      <td>[little, catch, chat, intention, setting, prac...</td>\n",
              "      <td>tara stiles : yoga that feels like you</td>\n",
              "      <td>26.0</td>\n",
              "      <td>6130.0</td>\n",
              "      <td>137.0</td>\n",
              "      <td>24.0</td>\n",
              "      <td>1931.0</td>\n",
              "      <td>7.566311</td>\n",
              "      <td>hd</td>\n",
              "      <td>[lifestyle_(sociology)]</td>\n",
              "      <td>217</td>\n",
              "      <td>60</td>\n",
              "    </tr>\n",
              "    <tr>\n",
              "      <th>4580</th>\n",
              "      <td>[bogus, threats, british, prime, minister, res...</td>\n",
              "      <td>[british, prime, minister, liz, truss, discuss...</td>\n",
              "      <td>cnn</td>\n",
              "      <td>25.0</td>\n",
              "      <td>892797.0</td>\n",
              "      <td>10347.0</td>\n",
              "      <td>5700.0</td>\n",
              "      <td>657.0</td>\n",
              "      <td>6.489205</td>\n",
              "      <td>hd</td>\n",
              "      <td>[politics, society]</td>\n",
              "      <td>268</td>\n",
              "      <td>9</td>\n",
              "    </tr>\n",
              "    <tr>\n",
              "      <th>11916</th>\n",
              "      <td>[fix, hormone, imbalance, male, female, tips, ...</td>\n",
              "      <td>[video, fitness, expert, guru, mann, shared, t...</td>\n",
              "      <td>guru mann fitness</td>\n",
              "      <td>17.0</td>\n",
              "      <td>537960.0</td>\n",
              "      <td>19072.0</td>\n",
              "      <td>1050.0</td>\n",
              "      <td>717.0</td>\n",
              "      <td>6.576470</td>\n",
              "      <td>hd</td>\n",
              "      <td>[health, lifestyle_(sociology)]</td>\n",
              "      <td>272</td>\n",
              "      <td>5</td>\n",
              "    </tr>\n",
              "  </tbody>\n",
              "</table>\n",
              "</div>\n",
              "      <button class=\"colab-df-convert\" onclick=\"convertToInteractive('df-98846403-1971-4591-981f-798b60b4f564')\"\n",
              "              title=\"Convert this dataframe to an interactive table.\"\n",
              "              style=\"display:none;\">\n",
              "        \n",
              "  <svg xmlns=\"http://www.w3.org/2000/svg\" height=\"24px\"viewBox=\"0 0 24 24\"\n",
              "       width=\"24px\">\n",
              "    <path d=\"M0 0h24v24H0V0z\" fill=\"none\"/>\n",
              "    <path d=\"M18.56 5.44l.94 2.06.94-2.06 2.06-.94-2.06-.94-.94-2.06-.94 2.06-2.06.94zm-11 1L8.5 8.5l.94-2.06 2.06-.94-2.06-.94L8.5 2.5l-.94 2.06-2.06.94zm10 10l.94 2.06.94-2.06 2.06-.94-2.06-.94-.94-2.06-.94 2.06-2.06.94z\"/><path d=\"M17.41 7.96l-1.37-1.37c-.4-.4-.92-.59-1.43-.59-.52 0-1.04.2-1.43.59L10.3 9.45l-7.72 7.72c-.78.78-.78 2.05 0 2.83L4 21.41c.39.39.9.59 1.41.59.51 0 1.02-.2 1.41-.59l7.78-7.78 2.81-2.81c.8-.78.8-2.07 0-2.86zM5.41 20L4 18.59l7.72-7.72 1.47 1.35L5.41 20z\"/>\n",
              "  </svg>\n",
              "      </button>\n",
              "      \n",
              "  <style>\n",
              "    .colab-df-container {\n",
              "      display:flex;\n",
              "      flex-wrap:wrap;\n",
              "      gap: 12px;\n",
              "    }\n",
              "\n",
              "    .colab-df-convert {\n",
              "      background-color: #E8F0FE;\n",
              "      border: none;\n",
              "      border-radius: 50%;\n",
              "      cursor: pointer;\n",
              "      display: none;\n",
              "      fill: #1967D2;\n",
              "      height: 32px;\n",
              "      padding: 0 0 0 0;\n",
              "      width: 32px;\n",
              "    }\n",
              "\n",
              "    .colab-df-convert:hover {\n",
              "      background-color: #E2EBFA;\n",
              "      box-shadow: 0px 1px 2px rgba(60, 64, 67, 0.3), 0px 1px 3px 1px rgba(60, 64, 67, 0.15);\n",
              "      fill: #174EA6;\n",
              "    }\n",
              "\n",
              "    [theme=dark] .colab-df-convert {\n",
              "      background-color: #3B4455;\n",
              "      fill: #D2E3FC;\n",
              "    }\n",
              "\n",
              "    [theme=dark] .colab-df-convert:hover {\n",
              "      background-color: #434B5C;\n",
              "      box-shadow: 0px 1px 3px 1px rgba(0, 0, 0, 0.15);\n",
              "      filter: drop-shadow(0px 1px 2px rgba(0, 0, 0, 0.3));\n",
              "      fill: #FFFFFF;\n",
              "    }\n",
              "  </style>\n",
              "\n",
              "      <script>\n",
              "        const buttonEl =\n",
              "          document.querySelector('#df-98846403-1971-4591-981f-798b60b4f564 button.colab-df-convert');\n",
              "        buttonEl.style.display =\n",
              "          google.colab.kernel.accessAllowed ? 'block' : 'none';\n",
              "\n",
              "        async function convertToInteractive(key) {\n",
              "          const element = document.querySelector('#df-98846403-1971-4591-981f-798b60b4f564');\n",
              "          const dataTable =\n",
              "            await google.colab.kernel.invokeFunction('convertToInteractive',\n",
              "                                                     [key], {});\n",
              "          if (!dataTable) return;\n",
              "\n",
              "          const docLinkHtml = 'Like what you see? Visit the ' +\n",
              "            '<a target=\"_blank\" href=https://colab.research.google.com/notebooks/data_table.ipynb>data table notebook</a>'\n",
              "            + ' to learn more about interactive tables.';\n",
              "          element.innerHTML = '';\n",
              "          dataTable['output_type'] = 'display_data';\n",
              "          await google.colab.output.renderOutput(dataTable, element);\n",
              "          const docLink = document.createElement('div');\n",
              "          docLink.innerHTML = docLinkHtml;\n",
              "          element.appendChild(docLink);\n",
              "        }\n",
              "      </script>\n",
              "    </div>\n",
              "  </div>\n",
              "  "
            ]
          },
          "metadata": {},
          "execution_count": 15
        }
      ]
    },
    {
      "cell_type": "code",
      "source": [
        "preproc1_df.info()"
      ],
      "metadata": {
        "id": "t0IvTxgCZbvQ",
        "outputId": "c809dae0-93a8-4bce-bc6e-1bd96d842a2d",
        "colab": {
          "base_uri": "https://localhost:8080/"
        },
        "pycharm": {
          "name": "#%%\n"
        }
      },
      "execution_count": 16,
      "outputs": [
        {
          "output_type": "stream",
          "name": "stdout",
          "text": [
            "<class 'pandas.core.frame.DataFrame'>\n",
            "RangeIndex: 33696 entries, 0 to 33695\n",
            "Data columns (total 13 columns):\n",
            " #   Column             Non-Null Count  Dtype  \n",
            "---  ------             --------------  -----  \n",
            " 0   title              33696 non-null  object \n",
            " 1   description        33696 non-null  object \n",
            " 2   channelTitle       33677 non-null  object \n",
            " 3   categoryId         33677 non-null  float64\n",
            " 4   viewCount          33648 non-null  float64\n",
            " 5   likeCount          33200 non-null  float64\n",
            " 6   commentCount       33235 non-null  float64\n",
            " 7   duration_secs      33696 non-null  float64\n",
            " 8   log_duration_secs  33696 non-null  float64\n",
            " 9   definition         33674 non-null  object \n",
            " 10  topicCategories    33109 non-null  object \n",
            " 11  publishedDayNum    33696 non-null  int64  \n",
            " 12  publishedDayDelta  33696 non-null  int64  \n",
            "dtypes: float64(6), int64(2), object(5)\n",
            "memory usage: 3.3+ MB\n"
          ]
        }
      ]
    },
    {
      "cell_type": "markdown",
      "source": [
        "Let's again take a look at what percentage of data is missing across all the fields."
      ],
      "metadata": {
        "id": "2UZA5KbIcLNS",
        "pycharm": {
          "name": "#%% md\n"
        }
      }
    },
    {
      "cell_type": "code",
      "source": [
        "missing_data_perc_cols = (preproc1_df.isna().sum()/len(preproc1_df))*100\n",
        "missing_data_perc_cols"
      ],
      "metadata": {
        "id": "XU9z_gY7ZbyY",
        "outputId": "a5a54380-66a1-449c-ec0c-d62f2547d207",
        "colab": {
          "base_uri": "https://localhost:8080/"
        },
        "pycharm": {
          "name": "#%%\n"
        }
      },
      "execution_count": 17,
      "outputs": [
        {
          "output_type": "execute_result",
          "data": {
            "text/plain": [
              "title                0.000000\n",
              "description          0.000000\n",
              "channelTitle         0.056387\n",
              "categoryId           0.056387\n",
              "viewCount            0.142450\n",
              "likeCount            1.471985\n",
              "commentCount         1.368115\n",
              "duration_secs        0.000000\n",
              "log_duration_secs    0.000000\n",
              "definition           0.065290\n",
              "topicCategories      1.742047\n",
              "publishedDayNum      0.000000\n",
              "publishedDayDelta    0.000000\n",
              "dtype: float64"
            ]
          },
          "metadata": {},
          "execution_count": 17
        }
      ]
    },
    {
      "cell_type": "code",
      "source": [
        "lost_rows_perc = len(preproc1_df.dropna())/len(preproc1_df)*100\n",
        "lost_rows_perc"
      ],
      "metadata": {
        "id": "1v-cD0UedKA3",
        "outputId": "63120faf-fe85-4ce7-abd6-6ab94fbb2083",
        "colab": {
          "base_uri": "https://localhost:8080/"
        },
        "pycharm": {
          "name": "#%%\n"
        }
      },
      "execution_count": 18,
      "outputs": [
        {
          "output_type": "execute_result",
          "data": {
            "text/plain": [
              "95.58404558404558"
            ]
          },
          "metadata": {},
          "execution_count": 18
        }
      ]
    },
    {
      "cell_type": "markdown",
      "source": [
        "It's under 5% in across all cases, which isn't a bad thing at all and we can easily consider dropping the missing fields as we would regularly keep enriching our datastore, which would easily compensate for the missing 5% over time."
      ],
      "metadata": {
        "id": "CJzvUQV2cUnQ",
        "pycharm": {
          "name": "#%% md\n"
        }
      }
    },
    {
      "cell_type": "code",
      "source": [
        "preproc2_df = preproc1_df.dropna()"
      ],
      "metadata": {
        "id": "el2ILYIT5CuN",
        "pycharm": {
          "name": "#%%\n"
        }
      },
      "execution_count": 19,
      "outputs": []
    },
    {
      "cell_type": "code",
      "source": [
        "preproc2_df.isna().sum()"
      ],
      "metadata": {
        "id": "okxXKRxo5CxC",
        "outputId": "b21393af-a364-4c1a-8037-fc0be6fc169c",
        "colab": {
          "base_uri": "https://localhost:8080/"
        },
        "pycharm": {
          "name": "#%%\n"
        }
      },
      "execution_count": 20,
      "outputs": [
        {
          "output_type": "execute_result",
          "data": {
            "text/plain": [
              "title                0\n",
              "description          0\n",
              "channelTitle         0\n",
              "categoryId           0\n",
              "viewCount            0\n",
              "likeCount            0\n",
              "commentCount         0\n",
              "duration_secs        0\n",
              "log_duration_secs    0\n",
              "definition           0\n",
              "topicCategories      0\n",
              "publishedDayNum      0\n",
              "publishedDayDelta    0\n",
              "dtype: int64"
            ]
          },
          "metadata": {},
          "execution_count": 20
        }
      ]
    },
    {
      "cell_type": "code",
      "source": [
        "preproc2_df.drop('categoryId', axis=1).describe()"
      ],
      "metadata": {
        "id": "2J7gwINo5Czy",
        "outputId": "9469ff4a-c171-4f32-e9c7-5634f27496f3",
        "colab": {
          "base_uri": "https://localhost:8080/",
          "height": 297
        },
        "pycharm": {
          "name": "#%%\n"
        }
      },
      "execution_count": 21,
      "outputs": [
        {
          "output_type": "execute_result",
          "data": {
            "text/plain": [
              "          viewCount     likeCount  commentCount  duration_secs  \\\n",
              "count  3.220800e+04  3.220800e+04  3.220800e+04   32208.000000   \n",
              "mean   3.677086e+06  5.400372e+04  3.259719e+03     688.996802   \n",
              "std    5.280129e+07  3.294235e+05  1.394655e+04     696.394964   \n",
              "min    0.000000e+00  0.000000e+00  0.000000e+00       0.000000   \n",
              "25%    9.927450e+04  1.721000e+03  1.260000e+02     225.000000   \n",
              "50%    3.825555e+05  7.664000e+03  5.630000e+02     451.000000   \n",
              "75%    1.537845e+06  3.001375e+04  2.144000e+03     830.000000   \n",
              "max    5.809870e+09  3.042521e+07  1.124865e+06    3597.000000   \n",
              "\n",
              "       log_duration_secs  publishedDayNum  publishedDayDelta  \n",
              "count       32208.000000     32208.000000       32208.000000  \n",
              "mean            6.114632       183.086562         113.814891  \n",
              "std             0.926926       103.826155          81.520835  \n",
              "min             0.000000         1.000000           0.000000  \n",
              "25%             5.420535        93.000000          44.000000  \n",
              "50%             6.113682       185.000000          92.000000  \n",
              "75%             6.722630       269.000000         184.000000  \n",
              "max             8.188133       366.000000         276.000000  "
            ],
            "text/html": [
              "\n",
              "  <div id=\"df-be677583-643b-49e5-b1ac-c137a0033007\">\n",
              "    <div class=\"colab-df-container\">\n",
              "      <div>\n",
              "<style scoped>\n",
              "    .dataframe tbody tr th:only-of-type {\n",
              "        vertical-align: middle;\n",
              "    }\n",
              "\n",
              "    .dataframe tbody tr th {\n",
              "        vertical-align: top;\n",
              "    }\n",
              "\n",
              "    .dataframe thead th {\n",
              "        text-align: right;\n",
              "    }\n",
              "</style>\n",
              "<table border=\"1\" class=\"dataframe\">\n",
              "  <thead>\n",
              "    <tr style=\"text-align: right;\">\n",
              "      <th></th>\n",
              "      <th>viewCount</th>\n",
              "      <th>likeCount</th>\n",
              "      <th>commentCount</th>\n",
              "      <th>duration_secs</th>\n",
              "      <th>log_duration_secs</th>\n",
              "      <th>publishedDayNum</th>\n",
              "      <th>publishedDayDelta</th>\n",
              "    </tr>\n",
              "  </thead>\n",
              "  <tbody>\n",
              "    <tr>\n",
              "      <th>count</th>\n",
              "      <td>3.220800e+04</td>\n",
              "      <td>3.220800e+04</td>\n",
              "      <td>3.220800e+04</td>\n",
              "      <td>32208.000000</td>\n",
              "      <td>32208.000000</td>\n",
              "      <td>32208.000000</td>\n",
              "      <td>32208.000000</td>\n",
              "    </tr>\n",
              "    <tr>\n",
              "      <th>mean</th>\n",
              "      <td>3.677086e+06</td>\n",
              "      <td>5.400372e+04</td>\n",
              "      <td>3.259719e+03</td>\n",
              "      <td>688.996802</td>\n",
              "      <td>6.114632</td>\n",
              "      <td>183.086562</td>\n",
              "      <td>113.814891</td>\n",
              "    </tr>\n",
              "    <tr>\n",
              "      <th>std</th>\n",
              "      <td>5.280129e+07</td>\n",
              "      <td>3.294235e+05</td>\n",
              "      <td>1.394655e+04</td>\n",
              "      <td>696.394964</td>\n",
              "      <td>0.926926</td>\n",
              "      <td>103.826155</td>\n",
              "      <td>81.520835</td>\n",
              "    </tr>\n",
              "    <tr>\n",
              "      <th>min</th>\n",
              "      <td>0.000000e+00</td>\n",
              "      <td>0.000000e+00</td>\n",
              "      <td>0.000000e+00</td>\n",
              "      <td>0.000000</td>\n",
              "      <td>0.000000</td>\n",
              "      <td>1.000000</td>\n",
              "      <td>0.000000</td>\n",
              "    </tr>\n",
              "    <tr>\n",
              "      <th>25%</th>\n",
              "      <td>9.927450e+04</td>\n",
              "      <td>1.721000e+03</td>\n",
              "      <td>1.260000e+02</td>\n",
              "      <td>225.000000</td>\n",
              "      <td>5.420535</td>\n",
              "      <td>93.000000</td>\n",
              "      <td>44.000000</td>\n",
              "    </tr>\n",
              "    <tr>\n",
              "      <th>50%</th>\n",
              "      <td>3.825555e+05</td>\n",
              "      <td>7.664000e+03</td>\n",
              "      <td>5.630000e+02</td>\n",
              "      <td>451.000000</td>\n",
              "      <td>6.113682</td>\n",
              "      <td>185.000000</td>\n",
              "      <td>92.000000</td>\n",
              "    </tr>\n",
              "    <tr>\n",
              "      <th>75%</th>\n",
              "      <td>1.537845e+06</td>\n",
              "      <td>3.001375e+04</td>\n",
              "      <td>2.144000e+03</td>\n",
              "      <td>830.000000</td>\n",
              "      <td>6.722630</td>\n",
              "      <td>269.000000</td>\n",
              "      <td>184.000000</td>\n",
              "    </tr>\n",
              "    <tr>\n",
              "      <th>max</th>\n",
              "      <td>5.809870e+09</td>\n",
              "      <td>3.042521e+07</td>\n",
              "      <td>1.124865e+06</td>\n",
              "      <td>3597.000000</td>\n",
              "      <td>8.188133</td>\n",
              "      <td>366.000000</td>\n",
              "      <td>276.000000</td>\n",
              "    </tr>\n",
              "  </tbody>\n",
              "</table>\n",
              "</div>\n",
              "      <button class=\"colab-df-convert\" onclick=\"convertToInteractive('df-be677583-643b-49e5-b1ac-c137a0033007')\"\n",
              "              title=\"Convert this dataframe to an interactive table.\"\n",
              "              style=\"display:none;\">\n",
              "        \n",
              "  <svg xmlns=\"http://www.w3.org/2000/svg\" height=\"24px\"viewBox=\"0 0 24 24\"\n",
              "       width=\"24px\">\n",
              "    <path d=\"M0 0h24v24H0V0z\" fill=\"none\"/>\n",
              "    <path d=\"M18.56 5.44l.94 2.06.94-2.06 2.06-.94-2.06-.94-.94-2.06-.94 2.06-2.06.94zm-11 1L8.5 8.5l.94-2.06 2.06-.94-2.06-.94L8.5 2.5l-.94 2.06-2.06.94zm10 10l.94 2.06.94-2.06 2.06-.94-2.06-.94-.94-2.06-.94 2.06-2.06.94z\"/><path d=\"M17.41 7.96l-1.37-1.37c-.4-.4-.92-.59-1.43-.59-.52 0-1.04.2-1.43.59L10.3 9.45l-7.72 7.72c-.78.78-.78 2.05 0 2.83L4 21.41c.39.39.9.59 1.41.59.51 0 1.02-.2 1.41-.59l7.78-7.78 2.81-2.81c.8-.78.8-2.07 0-2.86zM5.41 20L4 18.59l7.72-7.72 1.47 1.35L5.41 20z\"/>\n",
              "  </svg>\n",
              "      </button>\n",
              "      \n",
              "  <style>\n",
              "    .colab-df-container {\n",
              "      display:flex;\n",
              "      flex-wrap:wrap;\n",
              "      gap: 12px;\n",
              "    }\n",
              "\n",
              "    .colab-df-convert {\n",
              "      background-color: #E8F0FE;\n",
              "      border: none;\n",
              "      border-radius: 50%;\n",
              "      cursor: pointer;\n",
              "      display: none;\n",
              "      fill: #1967D2;\n",
              "      height: 32px;\n",
              "      padding: 0 0 0 0;\n",
              "      width: 32px;\n",
              "    }\n",
              "\n",
              "    .colab-df-convert:hover {\n",
              "      background-color: #E2EBFA;\n",
              "      box-shadow: 0px 1px 2px rgba(60, 64, 67, 0.3), 0px 1px 3px 1px rgba(60, 64, 67, 0.15);\n",
              "      fill: #174EA6;\n",
              "    }\n",
              "\n",
              "    [theme=dark] .colab-df-convert {\n",
              "      background-color: #3B4455;\n",
              "      fill: #D2E3FC;\n",
              "    }\n",
              "\n",
              "    [theme=dark] .colab-df-convert:hover {\n",
              "      background-color: #434B5C;\n",
              "      box-shadow: 0px 1px 3px 1px rgba(0, 0, 0, 0.15);\n",
              "      filter: drop-shadow(0px 1px 2px rgba(0, 0, 0, 0.3));\n",
              "      fill: #FFFFFF;\n",
              "    }\n",
              "  </style>\n",
              "\n",
              "      <script>\n",
              "        const buttonEl =\n",
              "          document.querySelector('#df-be677583-643b-49e5-b1ac-c137a0033007 button.colab-df-convert');\n",
              "        buttonEl.style.display =\n",
              "          google.colab.kernel.accessAllowed ? 'block' : 'none';\n",
              "\n",
              "        async function convertToInteractive(key) {\n",
              "          const element = document.querySelector('#df-be677583-643b-49e5-b1ac-c137a0033007');\n",
              "          const dataTable =\n",
              "            await google.colab.kernel.invokeFunction('convertToInteractive',\n",
              "                                                     [key], {});\n",
              "          if (!dataTable) return;\n",
              "\n",
              "          const docLinkHtml = 'Like what you see? Visit the ' +\n",
              "            '<a target=\"_blank\" href=https://colab.research.google.com/notebooks/data_table.ipynb>data table notebook</a>'\n",
              "            + ' to learn more about interactive tables.';\n",
              "          element.innerHTML = '';\n",
              "          dataTable['output_type'] = 'display_data';\n",
              "          await google.colab.output.renderOutput(dataTable, element);\n",
              "          const docLink = document.createElement('div');\n",
              "          docLink.innerHTML = docLinkHtml;\n",
              "          element.appendChild(docLink);\n",
              "        }\n",
              "      </script>\n",
              "    </div>\n",
              "  </div>\n",
              "  "
            ]
          },
          "metadata": {},
          "execution_count": 21
        }
      ]
    },
    {
      "cell_type": "code",
      "source": [
        "preproc2_df.drop('categoryId', axis=1).corr()"
      ],
      "metadata": {
        "id": "R-ye303SeWqR",
        "outputId": "dfd3a555-f412-42f6-9bb7-80bfa6b147bb",
        "colab": {
          "base_uri": "https://localhost:8080/",
          "height": 266
        },
        "pycharm": {
          "name": "#%%\n"
        }
      },
      "execution_count": 22,
      "outputs": [
        {
          "output_type": "execute_result",
          "data": {
            "text/plain": [
              "                   viewCount  likeCount  commentCount  duration_secs  \\\n",
              "viewCount           1.000000   0.915600      0.732864      -0.022877   \n",
              "likeCount           0.915600   1.000000      0.863809      -0.023962   \n",
              "commentCount        0.732864   0.863809      1.000000      -0.003730   \n",
              "duration_secs      -0.022877  -0.023962     -0.003730       1.000000   \n",
              "log_duration_secs  -0.022340  -0.016317      0.013746       0.877233   \n",
              "publishedDayNum    -0.001604   0.005050      0.001925      -0.012563   \n",
              "publishedDayDelta   0.002457  -0.003201     -0.000680       0.008757   \n",
              "\n",
              "                   log_duration_secs  publishedDayNum  publishedDayDelta  \n",
              "viewCount                  -0.022340        -0.001604           0.002457  \n",
              "likeCount                  -0.016317         0.005050          -0.003201  \n",
              "commentCount                0.013746         0.001925          -0.000680  \n",
              "duration_secs               0.877233        -0.012563           0.008757  \n",
              "log_duration_secs           1.000000        -0.018351           0.018539  \n",
              "publishedDayNum            -0.018351         1.000000          -0.914477  \n",
              "publishedDayDelta           0.018539        -0.914477           1.000000  "
            ],
            "text/html": [
              "\n",
              "  <div id=\"df-1029491a-aeac-4fe9-bb4c-d015dfe7869c\">\n",
              "    <div class=\"colab-df-container\">\n",
              "      <div>\n",
              "<style scoped>\n",
              "    .dataframe tbody tr th:only-of-type {\n",
              "        vertical-align: middle;\n",
              "    }\n",
              "\n",
              "    .dataframe tbody tr th {\n",
              "        vertical-align: top;\n",
              "    }\n",
              "\n",
              "    .dataframe thead th {\n",
              "        text-align: right;\n",
              "    }\n",
              "</style>\n",
              "<table border=\"1\" class=\"dataframe\">\n",
              "  <thead>\n",
              "    <tr style=\"text-align: right;\">\n",
              "      <th></th>\n",
              "      <th>viewCount</th>\n",
              "      <th>likeCount</th>\n",
              "      <th>commentCount</th>\n",
              "      <th>duration_secs</th>\n",
              "      <th>log_duration_secs</th>\n",
              "      <th>publishedDayNum</th>\n",
              "      <th>publishedDayDelta</th>\n",
              "    </tr>\n",
              "  </thead>\n",
              "  <tbody>\n",
              "    <tr>\n",
              "      <th>viewCount</th>\n",
              "      <td>1.000000</td>\n",
              "      <td>0.915600</td>\n",
              "      <td>0.732864</td>\n",
              "      <td>-0.022877</td>\n",
              "      <td>-0.022340</td>\n",
              "      <td>-0.001604</td>\n",
              "      <td>0.002457</td>\n",
              "    </tr>\n",
              "    <tr>\n",
              "      <th>likeCount</th>\n",
              "      <td>0.915600</td>\n",
              "      <td>1.000000</td>\n",
              "      <td>0.863809</td>\n",
              "      <td>-0.023962</td>\n",
              "      <td>-0.016317</td>\n",
              "      <td>0.005050</td>\n",
              "      <td>-0.003201</td>\n",
              "    </tr>\n",
              "    <tr>\n",
              "      <th>commentCount</th>\n",
              "      <td>0.732864</td>\n",
              "      <td>0.863809</td>\n",
              "      <td>1.000000</td>\n",
              "      <td>-0.003730</td>\n",
              "      <td>0.013746</td>\n",
              "      <td>0.001925</td>\n",
              "      <td>-0.000680</td>\n",
              "    </tr>\n",
              "    <tr>\n",
              "      <th>duration_secs</th>\n",
              "      <td>-0.022877</td>\n",
              "      <td>-0.023962</td>\n",
              "      <td>-0.003730</td>\n",
              "      <td>1.000000</td>\n",
              "      <td>0.877233</td>\n",
              "      <td>-0.012563</td>\n",
              "      <td>0.008757</td>\n",
              "    </tr>\n",
              "    <tr>\n",
              "      <th>log_duration_secs</th>\n",
              "      <td>-0.022340</td>\n",
              "      <td>-0.016317</td>\n",
              "      <td>0.013746</td>\n",
              "      <td>0.877233</td>\n",
              "      <td>1.000000</td>\n",
              "      <td>-0.018351</td>\n",
              "      <td>0.018539</td>\n",
              "    </tr>\n",
              "    <tr>\n",
              "      <th>publishedDayNum</th>\n",
              "      <td>-0.001604</td>\n",
              "      <td>0.005050</td>\n",
              "      <td>0.001925</td>\n",
              "      <td>-0.012563</td>\n",
              "      <td>-0.018351</td>\n",
              "      <td>1.000000</td>\n",
              "      <td>-0.914477</td>\n",
              "    </tr>\n",
              "    <tr>\n",
              "      <th>publishedDayDelta</th>\n",
              "      <td>0.002457</td>\n",
              "      <td>-0.003201</td>\n",
              "      <td>-0.000680</td>\n",
              "      <td>0.008757</td>\n",
              "      <td>0.018539</td>\n",
              "      <td>-0.914477</td>\n",
              "      <td>1.000000</td>\n",
              "    </tr>\n",
              "  </tbody>\n",
              "</table>\n",
              "</div>\n",
              "      <button class=\"colab-df-convert\" onclick=\"convertToInteractive('df-1029491a-aeac-4fe9-bb4c-d015dfe7869c')\"\n",
              "              title=\"Convert this dataframe to an interactive table.\"\n",
              "              style=\"display:none;\">\n",
              "        \n",
              "  <svg xmlns=\"http://www.w3.org/2000/svg\" height=\"24px\"viewBox=\"0 0 24 24\"\n",
              "       width=\"24px\">\n",
              "    <path d=\"M0 0h24v24H0V0z\" fill=\"none\"/>\n",
              "    <path d=\"M18.56 5.44l.94 2.06.94-2.06 2.06-.94-2.06-.94-.94-2.06-.94 2.06-2.06.94zm-11 1L8.5 8.5l.94-2.06 2.06-.94-2.06-.94L8.5 2.5l-.94 2.06-2.06.94zm10 10l.94 2.06.94-2.06 2.06-.94-2.06-.94-.94-2.06-.94 2.06-2.06.94z\"/><path d=\"M17.41 7.96l-1.37-1.37c-.4-.4-.92-.59-1.43-.59-.52 0-1.04.2-1.43.59L10.3 9.45l-7.72 7.72c-.78.78-.78 2.05 0 2.83L4 21.41c.39.39.9.59 1.41.59.51 0 1.02-.2 1.41-.59l7.78-7.78 2.81-2.81c.8-.78.8-2.07 0-2.86zM5.41 20L4 18.59l7.72-7.72 1.47 1.35L5.41 20z\"/>\n",
              "  </svg>\n",
              "      </button>\n",
              "      \n",
              "  <style>\n",
              "    .colab-df-container {\n",
              "      display:flex;\n",
              "      flex-wrap:wrap;\n",
              "      gap: 12px;\n",
              "    }\n",
              "\n",
              "    .colab-df-convert {\n",
              "      background-color: #E8F0FE;\n",
              "      border: none;\n",
              "      border-radius: 50%;\n",
              "      cursor: pointer;\n",
              "      display: none;\n",
              "      fill: #1967D2;\n",
              "      height: 32px;\n",
              "      padding: 0 0 0 0;\n",
              "      width: 32px;\n",
              "    }\n",
              "\n",
              "    .colab-df-convert:hover {\n",
              "      background-color: #E2EBFA;\n",
              "      box-shadow: 0px 1px 2px rgba(60, 64, 67, 0.3), 0px 1px 3px 1px rgba(60, 64, 67, 0.15);\n",
              "      fill: #174EA6;\n",
              "    }\n",
              "\n",
              "    [theme=dark] .colab-df-convert {\n",
              "      background-color: #3B4455;\n",
              "      fill: #D2E3FC;\n",
              "    }\n",
              "\n",
              "    [theme=dark] .colab-df-convert:hover {\n",
              "      background-color: #434B5C;\n",
              "      box-shadow: 0px 1px 3px 1px rgba(0, 0, 0, 0.15);\n",
              "      filter: drop-shadow(0px 1px 2px rgba(0, 0, 0, 0.3));\n",
              "      fill: #FFFFFF;\n",
              "    }\n",
              "  </style>\n",
              "\n",
              "      <script>\n",
              "        const buttonEl =\n",
              "          document.querySelector('#df-1029491a-aeac-4fe9-bb4c-d015dfe7869c button.colab-df-convert');\n",
              "        buttonEl.style.display =\n",
              "          google.colab.kernel.accessAllowed ? 'block' : 'none';\n",
              "\n",
              "        async function convertToInteractive(key) {\n",
              "          const element = document.querySelector('#df-1029491a-aeac-4fe9-bb4c-d015dfe7869c');\n",
              "          const dataTable =\n",
              "            await google.colab.kernel.invokeFunction('convertToInteractive',\n",
              "                                                     [key], {});\n",
              "          if (!dataTable) return;\n",
              "\n",
              "          const docLinkHtml = 'Like what you see? Visit the ' +\n",
              "            '<a target=\"_blank\" href=https://colab.research.google.com/notebooks/data_table.ipynb>data table notebook</a>'\n",
              "            + ' to learn more about interactive tables.';\n",
              "          element.innerHTML = '';\n",
              "          dataTable['output_type'] = 'display_data';\n",
              "          await google.colab.output.renderOutput(dataTable, element);\n",
              "          const docLink = document.createElement('div');\n",
              "          docLink.innerHTML = docLinkHtml;\n",
              "          element.appendChild(docLink);\n",
              "        }\n",
              "      </script>\n",
              "    </div>\n",
              "  </div>\n",
              "  "
            ]
          },
          "metadata": {},
          "execution_count": 22
        }
      ]
    },
    {
      "cell_type": "code",
      "source": [
        "preproc2_df.drop('categoryId', axis=1).hist(figsize=(8,8));"
      ],
      "metadata": {
        "id": "EX-poBN0kbLM",
        "outputId": "b54ac34c-8d9f-4bbd-c1af-df18fd3f6c77",
        "colab": {
          "base_uri": "https://localhost:8080/",
          "height": 499
        },
        "pycharm": {
          "name": "#%%\n"
        }
      },
      "execution_count": 23,
      "outputs": [
        {
          "output_type": "display_data",
          "data": {
            "text/plain": [
              "<Figure size 576x576 with 9 Axes>"
            ],
            "image/png": "[encoded data removed]"
          },
          "metadata": {
            "needs_background": "light"
          }
        }
      ]
    },
    {
      "cell_type": "markdown",
      "source": [
        "We could consider applying a transformation to the data, to help address the heavy left-skew on most numerical features."
      ],
      "metadata": {
        "id": "JWSkcP6QkhCr",
        "pycharm": {
          "name": "#%% md\n"
        }
      }
    },
    {
      "cell_type": "markdown",
      "source": [
        "Let's quickly set the same steps up for the `overall_stats_raw_df` df."
      ],
      "metadata": {
        "id": "kpFgdIRye_xq",
        "pycharm": {
          "name": "#%% md\n"
        }
      }
    },
    {
      "cell_type": "code",
      "source": [
        "overall_stats_raw_df.head()"
      ],
      "metadata": {
        "id": "H48y6gUie4ZS",
        "outputId": "37347ba4-0786-4b7c-bd2e-1e0539263552",
        "colab": {
          "base_uri": "https://localhost:8080/",
          "height": 204
        },
        "pycharm": {
          "name": "#%%\n"
        }
      },
      "execution_count": 24,
      "outputs": [
        {
          "output_type": "execute_result",
          "data": {
            "text/plain": [
              "    viewCount subscriberCount videoCount       channelName\n",
              "0   872624243         2630000       1742       Sorted Food\n",
              "1  5541191663        21000000       4342             Tasty\n",
              "2   382360115         5330000         38       JunsKitchen\n",
              "3   857630029         5720000       1778      Jamie Oliver\n",
              "4   884896291         4910000        491  How To Cook That"
            ],
            "text/html": [
              "\n",
              "  <div id=\"df-aa3bfabc-0c61-4e5e-b99b-4bfd2f2cd458\">\n",
              "    <div class=\"colab-df-container\">\n",
              "      <div>\n",
              "<style scoped>\n",
              "    .dataframe tbody tr th:only-of-type {\n",
              "        vertical-align: middle;\n",
              "    }\n",
              "\n",
              "    .dataframe tbody tr th {\n",
              "        vertical-align: top;\n",
              "    }\n",
              "\n",
              "    .dataframe thead th {\n",
              "        text-align: right;\n",
              "    }\n",
              "</style>\n",
              "<table border=\"1\" class=\"dataframe\">\n",
              "  <thead>\n",
              "    <tr style=\"text-align: right;\">\n",
              "      <th></th>\n",
              "      <th>viewCount</th>\n",
              "      <th>subscriberCount</th>\n",
              "      <th>videoCount</th>\n",
              "      <th>channelName</th>\n",
              "    </tr>\n",
              "  </thead>\n",
              "  <tbody>\n",
              "    <tr>\n",
              "      <th>0</th>\n",
              "      <td>872624243</td>\n",
              "      <td>2630000</td>\n",
              "      <td>1742</td>\n",
              "      <td>Sorted Food</td>\n",
              "    </tr>\n",
              "    <tr>\n",
              "      <th>1</th>\n",
              "      <td>5541191663</td>\n",
              "      <td>21000000</td>\n",
              "      <td>4342</td>\n",
              "      <td>Tasty</td>\n",
              "    </tr>\n",
              "    <tr>\n",
              "      <th>2</th>\n",
              "      <td>382360115</td>\n",
              "      <td>5330000</td>\n",
              "      <td>38</td>\n",
              "      <td>JunsKitchen</td>\n",
              "    </tr>\n",
              "    <tr>\n",
              "      <th>3</th>\n",
              "      <td>857630029</td>\n",
              "      <td>5720000</td>\n",
              "      <td>1778</td>\n",
              "      <td>Jamie Oliver</td>\n",
              "    </tr>\n",
              "    <tr>\n",
              "      <th>4</th>\n",
              "      <td>884896291</td>\n",
              "      <td>4910000</td>\n",
              "      <td>491</td>\n",
              "      <td>How To Cook That</td>\n",
              "    </tr>\n",
              "  </tbody>\n",
              "</table>\n",
              "</div>\n",
              "      <button class=\"colab-df-convert\" onclick=\"convertToInteractive('df-aa3bfabc-0c61-4e5e-b99b-4bfd2f2cd458')\"\n",
              "              title=\"Convert this dataframe to an interactive table.\"\n",
              "              style=\"display:none;\">\n",
              "        \n",
              "  <svg xmlns=\"http://www.w3.org/2000/svg\" height=\"24px\"viewBox=\"0 0 24 24\"\n",
              "       width=\"24px\">\n",
              "    <path d=\"M0 0h24v24H0V0z\" fill=\"none\"/>\n",
              "    <path d=\"M18.56 5.44l.94 2.06.94-2.06 2.06-.94-2.06-.94-.94-2.06-.94 2.06-2.06.94zm-11 1L8.5 8.5l.94-2.06 2.06-.94-2.06-.94L8.5 2.5l-.94 2.06-2.06.94zm10 10l.94 2.06.94-2.06 2.06-.94-2.06-.94-.94-2.06-.94 2.06-2.06.94z\"/><path d=\"M17.41 7.96l-1.37-1.37c-.4-.4-.92-.59-1.43-.59-.52 0-1.04.2-1.43.59L10.3 9.45l-7.72 7.72c-.78.78-.78 2.05 0 2.83L4 21.41c.39.39.9.59 1.41.59.51 0 1.02-.2 1.41-.59l7.78-7.78 2.81-2.81c.8-.78.8-2.07 0-2.86zM5.41 20L4 18.59l7.72-7.72 1.47 1.35L5.41 20z\"/>\n",
              "  </svg>\n",
              "      </button>\n",
              "      \n",
              "  <style>\n",
              "    .colab-df-container {\n",
              "      display:flex;\n",
              "      flex-wrap:wrap;\n",
              "      gap: 12px;\n",
              "    }\n",
              "\n",
              "    .colab-df-convert {\n",
              "      background-color: #E8F0FE;\n",
              "      border: none;\n",
              "      border-radius: 50%;\n",
              "      cursor: pointer;\n",
              "      display: none;\n",
              "      fill: #1967D2;\n",
              "      height: 32px;\n",
              "      padding: 0 0 0 0;\n",
              "      width: 32px;\n",
              "    }\n",
              "\n",
              "    .colab-df-convert:hover {\n",
              "      background-color: #E2EBFA;\n",
              "      box-shadow: 0px 1px 2px rgba(60, 64, 67, 0.3), 0px 1px 3px 1px rgba(60, 64, 67, 0.15);\n",
              "      fill: #174EA6;\n",
              "    }\n",
              "\n",
              "    [theme=dark] .colab-df-convert {\n",
              "      background-color: #3B4455;\n",
              "      fill: #D2E3FC;\n",
              "    }\n",
              "\n",
              "    [theme=dark] .colab-df-convert:hover {\n",
              "      background-color: #434B5C;\n",
              "      box-shadow: 0px 1px 3px 1px rgba(0, 0, 0, 0.15);\n",
              "      filter: drop-shadow(0px 1px 2px rgba(0, 0, 0, 0.3));\n",
              "      fill: #FFFFFF;\n",
              "    }\n",
              "  </style>\n",
              "\n",
              "      <script>\n",
              "        const buttonEl =\n",
              "          document.querySelector('#df-aa3bfabc-0c61-4e5e-b99b-4bfd2f2cd458 button.colab-df-convert');\n",
              "        buttonEl.style.display =\n",
              "          google.colab.kernel.accessAllowed ? 'block' : 'none';\n",
              "\n",
              "        async function convertToInteractive(key) {\n",
              "          const element = document.querySelector('#df-aa3bfabc-0c61-4e5e-b99b-4bfd2f2cd458');\n",
              "          const dataTable =\n",
              "            await google.colab.kernel.invokeFunction('convertToInteractive',\n",
              "                                                     [key], {});\n",
              "          if (!dataTable) return;\n",
              "\n",
              "          const docLinkHtml = 'Like what you see? Visit the ' +\n",
              "            '<a target=\"_blank\" href=https://colab.research.google.com/notebooks/data_table.ipynb>data table notebook</a>'\n",
              "            + ' to learn more about interactive tables.';\n",
              "          element.innerHTML = '';\n",
              "          dataTable['output_type'] = 'display_data';\n",
              "          await google.colab.output.renderOutput(dataTable, element);\n",
              "          const docLink = document.createElement('div');\n",
              "          docLink.innerHTML = docLinkHtml;\n",
              "          element.appendChild(docLink);\n",
              "        }\n",
              "      </script>\n",
              "    </div>\n",
              "  </div>\n",
              "  "
            ]
          },
          "metadata": {},
          "execution_count": 24
        }
      ]
    },
    {
      "cell_type": "code",
      "source": [
        "overall_stats_raw_df.dtypes"
      ],
      "metadata": {
        "id": "DtktnMLEe4cA",
        "outputId": "fe675b2e-166c-480d-b6bf-d3303de93ecd",
        "colab": {
          "base_uri": "https://localhost:8080/"
        },
        "pycharm": {
          "name": "#%%\n"
        }
      },
      "execution_count": 25,
      "outputs": [
        {
          "output_type": "execute_result",
          "data": {
            "text/plain": [
              "viewCount          object\n",
              "subscriberCount    object\n",
              "videoCount         object\n",
              "channelName        object\n",
              "dtype: object"
            ]
          },
          "metadata": {},
          "execution_count": 25
        }
      ]
    },
    {
      "cell_type": "code",
      "source": [
        "ov_features = ['channelName', 'ov_viewCount', 'ov_subscriberCount', 'ov_videoCount']\n",
        "ov_stats_pre_df1 = create_dataset(overall_stats_raw_df, ov_features, primary=False)"
      ],
      "metadata": {
        "id": "i3dDxWice4ef",
        "pycharm": {
          "name": "#%%\n"
        }
      },
      "execution_count": 26,
      "outputs": []
    },
    {
      "cell_type": "code",
      "source": [
        "ov_stats_pre_df1.head()"
      ],
      "metadata": {
        "id": "X6g_BYTSe4hV",
        "outputId": "3347787d-bf6c-4e3d-c0af-6fb3b9c95fb8",
        "colab": {
          "base_uri": "https://localhost:8080/",
          "height": 204
        },
        "pycharm": {
          "name": "#%%\n"
        }
      },
      "execution_count": 27,
      "outputs": [
        {
          "output_type": "execute_result",
          "data": {
            "text/plain": [
              "        channelName  ov_viewCount  ov_subscriberCount  ov_videoCount\n",
              "0       sorted food  8.726242e+08           2630000.0         1742.0\n",
              "1             tasty  5.541192e+09          21000000.0         4342.0\n",
              "2       junskitchen  3.823601e+08           5330000.0           38.0\n",
              "3      jamie oliver  8.576300e+08           5720000.0         1778.0\n",
              "4  how to cook that  8.848963e+08           4910000.0          491.0"
            ],
            "text/html": [
              "\n",
              "  <div id=\"df-e6723e99-d396-4c8e-ab90-db58ed9cc669\">\n",
              "    <div class=\"colab-df-container\">\n",
              "      <div>\n",
              "<style scoped>\n",
              "    .dataframe tbody tr th:only-of-type {\n",
              "        vertical-align: middle;\n",
              "    }\n",
              "\n",
              "    .dataframe tbody tr th {\n",
              "        vertical-align: top;\n",
              "    }\n",
              "\n",
              "    .dataframe thead th {\n",
              "        text-align: right;\n",
              "    }\n",
              "</style>\n",
              "<table border=\"1\" class=\"dataframe\">\n",
              "  <thead>\n",
              "    <tr style=\"text-align: right;\">\n",
              "      <th></th>\n",
              "      <th>channelName</th>\n",
              "      <th>ov_viewCount</th>\n",
              "      <th>ov_subscriberCount</th>\n",
              "      <th>ov_videoCount</th>\n",
              "    </tr>\n",
              "  </thead>\n",
              "  <tbody>\n",
              "    <tr>\n",
              "      <th>0</th>\n",
              "      <td>sorted food</td>\n",
              "      <td>8.726242e+08</td>\n",
              "      <td>2630000.0</td>\n",
              "      <td>1742.0</td>\n",
              "    </tr>\n",
              "    <tr>\n",
              "      <th>1</th>\n",
              "      <td>tasty</td>\n",
              "      <td>5.541192e+09</td>\n",
              "      <td>21000000.0</td>\n",
              "      <td>4342.0</td>\n",
              "    </tr>\n",
              "    <tr>\n",
              "      <th>2</th>\n",
              "      <td>junskitchen</td>\n",
              "      <td>3.823601e+08</td>\n",
              "      <td>5330000.0</td>\n",
              "      <td>38.0</td>\n",
              "    </tr>\n",
              "    <tr>\n",
              "      <th>3</th>\n",
              "      <td>jamie oliver</td>\n",
              "      <td>8.576300e+08</td>\n",
              "      <td>5720000.0</td>\n",
              "      <td>1778.0</td>\n",
              "    </tr>\n",
              "    <tr>\n",
              "      <th>4</th>\n",
              "      <td>how to cook that</td>\n",
              "      <td>8.848963e+08</td>\n",
              "      <td>4910000.0</td>\n",
              "      <td>491.0</td>\n",
              "    </tr>\n",
              "  </tbody>\n",
              "</table>\n",
              "</div>\n",
              "      <button class=\"colab-df-convert\" onclick=\"convertToInteractive('df-e6723e99-d396-4c8e-ab90-db58ed9cc669')\"\n",
              "              title=\"Convert this dataframe to an interactive table.\"\n",
              "              style=\"display:none;\">\n",
              "        \n",
              "  <svg xmlns=\"http://www.w3.org/2000/svg\" height=\"24px\"viewBox=\"0 0 24 24\"\n",
              "       width=\"24px\">\n",
              "    <path d=\"M0 0h24v24H0V0z\" fill=\"none\"/>\n",
              "    <path d=\"M18.56 5.44l.94 2.06.94-2.06 2.06-.94-2.06-.94-.94-2.06-.94 2.06-2.06.94zm-11 1L8.5 8.5l.94-2.06 2.06-.94-2.06-.94L8.5 2.5l-.94 2.06-2.06.94zm10 10l.94 2.06.94-2.06 2.06-.94-2.06-.94-.94-2.06-.94 2.06-2.06.94z\"/><path d=\"M17.41 7.96l-1.37-1.37c-.4-.4-.92-.59-1.43-.59-.52 0-1.04.2-1.43.59L10.3 9.45l-7.72 7.72c-.78.78-.78 2.05 0 2.83L4 21.41c.39.39.9.59 1.41.59.51 0 1.02-.2 1.41-.59l7.78-7.78 2.81-2.81c.8-.78.8-2.07 0-2.86zM5.41 20L4 18.59l7.72-7.72 1.47 1.35L5.41 20z\"/>\n",
              "  </svg>\n",
              "      </button>\n",
              "      \n",
              "  <style>\n",
              "    .colab-df-container {\n",
              "      display:flex;\n",
              "      flex-wrap:wrap;\n",
              "      gap: 12px;\n",
              "    }\n",
              "\n",
              "    .colab-df-convert {\n",
              "      background-color: #E8F0FE;\n",
              "      border: none;\n",
              "      border-radius: 50%;\n",
              "      cursor: pointer;\n",
              "      display: none;\n",
              "      fill: #1967D2;\n",
              "      height: 32px;\n",
              "      padding: 0 0 0 0;\n",
              "      width: 32px;\n",
              "    }\n",
              "\n",
              "    .colab-df-convert:hover {\n",
              "      background-color: #E2EBFA;\n",
              "      box-shadow: 0px 1px 2px rgba(60, 64, 67, 0.3), 0px 1px 3px 1px rgba(60, 64, 67, 0.15);\n",
              "      fill: #174EA6;\n",
              "    }\n",
              "\n",
              "    [theme=dark] .colab-df-convert {\n",
              "      background-color: #3B4455;\n",
              "      fill: #D2E3FC;\n",
              "    }\n",
              "\n",
              "    [theme=dark] .colab-df-convert:hover {\n",
              "      background-color: #434B5C;\n",
              "      box-shadow: 0px 1px 3px 1px rgba(0, 0, 0, 0.15);\n",
              "      filter: drop-shadow(0px 1px 2px rgba(0, 0, 0, 0.3));\n",
              "      fill: #FFFFFF;\n",
              "    }\n",
              "  </style>\n",
              "\n",
              "      <script>\n",
              "        const buttonEl =\n",
              "          document.querySelector('#df-e6723e99-d396-4c8e-ab90-db58ed9cc669 button.colab-df-convert');\n",
              "        buttonEl.style.display =\n",
              "          google.colab.kernel.accessAllowed ? 'block' : 'none';\n",
              "\n",
              "        async function convertToInteractive(key) {\n",
              "          const element = document.querySelector('#df-e6723e99-d396-4c8e-ab90-db58ed9cc669');\n",
              "          const dataTable =\n",
              "            await google.colab.kernel.invokeFunction('convertToInteractive',\n",
              "                                                     [key], {});\n",
              "          if (!dataTable) return;\n",
              "\n",
              "          const docLinkHtml = 'Like what you see? Visit the ' +\n",
              "            '<a target=\"_blank\" href=https://colab.research.google.com/notebooks/data_table.ipynb>data table notebook</a>'\n",
              "            + ' to learn more about interactive tables.';\n",
              "          element.innerHTML = '';\n",
              "          dataTable['output_type'] = 'display_data';\n",
              "          await google.colab.output.renderOutput(dataTable, element);\n",
              "          const docLink = document.createElement('div');\n",
              "          docLink.innerHTML = docLinkHtml;\n",
              "          element.appendChild(docLink);\n",
              "        }\n",
              "      </script>\n",
              "    </div>\n",
              "  </div>\n",
              "  "
            ]
          },
          "metadata": {},
          "execution_count": 27
        }
      ]
    },
    {
      "cell_type": "code",
      "source": [
        "ov_stats_pre_df1.isna().sum()"
      ],
      "metadata": {
        "id": "FfgaWA8V45MV",
        "outputId": "7f9cbf3c-57bc-4f7c-a943-aa2a5c0a2df8",
        "colab": {
          "base_uri": "https://localhost:8080/"
        },
        "pycharm": {
          "name": "#%%\n"
        }
      },
      "execution_count": 28,
      "outputs": [
        {
          "output_type": "execute_result",
          "data": {
            "text/plain": [
              "channelName           0\n",
              "ov_viewCount          0\n",
              "ov_subscriberCount    0\n",
              "ov_videoCount         0\n",
              "dtype: int64"
            ]
          },
          "metadata": {},
          "execution_count": 28
        }
      ]
    },
    {
      "cell_type": "markdown",
      "source": [
        "With both the datasets ready and a basic relation overview amongst the features, we can now move onto the phase of text processing to make it machine interpretable."
      ],
      "metadata": {
        "id": "kWT7M_k0m45b",
        "pycharm": {
          "name": "#%% md\n"
        }
      }
    },
    {
      "cell_type": "code",
      "source": [
        "df = pd.merge(preproc2_df, ov_stats_pre_df1, how='left', left_on='channelTitle', right_on='channelName')\n",
        "df.head()"
      ],
      "metadata": {
        "id": "DQv5dVa_S1oe",
        "outputId": "3deb6ae7-e93c-4ebb-abaa-54f6db640e7f",
        "colab": {
          "base_uri": "https://localhost:8080/",
          "height": 557
        },
        "pycharm": {
          "name": "#%%\n"
        }
      },
      "execution_count": 29,
      "outputs": [
        {
          "output_type": "execute_result",
          "data": {
            "text/plain": [
              "                                               title  \\\n",
              "0  [unplanned, minute, cooking, battle, ep, sorte...   \n",
              "1  [blind, tasting, budget, vs, expensive, ingred...   \n",
              "2  [taste, testing, british, foods, never, tried,...   \n",
              "3  [reviewing, secret, cheats, used, professional...   \n",
              "4      [mystery, box, food, challenge, sorted, food]   \n",
              "\n",
              "                                         description channelTitle  categoryId  \\\n",
              "0  [jamie, vs, baz, today, ultimate, battle, prep...  sorted food        26.0   \n",
              "1  [mike, vs, barry, today, pick, premium, tell, ...  sorted food        26.0   \n",
              "2  [looking, global, food, recently, today, boys,...  sorted food        26.0   \n",
              "3  [jamie, mike, identify, dishes, contain, cheat...  sorted food        26.0   \n",
              "4  [get, ready, another, mystery, box, cooking, c...  sorted food        26.0   \n",
              "\n",
              "   viewCount  likeCount  commentCount  duration_secs  log_duration_secs  \\\n",
              "0   271231.0    13216.0         856.0         1267.0           7.145196   \n",
              "1   411091.0    15272.0         869.0         1080.0           6.985642   \n",
              "2   442720.0    16539.0        1486.0         1058.0           6.965080   \n",
              "3   529741.0    23721.0        1009.0         1047.0           6.954639   \n",
              "4   368171.0    14933.0         783.0          840.0           6.734592   \n",
              "\n",
              "  definition                topicCategories  publishedDayNum  \\\n",
              "0         hd  [food, lifestyle_(sociology)]              271   \n",
              "1         hd  [food, lifestyle_(sociology)]              268   \n",
              "2         hd  [food, lifestyle_(sociology)]              264   \n",
              "3         hd  [food, lifestyle_(sociology)]              257   \n",
              "4         hd  [food, lifestyle_(sociology)]              254   \n",
              "\n",
              "   publishedDayDelta  channelName  ov_viewCount  ov_subscriberCount  \\\n",
              "0                  6  sorted food   872624243.0           2630000.0   \n",
              "1                  9  sorted food   872624243.0           2630000.0   \n",
              "2                 13  sorted food   872624243.0           2630000.0   \n",
              "3                 20  sorted food   872624243.0           2630000.0   \n",
              "4                 23  sorted food   872624243.0           2630000.0   \n",
              "\n",
              "   ov_videoCount  \n",
              "0         1742.0  \n",
              "1         1742.0  \n",
              "2         1742.0  \n",
              "3         1742.0  \n",
              "4         1742.0  "
            ],
            "text/html": [
              "\n",
              "  <div id=\"df-517fd10c-0f4a-43e1-9a0d-cd9dd121deb0\">\n",
              "    <div class=\"colab-df-container\">\n",
              "      <div>\n",
              "<style scoped>\n",
              "    .dataframe tbody tr th:only-of-type {\n",
              "        vertical-align: middle;\n",
              "    }\n",
              "\n",
              "    .dataframe tbody tr th {\n",
              "        vertical-align: top;\n",
              "    }\n",
              "\n",
              "    .dataframe thead th {\n",
              "        text-align: right;\n",
              "    }\n",
              "</style>\n",
              "<table border=\"1\" class=\"dataframe\">\n",
              "  <thead>\n",
              "    <tr style=\"text-align: right;\">\n",
              "      <th></th>\n",
              "      <th>title</th>\n",
              "      <th>description</th>\n",
              "      <th>channelTitle</th>\n",
              "      <th>categoryId</th>\n",
              "      <th>viewCount</th>\n",
              "      <th>likeCount</th>\n",
              "      <th>commentCount</th>\n",
              "      <th>duration_secs</th>\n",
              "      <th>log_duration_secs</th>\n",
              "      <th>definition</th>\n",
              "      <th>topicCategories</th>\n",
              "      <th>publishedDayNum</th>\n",
              "      <th>publishedDayDelta</th>\n",
              "      <th>channelName</th>\n",
              "      <th>ov_viewCount</th>\n",
              "      <th>ov_subscriberCount</th>\n",
              "      <th>ov_videoCount</th>\n",
              "    </tr>\n",
              "  </thead>\n",
              "  <tbody>\n",
              "    <tr>\n",
              "      <th>0</th>\n",
              "      <td>[unplanned, minute, cooking, battle, ep, sorte...</td>\n",
              "      <td>[jamie, vs, baz, today, ultimate, battle, prep...</td>\n",
              "      <td>sorted food</td>\n",
              "      <td>26.0</td>\n",
              "      <td>271231.0</td>\n",
              "      <td>13216.0</td>\n",
              "      <td>856.0</td>\n",
              "      <td>1267.0</td>\n",
              "      <td>7.145196</td>\n",
              "      <td>hd</td>\n",
              "      <td>[food, lifestyle_(sociology)]</td>\n",
              "      <td>271</td>\n",
              "      <td>6</td>\n",
              "      <td>sorted food</td>\n",
              "      <td>872624243.0</td>\n",
              "      <td>2630000.0</td>\n",
              "      <td>1742.0</td>\n",
              "    </tr>\n",
              "    <tr>\n",
              "      <th>1</th>\n",
              "      <td>[blind, tasting, budget, vs, expensive, ingred...</td>\n",
              "      <td>[mike, vs, barry, today, pick, premium, tell, ...</td>\n",
              "      <td>sorted food</td>\n",
              "      <td>26.0</td>\n",
              "      <td>411091.0</td>\n",
              "      <td>15272.0</td>\n",
              "      <td>869.0</td>\n",
              "      <td>1080.0</td>\n",
              "      <td>6.985642</td>\n",
              "      <td>hd</td>\n",
              "      <td>[food, lifestyle_(sociology)]</td>\n",
              "      <td>268</td>\n",
              "      <td>9</td>\n",
              "      <td>sorted food</td>\n",
              "      <td>872624243.0</td>\n",
              "      <td>2630000.0</td>\n",
              "      <td>1742.0</td>\n",
              "    </tr>\n",
              "    <tr>\n",
              "      <th>2</th>\n",
              "      <td>[taste, testing, british, foods, never, tried,...</td>\n",
              "      <td>[looking, global, food, recently, today, boys,...</td>\n",
              "      <td>sorted food</td>\n",
              "      <td>26.0</td>\n",
              "      <td>442720.0</td>\n",
              "      <td>16539.0</td>\n",
              "      <td>1486.0</td>\n",
              "      <td>1058.0</td>\n",
              "      <td>6.965080</td>\n",
              "      <td>hd</td>\n",
              "      <td>[food, lifestyle_(sociology)]</td>\n",
              "      <td>264</td>\n",
              "      <td>13</td>\n",
              "      <td>sorted food</td>\n",
              "      <td>872624243.0</td>\n",
              "      <td>2630000.0</td>\n",
              "      <td>1742.0</td>\n",
              "    </tr>\n",
              "    <tr>\n",
              "      <th>3</th>\n",
              "      <td>[reviewing, secret, cheats, used, professional...</td>\n",
              "      <td>[jamie, mike, identify, dishes, contain, cheat...</td>\n",
              "      <td>sorted food</td>\n",
              "      <td>26.0</td>\n",
              "      <td>529741.0</td>\n",
              "      <td>23721.0</td>\n",
              "      <td>1009.0</td>\n",
              "      <td>1047.0</td>\n",
              "      <td>6.954639</td>\n",
              "      <td>hd</td>\n",
              "      <td>[food, lifestyle_(sociology)]</td>\n",
              "      <td>257</td>\n",
              "      <td>20</td>\n",
              "      <td>sorted food</td>\n",
              "      <td>872624243.0</td>\n",
              "      <td>2630000.0</td>\n",
              "      <td>1742.0</td>\n",
              "    </tr>\n",
              "    <tr>\n",
              "      <th>4</th>\n",
              "      <td>[mystery, box, food, challenge, sorted, food]</td>\n",
              "      <td>[get, ready, another, mystery, box, cooking, c...</td>\n",
              "      <td>sorted food</td>\n",
              "      <td>26.0</td>\n",
              "      <td>368171.0</td>\n",
              "      <td>14933.0</td>\n",
              "      <td>783.0</td>\n",
              "      <td>840.0</td>\n",
              "      <td>6.734592</td>\n",
              "      <td>hd</td>\n",
              "      <td>[food, lifestyle_(sociology)]</td>\n",
              "      <td>254</td>\n",
              "      <td>23</td>\n",
              "      <td>sorted food</td>\n",
              "      <td>872624243.0</td>\n",
              "      <td>2630000.0</td>\n",
              "      <td>1742.0</td>\n",
              "    </tr>\n",
              "  </tbody>\n",
              "</table>\n",
              "</div>\n",
              "      <button class=\"colab-df-convert\" onclick=\"convertToInteractive('df-517fd10c-0f4a-43e1-9a0d-cd9dd121deb0')\"\n",
              "              title=\"Convert this dataframe to an interactive table.\"\n",
              "              style=\"display:none;\">\n",
              "        \n",
              "  <svg xmlns=\"http://www.w3.org/2000/svg\" height=\"24px\"viewBox=\"0 0 24 24\"\n",
              "       width=\"24px\">\n",
              "    <path d=\"M0 0h24v24H0V0z\" fill=\"none\"/>\n",
              "    <path d=\"M18.56 5.44l.94 2.06.94-2.06 2.06-.94-2.06-.94-.94-2.06-.94 2.06-2.06.94zm-11 1L8.5 8.5l.94-2.06 2.06-.94-2.06-.94L8.5 2.5l-.94 2.06-2.06.94zm10 10l.94 2.06.94-2.06 2.06-.94-2.06-.94-.94-2.06-.94 2.06-2.06.94z\"/><path d=\"M17.41 7.96l-1.37-1.37c-.4-.4-.92-.59-1.43-.59-.52 0-1.04.2-1.43.59L10.3 9.45l-7.72 7.72c-.78.78-.78 2.05 0 2.83L4 21.41c.39.39.9.59 1.41.59.51 0 1.02-.2 1.41-.59l7.78-7.78 2.81-2.81c.8-.78.8-2.07 0-2.86zM5.41 20L4 18.59l7.72-7.72 1.47 1.35L5.41 20z\"/>\n",
              "  </svg>\n",
              "      </button>\n",
              "      \n",
              "  <style>\n",
              "    .colab-df-container {\n",
              "      display:flex;\n",
              "      flex-wrap:wrap;\n",
              "      gap: 12px;\n",
              "    }\n",
              "\n",
              "    .colab-df-convert {\n",
              "      background-color: #E8F0FE;\n",
              "      border: none;\n",
              "      border-radius: 50%;\n",
              "      cursor: pointer;\n",
              "      display: none;\n",
              "      fill: #1967D2;\n",
              "      height: 32px;\n",
              "      padding: 0 0 0 0;\n",
              "      width: 32px;\n",
              "    }\n",
              "\n",
              "    .colab-df-convert:hover {\n",
              "      background-color: #E2EBFA;\n",
              "      box-shadow: 0px 1px 2px rgba(60, 64, 67, 0.3), 0px 1px 3px 1px rgba(60, 64, 67, 0.15);\n",
              "      fill: #174EA6;\n",
              "    }\n",
              "\n",
              "    [theme=dark] .colab-df-convert {\n",
              "      background-color: #3B4455;\n",
              "      fill: #D2E3FC;\n",
              "    }\n",
              "\n",
              "    [theme=dark] .colab-df-convert:hover {\n",
              "      background-color: #434B5C;\n",
              "      box-shadow: 0px 1px 3px 1px rgba(0, 0, 0, 0.15);\n",
              "      filter: drop-shadow(0px 1px 2px rgba(0, 0, 0, 0.3));\n",
              "      fill: #FFFFFF;\n",
              "    }\n",
              "  </style>\n",
              "\n",
              "      <script>\n",
              "        const buttonEl =\n",
              "          document.querySelector('#df-517fd10c-0f4a-43e1-9a0d-cd9dd121deb0 button.colab-df-convert');\n",
              "        buttonEl.style.display =\n",
              "          google.colab.kernel.accessAllowed ? 'block' : 'none';\n",
              "\n",
              "        async function convertToInteractive(key) {\n",
              "          const element = document.querySelector('#df-517fd10c-0f4a-43e1-9a0d-cd9dd121deb0');\n",
              "          const dataTable =\n",
              "            await google.colab.kernel.invokeFunction('convertToInteractive',\n",
              "                                                     [key], {});\n",
              "          if (!dataTable) return;\n",
              "\n",
              "          const docLinkHtml = 'Like what you see? Visit the ' +\n",
              "            '<a target=\"_blank\" href=https://colab.research.google.com/notebooks/data_table.ipynb>data table notebook</a>'\n",
              "            + ' to learn more about interactive tables.';\n",
              "          element.innerHTML = '';\n",
              "          dataTable['output_type'] = 'display_data';\n",
              "          await google.colab.output.renderOutput(dataTable, element);\n",
              "          const docLink = document.createElement('div');\n",
              "          docLink.innerHTML = docLinkHtml;\n",
              "          element.appendChild(docLink);\n",
              "        }\n",
              "      </script>\n",
              "    </div>\n",
              "  </div>\n",
              "  "
            ]
          },
          "metadata": {},
          "execution_count": 29
        }
      ]
    },
    {
      "cell_type": "code",
      "source": [
        "df['std_viewCount'] = df.groupby('channelTitle').viewCount.apply(lambda x: (x - x.mean()) / x.std()).values\n"
      ],
      "metadata": {
        "id": "FZnJtYcUCbXw",
        "pycharm": {
          "name": "#%%\n"
        }
      },
      "execution_count": 30,
      "outputs": []
    },
    {
      "cell_type": "code",
      "source": [
        "unique_topics_list = set()\n",
        "for topic_list in df.topicCategories.values:\n",
        "  for topic in topic_list:\n",
        "    unique_topics_list.add(topic)\n",
        "\n",
        "unique_titles_word_list = set()\n",
        "for topic_list in df.title.values:\n",
        "  for topic in topic_list:\n",
        "    unique_titles_word_list.add(topic)"
      ],
      "metadata": {
        "id": "hchCQuvhTNRD",
        "pycharm": {
          "name": "#%%\n"
        }
      },
      "execution_count": 31,
      "outputs": []
    },
    {
      "cell_type": "code",
      "source": [
        "# unique_titles_word_list"
      ],
      "metadata": {
        "id": "wdThw77_YjVE",
        "pycharm": {
          "name": "#%%\n"
        }
      },
      "execution_count": 32,
      "outputs": []
    },
    {
      "cell_type": "code",
      "source": [
        "basic_model_features = ['title', 'topicCategories', 'definition', 'publishedDayNum', 'log_duration_secs', 'std_viewCount', 'publishedDayDelta']\n",
        "basic_model_data = df[basic_model_features]\n",
        "\n",
        "basic_model_data.head()"
      ],
      "metadata": {
        "id": "ouZJO-GlaAAW",
        "outputId": "b35b8311-e23c-4568-c572-b44a046ad9e0",
        "colab": {
          "base_uri": "https://localhost:8080/",
          "height": 204
        },
        "pycharm": {
          "name": "#%%\n"
        }
      },
      "execution_count": 33,
      "outputs": [
        {
          "output_type": "execute_result",
          "data": {
            "text/plain": [
              "                                               title  \\\n",
              "0  [unplanned, minute, cooking, battle, ep, sorte...   \n",
              "1  [blind, tasting, budget, vs, expensive, ingred...   \n",
              "2  [taste, testing, british, foods, never, tried,...   \n",
              "3  [reviewing, secret, cheats, used, professional...   \n",
              "4      [mystery, box, food, challenge, sorted, food]   \n",
              "\n",
              "                 topicCategories definition  publishedDayNum  \\\n",
              "0  [food, lifestyle_(sociology)]         hd              271   \n",
              "1  [food, lifestyle_(sociology)]         hd              268   \n",
              "2  [food, lifestyle_(sociology)]         hd              264   \n",
              "3  [food, lifestyle_(sociology)]         hd              257   \n",
              "4  [food, lifestyle_(sociology)]         hd              254   \n",
              "\n",
              "   log_duration_secs  std_viewCount  publishedDayDelta  \n",
              "0           7.145196      -0.944767                  6  \n",
              "1           6.985642      -0.626613                  9  \n",
              "2           6.965080      -0.554664                 13  \n",
              "3           6.954639      -0.356708                 20  \n",
              "4           6.734592      -0.724248                 23  "
            ],
            "text/html": [
              "\n",
              "  <div id=\"df-1d86a72a-bf66-47fa-b41b-6591b3330e0a\">\n",
              "    <div class=\"colab-df-container\">\n",
              "      <div>\n",
              "<style scoped>\n",
              "    .dataframe tbody tr th:only-of-type {\n",
              "        vertical-align: middle;\n",
              "    }\n",
              "\n",
              "    .dataframe tbody tr th {\n",
              "        vertical-align: top;\n",
              "    }\n",
              "\n",
              "    .dataframe thead th {\n",
              "        text-align: right;\n",
              "    }\n",
              "</style>\n",
              "<table border=\"1\" class=\"dataframe\">\n",
              "  <thead>\n",
              "    <tr style=\"text-align: right;\">\n",
              "      <th></th>\n",
              "      <th>title</th>\n",
              "      <th>topicCategories</th>\n",
              "      <th>definition</th>\n",
              "      <th>publishedDayNum</th>\n",
              "      <th>log_duration_secs</th>\n",
              "      <th>std_viewCount</th>\n",
              "      <th>publishedDayDelta</th>\n",
              "    </tr>\n",
              "  </thead>\n",
              "  <tbody>\n",
              "    <tr>\n",
              "      <th>0</th>\n",
              "      <td>[unplanned, minute, cooking, battle, ep, sorte...</td>\n",
              "      <td>[food, lifestyle_(sociology)]</td>\n",
              "      <td>hd</td>\n",
              "      <td>271</td>\n",
              "      <td>7.145196</td>\n",
              "      <td>-0.944767</td>\n",
              "      <td>6</td>\n",
              "    </tr>\n",
              "    <tr>\n",
              "      <th>1</th>\n",
              "      <td>[blind, tasting, budget, vs, expensive, ingred...</td>\n",
              "      <td>[food, lifestyle_(sociology)]</td>\n",
              "      <td>hd</td>\n",
              "      <td>268</td>\n",
              "      <td>6.985642</td>\n",
              "      <td>-0.626613</td>\n",
              "      <td>9</td>\n",
              "    </tr>\n",
              "    <tr>\n",
              "      <th>2</th>\n",
              "      <td>[taste, testing, british, foods, never, tried,...</td>\n",
              "      <td>[food, lifestyle_(sociology)]</td>\n",
              "      <td>hd</td>\n",
              "      <td>264</td>\n",
              "      <td>6.965080</td>\n",
              "      <td>-0.554664</td>\n",
              "      <td>13</td>\n",
              "    </tr>\n",
              "    <tr>\n",
              "      <th>3</th>\n",
              "      <td>[reviewing, secret, cheats, used, professional...</td>\n",
              "      <td>[food, lifestyle_(sociology)]</td>\n",
              "      <td>hd</td>\n",
              "      <td>257</td>\n",
              "      <td>6.954639</td>\n",
              "      <td>-0.356708</td>\n",
              "      <td>20</td>\n",
              "    </tr>\n",
              "    <tr>\n",
              "      <th>4</th>\n",
              "      <td>[mystery, box, food, challenge, sorted, food]</td>\n",
              "      <td>[food, lifestyle_(sociology)]</td>\n",
              "      <td>hd</td>\n",
              "      <td>254</td>\n",
              "      <td>6.734592</td>\n",
              "      <td>-0.724248</td>\n",
              "      <td>23</td>\n",
              "    </tr>\n",
              "  </tbody>\n",
              "</table>\n",
              "</div>\n",
              "      <button class=\"colab-df-convert\" onclick=\"convertToInteractive('df-1d86a72a-bf66-47fa-b41b-6591b3330e0a')\"\n",
              "              title=\"Convert this dataframe to an interactive table.\"\n",
              "              style=\"display:none;\">\n",
              "        \n",
              "  <svg xmlns=\"http://www.w3.org/2000/svg\" height=\"24px\"viewBox=\"0 0 24 24\"\n",
              "       width=\"24px\">\n",
              "    <path d=\"M0 0h24v24H0V0z\" fill=\"none\"/>\n",
              "    <path d=\"M18.56 5.44l.94 2.06.94-2.06 2.06-.94-2.06-.94-.94-2.06-.94 2.06-2.06.94zm-11 1L8.5 8.5l.94-2.06 2.06-.94-2.06-.94L8.5 2.5l-.94 2.06-2.06.94zm10 10l.94 2.06.94-2.06 2.06-.94-2.06-.94-.94-2.06-.94 2.06-2.06.94z\"/><path d=\"M17.41 7.96l-1.37-1.37c-.4-.4-.92-.59-1.43-.59-.52 0-1.04.2-1.43.59L10.3 9.45l-7.72 7.72c-.78.78-.78 2.05 0 2.83L4 21.41c.39.39.9.59 1.41.59.51 0 1.02-.2 1.41-.59l7.78-7.78 2.81-2.81c.8-.78.8-2.07 0-2.86zM5.41 20L4 18.59l7.72-7.72 1.47 1.35L5.41 20z\"/>\n",
              "  </svg>\n",
              "      </button>\n",
              "      \n",
              "  <style>\n",
              "    .colab-df-container {\n",
              "      display:flex;\n",
              "      flex-wrap:wrap;\n",
              "      gap: 12px;\n",
              "    }\n",
              "\n",
              "    .colab-df-convert {\n",
              "      background-color: #E8F0FE;\n",
              "      border: none;\n",
              "      border-radius: 50%;\n",
              "      cursor: pointer;\n",
              "      display: none;\n",
              "      fill: #1967D2;\n",
              "      height: 32px;\n",
              "      padding: 0 0 0 0;\n",
              "      width: 32px;\n",
              "    }\n",
              "\n",
              "    .colab-df-convert:hover {\n",
              "      background-color: #E2EBFA;\n",
              "      box-shadow: 0px 1px 2px rgba(60, 64, 67, 0.3), 0px 1px 3px 1px rgba(60, 64, 67, 0.15);\n",
              "      fill: #174EA6;\n",
              "    }\n",
              "\n",
              "    [theme=dark] .colab-df-convert {\n",
              "      background-color: #3B4455;\n",
              "      fill: #D2E3FC;\n",
              "    }\n",
              "\n",
              "    [theme=dark] .colab-df-convert:hover {\n",
              "      background-color: #434B5C;\n",
              "      box-shadow: 0px 1px 3px 1px rgba(0, 0, 0, 0.15);\n",
              "      filter: drop-shadow(0px 1px 2px rgba(0, 0, 0, 0.3));\n",
              "      fill: #FFFFFF;\n",
              "    }\n",
              "  </style>\n",
              "\n",
              "      <script>\n",
              "        const buttonEl =\n",
              "          document.querySelector('#df-1d86a72a-bf66-47fa-b41b-6591b3330e0a button.colab-df-convert');\n",
              "        buttonEl.style.display =\n",
              "          google.colab.kernel.accessAllowed ? 'block' : 'none';\n",
              "\n",
              "        async function convertToInteractive(key) {\n",
              "          const element = document.querySelector('#df-1d86a72a-bf66-47fa-b41b-6591b3330e0a');\n",
              "          const dataTable =\n",
              "            await google.colab.kernel.invokeFunction('convertToInteractive',\n",
              "                                                     [key], {});\n",
              "          if (!dataTable) return;\n",
              "\n",
              "          const docLinkHtml = 'Like what you see? Visit the ' +\n",
              "            '<a target=\"_blank\" href=https://colab.research.google.com/notebooks/data_table.ipynb>data table notebook</a>'\n",
              "            + ' to learn more about interactive tables.';\n",
              "          element.innerHTML = '';\n",
              "          dataTable['output_type'] = 'display_data';\n",
              "          await google.colab.output.renderOutput(dataTable, element);\n",
              "          const docLink = document.createElement('div');\n",
              "          docLink.innerHTML = docLinkHtml;\n",
              "          element.appendChild(docLink);\n",
              "        }\n",
              "      </script>\n",
              "    </div>\n",
              "  </div>\n",
              "  "
            ]
          },
          "metadata": {},
          "execution_count": 33
        }
      ]
    },
    {
      "cell_type": "code",
      "source": [
        "import seaborn as sns\n",
        "#b4 transform\n",
        "sns.distplot(basic_model_data.log_duration_secs+1);"
      ],
      "metadata": {
        "id": "htD-0uJkehjo",
        "outputId": "d03e3bf4-eb39-4fcb-a95c-cde8c4111b1a",
        "colab": {
          "base_uri": "https://localhost:8080/",
          "height": 280
        },
        "pycharm": {
          "name": "#%%\n"
        }
      },
      "execution_count": 34,
      "outputs": [
        {
          "output_type": "display_data",
          "data": {
            "text/plain": [
              "<Figure size 432x288 with 1 Axes>"
            ],
            "image/png": "[encoded data removed]"
          },
          "metadata": {
            "needs_background": "light"
          }
        }
      ]
    },
    {
      "cell_type": "code",
      "source": [
        "#after transform\n",
        "# sns.distplot(np.log(basic_model_data.duration_secs+1));"
      ],
      "metadata": {
        "id": "f_cfd7yuvx6q",
        "pycharm": {
          "name": "#%%\n"
        }
      },
      "execution_count": 35,
      "outputs": []
    },
    {
      "cell_type": "code",
      "source": [
        "# sns.distplot(basic_model_data.publishedDayDelta);"
      ],
      "metadata": {
        "id": "wBqz64QEow4x"
      },
      "execution_count": 36,
      "outputs": []
    },
    {
      "cell_type": "code",
      "source": [
        "word2vec_titles = Word2Vec(basic_model_data.title, min_count=1)\n",
        "word2vec_topics = Word2Vec(basic_model_data.topicCategories, min_count=1)"
      ],
      "metadata": {
        "id": "HtQu1FwAbXLL",
        "pycharm": {
          "name": "#%%\n"
        }
      },
      "execution_count": 37,
      "outputs": []
    },
    {
      "cell_type": "code",
      "source": [
        "# word2vec_titles.wv.vocab\n",
        "word2vec_titles.wv['artificial'].shape"
      ],
      "metadata": {
        "id": "XjCqmQ87rsHI",
        "outputId": "8efdf2ca-af12-43a0-989c-aa3f68e1ee3b",
        "colab": {
          "base_uri": "https://localhost:8080/"
        },
        "pycharm": {
          "name": "#%%\n"
        }
      },
      "execution_count": 38,
      "outputs": [
        {
          "output_type": "execute_result",
          "data": {
            "text/plain": [
              "(100,)"
            ]
          },
          "metadata": {},
          "execution_count": 38
        }
      ]
    },
    {
      "cell_type": "code",
      "source": [
        "# word2vec_titles.most_similar('travel')"
      ],
      "metadata": {
        "id": "1mKk_Afasedj",
        "pycharm": {
          "name": "#%%\n"
        }
      },
      "execution_count": 39,
      "outputs": []
    },
    {
      "cell_type": "code",
      "source": [
        "def w2v_models(df, col_list):\n",
        "\n",
        "  model_dict = {}\n",
        "  for col in col_list:\n",
        "    model_dict[col] = Word2Vec(df[col], min_count=1)\n",
        "  \n",
        "  return model_dict"
      ],
      "metadata": {
        "id": "60W1r2aKtUal",
        "pycharm": {
          "name": "#%%\n"
        }
      },
      "execution_count": 40,
      "outputs": []
    },
    {
      "cell_type": "code",
      "source": [
        "w2v_model_dict = w2v_models(basic_model_data, ['title', 'topicCategories'])"
      ],
      "metadata": {
        "id": "FNlOQoyUyMZz",
        "pycharm": {
          "name": "#%%\n"
        }
      },
      "execution_count": 41,
      "outputs": []
    },
    {
      "cell_type": "code",
      "source": [
        "w2v_model_dict"
      ],
      "metadata": {
        "id": "snXGyKHY0twY",
        "outputId": "cda03a74-b2df-4eea-ae4b-69a652efda3d",
        "colab": {
          "base_uri": "https://localhost:8080/"
        },
        "pycharm": {
          "name": "#%%\n"
        }
      },
      "execution_count": 42,
      "outputs": [
        {
          "output_type": "execute_result",
          "data": {
            "text/plain": [
              "{'title': <gensim.models.word2vec.Word2Vec at 0x7f9c7e37ab90>,\n",
              " 'topicCategories': <gensim.models.word2vec.Word2Vec at 0x7f9c81ac8950>}"
            ]
          },
          "metadata": {},
          "execution_count": 42
        }
      ]
    },
    {
      "cell_type": "code",
      "source": [
        "def vectorise_text(df, model):\n",
        "  arr = np.zeros(100)\n",
        "  for word in df:\n",
        "    arr+=model.wv[word]\n",
        "    \n",
        "  return(np.mean(np.expand_dims(arr, axis=1), axis=1))"
      ],
      "metadata": {
        "id": "UX7fFVaz0x-g",
        "pycharm": {
          "name": "#%%\n"
        }
      },
      "execution_count": 43,
      "outputs": []
    },
    {
      "cell_type": "code",
      "source": [
        "# vectorise_text([\"science\", \"art\"], w2v_model_dict['title'])\n",
        "basic_model_data.columns"
      ],
      "metadata": {
        "id": "QTwyrG4f342n",
        "pycharm": {
          "name": "#%%\n"
        },
        "outputId": "6a213898-28ad-4665-b574-63a032c0649b",
        "colab": {
          "base_uri": "https://localhost:8080/"
        }
      },
      "execution_count": 44,
      "outputs": [
        {
          "output_type": "execute_result",
          "data": {
            "text/plain": [
              "Index(['title', 'topicCategories', 'definition', 'publishedDayNum',\n",
              "       'log_duration_secs', 'std_viewCount', 'publishedDayDelta'],\n",
              "      dtype='object')"
            ]
          },
          "metadata": {},
          "execution_count": 44
        }
      ]
    },
    {
      "cell_type": "code",
      "source": [
        "basic_model_data['vec_title'] = basic_model_data.title.apply(vectorise_text, model=w2v_model_dict['title'])\n",
        "basic_model_data['vec_topicCategories'] = basic_model_data.topicCategories.apply(vectorise_text, model=w2v_model_dict['topicCategories'])"
      ],
      "metadata": {
        "id": "HD164gry56tH",
        "pycharm": {
          "name": "#%%\n"
        }
      },
      "execution_count": 45,
      "outputs": []
    },
    {
      "cell_type": "code",
      "source": [
        "['title', 'topicCategories', 'definition', 'publishedDayNum', 'log_duration_secs', 'std_viewCount', 'publishedDayDelta']"
      ],
      "metadata": {
        "id": "jHstv5vOACVg",
        "pycharm": {
          "name": "#%%\n"
        },
        "outputId": "bf05d91a-cc19-4470-e333-430a2fb24fe8",
        "colab": {
          "base_uri": "https://localhost:8080/"
        }
      },
      "execution_count": 46,
      "outputs": [
        {
          "output_type": "execute_result",
          "data": {
            "text/plain": [
              "['title',\n",
              " 'topicCategories',\n",
              " 'definition',\n",
              " 'publishedDayNum',\n",
              " 'log_duration_secs',\n",
              " 'std_viewCount',\n",
              " 'publishedDayDelta']"
            ]
          },
          "metadata": {},
          "execution_count": 46
        }
      ]
    },
    {
      "cell_type": "code",
      "source": [],
      "metadata": {
        "id": "2esqtMdv1kvA"
      },
      "execution_count": 46,
      "outputs": []
    },
    {
      "cell_type": "code",
      "source": [
        "titles = pd.DataFrame(basic_model_data.vec_title.tolist(), index= basic_model_data.index, columns=[\"title_\"+str(i) for i in range(1,101)])\n",
        "topics = pd.DataFrame(basic_model_data.vec_topicCategories.tolist(), index= basic_model_data.index, columns=[\"topics_\"+str(i) for i in range(1,101)])\n"
      ],
      "metadata": {
        "id": "-NuUWR_P9mst",
        "pycharm": {
          "name": "#%%\n"
        }
      },
      "execution_count": 47,
      "outputs": []
    },
    {
      "cell_type": "code",
      "source": [
        "data_df = pd.concat([titles, topics, basic_model_data[['publishedDayNum', 'log_duration_secs', 'std_viewCount', 'publishedDayDelta']], pd.get_dummies(basic_model_data.definition)], axis=1)"
      ],
      "metadata": {
        "id": "tYH9RTCwATRr",
        "pycharm": {
          "name": "#%%\n"
        }
      },
      "execution_count": 48,
      "outputs": []
    },
    {
      "cell_type": "code",
      "source": [
        "data_df.head()"
      ],
      "metadata": {
        "id": "mxav80BUAfKU",
        "outputId": "7377ddc1-d179-4f85-d2dc-e1758fad0134",
        "colab": {
          "base_uri": "https://localhost:8080/",
          "height": 297
        },
        "pycharm": {
          "name": "#%%\n"
        }
      },
      "execution_count": 49,
      "outputs": [
        {
          "output_type": "execute_result",
          "data": {
            "text/plain": [
              "    title_1   title_2   title_3   title_4   title_5   title_6   title_7  \\\n",
              "0  0.401229 -2.715177  5.087640  5.475487 -1.122091  1.346023  0.025315   \n",
              "1  0.189841 -1.256890  4.560727  6.057079 -1.057298  0.796235  0.704313   \n",
              "2  0.292770 -1.318888  4.288682  5.785075 -0.880785  0.727434  0.619151   \n",
              "3 -0.087564 -0.542605  3.162263  3.948141 -0.795325  0.475019  0.271176   \n",
              "4 -0.416673 -0.856380  4.914061  5.412475 -1.226345  1.123867  0.419777   \n",
              "\n",
              "    title_8   title_9  title_10  ...  topics_97  topics_98  topics_99  \\\n",
              "0 -0.113020  4.260912 -2.580244  ...  -0.142376   0.026366  -0.208351   \n",
              "1 -0.458904  3.747643 -3.993912  ...  -0.142376   0.026366  -0.208351   \n",
              "2 -0.559373  3.552798 -3.711480  ...  -0.142376   0.026366  -0.208351   \n",
              "3 -0.404316  2.235268 -2.632191  ...  -0.142376   0.026366  -0.208351   \n",
              "4 -0.291984  3.112862 -3.155930  ...  -0.142376   0.026366  -0.208351   \n",
              "\n",
              "   topics_100  publishedDayNum  log_duration_secs  std_viewCount  \\\n",
              "0    0.080574              271           7.145196      -0.944767   \n",
              "1    0.080574              268           6.985642      -0.626613   \n",
              "2    0.080574              264           6.965080      -0.554664   \n",
              "3    0.080574              257           6.954639      -0.356708   \n",
              "4    0.080574              254           6.734592      -0.724248   \n",
              "\n",
              "   publishedDayDelta  hd  sd  \n",
              "0                  6   1   0  \n",
              "1                  9   1   0  \n",
              "2                 13   1   0  \n",
              "3                 20   1   0  \n",
              "4                 23   1   0  \n",
              "\n",
              "[5 rows x 206 columns]"
            ],
            "text/html": [
              "\n",
              "  <div id=\"df-9df64f99-a2bd-4268-b7df-9b73733541b6\">\n",
              "    <div class=\"colab-df-container\">\n",
              "      <div>\n",
              "<style scoped>\n",
              "    .dataframe tbody tr th:only-of-type {\n",
              "        vertical-align: middle;\n",
              "    }\n",
              "\n",
              "    .dataframe tbody tr th {\n",
              "        vertical-align: top;\n",
              "    }\n",
              "\n",
              "    .dataframe thead th {\n",
              "        text-align: right;\n",
              "    }\n",
              "</style>\n",
              "<table border=\"1\" class=\"dataframe\">\n",
              "  <thead>\n",
              "    <tr style=\"text-align: right;\">\n",
              "      <th></th>\n",
              "      <th>title_1</th>\n",
              "      <th>title_2</th>\n",
              "      <th>title_3</th>\n",
              "      <th>title_4</th>\n",
              "      <th>title_5</th>\n",
              "      <th>title_6</th>\n",
              "      <th>title_7</th>\n",
              "      <th>title_8</th>\n",
              "      <th>title_9</th>\n",
              "      <th>title_10</th>\n",
              "      <th>...</th>\n",
              "      <th>topics_97</th>\n",
              "      <th>topics_98</th>\n",
              "      <th>topics_99</th>\n",
              "      <th>topics_100</th>\n",
              "      <th>publishedDayNum</th>\n",
              "      <th>log_duration_secs</th>\n",
              "      <th>std_viewCount</th>\n",
              "      <th>publishedDayDelta</th>\n",
              "      <th>hd</th>\n",
              "      <th>sd</th>\n",
              "    </tr>\n",
              "  </thead>\n",
              "  <tbody>\n",
              "    <tr>\n",
              "      <th>0</th>\n",
              "      <td>0.401229</td>\n",
              "      <td>-2.715177</td>\n",
              "      <td>5.087640</td>\n",
              "      <td>5.475487</td>\n",
              "      <td>-1.122091</td>\n",
              "      <td>1.346023</td>\n",
              "      <td>0.025315</td>\n",
              "      <td>-0.113020</td>\n",
              "      <td>4.260912</td>\n",
              "      <td>-2.580244</td>\n",
              "      <td>...</td>\n",
              "      <td>-0.142376</td>\n",
              "      <td>0.026366</td>\n",
              "      <td>-0.208351</td>\n",
              "      <td>0.080574</td>\n",
              "      <td>271</td>\n",
              "      <td>7.145196</td>\n",
              "      <td>-0.944767</td>\n",
              "      <td>6</td>\n",
              "      <td>1</td>\n",
              "      <td>0</td>\n",
              "    </tr>\n",
              "    <tr>\n",
              "      <th>1</th>\n",
              "      <td>0.189841</td>\n",
              "      <td>-1.256890</td>\n",
              "      <td>4.560727</td>\n",
              "      <td>6.057079</td>\n",
              "      <td>-1.057298</td>\n",
              "      <td>0.796235</td>\n",
              "      <td>0.704313</td>\n",
              "      <td>-0.458904</td>\n",
              "      <td>3.747643</td>\n",
              "      <td>-3.993912</td>\n",
              "      <td>...</td>\n",
              "      <td>-0.142376</td>\n",
              "      <td>0.026366</td>\n",
              "      <td>-0.208351</td>\n",
              "      <td>0.080574</td>\n",
              "      <td>268</td>\n",
              "      <td>6.985642</td>\n",
              "      <td>-0.626613</td>\n",
              "      <td>9</td>\n",
              "      <td>1</td>\n",
              "      <td>0</td>\n",
              "    </tr>\n",
              "    <tr>\n",
              "      <th>2</th>\n",
              "      <td>0.292770</td>\n",
              "      <td>-1.318888</td>\n",
              "      <td>4.288682</td>\n",
              "      <td>5.785075</td>\n",
              "      <td>-0.880785</td>\n",
              "      <td>0.727434</td>\n",
              "      <td>0.619151</td>\n",
              "      <td>-0.559373</td>\n",
              "      <td>3.552798</td>\n",
              "      <td>-3.711480</td>\n",
              "      <td>...</td>\n",
              "      <td>-0.142376</td>\n",
              "      <td>0.026366</td>\n",
              "      <td>-0.208351</td>\n",
              "      <td>0.080574</td>\n",
              "      <td>264</td>\n",
              "      <td>6.965080</td>\n",
              "      <td>-0.554664</td>\n",
              "      <td>13</td>\n",
              "      <td>1</td>\n",
              "      <td>0</td>\n",
              "    </tr>\n",
              "    <tr>\n",
              "      <th>3</th>\n",
              "      <td>-0.087564</td>\n",
              "      <td>-0.542605</td>\n",
              "      <td>3.162263</td>\n",
              "      <td>3.948141</td>\n",
              "      <td>-0.795325</td>\n",
              "      <td>0.475019</td>\n",
              "      <td>0.271176</td>\n",
              "      <td>-0.404316</td>\n",
              "      <td>2.235268</td>\n",
              "      <td>-2.632191</td>\n",
              "      <td>...</td>\n",
              "      <td>-0.142376</td>\n",
              "      <td>0.026366</td>\n",
              "      <td>-0.208351</td>\n",
              "      <td>0.080574</td>\n",
              "      <td>257</td>\n",
              "      <td>6.954639</td>\n",
              "      <td>-0.356708</td>\n",
              "      <td>20</td>\n",
              "      <td>1</td>\n",
              "      <td>0</td>\n",
              "    </tr>\n",
              "    <tr>\n",
              "      <th>4</th>\n",
              "      <td>-0.416673</td>\n",
              "      <td>-0.856380</td>\n",
              "      <td>4.914061</td>\n",
              "      <td>5.412475</td>\n",
              "      <td>-1.226345</td>\n",
              "      <td>1.123867</td>\n",
              "      <td>0.419777</td>\n",
              "      <td>-0.291984</td>\n",
              "      <td>3.112862</td>\n",
              "      <td>-3.155930</td>\n",
              "      <td>...</td>\n",
              "      <td>-0.142376</td>\n",
              "      <td>0.026366</td>\n",
              "      <td>-0.208351</td>\n",
              "      <td>0.080574</td>\n",
              "      <td>254</td>\n",
              "      <td>6.734592</td>\n",
              "      <td>-0.724248</td>\n",
              "      <td>23</td>\n",
              "      <td>1</td>\n",
              "      <td>0</td>\n",
              "    </tr>\n",
              "  </tbody>\n",
              "</table>\n",
              "<p>5 rows × 206 columns</p>\n",
              "</div>\n",
              "      <button class=\"colab-df-convert\" onclick=\"convertToInteractive('df-9df64f99-a2bd-4268-b7df-9b73733541b6')\"\n",
              "              title=\"Convert this dataframe to an interactive table.\"\n",
              "              style=\"display:none;\">\n",
              "        \n",
              "  <svg xmlns=\"http://www.w3.org/2000/svg\" height=\"24px\"viewBox=\"0 0 24 24\"\n",
              "       width=\"24px\">\n",
              "    <path d=\"M0 0h24v24H0V0z\" fill=\"none\"/>\n",
              "    <path d=\"M18.56 5.44l.94 2.06.94-2.06 2.06-.94-2.06-.94-.94-2.06-.94 2.06-2.06.94zm-11 1L8.5 8.5l.94-2.06 2.06-.94-2.06-.94L8.5 2.5l-.94 2.06-2.06.94zm10 10l.94 2.06.94-2.06 2.06-.94-2.06-.94-.94-2.06-.94 2.06-2.06.94z\"/><path d=\"M17.41 7.96l-1.37-1.37c-.4-.4-.92-.59-1.43-.59-.52 0-1.04.2-1.43.59L10.3 9.45l-7.72 7.72c-.78.78-.78 2.05 0 2.83L4 21.41c.39.39.9.59 1.41.59.51 0 1.02-.2 1.41-.59l7.78-7.78 2.81-2.81c.8-.78.8-2.07 0-2.86zM5.41 20L4 18.59l7.72-7.72 1.47 1.35L5.41 20z\"/>\n",
              "  </svg>\n",
              "      </button>\n",
              "      \n",
              "  <style>\n",
              "    .colab-df-container {\n",
              "      display:flex;\n",
              "      flex-wrap:wrap;\n",
              "      gap: 12px;\n",
              "    }\n",
              "\n",
              "    .colab-df-convert {\n",
              "      background-color: #E8F0FE;\n",
              "      border: none;\n",
              "      border-radius: 50%;\n",
              "      cursor: pointer;\n",
              "      display: none;\n",
              "      fill: #1967D2;\n",
              "      height: 32px;\n",
              "      padding: 0 0 0 0;\n",
              "      width: 32px;\n",
              "    }\n",
              "\n",
              "    .colab-df-convert:hover {\n",
              "      background-color: #E2EBFA;\n",
              "      box-shadow: 0px 1px 2px rgba(60, 64, 67, 0.3), 0px 1px 3px 1px rgba(60, 64, 67, 0.15);\n",
              "      fill: #174EA6;\n",
              "    }\n",
              "\n",
              "    [theme=dark] .colab-df-convert {\n",
              "      background-color: #3B4455;\n",
              "      fill: #D2E3FC;\n",
              "    }\n",
              "\n",
              "    [theme=dark] .colab-df-convert:hover {\n",
              "      background-color: #434B5C;\n",
              "      box-shadow: 0px 1px 3px 1px rgba(0, 0, 0, 0.15);\n",
              "      filter: drop-shadow(0px 1px 2px rgba(0, 0, 0, 0.3));\n",
              "      fill: #FFFFFF;\n",
              "    }\n",
              "  </style>\n",
              "\n",
              "      <script>\n",
              "        const buttonEl =\n",
              "          document.querySelector('#df-9df64f99-a2bd-4268-b7df-9b73733541b6 button.colab-df-convert');\n",
              "        buttonEl.style.display =\n",
              "          google.colab.kernel.accessAllowed ? 'block' : 'none';\n",
              "\n",
              "        async function convertToInteractive(key) {\n",
              "          const element = document.querySelector('#df-9df64f99-a2bd-4268-b7df-9b73733541b6');\n",
              "          const dataTable =\n",
              "            await google.colab.kernel.invokeFunction('convertToInteractive',\n",
              "                                                     [key], {});\n",
              "          if (!dataTable) return;\n",
              "\n",
              "          const docLinkHtml = 'Like what you see? Visit the ' +\n",
              "            '<a target=\"_blank\" href=https://colab.research.google.com/notebooks/data_table.ipynb>data table notebook</a>'\n",
              "            + ' to learn more about interactive tables.';\n",
              "          element.innerHTML = '';\n",
              "          dataTable['output_type'] = 'display_data';\n",
              "          await google.colab.output.renderOutput(dataTable, element);\n",
              "          const docLink = document.createElement('div');\n",
              "          docLink.innerHTML = docLinkHtml;\n",
              "          element.appendChild(docLink);\n",
              "        }\n",
              "      </script>\n",
              "    </div>\n",
              "  </div>\n",
              "  "
            ]
          },
          "metadata": {},
          "execution_count": 49
        }
      ]
    },
    {
      "cell_type": "code",
      "source": [
        "from sklearn.model_selection import train_test_split\n",
        "from sklearn.preprocessing import StandardScaler\n",
        "from sklearn.decomposition import PCA"
      ],
      "metadata": {
        "id": "DOL2fVOqCN1y",
        "pycharm": {
          "name": "#%%\n"
        }
      },
      "execution_count": 50,
      "outputs": []
    },
    {
      "cell_type": "code",
      "source": [
        "data_train, data_test = train_test_split(data_df, test_size=0.20, random_state=42)"
      ],
      "metadata": {
        "id": "IafoRDfiB_6L",
        "pycharm": {
          "name": "#%%\n"
        }
      },
      "execution_count": 51,
      "outputs": []
    },
    {
      "cell_type": "code",
      "source": [],
      "metadata": {
        "id": "8WczqHqLRUIN"
      },
      "execution_count": null,
      "outputs": []
    },
    {
      "cell_type": "code",
      "source": [
        "train_X = data_train.drop(\"std_viewCount\", axis=1)\n",
        "train_y = data_train.std_viewCount\n",
        "\n",
        "test_X = data_test.drop(\"std_viewCount\", axis=1)\n",
        "test_y = data_test.std_viewCount"
      ],
      "metadata": {
        "id": "uELPK5OiCsIq",
        "pycharm": {
          "name": "#%%\n"
        }
      },
      "execution_count": 52,
      "outputs": []
    },
    {
      "cell_type": "code",
      "source": [],
      "metadata": {
        "id": "8XQ7khYVwaQW"
      },
      "execution_count": 52,
      "outputs": []
    },
    {
      "cell_type": "code",
      "source": [
        "# train_X"
      ],
      "metadata": {
        "id": "_6BmGj1dNvJC",
        "pycharm": {
          "name": "#%%\n"
        }
      },
      "execution_count": 53,
      "outputs": []
    },
    {
      "cell_type": "code",
      "source": [
        "sc = StandardScaler()\n",
        "train_X = sc.fit_transform(train_X)\n",
        "test_X = sc.transform(test_X)\n",
        "\n"
      ],
      "metadata": {
        "id": "EslSOArDCpOJ",
        "pycharm": {
          "name": "#%%\n"
        }
      },
      "execution_count": null,
      "outputs": []
    },
    {
      "cell_type": "code",
      "source": [
        "pca = PCA(n_components=20)\n",
        "pca.fit(train_X)\n",
        "# print(()))"
      ],
      "metadata": {
        "id": "yPvtZSTpOiOr",
        "outputId": "f9da02d8-9e56-4ae1-a074-81fbe0c548cf",
        "colab": {
          "base_uri": "https://localhost:8080/"
        },
        "pycharm": {
          "name": "#%%\n"
        }
      },
      "execution_count": null,
      "outputs": [
        {
          "output_type": "execute_result",
          "data": {
            "text/plain": [
              "PCA(n_components=20)"
            ]
          },
          "metadata": {},
          "execution_count": 207
        }
      ]
    },
    {
      "cell_type": "code",
      "source": [
        "import matplotlib.pyplot as plt\n",
        "##SCREE PLOT\n",
        "plt.plot(np.linspace(1,21,20),pca.explained_variance_ratio_);"
      ],
      "metadata": {
        "id": "l0Iyzg7mPZSO",
        "outputId": "d38ee453-023d-4831-e707-c6c7694c440c",
        "colab": {
          "base_uri": "https://localhost:8080/",
          "height": 265
        },
        "pycharm": {
          "name": "#%%\n"
        }
      },
      "execution_count": null,
      "outputs": [
        {
          "output_type": "display_data",
          "data": {
            "text/plain": [
              "<Figure size 432x288 with 1 Axes>"
            ],
            "image/png": "[encoded data removed]"
          },
          "metadata": {
            "needs_background": "light"
          }
        }
      ]
    },
    {
      "cell_type": "code",
      "source": [
        "pca = PCA(n_components=5) #components based on the scree plot above\n",
        "\n",
        "pca_train_X = pca.fit_transform(train_X)\n",
        "\n",
        "plt.scatter(pca_train_X[:,0], train_y);"
      ],
      "metadata": {
        "id": "mraQ_KyURvY6",
        "outputId": "b9463359-671f-4d87-c15d-72f8255bfc8a",
        "colab": {
          "base_uri": "https://localhost:8080/",
          "height": 265
        },
        "pycharm": {
          "name": "#%%\n"
        }
      },
      "execution_count": null,
      "outputs": [
        {
          "output_type": "display_data",
          "data": {
            "text/plain": [
              "<Figure size 432x288 with 1 Axes>"
            ],
            "image/png": "[encoded data removed]"
          },
          "metadata": {
            "needs_background": "light"
          }
        }
      ]
    },
    {
      "cell_type": "markdown",
      "source": [
        "based on the first PCA, it is clear that the data is not linear and we would have to bear that in mind with the choice of our models"
      ],
      "metadata": {
        "id": "V8__-brQSZ9s",
        "pycharm": {
          "name": "#%% md\n"
        }
      }
    },
    {
      "cell_type": "code",
      "source": [
        "pca_train_X.shape, train_y.shape"
      ],
      "metadata": {
        "id": "ipasXemXSCog",
        "outputId": "557cd98c-ebe5-48dc-9396-ad678ce4c6be",
        "colab": {
          "base_uri": "https://localhost:8080/"
        },
        "pycharm": {
          "name": "#%%\n"
        }
      },
      "execution_count": null,
      "outputs": [
        {
          "output_type": "execute_result",
          "data": {
            "text/plain": [
              "((25766, 5), (25766,))"
            ]
          },
          "metadata": {},
          "execution_count": 211
        }
      ]
    },
    {
      "cell_type": "code",
      "source": [
        "pca = PCA(n_components=5) #components based on the scree plot above\n",
        "\n",
        "pca_train_X = pca.fit_transform(train_X)\n",
        "pca_test_X = pca.transform(test_X)\n"
      ],
      "metadata": {
        "id": "aMer3-bhOuhM",
        "pycharm": {
          "name": "#%%\n"
        }
      },
      "execution_count": null,
      "outputs": []
    },
    {
      "cell_type": "code",
      "source": [
        "from sklearn.linear_model import LinearRegression, Ridge, Lasso\n",
        "from sklearn.dummy import DummyRegressor\n",
        "from sklearn.svm import SVR\n",
        "from sklearn.tree import DecisionTreeRegressor\n",
        "from sklearn.preprocessing import PolynomialFeatures\n",
        "\n",
        "from sklearn import metrics\n",
        "from sklearn.model_selection import cross_val_score\n",
        "from sklearn.model_selection import cross_validate\n"
      ],
      "metadata": {
        "id": "rDPvtLiPDodO",
        "pycharm": {
          "name": "#%%\n"
        }
      },
      "execution_count": null,
      "outputs": []
    },
    {
      "cell_type": "code",
      "source": [
        "train_X=pca_train_X\n",
        "test_X=pca_test_X"
      ],
      "metadata": {
        "id": "pNGegwWhQvQZ",
        "pycharm": {
          "name": "#%%\n"
        }
      },
      "execution_count": null,
      "outputs": []
    },
    {
      "cell_type": "code",
      "source": [
        "# data_train.sample(frac=0.2,replace=True)"
      ],
      "metadata": {
        "id": "Bsa46UbMJUaL"
      },
      "execution_count": null,
      "outputs": []
    },
    {
      "cell_type": "code",
      "source": [
        "x_poly_train = PolynomialFeatures(3).fit_transform(train_X)\n",
        "x_poly_test = PolynomialFeatures(3).transform(test_X)\n",
        "\n",
        "train_X = x_poly_train\n",
        "test_X = x_poly_test"
      ],
      "metadata": {
        "id": "aRyNs-xm3P3V"
      },
      "execution_count": null,
      "outputs": []
    },
    {
      "cell_type": "code",
      "source": [
        "lr = LinearRegression(fit_intercept=False)\n",
        "llr = Lasso(alpha=0.1)\n",
        "rr = Ridge(alpha=1.0)\n",
        "dr = DummyRegressor(strategy=\"mean\")\n",
        "svr = SVR(kernel = 'linear')\n",
        "dtr = DecisionTreeRegressor(max_depth=2)\n",
        "\n",
        "lr.fit(train_X, train_y)\n",
        "llr.fit(train_X, train_y)\n",
        "rr.fit(train_X, train_y)\n",
        "dr.fit(train_X, train_y)\n",
        "# svr.fit(train_X, train_y)\n",
        "dtr.fit(train_X, train_y)"
      ],
      "metadata": {
        "id": "hgPnLd6CDp97",
        "pycharm": {
          "name": "#%%\n"
        }
      },
      "execution_count": null,
      "outputs": []
    },
    {
      "cell_type": "code",
      "source": [
        "lr.score(train_X, train_y)\n",
        "# cross_val_score(dtr, train_X, train_y, cv=5)"
      ],
      "metadata": {
        "id": "yTWMTpu5FPwV",
        "outputId": "7238db7a-35f7-4b69-e7e3-3e77558350c0",
        "colab": {
          "base_uri": "https://localhost:8080/"
        },
        "pycharm": {
          "name": "#%%\n"
        }
      },
      "execution_count": null,
      "outputs": [
        {
          "output_type": "execute_result",
          "data": {
            "text/plain": [
              "0.08278908583668176"
            ]
          },
          "metadata": {},
          "execution_count": 218
        }
      ]
    },
    {
      "cell_type": "code",
      "source": [
        "lr_pred = lr.predict(test_X)\n",
        "dr_pred = dr.predict(test_X)\n",
        "rr_pred = rr.predict(test_X)\n",
        "# svr_pred = svr.predict(test_X)\n",
        "dtr_pred = dtr.predict(test_X)\n",
        "llr_pred = llr.predict(test_X)"
      ],
      "metadata": {
        "id": "optrqxHUEyKH",
        "pycharm": {
          "name": "#%%\n"
        }
      },
      "execution_count": null,
      "outputs": []
    },
    {
      "cell_type": "code",
      "source": [
        "def ret_metrics(test_y, pred):\n",
        "\n",
        "  mae = metrics.mean_absolute_error(test_y, pred)\n",
        "  mse = metrics.mean_squared_error(test_y, pred)\n",
        "  rmse = np.sqrt(mse)\n",
        "\n",
        "  return(mae, mse, rmse)"
      ],
      "metadata": {
        "id": "N1OJ4OckIQ0T",
        "pycharm": {
          "name": "#%%\n"
        }
      },
      "execution_count": null,
      "outputs": []
    },
    {
      "cell_type": "code",
      "source": [
        "print(f\"LR metrics for mae, mse, rmse are: {ret_metrics(test_y, lr_pred)}\")\n",
        "print(f\"LLR metrics for mae, mse, rmse are: {ret_metrics(test_y, llr_pred)}\")\n",
        "print(f\"DR metrics for mae, mse, rmse are: {ret_metrics(test_y, dr_pred)}\")\n",
        "print(f\"RR metrics for mae, mse, rmse are: {ret_metrics(test_y, rr_pred)}\")\n",
        "# print(f\"SVR metrics for mae, mse, rmse are: {ret_metrics(test_y, svr_pred)}\")\n",
        "print(f\"DTR metrics for mae, mse, rmse are: {ret_metrics(test_y, dtr_pred)}\")\n"
      ],
      "metadata": {
        "id": "ZDDvGnRpE5Mz",
        "outputId": "8dc98f17-4721-4581-c9a2-5a0d26e84f38",
        "colab": {
          "base_uri": "https://localhost:8080/"
        },
        "pycharm": {
          "name": "#%%\n"
        }
      },
      "execution_count": null,
      "outputs": [
        {
          "output_type": "stream",
          "name": "stdout",
          "text": [
            "LR metrics for mae, mse, rmse are: (1.2207126850013197, 711.3164343484289, 26.67051619951194)\n",
            "LLR metrics for mae, mse, rmse are: (0.5103307492580054, 0.9974213048000606, 0.9987098201179663)\n",
            "DR metrics for mae, mse, rmse are: (0.5074883383659056, 0.9120367400013514, 0.9550061465777858)\n",
            "RR metrics for mae, mse, rmse are: (1.263769038510175, 843.5025316888579, 29.043115047956853)\n",
            "DTR metrics for mae, mse, rmse are: (0.5382388201441062, 1.4351714475164277, 1.197986413744508)\n"
          ]
        }
      ]
    },
    {
      "cell_type": "code",
      "source": [
        "preds_df = pd.DataFrame({\"true\":test_y, \"lr\":lr_pred, \"dr\":dr_pred, \"rr\":rr_pred, \"svr\":-1, \"dtr\":dtr_pred, \"llr\":llr_pred })"
      ],
      "metadata": {
        "id": "2jHy5LJXGt-z",
        "pycharm": {
          "name": "#%%\n"
        }
      },
      "execution_count": null,
      "outputs": []
    },
    {
      "cell_type": "code",
      "source": [
        "preds_df"
      ],
      "metadata": {
        "id": "A784hHYPHV_6",
        "outputId": "11aca888-e14f-474f-89b9-711c4d43c2af",
        "colab": {
          "base_uri": "https://localhost:8080/",
          "height": 419
        },
        "pycharm": {
          "name": "#%%\n"
        }
      },
      "execution_count": null,
      "outputs": [
        {
          "output_type": "execute_result",
          "data": {
            "text/plain": [
              "           true        lr        dr        rr  svr       dtr       llr\n",
              "11235 -0.143843 -0.057303  0.000735 -0.057305   -1 -0.094597 -0.067729\n",
              "3378  -0.363705 -0.121243  0.000735 -0.121279   -1 -0.094597 -0.100561\n",
              "28754  1.225737  0.742300  0.000735  0.739662   -1  0.043922  0.116982\n",
              "6899  -0.336159  0.418465  0.000735  0.416870   -1  0.061842  0.039091\n",
              "13499 -0.184705 -0.006731  0.000735 -0.006411   -1 -0.094597 -0.047732\n",
              "...         ...       ...       ...       ...  ...       ...       ...\n",
              "19677 -0.253059 -0.009461  0.000735 -0.008899   -1 -0.094597 -0.031945\n",
              "4785  -0.026529 -0.051641  0.000735 -0.049254   -1 -0.094597 -0.010379\n",
              "19458 -0.047458 -0.072930  0.000735 -0.075871   -1  0.058382  0.012536\n",
              "15381 -0.259561 -0.055865  0.000735 -0.056235   -1 -0.094597  0.031422\n",
              "30664 -0.345972 -0.181629  0.000735 -0.181654   -1 -0.099366 -0.069468\n",
              "\n",
              "[6442 rows x 7 columns]"
            ],
            "text/html": [
              "\n",
              "  <div id=\"df-c422ec3c-5ea1-41f4-b488-05b5d31089b5\">\n",
              "    <div class=\"colab-df-container\">\n",
              "      <div>\n",
              "<style scoped>\n",
              "    .dataframe tbody tr th:only-of-type {\n",
              "        vertical-align: middle;\n",
              "    }\n",
              "\n",
              "    .dataframe tbody tr th {\n",
              "        vertical-align: top;\n",
              "    }\n",
              "\n",
              "    .dataframe thead th {\n",
              "        text-align: right;\n",
              "    }\n",
              "</style>\n",
              "<table border=\"1\" class=\"dataframe\">\n",
              "  <thead>\n",
              "    <tr style=\"text-align: right;\">\n",
              "      <th></th>\n",
              "      <th>true</th>\n",
              "      <th>lr</th>\n",
              "      <th>dr</th>\n",
              "      <th>rr</th>\n",
              "      <th>svr</th>\n",
              "      <th>dtr</th>\n",
              "      <th>llr</th>\n",
              "    </tr>\n",
              "  </thead>\n",
              "  <tbody>\n",
              "    <tr>\n",
              "      <th>11235</th>\n",
              "      <td>-0.143843</td>\n",
              "      <td>-0.057303</td>\n",
              "      <td>0.000735</td>\n",
              "      <td>-0.057305</td>\n",
              "      <td>-1</td>\n",
              "      <td>-0.094597</td>\n",
              "      <td>-0.067729</td>\n",
              "    </tr>\n",
              "    <tr>\n",
              "      <th>3378</th>\n",
              "      <td>-0.363705</td>\n",
              "      <td>-0.121243</td>\n",
              "      <td>0.000735</td>\n",
              "      <td>-0.121279</td>\n",
              "      <td>-1</td>\n",
              "      <td>-0.094597</td>\n",
              "      <td>-0.100561</td>\n",
              "    </tr>\n",
              "    <tr>\n",
              "      <th>28754</th>\n",
              "      <td>1.225737</td>\n",
              "      <td>0.742300</td>\n",
              "      <td>0.000735</td>\n",
              "      <td>0.739662</td>\n",
              "      <td>-1</td>\n",
              "      <td>0.043922</td>\n",
              "      <td>0.116982</td>\n",
              "    </tr>\n",
              "    <tr>\n",
              "      <th>6899</th>\n",
              "      <td>-0.336159</td>\n",
              "      <td>0.418465</td>\n",
              "      <td>0.000735</td>\n",
              "      <td>0.416870</td>\n",
              "      <td>-1</td>\n",
              "      <td>0.061842</td>\n",
              "      <td>0.039091</td>\n",
              "    </tr>\n",
              "    <tr>\n",
              "      <th>13499</th>\n",
              "      <td>-0.184705</td>\n",
              "      <td>-0.006731</td>\n",
              "      <td>0.000735</td>\n",
              "      <td>-0.006411</td>\n",
              "      <td>-1</td>\n",
              "      <td>-0.094597</td>\n",
              "      <td>-0.047732</td>\n",
              "    </tr>\n",
              "    <tr>\n",
              "      <th>...</th>\n",
              "      <td>...</td>\n",
              "      <td>...</td>\n",
              "      <td>...</td>\n",
              "      <td>...</td>\n",
              "      <td>...</td>\n",
              "      <td>...</td>\n",
              "      <td>...</td>\n",
              "    </tr>\n",
              "    <tr>\n",
              "      <th>19677</th>\n",
              "      <td>-0.253059</td>\n",
              "      <td>-0.009461</td>\n",
              "      <td>0.000735</td>\n",
              "      <td>-0.008899</td>\n",
              "      <td>-1</td>\n",
              "      <td>-0.094597</td>\n",
              "      <td>-0.031945</td>\n",
              "    </tr>\n",
              "    <tr>\n",
              "      <th>4785</th>\n",
              "      <td>-0.026529</td>\n",
              "      <td>-0.051641</td>\n",
              "      <td>0.000735</td>\n",
              "      <td>-0.049254</td>\n",
              "      <td>-1</td>\n",
              "      <td>-0.094597</td>\n",
              "      <td>-0.010379</td>\n",
              "    </tr>\n",
              "    <tr>\n",
              "      <th>19458</th>\n",
              "      <td>-0.047458</td>\n",
              "      <td>-0.072930</td>\n",
              "      <td>0.000735</td>\n",
              "      <td>-0.075871</td>\n",
              "      <td>-1</td>\n",
              "      <td>0.058382</td>\n",
              "      <td>0.012536</td>\n",
              "    </tr>\n",
              "    <tr>\n",
              "      <th>15381</th>\n",
              "      <td>-0.259561</td>\n",
              "      <td>-0.055865</td>\n",
              "      <td>0.000735</td>\n",
              "      <td>-0.056235</td>\n",
              "      <td>-1</td>\n",
              "      <td>-0.094597</td>\n",
              "      <td>0.031422</td>\n",
              "    </tr>\n",
              "    <tr>\n",
              "      <th>30664</th>\n",
              "      <td>-0.345972</td>\n",
              "      <td>-0.181629</td>\n",
              "      <td>0.000735</td>\n",
              "      <td>-0.181654</td>\n",
              "      <td>-1</td>\n",
              "      <td>-0.099366</td>\n",
              "      <td>-0.069468</td>\n",
              "    </tr>\n",
              "  </tbody>\n",
              "</table>\n",
              "<p>6442 rows × 7 columns</p>\n",
              "</div>\n",
              "      <button class=\"colab-df-convert\" onclick=\"convertToInteractive('df-c422ec3c-5ea1-41f4-b488-05b5d31089b5')\"\n",
              "              title=\"Convert this dataframe to an interactive table.\"\n",
              "              style=\"display:none;\">\n",
              "        \n",
              "  <svg xmlns=\"http://www.w3.org/2000/svg\" height=\"24px\"viewBox=\"0 0 24 24\"\n",
              "       width=\"24px\">\n",
              "    <path d=\"M0 0h24v24H0V0z\" fill=\"none\"/>\n",
              "    <path d=\"M18.56 5.44l.94 2.06.94-2.06 2.06-.94-2.06-.94-.94-2.06-.94 2.06-2.06.94zm-11 1L8.5 8.5l.94-2.06 2.06-.94-2.06-.94L8.5 2.5l-.94 2.06-2.06.94zm10 10l.94 2.06.94-2.06 2.06-.94-2.06-.94-.94-2.06-.94 2.06-2.06.94z\"/><path d=\"M17.41 7.96l-1.37-1.37c-.4-.4-.92-.59-1.43-.59-.52 0-1.04.2-1.43.59L10.3 9.45l-7.72 7.72c-.78.78-.78 2.05 0 2.83L4 21.41c.39.39.9.59 1.41.59.51 0 1.02-.2 1.41-.59l7.78-7.78 2.81-2.81c.8-.78.8-2.07 0-2.86zM5.41 20L4 18.59l7.72-7.72 1.47 1.35L5.41 20z\"/>\n",
              "  </svg>\n",
              "      </button>\n",
              "      \n",
              "  <style>\n",
              "    .colab-df-container {\n",
              "      display:flex;\n",
              "      flex-wrap:wrap;\n",
              "      gap: 12px;\n",
              "    }\n",
              "\n",
              "    .colab-df-convert {\n",
              "      background-color: #E8F0FE;\n",
              "      border: none;\n",
              "      border-radius: 50%;\n",
              "      cursor: pointer;\n",
              "      display: none;\n",
              "      fill: #1967D2;\n",
              "      height: 32px;\n",
              "      padding: 0 0 0 0;\n",
              "      width: 32px;\n",
              "    }\n",
              "\n",
              "    .colab-df-convert:hover {\n",
              "      background-color: #E2EBFA;\n",
              "      box-shadow: 0px 1px 2px rgba(60, 64, 67, 0.3), 0px 1px 3px 1px rgba(60, 64, 67, 0.15);\n",
              "      fill: #174EA6;\n",
              "    }\n",
              "\n",
              "    [theme=dark] .colab-df-convert {\n",
              "      background-color: #3B4455;\n",
              "      fill: #D2E3FC;\n",
              "    }\n",
              "\n",
              "    [theme=dark] .colab-df-convert:hover {\n",
              "      background-color: #434B5C;\n",
              "      box-shadow: 0px 1px 3px 1px rgba(0, 0, 0, 0.15);\n",
              "      filter: drop-shadow(0px 1px 2px rgba(0, 0, 0, 0.3));\n",
              "      fill: #FFFFFF;\n",
              "    }\n",
              "  </style>\n",
              "\n",
              "      <script>\n",
              "        const buttonEl =\n",
              "          document.querySelector('#df-c422ec3c-5ea1-41f4-b488-05b5d31089b5 button.colab-df-convert');\n",
              "        buttonEl.style.display =\n",
              "          google.colab.kernel.accessAllowed ? 'block' : 'none';\n",
              "\n",
              "        async function convertToInteractive(key) {\n",
              "          const element = document.querySelector('#df-c422ec3c-5ea1-41f4-b488-05b5d31089b5');\n",
              "          const dataTable =\n",
              "            await google.colab.kernel.invokeFunction('convertToInteractive',\n",
              "                                                     [key], {});\n",
              "          if (!dataTable) return;\n",
              "\n",
              "          const docLinkHtml = 'Like what you see? Visit the ' +\n",
              "            '<a target=\"_blank\" href=https://colab.research.google.com/notebooks/data_table.ipynb>data table notebook</a>'\n",
              "            + ' to learn more about interactive tables.';\n",
              "          element.innerHTML = '';\n",
              "          dataTable['output_type'] = 'display_data';\n",
              "          await google.colab.output.renderOutput(dataTable, element);\n",
              "          const docLink = document.createElement('div');\n",
              "          docLink.innerHTML = docLinkHtml;\n",
              "          element.appendChild(docLink);\n",
              "        }\n",
              "      </script>\n",
              "    </div>\n",
              "  </div>\n",
              "  "
            ]
          },
          "metadata": {},
          "execution_count": 226
        }
      ]
    },
    {
      "cell_type": "code",
      "source": [
        "lists = sorted(zip(*[test_y, dtr_pred]))\n",
        "sorted_x_test, sorted_y_test_pred = list(zip(*lists))\n",
        "pca_n = 1\n",
        "\n",
        "plt.plot(pca_train_X[:,pca_n],train_y,'.',color=\"darkblue\", alpha=0.3,label=\"Train data\")\n",
        "plt.plot(pca_test_X[:,pca_n],test_y,'.',color='darkgreen', alpha=0.3, label=\"Test data\")\n",
        "plt.ylabel('Relative Title Quality')\n",
        "plt.xlabel('PCA componenet')\n",
        "\n",
        "plt.plot(sorted_x_test,sorted_y_test_pred,color='#FD8E70',linewidth=3, label=\"Best model\")\n",
        "\n",
        "plt.legend()\n",
        "plt.show()"
      ],
      "metadata": {
        "id": "soIFw58rHWCp",
        "pycharm": {
          "name": "#%%\n"
        }
      },
      "execution_count": null,
      "outputs": []
    },
    {
      "cell_type": "code",
      "source": [],
      "metadata": {
        "id": "Ih-VBmdlHWFg",
        "pycharm": {
          "name": "#%%\n"
        }
      },
      "execution_count": null,
      "outputs": []
    },
    {
      "cell_type": "code",
      "source": [],
      "metadata": {
        "id": "hqP0BaNxHWIQ",
        "pycharm": {
          "name": "#%%\n"
        }
      },
      "execution_count": null,
      "outputs": []
    },
    {
      "cell_type": "code",
      "source": [],
      "metadata": {
        "id": "REuRl0tuHWLF",
        "pycharm": {
          "name": "#%%\n"
        }
      },
      "execution_count": null,
      "outputs": []
    },
    {
      "cell_type": "code",
      "source": [],
      "metadata": {
        "id": "o_6zacADHWN6",
        "pycharm": {
          "name": "#%%\n"
        }
      },
      "execution_count": null,
      "outputs": []
    },
    {
      "cell_type": "code",
      "source": [],
      "metadata": {
        "id": "_cQKF_YYHWQu",
        "pycharm": {
          "name": "#%%\n"
        }
      },
      "execution_count": null,
      "outputs": []
    },
    {
      "cell_type": "markdown",
      "source": [],
      "metadata": {
        "id": "uMxSEO9HB9o8",
        "pycharm": {
          "name": "#%% md\n"
        }
      }
    }
  ],
  "metadata": {
    "colab": {
      "provenance": [],
      "include_colab_link": true
    },
    "kernelspec": {
      "display_name": "Python 3.10.4 ('dataenv')",
      "language": "python",
      "name": "python3"
    },
    "language_info": {
      "name": "python",
      "version": "3.10.4"
    },
    "vscode": {
      "interpreter": {
        "hash": "467f60c46b88ea196e8e4e51716c4f14b05141d893e1660e0038b81da854c476"
      }
    }
  },
  "nbformat": 4,
  "nbformat_minor": 0
}