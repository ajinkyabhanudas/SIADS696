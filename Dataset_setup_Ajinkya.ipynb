{
  "cells": [
    {
      "cell_type": "markdown",
      "metadata": {
        "id": "view-in-github",
        "colab_type": "text"
      },
      "source": [
        "<a href=\"https://colab.research.google.com/github/ajinkyabhanudas/SIADS696/blob/dev/Dataset_setup_Ajinkya.ipynb\" target=\"_parent\"><img src=\"https://colab.research.google.com/assets/colab-badge.svg\" alt=\"Open In Colab\"/></a>"
      ]
    },
    {
      "cell_type": "markdown",
      "source": [
        "#This notebook works on the first step of the train pipeline: data loading \n",
        "- The idea is to use the contents of this notebook as a makefile target so it can be the first step to run as we keep populating our datastore.\n",
        "\n",
        "\n",
        "\n",
        "\n",
        "\n",
        "\n"
      ],
      "metadata": {
        "id": "Fa2YEr7pT6zt",
        "pycharm": {
          "name": "#%% md\n"
        }
      }
    },
    {
      "cell_type": "code",
      "execution_count": 2,
      "metadata": {
        "id": "pWqb-vn_hFCU",
        "pycharm": {
          "name": "#%%\n"
        }
      },
      "outputs": [],
      "source": [
        "# !git clone https://github.com/ajinkyabhanudas/SIADS696.git"
      ]
    },
    {
      "cell_type": "code",
      "source": [
        "import datetime\n",
        "import enum\n",
        "import glob\n",
        "import json\n",
        "import os\n",
        "import re\n",
        "from itertools import groupby\n",
        "\n",
        "from gensim.models import Word2Vec\n",
        "import nltk\n",
        "from nltk.corpus import stopwords\n",
        "import numpy as np\n",
        "import pandas as pd\n",
        "\n",
        "import warnings\n",
        "warnings.simplefilter(action='ignore')"
      ],
      "metadata": {
        "id": "qe2qOLWocWZz",
        "pycharm": {
          "name": "#%%\n"
        }
      },
      "execution_count": 3,
      "outputs": []
    },
    {
      "cell_type": "code",
      "source": [
        "nltk.download('punkt')\n",
        "nltk.download('stopwords')"
      ],
      "metadata": {
        "colab": {
          "base_uri": "https://localhost:8080/"
        },
        "id": "cY7AW03EX3a2",
        "outputId": "30e5d3a5-837f-4717-fb63-e7388ba8c82a",
        "pycharm": {
          "name": "#%%\n"
        }
      },
      "execution_count": 4,
      "outputs": [
        {
          "output_type": "stream",
          "name": "stderr",
          "text": [
            "[nltk_data] Downloading package punkt to /root/nltk_data...\n",
            "[nltk_data]   Package punkt is already up-to-date!\n",
            "[nltk_data] Downloading package stopwords to /root/nltk_data...\n",
            "[nltk_data]   Package stopwords is already up-to-date!\n"
          ]
        },
        {
          "output_type": "execute_result",
          "data": {
            "text/plain": [
              "True"
            ]
          },
          "metadata": {},
          "execution_count": 4
        }
      ]
    },
    {
      "cell_type": "code",
      "source": [
        "try:\n",
        "  os.chdir('SIADS696')\n",
        "except:\n",
        "  print(\"You're either already in the SIADS696 directory, or the path specified isn't accessible\")"
      ],
      "metadata": {
        "id": "ZjuCnSlVckSC",
        "pycharm": {
          "name": "#%%\n"
        }
      },
      "execution_count": 5,
      "outputs": []
    },
    {
      "cell_type": "markdown",
      "source": [
        "### We'll extract our dataset in two parts:\n",
        "- first extract the overall stats data per channel and store it along with the channel name instead of the id for available channels. (`overall_stats_raw_df`)\n",
        "- And second, extract the per-video data into another dataframe. (`raw_df`)"
      ],
      "metadata": {
        "id": "s72nxVxjlZGi",
        "pycharm": {
          "name": "#%% md\n"
        }
      }
    },
    {
      "cell_type": "code",
      "source": [
        "rootdir = 'data'\n",
        "feature_list = ['publishedAt', 'title', 'channelId', 'description',\n",
        "                'channelTitle', 'tags', 'categoryId', 'viewCount', \n",
        "                'likeCount', 'favoriteCount', 'commentCount', 'duration',\n",
        "                'definition', 'contentRating', 'topicCategories']\n",
        "\n",
        "ov_dict_list = []\n",
        "ov_temp_dict = {}\n",
        "\n",
        "dict_list = []\n",
        "temp_dict = {}\n",
        "\n",
        "for path in glob.glob(f'./{rootdir}/*/*'):\n",
        "  try:\n",
        "    with open(path, \"r\") as read_file:\n",
        "      data = json.load(read_file)\n",
        "    for channel_id in data.keys():\n",
        "      ov_temp_dict = data[channel_id][\"channel_statistics\"]\n",
        "      channel_name = list(data[channel_id][\"video_data\"].keys())[0]\n",
        "      ov_temp_dict[\"channelName\"] = data[channel_id][\"video_data\"][channel_name][\"channelTitle\"]\n",
        "      ov_dict_list.append(ov_temp_dict)\n",
        "      \n",
        "      for video_info in data[channel_id][\"video_data\"].values():\n",
        "        temp_dict = video_info\n",
        "        dict_list.append(temp_dict)       \n",
        "  except:\n",
        "    pass\n",
        "\n",
        "overall_stats_raw_df = pd.DataFrame(ov_dict_list)\n",
        "overall_stats_raw_df.drop(\"hiddenSubscriberCount\", axis=1, inplace=True)\n",
        "\n",
        "raw_df = pd.DataFrame(dict_list)\n",
        "raw_df = raw_df[feature_list]"
      ],
      "metadata": {
        "id": "KSTlEX8FBNQ0",
        "pycharm": {
          "name": "#%%\n"
        }
      },
      "execution_count": 6,
      "outputs": []
    },
    {
      "cell_type": "markdown",
      "source": [
        "### Next, let's do a quick check on the data and take a quick look at the data in both the dfs"
      ],
      "metadata": {
        "id": "wx8sIaskERjq",
        "pycharm": {
          "name": "#%% md\n"
        }
      }
    },
    {
      "cell_type": "code",
      "source": [
        "raw_df.info()\n",
        "raw_df.sample(5)"
      ],
      "metadata": {
        "id": "l4WxiXQRC1aY",
        "outputId": "77a22a87-5cab-4ffa-dd22-3905a047c874",
        "colab": {
          "base_uri": "https://localhost:8080/",
          "height": 1000
        },
        "pycharm": {
          "name": "#%%\n"
        }
      },
      "execution_count": 7,
      "outputs": [
        {
          "output_type": "stream",
          "name": "stdout",
          "text": [
            "<class 'pandas.core.frame.DataFrame'>\n",
            "RangeIndex: 55337 entries, 0 to 55336\n",
            "Data columns (total 15 columns):\n",
            " #   Column           Non-Null Count  Dtype \n",
            "---  ------           --------------  ----- \n",
            " 0   publishedAt      55337 non-null  object\n",
            " 1   title            55337 non-null  object\n",
            " 2   channelId        55124 non-null  object\n",
            " 3   description      55124 non-null  object\n",
            " 4   channelTitle     55124 non-null  object\n",
            " 5   tags             51972 non-null  object\n",
            " 6   categoryId       55124 non-null  object\n",
            " 7   viewCount        55050 non-null  object\n",
            " 8   likeCount        54589 non-null  object\n",
            " 9   favoriteCount    55121 non-null  object\n",
            " 10  commentCount     54549 non-null  object\n",
            " 11  duration         55125 non-null  object\n",
            " 12  definition       55125 non-null  object\n",
            " 13  contentRating    55125 non-null  object\n",
            " 14  topicCategories  54331 non-null  object\n",
            "dtypes: object(15)\n",
            "memory usage: 6.3+ MB\n"
          ]
        },
        {
          "output_type": "execute_result",
          "data": {
            "text/plain": [
              "                publishedAt  \\\n",
              "9308   2010-07-03T22:41:48Z   \n",
              "16778  2022-08-28T18:23:39Z   \n",
              "8873   2014-02-15T21:00:02Z   \n",
              "8037   2020-03-31T17:06:14Z   \n",
              "45215  2014-04-09T12:30:01Z   \n",
              "\n",
              "                                                   title  \\\n",
              "9308   Katy Perry \"California Gurls\" Parody - Califor...   \n",
              "16778                A thank you and an important update   \n",
              "8873                          XHIT: Legs, Bums, and Tums   \n",
              "8037   I Love Me - Demi Lovato | Caleb Marshall | Dan...   \n",
              "45215                   Are Hong Kong & Macau Countries?   \n",
              "\n",
              "                      channelId  \\\n",
              "9308   UCazMm3tOCkYrIGE_17j0mVg   \n",
              "16778  UCfZz8F37oSJ2rtcEJHM2kCg   \n",
              "8873   UCM1Nde-9eorUhq-teaWlgUA   \n",
              "8037   UCyqR7WkL8i1b6xtSssDmW9w   \n",
              "45215  UC2C_jShtL725hvbm1arSV9w   \n",
              "\n",
              "                                             description  \\\n",
              "9308   GET THE T-SHIRT - http://bit.ly/BartBakerShirt...   \n",
              "16778  A bit of an update\\n\\n⭐ SUPPORT TIK ⭐\\n\\nThis ...   \n",
              "8873   They're the three areas that most people are f...   \n",
              "8037   An easy to follow cardio dance fitness routine...   \n",
              "45215  Support: https://www.patreon.com/cgpgrey\\n\\nSp...   \n",
              "\n",
              "               channelTitle  \\\n",
              "9308             Bart Baker   \n",
              "16778            TIKhistory   \n",
              "8873             XHIT Daily   \n",
              "8037   The Fitness Marshall   \n",
              "45215              CGP Grey   \n",
              "\n",
              "                                                    tags categoryId viewCount  \\\n",
              "9308   [Katy, Perry, Snoop, Dogg, California, Gurls, ...         10  57710550   \n",
              "16778                                                NaN         27     58092   \n",
              "8873   [XFit, workout routines, workout programs, wor...         17    446553   \n",
              "8037   [zumba, cardio hip hop, dance fitness, marshal...         26   1045299   \n",
              "45215  [cgpgrey, education, Hong Kong (Chinese Specia...         27   5856448   \n",
              "\n",
              "      likeCount favoriteCount commentCount  duration definition contentRating  \\\n",
              "9308     213636             0        49915   PT2M30S         hd            {}   \n",
              "16778      8348             0         1193   PT7M40S         hd            {}   \n",
              "8873       4436             0          110  PT16M55S         hd            {}   \n",
              "8037      11597             0          399   PT3M31S         hd            {}   \n",
              "45215     93132             0        11880   PT4M53S         hd            {}   \n",
              "\n",
              "                                         topicCategories  \n",
              "9308   [https://en.wikipedia.org/wiki/Music, https://...  \n",
              "16778  [https://en.wikipedia.org/wiki/Lifestyle_(soci...  \n",
              "8873   [https://en.wikipedia.org/wiki/Lifestyle_(soci...  \n",
              "8037   [https://en.wikipedia.org/wiki/Hobby, https://...  \n",
              "45215            [https://en.wikipedia.org/wiki/Society]  "
            ],
            "text/html": [
              "\n",
              "  <div id=\"df-add010a6-2411-40da-9434-58362e1fbc3c\">\n",
              "    <div class=\"colab-df-container\">\n",
              "      <div>\n",
              "<style scoped>\n",
              "    .dataframe tbody tr th:only-of-type {\n",
              "        vertical-align: middle;\n",
              "    }\n",
              "\n",
              "    .dataframe tbody tr th {\n",
              "        vertical-align: top;\n",
              "    }\n",
              "\n",
              "    .dataframe thead th {\n",
              "        text-align: right;\n",
              "    }\n",
              "</style>\n",
              "<table border=\"1\" class=\"dataframe\">\n",
              "  <thead>\n",
              "    <tr style=\"text-align: right;\">\n",
              "      <th></th>\n",
              "      <th>publishedAt</th>\n",
              "      <th>title</th>\n",
              "      <th>channelId</th>\n",
              "      <th>description</th>\n",
              "      <th>channelTitle</th>\n",
              "      <th>tags</th>\n",
              "      <th>categoryId</th>\n",
              "      <th>viewCount</th>\n",
              "      <th>likeCount</th>\n",
              "      <th>favoriteCount</th>\n",
              "      <th>commentCount</th>\n",
              "      <th>duration</th>\n",
              "      <th>definition</th>\n",
              "      <th>contentRating</th>\n",
              "      <th>topicCategories</th>\n",
              "    </tr>\n",
              "  </thead>\n",
              "  <tbody>\n",
              "    <tr>\n",
              "      <th>9308</th>\n",
              "      <td>2010-07-03T22:41:48Z</td>\n",
              "      <td>Katy Perry \"California Gurls\" Parody - Califor...</td>\n",
              "      <td>UCazMm3tOCkYrIGE_17j0mVg</td>\n",
              "      <td>GET THE T-SHIRT - http://bit.ly/BartBakerShirt...</td>\n",
              "      <td>Bart Baker</td>\n",
              "      <td>[Katy, Perry, Snoop, Dogg, California, Gurls, ...</td>\n",
              "      <td>10</td>\n",
              "      <td>57710550</td>\n",
              "      <td>213636</td>\n",
              "      <td>0</td>\n",
              "      <td>49915</td>\n",
              "      <td>PT2M30S</td>\n",
              "      <td>hd</td>\n",
              "      <td>{}</td>\n",
              "      <td>[https://en.wikipedia.org/wiki/Music, https://...</td>\n",
              "    </tr>\n",
              "    <tr>\n",
              "      <th>16778</th>\n",
              "      <td>2022-08-28T18:23:39Z</td>\n",
              "      <td>A thank you and an important update</td>\n",
              "      <td>UCfZz8F37oSJ2rtcEJHM2kCg</td>\n",
              "      <td>A bit of an update\\n\\n⭐ SUPPORT TIK ⭐\\n\\nThis ...</td>\n",
              "      <td>TIKhistory</td>\n",
              "      <td>NaN</td>\n",
              "      <td>27</td>\n",
              "      <td>58092</td>\n",
              "      <td>8348</td>\n",
              "      <td>0</td>\n",
              "      <td>1193</td>\n",
              "      <td>PT7M40S</td>\n",
              "      <td>hd</td>\n",
              "      <td>{}</td>\n",
              "      <td>[https://en.wikipedia.org/wiki/Lifestyle_(soci...</td>\n",
              "    </tr>\n",
              "    <tr>\n",
              "      <th>8873</th>\n",
              "      <td>2014-02-15T21:00:02Z</td>\n",
              "      <td>XHIT: Legs, Bums, and Tums</td>\n",
              "      <td>UCM1Nde-9eorUhq-teaWlgUA</td>\n",
              "      <td>They're the three areas that most people are f...</td>\n",
              "      <td>XHIT Daily</td>\n",
              "      <td>[XFit, workout routines, workout programs, wor...</td>\n",
              "      <td>17</td>\n",
              "      <td>446553</td>\n",
              "      <td>4436</td>\n",
              "      <td>0</td>\n",
              "      <td>110</td>\n",
              "      <td>PT16M55S</td>\n",
              "      <td>hd</td>\n",
              "      <td>{}</td>\n",
              "      <td>[https://en.wikipedia.org/wiki/Lifestyle_(soci...</td>\n",
              "    </tr>\n",
              "    <tr>\n",
              "      <th>8037</th>\n",
              "      <td>2020-03-31T17:06:14Z</td>\n",
              "      <td>I Love Me - Demi Lovato | Caleb Marshall | Dan...</td>\n",
              "      <td>UCyqR7WkL8i1b6xtSssDmW9w</td>\n",
              "      <td>An easy to follow cardio dance fitness routine...</td>\n",
              "      <td>The Fitness Marshall</td>\n",
              "      <td>[zumba, cardio hip hop, dance fitness, marshal...</td>\n",
              "      <td>26</td>\n",
              "      <td>1045299</td>\n",
              "      <td>11597</td>\n",
              "      <td>0</td>\n",
              "      <td>399</td>\n",
              "      <td>PT3M31S</td>\n",
              "      <td>hd</td>\n",
              "      <td>{}</td>\n",
              "      <td>[https://en.wikipedia.org/wiki/Hobby, https://...</td>\n",
              "    </tr>\n",
              "    <tr>\n",
              "      <th>45215</th>\n",
              "      <td>2014-04-09T12:30:01Z</td>\n",
              "      <td>Are Hong Kong &amp; Macau Countries?</td>\n",
              "      <td>UC2C_jShtL725hvbm1arSV9w</td>\n",
              "      <td>Support: https://www.patreon.com/cgpgrey\\n\\nSp...</td>\n",
              "      <td>CGP Grey</td>\n",
              "      <td>[cgpgrey, education, Hong Kong (Chinese Specia...</td>\n",
              "      <td>27</td>\n",
              "      <td>5856448</td>\n",
              "      <td>93132</td>\n",
              "      <td>0</td>\n",
              "      <td>11880</td>\n",
              "      <td>PT4M53S</td>\n",
              "      <td>hd</td>\n",
              "      <td>{}</td>\n",
              "      <td>[https://en.wikipedia.org/wiki/Society]</td>\n",
              "    </tr>\n",
              "  </tbody>\n",
              "</table>\n",
              "</div>\n",
              "      <button class=\"colab-df-convert\" onclick=\"convertToInteractive('df-add010a6-2411-40da-9434-58362e1fbc3c')\"\n",
              "              title=\"Convert this dataframe to an interactive table.\"\n",
              "              style=\"display:none;\">\n",
              "        \n",
              "  <svg xmlns=\"http://www.w3.org/2000/svg\" height=\"24px\"viewBox=\"0 0 24 24\"\n",
              "       width=\"24px\">\n",
              "    <path d=\"M0 0h24v24H0V0z\" fill=\"none\"/>\n",
              "    <path d=\"M18.56 5.44l.94 2.06.94-2.06 2.06-.94-2.06-.94-.94-2.06-.94 2.06-2.06.94zm-11 1L8.5 8.5l.94-2.06 2.06-.94-2.06-.94L8.5 2.5l-.94 2.06-2.06.94zm10 10l.94 2.06.94-2.06 2.06-.94-2.06-.94-.94-2.06-.94 2.06-2.06.94z\"/><path d=\"M17.41 7.96l-1.37-1.37c-.4-.4-.92-.59-1.43-.59-.52 0-1.04.2-1.43.59L10.3 9.45l-7.72 7.72c-.78.78-.78 2.05 0 2.83L4 21.41c.39.39.9.59 1.41.59.51 0 1.02-.2 1.41-.59l7.78-7.78 2.81-2.81c.8-.78.8-2.07 0-2.86zM5.41 20L4 18.59l7.72-7.72 1.47 1.35L5.41 20z\"/>\n",
              "  </svg>\n",
              "      </button>\n",
              "      \n",
              "  <style>\n",
              "    .colab-df-container {\n",
              "      display:flex;\n",
              "      flex-wrap:wrap;\n",
              "      gap: 12px;\n",
              "    }\n",
              "\n",
              "    .colab-df-convert {\n",
              "      background-color: #E8F0FE;\n",
              "      border: none;\n",
              "      border-radius: 50%;\n",
              "      cursor: pointer;\n",
              "      display: none;\n",
              "      fill: #1967D2;\n",
              "      height: 32px;\n",
              "      padding: 0 0 0 0;\n",
              "      width: 32px;\n",
              "    }\n",
              "\n",
              "    .colab-df-convert:hover {\n",
              "      background-color: #E2EBFA;\n",
              "      box-shadow: 0px 1px 2px rgba(60, 64, 67, 0.3), 0px 1px 3px 1px rgba(60, 64, 67, 0.15);\n",
              "      fill: #174EA6;\n",
              "    }\n",
              "\n",
              "    [theme=dark] .colab-df-convert {\n",
              "      background-color: #3B4455;\n",
              "      fill: #D2E3FC;\n",
              "    }\n",
              "\n",
              "    [theme=dark] .colab-df-convert:hover {\n",
              "      background-color: #434B5C;\n",
              "      box-shadow: 0px 1px 3px 1px rgba(0, 0, 0, 0.15);\n",
              "      filter: drop-shadow(0px 1px 2px rgba(0, 0, 0, 0.3));\n",
              "      fill: #FFFFFF;\n",
              "    }\n",
              "  </style>\n",
              "\n",
              "      <script>\n",
              "        const buttonEl =\n",
              "          document.querySelector('#df-add010a6-2411-40da-9434-58362e1fbc3c button.colab-df-convert');\n",
              "        buttonEl.style.display =\n",
              "          google.colab.kernel.accessAllowed ? 'block' : 'none';\n",
              "\n",
              "        async function convertToInteractive(key) {\n",
              "          const element = document.querySelector('#df-add010a6-2411-40da-9434-58362e1fbc3c');\n",
              "          const dataTable =\n",
              "            await google.colab.kernel.invokeFunction('convertToInteractive',\n",
              "                                                     [key], {});\n",
              "          if (!dataTable) return;\n",
              "\n",
              "          const docLinkHtml = 'Like what you see? Visit the ' +\n",
              "            '<a target=\"_blank\" href=https://colab.research.google.com/notebooks/data_table.ipynb>data table notebook</a>'\n",
              "            + ' to learn more about interactive tables.';\n",
              "          element.innerHTML = '';\n",
              "          dataTable['output_type'] = 'display_data';\n",
              "          await google.colab.output.renderOutput(dataTable, element);\n",
              "          const docLink = document.createElement('div');\n",
              "          docLink.innerHTML = docLinkHtml;\n",
              "          element.appendChild(docLink);\n",
              "        }\n",
              "      </script>\n",
              "    </div>\n",
              "  </div>\n",
              "  "
            ]
          },
          "metadata": {},
          "execution_count": 7
        }
      ]
    },
    {
      "cell_type": "code",
      "source": [
        "overall_stats_raw_df.info()\n",
        "overall_stats_raw_df.sample(5)"
      ],
      "metadata": {
        "id": "bT47uyotFG8o",
        "outputId": "61d09952-b393-4b88-88d5-7b4e869b8314",
        "colab": {
          "base_uri": "https://localhost:8080/",
          "height": 391
        },
        "pycharm": {
          "name": "#%%\n"
        }
      },
      "execution_count": 8,
      "outputs": [
        {
          "output_type": "stream",
          "name": "stdout",
          "text": [
            "<class 'pandas.core.frame.DataFrame'>\n",
            "RangeIndex: 149 entries, 0 to 148\n",
            "Data columns (total 4 columns):\n",
            " #   Column           Non-Null Count  Dtype \n",
            "---  ------           --------------  ----- \n",
            " 0   viewCount        149 non-null    object\n",
            " 1   subscriberCount  149 non-null    object\n",
            " 2   videoCount       149 non-null    object\n",
            " 3   channelName      149 non-null    object\n",
            "dtypes: object(4)\n",
            "memory usage: 4.8+ KB\n"
          ]
        },
        {
          "output_type": "execute_result",
          "data": {
            "text/plain": [
              "       viewCount subscriberCount videoCount  \\\n",
              "135    116740581         1400000       1308   \n",
              "27    3334363850         9910000        205   \n",
              "19         31094           10500          4   \n",
              "38    4981263404        17700000        154   \n",
              "6    20257607432        29700000      10886   \n",
              "\n",
              "                                           channelName  \n",
              "135  Lectures by Walter Lewin. They will make you ♥...  \n",
              "27                                          Bart Baker  \n",
              "19                                Quintessentially Viv  \n",
              "38                                           Lele Pons  \n",
              "6                                     Spinnin' Records  "
            ],
            "text/html": [
              "\n",
              "  <div id=\"df-1f38a350-d44e-4fdc-85eb-f8d04f54d1a0\">\n",
              "    <div class=\"colab-df-container\">\n",
              "      <div>\n",
              "<style scoped>\n",
              "    .dataframe tbody tr th:only-of-type {\n",
              "        vertical-align: middle;\n",
              "    }\n",
              "\n",
              "    .dataframe tbody tr th {\n",
              "        vertical-align: top;\n",
              "    }\n",
              "\n",
              "    .dataframe thead th {\n",
              "        text-align: right;\n",
              "    }\n",
              "</style>\n",
              "<table border=\"1\" class=\"dataframe\">\n",
              "  <thead>\n",
              "    <tr style=\"text-align: right;\">\n",
              "      <th></th>\n",
              "      <th>viewCount</th>\n",
              "      <th>subscriberCount</th>\n",
              "      <th>videoCount</th>\n",
              "      <th>channelName</th>\n",
              "    </tr>\n",
              "  </thead>\n",
              "  <tbody>\n",
              "    <tr>\n",
              "      <th>135</th>\n",
              "      <td>116740581</td>\n",
              "      <td>1400000</td>\n",
              "      <td>1308</td>\n",
              "      <td>Lectures by Walter Lewin. They will make you ♥...</td>\n",
              "    </tr>\n",
              "    <tr>\n",
              "      <th>27</th>\n",
              "      <td>3334363850</td>\n",
              "      <td>9910000</td>\n",
              "      <td>205</td>\n",
              "      <td>Bart Baker</td>\n",
              "    </tr>\n",
              "    <tr>\n",
              "      <th>19</th>\n",
              "      <td>31094</td>\n",
              "      <td>10500</td>\n",
              "      <td>4</td>\n",
              "      <td>Quintessentially Viv</td>\n",
              "    </tr>\n",
              "    <tr>\n",
              "      <th>38</th>\n",
              "      <td>4981263404</td>\n",
              "      <td>17700000</td>\n",
              "      <td>154</td>\n",
              "      <td>Lele Pons</td>\n",
              "    </tr>\n",
              "    <tr>\n",
              "      <th>6</th>\n",
              "      <td>20257607432</td>\n",
              "      <td>29700000</td>\n",
              "      <td>10886</td>\n",
              "      <td>Spinnin' Records</td>\n",
              "    </tr>\n",
              "  </tbody>\n",
              "</table>\n",
              "</div>\n",
              "      <button class=\"colab-df-convert\" onclick=\"convertToInteractive('df-1f38a350-d44e-4fdc-85eb-f8d04f54d1a0')\"\n",
              "              title=\"Convert this dataframe to an interactive table.\"\n",
              "              style=\"display:none;\">\n",
              "        \n",
              "  <svg xmlns=\"http://www.w3.org/2000/svg\" height=\"24px\"viewBox=\"0 0 24 24\"\n",
              "       width=\"24px\">\n",
              "    <path d=\"M0 0h24v24H0V0z\" fill=\"none\"/>\n",
              "    <path d=\"M18.56 5.44l.94 2.06.94-2.06 2.06-.94-2.06-.94-.94-2.06-.94 2.06-2.06.94zm-11 1L8.5 8.5l.94-2.06 2.06-.94-2.06-.94L8.5 2.5l-.94 2.06-2.06.94zm10 10l.94 2.06.94-2.06 2.06-.94-2.06-.94-.94-2.06-.94 2.06-2.06.94z\"/><path d=\"M17.41 7.96l-1.37-1.37c-.4-.4-.92-.59-1.43-.59-.52 0-1.04.2-1.43.59L10.3 9.45l-7.72 7.72c-.78.78-.78 2.05 0 2.83L4 21.41c.39.39.9.59 1.41.59.51 0 1.02-.2 1.41-.59l7.78-7.78 2.81-2.81c.8-.78.8-2.07 0-2.86zM5.41 20L4 18.59l7.72-7.72 1.47 1.35L5.41 20z\"/>\n",
              "  </svg>\n",
              "      </button>\n",
              "      \n",
              "  <style>\n",
              "    .colab-df-container {\n",
              "      display:flex;\n",
              "      flex-wrap:wrap;\n",
              "      gap: 12px;\n",
              "    }\n",
              "\n",
              "    .colab-df-convert {\n",
              "      background-color: #E8F0FE;\n",
              "      border: none;\n",
              "      border-radius: 50%;\n",
              "      cursor: pointer;\n",
              "      display: none;\n",
              "      fill: #1967D2;\n",
              "      height: 32px;\n",
              "      padding: 0 0 0 0;\n",
              "      width: 32px;\n",
              "    }\n",
              "\n",
              "    .colab-df-convert:hover {\n",
              "      background-color: #E2EBFA;\n",
              "      box-shadow: 0px 1px 2px rgba(60, 64, 67, 0.3), 0px 1px 3px 1px rgba(60, 64, 67, 0.15);\n",
              "      fill: #174EA6;\n",
              "    }\n",
              "\n",
              "    [theme=dark] .colab-df-convert {\n",
              "      background-color: #3B4455;\n",
              "      fill: #D2E3FC;\n",
              "    }\n",
              "\n",
              "    [theme=dark] .colab-df-convert:hover {\n",
              "      background-color: #434B5C;\n",
              "      box-shadow: 0px 1px 3px 1px rgba(0, 0, 0, 0.15);\n",
              "      filter: drop-shadow(0px 1px 2px rgba(0, 0, 0, 0.3));\n",
              "      fill: #FFFFFF;\n",
              "    }\n",
              "  </style>\n",
              "\n",
              "      <script>\n",
              "        const buttonEl =\n",
              "          document.querySelector('#df-1f38a350-d44e-4fdc-85eb-f8d04f54d1a0 button.colab-df-convert');\n",
              "        buttonEl.style.display =\n",
              "          google.colab.kernel.accessAllowed ? 'block' : 'none';\n",
              "\n",
              "        async function convertToInteractive(key) {\n",
              "          const element = document.querySelector('#df-1f38a350-d44e-4fdc-85eb-f8d04f54d1a0');\n",
              "          const dataTable =\n",
              "            await google.colab.kernel.invokeFunction('convertToInteractive',\n",
              "                                                     [key], {});\n",
              "          if (!dataTable) return;\n",
              "\n",
              "          const docLinkHtml = 'Like what you see? Visit the ' +\n",
              "            '<a target=\"_blank\" href=https://colab.research.google.com/notebooks/data_table.ipynb>data table notebook</a>'\n",
              "            + ' to learn more about interactive tables.';\n",
              "          element.innerHTML = '';\n",
              "          dataTable['output_type'] = 'display_data';\n",
              "          await google.colab.output.renderOutput(dataTable, element);\n",
              "          const docLink = document.createElement('div');\n",
              "          docLink.innerHTML = docLinkHtml;\n",
              "          element.appendChild(docLink);\n",
              "        }\n",
              "      </script>\n",
              "    </div>\n",
              "  </div>\n",
              "  "
            ]
          },
          "metadata": {},
          "execution_count": 8
        }
      ]
    },
    {
      "cell_type": "markdown",
      "source": [
        "### Let's examine our datatypes and convert them appropriately"
      ],
      "metadata": {
        "id": "ZeWzYTmOA4eY",
        "pycharm": {
          "name": "#%% md\n"
        }
      }
    },
    {
      "cell_type": "code",
      "source": [
        "raw_df.info()"
      ],
      "metadata": {
        "id": "NB0XlyRB1dHI",
        "outputId": "72c81472-5ab0-4fcb-8e73-e819b0b918c5",
        "colab": {
          "base_uri": "https://localhost:8080/"
        },
        "pycharm": {
          "name": "#%%\n"
        }
      },
      "execution_count": 9,
      "outputs": [
        {
          "output_type": "stream",
          "name": "stdout",
          "text": [
            "<class 'pandas.core.frame.DataFrame'>\n",
            "RangeIndex: 55337 entries, 0 to 55336\n",
            "Data columns (total 15 columns):\n",
            " #   Column           Non-Null Count  Dtype \n",
            "---  ------           --------------  ----- \n",
            " 0   publishedAt      55337 non-null  object\n",
            " 1   title            55337 non-null  object\n",
            " 2   channelId        55124 non-null  object\n",
            " 3   description      55124 non-null  object\n",
            " 4   channelTitle     55124 non-null  object\n",
            " 5   tags             51972 non-null  object\n",
            " 6   categoryId       55124 non-null  object\n",
            " 7   viewCount        55050 non-null  object\n",
            " 8   likeCount        54589 non-null  object\n",
            " 9   favoriteCount    55121 non-null  object\n",
            " 10  commentCount     54549 non-null  object\n",
            " 11  duration         55125 non-null  object\n",
            " 12  definition       55125 non-null  object\n",
            " 13  contentRating    55125 non-null  object\n",
            " 14  topicCategories  54331 non-null  object\n",
            "dtypes: object(15)\n",
            "memory usage: 6.3+ MB\n"
          ]
        }
      ]
    },
    {
      "cell_type": "code",
      "source": [
        "def duration_split(duration):\n",
        "    try:\n",
        "      for _, v in groupby(duration, str.isalpha):\n",
        "        yield ''.join(v)\n",
        "    except:\n",
        "      yield np.nan\n",
        "    \n",
        "### Miles code fix included here   \n",
        "def duration_2_secs(duration, duration_split=duration_split):\n",
        "  temp = 0\n",
        "  for i, val in enumerate(duration_split(duration)):\n",
        "    \n",
        "    if len(str(duration)) <= 8:\n",
        "      if i==1 and not val.isalpha():\n",
        "        temp += float(val)*60\n",
        "      \n",
        "      if i==3 and not val.isalpha():\n",
        "        temp += float(val)\n",
        "    else:\n",
        "      if i==1 and not val.isalpha():\n",
        "        temp += float(val)*60*60\n",
        "      \n",
        "      if i==3 and not val.isalpha():\n",
        "        temp += float(val)*60\n",
        "      \n",
        "      if i==5 and not val.isalpha():\n",
        "        temp += float(val)\n",
        "\n",
        "  return(temp)\n",
        "\n",
        "\n",
        "# duration_2_secs(\"PT51M12S\")"
      ],
      "metadata": {
        "id": "IpgdK3Vs53Yo",
        "pycharm": {
          "name": "#%%\n"
        }
      },
      "execution_count": 10,
      "outputs": []
    },
    {
      "cell_type": "code",
      "source": [
        "def topic_extract(links_list):\n",
        "  \n",
        "  topics_list = []  \n",
        "  try:\n",
        "    for link in links_list:\n",
        "      topics_list.append(link.split(\"/\")[-1].lower())\n",
        "    \n",
        "    return(topics_list)\n",
        "  except:\n",
        "    pass"
      ],
      "metadata": {
        "id": "7GyZH6WgHzw7",
        "pycharm": {
          "name": "#%%\n"
        }
      },
      "execution_count": 11,
      "outputs": []
    },
    {
      "cell_type": "code",
      "source": [
        "def text_prep(val):\n",
        "  '''the goal is to replace the hypertexts in the \n",
        "  in any field to redundant names as vectorizing\n",
        "  them could be misleading and also leak data'''\n",
        "\n",
        "  val = str(val).lower()\n",
        "  process_desc = re.sub(r'http[s]*:.*\\w', 'url', val)\n",
        "  process_desc = re.sub('[^a-zA-Z]', ' ', process_desc)\n",
        "  process_desc = re.sub(r'\\s+', ' ', process_desc)\n",
        "\n",
        "  process_desc = nltk.sent_tokenize(process_desc)\n",
        "  if not process_desc:\n",
        "    process_desc = [nltk.word_tokenize(word) for word in process_desc]\n",
        "  else:\n",
        "    process_desc = [nltk.word_tokenize(word) for word in process_desc][0]\n",
        "    \n",
        "  \n",
        "  word_list = [word for word in process_desc if word not in stopwords.words('english')]\n",
        "\n",
        "\n",
        "  return word_list\n",
        "\n"
      ],
      "metadata": {
        "id": "iQqQ2cTCTV25",
        "pycharm": {
          "name": "#%%\n"
        }
      },
      "execution_count": 12,
      "outputs": []
    },
    {
      "cell_type": "code",
      "source": [
        "text_prep(\"i if happening\")"
      ],
      "metadata": {
        "id": "tlnQIsjxffa6",
        "outputId": "6c08d203-11b2-421c-98d3-5cdec0579c98",
        "colab": {
          "base_uri": "https://localhost:8080/"
        },
        "pycharm": {
          "name": "#%%\n"
        }
      },
      "execution_count": 13,
      "outputs": [
        {
          "output_type": "execute_result",
          "data": {
            "text/plain": [
              "['happening']"
            ]
          },
          "metadata": {},
          "execution_count": 13
        }
      ]
    },
    {
      "cell_type": "code",
      "source": [
        "def create_dataset(df, featureset, primary=True):\n",
        "\n",
        "  if primary:\n",
        "    df[\"publishedAt\"] = pd.to_datetime(df.publishedAt)\n",
        "    df['publishedDayNum'] = df.publishedAt.apply(lambda x: x.timetuple().tm_yday)\n",
        "    df['publishedDayDelta'] = abs(df['publishedDayNum']-datetime.datetime.now().timetuple().tm_yday)\n",
        "    df[\"categoryId\"] = df.categoryId.astype(float)\n",
        "    df[\"viewCount\"] = df.viewCount.astype(float)\n",
        "    df[\"likeCount\"] = df.likeCount.astype(float)\n",
        "    df[\"favoriteCount\"] = df.favoriteCount.astype(float)\n",
        "    df[\"commentCount\"] = df.commentCount.astype(float)\n",
        "    df['duration_secs'] = df.duration.apply(duration_2_secs)\n",
        "    df['topicCategories'] = df.topicCategories.apply(topic_extract)\n",
        "    df['tags'] = df.tags.apply(topic_extract)\n",
        "    df['channelTitle'] = df.channelTitle.str.lower()\n",
        "    df['description'] = df.description.apply(text_prep)\n",
        "    df['title'] = df.title.apply(text_prep)\n",
        "    df['len_title'] = df.title.apply(lambda x: len(x))\n",
        "    df['log_duration_secs'] = np.log(df.duration_secs+1)\n",
        "  \n",
        "  else:\n",
        "    df['ov_viewCount'] = df.viewCount.astype(float)\n",
        "    df['ov_subscriberCount'] = df.subscriberCount.astype(float)\n",
        "    df['ov_videoCount'] = df.videoCount.astype(float)\n",
        "    df['channelName'] = df.channelName.str.lower()\n",
        "\n",
        "  return df[featureset]"
      ],
      "metadata": {
        "id": "p0OW3SZK1hOg",
        "pycharm": {
          "name": "#%%\n"
        }
      },
      "execution_count": 14,
      "outputs": []
    },
    {
      "cell_type": "markdown",
      "source": [
        "- It's best to drop tags because, in many cases, the tags tend to contain the channel names, which could as we speculated earlier, lead to data leaks.\n",
        "- We'll also drop channelId because it is visually unintuitve and we can encode the channelNames with simple Id's if we needed to.\n",
        "- since we don't have data in the order of millions, we'd abstract out the publishing data to a new variable of `publishedDayNum` that contains the day of the year the video was published.\n",
        "- on examining `contentRating` values, the dataset in non-null but majorly contains empty dictionaries, which makes it misleading. As a result, we'll drop this feature too.\n",
        "- on examining `favoriteCount` values, the dataset in non-null but majorly contains a value of `0`, which makes it misleading. As a result, we'll drop it.\n",
        "\n",
        "- dropped columns list [`tags`, `channelId`, `contentRating`] and [`publishedAt`] after deriving the `publishedDayNum` column from it."
      ],
      "metadata": {
        "id": "6DM_MqBeWuTB",
        "pycharm": {
          "name": "#%% md\n"
        }
      }
    },
    {
      "cell_type": "code",
      "source": [
        "features = ['title', 'description', 'channelTitle',\n",
        " 'categoryId', 'viewCount', 'likeCount',\n",
        " 'commentCount', 'duration_secs', 'log_duration_secs',\n",
        " 'definition', 'topicCategories', 'publishedDayNum',\n",
        " 'publishedDayDelta', 'len_title']\n",
        "\n",
        "preproc1_df = create_dataset(raw_df, features)"
      ],
      "metadata": {
        "id": "1x1H_CF7Zbph",
        "pycharm": {
          "name": "#%%\n"
        }
      },
      "execution_count": 15,
      "outputs": []
    },
    {
      "cell_type": "code",
      "source": [
        "preproc1_df.sample(5)"
      ],
      "metadata": {
        "id": "TQtMyEfFZbsh",
        "outputId": "e9ef538d-1367-4b34-b2e0-6fa7dd962b3e",
        "colab": {
          "base_uri": "https://localhost:8080/",
          "height": 574
        },
        "pycharm": {
          "name": "#%%\n"
        }
      },
      "execution_count": 16,
      "outputs": [
        {
          "data": {
            "text/html": [
              "\n",
              "  <div id=\"df-8d83c459-eb2c-4ca8-9116-006aa73b2556\">\n",
              "    <div class=\"colab-df-container\">\n",
              "      <div>\n",
              "<style scoped>\n",
              "    .dataframe tbody tr th:only-of-type {\n",
              "        vertical-align: middle;\n",
              "    }\n",
              "\n",
              "    .dataframe tbody tr th {\n",
              "        vertical-align: top;\n",
              "    }\n",
              "\n",
              "    .dataframe thead th {\n",
              "        text-align: right;\n",
              "    }\n",
              "</style>\n",
              "<table border=\"1\" class=\"dataframe\">\n",
              "  <thead>\n",
              "    <tr style=\"text-align: right;\">\n",
              "      <th></th>\n",
              "      <th>title</th>\n",
              "      <th>description</th>\n",
              "      <th>channelTitle</th>\n",
              "      <th>categoryId</th>\n",
              "      <th>viewCount</th>\n",
              "      <th>likeCount</th>\n",
              "      <th>commentCount</th>\n",
              "      <th>duration_secs</th>\n",
              "      <th>log_duration_secs</th>\n",
              "      <th>definition</th>\n",
              "      <th>topicCategories</th>\n",
              "      <th>publishedDayNum</th>\n",
              "      <th>publishedDayDelta</th>\n",
              "      <th>len_title</th>\n",
              "    </tr>\n",
              "  </thead>\n",
              "  <tbody>\n",
              "    <tr>\n",
              "      <th>29808</th>\n",
              "      <td>[things, christmas, dessert]</td>\n",
              "      <td>[wanting, something, different, dessert, chris...</td>\n",
              "      <td>sorted food</td>\n",
              "      <td>26.0</td>\n",
              "      <td>333324.0</td>\n",
              "      <td>7338.0</td>\n",
              "      <td>272.0</td>\n",
              "      <td>535.0</td>\n",
              "      <td>6.284134</td>\n",
              "      <td>hd</td>\n",
              "      <td>[food, lifestyle_(sociology)]</td>\n",
              "      <td>350</td>\n",
              "      <td>72</td>\n",
              "      <td>3</td>\n",
              "    </tr>\n",
              "    <tr>\n",
              "      <th>17222</th>\n",
              "      <td>[simplified, spelling, board]</td>\n",
              "      <td>[trying, spell, english, language, silent, let...</td>\n",
              "      <td>the history guy: history deserves to be rememb...</td>\n",
              "      <td>27.0</td>\n",
              "      <td>70095.0</td>\n",
              "      <td>6247.0</td>\n",
              "      <td>763.0</td>\n",
              "      <td>1028.0</td>\n",
              "      <td>6.936343</td>\n",
              "      <td>hd</td>\n",
              "      <td>[knowledge]</td>\n",
              "      <td>152</td>\n",
              "      <td>126</td>\n",
              "      <td>3</td>\n",
              "    </tr>\n",
              "    <tr>\n",
              "      <th>38864</th>\n",
              "      <td>[hd, foot, massage, tutorial, pain, relief, re...</td>\n",
              "      <td>[check, series, amazon, url, help, support, ch...</td>\n",
              "      <td>psychetruth</td>\n",
              "      <td>26.0</td>\n",
              "      <td>159796.0</td>\n",
              "      <td>1344.0</td>\n",
              "      <td>95.0</td>\n",
              "      <td>1811.0</td>\n",
              "      <td>7.502186</td>\n",
              "      <td>hd</td>\n",
              "      <td>[health, lifestyle_(sociology)]</td>\n",
              "      <td>221</td>\n",
              "      <td>57</td>\n",
              "      <td>12</td>\n",
              "    </tr>\n",
              "    <tr>\n",
              "      <th>35510</th>\n",
              "      <td>[almond, fettuccine, alfredo, omg]</td>\n",
              "      <td>[cheese, nuts, julie, piatt, url]</td>\n",
              "      <td>tara stiles : yoga that feels like you</td>\n",
              "      <td>26.0</td>\n",
              "      <td>5123.0</td>\n",
              "      <td>151.0</td>\n",
              "      <td>NaN</td>\n",
              "      <td>339.0</td>\n",
              "      <td>5.828946</td>\n",
              "      <td>hd</td>\n",
              "      <td>[food, lifestyle_(sociology)]</td>\n",
              "      <td>174</td>\n",
              "      <td>104</td>\n",
              "      <td>4</td>\n",
              "    </tr>\n",
              "    <tr>\n",
              "      <th>23630</th>\n",
              "      <td>[abc, news, live, fda, fully, approves, pfizer...</td>\n",
              "      <td>[plus, pentagon, officials, say, u, troops, go...</td>\n",
              "      <td>abc news</td>\n",
              "      <td>25.0</td>\n",
              "      <td>9616.0</td>\n",
              "      <td>241.0</td>\n",
              "      <td>443.0</td>\n",
              "      <td>4098.0</td>\n",
              "      <td>8.318498</td>\n",
              "      <td>hd</td>\n",
              "      <td>[politics, society]</td>\n",
              "      <td>236</td>\n",
              "      <td>42</td>\n",
              "      <td>9</td>\n",
              "    </tr>\n",
              "  </tbody>\n",
              "</table>\n",
              "</div>\n",
              "      <button class=\"colab-df-convert\" onclick=\"convertToInteractive('df-8d83c459-eb2c-4ca8-9116-006aa73b2556')\"\n",
              "              title=\"Convert this dataframe to an interactive table.\"\n",
              "              style=\"display:none;\">\n",
              "        \n",
              "  <svg xmlns=\"http://www.w3.org/2000/svg\" height=\"24px\"viewBox=\"0 0 24 24\"\n",
              "       width=\"24px\">\n",
              "    <path d=\"M0 0h24v24H0V0z\" fill=\"none\"/>\n",
              "    <path d=\"M18.56 5.44l.94 2.06.94-2.06 2.06-.94-2.06-.94-.94-2.06-.94 2.06-2.06.94zm-11 1L8.5 8.5l.94-2.06 2.06-.94-2.06-.94L8.5 2.5l-.94 2.06-2.06.94zm10 10l.94 2.06.94-2.06 2.06-.94-2.06-.94-.94-2.06-.94 2.06-2.06.94z\"/><path d=\"M17.41 7.96l-1.37-1.37c-.4-.4-.92-.59-1.43-.59-.52 0-1.04.2-1.43.59L10.3 9.45l-7.72 7.72c-.78.78-.78 2.05 0 2.83L4 21.41c.39.39.9.59 1.41.59.51 0 1.02-.2 1.41-.59l7.78-7.78 2.81-2.81c.8-.78.8-2.07 0-2.86zM5.41 20L4 18.59l7.72-7.72 1.47 1.35L5.41 20z\"/>\n",
              "  </svg>\n",
              "      </button>\n",
              "      \n",
              "  <style>\n",
              "    .colab-df-container {\n",
              "      display:flex;\n",
              "      flex-wrap:wrap;\n",
              "      gap: 12px;\n",
              "    }\n",
              "\n",
              "    .colab-df-convert {\n",
              "      background-color: #E8F0FE;\n",
              "      border: none;\n",
              "      border-radius: 50%;\n",
              "      cursor: pointer;\n",
              "      display: none;\n",
              "      fill: #1967D2;\n",
              "      height: 32px;\n",
              "      padding: 0 0 0 0;\n",
              "      width: 32px;\n",
              "    }\n",
              "\n",
              "    .colab-df-convert:hover {\n",
              "      background-color: #E2EBFA;\n",
              "      box-shadow: 0px 1px 2px rgba(60, 64, 67, 0.3), 0px 1px 3px 1px rgba(60, 64, 67, 0.15);\n",
              "      fill: #174EA6;\n",
              "    }\n",
              "\n",
              "    [theme=dark] .colab-df-convert {\n",
              "      background-color: #3B4455;\n",
              "      fill: #D2E3FC;\n",
              "    }\n",
              "\n",
              "    [theme=dark] .colab-df-convert:hover {\n",
              "      background-color: #434B5C;\n",
              "      box-shadow: 0px 1px 3px 1px rgba(0, 0, 0, 0.15);\n",
              "      filter: drop-shadow(0px 1px 2px rgba(0, 0, 0, 0.3));\n",
              "      fill: #FFFFFF;\n",
              "    }\n",
              "  </style>\n",
              "\n",
              "      <script>\n",
              "        const buttonEl =\n",
              "          document.querySelector('#df-8d83c459-eb2c-4ca8-9116-006aa73b2556 button.colab-df-convert');\n",
              "        buttonEl.style.display =\n",
              "          google.colab.kernel.accessAllowed ? 'block' : 'none';\n",
              "\n",
              "        async function convertToInteractive(key) {\n",
              "          const element = document.querySelector('#df-8d83c459-eb2c-4ca8-9116-006aa73b2556');\n",
              "          const dataTable =\n",
              "            await google.colab.kernel.invokeFunction('convertToInteractive',\n",
              "                                                     [key], {});\n",
              "          if (!dataTable) return;\n",
              "\n",
              "          const docLinkHtml = 'Like what you see? Visit the ' +\n",
              "            '<a target=\"_blank\" href=https://colab.research.google.com/notebooks/data_table.ipynb>data table notebook</a>'\n",
              "            + ' to learn more about interactive tables.';\n",
              "          element.innerHTML = '';\n",
              "          dataTable['output_type'] = 'display_data';\n",
              "          await google.colab.output.renderOutput(dataTable, element);\n",
              "          const docLink = document.createElement('div');\n",
              "          docLink.innerHTML = docLinkHtml;\n",
              "          element.appendChild(docLink);\n",
              "        }\n",
              "      </script>\n",
              "    </div>\n",
              "  </div>\n",
              "  "
            ],
            "text/plain": [
              "                                                   title  \\\n",
              "29808                       [things, christmas, dessert]   \n",
              "17222                      [simplified, spelling, board]   \n",
              "38864  [hd, foot, massage, tutorial, pain, relief, re...   \n",
              "35510                 [almond, fettuccine, alfredo, omg]   \n",
              "23630  [abc, news, live, fda, fully, approves, pfizer...   \n",
              "\n",
              "                                             description  \\\n",
              "29808  [wanting, something, different, dessert, chris...   \n",
              "17222  [trying, spell, english, language, silent, let...   \n",
              "38864  [check, series, amazon, url, help, support, ch...   \n",
              "35510                  [cheese, nuts, julie, piatt, url]   \n",
              "23630  [plus, pentagon, officials, say, u, troops, go...   \n",
              "\n",
              "                                            channelTitle  categoryId  \\\n",
              "29808                                        sorted food        26.0   \n",
              "17222  the history guy: history deserves to be rememb...        27.0   \n",
              "38864                                        psychetruth        26.0   \n",
              "35510             tara stiles : yoga that feels like you        26.0   \n",
              "23630                                           abc news        25.0   \n",
              "\n",
              "       viewCount  likeCount  commentCount  duration_secs  log_duration_secs  \\\n",
              "29808   333324.0     7338.0         272.0          535.0           6.284134   \n",
              "17222    70095.0     6247.0         763.0         1028.0           6.936343   \n",
              "38864   159796.0     1344.0          95.0         1811.0           7.502186   \n",
              "35510     5123.0      151.0           NaN          339.0           5.828946   \n",
              "23630     9616.0      241.0         443.0         4098.0           8.318498   \n",
              "\n",
              "      definition                  topicCategories  publishedDayNum  \\\n",
              "29808         hd    [food, lifestyle_(sociology)]              350   \n",
              "17222         hd                      [knowledge]              152   \n",
              "38864         hd  [health, lifestyle_(sociology)]              221   \n",
              "35510         hd    [food, lifestyle_(sociology)]              174   \n",
              "23630         hd              [politics, society]              236   \n",
              "\n",
              "       publishedDayDelta  len_title  \n",
              "29808                 72          3  \n",
              "17222                126          3  \n",
              "38864                 57         12  \n",
              "35510                104          4  \n",
              "23630                 42          9  "
            ]
          },
          "execution_count": 16,
          "metadata": {},
          "output_type": "execute_result"
        }
      ]
    },
    {
      "cell_type": "code",
      "source": [
        "preproc1_df.info()"
      ],
      "metadata": {
        "id": "t0IvTxgCZbvQ",
        "outputId": "2deffb51-2751-42dc-848e-70ecc03de3fe",
        "colab": {
          "base_uri": "https://localhost:8080/"
        },
        "pycharm": {
          "name": "#%%\n"
        }
      },
      "execution_count": 17,
      "outputs": [
        {
          "metadata": {
            "tags": null
          },
          "name": "stdout",
          "output_type": "stream",
          "text": [
            "<class 'pandas.core.frame.DataFrame'>\n",
            "RangeIndex: 55337 entries, 0 to 55336\n",
            "Data columns (total 14 columns):\n",
            " #   Column             Non-Null Count  Dtype  \n",
            "---  ------             --------------  -----  \n",
            " 0   title              55337 non-null  object \n",
            " 1   description        55337 non-null  object \n",
            " 2   channelTitle       55124 non-null  object \n",
            " 3   categoryId         55124 non-null  float64\n",
            " 4   viewCount          55050 non-null  float64\n",
            " 5   likeCount          54589 non-null  float64\n",
            " 6   commentCount       54549 non-null  float64\n",
            " 7   duration_secs      55337 non-null  float64\n",
            " 8   log_duration_secs  55337 non-null  float64\n",
            " 9   definition         55125 non-null  object \n",
            " 10  topicCategories    54331 non-null  object \n",
            " 11  publishedDayNum    55337 non-null  int64  \n",
            " 12  publishedDayDelta  55337 non-null  int64  \n",
            " 13  len_title          55337 non-null  int64  \n",
            "dtypes: float64(6), int64(3), object(5)\n",
            "memory usage: 5.9+ MB\n"
          ]
        }
      ]
    },
    {
      "cell_type": "markdown",
      "source": [
        "Let's again take a look at what percentage of data is missing across all the fields."
      ],
      "metadata": {
        "id": "2UZA5KbIcLNS",
        "pycharm": {
          "name": "#%% md\n"
        }
      }
    },
    {
      "cell_type": "code",
      "source": [
        "missing_data_perc_cols = (preproc1_df.isna().sum()/len(preproc1_df))*100\n",
        "missing_data_perc_cols"
      ],
      "metadata": {
        "id": "XU9z_gY7ZbyY",
        "outputId": "a3a75b7c-fe0e-4593-bfeb-45bc494ba34f",
        "colab": {
          "base_uri": "https://localhost:8080/"
        },
        "pycharm": {
          "name": "#%%\n"
        }
      },
      "execution_count": 18,
      "outputs": [
        {
          "data": {
            "text/plain": [
              "title                0.000000\n",
              "description          0.000000\n",
              "channelTitle         0.384914\n",
              "categoryId           0.384914\n",
              "viewCount            0.518640\n",
              "likeCount            1.351718\n",
              "commentCount         1.424002\n",
              "duration_secs        0.000000\n",
              "log_duration_secs    0.000000\n",
              "definition           0.383107\n",
              "topicCategories      1.817952\n",
              "publishedDayNum      0.000000\n",
              "publishedDayDelta    0.000000\n",
              "len_title            0.000000\n",
              "dtype: float64"
            ]
          },
          "execution_count": 18,
          "metadata": {},
          "output_type": "execute_result"
        }
      ]
    },
    {
      "cell_type": "code",
      "source": [
        "lost_rows_perc = len(preproc1_df.dropna())/len(preproc1_df)*100\n",
        "lost_rows_perc"
      ],
      "metadata": {
        "id": "1v-cD0UedKA3",
        "outputId": "de5ac8c4-eef9-49db-eb8c-4852d03aded4",
        "colab": {
          "base_uri": "https://localhost:8080/"
        },
        "pycharm": {
          "name": "#%%\n"
        }
      },
      "execution_count": 19,
      "outputs": [
        {
          "data": {
            "text/plain": [
              "96.27916222418996"
            ]
          },
          "execution_count": 19,
          "metadata": {},
          "output_type": "execute_result"
        }
      ]
    },
    {
      "cell_type": "markdown",
      "source": [
        "It's under 5% in across all cases, which isn't a bad thing at all and we can easily consider dropping the missing fields as we would regularly keep enriching our datastore, which would easily compensate for the missing 5% over time."
      ],
      "metadata": {
        "id": "CJzvUQV2cUnQ",
        "pycharm": {
          "name": "#%% md\n"
        }
      }
    },
    {
      "cell_type": "code",
      "source": [
        "preproc2_df = preproc1_df.dropna()"
      ],
      "metadata": {
        "id": "el2ILYIT5CuN",
        "pycharm": {
          "name": "#%%\n"
        }
      },
      "execution_count": 20,
      "outputs": []
    },
    {
      "cell_type": "code",
      "source": [
        "preproc2_df.isna().sum()"
      ],
      "metadata": {
        "id": "okxXKRxo5CxC",
        "outputId": "9571d703-3dba-4231-c607-a41a997704c8",
        "colab": {
          "base_uri": "https://localhost:8080/"
        },
        "pycharm": {
          "name": "#%%\n"
        }
      },
      "execution_count": 21,
      "outputs": [
        {
          "data": {
            "text/plain": [
              "title                0\n",
              "description          0\n",
              "channelTitle         0\n",
              "categoryId           0\n",
              "viewCount            0\n",
              "likeCount            0\n",
              "commentCount         0\n",
              "duration_secs        0\n",
              "log_duration_secs    0\n",
              "definition           0\n",
              "topicCategories      0\n",
              "publishedDayNum      0\n",
              "publishedDayDelta    0\n",
              "len_title            0\n",
              "dtype: int64"
            ]
          },
          "execution_count": 21,
          "metadata": {},
          "output_type": "execute_result"
        }
      ]
    },
    {
      "cell_type": "code",
      "source": [
        "preproc2_df.drop('categoryId', axis=1).describe()"
      ],
      "metadata": {
        "id": "2J7gwINo5Czy",
        "outputId": "e21b4144-cc17-4b2a-bc6a-d78e237095fa",
        "colab": {
          "base_uri": "https://localhost:8080/",
          "height": 297
        },
        "pycharm": {
          "name": "#%%\n"
        }
      },
      "execution_count": 22,
      "outputs": [
        {
          "data": {
            "text/html": [
              "\n",
              "  <div id=\"df-9e873f43-ac86-42d9-87b2-16608fc5eb27\">\n",
              "    <div class=\"colab-df-container\">\n",
              "      <div>\n",
              "<style scoped>\n",
              "    .dataframe tbody tr th:only-of-type {\n",
              "        vertical-align: middle;\n",
              "    }\n",
              "\n",
              "    .dataframe tbody tr th {\n",
              "        vertical-align: top;\n",
              "    }\n",
              "\n",
              "    .dataframe thead th {\n",
              "        text-align: right;\n",
              "    }\n",
              "</style>\n",
              "<table border=\"1\" class=\"dataframe\">\n",
              "  <thead>\n",
              "    <tr style=\"text-align: right;\">\n",
              "      <th></th>\n",
              "      <th>viewCount</th>\n",
              "      <th>likeCount</th>\n",
              "      <th>commentCount</th>\n",
              "      <th>duration_secs</th>\n",
              "      <th>log_duration_secs</th>\n",
              "      <th>publishedDayNum</th>\n",
              "      <th>publishedDayDelta</th>\n",
              "      <th>len_title</th>\n",
              "    </tr>\n",
              "  </thead>\n",
              "  <tbody>\n",
              "    <tr>\n",
              "      <th>count</th>\n",
              "      <td>5.327800e+04</td>\n",
              "      <td>5.327800e+04</td>\n",
              "      <td>5.327800e+04</td>\n",
              "      <td>53278.000000</td>\n",
              "      <td>53278.000000</td>\n",
              "      <td>53278.000000</td>\n",
              "      <td>53278.000000</td>\n",
              "      <td>53278.000000</td>\n",
              "    </tr>\n",
              "    <tr>\n",
              "      <th>mean</th>\n",
              "      <td>3.158608e+06</td>\n",
              "      <td>4.917423e+04</td>\n",
              "      <td>3.022889e+03</td>\n",
              "      <td>791.403938</td>\n",
              "      <td>6.176761</td>\n",
              "      <td>182.144131</td>\n",
              "      <td>114.919648</td>\n",
              "      <td>6.011243</td>\n",
              "    </tr>\n",
              "    <tr>\n",
              "      <th>std</th>\n",
              "      <td>4.565088e+07</td>\n",
              "      <td>2.824296e+05</td>\n",
              "      <td>1.263771e+04</td>\n",
              "      <td>1497.323859</td>\n",
              "      <td>0.946581</td>\n",
              "      <td>103.481357</td>\n",
              "      <td>81.793264</td>\n",
              "      <td>2.538819</td>\n",
              "    </tr>\n",
              "    <tr>\n",
              "      <th>min</th>\n",
              "      <td>0.000000e+00</td>\n",
              "      <td>0.000000e+00</td>\n",
              "      <td>0.000000e+00</td>\n",
              "      <td>0.000000</td>\n",
              "      <td>0.000000</td>\n",
              "      <td>1.000000</td>\n",
              "      <td>0.000000</td>\n",
              "      <td>0.000000</td>\n",
              "    </tr>\n",
              "    <tr>\n",
              "      <th>25%</th>\n",
              "      <td>8.738600e+04</td>\n",
              "      <td>1.695000e+03</td>\n",
              "      <td>1.290000e+02</td>\n",
              "      <td>238.000000</td>\n",
              "      <td>5.476464</td>\n",
              "      <td>93.000000</td>\n",
              "      <td>44.000000</td>\n",
              "      <td>4.000000</td>\n",
              "    </tr>\n",
              "    <tr>\n",
              "      <th>50%</th>\n",
              "      <td>3.206290e+05</td>\n",
              "      <td>7.418000e+03</td>\n",
              "      <td>5.265000e+02</td>\n",
              "      <td>482.000000</td>\n",
              "      <td>6.180017</td>\n",
              "      <td>183.000000</td>\n",
              "      <td>95.000000</td>\n",
              "      <td>6.000000</td>\n",
              "    </tr>\n",
              "    <tr>\n",
              "      <th>75%</th>\n",
              "      <td>1.322312e+06</td>\n",
              "      <td>2.816250e+04</td>\n",
              "      <td>1.916000e+03</td>\n",
              "      <td>865.000000</td>\n",
              "      <td>6.763885</td>\n",
              "      <td>268.000000</td>\n",
              "      <td>185.000000</td>\n",
              "      <td>8.000000</td>\n",
              "    </tr>\n",
              "    <tr>\n",
              "      <th>max</th>\n",
              "      <td>5.809870e+09</td>\n",
              "      <td>3.042521e+07</td>\n",
              "      <td>1.124865e+06</td>\n",
              "      <td>42901.000000</td>\n",
              "      <td>10.666674</td>\n",
              "      <td>366.000000</td>\n",
              "      <td>277.000000</td>\n",
              "      <td>19.000000</td>\n",
              "    </tr>\n",
              "  </tbody>\n",
              "</table>\n",
              "</div>\n",
              "      <button class=\"colab-df-convert\" onclick=\"convertToInteractive('df-9e873f43-ac86-42d9-87b2-16608fc5eb27')\"\n",
              "              title=\"Convert this dataframe to an interactive table.\"\n",
              "              style=\"display:none;\">\n",
              "        \n",
              "  <svg xmlns=\"http://www.w3.org/2000/svg\" height=\"24px\"viewBox=\"0 0 24 24\"\n",
              "       width=\"24px\">\n",
              "    <path d=\"M0 0h24v24H0V0z\" fill=\"none\"/>\n",
              "    <path d=\"M18.56 5.44l.94 2.06.94-2.06 2.06-.94-2.06-.94-.94-2.06-.94 2.06-2.06.94zm-11 1L8.5 8.5l.94-2.06 2.06-.94-2.06-.94L8.5 2.5l-.94 2.06-2.06.94zm10 10l.94 2.06.94-2.06 2.06-.94-2.06-.94-.94-2.06-.94 2.06-2.06.94z\"/><path d=\"M17.41 7.96l-1.37-1.37c-.4-.4-.92-.59-1.43-.59-.52 0-1.04.2-1.43.59L10.3 9.45l-7.72 7.72c-.78.78-.78 2.05 0 2.83L4 21.41c.39.39.9.59 1.41.59.51 0 1.02-.2 1.41-.59l7.78-7.78 2.81-2.81c.8-.78.8-2.07 0-2.86zM5.41 20L4 18.59l7.72-7.72 1.47 1.35L5.41 20z\"/>\n",
              "  </svg>\n",
              "      </button>\n",
              "      \n",
              "  <style>\n",
              "    .colab-df-container {\n",
              "      display:flex;\n",
              "      flex-wrap:wrap;\n",
              "      gap: 12px;\n",
              "    }\n",
              "\n",
              "    .colab-df-convert {\n",
              "      background-color: #E8F0FE;\n",
              "      border: none;\n",
              "      border-radius: 50%;\n",
              "      cursor: pointer;\n",
              "      display: none;\n",
              "      fill: #1967D2;\n",
              "      height: 32px;\n",
              "      padding: 0 0 0 0;\n",
              "      width: 32px;\n",
              "    }\n",
              "\n",
              "    .colab-df-convert:hover {\n",
              "      background-color: #E2EBFA;\n",
              "      box-shadow: 0px 1px 2px rgba(60, 64, 67, 0.3), 0px 1px 3px 1px rgba(60, 64, 67, 0.15);\n",
              "      fill: #174EA6;\n",
              "    }\n",
              "\n",
              "    [theme=dark] .colab-df-convert {\n",
              "      background-color: #3B4455;\n",
              "      fill: #D2E3FC;\n",
              "    }\n",
              "\n",
              "    [theme=dark] .colab-df-convert:hover {\n",
              "      background-color: #434B5C;\n",
              "      box-shadow: 0px 1px 3px 1px rgba(0, 0, 0, 0.15);\n",
              "      filter: drop-shadow(0px 1px 2px rgba(0, 0, 0, 0.3));\n",
              "      fill: #FFFFFF;\n",
              "    }\n",
              "  </style>\n",
              "\n",
              "      <script>\n",
              "        const buttonEl =\n",
              "          document.querySelector('#df-9e873f43-ac86-42d9-87b2-16608fc5eb27 button.colab-df-convert');\n",
              "        buttonEl.style.display =\n",
              "          google.colab.kernel.accessAllowed ? 'block' : 'none';\n",
              "\n",
              "        async function convertToInteractive(key) {\n",
              "          const element = document.querySelector('#df-9e873f43-ac86-42d9-87b2-16608fc5eb27');\n",
              "          const dataTable =\n",
              "            await google.colab.kernel.invokeFunction('convertToInteractive',\n",
              "                                                     [key], {});\n",
              "          if (!dataTable) return;\n",
              "\n",
              "          const docLinkHtml = 'Like what you see? Visit the ' +\n",
              "            '<a target=\"_blank\" href=https://colab.research.google.com/notebooks/data_table.ipynb>data table notebook</a>'\n",
              "            + ' to learn more about interactive tables.';\n",
              "          element.innerHTML = '';\n",
              "          dataTable['output_type'] = 'display_data';\n",
              "          await google.colab.output.renderOutput(dataTable, element);\n",
              "          const docLink = document.createElement('div');\n",
              "          docLink.innerHTML = docLinkHtml;\n",
              "          element.appendChild(docLink);\n",
              "        }\n",
              "      </script>\n",
              "    </div>\n",
              "  </div>\n",
              "  "
            ],
            "text/plain": [
              "          viewCount     likeCount  commentCount  duration_secs  \\\n",
              "count  5.327800e+04  5.327800e+04  5.327800e+04   53278.000000   \n",
              "mean   3.158608e+06  4.917423e+04  3.022889e+03     791.403938   \n",
              "std    4.565088e+07  2.824296e+05  1.263771e+04    1497.323859   \n",
              "min    0.000000e+00  0.000000e+00  0.000000e+00       0.000000   \n",
              "25%    8.738600e+04  1.695000e+03  1.290000e+02     238.000000   \n",
              "50%    3.206290e+05  7.418000e+03  5.265000e+02     482.000000   \n",
              "75%    1.322312e+06  2.816250e+04  1.916000e+03     865.000000   \n",
              "max    5.809870e+09  3.042521e+07  1.124865e+06   42901.000000   \n",
              "\n",
              "       log_duration_secs  publishedDayNum  publishedDayDelta     len_title  \n",
              "count       53278.000000     53278.000000       53278.000000  53278.000000  \n",
              "mean            6.176761       182.144131         114.919648      6.011243  \n",
              "std             0.946581       103.481357          81.793264      2.538819  \n",
              "min             0.000000         1.000000           0.000000      0.000000  \n",
              "25%             5.476464        93.000000          44.000000      4.000000  \n",
              "50%             6.180017       183.000000          95.000000      6.000000  \n",
              "75%             6.763885       268.000000         185.000000      8.000000  \n",
              "max            10.666674       366.000000         277.000000     19.000000  "
            ]
          },
          "execution_count": 22,
          "metadata": {},
          "output_type": "execute_result"
        }
      ]
    },
    {
      "cell_type": "code",
      "source": [
        "preproc2_df.drop('categoryId', axis=1).corr()"
      ],
      "metadata": {
        "id": "R-ye303SeWqR",
        "outputId": "b5a182e2-c706-4564-f8e9-8ea838941da5",
        "colab": {
          "base_uri": "https://localhost:8080/",
          "height": 297
        },
        "pycharm": {
          "name": "#%%\n"
        }
      },
      "execution_count": 23,
      "outputs": [
        {
          "data": {
            "text/html": [
              "\n",
              "  <div id=\"df-2d6e78c6-5df1-4d8a-8cc8-cd5b7328e2af\">\n",
              "    <div class=\"colab-df-container\">\n",
              "      <div>\n",
              "<style scoped>\n",
              "    .dataframe tbody tr th:only-of-type {\n",
              "        vertical-align: middle;\n",
              "    }\n",
              "\n",
              "    .dataframe tbody tr th {\n",
              "        vertical-align: top;\n",
              "    }\n",
              "\n",
              "    .dataframe thead th {\n",
              "        text-align: right;\n",
              "    }\n",
              "</style>\n",
              "<table border=\"1\" class=\"dataframe\">\n",
              "  <thead>\n",
              "    <tr style=\"text-align: right;\">\n",
              "      <th></th>\n",
              "      <th>viewCount</th>\n",
              "      <th>likeCount</th>\n",
              "      <th>commentCount</th>\n",
              "      <th>duration_secs</th>\n",
              "      <th>log_duration_secs</th>\n",
              "      <th>publishedDayNum</th>\n",
              "      <th>publishedDayDelta</th>\n",
              "      <th>len_title</th>\n",
              "    </tr>\n",
              "  </thead>\n",
              "  <tbody>\n",
              "    <tr>\n",
              "      <th>viewCount</th>\n",
              "      <td>1.000000</td>\n",
              "      <td>0.899907</td>\n",
              "      <td>0.721942</td>\n",
              "      <td>-0.014268</td>\n",
              "      <td>-0.026618</td>\n",
              "      <td>-0.002688</td>\n",
              "      <td>0.003995</td>\n",
              "      <td>0.001312</td>\n",
              "    </tr>\n",
              "    <tr>\n",
              "      <th>likeCount</th>\n",
              "      <td>0.899907</td>\n",
              "      <td>1.000000</td>\n",
              "      <td>0.845570</td>\n",
              "      <td>-0.018670</td>\n",
              "      <td>-0.026851</td>\n",
              "      <td>0.003992</td>\n",
              "      <td>-0.001212</td>\n",
              "      <td>-0.032605</td>\n",
              "    </tr>\n",
              "    <tr>\n",
              "      <th>commentCount</th>\n",
              "      <td>0.721942</td>\n",
              "      <td>0.845570</td>\n",
              "      <td>1.000000</td>\n",
              "      <td>-0.016090</td>\n",
              "      <td>-0.010986</td>\n",
              "      <td>0.004524</td>\n",
              "      <td>-0.001259</td>\n",
              "      <td>-0.081244</td>\n",
              "    </tr>\n",
              "    <tr>\n",
              "      <th>duration_secs</th>\n",
              "      <td>-0.014268</td>\n",
              "      <td>-0.018670</td>\n",
              "      <td>-0.016090</td>\n",
              "      <td>1.000000</td>\n",
              "      <td>0.602468</td>\n",
              "      <td>0.003295</td>\n",
              "      <td>-0.014514</td>\n",
              "      <td>0.114565</td>\n",
              "    </tr>\n",
              "    <tr>\n",
              "      <th>log_duration_secs</th>\n",
              "      <td>-0.026618</td>\n",
              "      <td>-0.026851</td>\n",
              "      <td>-0.010986</td>\n",
              "      <td>0.602468</td>\n",
              "      <td>1.000000</td>\n",
              "      <td>-0.012650</td>\n",
              "      <td>0.011645</td>\n",
              "      <td>0.112068</td>\n",
              "    </tr>\n",
              "    <tr>\n",
              "      <th>publishedDayNum</th>\n",
              "      <td>-0.002688</td>\n",
              "      <td>0.003992</td>\n",
              "      <td>0.004524</td>\n",
              "      <td>0.003295</td>\n",
              "      <td>-0.012650</td>\n",
              "      <td>1.000000</td>\n",
              "      <td>-0.917938</td>\n",
              "      <td>-0.003272</td>\n",
              "    </tr>\n",
              "    <tr>\n",
              "      <th>publishedDayDelta</th>\n",
              "      <td>0.003995</td>\n",
              "      <td>-0.001212</td>\n",
              "      <td>-0.001259</td>\n",
              "      <td>-0.014514</td>\n",
              "      <td>0.011645</td>\n",
              "      <td>-0.917938</td>\n",
              "      <td>1.000000</td>\n",
              "      <td>-0.009960</td>\n",
              "    </tr>\n",
              "    <tr>\n",
              "      <th>len_title</th>\n",
              "      <td>0.001312</td>\n",
              "      <td>-0.032605</td>\n",
              "      <td>-0.081244</td>\n",
              "      <td>0.114565</td>\n",
              "      <td>0.112068</td>\n",
              "      <td>-0.003272</td>\n",
              "      <td>-0.009960</td>\n",
              "      <td>1.000000</td>\n",
              "    </tr>\n",
              "  </tbody>\n",
              "</table>\n",
              "</div>\n",
              "      <button class=\"colab-df-convert\" onclick=\"convertToInteractive('df-2d6e78c6-5df1-4d8a-8cc8-cd5b7328e2af')\"\n",
              "              title=\"Convert this dataframe to an interactive table.\"\n",
              "              style=\"display:none;\">\n",
              "        \n",
              "  <svg xmlns=\"http://www.w3.org/2000/svg\" height=\"24px\"viewBox=\"0 0 24 24\"\n",
              "       width=\"24px\">\n",
              "    <path d=\"M0 0h24v24H0V0z\" fill=\"none\"/>\n",
              "    <path d=\"M18.56 5.44l.94 2.06.94-2.06 2.06-.94-2.06-.94-.94-2.06-.94 2.06-2.06.94zm-11 1L8.5 8.5l.94-2.06 2.06-.94-2.06-.94L8.5 2.5l-.94 2.06-2.06.94zm10 10l.94 2.06.94-2.06 2.06-.94-2.06-.94-.94-2.06-.94 2.06-2.06.94z\"/><path d=\"M17.41 7.96l-1.37-1.37c-.4-.4-.92-.59-1.43-.59-.52 0-1.04.2-1.43.59L10.3 9.45l-7.72 7.72c-.78.78-.78 2.05 0 2.83L4 21.41c.39.39.9.59 1.41.59.51 0 1.02-.2 1.41-.59l7.78-7.78 2.81-2.81c.8-.78.8-2.07 0-2.86zM5.41 20L4 18.59l7.72-7.72 1.47 1.35L5.41 20z\"/>\n",
              "  </svg>\n",
              "      </button>\n",
              "      \n",
              "  <style>\n",
              "    .colab-df-container {\n",
              "      display:flex;\n",
              "      flex-wrap:wrap;\n",
              "      gap: 12px;\n",
              "    }\n",
              "\n",
              "    .colab-df-convert {\n",
              "      background-color: #E8F0FE;\n",
              "      border: none;\n",
              "      border-radius: 50%;\n",
              "      cursor: pointer;\n",
              "      display: none;\n",
              "      fill: #1967D2;\n",
              "      height: 32px;\n",
              "      padding: 0 0 0 0;\n",
              "      width: 32px;\n",
              "    }\n",
              "\n",
              "    .colab-df-convert:hover {\n",
              "      background-color: #E2EBFA;\n",
              "      box-shadow: 0px 1px 2px rgba(60, 64, 67, 0.3), 0px 1px 3px 1px rgba(60, 64, 67, 0.15);\n",
              "      fill: #174EA6;\n",
              "    }\n",
              "\n",
              "    [theme=dark] .colab-df-convert {\n",
              "      background-color: #3B4455;\n",
              "      fill: #D2E3FC;\n",
              "    }\n",
              "\n",
              "    [theme=dark] .colab-df-convert:hover {\n",
              "      background-color: #434B5C;\n",
              "      box-shadow: 0px 1px 3px 1px rgba(0, 0, 0, 0.15);\n",
              "      filter: drop-shadow(0px 1px 2px rgba(0, 0, 0, 0.3));\n",
              "      fill: #FFFFFF;\n",
              "    }\n",
              "  </style>\n",
              "\n",
              "      <script>\n",
              "        const buttonEl =\n",
              "          document.querySelector('#df-2d6e78c6-5df1-4d8a-8cc8-cd5b7328e2af button.colab-df-convert');\n",
              "        buttonEl.style.display =\n",
              "          google.colab.kernel.accessAllowed ? 'block' : 'none';\n",
              "\n",
              "        async function convertToInteractive(key) {\n",
              "          const element = document.querySelector('#df-2d6e78c6-5df1-4d8a-8cc8-cd5b7328e2af');\n",
              "          const dataTable =\n",
              "            await google.colab.kernel.invokeFunction('convertToInteractive',\n",
              "                                                     [key], {});\n",
              "          if (!dataTable) return;\n",
              "\n",
              "          const docLinkHtml = 'Like what you see? Visit the ' +\n",
              "            '<a target=\"_blank\" href=https://colab.research.google.com/notebooks/data_table.ipynb>data table notebook</a>'\n",
              "            + ' to learn more about interactive tables.';\n",
              "          element.innerHTML = '';\n",
              "          dataTable['output_type'] = 'display_data';\n",
              "          await google.colab.output.renderOutput(dataTable, element);\n",
              "          const docLink = document.createElement('div');\n",
              "          docLink.innerHTML = docLinkHtml;\n",
              "          element.appendChild(docLink);\n",
              "        }\n",
              "      </script>\n",
              "    </div>\n",
              "  </div>\n",
              "  "
            ],
            "text/plain": [
              "                   viewCount  likeCount  commentCount  duration_secs  \\\n",
              "viewCount           1.000000   0.899907      0.721942      -0.014268   \n",
              "likeCount           0.899907   1.000000      0.845570      -0.018670   \n",
              "commentCount        0.721942   0.845570      1.000000      -0.016090   \n",
              "duration_secs      -0.014268  -0.018670     -0.016090       1.000000   \n",
              "log_duration_secs  -0.026618  -0.026851     -0.010986       0.602468   \n",
              "publishedDayNum    -0.002688   0.003992      0.004524       0.003295   \n",
              "publishedDayDelta   0.003995  -0.001212     -0.001259      -0.014514   \n",
              "len_title           0.001312  -0.032605     -0.081244       0.114565   \n",
              "\n",
              "                   log_duration_secs  publishedDayNum  publishedDayDelta  \\\n",
              "viewCount                  -0.026618        -0.002688           0.003995   \n",
              "likeCount                  -0.026851         0.003992          -0.001212   \n",
              "commentCount               -0.010986         0.004524          -0.001259   \n",
              "duration_secs               0.602468         0.003295          -0.014514   \n",
              "log_duration_secs           1.000000        -0.012650           0.011645   \n",
              "publishedDayNum            -0.012650         1.000000          -0.917938   \n",
              "publishedDayDelta           0.011645        -0.917938           1.000000   \n",
              "len_title                   0.112068        -0.003272          -0.009960   \n",
              "\n",
              "                   len_title  \n",
              "viewCount           0.001312  \n",
              "likeCount          -0.032605  \n",
              "commentCount       -0.081244  \n",
              "duration_secs       0.114565  \n",
              "log_duration_secs   0.112068  \n",
              "publishedDayNum    -0.003272  \n",
              "publishedDayDelta  -0.009960  \n",
              "len_title           1.000000  "
            ]
          },
          "execution_count": 23,
          "metadata": {},
          "output_type": "execute_result"
        }
      ]
    },
    {
      "cell_type": "code",
      "source": [
        "preproc2_df.drop('categoryId', axis=1).hist(figsize=(8,8));"
      ],
      "metadata": {
        "id": "EX-poBN0kbLM",
        "outputId": "bfce3785-d3cc-4882-c273-007d16467e4d",
        "colab": {
          "base_uri": "https://localhost:8080/",
          "height": 499
        },
        "pycharm": {
          "name": "#%%\n"
        }
      },
      "execution_count": 24,
      "outputs": [
        {
          "data": {
            "image/png": "[encoded data removed]",
            "text/plain": [
              "<Figure size 576x576 with 9 Axes>"
            ]
          },
          "metadata": {},
          "output_type": "display_data"
        }
      ]
    },
    {
      "cell_type": "markdown",
      "source": [
        "We could consider applying a transformation to the data, to help address the heavy left-skew on most numerical features."
      ],
      "metadata": {
        "id": "JWSkcP6QkhCr",
        "pycharm": {
          "name": "#%% md\n"
        }
      }
    },
    {
      "cell_type": "markdown",
      "source": [
        "Let's quickly set the same steps up for the `overall_stats_raw_df` df."
      ],
      "metadata": {
        "id": "kpFgdIRye_xq",
        "pycharm": {
          "name": "#%% md\n"
        }
      }
    },
    {
      "cell_type": "code",
      "source": [
        "overall_stats_raw_df.head()"
      ],
      "metadata": {
        "id": "H48y6gUie4ZS",
        "outputId": "d8630b2e-c7f5-4019-8a8a-e4e9253ed898",
        "colab": {
          "base_uri": "https://localhost:8080/",
          "height": 204
        },
        "pycharm": {
          "name": "#%%\n"
        }
      },
      "execution_count": 25,
      "outputs": [
        {
          "data": {
            "text/html": [
              "\n",
              "  <div id=\"df-c8cbb3e7-f25e-4b4c-adfe-c00c5a332c6d\">\n",
              "    <div class=\"colab-df-container\">\n",
              "      <div>\n",
              "<style scoped>\n",
              "    .dataframe tbody tr th:only-of-type {\n",
              "        vertical-align: middle;\n",
              "    }\n",
              "\n",
              "    .dataframe tbody tr th {\n",
              "        vertical-align: top;\n",
              "    }\n",
              "\n",
              "    .dataframe thead th {\n",
              "        text-align: right;\n",
              "    }\n",
              "</style>\n",
              "<table border=\"1\" class=\"dataframe\">\n",
              "  <thead>\n",
              "    <tr style=\"text-align: right;\">\n",
              "      <th></th>\n",
              "      <th>viewCount</th>\n",
              "      <th>subscriberCount</th>\n",
              "      <th>videoCount</th>\n",
              "      <th>channelName</th>\n",
              "    </tr>\n",
              "  </thead>\n",
              "  <tbody>\n",
              "    <tr>\n",
              "      <th>0</th>\n",
              "      <td>10576768366</td>\n",
              "      <td>32900000</td>\n",
              "      <td>1141</td>\n",
              "      <td>NoCopyrightSounds</td>\n",
              "    </tr>\n",
              "    <tr>\n",
              "      <th>1</th>\n",
              "      <td>13637216111</td>\n",
              "      <td>55900000</td>\n",
              "      <td>403</td>\n",
              "      <td>Marshmello</td>\n",
              "    </tr>\n",
              "    <tr>\n",
              "      <th>2</th>\n",
              "      <td>785665015</td>\n",
              "      <td>4610000</td>\n",
              "      <td>2808</td>\n",
              "      <td>Audio Library — Music for content creators</td>\n",
              "    </tr>\n",
              "    <tr>\n",
              "      <th>3</th>\n",
              "      <td>24169602655</td>\n",
              "      <td>43400000</td>\n",
              "      <td>118</td>\n",
              "      <td>Katy Perry</td>\n",
              "    </tr>\n",
              "    <tr>\n",
              "      <th>4</th>\n",
              "      <td>12823520591</td>\n",
              "      <td>37500000</td>\n",
              "      <td>157</td>\n",
              "      <td>One Direction</td>\n",
              "    </tr>\n",
              "  </tbody>\n",
              "</table>\n",
              "</div>\n",
              "      <button class=\"colab-df-convert\" onclick=\"convertToInteractive('df-c8cbb3e7-f25e-4b4c-adfe-c00c5a332c6d')\"\n",
              "              title=\"Convert this dataframe to an interactive table.\"\n",
              "              style=\"display:none;\">\n",
              "        \n",
              "  <svg xmlns=\"http://www.w3.org/2000/svg\" height=\"24px\"viewBox=\"0 0 24 24\"\n",
              "       width=\"24px\">\n",
              "    <path d=\"M0 0h24v24H0V0z\" fill=\"none\"/>\n",
              "    <path d=\"M18.56 5.44l.94 2.06.94-2.06 2.06-.94-2.06-.94-.94-2.06-.94 2.06-2.06.94zm-11 1L8.5 8.5l.94-2.06 2.06-.94-2.06-.94L8.5 2.5l-.94 2.06-2.06.94zm10 10l.94 2.06.94-2.06 2.06-.94-2.06-.94-.94-2.06-.94 2.06-2.06.94z\"/><path d=\"M17.41 7.96l-1.37-1.37c-.4-.4-.92-.59-1.43-.59-.52 0-1.04.2-1.43.59L10.3 9.45l-7.72 7.72c-.78.78-.78 2.05 0 2.83L4 21.41c.39.39.9.59 1.41.59.51 0 1.02-.2 1.41-.59l7.78-7.78 2.81-2.81c.8-.78.8-2.07 0-2.86zM5.41 20L4 18.59l7.72-7.72 1.47 1.35L5.41 20z\"/>\n",
              "  </svg>\n",
              "      </button>\n",
              "      \n",
              "  <style>\n",
              "    .colab-df-container {\n",
              "      display:flex;\n",
              "      flex-wrap:wrap;\n",
              "      gap: 12px;\n",
              "    }\n",
              "\n",
              "    .colab-df-convert {\n",
              "      background-color: #E8F0FE;\n",
              "      border: none;\n",
              "      border-radius: 50%;\n",
              "      cursor: pointer;\n",
              "      display: none;\n",
              "      fill: #1967D2;\n",
              "      height: 32px;\n",
              "      padding: 0 0 0 0;\n",
              "      width: 32px;\n",
              "    }\n",
              "\n",
              "    .colab-df-convert:hover {\n",
              "      background-color: #E2EBFA;\n",
              "      box-shadow: 0px 1px 2px rgba(60, 64, 67, 0.3), 0px 1px 3px 1px rgba(60, 64, 67, 0.15);\n",
              "      fill: #174EA6;\n",
              "    }\n",
              "\n",
              "    [theme=dark] .colab-df-convert {\n",
              "      background-color: #3B4455;\n",
              "      fill: #D2E3FC;\n",
              "    }\n",
              "\n",
              "    [theme=dark] .colab-df-convert:hover {\n",
              "      background-color: #434B5C;\n",
              "      box-shadow: 0px 1px 3px 1px rgba(0, 0, 0, 0.15);\n",
              "      filter: drop-shadow(0px 1px 2px rgba(0, 0, 0, 0.3));\n",
              "      fill: #FFFFFF;\n",
              "    }\n",
              "  </style>\n",
              "\n",
              "      <script>\n",
              "        const buttonEl =\n",
              "          document.querySelector('#df-c8cbb3e7-f25e-4b4c-adfe-c00c5a332c6d button.colab-df-convert');\n",
              "        buttonEl.style.display =\n",
              "          google.colab.kernel.accessAllowed ? 'block' : 'none';\n",
              "\n",
              "        async function convertToInteractive(key) {\n",
              "          const element = document.querySelector('#df-c8cbb3e7-f25e-4b4c-adfe-c00c5a332c6d');\n",
              "          const dataTable =\n",
              "            await google.colab.kernel.invokeFunction('convertToInteractive',\n",
              "                                                     [key], {});\n",
              "          if (!dataTable) return;\n",
              "\n",
              "          const docLinkHtml = 'Like what you see? Visit the ' +\n",
              "            '<a target=\"_blank\" href=https://colab.research.google.com/notebooks/data_table.ipynb>data table notebook</a>'\n",
              "            + ' to learn more about interactive tables.';\n",
              "          element.innerHTML = '';\n",
              "          dataTable['output_type'] = 'display_data';\n",
              "          await google.colab.output.renderOutput(dataTable, element);\n",
              "          const docLink = document.createElement('div');\n",
              "          docLink.innerHTML = docLinkHtml;\n",
              "          element.appendChild(docLink);\n",
              "        }\n",
              "      </script>\n",
              "    </div>\n",
              "  </div>\n",
              "  "
            ],
            "text/plain": [
              "     viewCount subscriberCount videoCount  \\\n",
              "0  10576768366        32900000       1141   \n",
              "1  13637216111        55900000        403   \n",
              "2    785665015         4610000       2808   \n",
              "3  24169602655        43400000        118   \n",
              "4  12823520591        37500000        157   \n",
              "\n",
              "                                  channelName  \n",
              "0                           NoCopyrightSounds  \n",
              "1                                  Marshmello  \n",
              "2  Audio Library — Music for content creators  \n",
              "3                                  Katy Perry  \n",
              "4                               One Direction  "
            ]
          },
          "execution_count": 25,
          "metadata": {},
          "output_type": "execute_result"
        }
      ]
    },
    {
      "cell_type": "code",
      "source": [
        "overall_stats_raw_df.dtypes"
      ],
      "metadata": {
        "id": "DtktnMLEe4cA",
        "outputId": "5b650630-bf10-4562-d4a0-3da5e2ba1787",
        "colab": {
          "base_uri": "https://localhost:8080/"
        },
        "pycharm": {
          "name": "#%%\n"
        }
      },
      "execution_count": 26,
      "outputs": [
        {
          "data": {
            "text/plain": [
              "viewCount          object\n",
              "subscriberCount    object\n",
              "videoCount         object\n",
              "channelName        object\n",
              "dtype: object"
            ]
          },
          "execution_count": 26,
          "metadata": {},
          "output_type": "execute_result"
        }
      ]
    },
    {
      "cell_type": "code",
      "source": [
        "ov_features = ['channelName', 'ov_viewCount', 'ov_subscriberCount', 'ov_videoCount']\n",
        "ov_stats_pre_df1 = create_dataset(overall_stats_raw_df, ov_features, primary=False)"
      ],
      "metadata": {
        "id": "i3dDxWice4ef",
        "pycharm": {
          "name": "#%%\n"
        }
      },
      "execution_count": 27,
      "outputs": []
    },
    {
      "cell_type": "code",
      "source": [
        "ov_stats_pre_df1.head()"
      ],
      "metadata": {
        "id": "X6g_BYTSe4hV",
        "outputId": "28bd7805-6104-4539-e54b-214405f09614",
        "colab": {
          "base_uri": "https://localhost:8080/",
          "height": 204
        },
        "pycharm": {
          "name": "#%%\n"
        }
      },
      "execution_count": 28,
      "outputs": [
        {
          "data": {
            "text/html": [
              "\n",
              "  <div id=\"df-5fe07d91-52ee-49a6-a11e-23329c8a375e\">\n",
              "    <div class=\"colab-df-container\">\n",
              "      <div>\n",
              "<style scoped>\n",
              "    .dataframe tbody tr th:only-of-type {\n",
              "        vertical-align: middle;\n",
              "    }\n",
              "\n",
              "    .dataframe tbody tr th {\n",
              "        vertical-align: top;\n",
              "    }\n",
              "\n",
              "    .dataframe thead th {\n",
              "        text-align: right;\n",
              "    }\n",
              "</style>\n",
              "<table border=\"1\" class=\"dataframe\">\n",
              "  <thead>\n",
              "    <tr style=\"text-align: right;\">\n",
              "      <th></th>\n",
              "      <th>channelName</th>\n",
              "      <th>ov_viewCount</th>\n",
              "      <th>ov_subscriberCount</th>\n",
              "      <th>ov_videoCount</th>\n",
              "    </tr>\n",
              "  </thead>\n",
              "  <tbody>\n",
              "    <tr>\n",
              "      <th>0</th>\n",
              "      <td>nocopyrightsounds</td>\n",
              "      <td>1.057677e+10</td>\n",
              "      <td>32900000.0</td>\n",
              "      <td>1141.0</td>\n",
              "    </tr>\n",
              "    <tr>\n",
              "      <th>1</th>\n",
              "      <td>marshmello</td>\n",
              "      <td>1.363722e+10</td>\n",
              "      <td>55900000.0</td>\n",
              "      <td>403.0</td>\n",
              "    </tr>\n",
              "    <tr>\n",
              "      <th>2</th>\n",
              "      <td>audio library — music for content creators</td>\n",
              "      <td>7.856650e+08</td>\n",
              "      <td>4610000.0</td>\n",
              "      <td>2808.0</td>\n",
              "    </tr>\n",
              "    <tr>\n",
              "      <th>3</th>\n",
              "      <td>katy perry</td>\n",
              "      <td>2.416960e+10</td>\n",
              "      <td>43400000.0</td>\n",
              "      <td>118.0</td>\n",
              "    </tr>\n",
              "    <tr>\n",
              "      <th>4</th>\n",
              "      <td>one direction</td>\n",
              "      <td>1.282352e+10</td>\n",
              "      <td>37500000.0</td>\n",
              "      <td>157.0</td>\n",
              "    </tr>\n",
              "  </tbody>\n",
              "</table>\n",
              "</div>\n",
              "      <button class=\"colab-df-convert\" onclick=\"convertToInteractive('df-5fe07d91-52ee-49a6-a11e-23329c8a375e')\"\n",
              "              title=\"Convert this dataframe to an interactive table.\"\n",
              "              style=\"display:none;\">\n",
              "        \n",
              "  <svg xmlns=\"http://www.w3.org/2000/svg\" height=\"24px\"viewBox=\"0 0 24 24\"\n",
              "       width=\"24px\">\n",
              "    <path d=\"M0 0h24v24H0V0z\" fill=\"none\"/>\n",
              "    <path d=\"M18.56 5.44l.94 2.06.94-2.06 2.06-.94-2.06-.94-.94-2.06-.94 2.06-2.06.94zm-11 1L8.5 8.5l.94-2.06 2.06-.94-2.06-.94L8.5 2.5l-.94 2.06-2.06.94zm10 10l.94 2.06.94-2.06 2.06-.94-2.06-.94-.94-2.06-.94 2.06-2.06.94z\"/><path d=\"M17.41 7.96l-1.37-1.37c-.4-.4-.92-.59-1.43-.59-.52 0-1.04.2-1.43.59L10.3 9.45l-7.72 7.72c-.78.78-.78 2.05 0 2.83L4 21.41c.39.39.9.59 1.41.59.51 0 1.02-.2 1.41-.59l7.78-7.78 2.81-2.81c.8-.78.8-2.07 0-2.86zM5.41 20L4 18.59l7.72-7.72 1.47 1.35L5.41 20z\"/>\n",
              "  </svg>\n",
              "      </button>\n",
              "      \n",
              "  <style>\n",
              "    .colab-df-container {\n",
              "      display:flex;\n",
              "      flex-wrap:wrap;\n",
              "      gap: 12px;\n",
              "    }\n",
              "\n",
              "    .colab-df-convert {\n",
              "      background-color: #E8F0FE;\n",
              "      border: none;\n",
              "      border-radius: 50%;\n",
              "      cursor: pointer;\n",
              "      display: none;\n",
              "      fill: #1967D2;\n",
              "      height: 32px;\n",
              "      padding: 0 0 0 0;\n",
              "      width: 32px;\n",
              "    }\n",
              "\n",
              "    .colab-df-convert:hover {\n",
              "      background-color: #E2EBFA;\n",
              "      box-shadow: 0px 1px 2px rgba(60, 64, 67, 0.3), 0px 1px 3px 1px rgba(60, 64, 67, 0.15);\n",
              "      fill: #174EA6;\n",
              "    }\n",
              "\n",
              "    [theme=dark] .colab-df-convert {\n",
              "      background-color: #3B4455;\n",
              "      fill: #D2E3FC;\n",
              "    }\n",
              "\n",
              "    [theme=dark] .colab-df-convert:hover {\n",
              "      background-color: #434B5C;\n",
              "      box-shadow: 0px 1px 3px 1px rgba(0, 0, 0, 0.15);\n",
              "      filter: drop-shadow(0px 1px 2px rgba(0, 0, 0, 0.3));\n",
              "      fill: #FFFFFF;\n",
              "    }\n",
              "  </style>\n",
              "\n",
              "      <script>\n",
              "        const buttonEl =\n",
              "          document.querySelector('#df-5fe07d91-52ee-49a6-a11e-23329c8a375e button.colab-df-convert');\n",
              "        buttonEl.style.display =\n",
              "          google.colab.kernel.accessAllowed ? 'block' : 'none';\n",
              "\n",
              "        async function convertToInteractive(key) {\n",
              "          const element = document.querySelector('#df-5fe07d91-52ee-49a6-a11e-23329c8a375e');\n",
              "          const dataTable =\n",
              "            await google.colab.kernel.invokeFunction('convertToInteractive',\n",
              "                                                     [key], {});\n",
              "          if (!dataTable) return;\n",
              "\n",
              "          const docLinkHtml = 'Like what you see? Visit the ' +\n",
              "            '<a target=\"_blank\" href=https://colab.research.google.com/notebooks/data_table.ipynb>data table notebook</a>'\n",
              "            + ' to learn more about interactive tables.';\n",
              "          element.innerHTML = '';\n",
              "          dataTable['output_type'] = 'display_data';\n",
              "          await google.colab.output.renderOutput(dataTable, element);\n",
              "          const docLink = document.createElement('div');\n",
              "          docLink.innerHTML = docLinkHtml;\n",
              "          element.appendChild(docLink);\n",
              "        }\n",
              "      </script>\n",
              "    </div>\n",
              "  </div>\n",
              "  "
            ],
            "text/plain": [
              "                                  channelName  ov_viewCount  \\\n",
              "0                           nocopyrightsounds  1.057677e+10   \n",
              "1                                  marshmello  1.363722e+10   \n",
              "2  audio library — music for content creators  7.856650e+08   \n",
              "3                                  katy perry  2.416960e+10   \n",
              "4                               one direction  1.282352e+10   \n",
              "\n",
              "   ov_subscriberCount  ov_videoCount  \n",
              "0          32900000.0         1141.0  \n",
              "1          55900000.0          403.0  \n",
              "2           4610000.0         2808.0  \n",
              "3          43400000.0          118.0  \n",
              "4          37500000.0          157.0  "
            ]
          },
          "execution_count": 28,
          "metadata": {},
          "output_type": "execute_result"
        }
      ]
    },
    {
      "cell_type": "code",
      "source": [
        "ov_stats_pre_df1.isna().sum()"
      ],
      "metadata": {
        "id": "FfgaWA8V45MV",
        "outputId": "92dc2067-aa6c-42cb-94d3-64cf1bfd864f",
        "colab": {
          "base_uri": "https://localhost:8080/"
        },
        "pycharm": {
          "name": "#%%\n"
        }
      },
      "execution_count": 29,
      "outputs": [
        {
          "data": {
            "text/plain": [
              "channelName           0\n",
              "ov_viewCount          0\n",
              "ov_subscriberCount    0\n",
              "ov_videoCount         0\n",
              "dtype: int64"
            ]
          },
          "execution_count": 29,
          "metadata": {},
          "output_type": "execute_result"
        }
      ]
    },
    {
      "cell_type": "markdown",
      "source": [
        "With both the datasets ready and a basic relation overview amongst the features, we can now move onto the phase of text processing to make it machine interpretable."
      ],
      "metadata": {
        "id": "kWT7M_k0m45b",
        "pycharm": {
          "name": "#%% md\n"
        }
      }
    },
    {
      "cell_type": "code",
      "source": [
        "df = pd.merge(preproc2_df, ov_stats_pre_df1, how='left', left_on='channelTitle', right_on='channelName')\n",
        "df.head()"
      ],
      "metadata": {
        "id": "DQv5dVa_S1oe",
        "outputId": "1336da40-042c-4ce8-ff50-d45684fde42f",
        "colab": {
          "base_uri": "https://localhost:8080/",
          "height": 608
        },
        "pycharm": {
          "name": "#%%\n"
        }
      },
      "execution_count": 30,
      "outputs": [
        {
          "data": {
            "text/html": [
              "\n",
              "  <div id=\"df-b5c958ed-d182-4495-a30c-5156fed1784f\">\n",
              "    <div class=\"colab-df-container\">\n",
              "      <div>\n",
              "<style scoped>\n",
              "    .dataframe tbody tr th:only-of-type {\n",
              "        vertical-align: middle;\n",
              "    }\n",
              "\n",
              "    .dataframe tbody tr th {\n",
              "        vertical-align: top;\n",
              "    }\n",
              "\n",
              "    .dataframe thead th {\n",
              "        text-align: right;\n",
              "    }\n",
              "</style>\n",
              "<table border=\"1\" class=\"dataframe\">\n",
              "  <thead>\n",
              "    <tr style=\"text-align: right;\">\n",
              "      <th></th>\n",
              "      <th>title</th>\n",
              "      <th>description</th>\n",
              "      <th>channelTitle</th>\n",
              "      <th>categoryId</th>\n",
              "      <th>viewCount</th>\n",
              "      <th>likeCount</th>\n",
              "      <th>commentCount</th>\n",
              "      <th>duration_secs</th>\n",
              "      <th>log_duration_secs</th>\n",
              "      <th>definition</th>\n",
              "      <th>topicCategories</th>\n",
              "      <th>publishedDayNum</th>\n",
              "      <th>publishedDayDelta</th>\n",
              "      <th>len_title</th>\n",
              "      <th>channelName</th>\n",
              "      <th>ov_viewCount</th>\n",
              "      <th>ov_subscriberCount</th>\n",
              "      <th>ov_videoCount</th>\n",
              "    </tr>\n",
              "  </thead>\n",
              "  <tbody>\n",
              "    <tr>\n",
              "      <th>0</th>\n",
              "      <td>[soumix, bromar, falling, ncs, release]</td>\n",
              "      <td>[ncs, nocopyrightsounds, empowering, creators,...</td>\n",
              "      <td>nocopyrightsounds</td>\n",
              "      <td>10.0</td>\n",
              "      <td>179676.0</td>\n",
              "      <td>9313.0</td>\n",
              "      <td>698.0</td>\n",
              "      <td>130.0</td>\n",
              "      <td>4.875197</td>\n",
              "      <td>hd</td>\n",
              "      <td>[electronic_music, hip_hop_music, music, pop_m...</td>\n",
              "      <td>270</td>\n",
              "      <td>8</td>\n",
              "      <td>5</td>\n",
              "      <td>nocopyrightsounds</td>\n",
              "      <td>1.057677e+10</td>\n",
              "      <td>32900000.0</td>\n",
              "      <td>1141.0</td>\n",
              "    </tr>\n",
              "    <tr>\n",
              "      <th>1</th>\n",
              "      <td>[paul, flint, e, welem, bah, ncs, release]</td>\n",
              "      <td>[ncs, nocopyrightsounds, empowering, creators,...</td>\n",
              "      <td>nocopyrightsounds</td>\n",
              "      <td>10.0</td>\n",
              "      <td>259992.0</td>\n",
              "      <td>9364.0</td>\n",
              "      <td>691.0</td>\n",
              "      <td>156.0</td>\n",
              "      <td>5.056246</td>\n",
              "      <td>hd</td>\n",
              "      <td>[electronic_music, hip_hop_music, music]</td>\n",
              "      <td>267</td>\n",
              "      <td>11</td>\n",
              "      <td>7</td>\n",
              "      <td>nocopyrightsounds</td>\n",
              "      <td>1.057677e+10</td>\n",
              "      <td>32900000.0</td>\n",
              "      <td>1141.0</td>\n",
              "    </tr>\n",
              "    <tr>\n",
              "      <th>2</th>\n",
              "      <td>[vaance, deerock, electric, feat, robbie, rose...</td>\n",
              "      <td>[ncs, nocopyrightsounds, empowering, creators,...</td>\n",
              "      <td>nocopyrightsounds</td>\n",
              "      <td>10.0</td>\n",
              "      <td>275410.0</td>\n",
              "      <td>11977.0</td>\n",
              "      <td>707.0</td>\n",
              "      <td>180.0</td>\n",
              "      <td>5.198497</td>\n",
              "      <td>hd</td>\n",
              "      <td>[electronic_music, music]</td>\n",
              "      <td>265</td>\n",
              "      <td>13</td>\n",
              "      <td>10</td>\n",
              "      <td>nocopyrightsounds</td>\n",
              "      <td>1.057677e+10</td>\n",
              "      <td>32900000.0</td>\n",
              "      <td>1141.0</td>\n",
              "    </tr>\n",
              "    <tr>\n",
              "      <th>3</th>\n",
              "      <td>[midnight, cvlt, wiguez, feel, ncs, release]</td>\n",
              "      <td>[ncs, nocopyrightsounds, empowering, creators,...</td>\n",
              "      <td>nocopyrightsounds</td>\n",
              "      <td>10.0</td>\n",
              "      <td>273952.0</td>\n",
              "      <td>10688.0</td>\n",
              "      <td>894.0</td>\n",
              "      <td>223.0</td>\n",
              "      <td>5.411646</td>\n",
              "      <td>hd</td>\n",
              "      <td>[electronic_music, music]</td>\n",
              "      <td>263</td>\n",
              "      <td>15</td>\n",
              "      <td>6</td>\n",
              "      <td>nocopyrightsounds</td>\n",
              "      <td>1.057677e+10</td>\n",
              "      <td>32900000.0</td>\n",
              "      <td>1141.0</td>\n",
              "    </tr>\n",
              "    <tr>\n",
              "      <th>4</th>\n",
              "      <td>[arcando, ncs, release]</td>\n",
              "      <td>[ncs, nocopyrightsounds, empowering, creators,...</td>\n",
              "      <td>nocopyrightsounds</td>\n",
              "      <td>10.0</td>\n",
              "      <td>359347.0</td>\n",
              "      <td>14213.0</td>\n",
              "      <td>810.0</td>\n",
              "      <td>187.0</td>\n",
              "      <td>5.236442</td>\n",
              "      <td>hd</td>\n",
              "      <td>[electronic_music, music]</td>\n",
              "      <td>260</td>\n",
              "      <td>18</td>\n",
              "      <td>3</td>\n",
              "      <td>nocopyrightsounds</td>\n",
              "      <td>1.057677e+10</td>\n",
              "      <td>32900000.0</td>\n",
              "      <td>1141.0</td>\n",
              "    </tr>\n",
              "  </tbody>\n",
              "</table>\n",
              "</div>\n",
              "      <button class=\"colab-df-convert\" onclick=\"convertToInteractive('df-b5c958ed-d182-4495-a30c-5156fed1784f')\"\n",
              "              title=\"Convert this dataframe to an interactive table.\"\n",
              "              style=\"display:none;\">\n",
              "        \n",
              "  <svg xmlns=\"http://www.w3.org/2000/svg\" height=\"24px\"viewBox=\"0 0 24 24\"\n",
              "       width=\"24px\">\n",
              "    <path d=\"M0 0h24v24H0V0z\" fill=\"none\"/>\n",
              "    <path d=\"M18.56 5.44l.94 2.06.94-2.06 2.06-.94-2.06-.94-.94-2.06-.94 2.06-2.06.94zm-11 1L8.5 8.5l.94-2.06 2.06-.94-2.06-.94L8.5 2.5l-.94 2.06-2.06.94zm10 10l.94 2.06.94-2.06 2.06-.94-2.06-.94-.94-2.06-.94 2.06-2.06.94z\"/><path d=\"M17.41 7.96l-1.37-1.37c-.4-.4-.92-.59-1.43-.59-.52 0-1.04.2-1.43.59L10.3 9.45l-7.72 7.72c-.78.78-.78 2.05 0 2.83L4 21.41c.39.39.9.59 1.41.59.51 0 1.02-.2 1.41-.59l7.78-7.78 2.81-2.81c.8-.78.8-2.07 0-2.86zM5.41 20L4 18.59l7.72-7.72 1.47 1.35L5.41 20z\"/>\n",
              "  </svg>\n",
              "      </button>\n",
              "      \n",
              "  <style>\n",
              "    .colab-df-container {\n",
              "      display:flex;\n",
              "      flex-wrap:wrap;\n",
              "      gap: 12px;\n",
              "    }\n",
              "\n",
              "    .colab-df-convert {\n",
              "      background-color: #E8F0FE;\n",
              "      border: none;\n",
              "      border-radius: 50%;\n",
              "      cursor: pointer;\n",
              "      display: none;\n",
              "      fill: #1967D2;\n",
              "      height: 32px;\n",
              "      padding: 0 0 0 0;\n",
              "      width: 32px;\n",
              "    }\n",
              "\n",
              "    .colab-df-convert:hover {\n",
              "      background-color: #E2EBFA;\n",
              "      box-shadow: 0px 1px 2px rgba(60, 64, 67, 0.3), 0px 1px 3px 1px rgba(60, 64, 67, 0.15);\n",
              "      fill: #174EA6;\n",
              "    }\n",
              "\n",
              "    [theme=dark] .colab-df-convert {\n",
              "      background-color: #3B4455;\n",
              "      fill: #D2E3FC;\n",
              "    }\n",
              "\n",
              "    [theme=dark] .colab-df-convert:hover {\n",
              "      background-color: #434B5C;\n",
              "      box-shadow: 0px 1px 3px 1px rgba(0, 0, 0, 0.15);\n",
              "      filter: drop-shadow(0px 1px 2px rgba(0, 0, 0, 0.3));\n",
              "      fill: #FFFFFF;\n",
              "    }\n",
              "  </style>\n",
              "\n",
              "      <script>\n",
              "        const buttonEl =\n",
              "          document.querySelector('#df-b5c958ed-d182-4495-a30c-5156fed1784f button.colab-df-convert');\n",
              "        buttonEl.style.display =\n",
              "          google.colab.kernel.accessAllowed ? 'block' : 'none';\n",
              "\n",
              "        async function convertToInteractive(key) {\n",
              "          const element = document.querySelector('#df-b5c958ed-d182-4495-a30c-5156fed1784f');\n",
              "          const dataTable =\n",
              "            await google.colab.kernel.invokeFunction('convertToInteractive',\n",
              "                                                     [key], {});\n",
              "          if (!dataTable) return;\n",
              "\n",
              "          const docLinkHtml = 'Like what you see? Visit the ' +\n",
              "            '<a target=\"_blank\" href=https://colab.research.google.com/notebooks/data_table.ipynb>data table notebook</a>'\n",
              "            + ' to learn more about interactive tables.';\n",
              "          element.innerHTML = '';\n",
              "          dataTable['output_type'] = 'display_data';\n",
              "          await google.colab.output.renderOutput(dataTable, element);\n",
              "          const docLink = document.createElement('div');\n",
              "          docLink.innerHTML = docLinkHtml;\n",
              "          element.appendChild(docLink);\n",
              "        }\n",
              "      </script>\n",
              "    </div>\n",
              "  </div>\n",
              "  "
            ],
            "text/plain": [
              "                                               title  \\\n",
              "0            [soumix, bromar, falling, ncs, release]   \n",
              "1         [paul, flint, e, welem, bah, ncs, release]   \n",
              "2  [vaance, deerock, electric, feat, robbie, rose...   \n",
              "3       [midnight, cvlt, wiguez, feel, ncs, release]   \n",
              "4                            [arcando, ncs, release]   \n",
              "\n",
              "                                         description       channelTitle  \\\n",
              "0  [ncs, nocopyrightsounds, empowering, creators,...  nocopyrightsounds   \n",
              "1  [ncs, nocopyrightsounds, empowering, creators,...  nocopyrightsounds   \n",
              "2  [ncs, nocopyrightsounds, empowering, creators,...  nocopyrightsounds   \n",
              "3  [ncs, nocopyrightsounds, empowering, creators,...  nocopyrightsounds   \n",
              "4  [ncs, nocopyrightsounds, empowering, creators,...  nocopyrightsounds   \n",
              "\n",
              "   categoryId  viewCount  likeCount  commentCount  duration_secs  \\\n",
              "0        10.0   179676.0     9313.0         698.0          130.0   \n",
              "1        10.0   259992.0     9364.0         691.0          156.0   \n",
              "2        10.0   275410.0    11977.0         707.0          180.0   \n",
              "3        10.0   273952.0    10688.0         894.0          223.0   \n",
              "4        10.0   359347.0    14213.0         810.0          187.0   \n",
              "\n",
              "   log_duration_secs definition  \\\n",
              "0           4.875197         hd   \n",
              "1           5.056246         hd   \n",
              "2           5.198497         hd   \n",
              "3           5.411646         hd   \n",
              "4           5.236442         hd   \n",
              "\n",
              "                                     topicCategories  publishedDayNum  \\\n",
              "0  [electronic_music, hip_hop_music, music, pop_m...              270   \n",
              "1           [electronic_music, hip_hop_music, music]              267   \n",
              "2                          [electronic_music, music]              265   \n",
              "3                          [electronic_music, music]              263   \n",
              "4                          [electronic_music, music]              260   \n",
              "\n",
              "   publishedDayDelta  len_title        channelName  ov_viewCount  \\\n",
              "0                  8          5  nocopyrightsounds  1.057677e+10   \n",
              "1                 11          7  nocopyrightsounds  1.057677e+10   \n",
              "2                 13         10  nocopyrightsounds  1.057677e+10   \n",
              "3                 15          6  nocopyrightsounds  1.057677e+10   \n",
              "4                 18          3  nocopyrightsounds  1.057677e+10   \n",
              "\n",
              "   ov_subscriberCount  ov_videoCount  \n",
              "0          32900000.0         1141.0  \n",
              "1          32900000.0         1141.0  \n",
              "2          32900000.0         1141.0  \n",
              "3          32900000.0         1141.0  \n",
              "4          32900000.0         1141.0  "
            ]
          },
          "execution_count": 30,
          "metadata": {},
          "output_type": "execute_result"
        }
      ]
    },
    {
      "cell_type": "code",
      "source": [],
      "metadata": {
        "id": "U-cr2TpheM9N"
      },
      "execution_count": 30,
      "outputs": []
    },
    {
      "cell_type": "code",
      "source": [
        "df['std_viewCount'] = df.groupby('channelTitle').viewCount.apply(lambda x: (x - x.mean()) / x.std()).values\n"
      ],
      "metadata": {
        "id": "FZnJtYcUCbXw",
        "pycharm": {
          "name": "#%%\n"
        }
      },
      "execution_count": 31,
      "outputs": []
    },
    {
      "cell_type": "code",
      "source": [
        "unique_topics_list = set()\n",
        "for topic_list in df.topicCategories.values:\n",
        "  for topic in topic_list:\n",
        "    unique_topics_list.add(topic)\n",
        "\n",
        "unique_titles_word_list = set()\n",
        "for topic_list in df.title.values:\n",
        "  for topic in topic_list:\n",
        "    unique_titles_word_list.add(topic)"
      ],
      "metadata": {
        "id": "hchCQuvhTNRD",
        "pycharm": {
          "name": "#%%\n"
        }
      },
      "execution_count": 32,
      "outputs": []
    },
    {
      "cell_type": "code",
      "source": [],
      "metadata": {
        "id": "lMjrwAOueKaj"
      },
      "execution_count": 32,
      "outputs": []
    },
    {
      "cell_type": "code",
      "source": [
        "# unique_titles_word_list"
      ],
      "metadata": {
        "id": "wdThw77_YjVE",
        "pycharm": {
          "name": "#%%\n"
        }
      },
      "execution_count": 33,
      "outputs": []
    },
    {
      "cell_type": "code",
      "source": [
        "basic_model_features = ['title', 'topicCategories', 'definition', 'publishedDayNum', 'log_duration_secs', 'std_viewCount', 'publishedDayDelta', 'len_title']\n",
        "basic_model_data = df[basic_model_features]\n",
        "\n",
        "basic_model_data.head()"
      ],
      "metadata": {
        "id": "ouZJO-GlaAAW",
        "outputId": "86c04c45-1fa3-4ffa-c14e-fc7f0bc09728",
        "colab": {
          "base_uri": "https://localhost:8080/",
          "height": 204
        },
        "pycharm": {
          "name": "#%%\n"
        }
      },
      "execution_count": 34,
      "outputs": [
        {
          "data": {
            "text/html": [
              "\n",
              "  <div id=\"df-cc985922-96bb-443e-925d-e3eb3578e938\">\n",
              "    <div class=\"colab-df-container\">\n",
              "      <div>\n",
              "<style scoped>\n",
              "    .dataframe tbody tr th:only-of-type {\n",
              "        vertical-align: middle;\n",
              "    }\n",
              "\n",
              "    .dataframe tbody tr th {\n",
              "        vertical-align: top;\n",
              "    }\n",
              "\n",
              "    .dataframe thead th {\n",
              "        text-align: right;\n",
              "    }\n",
              "</style>\n",
              "<table border=\"1\" class=\"dataframe\">\n",
              "  <thead>\n",
              "    <tr style=\"text-align: right;\">\n",
              "      <th></th>\n",
              "      <th>title</th>\n",
              "      <th>topicCategories</th>\n",
              "      <th>definition</th>\n",
              "      <th>publishedDayNum</th>\n",
              "      <th>log_duration_secs</th>\n",
              "      <th>std_viewCount</th>\n",
              "      <th>publishedDayDelta</th>\n",
              "      <th>len_title</th>\n",
              "    </tr>\n",
              "  </thead>\n",
              "  <tbody>\n",
              "    <tr>\n",
              "      <th>0</th>\n",
              "      <td>[soumix, bromar, falling, ncs, release]</td>\n",
              "      <td>[electronic_music, hip_hop_music, music, pop_m...</td>\n",
              "      <td>hd</td>\n",
              "      <td>270</td>\n",
              "      <td>4.875197</td>\n",
              "      <td>-0.372410</td>\n",
              "      <td>8</td>\n",
              "      <td>5</td>\n",
              "    </tr>\n",
              "    <tr>\n",
              "      <th>1</th>\n",
              "      <td>[paul, flint, e, welem, bah, ncs, release]</td>\n",
              "      <td>[electronic_music, hip_hop_music, music]</td>\n",
              "      <td>hd</td>\n",
              "      <td>267</td>\n",
              "      <td>5.056246</td>\n",
              "      <td>-0.370358</td>\n",
              "      <td>11</td>\n",
              "      <td>7</td>\n",
              "    </tr>\n",
              "    <tr>\n",
              "      <th>2</th>\n",
              "      <td>[vaance, deerock, electric, feat, robbie, rose...</td>\n",
              "      <td>[electronic_music, music]</td>\n",
              "      <td>hd</td>\n",
              "      <td>265</td>\n",
              "      <td>5.198497</td>\n",
              "      <td>-0.369964</td>\n",
              "      <td>13</td>\n",
              "      <td>10</td>\n",
              "    </tr>\n",
              "    <tr>\n",
              "      <th>3</th>\n",
              "      <td>[midnight, cvlt, wiguez, feel, ncs, release]</td>\n",
              "      <td>[electronic_music, music]</td>\n",
              "      <td>hd</td>\n",
              "      <td>263</td>\n",
              "      <td>5.411646</td>\n",
              "      <td>-0.370002</td>\n",
              "      <td>15</td>\n",
              "      <td>6</td>\n",
              "    </tr>\n",
              "    <tr>\n",
              "      <th>4</th>\n",
              "      <td>[arcando, ncs, release]</td>\n",
              "      <td>[electronic_music, music]</td>\n",
              "      <td>hd</td>\n",
              "      <td>260</td>\n",
              "      <td>5.236442</td>\n",
              "      <td>-0.367820</td>\n",
              "      <td>18</td>\n",
              "      <td>3</td>\n",
              "    </tr>\n",
              "  </tbody>\n",
              "</table>\n",
              "</div>\n",
              "      <button class=\"colab-df-convert\" onclick=\"convertToInteractive('df-cc985922-96bb-443e-925d-e3eb3578e938')\"\n",
              "              title=\"Convert this dataframe to an interactive table.\"\n",
              "              style=\"display:none;\">\n",
              "        \n",
              "  <svg xmlns=\"http://www.w3.org/2000/svg\" height=\"24px\"viewBox=\"0 0 24 24\"\n",
              "       width=\"24px\">\n",
              "    <path d=\"M0 0h24v24H0V0z\" fill=\"none\"/>\n",
              "    <path d=\"M18.56 5.44l.94 2.06.94-2.06 2.06-.94-2.06-.94-.94-2.06-.94 2.06-2.06.94zm-11 1L8.5 8.5l.94-2.06 2.06-.94-2.06-.94L8.5 2.5l-.94 2.06-2.06.94zm10 10l.94 2.06.94-2.06 2.06-.94-2.06-.94-.94-2.06-.94 2.06-2.06.94z\"/><path d=\"M17.41 7.96l-1.37-1.37c-.4-.4-.92-.59-1.43-.59-.52 0-1.04.2-1.43.59L10.3 9.45l-7.72 7.72c-.78.78-.78 2.05 0 2.83L4 21.41c.39.39.9.59 1.41.59.51 0 1.02-.2 1.41-.59l7.78-7.78 2.81-2.81c.8-.78.8-2.07 0-2.86zM5.41 20L4 18.59l7.72-7.72 1.47 1.35L5.41 20z\"/>\n",
              "  </svg>\n",
              "      </button>\n",
              "      \n",
              "  <style>\n",
              "    .colab-df-container {\n",
              "      display:flex;\n",
              "      flex-wrap:wrap;\n",
              "      gap: 12px;\n",
              "    }\n",
              "\n",
              "    .colab-df-convert {\n",
              "      background-color: #E8F0FE;\n",
              "      border: none;\n",
              "      border-radius: 50%;\n",
              "      cursor: pointer;\n",
              "      display: none;\n",
              "      fill: #1967D2;\n",
              "      height: 32px;\n",
              "      padding: 0 0 0 0;\n",
              "      width: 32px;\n",
              "    }\n",
              "\n",
              "    .colab-df-convert:hover {\n",
              "      background-color: #E2EBFA;\n",
              "      box-shadow: 0px 1px 2px rgba(60, 64, 67, 0.3), 0px 1px 3px 1px rgba(60, 64, 67, 0.15);\n",
              "      fill: #174EA6;\n",
              "    }\n",
              "\n",
              "    [theme=dark] .colab-df-convert {\n",
              "      background-color: #3B4455;\n",
              "      fill: #D2E3FC;\n",
              "    }\n",
              "\n",
              "    [theme=dark] .colab-df-convert:hover {\n",
              "      background-color: #434B5C;\n",
              "      box-shadow: 0px 1px 3px 1px rgba(0, 0, 0, 0.15);\n",
              "      filter: drop-shadow(0px 1px 2px rgba(0, 0, 0, 0.3));\n",
              "      fill: #FFFFFF;\n",
              "    }\n",
              "  </style>\n",
              "\n",
              "      <script>\n",
              "        const buttonEl =\n",
              "          document.querySelector('#df-cc985922-96bb-443e-925d-e3eb3578e938 button.colab-df-convert');\n",
              "        buttonEl.style.display =\n",
              "          google.colab.kernel.accessAllowed ? 'block' : 'none';\n",
              "\n",
              "        async function convertToInteractive(key) {\n",
              "          const element = document.querySelector('#df-cc985922-96bb-443e-925d-e3eb3578e938');\n",
              "          const dataTable =\n",
              "            await google.colab.kernel.invokeFunction('convertToInteractive',\n",
              "                                                     [key], {});\n",
              "          if (!dataTable) return;\n",
              "\n",
              "          const docLinkHtml = 'Like what you see? Visit the ' +\n",
              "            '<a target=\"_blank\" href=https://colab.research.google.com/notebooks/data_table.ipynb>data table notebook</a>'\n",
              "            + ' to learn more about interactive tables.';\n",
              "          element.innerHTML = '';\n",
              "          dataTable['output_type'] = 'display_data';\n",
              "          await google.colab.output.renderOutput(dataTable, element);\n",
              "          const docLink = document.createElement('div');\n",
              "          docLink.innerHTML = docLinkHtml;\n",
              "          element.appendChild(docLink);\n",
              "        }\n",
              "      </script>\n",
              "    </div>\n",
              "  </div>\n",
              "  "
            ],
            "text/plain": [
              "                                               title  \\\n",
              "0            [soumix, bromar, falling, ncs, release]   \n",
              "1         [paul, flint, e, welem, bah, ncs, release]   \n",
              "2  [vaance, deerock, electric, feat, robbie, rose...   \n",
              "3       [midnight, cvlt, wiguez, feel, ncs, release]   \n",
              "4                            [arcando, ncs, release]   \n",
              "\n",
              "                                     topicCategories definition  \\\n",
              "0  [electronic_music, hip_hop_music, music, pop_m...         hd   \n",
              "1           [electronic_music, hip_hop_music, music]         hd   \n",
              "2                          [electronic_music, music]         hd   \n",
              "3                          [electronic_music, music]         hd   \n",
              "4                          [electronic_music, music]         hd   \n",
              "\n",
              "   publishedDayNum  log_duration_secs  std_viewCount  publishedDayDelta  \\\n",
              "0              270           4.875197      -0.372410                  8   \n",
              "1              267           5.056246      -0.370358                 11   \n",
              "2              265           5.198497      -0.369964                 13   \n",
              "3              263           5.411646      -0.370002                 15   \n",
              "4              260           5.236442      -0.367820                 18   \n",
              "\n",
              "   len_title  \n",
              "0          5  \n",
              "1          7  \n",
              "2         10  \n",
              "3          6  \n",
              "4          3  "
            ]
          },
          "execution_count": 34,
          "metadata": {},
          "output_type": "execute_result"
        }
      ]
    },
    {
      "cell_type": "code",
      "source": [
        "import seaborn as sns\n",
        "#b4 transform\n",
        "sns.distplot(basic_model_data.log_duration_secs+1);"
      ],
      "metadata": {
        "id": "htD-0uJkehjo",
        "outputId": "7f80eca7-5863-4cc8-9288-8349cbaa8276",
        "colab": {
          "base_uri": "https://localhost:8080/",
          "height": 280
        },
        "pycharm": {
          "name": "#%%\n"
        }
      },
      "execution_count": 35,
      "outputs": [
        {
          "data": {
            "image/png": "[encoded data removed]",
            "text/plain": [
              "<Figure size 432x288 with 1 Axes>"
            ]
          },
          "metadata": {},
          "output_type": "display_data"
        }
      ]
    },
    {
      "cell_type": "code",
      "source": [
        "#after transform\n",
        "# sns.distplot(np.log(basic_model_data.duration_secs+1));"
      ],
      "metadata": {
        "id": "f_cfd7yuvx6q",
        "pycharm": {
          "name": "#%%\n"
        }
      },
      "execution_count": 36,
      "outputs": []
    },
    {
      "cell_type": "code",
      "source": [
        "# sns.distplot(basic_model_data.publishedDayDelta);"
      ],
      "metadata": {
        "id": "wBqz64QEow4x"
      },
      "execution_count": 37,
      "outputs": []
    },
    {
      "cell_type": "code",
      "source": [
        "word2vec_titles = Word2Vec(basic_model_data.title, min_count=1)\n",
        "word2vec_topics = Word2Vec(basic_model_data.topicCategories, min_count=1)"
      ],
      "metadata": {
        "id": "HtQu1FwAbXLL",
        "pycharm": {
          "name": "#%%\n"
        }
      },
      "execution_count": 38,
      "outputs": []
    },
    {
      "cell_type": "code",
      "source": [
        "# word2vec_titles.wv.vocab\n",
        "word2vec_titles.wv['artificial'].shape"
      ],
      "metadata": {
        "id": "XjCqmQ87rsHI",
        "outputId": "93b868f5-21f8-433f-cb73-21508e419151",
        "colab": {
          "base_uri": "https://localhost:8080/"
        },
        "pycharm": {
          "name": "#%%\n"
        }
      },
      "execution_count": 39,
      "outputs": [
        {
          "data": {
            "text/plain": [
              "(100,)"
            ]
          },
          "execution_count": 39,
          "metadata": {},
          "output_type": "execute_result"
        }
      ]
    },
    {
      "cell_type": "code",
      "source": [
        "# word2vec_titles.most_similar('travel')"
      ],
      "metadata": {
        "id": "1mKk_Afasedj",
        "pycharm": {
          "name": "#%%\n"
        }
      },
      "execution_count": 40,
      "outputs": []
    },
    {
      "cell_type": "code",
      "source": [
        "def w2v_models(df, col_list):\n",
        "\n",
        "  model_dict = {}\n",
        "  for col in col_list:\n",
        "    model_dict[col] = Word2Vec(df[col], min_count=1)\n",
        "  \n",
        "  return model_dict"
      ],
      "metadata": {
        "id": "60W1r2aKtUal",
        "pycharm": {
          "name": "#%%\n"
        }
      },
      "execution_count": 41,
      "outputs": []
    },
    {
      "cell_type": "code",
      "source": [
        "w2v_model_dict = w2v_models(basic_model_data, ['title', 'topicCategories'])"
      ],
      "metadata": {
        "id": "FNlOQoyUyMZz",
        "pycharm": {
          "name": "#%%\n"
        }
      },
      "execution_count": 42,
      "outputs": []
    },
    {
      "cell_type": "code",
      "source": [
        "w2v_model_dict"
      ],
      "metadata": {
        "id": "snXGyKHY0twY",
        "outputId": "d04ded04-3415-49df-a92f-365e71d5bf5b",
        "colab": {
          "base_uri": "https://localhost:8080/"
        },
        "pycharm": {
          "name": "#%%\n"
        }
      },
      "execution_count": 43,
      "outputs": [
        {
          "data": {
            "text/plain": [
              "{'title': <gensim.models.word2vec.Word2Vec at 0x7fc46cb96d90>,\n",
              " 'topicCategories': <gensim.models.word2vec.Word2Vec at 0x7fc46f256cd0>}"
            ]
          },
          "execution_count": 43,
          "metadata": {},
          "output_type": "execute_result"
        }
      ]
    },
    {
      "cell_type": "code",
      "source": [
        "def vectorise_text(df, model):\n",
        "  arr = np.zeros(100)\n",
        "  for word in df:\n",
        "    arr+=model.wv[word]\n",
        "    \n",
        "  return(np.mean(np.expand_dims(arr, axis=1), axis=1))"
      ],
      "metadata": {
        "id": "UX7fFVaz0x-g",
        "pycharm": {
          "name": "#%%\n"
        }
      },
      "execution_count": 44,
      "outputs": []
    },
    {
      "cell_type": "code",
      "source": [
        "# vectorise_text([\"science\", \"art\"], w2v_model_dict['title'])\n",
        "basic_model_data.columns"
      ],
      "metadata": {
        "id": "QTwyrG4f342n",
        "pycharm": {
          "name": "#%%\n"
        },
        "outputId": "6ec5a9e8-f256-4db8-e69e-54e838c43eea",
        "colab": {
          "base_uri": "https://localhost:8080/"
        }
      },
      "execution_count": 45,
      "outputs": [
        {
          "data": {
            "text/plain": [
              "Index(['title', 'topicCategories', 'definition', 'publishedDayNum',\n",
              "       'log_duration_secs', 'std_viewCount', 'publishedDayDelta', 'len_title'],\n",
              "      dtype='object')"
            ]
          },
          "execution_count": 45,
          "metadata": {},
          "output_type": "execute_result"
        }
      ]
    },
    {
      "cell_type": "code",
      "source": [
        "basic_model_data['vec_title'] = basic_model_data.title.apply(vectorise_text, model=w2v_model_dict['title'])\n",
        "basic_model_data['vec_topicCategories'] = basic_model_data.topicCategories.apply(vectorise_text, model=w2v_model_dict['topicCategories'])"
      ],
      "metadata": {
        "id": "HD164gry56tH",
        "pycharm": {
          "name": "#%%\n"
        }
      },
      "execution_count": 46,
      "outputs": []
    },
    {
      "cell_type": "code",
      "source": [
        "['title', 'topicCategories', 'definition', 'publishedDayNum', 'log_duration_secs', 'std_viewCount', 'publishedDayDelta']"
      ],
      "metadata": {
        "id": "jHstv5vOACVg",
        "pycharm": {
          "name": "#%%\n"
        },
        "outputId": "9f2fa133-06b6-4576-c3ef-f92e22f9e445",
        "colab": {
          "base_uri": "https://localhost:8080/"
        }
      },
      "execution_count": 47,
      "outputs": [
        {
          "data": {
            "text/plain": [
              "['title',\n",
              " 'topicCategories',\n",
              " 'definition',\n",
              " 'publishedDayNum',\n",
              " 'log_duration_secs',\n",
              " 'std_viewCount',\n",
              " 'publishedDayDelta']"
            ]
          },
          "execution_count": 47,
          "metadata": {},
          "output_type": "execute_result"
        }
      ]
    },
    {
      "cell_type": "code",
      "source": [],
      "metadata": {
        "id": "2esqtMdv1kvA"
      },
      "execution_count": 47,
      "outputs": []
    },
    {
      "cell_type": "code",
      "source": [
        "titles = pd.DataFrame(basic_model_data.vec_title.tolist(), index= basic_model_data.index, columns=[\"title_\"+str(i) for i in range(1,101)])\n",
        "topics = pd.DataFrame(basic_model_data.vec_topicCategories.tolist(), index= basic_model_data.index, columns=[\"topics_\"+str(i) for i in range(1,101)])\n"
      ],
      "metadata": {
        "id": "-NuUWR_P9mst",
        "pycharm": {
          "name": "#%%\n"
        }
      },
      "execution_count": 48,
      "outputs": []
    },
    {
      "cell_type": "code",
      "source": [
        "data_df = pd.concat([titles, topics, basic_model_data[['publishedDayNum', 'log_duration_secs', 'std_viewCount', 'publishedDayDelta']], pd.get_dummies(basic_model_data.definition)], axis=1)"
      ],
      "metadata": {
        "id": "tYH9RTCwATRr",
        "pycharm": {
          "name": "#%%\n"
        }
      },
      "execution_count": 49,
      "outputs": []
    },
    {
      "cell_type": "code",
      "source": [
        "data_df.head()"
      ],
      "metadata": {
        "id": "mxav80BUAfKU",
        "outputId": "b212f0cb-4cb6-4502-e556-319e33d6e7c3",
        "colab": {
          "base_uri": "https://localhost:8080/",
          "height": 297
        },
        "pycharm": {
          "name": "#%%\n"
        }
      },
      "execution_count": 50,
      "outputs": [
        {
          "data": {
            "text/html": [
              "\n",
              "  <div id=\"df-c3249681-6307-445d-a867-0f4a09ac1f97\">\n",
              "    <div class=\"colab-df-container\">\n",
              "      <div>\n",
              "<style scoped>\n",
              "    .dataframe tbody tr th:only-of-type {\n",
              "        vertical-align: middle;\n",
              "    }\n",
              "\n",
              "    .dataframe tbody tr th {\n",
              "        vertical-align: top;\n",
              "    }\n",
              "\n",
              "    .dataframe thead th {\n",
              "        text-align: right;\n",
              "    }\n",
              "</style>\n",
              "<table border=\"1\" class=\"dataframe\">\n",
              "  <thead>\n",
              "    <tr style=\"text-align: right;\">\n",
              "      <th></th>\n",
              "      <th>title_1</th>\n",
              "      <th>title_2</th>\n",
              "      <th>title_3</th>\n",
              "      <th>title_4</th>\n",
              "      <th>title_5</th>\n",
              "      <th>title_6</th>\n",
              "      <th>title_7</th>\n",
              "      <th>title_8</th>\n",
              "      <th>title_9</th>\n",
              "      <th>title_10</th>\n",
              "      <th>...</th>\n",
              "      <th>topics_97</th>\n",
              "      <th>topics_98</th>\n",
              "      <th>topics_99</th>\n",
              "      <th>topics_100</th>\n",
              "      <th>publishedDayNum</th>\n",
              "      <th>log_duration_secs</th>\n",
              "      <th>std_viewCount</th>\n",
              "      <th>publishedDayDelta</th>\n",
              "      <th>hd</th>\n",
              "      <th>sd</th>\n",
              "    </tr>\n",
              "  </thead>\n",
              "  <tbody>\n",
              "    <tr>\n",
              "      <th>0</th>\n",
              "      <td>0.949307</td>\n",
              "      <td>1.225899</td>\n",
              "      <td>1.849117</td>\n",
              "      <td>-1.065505</td>\n",
              "      <td>-0.561422</td>\n",
              "      <td>-0.330514</td>\n",
              "      <td>-0.288854</td>\n",
              "      <td>1.033826</td>\n",
              "      <td>-1.668071</td>\n",
              "      <td>-1.280551</td>\n",
              "      <td>...</td>\n",
              "      <td>-0.768748</td>\n",
              "      <td>0.727406</td>\n",
              "      <td>0.598370</td>\n",
              "      <td>-0.338373</td>\n",
              "      <td>270</td>\n",
              "      <td>4.875197</td>\n",
              "      <td>-0.372410</td>\n",
              "      <td>8</td>\n",
              "      <td>1</td>\n",
              "      <td>0</td>\n",
              "    </tr>\n",
              "    <tr>\n",
              "      <th>1</th>\n",
              "      <td>1.781812</td>\n",
              "      <td>1.727444</td>\n",
              "      <td>3.118274</td>\n",
              "      <td>-1.687057</td>\n",
              "      <td>-0.925777</td>\n",
              "      <td>-0.762971</td>\n",
              "      <td>-0.478026</td>\n",
              "      <td>1.321976</td>\n",
              "      <td>-2.647941</td>\n",
              "      <td>-1.787900</td>\n",
              "      <td>...</td>\n",
              "      <td>-0.685646</td>\n",
              "      <td>0.510782</td>\n",
              "      <td>0.440660</td>\n",
              "      <td>-0.330562</td>\n",
              "      <td>267</td>\n",
              "      <td>5.056246</td>\n",
              "      <td>-0.370358</td>\n",
              "      <td>11</td>\n",
              "      <td>1</td>\n",
              "      <td>0</td>\n",
              "    </tr>\n",
              "    <tr>\n",
              "      <th>2</th>\n",
              "      <td>2.296480</td>\n",
              "      <td>2.088166</td>\n",
              "      <td>4.465529</td>\n",
              "      <td>-2.298405</td>\n",
              "      <td>-1.227891</td>\n",
              "      <td>-1.270327</td>\n",
              "      <td>-0.535123</td>\n",
              "      <td>1.583732</td>\n",
              "      <td>-3.474763</td>\n",
              "      <td>-2.107395</td>\n",
              "      <td>...</td>\n",
              "      <td>-0.551840</td>\n",
              "      <td>0.373827</td>\n",
              "      <td>0.335122</td>\n",
              "      <td>-0.297817</td>\n",
              "      <td>265</td>\n",
              "      <td>5.198497</td>\n",
              "      <td>-0.369964</td>\n",
              "      <td>13</td>\n",
              "      <td>1</td>\n",
              "      <td>0</td>\n",
              "    </tr>\n",
              "    <tr>\n",
              "      <th>3</th>\n",
              "      <td>0.947561</td>\n",
              "      <td>2.073876</td>\n",
              "      <td>1.898630</td>\n",
              "      <td>-1.414855</td>\n",
              "      <td>-0.876999</td>\n",
              "      <td>-0.209599</td>\n",
              "      <td>-0.363991</td>\n",
              "      <td>1.822472</td>\n",
              "      <td>-2.073148</td>\n",
              "      <td>-1.791207</td>\n",
              "      <td>...</td>\n",
              "      <td>-0.551840</td>\n",
              "      <td>0.373827</td>\n",
              "      <td>0.335122</td>\n",
              "      <td>-0.297817</td>\n",
              "      <td>263</td>\n",
              "      <td>5.411646</td>\n",
              "      <td>-0.370002</td>\n",
              "      <td>15</td>\n",
              "      <td>1</td>\n",
              "      <td>0</td>\n",
              "    </tr>\n",
              "    <tr>\n",
              "      <th>4</th>\n",
              "      <td>0.821876</td>\n",
              "      <td>1.094984</td>\n",
              "      <td>1.629870</td>\n",
              "      <td>-0.946244</td>\n",
              "      <td>-0.491845</td>\n",
              "      <td>-0.272588</td>\n",
              "      <td>-0.246758</td>\n",
              "      <td>0.931725</td>\n",
              "      <td>-1.480552</td>\n",
              "      <td>-1.168258</td>\n",
              "      <td>...</td>\n",
              "      <td>-0.551840</td>\n",
              "      <td>0.373827</td>\n",
              "      <td>0.335122</td>\n",
              "      <td>-0.297817</td>\n",
              "      <td>260</td>\n",
              "      <td>5.236442</td>\n",
              "      <td>-0.367820</td>\n",
              "      <td>18</td>\n",
              "      <td>1</td>\n",
              "      <td>0</td>\n",
              "    </tr>\n",
              "  </tbody>\n",
              "</table>\n",
              "<p>5 rows × 206 columns</p>\n",
              "</div>\n",
              "      <button class=\"colab-df-convert\" onclick=\"convertToInteractive('df-c3249681-6307-445d-a867-0f4a09ac1f97')\"\n",
              "              title=\"Convert this dataframe to an interactive table.\"\n",
              "              style=\"display:none;\">\n",
              "        \n",
              "  <svg xmlns=\"http://www.w3.org/2000/svg\" height=\"24px\"viewBox=\"0 0 24 24\"\n",
              "       width=\"24px\">\n",
              "    <path d=\"M0 0h24v24H0V0z\" fill=\"none\"/>\n",
              "    <path d=\"M18.56 5.44l.94 2.06.94-2.06 2.06-.94-2.06-.94-.94-2.06-.94 2.06-2.06.94zm-11 1L8.5 8.5l.94-2.06 2.06-.94-2.06-.94L8.5 2.5l-.94 2.06-2.06.94zm10 10l.94 2.06.94-2.06 2.06-.94-2.06-.94-.94-2.06-.94 2.06-2.06.94z\"/><path d=\"M17.41 7.96l-1.37-1.37c-.4-.4-.92-.59-1.43-.59-.52 0-1.04.2-1.43.59L10.3 9.45l-7.72 7.72c-.78.78-.78 2.05 0 2.83L4 21.41c.39.39.9.59 1.41.59.51 0 1.02-.2 1.41-.59l7.78-7.78 2.81-2.81c.8-.78.8-2.07 0-2.86zM5.41 20L4 18.59l7.72-7.72 1.47 1.35L5.41 20z\"/>\n",
              "  </svg>\n",
              "      </button>\n",
              "      \n",
              "  <style>\n",
              "    .colab-df-container {\n",
              "      display:flex;\n",
              "      flex-wrap:wrap;\n",
              "      gap: 12px;\n",
              "    }\n",
              "\n",
              "    .colab-df-convert {\n",
              "      background-color: #E8F0FE;\n",
              "      border: none;\n",
              "      border-radius: 50%;\n",
              "      cursor: pointer;\n",
              "      display: none;\n",
              "      fill: #1967D2;\n",
              "      height: 32px;\n",
              "      padding: 0 0 0 0;\n",
              "      width: 32px;\n",
              "    }\n",
              "\n",
              "    .colab-df-convert:hover {\n",
              "      background-color: #E2EBFA;\n",
              "      box-shadow: 0px 1px 2px rgba(60, 64, 67, 0.3), 0px 1px 3px 1px rgba(60, 64, 67, 0.15);\n",
              "      fill: #174EA6;\n",
              "    }\n",
              "\n",
              "    [theme=dark] .colab-df-convert {\n",
              "      background-color: #3B4455;\n",
              "      fill: #D2E3FC;\n",
              "    }\n",
              "\n",
              "    [theme=dark] .colab-df-convert:hover {\n",
              "      background-color: #434B5C;\n",
              "      box-shadow: 0px 1px 3px 1px rgba(0, 0, 0, 0.15);\n",
              "      filter: drop-shadow(0px 1px 2px rgba(0, 0, 0, 0.3));\n",
              "      fill: #FFFFFF;\n",
              "    }\n",
              "  </style>\n",
              "\n",
              "      <script>\n",
              "        const buttonEl =\n",
              "          document.querySelector('#df-c3249681-6307-445d-a867-0f4a09ac1f97 button.colab-df-convert');\n",
              "        buttonEl.style.display =\n",
              "          google.colab.kernel.accessAllowed ? 'block' : 'none';\n",
              "\n",
              "        async function convertToInteractive(key) {\n",
              "          const element = document.querySelector('#df-c3249681-6307-445d-a867-0f4a09ac1f97');\n",
              "          const dataTable =\n",
              "            await google.colab.kernel.invokeFunction('convertToInteractive',\n",
              "                                                     [key], {});\n",
              "          if (!dataTable) return;\n",
              "\n",
              "          const docLinkHtml = 'Like what you see? Visit the ' +\n",
              "            '<a target=\"_blank\" href=https://colab.research.google.com/notebooks/data_table.ipynb>data table notebook</a>'\n",
              "            + ' to learn more about interactive tables.';\n",
              "          element.innerHTML = '';\n",
              "          dataTable['output_type'] = 'display_data';\n",
              "          await google.colab.output.renderOutput(dataTable, element);\n",
              "          const docLink = document.createElement('div');\n",
              "          docLink.innerHTML = docLinkHtml;\n",
              "          element.appendChild(docLink);\n",
              "        }\n",
              "      </script>\n",
              "    </div>\n",
              "  </div>\n",
              "  "
            ],
            "text/plain": [
              "    title_1   title_2   title_3   title_4   title_5   title_6   title_7  \\\n",
              "0  0.949307  1.225899  1.849117 -1.065505 -0.561422 -0.330514 -0.288854   \n",
              "1  1.781812  1.727444  3.118274 -1.687057 -0.925777 -0.762971 -0.478026   \n",
              "2  2.296480  2.088166  4.465529 -2.298405 -1.227891 -1.270327 -0.535123   \n",
              "3  0.947561  2.073876  1.898630 -1.414855 -0.876999 -0.209599 -0.363991   \n",
              "4  0.821876  1.094984  1.629870 -0.946244 -0.491845 -0.272588 -0.246758   \n",
              "\n",
              "    title_8   title_9  title_10  ...  topics_97  topics_98  topics_99  \\\n",
              "0  1.033826 -1.668071 -1.280551  ...  -0.768748   0.727406   0.598370   \n",
              "1  1.321976 -2.647941 -1.787900  ...  -0.685646   0.510782   0.440660   \n",
              "2  1.583732 -3.474763 -2.107395  ...  -0.551840   0.373827   0.335122   \n",
              "3  1.822472 -2.073148 -1.791207  ...  -0.551840   0.373827   0.335122   \n",
              "4  0.931725 -1.480552 -1.168258  ...  -0.551840   0.373827   0.335122   \n",
              "\n",
              "   topics_100  publishedDayNum  log_duration_secs  std_viewCount  \\\n",
              "0   -0.338373              270           4.875197      -0.372410   \n",
              "1   -0.330562              267           5.056246      -0.370358   \n",
              "2   -0.297817              265           5.198497      -0.369964   \n",
              "3   -0.297817              263           5.411646      -0.370002   \n",
              "4   -0.297817              260           5.236442      -0.367820   \n",
              "\n",
              "   publishedDayDelta  hd  sd  \n",
              "0                  8   1   0  \n",
              "1                 11   1   0  \n",
              "2                 13   1   0  \n",
              "3                 15   1   0  \n",
              "4                 18   1   0  \n",
              "\n",
              "[5 rows x 206 columns]"
            ]
          },
          "execution_count": 50,
          "metadata": {},
          "output_type": "execute_result"
        }
      ]
    },
    {
      "cell_type": "code",
      "source": [
        "from sklearn.model_selection import train_test_split\n",
        "from sklearn.preprocessing import StandardScaler\n",
        "from sklearn.decomposition import PCA"
      ],
      "metadata": {
        "id": "DOL2fVOqCN1y",
        "pycharm": {
          "name": "#%%\n"
        }
      },
      "execution_count": 51,
      "outputs": []
    },
    {
      "cell_type": "code",
      "source": [
        "data_train, data_test = train_test_split(data_df, test_size=0.20, random_state=42)"
      ],
      "metadata": {
        "id": "IafoRDfiB_6L",
        "pycharm": {
          "name": "#%%\n"
        }
      },
      "execution_count": 52,
      "outputs": []
    },
    {
      "cell_type": "code",
      "source": [
        "data_train[\"smote_thresh\"] = data_train.std_viewCount>=10"
      ],
      "metadata": {
        "id": "8WczqHqLRUIN"
      },
      "execution_count": 53,
      "outputs": []
    },
    {
      "cell_type": "code",
      "source": [
        "# data_train.smote_thresh.value_counts()\n",
        "data_train.head()"
      ],
      "metadata": {
        "id": "KLV3X40Dg4Gl",
        "outputId": "20d61b29-0491-4416-b1eb-c24b3e1f181d",
        "colab": {
          "base_uri": "https://localhost:8080/",
          "height": 297
        }
      },
      "execution_count": 54,
      "outputs": [
        {
          "output_type": "execute_result",
          "data": {
            "text/plain": [
              "        title_1   title_2   title_3   title_4   title_5   title_6   title_7  \\\n",
              "7720   1.442887  3.512684  1.693536 -1.941233 -1.415235 -0.325029 -0.762872   \n",
              "24352  0.631267  0.547303  0.996239 -0.535727 -0.312737 -0.298199 -0.199025   \n",
              "17697  1.165790  0.330168  1.971176 -0.869709 -0.348145 -0.678627 -0.169968   \n",
              "40840  0.389812  0.323669  0.634538 -0.354450 -0.193822 -0.210895 -0.091481   \n",
              "27694  4.740850  2.303640  4.698455 -2.244872 -1.575624 -1.314618 -1.813191   \n",
              "\n",
              "        title_8   title_9  title_10  ...  topics_98  topics_99  topics_100  \\\n",
              "7720   3.130998 -2.549761 -2.678053  ...   0.414646   0.578980   -0.415755   \n",
              "24352  0.348711 -0.792866 -0.469243  ...   0.407717   0.588001   -0.405451   \n",
              "17697 -0.073300 -1.253723 -0.319033  ...   0.250162   0.286435   -0.033649   \n",
              "40840  0.197989 -0.499201 -0.265838  ...   0.151052   0.057016   -0.046884   \n",
              "27694  1.507265 -4.123310 -3.159736  ...   0.532731   0.831475   -0.524442   \n",
              "\n",
              "       publishedDayNum  log_duration_secs  std_viewCount  publishedDayDelta  \\\n",
              "7720               147           6.190315      -0.457201                131   \n",
              "24352                3           6.049733      -0.097878                275   \n",
              "17697              321           6.753438       0.063920                 43   \n",
              "40840               39           5.590987       0.605070                239   \n",
              "27694                1           5.765191      -0.353799                277   \n",
              "\n",
              "       hd  sd  smote_thresh  \n",
              "7720    1   0         False  \n",
              "24352   1   0         False  \n",
              "17697   1   0         False  \n",
              "40840   1   0         False  \n",
              "27694   1   0         False  \n",
              "\n",
              "[5 rows x 207 columns]"
            ],
            "text/html": [
              "\n",
              "  <div id=\"df-a4f65a86-6d5b-463a-a14d-3c11024ddbd7\">\n",
              "    <div class=\"colab-df-container\">\n",
              "      <div>\n",
              "<style scoped>\n",
              "    .dataframe tbody tr th:only-of-type {\n",
              "        vertical-align: middle;\n",
              "    }\n",
              "\n",
              "    .dataframe tbody tr th {\n",
              "        vertical-align: top;\n",
              "    }\n",
              "\n",
              "    .dataframe thead th {\n",
              "        text-align: right;\n",
              "    }\n",
              "</style>\n",
              "<table border=\"1\" class=\"dataframe\">\n",
              "  <thead>\n",
              "    <tr style=\"text-align: right;\">\n",
              "      <th></th>\n",
              "      <th>title_1</th>\n",
              "      <th>title_2</th>\n",
              "      <th>title_3</th>\n",
              "      <th>title_4</th>\n",
              "      <th>title_5</th>\n",
              "      <th>title_6</th>\n",
              "      <th>title_7</th>\n",
              "      <th>title_8</th>\n",
              "      <th>title_9</th>\n",
              "      <th>title_10</th>\n",
              "      <th>...</th>\n",
              "      <th>topics_98</th>\n",
              "      <th>topics_99</th>\n",
              "      <th>topics_100</th>\n",
              "      <th>publishedDayNum</th>\n",
              "      <th>log_duration_secs</th>\n",
              "      <th>std_viewCount</th>\n",
              "      <th>publishedDayDelta</th>\n",
              "      <th>hd</th>\n",
              "      <th>sd</th>\n",
              "      <th>smote_thresh</th>\n",
              "    </tr>\n",
              "  </thead>\n",
              "  <tbody>\n",
              "    <tr>\n",
              "      <th>7720</th>\n",
              "      <td>1.442887</td>\n",
              "      <td>3.512684</td>\n",
              "      <td>1.693536</td>\n",
              "      <td>-1.941233</td>\n",
              "      <td>-1.415235</td>\n",
              "      <td>-0.325029</td>\n",
              "      <td>-0.762872</td>\n",
              "      <td>3.130998</td>\n",
              "      <td>-2.549761</td>\n",
              "      <td>-2.678053</td>\n",
              "      <td>...</td>\n",
              "      <td>0.414646</td>\n",
              "      <td>0.578980</td>\n",
              "      <td>-0.415755</td>\n",
              "      <td>147</td>\n",
              "      <td>6.190315</td>\n",
              "      <td>-0.457201</td>\n",
              "      <td>131</td>\n",
              "      <td>1</td>\n",
              "      <td>0</td>\n",
              "      <td>False</td>\n",
              "    </tr>\n",
              "    <tr>\n",
              "      <th>24352</th>\n",
              "      <td>0.631267</td>\n",
              "      <td>0.547303</td>\n",
              "      <td>0.996239</td>\n",
              "      <td>-0.535727</td>\n",
              "      <td>-0.312737</td>\n",
              "      <td>-0.298199</td>\n",
              "      <td>-0.199025</td>\n",
              "      <td>0.348711</td>\n",
              "      <td>-0.792866</td>\n",
              "      <td>-0.469243</td>\n",
              "      <td>...</td>\n",
              "      <td>0.407717</td>\n",
              "      <td>0.588001</td>\n",
              "      <td>-0.405451</td>\n",
              "      <td>3</td>\n",
              "      <td>6.049733</td>\n",
              "      <td>-0.097878</td>\n",
              "      <td>275</td>\n",
              "      <td>1</td>\n",
              "      <td>0</td>\n",
              "      <td>False</td>\n",
              "    </tr>\n",
              "    <tr>\n",
              "      <th>17697</th>\n",
              "      <td>1.165790</td>\n",
              "      <td>0.330168</td>\n",
              "      <td>1.971176</td>\n",
              "      <td>-0.869709</td>\n",
              "      <td>-0.348145</td>\n",
              "      <td>-0.678627</td>\n",
              "      <td>-0.169968</td>\n",
              "      <td>-0.073300</td>\n",
              "      <td>-1.253723</td>\n",
              "      <td>-0.319033</td>\n",
              "      <td>...</td>\n",
              "      <td>0.250162</td>\n",
              "      <td>0.286435</td>\n",
              "      <td>-0.033649</td>\n",
              "      <td>321</td>\n",
              "      <td>6.753438</td>\n",
              "      <td>0.063920</td>\n",
              "      <td>43</td>\n",
              "      <td>1</td>\n",
              "      <td>0</td>\n",
              "      <td>False</td>\n",
              "    </tr>\n",
              "    <tr>\n",
              "      <th>40840</th>\n",
              "      <td>0.389812</td>\n",
              "      <td>0.323669</td>\n",
              "      <td>0.634538</td>\n",
              "      <td>-0.354450</td>\n",
              "      <td>-0.193822</td>\n",
              "      <td>-0.210895</td>\n",
              "      <td>-0.091481</td>\n",
              "      <td>0.197989</td>\n",
              "      <td>-0.499201</td>\n",
              "      <td>-0.265838</td>\n",
              "      <td>...</td>\n",
              "      <td>0.151052</td>\n",
              "      <td>0.057016</td>\n",
              "      <td>-0.046884</td>\n",
              "      <td>39</td>\n",
              "      <td>5.590987</td>\n",
              "      <td>0.605070</td>\n",
              "      <td>239</td>\n",
              "      <td>1</td>\n",
              "      <td>0</td>\n",
              "      <td>False</td>\n",
              "    </tr>\n",
              "    <tr>\n",
              "      <th>27694</th>\n",
              "      <td>4.740850</td>\n",
              "      <td>2.303640</td>\n",
              "      <td>4.698455</td>\n",
              "      <td>-2.244872</td>\n",
              "      <td>-1.575624</td>\n",
              "      <td>-1.314618</td>\n",
              "      <td>-1.813191</td>\n",
              "      <td>1.507265</td>\n",
              "      <td>-4.123310</td>\n",
              "      <td>-3.159736</td>\n",
              "      <td>...</td>\n",
              "      <td>0.532731</td>\n",
              "      <td>0.831475</td>\n",
              "      <td>-0.524442</td>\n",
              "      <td>1</td>\n",
              "      <td>5.765191</td>\n",
              "      <td>-0.353799</td>\n",
              "      <td>277</td>\n",
              "      <td>1</td>\n",
              "      <td>0</td>\n",
              "      <td>False</td>\n",
              "    </tr>\n",
              "  </tbody>\n",
              "</table>\n",
              "<p>5 rows × 207 columns</p>\n",
              "</div>\n",
              "      <button class=\"colab-df-convert\" onclick=\"convertToInteractive('df-a4f65a86-6d5b-463a-a14d-3c11024ddbd7')\"\n",
              "              title=\"Convert this dataframe to an interactive table.\"\n",
              "              style=\"display:none;\">\n",
              "        \n",
              "  <svg xmlns=\"http://www.w3.org/2000/svg\" height=\"24px\"viewBox=\"0 0 24 24\"\n",
              "       width=\"24px\">\n",
              "    <path d=\"M0 0h24v24H0V0z\" fill=\"none\"/>\n",
              "    <path d=\"M18.56 5.44l.94 2.06.94-2.06 2.06-.94-2.06-.94-.94-2.06-.94 2.06-2.06.94zm-11 1L8.5 8.5l.94-2.06 2.06-.94-2.06-.94L8.5 2.5l-.94 2.06-2.06.94zm10 10l.94 2.06.94-2.06 2.06-.94-2.06-.94-.94-2.06-.94 2.06-2.06.94z\"/><path d=\"M17.41 7.96l-1.37-1.37c-.4-.4-.92-.59-1.43-.59-.52 0-1.04.2-1.43.59L10.3 9.45l-7.72 7.72c-.78.78-.78 2.05 0 2.83L4 21.41c.39.39.9.59 1.41.59.51 0 1.02-.2 1.41-.59l7.78-7.78 2.81-2.81c.8-.78.8-2.07 0-2.86zM5.41 20L4 18.59l7.72-7.72 1.47 1.35L5.41 20z\"/>\n",
              "  </svg>\n",
              "      </button>\n",
              "      \n",
              "  <style>\n",
              "    .colab-df-container {\n",
              "      display:flex;\n",
              "      flex-wrap:wrap;\n",
              "      gap: 12px;\n",
              "    }\n",
              "\n",
              "    .colab-df-convert {\n",
              "      background-color: #E8F0FE;\n",
              "      border: none;\n",
              "      border-radius: 50%;\n",
              "      cursor: pointer;\n",
              "      display: none;\n",
              "      fill: #1967D2;\n",
              "      height: 32px;\n",
              "      padding: 0 0 0 0;\n",
              "      width: 32px;\n",
              "    }\n",
              "\n",
              "    .colab-df-convert:hover {\n",
              "      background-color: #E2EBFA;\n",
              "      box-shadow: 0px 1px 2px rgba(60, 64, 67, 0.3), 0px 1px 3px 1px rgba(60, 64, 67, 0.15);\n",
              "      fill: #174EA6;\n",
              "    }\n",
              "\n",
              "    [theme=dark] .colab-df-convert {\n",
              "      background-color: #3B4455;\n",
              "      fill: #D2E3FC;\n",
              "    }\n",
              "\n",
              "    [theme=dark] .colab-df-convert:hover {\n",
              "      background-color: #434B5C;\n",
              "      box-shadow: 0px 1px 3px 1px rgba(0, 0, 0, 0.15);\n",
              "      filter: drop-shadow(0px 1px 2px rgba(0, 0, 0, 0.3));\n",
              "      fill: #FFFFFF;\n",
              "    }\n",
              "  </style>\n",
              "\n",
              "      <script>\n",
              "        const buttonEl =\n",
              "          document.querySelector('#df-a4f65a86-6d5b-463a-a14d-3c11024ddbd7 button.colab-df-convert');\n",
              "        buttonEl.style.display =\n",
              "          google.colab.kernel.accessAllowed ? 'block' : 'none';\n",
              "\n",
              "        async function convertToInteractive(key) {\n",
              "          const element = document.querySelector('#df-a4f65a86-6d5b-463a-a14d-3c11024ddbd7');\n",
              "          const dataTable =\n",
              "            await google.colab.kernel.invokeFunction('convertToInteractive',\n",
              "                                                     [key], {});\n",
              "          if (!dataTable) return;\n",
              "\n",
              "          const docLinkHtml = 'Like what you see? Visit the ' +\n",
              "            '<a target=\"_blank\" href=https://colab.research.google.com/notebooks/data_table.ipynb>data table notebook</a>'\n",
              "            + ' to learn more about interactive tables.';\n",
              "          element.innerHTML = '';\n",
              "          dataTable['output_type'] = 'display_data';\n",
              "          await google.colab.output.renderOutput(dataTable, element);\n",
              "          const docLink = document.createElement('div');\n",
              "          docLink.innerHTML = docLinkHtml;\n",
              "          element.appendChild(docLink);\n",
              "        }\n",
              "      </script>\n",
              "    </div>\n",
              "  </div>\n",
              "  "
            ]
          },
          "metadata": {},
          "execution_count": 54
        }
      ]
    },
    {
      "cell_type": "code",
      "source": [
        "from imblearn.over_sampling import SMOTE "
      ],
      "metadata": {
        "id": "1ZDvE8DXn2eh"
      },
      "execution_count": 55,
      "outputs": []
    },
    {
      "cell_type": "code",
      "source": [
        "sm = SMOTE(random_state=42)\n",
        "X_res, y_res = sm.fit_resample(data_train.drop(\"smote_thresh\", axis=1), data_train[\"smote_thresh\"])"
      ],
      "metadata": {
        "id": "hctbL7vZn2hw"
      },
      "execution_count": 56,
      "outputs": []
    },
    {
      "cell_type": "code",
      "source": [
        "y_res.value_counts()"
      ],
      "metadata": {
        "id": "xSVdYE5-n2kk",
        "outputId": "06f8c42f-7930-4a83-e1df-f286f3151f64",
        "colab": {
          "base_uri": "https://localhost:8080/"
        }
      },
      "execution_count": 57,
      "outputs": [
        {
          "output_type": "execute_result",
          "data": {
            "text/plain": [
              "False    43979\n",
              "True     43979\n",
              "Name: smote_thresh, dtype: int64"
            ]
          },
          "metadata": {},
          "execution_count": 57
        }
      ]
    },
    {
      "cell_type": "code",
      "source": [
        "train_X = X_res.drop(\"std_viewCount\", axis=1) #data_train.drop([\"std_viewCount\", \"smote_thresh\"], axis=1) #use X_res for smote\n",
        "train_y = X_res.std_viewCount#data_train.std_viewCount\n",
        "\n",
        "test_X = data_test.drop(\"std_viewCount\", axis=1)\n",
        "test_y = data_test.std_viewCount"
      ],
      "metadata": {
        "id": "uELPK5OiCsIq",
        "pycharm": {
          "name": "#%%\n"
        }
      },
      "execution_count": 77,
      "outputs": []
    },
    {
      "cell_type": "code",
      "source": [
        "train_X.head()"
      ],
      "metadata": {
        "id": "DJDhSiOFgPhR",
        "outputId": "2cafd040-5991-4e1a-d560-c81812b263e7",
        "colab": {
          "base_uri": "https://localhost:8080/",
          "height": 297
        }
      },
      "execution_count": 78,
      "outputs": [
        {
          "output_type": "execute_result",
          "data": {
            "text/plain": [
              "    title_1   title_2   title_3   title_4   title_5   title_6   title_7  \\\n",
              "0  1.442887  3.512684  1.693536 -1.941233 -1.415235 -0.325029 -0.762872   \n",
              "1  0.631267  0.547303  0.996239 -0.535727 -0.312737 -0.298199 -0.199025   \n",
              "2  1.165790  0.330168  1.971176 -0.869709 -0.348145 -0.678627 -0.169968   \n",
              "3  0.389812  0.323669  0.634538 -0.354450 -0.193822 -0.210895 -0.091481   \n",
              "4  4.740850  2.303640  4.698455 -2.244872 -1.575624 -1.314618 -1.813191   \n",
              "\n",
              "    title_8   title_9  title_10  ...  topics_96  topics_97  topics_98  \\\n",
              "0  3.130998 -2.549761 -2.678053  ...   0.193601   0.234692   0.414646   \n",
              "1  0.348711 -0.792866 -0.469243  ...   0.211600   0.229484   0.407717   \n",
              "2 -0.073300 -1.253723 -0.319033  ...   0.190153   0.235734   0.250162   \n",
              "3  0.197989 -0.499201 -0.265838  ...   0.015843   0.083458   0.151052   \n",
              "4  1.507265 -4.123310 -3.159736  ...   0.326001   0.321317   0.532731   \n",
              "\n",
              "   topics_99  topics_100  publishedDayNum  log_duration_secs  \\\n",
              "0   0.578980   -0.415755              147           6.190315   \n",
              "1   0.588001   -0.405451                3           6.049733   \n",
              "2   0.286435   -0.033649              321           6.753438   \n",
              "3   0.057016   -0.046884               39           5.590987   \n",
              "4   0.831475   -0.524442                1           5.765191   \n",
              "\n",
              "   publishedDayDelta  hd  sd  \n",
              "0                131   1   0  \n",
              "1                275   1   0  \n",
              "2                 43   1   0  \n",
              "3                239   1   0  \n",
              "4                277   1   0  \n",
              "\n",
              "[5 rows x 205 columns]"
            ],
            "text/html": [
              "\n",
              "  <div id=\"df-fcf65453-a273-4560-acb4-61e8ec0052c3\">\n",
              "    <div class=\"colab-df-container\">\n",
              "      <div>\n",
              "<style scoped>\n",
              "    .dataframe tbody tr th:only-of-type {\n",
              "        vertical-align: middle;\n",
              "    }\n",
              "\n",
              "    .dataframe tbody tr th {\n",
              "        vertical-align: top;\n",
              "    }\n",
              "\n",
              "    .dataframe thead th {\n",
              "        text-align: right;\n",
              "    }\n",
              "</style>\n",
              "<table border=\"1\" class=\"dataframe\">\n",
              "  <thead>\n",
              "    <tr style=\"text-align: right;\">\n",
              "      <th></th>\n",
              "      <th>title_1</th>\n",
              "      <th>title_2</th>\n",
              "      <th>title_3</th>\n",
              "      <th>title_4</th>\n",
              "      <th>title_5</th>\n",
              "      <th>title_6</th>\n",
              "      <th>title_7</th>\n",
              "      <th>title_8</th>\n",
              "      <th>title_9</th>\n",
              "      <th>title_10</th>\n",
              "      <th>...</th>\n",
              "      <th>topics_96</th>\n",
              "      <th>topics_97</th>\n",
              "      <th>topics_98</th>\n",
              "      <th>topics_99</th>\n",
              "      <th>topics_100</th>\n",
              "      <th>publishedDayNum</th>\n",
              "      <th>log_duration_secs</th>\n",
              "      <th>publishedDayDelta</th>\n",
              "      <th>hd</th>\n",
              "      <th>sd</th>\n",
              "    </tr>\n",
              "  </thead>\n",
              "  <tbody>\n",
              "    <tr>\n",
              "      <th>0</th>\n",
              "      <td>1.442887</td>\n",
              "      <td>3.512684</td>\n",
              "      <td>1.693536</td>\n",
              "      <td>-1.941233</td>\n",
              "      <td>-1.415235</td>\n",
              "      <td>-0.325029</td>\n",
              "      <td>-0.762872</td>\n",
              "      <td>3.130998</td>\n",
              "      <td>-2.549761</td>\n",
              "      <td>-2.678053</td>\n",
              "      <td>...</td>\n",
              "      <td>0.193601</td>\n",
              "      <td>0.234692</td>\n",
              "      <td>0.414646</td>\n",
              "      <td>0.578980</td>\n",
              "      <td>-0.415755</td>\n",
              "      <td>147</td>\n",
              "      <td>6.190315</td>\n",
              "      <td>131</td>\n",
              "      <td>1</td>\n",
              "      <td>0</td>\n",
              "    </tr>\n",
              "    <tr>\n",
              "      <th>1</th>\n",
              "      <td>0.631267</td>\n",
              "      <td>0.547303</td>\n",
              "      <td>0.996239</td>\n",
              "      <td>-0.535727</td>\n",
              "      <td>-0.312737</td>\n",
              "      <td>-0.298199</td>\n",
              "      <td>-0.199025</td>\n",
              "      <td>0.348711</td>\n",
              "      <td>-0.792866</td>\n",
              "      <td>-0.469243</td>\n",
              "      <td>...</td>\n",
              "      <td>0.211600</td>\n",
              "      <td>0.229484</td>\n",
              "      <td>0.407717</td>\n",
              "      <td>0.588001</td>\n",
              "      <td>-0.405451</td>\n",
              "      <td>3</td>\n",
              "      <td>6.049733</td>\n",
              "      <td>275</td>\n",
              "      <td>1</td>\n",
              "      <td>0</td>\n",
              "    </tr>\n",
              "    <tr>\n",
              "      <th>2</th>\n",
              "      <td>1.165790</td>\n",
              "      <td>0.330168</td>\n",
              "      <td>1.971176</td>\n",
              "      <td>-0.869709</td>\n",
              "      <td>-0.348145</td>\n",
              "      <td>-0.678627</td>\n",
              "      <td>-0.169968</td>\n",
              "      <td>-0.073300</td>\n",
              "      <td>-1.253723</td>\n",
              "      <td>-0.319033</td>\n",
              "      <td>...</td>\n",
              "      <td>0.190153</td>\n",
              "      <td>0.235734</td>\n",
              "      <td>0.250162</td>\n",
              "      <td>0.286435</td>\n",
              "      <td>-0.033649</td>\n",
              "      <td>321</td>\n",
              "      <td>6.753438</td>\n",
              "      <td>43</td>\n",
              "      <td>1</td>\n",
              "      <td>0</td>\n",
              "    </tr>\n",
              "    <tr>\n",
              "      <th>3</th>\n",
              "      <td>0.389812</td>\n",
              "      <td>0.323669</td>\n",
              "      <td>0.634538</td>\n",
              "      <td>-0.354450</td>\n",
              "      <td>-0.193822</td>\n",
              "      <td>-0.210895</td>\n",
              "      <td>-0.091481</td>\n",
              "      <td>0.197989</td>\n",
              "      <td>-0.499201</td>\n",
              "      <td>-0.265838</td>\n",
              "      <td>...</td>\n",
              "      <td>0.015843</td>\n",
              "      <td>0.083458</td>\n",
              "      <td>0.151052</td>\n",
              "      <td>0.057016</td>\n",
              "      <td>-0.046884</td>\n",
              "      <td>39</td>\n",
              "      <td>5.590987</td>\n",
              "      <td>239</td>\n",
              "      <td>1</td>\n",
              "      <td>0</td>\n",
              "    </tr>\n",
              "    <tr>\n",
              "      <th>4</th>\n",
              "      <td>4.740850</td>\n",
              "      <td>2.303640</td>\n",
              "      <td>4.698455</td>\n",
              "      <td>-2.244872</td>\n",
              "      <td>-1.575624</td>\n",
              "      <td>-1.314618</td>\n",
              "      <td>-1.813191</td>\n",
              "      <td>1.507265</td>\n",
              "      <td>-4.123310</td>\n",
              "      <td>-3.159736</td>\n",
              "      <td>...</td>\n",
              "      <td>0.326001</td>\n",
              "      <td>0.321317</td>\n",
              "      <td>0.532731</td>\n",
              "      <td>0.831475</td>\n",
              "      <td>-0.524442</td>\n",
              "      <td>1</td>\n",
              "      <td>5.765191</td>\n",
              "      <td>277</td>\n",
              "      <td>1</td>\n",
              "      <td>0</td>\n",
              "    </tr>\n",
              "  </tbody>\n",
              "</table>\n",
              "<p>5 rows × 205 columns</p>\n",
              "</div>\n",
              "      <button class=\"colab-df-convert\" onclick=\"convertToInteractive('df-fcf65453-a273-4560-acb4-61e8ec0052c3')\"\n",
              "              title=\"Convert this dataframe to an interactive table.\"\n",
              "              style=\"display:none;\">\n",
              "        \n",
              "  <svg xmlns=\"http://www.w3.org/2000/svg\" height=\"24px\"viewBox=\"0 0 24 24\"\n",
              "       width=\"24px\">\n",
              "    <path d=\"M0 0h24v24H0V0z\" fill=\"none\"/>\n",
              "    <path d=\"M18.56 5.44l.94 2.06.94-2.06 2.06-.94-2.06-.94-.94-2.06-.94 2.06-2.06.94zm-11 1L8.5 8.5l.94-2.06 2.06-.94-2.06-.94L8.5 2.5l-.94 2.06-2.06.94zm10 10l.94 2.06.94-2.06 2.06-.94-2.06-.94-.94-2.06-.94 2.06-2.06.94z\"/><path d=\"M17.41 7.96l-1.37-1.37c-.4-.4-.92-.59-1.43-.59-.52 0-1.04.2-1.43.59L10.3 9.45l-7.72 7.72c-.78.78-.78 2.05 0 2.83L4 21.41c.39.39.9.59 1.41.59.51 0 1.02-.2 1.41-.59l7.78-7.78 2.81-2.81c.8-.78.8-2.07 0-2.86zM5.41 20L4 18.59l7.72-7.72 1.47 1.35L5.41 20z\"/>\n",
              "  </svg>\n",
              "      </button>\n",
              "      \n",
              "  <style>\n",
              "    .colab-df-container {\n",
              "      display:flex;\n",
              "      flex-wrap:wrap;\n",
              "      gap: 12px;\n",
              "    }\n",
              "\n",
              "    .colab-df-convert {\n",
              "      background-color: #E8F0FE;\n",
              "      border: none;\n",
              "      border-radius: 50%;\n",
              "      cursor: pointer;\n",
              "      display: none;\n",
              "      fill: #1967D2;\n",
              "      height: 32px;\n",
              "      padding: 0 0 0 0;\n",
              "      width: 32px;\n",
              "    }\n",
              "\n",
              "    .colab-df-convert:hover {\n",
              "      background-color: #E2EBFA;\n",
              "      box-shadow: 0px 1px 2px rgba(60, 64, 67, 0.3), 0px 1px 3px 1px rgba(60, 64, 67, 0.15);\n",
              "      fill: #174EA6;\n",
              "    }\n",
              "\n",
              "    [theme=dark] .colab-df-convert {\n",
              "      background-color: #3B4455;\n",
              "      fill: #D2E3FC;\n",
              "    }\n",
              "\n",
              "    [theme=dark] .colab-df-convert:hover {\n",
              "      background-color: #434B5C;\n",
              "      box-shadow: 0px 1px 3px 1px rgba(0, 0, 0, 0.15);\n",
              "      filter: drop-shadow(0px 1px 2px rgba(0, 0, 0, 0.3));\n",
              "      fill: #FFFFFF;\n",
              "    }\n",
              "  </style>\n",
              "\n",
              "      <script>\n",
              "        const buttonEl =\n",
              "          document.querySelector('#df-fcf65453-a273-4560-acb4-61e8ec0052c3 button.colab-df-convert');\n",
              "        buttonEl.style.display =\n",
              "          google.colab.kernel.accessAllowed ? 'block' : 'none';\n",
              "\n",
              "        async function convertToInteractive(key) {\n",
              "          const element = document.querySelector('#df-fcf65453-a273-4560-acb4-61e8ec0052c3');\n",
              "          const dataTable =\n",
              "            await google.colab.kernel.invokeFunction('convertToInteractive',\n",
              "                                                     [key], {});\n",
              "          if (!dataTable) return;\n",
              "\n",
              "          const docLinkHtml = 'Like what you see? Visit the ' +\n",
              "            '<a target=\"_blank\" href=https://colab.research.google.com/notebooks/data_table.ipynb>data table notebook</a>'\n",
              "            + ' to learn more about interactive tables.';\n",
              "          element.innerHTML = '';\n",
              "          dataTable['output_type'] = 'display_data';\n",
              "          await google.colab.output.renderOutput(dataTable, element);\n",
              "          const docLink = document.createElement('div');\n",
              "          docLink.innerHTML = docLinkHtml;\n",
              "          element.appendChild(docLink);\n",
              "        }\n",
              "      </script>\n",
              "    </div>\n",
              "  </div>\n",
              "  "
            ]
          },
          "metadata": {},
          "execution_count": 78
        }
      ]
    },
    {
      "cell_type": "code",
      "source": [
        "# set(X_res.columns)-set(test_X.columns)"
      ],
      "metadata": {
        "id": "8XQ7khYVwaQW"
      },
      "execution_count": 79,
      "outputs": []
    },
    {
      "cell_type": "code",
      "source": [
        "# train_X"
      ],
      "metadata": {
        "id": "_6BmGj1dNvJC",
        "pycharm": {
          "name": "#%%\n"
        }
      },
      "execution_count": 80,
      "outputs": []
    },
    {
      "cell_type": "code",
      "source": [
        "sc = StandardScaler()\n",
        "train_X = sc.fit_transform(train_X)\n",
        "test_X = sc.transform(test_X)\n",
        "\n"
      ],
      "metadata": {
        "id": "EslSOArDCpOJ",
        "pycharm": {
          "name": "#%%\n"
        }
      },
      "execution_count": 150,
      "outputs": []
    },
    {
      "cell_type": "code",
      "source": [
        "pca = PCA(n_components=20)\n",
        "pca.fit(train_X)\n",
        "# print(()))"
      ],
      "metadata": {
        "id": "yPvtZSTpOiOr",
        "outputId": "3b4bc7a9-de83-4308-95aa-2c18b68fc502",
        "colab": {
          "base_uri": "https://localhost:8080/"
        },
        "pycharm": {
          "name": "#%%\n"
        }
      },
      "execution_count": 82,
      "outputs": [
        {
          "output_type": "execute_result",
          "data": {
            "text/plain": [
              "PCA(n_components=20)"
            ]
          },
          "metadata": {},
          "execution_count": 82
        }
      ]
    },
    {
      "cell_type": "code",
      "source": [
        "import matplotlib.pyplot as plt\n",
        "##SCREE PLOT\n",
        "plt.plot(np.linspace(1,21,20),pca.explained_variance_ratio_);"
      ],
      "metadata": {
        "id": "l0Iyzg7mPZSO",
        "outputId": "275d8e48-57d5-45b4-d478-1fba1c91d2db",
        "colab": {
          "base_uri": "https://localhost:8080/",
          "height": 265
        },
        "pycharm": {
          "name": "#%%\n"
        }
      },
      "execution_count": 83,
      "outputs": [
        {
          "output_type": "display_data",
          "data": {
            "text/plain": [
              "<Figure size 432x288 with 1 Axes>"
            ],
            "image/png": "[encoded data removed]"
          },
          "metadata": {
            "needs_background": "light"
          }
        }
      ]
    },
    {
      "cell_type": "code",
      "source": [
        "pca = PCA(n_components=5) #components based on the scree plot above\n",
        "\n",
        "pca_train_X = pca.fit_transform(train_X)\n",
        "\n",
        "plt.scatter(pca_train_X[:,0], train_y);"
      ],
      "metadata": {
        "id": "mraQ_KyURvY6",
        "outputId": "56cb99d5-04ca-4617-a851-734390489b9c",
        "colab": {
          "base_uri": "https://localhost:8080/",
          "height": 265
        },
        "pycharm": {
          "name": "#%%\n"
        }
      },
      "execution_count": 84,
      "outputs": [
        {
          "output_type": "display_data",
          "data": {
            "text/plain": [
              "<Figure size 432x288 with 1 Axes>"
            ],
            "image/png": "[encoded data removed]"
          },
          "metadata": {
            "needs_background": "light"
          }
        }
      ]
    },
    {
      "cell_type": "code",
      "source": [],
      "metadata": {
        "id": "a2mC9lfMevy7"
      },
      "execution_count": 84,
      "outputs": []
    },
    {
      "cell_type": "markdown",
      "source": [
        "based on the first PCA, it is clear that the data is not linear and we would have to bear that in mind with the choice of our models"
      ],
      "metadata": {
        "id": "V8__-brQSZ9s",
        "pycharm": {
          "name": "#%% md\n"
        }
      }
    },
    {
      "cell_type": "code",
      "source": [
        "pca_train_X.shape, train_y.shape"
      ],
      "metadata": {
        "id": "ipasXemXSCog",
        "outputId": "cc2ed4ea-7267-476c-872d-64c637240413",
        "colab": {
          "base_uri": "https://localhost:8080/"
        },
        "pycharm": {
          "name": "#%%\n"
        }
      },
      "execution_count": 85,
      "outputs": [
        {
          "output_type": "execute_result",
          "data": {
            "text/plain": [
              "((87958, 5), (87958,))"
            ]
          },
          "metadata": {},
          "execution_count": 85
        }
      ]
    },
    {
      "cell_type": "code",
      "source": [
        "pca = PCA(n_components=5) #components based on the scree plot above\n",
        "\n",
        "pca_train_X = pca.fit_transform(train_X)\n",
        "pca_test_X = pca.transform(test_X)\n"
      ],
      "metadata": {
        "id": "aMer3-bhOuhM",
        "pycharm": {
          "name": "#%%\n"
        }
      },
      "execution_count": 86,
      "outputs": []
    },
    {
      "cell_type": "code",
      "source": [
        "from sklearn.linear_model import LinearRegression, Ridge, Lasso\n",
        "from sklearn.dummy import DummyRegressor\n",
        "from sklearn.svm import SVR\n",
        "from sklearn.tree import DecisionTreeRegressor\n",
        "from sklearn.preprocessing import PolynomialFeatures\n",
        "\n",
        "from sklearn import metrics\n",
        "from sklearn.model_selection import cross_val_score\n",
        "from sklearn.model_selection import cross_validate\n"
      ],
      "metadata": {
        "id": "rDPvtLiPDodO",
        "pycharm": {
          "name": "#%%\n"
        }
      },
      "execution_count": 87,
      "outputs": []
    },
    {
      "cell_type": "code",
      "source": [
        "# train_X=pca_train_X\n",
        "# test_X=pca_test_X"
      ],
      "metadata": {
        "id": "pNGegwWhQvQZ",
        "pycharm": {
          "name": "#%%\n"
        }
      },
      "execution_count": 88,
      "outputs": []
    },
    {
      "cell_type": "code",
      "source": [
        "# data_train.sample(frac=0.2,replace=True)"
      ],
      "metadata": {
        "id": "Bsa46UbMJUaL"
      },
      "execution_count": 93,
      "outputs": []
    },
    {
      "cell_type": "code",
      "source": [
        "# poly = PolynomialFeatures(5)\n",
        "# x_poly_train = poly.fit_transform(train_X)\n",
        "# x_poly_test = poly.transform(test_X)\n",
        "\n",
        "# train_X = x_poly_train\n",
        "# test_X = x_poly_test ###uncomment 3 cells above for another test"
      ],
      "metadata": {
        "id": "aRyNs-xm3P3V"
      },
      "execution_count": 89,
      "outputs": []
    },
    {
      "cell_type": "code",
      "source": [
        "lr = LinearRegression(fit_intercept=False)\n",
        "llr = Lasso(alpha=0.1)\n",
        "rr = Ridge(alpha=1.0)\n",
        "dr = DummyRegressor(strategy=\"mean\")\n",
        "svr = SVR(kernel = 'linear')\n",
        "dtr = DecisionTreeRegressor(max_depth=10)\n",
        "\n",
        "lr.fit(train_X, train_y)\n",
        "llr.fit(train_X, train_y)\n",
        "rr.fit(train_X, train_y)\n",
        "dr.fit(train_X, train_y)\n",
        "# svr.fit(train_X, train_y)\n",
        "dtr.fit(train_X, train_y)"
      ],
      "metadata": {
        "id": "hgPnLd6CDp97",
        "pycharm": {
          "name": "#%%\n"
        },
        "outputId": "80187631-ef35-403f-fee1-ba39887dc2ae",
        "colab": {
          "base_uri": "https://localhost:8080/"
        }
      },
      "execution_count": 151,
      "outputs": [
        {
          "output_type": "execute_result",
          "data": {
            "text/plain": [
              "DecisionTreeRegressor(max_depth=10)"
            ]
          },
          "metadata": {},
          "execution_count": 151
        }
      ]
    },
    {
      "cell_type": "code",
      "source": [
        "from tensorflow.keras import Model\n",
        "from tensorflow.keras import Sequential\n",
        "from tensorflow.keras.optimizers import Adam\n",
        "from tensorflow.keras.layers import Dense, Dropout\n",
        "\n",
        "def build_sequential():\n",
        "  model = Sequential([\n",
        "    Dense(10, kernel_initializer='normal', activation='relu'),\n",
        "    Dropout(0.2),\n",
        "    Dense(20, kernel_initializer='normal', activation='relu'),\n",
        "    Dropout(0.2),\n",
        "    Dense(30, kernel_initializer='normal', activation='relu'),\n",
        "    Dropout(0.2),\n",
        "    Dense(60, kernel_initializer='normal', activation='relu'),\n",
        "    Dropout(0.1),\n",
        "    Dense(15, kernel_initializer='normal', activation='relu'),\n",
        "    Dense(1, kernel_initializer='normal', activation='linear')\n",
        "  ])\n",
        "  return model\n",
        "# build the model\n",
        "model = build_sequential()"
      ],
      "metadata": {
        "id": "wtCsf3D94pHA"
      },
      "execution_count": 153,
      "outputs": []
    },
    {
      "cell_type": "code",
      "source": [
        "model.compile(\n",
        "    loss=\"mean_absolute_error\", \n",
        "    optimizer=Adam(), \n",
        "    metrics=[\"mean_absolute_error\"]\n",
        ")"
      ],
      "metadata": {
        "id": "p0fAGKI55FQj"
      },
      "execution_count": 154,
      "outputs": []
    },
    {
      "cell_type": "code",
      "source": [
        "history = model.fit(\n",
        "    train_X, \n",
        "    train_y,\n",
        "    epochs=20, \n",
        "    batch_size=128,\n",
        "    validation_split=0.2\n",
        ")"
      ],
      "metadata": {
        "id": "PTLAqbUv5OU1",
        "outputId": "56841e71-01fb-46a4-f53c-bfb33ad6ffe2",
        "colab": {
          "base_uri": "https://localhost:8080/"
        }
      },
      "execution_count": 155,
      "outputs": [
        {
          "output_type": "stream",
          "name": "stdout",
          "text": [
            "Epoch 1/20\n",
            "550/550 [==============================] - 2s 3ms/step - loss: 4.0585 - mean_absolute_error: 4.0585 - val_loss: 5.7947 - val_mean_absolute_error: 5.7947\n",
            "Epoch 2/20\n",
            "550/550 [==============================] - 1s 3ms/step - loss: 3.2045 - mean_absolute_error: 3.2045 - val_loss: 5.5473 - val_mean_absolute_error: 5.5473\n",
            "Epoch 3/20\n",
            "550/550 [==============================] - 2s 3ms/step - loss: 3.0650 - mean_absolute_error: 3.0650 - val_loss: 5.0542 - val_mean_absolute_error: 5.0542\n",
            "Epoch 4/20\n",
            "550/550 [==============================] - 1s 3ms/step - loss: 2.9997 - mean_absolute_error: 2.9997 - val_loss: 5.4092 - val_mean_absolute_error: 5.4092\n",
            "Epoch 5/20\n",
            "550/550 [==============================] - 2s 3ms/step - loss: 2.9167 - mean_absolute_error: 2.9167 - val_loss: 5.2406 - val_mean_absolute_error: 5.2406\n",
            "Epoch 6/20\n",
            "550/550 [==============================] - 1s 3ms/step - loss: 2.9015 - mean_absolute_error: 2.9015 - val_loss: 5.3375 - val_mean_absolute_error: 5.3375\n",
            "Epoch 7/20\n",
            "550/550 [==============================] - 2s 3ms/step - loss: 2.8932 - mean_absolute_error: 2.8932 - val_loss: 5.2758 - val_mean_absolute_error: 5.2758\n",
            "Epoch 8/20\n",
            "550/550 [==============================] - 1s 3ms/step - loss: 2.8392 - mean_absolute_error: 2.8392 - val_loss: 5.1384 - val_mean_absolute_error: 5.1384\n",
            "Epoch 9/20\n",
            "550/550 [==============================] - 1s 3ms/step - loss: 2.8410 - mean_absolute_error: 2.8410 - val_loss: 5.1319 - val_mean_absolute_error: 5.1319\n",
            "Epoch 10/20\n",
            "550/550 [==============================] - 1s 3ms/step - loss: 2.8006 - mean_absolute_error: 2.8006 - val_loss: 4.9299 - val_mean_absolute_error: 4.9299\n",
            "Epoch 11/20\n",
            "550/550 [==============================] - 1s 3ms/step - loss: 2.7881 - mean_absolute_error: 2.7881 - val_loss: 5.4189 - val_mean_absolute_error: 5.4189\n",
            "Epoch 12/20\n",
            "550/550 [==============================] - 1s 3ms/step - loss: 2.7910 - mean_absolute_error: 2.7910 - val_loss: 4.8483 - val_mean_absolute_error: 4.8483\n",
            "Epoch 13/20\n",
            "550/550 [==============================] - 1s 3ms/step - loss: 2.7422 - mean_absolute_error: 2.7422 - val_loss: 4.8379 - val_mean_absolute_error: 4.8379\n",
            "Epoch 14/20\n",
            "550/550 [==============================] - 1s 3ms/step - loss: 2.7190 - mean_absolute_error: 2.7190 - val_loss: 5.0362 - val_mean_absolute_error: 5.0362\n",
            "Epoch 15/20\n",
            "550/550 [==============================] - 2s 3ms/step - loss: 2.7608 - mean_absolute_error: 2.7608 - val_loss: 4.7055 - val_mean_absolute_error: 4.7055\n",
            "Epoch 16/20\n",
            "550/550 [==============================] - 1s 3ms/step - loss: 2.7585 - mean_absolute_error: 2.7585 - val_loss: 5.1541 - val_mean_absolute_error: 5.1541\n",
            "Epoch 17/20\n",
            "550/550 [==============================] - 1s 3ms/step - loss: 2.7289 - mean_absolute_error: 2.7289 - val_loss: 4.6554 - val_mean_absolute_error: 4.6554\n",
            "Epoch 18/20\n",
            "550/550 [==============================] - 1s 3ms/step - loss: 2.7876 - mean_absolute_error: 2.7876 - val_loss: 5.1405 - val_mean_absolute_error: 5.1405\n",
            "Epoch 19/20\n",
            "550/550 [==============================] - 2s 3ms/step - loss: 2.7316 - mean_absolute_error: 2.7316 - val_loss: 5.1039 - val_mean_absolute_error: 5.1039\n",
            "Epoch 20/20\n",
            "550/550 [==============================] - 1s 3ms/step - loss: 2.7444 - mean_absolute_error: 2.7444 - val_loss: 4.9900 - val_mean_absolute_error: 4.9900\n"
          ]
        }
      ]
    },
    {
      "cell_type": "code",
      "source": [
        "def plot_history(history, type_err):\n",
        "  plt.plot(history.history[type_err])\n",
        "  plt.plot(history.history['val_'+type_err])\n",
        "  plt.xlabel(\"Epochs\")\n",
        "  plt.ylabel(type_err)\n",
        "  plt.legend([type_err, 'val_'+type_err])\n",
        "  plt.show()\n",
        "\n",
        "plot_history(history, 'mean_absolute_error')"
      ],
      "metadata": {
        "id": "HXgK6wIs5X2Z",
        "outputId": "91eb8a65-b1ce-400a-d1e9-cbe1aae5e1e4",
        "colab": {
          "base_uri": "https://localhost:8080/",
          "height": 279
        }
      },
      "execution_count": 156,
      "outputs": [
        {
          "output_type": "display_data",
          "data": {
            "text/plain": [
              "<Figure size 432x288 with 1 Axes>"
            ],
            "image/png": "[encoded data removed]"
          },
          "metadata": {
            "needs_background": "light"
          }
        }
      ]
    },
    {
      "cell_type": "code",
      "source": [
        "lr.score(train_X, train_y)\n",
        "# cross_val_score(dtr, train_X, train_y, cv=5)"
      ],
      "metadata": {
        "id": "yTWMTpu5FPwV",
        "outputId": "93f0c871-1b24-47aa-cc47-1cc8114c64f8",
        "colab": {
          "base_uri": "https://localhost:8080/"
        },
        "pycharm": {
          "name": "#%%\n"
        }
      },
      "execution_count": 157,
      "outputs": [
        {
          "output_type": "execute_result",
          "data": {
            "text/plain": [
              "-0.5429264216879273"
            ]
          },
          "metadata": {},
          "execution_count": 157
        }
      ]
    },
    {
      "cell_type": "code",
      "source": [
        "lr_pred = lr.predict(test_X)\n",
        "dr_pred = dr.predict(test_X)\n",
        "rr_pred = rr.predict(test_X)\n",
        "# svr_pred = svr.predict(test_X)\n",
        "dtr_pred = dtr.predict(test_X)\n",
        "llr_pred = llr.predict(test_X)\n",
        "nn_pred = model.predict(test_X)"
      ],
      "metadata": {
        "id": "optrqxHUEyKH",
        "pycharm": {
          "name": "#%%\n"
        }
      },
      "execution_count": 158,
      "outputs": []
    },
    {
      "cell_type": "code",
      "source": [
        "def ret_metrics(test_y, pred):\n",
        "\n",
        "  mae = metrics.mean_absolute_error(test_y, pred)\n",
        "  mse = metrics.mean_squared_error(test_y, pred)\n",
        "  rmse = np.sqrt(mse)\n",
        "\n",
        "  return(mae, mse, rmse)"
      ],
      "metadata": {
        "id": "N1OJ4OckIQ0T",
        "pycharm": {
          "name": "#%%\n"
        }
      },
      "execution_count": 159,
      "outputs": []
    },
    {
      "cell_type": "code",
      "source": [
        "print(f\"LR metrics for mae, mse, rmse are: {ret_metrics(test_y, lr_pred)}\")\n",
        "print(f\"LLR metrics for mae, mse, rmse are: {ret_metrics(test_y, llr_pred)}\")\n",
        "print(f\"DR metrics for mae, mse, rmse are: {ret_metrics(test_y, dr_pred)}\")\n",
        "print(f\"RR metrics for mae, mse, rmse are: {ret_metrics(test_y, rr_pred)}\")\n",
        "# print(f\"SVR metrics for mae, mse, rmse are: {ret_metrics(test_y, svr_pred)}\")\n",
        "print(f\"DTR metrics for mae, mse, rmse are: {ret_metrics(test_y, dtr_pred)}\")\n",
        "print(f\"NN metrics for mae, mse, rmse are: {ret_metrics(test_y, nn_pred)}\")\n"
      ],
      "metadata": {
        "id": "ZDDvGnRpE5Mz",
        "outputId": "3366fb24-9b7d-4484-8a70-b30777037f35",
        "colab": {
          "base_uri": "https://localhost:8080/"
        },
        "pycharm": {
          "name": "#%%\n"
        }
      },
      "execution_count": 160,
      "outputs": [
        {
          "output_type": "stream",
          "name": "stdout",
          "text": [
            "LR metrics for mae, mse, rmse are: (3.2770622403542027, 29.239656200763033, 5.407370544059565)\n",
            "LLR metrics for mae, mse, rmse are: (5.849788465227323, 37.32360078568383, 6.109304443689464)\n",
            "DR metrics for mae, mse, rmse are: (6.5283600924012255, 43.30980231317515, 6.581018334055539)\n",
            "RR metrics for mae, mse, rmse are: (4.5380580802463415, 30.029579213393657, 5.479925110199377)\n",
            "DTR metrics for mae, mse, rmse are: (3.2068711524073823, 24.048594314072172, 4.903936613994126)\n",
            "NN metrics for mae, mse, rmse are: (1.1459228873674712, 9.41691503737436, 3.0686992419222774)\n"
          ]
        }
      ]
    },
    {
      "cell_type": "code",
      "source": [
        "preds_df = pd.DataFrame({\"true\":test_y, \"lr\":lr_pred, \"dr\":dr_pred, \"rr\":rr_pred, \"svr\":-1, \"dtr\":dtr_pred, \"llr\":llr_pred, \"nn\": nn_pred[:,0]})"
      ],
      "metadata": {
        "id": "2jHy5LJXGt-z",
        "pycharm": {
          "name": "#%%\n"
        }
      },
      "execution_count": 161,
      "outputs": []
    },
    {
      "cell_type": "code",
      "source": [
        "preds_df"
      ],
      "metadata": {
        "id": "A784hHYPHV_6",
        "outputId": "00689bd7-ad5c-4a80-b254-bca89d24ddd3",
        "colab": {
          "base_uri": "https://localhost:8080/",
          "height": 419
        },
        "pycharm": {
          "name": "#%%\n"
        }
      },
      "execution_count": 162,
      "outputs": [
        {
          "output_type": "execute_result",
          "data": {
            "text/plain": [
              "           true        lr        dr        rr  svr       dtr       llr  \\\n",
              "4503   0.783847 -4.713959  6.507242  0.993412   -1 -0.057930  1.092039   \n",
              "4251  -0.237004 -4.694113  6.507242  2.002563   -1  3.336954  3.692670   \n",
              "45432 -0.216424 -3.799868  6.507242  2.529808   -1 -0.017896  4.952902   \n",
              "14495  3.040152 -5.136452  6.507242  1.440489   -1 -0.093706  5.670312   \n",
              "32005 -0.393690 -0.811090  6.507242  5.829602   -1  2.473384  6.337955   \n",
              "...         ...       ...       ...       ...  ...       ...       ...   \n",
              "19136  0.613332 -5.212486  6.507242  1.180350   -1  2.473384  5.692717   \n",
              "626   -0.203508 -4.458524  6.507242  2.804407   -1 -0.051843  7.080667   \n",
              "51113  2.659865 -6.118617  6.507242  1.150614   -1  5.019865  6.223894   \n",
              "32042 -0.399667 -2.637467  6.507242  3.840974   -1  3.336954  6.235729   \n",
              "15626  2.038431  2.137301  6.507242  9.043338   -1  6.267354  6.827111   \n",
              "\n",
              "             nn  \n",
              "4503  -0.196818  \n",
              "4251  -0.197186  \n",
              "45432 -0.196491  \n",
              "14495 -0.198637  \n",
              "32005 -0.097743  \n",
              "...         ...  \n",
              "19136 -0.197793  \n",
              "626   -0.195694  \n",
              "51113 -0.198830  \n",
              "32042 -0.190260  \n",
              "15626  3.552355  \n",
              "\n",
              "[11010 rows x 8 columns]"
            ],
            "text/html": [
              "\n",
              "  <div id=\"df-f4d5834c-35ea-4fde-a9d0-8316c46b136b\">\n",
              "    <div class=\"colab-df-container\">\n",
              "      <div>\n",
              "<style scoped>\n",
              "    .dataframe tbody tr th:only-of-type {\n",
              "        vertical-align: middle;\n",
              "    }\n",
              "\n",
              "    .dataframe tbody tr th {\n",
              "        vertical-align: top;\n",
              "    }\n",
              "\n",
              "    .dataframe thead th {\n",
              "        text-align: right;\n",
              "    }\n",
              "</style>\n",
              "<table border=\"1\" class=\"dataframe\">\n",
              "  <thead>\n",
              "    <tr style=\"text-align: right;\">\n",
              "      <th></th>\n",
              "      <th>true</th>\n",
              "      <th>lr</th>\n",
              "      <th>dr</th>\n",
              "      <th>rr</th>\n",
              "      <th>svr</th>\n",
              "      <th>dtr</th>\n",
              "      <th>llr</th>\n",
              "      <th>nn</th>\n",
              "    </tr>\n",
              "  </thead>\n",
              "  <tbody>\n",
              "    <tr>\n",
              "      <th>4503</th>\n",
              "      <td>0.783847</td>\n",
              "      <td>-4.713959</td>\n",
              "      <td>6.507242</td>\n",
              "      <td>0.993412</td>\n",
              "      <td>-1</td>\n",
              "      <td>-0.057930</td>\n",
              "      <td>1.092039</td>\n",
              "      <td>-0.196818</td>\n",
              "    </tr>\n",
              "    <tr>\n",
              "      <th>4251</th>\n",
              "      <td>-0.237004</td>\n",
              "      <td>-4.694113</td>\n",
              "      <td>6.507242</td>\n",
              "      <td>2.002563</td>\n",
              "      <td>-1</td>\n",
              "      <td>3.336954</td>\n",
              "      <td>3.692670</td>\n",
              "      <td>-0.197186</td>\n",
              "    </tr>\n",
              "    <tr>\n",
              "      <th>45432</th>\n",
              "      <td>-0.216424</td>\n",
              "      <td>-3.799868</td>\n",
              "      <td>6.507242</td>\n",
              "      <td>2.529808</td>\n",
              "      <td>-1</td>\n",
              "      <td>-0.017896</td>\n",
              "      <td>4.952902</td>\n",
              "      <td>-0.196491</td>\n",
              "    </tr>\n",
              "    <tr>\n",
              "      <th>14495</th>\n",
              "      <td>3.040152</td>\n",
              "      <td>-5.136452</td>\n",
              "      <td>6.507242</td>\n",
              "      <td>1.440489</td>\n",
              "      <td>-1</td>\n",
              "      <td>-0.093706</td>\n",
              "      <td>5.670312</td>\n",
              "      <td>-0.198637</td>\n",
              "    </tr>\n",
              "    <tr>\n",
              "      <th>32005</th>\n",
              "      <td>-0.393690</td>\n",
              "      <td>-0.811090</td>\n",
              "      <td>6.507242</td>\n",
              "      <td>5.829602</td>\n",
              "      <td>-1</td>\n",
              "      <td>2.473384</td>\n",
              "      <td>6.337955</td>\n",
              "      <td>-0.097743</td>\n",
              "    </tr>\n",
              "    <tr>\n",
              "      <th>...</th>\n",
              "      <td>...</td>\n",
              "      <td>...</td>\n",
              "      <td>...</td>\n",
              "      <td>...</td>\n",
              "      <td>...</td>\n",
              "      <td>...</td>\n",
              "      <td>...</td>\n",
              "      <td>...</td>\n",
              "    </tr>\n",
              "    <tr>\n",
              "      <th>19136</th>\n",
              "      <td>0.613332</td>\n",
              "      <td>-5.212486</td>\n",
              "      <td>6.507242</td>\n",
              "      <td>1.180350</td>\n",
              "      <td>-1</td>\n",
              "      <td>2.473384</td>\n",
              "      <td>5.692717</td>\n",
              "      <td>-0.197793</td>\n",
              "    </tr>\n",
              "    <tr>\n",
              "      <th>626</th>\n",
              "      <td>-0.203508</td>\n",
              "      <td>-4.458524</td>\n",
              "      <td>6.507242</td>\n",
              "      <td>2.804407</td>\n",
              "      <td>-1</td>\n",
              "      <td>-0.051843</td>\n",
              "      <td>7.080667</td>\n",
              "      <td>-0.195694</td>\n",
              "    </tr>\n",
              "    <tr>\n",
              "      <th>51113</th>\n",
              "      <td>2.659865</td>\n",
              "      <td>-6.118617</td>\n",
              "      <td>6.507242</td>\n",
              "      <td>1.150614</td>\n",
              "      <td>-1</td>\n",
              "      <td>5.019865</td>\n",
              "      <td>6.223894</td>\n",
              "      <td>-0.198830</td>\n",
              "    </tr>\n",
              "    <tr>\n",
              "      <th>32042</th>\n",
              "      <td>-0.399667</td>\n",
              "      <td>-2.637467</td>\n",
              "      <td>6.507242</td>\n",
              "      <td>3.840974</td>\n",
              "      <td>-1</td>\n",
              "      <td>3.336954</td>\n",
              "      <td>6.235729</td>\n",
              "      <td>-0.190260</td>\n",
              "    </tr>\n",
              "    <tr>\n",
              "      <th>15626</th>\n",
              "      <td>2.038431</td>\n",
              "      <td>2.137301</td>\n",
              "      <td>6.507242</td>\n",
              "      <td>9.043338</td>\n",
              "      <td>-1</td>\n",
              "      <td>6.267354</td>\n",
              "      <td>6.827111</td>\n",
              "      <td>3.552355</td>\n",
              "    </tr>\n",
              "  </tbody>\n",
              "</table>\n",
              "<p>11010 rows × 8 columns</p>\n",
              "</div>\n",
              "      <button class=\"colab-df-convert\" onclick=\"convertToInteractive('df-f4d5834c-35ea-4fde-a9d0-8316c46b136b')\"\n",
              "              title=\"Convert this dataframe to an interactive table.\"\n",
              "              style=\"display:none;\">\n",
              "        \n",
              "  <svg xmlns=\"http://www.w3.org/2000/svg\" height=\"24px\"viewBox=\"0 0 24 24\"\n",
              "       width=\"24px\">\n",
              "    <path d=\"M0 0h24v24H0V0z\" fill=\"none\"/>\n",
              "    <path d=\"M18.56 5.44l.94 2.06.94-2.06 2.06-.94-2.06-.94-.94-2.06-.94 2.06-2.06.94zm-11 1L8.5 8.5l.94-2.06 2.06-.94-2.06-.94L8.5 2.5l-.94 2.06-2.06.94zm10 10l.94 2.06.94-2.06 2.06-.94-2.06-.94-.94-2.06-.94 2.06-2.06.94z\"/><path d=\"M17.41 7.96l-1.37-1.37c-.4-.4-.92-.59-1.43-.59-.52 0-1.04.2-1.43.59L10.3 9.45l-7.72 7.72c-.78.78-.78 2.05 0 2.83L4 21.41c.39.39.9.59 1.41.59.51 0 1.02-.2 1.41-.59l7.78-7.78 2.81-2.81c.8-.78.8-2.07 0-2.86zM5.41 20L4 18.59l7.72-7.72 1.47 1.35L5.41 20z\"/>\n",
              "  </svg>\n",
              "      </button>\n",
              "      \n",
              "  <style>\n",
              "    .colab-df-container {\n",
              "      display:flex;\n",
              "      flex-wrap:wrap;\n",
              "      gap: 12px;\n",
              "    }\n",
              "\n",
              "    .colab-df-convert {\n",
              "      background-color: #E8F0FE;\n",
              "      border: none;\n",
              "      border-radius: 50%;\n",
              "      cursor: pointer;\n",
              "      display: none;\n",
              "      fill: #1967D2;\n",
              "      height: 32px;\n",
              "      padding: 0 0 0 0;\n",
              "      width: 32px;\n",
              "    }\n",
              "\n",
              "    .colab-df-convert:hover {\n",
              "      background-color: #E2EBFA;\n",
              "      box-shadow: 0px 1px 2px rgba(60, 64, 67, 0.3), 0px 1px 3px 1px rgba(60, 64, 67, 0.15);\n",
              "      fill: #174EA6;\n",
              "    }\n",
              "\n",
              "    [theme=dark] .colab-df-convert {\n",
              "      background-color: #3B4455;\n",
              "      fill: #D2E3FC;\n",
              "    }\n",
              "\n",
              "    [theme=dark] .colab-df-convert:hover {\n",
              "      background-color: #434B5C;\n",
              "      box-shadow: 0px 1px 3px 1px rgba(0, 0, 0, 0.15);\n",
              "      filter: drop-shadow(0px 1px 2px rgba(0, 0, 0, 0.3));\n",
              "      fill: #FFFFFF;\n",
              "    }\n",
              "  </style>\n",
              "\n",
              "      <script>\n",
              "        const buttonEl =\n",
              "          document.querySelector('#df-f4d5834c-35ea-4fde-a9d0-8316c46b136b button.colab-df-convert');\n",
              "        buttonEl.style.display =\n",
              "          google.colab.kernel.accessAllowed ? 'block' : 'none';\n",
              "\n",
              "        async function convertToInteractive(key) {\n",
              "          const element = document.querySelector('#df-f4d5834c-35ea-4fde-a9d0-8316c46b136b');\n",
              "          const dataTable =\n",
              "            await google.colab.kernel.invokeFunction('convertToInteractive',\n",
              "                                                     [key], {});\n",
              "          if (!dataTable) return;\n",
              "\n",
              "          const docLinkHtml = 'Like what you see? Visit the ' +\n",
              "            '<a target=\"_blank\" href=https://colab.research.google.com/notebooks/data_table.ipynb>data table notebook</a>'\n",
              "            + ' to learn more about interactive tables.';\n",
              "          element.innerHTML = '';\n",
              "          dataTable['output_type'] = 'display_data';\n",
              "          await google.colab.output.renderOutput(dataTable, element);\n",
              "          const docLink = document.createElement('div');\n",
              "          docLink.innerHTML = docLinkHtml;\n",
              "          element.appendChild(docLink);\n",
              "        }\n",
              "      </script>\n",
              "    </div>\n",
              "  </div>\n",
              "  "
            ]
          },
          "metadata": {},
          "execution_count": 162
        }
      ]
    },
    {
      "cell_type": "code",
      "source": [
        "lists = sorted(zip(*[test_y, dr_pred]))\n",
        "sorted_x_test, sorted_y_test_pred = list(zip(*lists))\n",
        "pca_n = 1\n",
        "\n",
        "\n",
        "# plt.plot(pca_train_X[:,pca_n],train_y,'.',color=\"darkblue\", alpha=0.3,label=\"Train data\")\n",
        "plt.plot(pca_test_X[:,pca_n],test_y,'.',color='darkgreen', alpha=0.3, label=\"Test data\")\n",
        "plt.ylabel('Relative Title Quality')\n",
        "plt.xlabel('PCA componenet')\n",
        "\n",
        "plt.plot(sorted_x_test,sorted_y_test_pred,color='#FD8E70',linewidth=3, label=\"Model preds\")\n",
        "\n",
        "plt.legend()\n",
        "plt.show()"
      ],
      "metadata": {
        "id": "soIFw58rHWCp",
        "pycharm": {
          "name": "#%%\n"
        },
        "outputId": "9db2056e-4f47-4a79-cbd8-8181bdcece4e",
        "colab": {
          "base_uri": "https://localhost:8080/",
          "height": 279
        }
      },
      "execution_count": 169,
      "outputs": [
        {
          "output_type": "display_data",
          "data": {
            "text/plain": [
              "<Figure size 432x288 with 1 Axes>"
            ],
            "image/png": "[encoded data removed]"
          },
          "metadata": {
            "needs_background": "light"
          }
        }
      ]
    },
    {
      "cell_type": "code",
      "source": [],
      "metadata": {
        "id": "_cQKF_YYHWQu",
        "pycharm": {
          "name": "#%%\n"
        }
      },
      "execution_count": null,
      "outputs": []
    },
    {
      "cell_type": "markdown",
      "source": [],
      "metadata": {
        "id": "uMxSEO9HB9o8",
        "pycharm": {
          "name": "#%% md\n"
        }
      }
    }
  ],
  "metadata": {
    "colab": {
      "provenance": [],
      "include_colab_link": true
    },
    "kernelspec": {
      "display_name": "Python 3.10.4 ('dataenv')",
      "language": "python",
      "name": "python3"
    },
    "language_info": {
      "name": "python",
      "version": "3.10.4"
    },
    "vscode": {
      "interpreter": {
        "hash": "467f60c46b88ea196e8e4e51716c4f14b05141d893e1660e0038b81da854c476"
      }
    }
  },
  "nbformat": 4,
  "nbformat_minor": 0
}